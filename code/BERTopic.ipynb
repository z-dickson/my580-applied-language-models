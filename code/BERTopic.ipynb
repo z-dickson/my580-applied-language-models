{
 "cells": [
  {
   "cell_type": "markdown",
   "metadata": {},
   "source": [
    "# Topic modeling with Bertopic"
   ]
  },
  {
   "cell_type": "code",
   "execution_count": 16,
   "metadata": {},
   "outputs": [
    {
     "name": "stdout",
     "output_type": "stream",
     "text": [
      "Requirement already satisfied: bertopic in /home/zach/anaconda3/envs/bertopic/lib/python3.11/site-packages (0.16.4)\n",
      "Requirement already satisfied: pandas in /home/zach/anaconda3/envs/bertopic/lib/python3.11/site-packages (2.2.3)\n",
      "Requirement already satisfied: numpy in /home/zach/anaconda3/envs/bertopic/lib/python3.11/site-packages (2.0.1)\n",
      "Requirement already satisfied: matplotlib in /home/zach/anaconda3/envs/bertopic/lib/python3.11/site-packages (3.10.0)\n",
      "Requirement already satisfied: plotly in /home/zach/anaconda3/envs/bertopic/lib/python3.11/site-packages (5.24.1)\n",
      "Requirement already satisfied: nbformat in /home/zach/anaconda3/envs/bertopic/lib/python3.11/site-packages (5.10.4)\n",
      "Requirement already satisfied: ipywidgets in /home/zach/anaconda3/envs/bertopic/lib/python3.11/site-packages (8.1.5)\n",
      "Requirement already satisfied: openpyxl in /home/zach/anaconda3/envs/bertopic/lib/python3.11/site-packages (3.1.5)\n",
      "Requirement already satisfied: hdbscan>=0.8.29 in /home/zach/anaconda3/envs/bertopic/lib/python3.11/site-packages (from bertopic) (0.8.40)\n",
      "Requirement already satisfied: scikit-learn>=0.22.2.post1 in /home/zach/anaconda3/envs/bertopic/lib/python3.11/site-packages (from bertopic) (1.6.1)\n",
      "Requirement already satisfied: sentence-transformers>=0.4.1 in /home/zach/anaconda3/envs/bertopic/lib/python3.11/site-packages (from bertopic) (3.4.0)\n",
      "Requirement already satisfied: tqdm>=4.41.1 in /home/zach/anaconda3/envs/bertopic/lib/python3.11/site-packages (from bertopic) (4.67.1)\n",
      "Requirement already satisfied: umap-learn>=0.5.0 in /home/zach/anaconda3/envs/bertopic/lib/python3.11/site-packages (from bertopic) (0.5.7)\n",
      "Requirement already satisfied: python-dateutil>=2.8.2 in /home/zach/anaconda3/envs/bertopic/lib/python3.11/site-packages (from pandas) (2.9.0.post0)\n",
      "Requirement already satisfied: pytz>=2020.1 in /home/zach/anaconda3/envs/bertopic/lib/python3.11/site-packages (from pandas) (2024.1)\n",
      "Requirement already satisfied: tzdata>=2022.7 in /home/zach/anaconda3/envs/bertopic/lib/python3.11/site-packages (from pandas) (2023.3)\n",
      "Requirement already satisfied: contourpy>=1.0.1 in /home/zach/anaconda3/envs/bertopic/lib/python3.11/site-packages (from matplotlib) (1.3.1)\n",
      "Requirement already satisfied: cycler>=0.10 in /home/zach/anaconda3/envs/bertopic/lib/python3.11/site-packages (from matplotlib) (0.12.1)\n",
      "Requirement already satisfied: fonttools>=4.22.0 in /home/zach/anaconda3/envs/bertopic/lib/python3.11/site-packages (from matplotlib) (4.55.6)\n",
      "Requirement already satisfied: kiwisolver>=1.3.1 in /home/zach/anaconda3/envs/bertopic/lib/python3.11/site-packages (from matplotlib) (1.4.8)\n",
      "Requirement already satisfied: packaging>=20.0 in /home/zach/anaconda3/envs/bertopic/lib/python3.11/site-packages (from matplotlib) (24.2)\n",
      "Requirement already satisfied: pillow>=8 in /home/zach/anaconda3/envs/bertopic/lib/python3.11/site-packages (from matplotlib) (11.1.0)\n",
      "Requirement already satisfied: pyparsing>=2.3.1 in /home/zach/anaconda3/envs/bertopic/lib/python3.11/site-packages (from matplotlib) (3.2.1)\n",
      "Requirement already satisfied: tenacity>=6.2.0 in /home/zach/anaconda3/envs/bertopic/lib/python3.11/site-packages (from plotly) (9.0.0)\n",
      "Requirement already satisfied: fastjsonschema>=2.15 in /home/zach/anaconda3/envs/bertopic/lib/python3.11/site-packages (from nbformat) (2.21.1)\n",
      "Requirement already satisfied: jsonschema>=2.6 in /home/zach/anaconda3/envs/bertopic/lib/python3.11/site-packages (from nbformat) (4.23.0)\n",
      "Requirement already satisfied: jupyter-core!=5.0.*,>=4.12 in /home/zach/anaconda3/envs/bertopic/lib/python3.11/site-packages (from nbformat) (5.7.2)\n",
      "Requirement already satisfied: traitlets>=5.1 in /home/zach/anaconda3/envs/bertopic/lib/python3.11/site-packages (from nbformat) (5.14.3)\n",
      "Requirement already satisfied: comm>=0.1.3 in /home/zach/anaconda3/envs/bertopic/lib/python3.11/site-packages (from ipywidgets) (0.2.2)\n",
      "Requirement already satisfied: ipython>=6.1.0 in /home/zach/anaconda3/envs/bertopic/lib/python3.11/site-packages (from ipywidgets) (8.31.0)\n",
      "Requirement already satisfied: widgetsnbextension~=4.0.12 in /home/zach/anaconda3/envs/bertopic/lib/python3.11/site-packages (from ipywidgets) (4.0.13)\n",
      "Requirement already satisfied: jupyterlab-widgets~=3.0.12 in /home/zach/anaconda3/envs/bertopic/lib/python3.11/site-packages (from ipywidgets) (3.0.13)\n",
      "Requirement already satisfied: et-xmlfile in /home/zach/anaconda3/envs/bertopic/lib/python3.11/site-packages (from openpyxl) (2.0.0)\n",
      "Requirement already satisfied: scipy>=1.0 in /home/zach/anaconda3/envs/bertopic/lib/python3.11/site-packages (from hdbscan>=0.8.29->bertopic) (1.15.1)\n",
      "Requirement already satisfied: joblib>=1.0 in /home/zach/anaconda3/envs/bertopic/lib/python3.11/site-packages (from hdbscan>=0.8.29->bertopic) (1.4.2)\n",
      "Requirement already satisfied: decorator in /home/zach/anaconda3/envs/bertopic/lib/python3.11/site-packages (from ipython>=6.1.0->ipywidgets) (5.1.1)\n",
      "Requirement already satisfied: jedi>=0.16 in /home/zach/anaconda3/envs/bertopic/lib/python3.11/site-packages (from ipython>=6.1.0->ipywidgets) (0.19.2)\n",
      "Requirement already satisfied: matplotlib-inline in /home/zach/anaconda3/envs/bertopic/lib/python3.11/site-packages (from ipython>=6.1.0->ipywidgets) (0.1.7)\n",
      "Requirement already satisfied: pexpect>4.3 in /home/zach/anaconda3/envs/bertopic/lib/python3.11/site-packages (from ipython>=6.1.0->ipywidgets) (4.9.0)\n",
      "Requirement already satisfied: prompt_toolkit<3.1.0,>=3.0.41 in /home/zach/anaconda3/envs/bertopic/lib/python3.11/site-packages (from ipython>=6.1.0->ipywidgets) (3.0.50)\n",
      "Requirement already satisfied: pygments>=2.4.0 in /home/zach/anaconda3/envs/bertopic/lib/python3.11/site-packages (from ipython>=6.1.0->ipywidgets) (2.19.1)\n",
      "Requirement already satisfied: stack_data in /home/zach/anaconda3/envs/bertopic/lib/python3.11/site-packages (from ipython>=6.1.0->ipywidgets) (0.6.3)\n",
      "Requirement already satisfied: typing_extensions>=4.6 in /home/zach/anaconda3/envs/bertopic/lib/python3.11/site-packages (from ipython>=6.1.0->ipywidgets) (4.12.2)\n",
      "Requirement already satisfied: attrs>=22.2.0 in /home/zach/anaconda3/envs/bertopic/lib/python3.11/site-packages (from jsonschema>=2.6->nbformat) (25.1.0)\n",
      "Requirement already satisfied: jsonschema-specifications>=2023.03.6 in /home/zach/anaconda3/envs/bertopic/lib/python3.11/site-packages (from jsonschema>=2.6->nbformat) (2024.10.1)\n",
      "Requirement already satisfied: referencing>=0.28.4 in /home/zach/anaconda3/envs/bertopic/lib/python3.11/site-packages (from jsonschema>=2.6->nbformat) (0.36.2)\n",
      "Requirement already satisfied: rpds-py>=0.7.1 in /home/zach/anaconda3/envs/bertopic/lib/python3.11/site-packages (from jsonschema>=2.6->nbformat) (0.22.3)\n",
      "Requirement already satisfied: platformdirs>=2.5 in /home/zach/anaconda3/envs/bertopic/lib/python3.11/site-packages (from jupyter-core!=5.0.*,>=4.12->nbformat) (4.3.6)\n",
      "Requirement already satisfied: six>=1.5 in /home/zach/anaconda3/envs/bertopic/lib/python3.11/site-packages (from python-dateutil>=2.8.2->pandas) (1.16.0)\n",
      "Requirement already satisfied: threadpoolctl>=3.1.0 in /home/zach/anaconda3/envs/bertopic/lib/python3.11/site-packages (from scikit-learn>=0.22.2.post1->bertopic) (3.5.0)\n",
      "Requirement already satisfied: transformers<5.0.0,>=4.41.0 in /home/zach/anaconda3/envs/bertopic/lib/python3.11/site-packages (from sentence-transformers>=0.4.1->bertopic) (4.48.1)\n",
      "Requirement already satisfied: torch>=1.11.0 in /home/zach/anaconda3/envs/bertopic/lib/python3.11/site-packages (from sentence-transformers>=0.4.1->bertopic) (2.5.1)\n",
      "Requirement already satisfied: huggingface-hub>=0.20.0 in /home/zach/anaconda3/envs/bertopic/lib/python3.11/site-packages (from sentence-transformers>=0.4.1->bertopic) (0.27.1)\n",
      "Requirement already satisfied: numba>=0.51.2 in /home/zach/anaconda3/envs/bertopic/lib/python3.11/site-packages (from umap-learn>=0.5.0->bertopic) (0.61.0)\n",
      "Requirement already satisfied: pynndescent>=0.5 in /home/zach/anaconda3/envs/bertopic/lib/python3.11/site-packages (from umap-learn>=0.5.0->bertopic) (0.5.13)\n",
      "Requirement already satisfied: filelock in /home/zach/anaconda3/envs/bertopic/lib/python3.11/site-packages (from huggingface-hub>=0.20.0->sentence-transformers>=0.4.1->bertopic) (3.17.0)\n",
      "Requirement already satisfied: fsspec>=2023.5.0 in /home/zach/anaconda3/envs/bertopic/lib/python3.11/site-packages (from huggingface-hub>=0.20.0->sentence-transformers>=0.4.1->bertopic) (2024.12.0)\n",
      "Requirement already satisfied: pyyaml>=5.1 in /home/zach/anaconda3/envs/bertopic/lib/python3.11/site-packages (from huggingface-hub>=0.20.0->sentence-transformers>=0.4.1->bertopic) (6.0.2)\n",
      "Requirement already satisfied: requests in /home/zach/anaconda3/envs/bertopic/lib/python3.11/site-packages (from huggingface-hub>=0.20.0->sentence-transformers>=0.4.1->bertopic) (2.32.3)\n",
      "Requirement already satisfied: parso<0.9.0,>=0.8.4 in /home/zach/anaconda3/envs/bertopic/lib/python3.11/site-packages (from jedi>=0.16->ipython>=6.1.0->ipywidgets) (0.8.4)\n",
      "Requirement already satisfied: llvmlite<0.45,>=0.44.0dev0 in /home/zach/anaconda3/envs/bertopic/lib/python3.11/site-packages (from numba>=0.51.2->umap-learn>=0.5.0->bertopic) (0.44.0)\n",
      "Requirement already satisfied: ptyprocess>=0.5 in /home/zach/anaconda3/envs/bertopic/lib/python3.11/site-packages (from pexpect>4.3->ipython>=6.1.0->ipywidgets) (0.7.0)\n",
      "Requirement already satisfied: wcwidth in /home/zach/anaconda3/envs/bertopic/lib/python3.11/site-packages (from prompt_toolkit<3.1.0,>=3.0.41->ipython>=6.1.0->ipywidgets) (0.2.13)\n",
      "Requirement already satisfied: networkx in /home/zach/anaconda3/envs/bertopic/lib/python3.11/site-packages (from torch>=1.11.0->sentence-transformers>=0.4.1->bertopic) (3.4.2)\n",
      "Requirement already satisfied: jinja2 in /home/zach/anaconda3/envs/bertopic/lib/python3.11/site-packages (from torch>=1.11.0->sentence-transformers>=0.4.1->bertopic) (3.1.5)\n",
      "Requirement already satisfied: nvidia-cuda-nvrtc-cu12==12.4.127 in /home/zach/anaconda3/envs/bertopic/lib/python3.11/site-packages (from torch>=1.11.0->sentence-transformers>=0.4.1->bertopic) (12.4.127)\n",
      "Requirement already satisfied: nvidia-cuda-runtime-cu12==12.4.127 in /home/zach/anaconda3/envs/bertopic/lib/python3.11/site-packages (from torch>=1.11.0->sentence-transformers>=0.4.1->bertopic) (12.4.127)\n",
      "Requirement already satisfied: nvidia-cuda-cupti-cu12==12.4.127 in /home/zach/anaconda3/envs/bertopic/lib/python3.11/site-packages (from torch>=1.11.0->sentence-transformers>=0.4.1->bertopic) (12.4.127)\n",
      "Requirement already satisfied: nvidia-cudnn-cu12==9.1.0.70 in /home/zach/anaconda3/envs/bertopic/lib/python3.11/site-packages (from torch>=1.11.0->sentence-transformers>=0.4.1->bertopic) (9.1.0.70)\n",
      "Requirement already satisfied: nvidia-cublas-cu12==12.4.5.8 in /home/zach/anaconda3/envs/bertopic/lib/python3.11/site-packages (from torch>=1.11.0->sentence-transformers>=0.4.1->bertopic) (12.4.5.8)\n",
      "Requirement already satisfied: nvidia-cufft-cu12==11.2.1.3 in /home/zach/anaconda3/envs/bertopic/lib/python3.11/site-packages (from torch>=1.11.0->sentence-transformers>=0.4.1->bertopic) (11.2.1.3)\n",
      "Requirement already satisfied: nvidia-curand-cu12==10.3.5.147 in /home/zach/anaconda3/envs/bertopic/lib/python3.11/site-packages (from torch>=1.11.0->sentence-transformers>=0.4.1->bertopic) (10.3.5.147)\n",
      "Requirement already satisfied: nvidia-cusolver-cu12==11.6.1.9 in /home/zach/anaconda3/envs/bertopic/lib/python3.11/site-packages (from torch>=1.11.0->sentence-transformers>=0.4.1->bertopic) (11.6.1.9)\n",
      "Requirement already satisfied: nvidia-cusparse-cu12==12.3.1.170 in /home/zach/anaconda3/envs/bertopic/lib/python3.11/site-packages (from torch>=1.11.0->sentence-transformers>=0.4.1->bertopic) (12.3.1.170)\n",
      "Requirement already satisfied: nvidia-nccl-cu12==2.21.5 in /home/zach/anaconda3/envs/bertopic/lib/python3.11/site-packages (from torch>=1.11.0->sentence-transformers>=0.4.1->bertopic) (2.21.5)\n",
      "Requirement already satisfied: nvidia-nvtx-cu12==12.4.127 in /home/zach/anaconda3/envs/bertopic/lib/python3.11/site-packages (from torch>=1.11.0->sentence-transformers>=0.4.1->bertopic) (12.4.127)\n",
      "Requirement already satisfied: nvidia-nvjitlink-cu12==12.4.127 in /home/zach/anaconda3/envs/bertopic/lib/python3.11/site-packages (from torch>=1.11.0->sentence-transformers>=0.4.1->bertopic) (12.4.127)\n",
      "Requirement already satisfied: triton==3.1.0 in /home/zach/anaconda3/envs/bertopic/lib/python3.11/site-packages (from torch>=1.11.0->sentence-transformers>=0.4.1->bertopic) (3.1.0)\n",
      "Requirement already satisfied: sympy==1.13.1 in /home/zach/anaconda3/envs/bertopic/lib/python3.11/site-packages (from torch>=1.11.0->sentence-transformers>=0.4.1->bertopic) (1.13.1)\n",
      "Requirement already satisfied: mpmath<1.4,>=1.1.0 in /home/zach/anaconda3/envs/bertopic/lib/python3.11/site-packages (from sympy==1.13.1->torch>=1.11.0->sentence-transformers>=0.4.1->bertopic) (1.3.0)\n",
      "Requirement already satisfied: regex!=2019.12.17 in /home/zach/anaconda3/envs/bertopic/lib/python3.11/site-packages (from transformers<5.0.0,>=4.41.0->sentence-transformers>=0.4.1->bertopic) (2024.11.6)\n",
      "Requirement already satisfied: tokenizers<0.22,>=0.21 in /home/zach/anaconda3/envs/bertopic/lib/python3.11/site-packages (from transformers<5.0.0,>=4.41.0->sentence-transformers>=0.4.1->bertopic) (0.21.0)\n",
      "Requirement already satisfied: safetensors>=0.4.1 in /home/zach/anaconda3/envs/bertopic/lib/python3.11/site-packages (from transformers<5.0.0,>=4.41.0->sentence-transformers>=0.4.1->bertopic) (0.5.2)\n",
      "Requirement already satisfied: executing>=1.2.0 in /home/zach/anaconda3/envs/bertopic/lib/python3.11/site-packages (from stack_data->ipython>=6.1.0->ipywidgets) (2.1.0)\n",
      "Requirement already satisfied: asttokens>=2.1.0 in /home/zach/anaconda3/envs/bertopic/lib/python3.11/site-packages (from stack_data->ipython>=6.1.0->ipywidgets) (3.0.0)\n",
      "Requirement already satisfied: pure_eval in /home/zach/anaconda3/envs/bertopic/lib/python3.11/site-packages (from stack_data->ipython>=6.1.0->ipywidgets) (0.2.3)\n",
      "Requirement already satisfied: MarkupSafe>=2.0 in /home/zach/anaconda3/envs/bertopic/lib/python3.11/site-packages (from jinja2->torch>=1.11.0->sentence-transformers>=0.4.1->bertopic) (3.0.2)\n",
      "Requirement already satisfied: charset-normalizer<4,>=2 in /home/zach/anaconda3/envs/bertopic/lib/python3.11/site-packages (from requests->huggingface-hub>=0.20.0->sentence-transformers>=0.4.1->bertopic) (3.4.1)\n",
      "Requirement already satisfied: idna<4,>=2.5 in /home/zach/anaconda3/envs/bertopic/lib/python3.11/site-packages (from requests->huggingface-hub>=0.20.0->sentence-transformers>=0.4.1->bertopic) (3.10)\n",
      "Requirement already satisfied: urllib3<3,>=1.21.1 in /home/zach/anaconda3/envs/bertopic/lib/python3.11/site-packages (from requests->huggingface-hub>=0.20.0->sentence-transformers>=0.4.1->bertopic) (2.3.0)\n",
      "Requirement already satisfied: certifi>=2017.4.17 in /home/zach/anaconda3/envs/bertopic/lib/python3.11/site-packages (from requests->huggingface-hub>=0.20.0->sentence-transformers>=0.4.1->bertopic) (2024.12.14)\n",
      "Note: you may need to restart the kernel to use updated packages.\n"
     ]
    }
   ],
   "source": [
    "pip install bertopic pandas numpy matplotlib plotly nbformat ipywidgets openpyxl nltk"
   ]
  },
  {
   "cell_type": "markdown",
   "metadata": {},
   "source": [
    "# Start \n",
    "\n",
    "In this tutorial, we will use the [`Bertopic`](https://maartengr.github.io/BERTopic/getting_started/best_practices/best_practices.html) library to perform topic modeling on legislative text.\n",
    "\n",
    "\n",
    "## Data\n",
    "\n",
    "We will use a dataset of Donald Trump's tweets from 2009 to 2021. This dataset is available on [Kaggle](https://www.kaggle.com/datasets/austinreese/trump-tweets) and contains 43,000 tweets sent by Donald Trump. \n",
    "\n",
    "# Data Preprocessing\n",
    "\n",
    "Social media messages are a common medium for applied computational methods and machine learning. However, they are often noisy and contain a lot of irrelevant information. In this tutorial, our aim is to use the `Bertopic` library to perform topic modeling on the tweets, but we first need to preprocess the data to remove any irrelevant information.\n",
    "\n",
    "\n",
    "## What is topic modeling?\n",
    "\n",
    "Topic modeling is a type of statistical model that is used to discover the abstract topics that occur in a collection of documents. It is an unsupervised machine learning technique that can be used to identify the main themes or topics in a large collection of text documents. We will use the `Bertopic` library, which relies on the BERT language model to perform topic modeling.\n",
    "\n",
    "We expect that the tweets can be grouped into topics that correspond to the different areas of focus. Moreover, the data have a temporal dimension, which we will use to create dynamic topic models. While we will be focusing on the tweets of Donald Trump, the techniques we will use can be applied to any text data."
   ]
  },
  {
   "cell_type": "code",
   "execution_count": 2,
   "metadata": {},
   "outputs": [],
   "source": [
    "import pandas as pd \n",
    "import numpy as np \n",
    "from bertopic import BERTopic"
   ]
  },
  {
   "cell_type": "code",
   "execution_count": 126,
   "metadata": {},
   "outputs": [
    {
     "data": {
      "text/html": [
       "<div>\n",
       "<style scoped>\n",
       "    .dataframe tbody tr th:only-of-type {\n",
       "        vertical-align: middle;\n",
       "    }\n",
       "\n",
       "    .dataframe tbody tr th {\n",
       "        vertical-align: top;\n",
       "    }\n",
       "\n",
       "    .dataframe thead th {\n",
       "        text-align: right;\n",
       "    }\n",
       "</style>\n",
       "<table border=\"1\" class=\"dataframe\">\n",
       "  <thead>\n",
       "    <tr style=\"text-align: right;\">\n",
       "      <th></th>\n",
       "      <th>id</th>\n",
       "      <th>link</th>\n",
       "      <th>content</th>\n",
       "      <th>date</th>\n",
       "      <th>retweets</th>\n",
       "      <th>favorites</th>\n",
       "      <th>mentions</th>\n",
       "      <th>hashtags</th>\n",
       "    </tr>\n",
       "  </thead>\n",
       "  <tbody>\n",
       "    <tr>\n",
       "      <th>0</th>\n",
       "      <td>1698308935</td>\n",
       "      <td>https://twitter.com/realDonaldTrump/status/169...</td>\n",
       "      <td>Be sure to tune in and watch Donald Trump on L...</td>\n",
       "      <td>2009-05-04 13:54:25</td>\n",
       "      <td>510</td>\n",
       "      <td>917</td>\n",
       "      <td>NaN</td>\n",
       "      <td>NaN</td>\n",
       "    </tr>\n",
       "    <tr>\n",
       "      <th>1</th>\n",
       "      <td>1701461182</td>\n",
       "      <td>https://twitter.com/realDonaldTrump/status/170...</td>\n",
       "      <td>Donald Trump will be appearing on The View tom...</td>\n",
       "      <td>2009-05-04 20:00:10</td>\n",
       "      <td>34</td>\n",
       "      <td>267</td>\n",
       "      <td>NaN</td>\n",
       "      <td>NaN</td>\n",
       "    </tr>\n",
       "    <tr>\n",
       "      <th>2</th>\n",
       "      <td>1737479987</td>\n",
       "      <td>https://twitter.com/realDonaldTrump/status/173...</td>\n",
       "      <td>Donald Trump reads Top Ten Financial Tips on L...</td>\n",
       "      <td>2009-05-08 08:38:08</td>\n",
       "      <td>13</td>\n",
       "      <td>19</td>\n",
       "      <td>NaN</td>\n",
       "      <td>NaN</td>\n",
       "    </tr>\n",
       "    <tr>\n",
       "      <th>3</th>\n",
       "      <td>1741160716</td>\n",
       "      <td>https://twitter.com/realDonaldTrump/status/174...</td>\n",
       "      <td>New Blog Post: Celebrity Apprentice Finale and...</td>\n",
       "      <td>2009-05-08 15:40:15</td>\n",
       "      <td>11</td>\n",
       "      <td>26</td>\n",
       "      <td>NaN</td>\n",
       "      <td>NaN</td>\n",
       "    </tr>\n",
       "    <tr>\n",
       "      <th>4</th>\n",
       "      <td>1773561338</td>\n",
       "      <td>https://twitter.com/realDonaldTrump/status/177...</td>\n",
       "      <td>\"My persona will never be that of a wallflower...</td>\n",
       "      <td>2009-05-12 09:07:28</td>\n",
       "      <td>1375</td>\n",
       "      <td>1945</td>\n",
       "      <td>NaN</td>\n",
       "      <td>NaN</td>\n",
       "    </tr>\n",
       "    <tr>\n",
       "      <th>...</th>\n",
       "      <td>...</td>\n",
       "      <td>...</td>\n",
       "      <td>...</td>\n",
       "      <td>...</td>\n",
       "      <td>...</td>\n",
       "      <td>...</td>\n",
       "      <td>...</td>\n",
       "      <td>...</td>\n",
       "    </tr>\n",
       "    <tr>\n",
       "      <th>43347</th>\n",
       "      <td>1273405198698975232</td>\n",
       "      <td>https://twitter.com/realDonaldTrump/status/127...</td>\n",
       "      <td>Joe Biden was a TOTAL FAILURE in Government. H...</td>\n",
       "      <td>2020-06-17 19:00:32</td>\n",
       "      <td>23402</td>\n",
       "      <td>116377</td>\n",
       "      <td>NaN</td>\n",
       "      <td>NaN</td>\n",
       "    </tr>\n",
       "    <tr>\n",
       "      <th>43348</th>\n",
       "      <td>1273408026968457216</td>\n",
       "      <td>https://twitter.com/realDonaldTrump/status/127...</td>\n",
       "      <td>Will be interviewed on @ seanhannity tonight a...</td>\n",
       "      <td>2020-06-17 19:11:47</td>\n",
       "      <td>11810</td>\n",
       "      <td>56659</td>\n",
       "      <td>@seanhannity</td>\n",
       "      <td>NaN</td>\n",
       "    </tr>\n",
       "    <tr>\n",
       "      <th>43349</th>\n",
       "      <td>1273442195161387008</td>\n",
       "      <td>https://twitter.com/realDonaldTrump/status/127...</td>\n",
       "      <td>pic.twitter.com/3lm1spbU8X</td>\n",
       "      <td>2020-06-17 21:27:33</td>\n",
       "      <td>4959</td>\n",
       "      <td>19344</td>\n",
       "      <td>NaN</td>\n",
       "      <td>NaN</td>\n",
       "    </tr>\n",
       "    <tr>\n",
       "      <th>43350</th>\n",
       "      <td>1273442469066276864</td>\n",
       "      <td>https://twitter.com/realDonaldTrump/status/127...</td>\n",
       "      <td>pic.twitter.com/vpCE5MadUz</td>\n",
       "      <td>2020-06-17 21:28:38</td>\n",
       "      <td>4627</td>\n",
       "      <td>17022</td>\n",
       "      <td>NaN</td>\n",
       "      <td>NaN</td>\n",
       "    </tr>\n",
       "    <tr>\n",
       "      <th>43351</th>\n",
       "      <td>1273442528411385858</td>\n",
       "      <td>https://twitter.com/realDonaldTrump/status/127...</td>\n",
       "      <td>pic.twitter.com/VLlc0BHW41</td>\n",
       "      <td>2020-06-17 21:28:52</td>\n",
       "      <td>3951</td>\n",
       "      <td>14344</td>\n",
       "      <td>NaN</td>\n",
       "      <td>NaN</td>\n",
       "    </tr>\n",
       "  </tbody>\n",
       "</table>\n",
       "<p>43352 rows × 8 columns</p>\n",
       "</div>"
      ],
      "text/plain": [
       "                        id                                               link  \\\n",
       "0               1698308935  https://twitter.com/realDonaldTrump/status/169...   \n",
       "1               1701461182  https://twitter.com/realDonaldTrump/status/170...   \n",
       "2               1737479987  https://twitter.com/realDonaldTrump/status/173...   \n",
       "3               1741160716  https://twitter.com/realDonaldTrump/status/174...   \n",
       "4               1773561338  https://twitter.com/realDonaldTrump/status/177...   \n",
       "...                    ...                                                ...   \n",
       "43347  1273405198698975232  https://twitter.com/realDonaldTrump/status/127...   \n",
       "43348  1273408026968457216  https://twitter.com/realDonaldTrump/status/127...   \n",
       "43349  1273442195161387008  https://twitter.com/realDonaldTrump/status/127...   \n",
       "43350  1273442469066276864  https://twitter.com/realDonaldTrump/status/127...   \n",
       "43351  1273442528411385858  https://twitter.com/realDonaldTrump/status/127...   \n",
       "\n",
       "                                                 content                 date  \\\n",
       "0      Be sure to tune in and watch Donald Trump on L...  2009-05-04 13:54:25   \n",
       "1      Donald Trump will be appearing on The View tom...  2009-05-04 20:00:10   \n",
       "2      Donald Trump reads Top Ten Financial Tips on L...  2009-05-08 08:38:08   \n",
       "3      New Blog Post: Celebrity Apprentice Finale and...  2009-05-08 15:40:15   \n",
       "4      \"My persona will never be that of a wallflower...  2009-05-12 09:07:28   \n",
       "...                                                  ...                  ...   \n",
       "43347  Joe Biden was a TOTAL FAILURE in Government. H...  2020-06-17 19:00:32   \n",
       "43348  Will be interviewed on @ seanhannity tonight a...  2020-06-17 19:11:47   \n",
       "43349                         pic.twitter.com/3lm1spbU8X  2020-06-17 21:27:33   \n",
       "43350                         pic.twitter.com/vpCE5MadUz  2020-06-17 21:28:38   \n",
       "43351                         pic.twitter.com/VLlc0BHW41  2020-06-17 21:28:52   \n",
       "\n",
       "       retweets  favorites      mentions hashtags  \n",
       "0           510        917           NaN      NaN  \n",
       "1            34        267           NaN      NaN  \n",
       "2            13         19           NaN      NaN  \n",
       "3            11         26           NaN      NaN  \n",
       "4          1375       1945           NaN      NaN  \n",
       "...         ...        ...           ...      ...  \n",
       "43347     23402     116377           NaN      NaN  \n",
       "43348     11810      56659  @seanhannity      NaN  \n",
       "43349      4959      19344           NaN      NaN  \n",
       "43350      4627      17022           NaN      NaN  \n",
       "43351      3951      14344           NaN      NaN  \n",
       "\n",
       "[43352 rows x 8 columns]"
      ]
     },
     "execution_count": 126,
     "metadata": {},
     "output_type": "execute_result"
    }
   ],
   "source": [
    "# read in the data\n",
    "\n",
    "df = pd.read_csv('../data/trump_tweets.csv')\n",
    "df"
   ]
  },
  {
   "cell_type": "code",
   "execution_count": 127,
   "metadata": {},
   "outputs": [
    {
     "data": {
      "text/plain": [
       "array(['\" @ Vinnie_109: @ WalkerLaflin @ katie_0303 we need @ realDonaldTrump to run and we would be good\"',\n",
       "       'pic.twitter.com/8lI2lomGkh',\n",
       "       'Democrats are becoming the Party of late term abortion, high taxes, Open Borders and Crime!',\n",
       "       'The @ TODAYshow refused to use their just in poll numbers where I have a massive lead but instead used @ CNN numbers where my lead is smaller.',\n",
       "       'I really like Chelsea Clinton--an amazing young woman. She got the best of both parents. ( @ IvankaTrump agrees)',\n",
       "       '\"Right now, we are running a massive $300 billion trade deficit with China. That means every year. China is (cont) http://tl.gd/h55j1d',\n",
       "       'It is amazing how @ LindseyGrahamSC gets on so many T.V. shows talking negatively about me when I beat him so badly (ZERO) in his pres run!',\n",
       "       \"'Dem Operative Who Oversaw Trump Rally Agitators Visited White House 342 Times' # DrainTheSwamphttp://dailycaller.com/2016/10/18/exposed-dem-operative-who-oversaw-trump-rally-agitators-visited-white-house-342-times/#ixzz4NYWeNY7o …\",\n",
       "       \"My kids never negatively discussed my criticism of President Obama with me or anyone...it's not in their nature!\",\n",
       "       'As a candidate, I promised we would pass a massive TAX CUT for the everyday working American families who are the backbone and the heartbeat of our country. Now, we are just days away...pic.twitter.com/MADTGUMktX',\n",
       "       '\" @ DefendingtheUSA: @ realDonaldTrump @ FoxNews LOVED the brutal zinger against the Wall Street journal!!!\"',\n",
       "       '\" @ mrjgp: @ realDonaldTrump awesome howard stern interview!\"',\n",
       "       \". @ JoseCanseco, who I got to know very well during # CelebApprentice, can't carry @ SHAQ's jock.\",\n",
       "       '“Congress cannot Impeach President Trump (did nothing wrong) because if they did they would be putting themselves above the law. The Constitution provides criteria for Impeachment - treason, bribery, high crimes & misdemeanors. Unless there is compelling evidence, Impeachment...',\n",
       "       \"Starting tomorrow it's going to be # AmericaFirst! Thank you for a great morning Sarasota, Florida! Watch here: https://www.facebook.com/DonaldTrump/videos/10158077455590725/ …pic.twitter.com/p6f2TRwbLB – bei Sarasota-Bradenton International Airport (SRQ)\",\n",
       "       '\" @ princessrisssss: I am SOO super excited to watch @ ShawnJohnson and DonaldTrump on tonight!! Two of my favorite people ever. SHE IS GREAT.',\n",
       "       'Earlier today, I spoke with @ GovMattBevin of Kentucky regarding yesterday’s shooting at Marshall County High School. My thoughts and prayers are with Bailey Holt, Preston Cope, their families, and all of the wounded victims who are in recovery. We are with you!',\n",
       "       'The only way to stop the crazed Radical Left, Do Nothing Democrats “is for the Republican Senate to run an offense here”. @ LeeSmithDC @ IngrahamAngle @ FoxNews So true, although the Dems Hoaxes & Witch Hunts have driven up Republican Polls, and mine, mightily!',\n",
       "       '\" @ hollyammon: @ realDonaldTrump @ MalachiNorris Mr. Trump is the ONLY one who tells the truth, no matter how politically unpopular it may be.',\n",
       "       'The only reason I bid on @ buffalobills was to make sure they stayed in Buffalo, where they belong. Mission accomplished.'],\n",
       "      dtype=object)"
      ]
     },
     "execution_count": 127,
     "metadata": {},
     "output_type": "execute_result"
    }
   ],
   "source": [
    "# what does the text look like? \n",
    "\n",
    "df['content'].sample(20).values"
   ]
  },
  {
   "cell_type": "code",
   "execution_count": 128,
   "metadata": {},
   "outputs": [
    {
     "data": {
      "text/plain": [
       "count    43352.000000\n",
       "mean       131.525927\n",
       "std         63.052228\n",
       "min          4.000000\n",
       "25%         93.000000\n",
       "50%        130.000000\n",
       "75%        142.000000\n",
       "max        406.000000\n",
       "Name: content, dtype: float64"
      ]
     },
     "execution_count": 128,
     "metadata": {},
     "output_type": "execute_result"
    }
   ],
   "source": [
    "# what is the length of the text data we are working with?\n",
    "\n",
    "df['content'].str.len().describe()"
   ]
  },
  {
   "cell_type": "code",
   "execution_count": 129,
   "metadata": {},
   "outputs": [
    {
     "data": {
      "text/plain": [
       "<Axes: >"
      ]
     },
     "execution_count": 129,
     "metadata": {},
     "output_type": "execute_result"
    },
    {
     "data": {
      "image/png": "[encoded data removed]",
      "text/plain": [
       "<Figure size 640x480 with 1 Axes>"
      ]
     },
     "metadata": {},
     "output_type": "display_data"
    }
   ],
   "source": [
    "df['content'].str.len().hist()"
   ]
  },
  {
   "cell_type": "code",
   "execution_count": 130,
   "metadata": {},
   "outputs": [],
   "source": [
    "# Let's prepare the data for BERTopic - discuss options for cleaning the text\n",
    "\n",
    "# remove pics and videos - this does not work as expected - https://stackoverflow.com/questions/59970396/how-to-remove-picture-url-from-twitter-tweet-using-python\n",
    "df['content'] = df['content'].str.replace(r'pic.twitter.com/[\\w]*',\"\", regex=True)"
   ]
  },
  {
   "cell_type": "code",
   "execution_count": 131,
   "metadata": {},
   "outputs": [],
   "source": [
    "# remove special characters\n",
    "df['content'] = df['content'].str.replace(r'[^\\w\\s]', '', regex=True)"
   ]
  },
  {
   "cell_type": "code",
   "execution_count": 132,
   "metadata": {},
   "outputs": [],
   "source": [
    "# remove numbers\n",
    "df['content'] = df['content'].str.replace(r'\\d+', '', regex=True)"
   ]
  },
  {
   "cell_type": "code",
   "execution_count": 133,
   "metadata": {},
   "outputs": [
    {
     "name": "stderr",
     "output_type": "stream",
     "text": [
      "[nltk_data] Downloading package stopwords to /home/zach/nltk_data...\n",
      "[nltk_data]   Package stopwords is already up-to-date!\n"
     ]
    }
   ],
   "source": [
    "# remove stopwords\n",
    "import nltk\n",
    "from nltk.corpus import stopwords\n",
    "nltk.download('stopwords')\n",
    "stop_words = set(stopwords.words('english'))\n",
    "\n",
    "df['content'] = df['content'].apply(lambda x: ' '.join([word for word in x.split() if word.lower() not in (stop_words)]))"
   ]
  },
  {
   "cell_type": "code",
   "execution_count": 134,
   "metadata": {},
   "outputs": [],
   "source": [
    "# remove social media handles that start with @\n",
    "df['content'] = df['content'].str.replace(r'@\\w+', '', regex=True)"
   ]
  },
  {
   "cell_type": "code",
   "execution_count": 135,
   "metadata": {},
   "outputs": [],
   "source": [
    "# remove urls \n",
    "df['content'] = df['content'].str.replace(r'http\\S+', '', regex=True).replace(r'www\\S+', '', regex=True).replace(r'https\\S+', '', regex=True)"
   ]
  },
  {
   "cell_type": "code",
   "execution_count": 136,
   "metadata": {},
   "outputs": [
    {
     "data": {
      "text/html": [
       "<div>\n",
       "<style scoped>\n",
       "    .dataframe tbody tr th:only-of-type {\n",
       "        vertical-align: middle;\n",
       "    }\n",
       "\n",
       "    .dataframe tbody tr th {\n",
       "        vertical-align: top;\n",
       "    }\n",
       "\n",
       "    .dataframe thead th {\n",
       "        text-align: right;\n",
       "    }\n",
       "</style>\n",
       "<table border=\"1\" class=\"dataframe\">\n",
       "  <thead>\n",
       "    <tr style=\"text-align: right;\">\n",
       "      <th></th>\n",
       "      <th>id</th>\n",
       "      <th>link</th>\n",
       "      <th>content</th>\n",
       "      <th>date</th>\n",
       "      <th>retweets</th>\n",
       "      <th>favorites</th>\n",
       "      <th>mentions</th>\n",
       "      <th>hashtags</th>\n",
       "    </tr>\n",
       "  </thead>\n",
       "  <tbody>\n",
       "    <tr>\n",
       "      <th>0</th>\n",
       "      <td>1698308935</td>\n",
       "      <td>https://twitter.com/realDonaldTrump/status/169...</td>\n",
       "      <td>sure tune watch Donald Trump Late Night David ...</td>\n",
       "      <td>2009-05-04 13:54:25</td>\n",
       "      <td>510</td>\n",
       "      <td>917</td>\n",
       "      <td>NaN</td>\n",
       "      <td>NaN</td>\n",
       "    </tr>\n",
       "    <tr>\n",
       "      <th>1</th>\n",
       "      <td>1701461182</td>\n",
       "      <td>https://twitter.com/realDonaldTrump/status/170...</td>\n",
       "      <td>Donald Trump appearing View tomorrow morning d...</td>\n",
       "      <td>2009-05-04 20:00:10</td>\n",
       "      <td>34</td>\n",
       "      <td>267</td>\n",
       "      <td>NaN</td>\n",
       "      <td>NaN</td>\n",
       "    </tr>\n",
       "    <tr>\n",
       "      <th>2</th>\n",
       "      <td>1737479987</td>\n",
       "      <td>https://twitter.com/realDonaldTrump/status/173...</td>\n",
       "      <td>Donald Trump reads Top Ten Financial Tips Late...</td>\n",
       "      <td>2009-05-08 08:38:08</td>\n",
       "      <td>13</td>\n",
       "      <td>19</td>\n",
       "      <td>NaN</td>\n",
       "      <td>NaN</td>\n",
       "    </tr>\n",
       "    <tr>\n",
       "      <th>3</th>\n",
       "      <td>1741160716</td>\n",
       "      <td>https://twitter.com/realDonaldTrump/status/174...</td>\n",
       "      <td>New Blog Post Celebrity Apprentice Finale Less...</td>\n",
       "      <td>2009-05-08 15:40:15</td>\n",
       "      <td>11</td>\n",
       "      <td>26</td>\n",
       "      <td>NaN</td>\n",
       "      <td>NaN</td>\n",
       "    </tr>\n",
       "    <tr>\n",
       "      <th>4</th>\n",
       "      <td>1773561338</td>\n",
       "      <td>https://twitter.com/realDonaldTrump/status/177...</td>\n",
       "      <td>persona never wallflower Id rather build walls...</td>\n",
       "      <td>2009-05-12 09:07:28</td>\n",
       "      <td>1375</td>\n",
       "      <td>1945</td>\n",
       "      <td>NaN</td>\n",
       "      <td>NaN</td>\n",
       "    </tr>\n",
       "    <tr>\n",
       "      <th>...</th>\n",
       "      <td>...</td>\n",
       "      <td>...</td>\n",
       "      <td>...</td>\n",
       "      <td>...</td>\n",
       "      <td>...</td>\n",
       "      <td>...</td>\n",
       "      <td>...</td>\n",
       "      <td>...</td>\n",
       "    </tr>\n",
       "    <tr>\n",
       "      <th>43347</th>\n",
       "      <td>1273405198698975232</td>\n",
       "      <td>https://twitter.com/realDonaldTrump/status/127...</td>\n",
       "      <td>Joe Biden TOTAL FAILURE Government bungled eve...</td>\n",
       "      <td>2020-06-17 19:00:32</td>\n",
       "      <td>23402</td>\n",
       "      <td>116377</td>\n",
       "      <td>NaN</td>\n",
       "      <td>NaN</td>\n",
       "    </tr>\n",
       "    <tr>\n",
       "      <th>43348</th>\n",
       "      <td>1273408026968457216</td>\n",
       "      <td>https://twitter.com/realDonaldTrump/status/127...</td>\n",
       "      <td>interviewed seanhannity tonight PM Enjoy</td>\n",
       "      <td>2020-06-17 19:11:47</td>\n",
       "      <td>11810</td>\n",
       "      <td>56659</td>\n",
       "      <td>@seanhannity</td>\n",
       "      <td>NaN</td>\n",
       "    </tr>\n",
       "    <tr>\n",
       "      <th>43349</th>\n",
       "      <td>1273442195161387008</td>\n",
       "      <td>https://twitter.com/realDonaldTrump/status/127...</td>\n",
       "      <td></td>\n",
       "      <td>2020-06-17 21:27:33</td>\n",
       "      <td>4959</td>\n",
       "      <td>19344</td>\n",
       "      <td>NaN</td>\n",
       "      <td>NaN</td>\n",
       "    </tr>\n",
       "    <tr>\n",
       "      <th>43350</th>\n",
       "      <td>1273442469066276864</td>\n",
       "      <td>https://twitter.com/realDonaldTrump/status/127...</td>\n",
       "      <td></td>\n",
       "      <td>2020-06-17 21:28:38</td>\n",
       "      <td>4627</td>\n",
       "      <td>17022</td>\n",
       "      <td>NaN</td>\n",
       "      <td>NaN</td>\n",
       "    </tr>\n",
       "    <tr>\n",
       "      <th>43351</th>\n",
       "      <td>1273442528411385858</td>\n",
       "      <td>https://twitter.com/realDonaldTrump/status/127...</td>\n",
       "      <td></td>\n",
       "      <td>2020-06-17 21:28:52</td>\n",
       "      <td>3951</td>\n",
       "      <td>14344</td>\n",
       "      <td>NaN</td>\n",
       "      <td>NaN</td>\n",
       "    </tr>\n",
       "  </tbody>\n",
       "</table>\n",
       "<p>43352 rows × 8 columns</p>\n",
       "</div>"
      ],
      "text/plain": [
       "                        id                                               link  \\\n",
       "0               1698308935  https://twitter.com/realDonaldTrump/status/169...   \n",
       "1               1701461182  https://twitter.com/realDonaldTrump/status/170...   \n",
       "2               1737479987  https://twitter.com/realDonaldTrump/status/173...   \n",
       "3               1741160716  https://twitter.com/realDonaldTrump/status/174...   \n",
       "4               1773561338  https://twitter.com/realDonaldTrump/status/177...   \n",
       "...                    ...                                                ...   \n",
       "43347  1273405198698975232  https://twitter.com/realDonaldTrump/status/127...   \n",
       "43348  1273408026968457216  https://twitter.com/realDonaldTrump/status/127...   \n",
       "43349  1273442195161387008  https://twitter.com/realDonaldTrump/status/127...   \n",
       "43350  1273442469066276864  https://twitter.com/realDonaldTrump/status/127...   \n",
       "43351  1273442528411385858  https://twitter.com/realDonaldTrump/status/127...   \n",
       "\n",
       "                                                 content                 date  \\\n",
       "0      sure tune watch Donald Trump Late Night David ...  2009-05-04 13:54:25   \n",
       "1      Donald Trump appearing View tomorrow morning d...  2009-05-04 20:00:10   \n",
       "2      Donald Trump reads Top Ten Financial Tips Late...  2009-05-08 08:38:08   \n",
       "3      New Blog Post Celebrity Apprentice Finale Less...  2009-05-08 15:40:15   \n",
       "4      persona never wallflower Id rather build walls...  2009-05-12 09:07:28   \n",
       "...                                                  ...                  ...   \n",
       "43347  Joe Biden TOTAL FAILURE Government bungled eve...  2020-06-17 19:00:32   \n",
       "43348           interviewed seanhannity tonight PM Enjoy  2020-06-17 19:11:47   \n",
       "43349                                                     2020-06-17 21:27:33   \n",
       "43350                                                     2020-06-17 21:28:38   \n",
       "43351                                                     2020-06-17 21:28:52   \n",
       "\n",
       "       retweets  favorites      mentions hashtags  \n",
       "0           510        917           NaN      NaN  \n",
       "1            34        267           NaN      NaN  \n",
       "2            13         19           NaN      NaN  \n",
       "3            11         26           NaN      NaN  \n",
       "4          1375       1945           NaN      NaN  \n",
       "...         ...        ...           ...      ...  \n",
       "43347     23402     116377           NaN      NaN  \n",
       "43348     11810      56659  @seanhannity      NaN  \n",
       "43349      4959      19344           NaN      NaN  \n",
       "43350      4627      17022           NaN      NaN  \n",
       "43351      3951      14344           NaN      NaN  \n",
       "\n",
       "[43352 rows x 8 columns]"
      ]
     },
     "execution_count": 136,
     "metadata": {},
     "output_type": "execute_result"
    }
   ],
   "source": [
    "df"
   ]
  },
  {
   "cell_type": "code",
   "execution_count": 137,
   "metadata": {},
   "outputs": [],
   "source": [
    "# drop the rows with empty content\n",
    "df = df[df['content'] != '']"
   ]
  },
  {
   "cell_type": "code",
   "execution_count": 138,
   "metadata": {},
   "outputs": [],
   "source": [
    "# drop the rows with fewer than 5 words \n",
    "df = df[df['content'].str.split().str.len() > 6]"
   ]
  },
  {
   "cell_type": "code",
   "execution_count": 139,
   "metadata": {},
   "outputs": [
    {
     "data": {
      "text/html": [
       "<div>\n",
       "<style scoped>\n",
       "    .dataframe tbody tr th:only-of-type {\n",
       "        vertical-align: middle;\n",
       "    }\n",
       "\n",
       "    .dataframe tbody tr th {\n",
       "        vertical-align: top;\n",
       "    }\n",
       "\n",
       "    .dataframe thead th {\n",
       "        text-align: right;\n",
       "    }\n",
       "</style>\n",
       "<table border=\"1\" class=\"dataframe\">\n",
       "  <thead>\n",
       "    <tr style=\"text-align: right;\">\n",
       "      <th></th>\n",
       "      <th>id</th>\n",
       "      <th>link</th>\n",
       "      <th>content</th>\n",
       "      <th>date</th>\n",
       "      <th>retweets</th>\n",
       "      <th>favorites</th>\n",
       "      <th>mentions</th>\n",
       "      <th>hashtags</th>\n",
       "    </tr>\n",
       "  </thead>\n",
       "  <tbody>\n",
       "    <tr>\n",
       "      <th>0</th>\n",
       "      <td>1698308935</td>\n",
       "      <td>https://twitter.com/realDonaldTrump/status/169...</td>\n",
       "      <td>sure tune watch Donald Trump Late Night David ...</td>\n",
       "      <td>2009-05-04 13:54:25</td>\n",
       "      <td>510</td>\n",
       "      <td>917</td>\n",
       "      <td>NaN</td>\n",
       "      <td>NaN</td>\n",
       "    </tr>\n",
       "    <tr>\n",
       "      <th>1</th>\n",
       "      <td>1701461182</td>\n",
       "      <td>https://twitter.com/realDonaldTrump/status/170...</td>\n",
       "      <td>Donald Trump appearing View tomorrow morning d...</td>\n",
       "      <td>2009-05-04 20:00:10</td>\n",
       "      <td>34</td>\n",
       "      <td>267</td>\n",
       "      <td>NaN</td>\n",
       "      <td>NaN</td>\n",
       "    </tr>\n",
       "    <tr>\n",
       "      <th>2</th>\n",
       "      <td>1737479987</td>\n",
       "      <td>https://twitter.com/realDonaldTrump/status/173...</td>\n",
       "      <td>Donald Trump reads Top Ten Financial Tips Late...</td>\n",
       "      <td>2009-05-08 08:38:08</td>\n",
       "      <td>13</td>\n",
       "      <td>19</td>\n",
       "      <td>NaN</td>\n",
       "      <td>NaN</td>\n",
       "    </tr>\n",
       "    <tr>\n",
       "      <th>3</th>\n",
       "      <td>1741160716</td>\n",
       "      <td>https://twitter.com/realDonaldTrump/status/174...</td>\n",
       "      <td>New Blog Post Celebrity Apprentice Finale Less...</td>\n",
       "      <td>2009-05-08 15:40:15</td>\n",
       "      <td>11</td>\n",
       "      <td>26</td>\n",
       "      <td>NaN</td>\n",
       "      <td>NaN</td>\n",
       "    </tr>\n",
       "    <tr>\n",
       "      <th>4</th>\n",
       "      <td>1773561338</td>\n",
       "      <td>https://twitter.com/realDonaldTrump/status/177...</td>\n",
       "      <td>persona never wallflower Id rather build walls...</td>\n",
       "      <td>2009-05-12 09:07:28</td>\n",
       "      <td>1375</td>\n",
       "      <td>1945</td>\n",
       "      <td>NaN</td>\n",
       "      <td>NaN</td>\n",
       "    </tr>\n",
       "    <tr>\n",
       "      <th>...</th>\n",
       "      <td>...</td>\n",
       "      <td>...</td>\n",
       "      <td>...</td>\n",
       "      <td>...</td>\n",
       "      <td>...</td>\n",
       "      <td>...</td>\n",
       "      <td>...</td>\n",
       "      <td>...</td>\n",
       "    </tr>\n",
       "    <tr>\n",
       "      <th>43341</th>\n",
       "      <td>1273032175718449155</td>\n",
       "      <td>https://twitter.com/realDonaldTrump/status/127...</td>\n",
       "      <td>Chris Jacobs JacobsNY tremendous Congressman a...</td>\n",
       "      <td>2020-06-16 18:18:17</td>\n",
       "      <td>9802</td>\n",
       "      <td>35418</td>\n",
       "      <td>@JacobsNY27</td>\n",
       "      <td>#NY27https</td>\n",
       "    </tr>\n",
       "    <tr>\n",
       "      <th>43342</th>\n",
       "      <td>1273034110353707008</td>\n",
       "      <td>https://twitter.com/realDonaldTrump/status/127...</td>\n",
       "      <td>Congressman LeeZeldin fighter New York serves ...</td>\n",
       "      <td>2020-06-16 18:25:58</td>\n",
       "      <td>12070</td>\n",
       "      <td>45048</td>\n",
       "      <td>@LeeZeldin</td>\n",
       "      <td>NaN</td>\n",
       "    </tr>\n",
       "    <tr>\n",
       "      <th>43343</th>\n",
       "      <td>1273038952275095558</td>\n",
       "      <td>https://twitter.com/realDonaldTrump/status/127...</td>\n",
       "      <td>LyndaBennettNC Complete Total Endorsement grea...</td>\n",
       "      <td>2020-06-16 18:45:12</td>\n",
       "      <td>10263</td>\n",
       "      <td>37476</td>\n",
       "      <td>@LyndaBennettNC</td>\n",
       "      <td>NaN</td>\n",
       "    </tr>\n",
       "    <tr>\n",
       "      <th>43345</th>\n",
       "      <td>1273080720794279937</td>\n",
       "      <td>https://twitter.com/realDonaldTrump/status/127...</td>\n",
       "      <td>GREAT woman son looking heaven proud wonderful...</td>\n",
       "      <td>2020-06-16 21:31:11</td>\n",
       "      <td>26468</td>\n",
       "      <td>112140</td>\n",
       "      <td>NaN</td>\n",
       "      <td>NaN</td>\n",
       "    </tr>\n",
       "    <tr>\n",
       "      <th>43347</th>\n",
       "      <td>1273405198698975232</td>\n",
       "      <td>https://twitter.com/realDonaldTrump/status/127...</td>\n",
       "      <td>Joe Biden TOTAL FAILURE Government bungled eve...</td>\n",
       "      <td>2020-06-17 19:00:32</td>\n",
       "      <td>23402</td>\n",
       "      <td>116377</td>\n",
       "      <td>NaN</td>\n",
       "      <td>NaN</td>\n",
       "    </tr>\n",
       "  </tbody>\n",
       "</table>\n",
       "<p>34479 rows × 8 columns</p>\n",
       "</div>"
      ],
      "text/plain": [
       "                        id                                               link  \\\n",
       "0               1698308935  https://twitter.com/realDonaldTrump/status/169...   \n",
       "1               1701461182  https://twitter.com/realDonaldTrump/status/170...   \n",
       "2               1737479987  https://twitter.com/realDonaldTrump/status/173...   \n",
       "3               1741160716  https://twitter.com/realDonaldTrump/status/174...   \n",
       "4               1773561338  https://twitter.com/realDonaldTrump/status/177...   \n",
       "...                    ...                                                ...   \n",
       "43341  1273032175718449155  https://twitter.com/realDonaldTrump/status/127...   \n",
       "43342  1273034110353707008  https://twitter.com/realDonaldTrump/status/127...   \n",
       "43343  1273038952275095558  https://twitter.com/realDonaldTrump/status/127...   \n",
       "43345  1273080720794279937  https://twitter.com/realDonaldTrump/status/127...   \n",
       "43347  1273405198698975232  https://twitter.com/realDonaldTrump/status/127...   \n",
       "\n",
       "                                                 content                 date  \\\n",
       "0      sure tune watch Donald Trump Late Night David ...  2009-05-04 13:54:25   \n",
       "1      Donald Trump appearing View tomorrow morning d...  2009-05-04 20:00:10   \n",
       "2      Donald Trump reads Top Ten Financial Tips Late...  2009-05-08 08:38:08   \n",
       "3      New Blog Post Celebrity Apprentice Finale Less...  2009-05-08 15:40:15   \n",
       "4      persona never wallflower Id rather build walls...  2009-05-12 09:07:28   \n",
       "...                                                  ...                  ...   \n",
       "43341  Chris Jacobs JacobsNY tremendous Congressman a...  2020-06-16 18:18:17   \n",
       "43342  Congressman LeeZeldin fighter New York serves ...  2020-06-16 18:25:58   \n",
       "43343  LyndaBennettNC Complete Total Endorsement grea...  2020-06-16 18:45:12   \n",
       "43345  GREAT woman son looking heaven proud wonderful...  2020-06-16 21:31:11   \n",
       "43347  Joe Biden TOTAL FAILURE Government bungled eve...  2020-06-17 19:00:32   \n",
       "\n",
       "       retweets  favorites         mentions    hashtags  \n",
       "0           510        917              NaN         NaN  \n",
       "1            34        267              NaN         NaN  \n",
       "2            13         19              NaN         NaN  \n",
       "3            11         26              NaN         NaN  \n",
       "4          1375       1945              NaN         NaN  \n",
       "...         ...        ...              ...         ...  \n",
       "43341      9802      35418      @JacobsNY27  #NY27https  \n",
       "43342     12070      45048       @LeeZeldin         NaN  \n",
       "43343     10263      37476  @LyndaBennettNC         NaN  \n",
       "43345     26468     112140              NaN         NaN  \n",
       "43347     23402     116377              NaN         NaN  \n",
       "\n",
       "[34479 rows x 8 columns]"
      ]
     },
     "execution_count": 139,
     "metadata": {},
     "output_type": "execute_result"
    }
   ],
   "source": [
    "df"
   ]
  },
  {
   "cell_type": "markdown",
   "metadata": {},
   "source": [
    "# Let's fit a topic model to the data "
   ]
  },
  {
   "cell_type": "code",
   "execution_count": 140,
   "metadata": {},
   "outputs": [
    {
     "data": {
      "text/plain": [
       "['sure tune watch Donald Trump Late Night David Letterman presents Top Ten List tonight',\n",
       " 'Donald Trump appearing View tomorrow morning discuss Celebrity Apprentice new book Think Like Champion',\n",
       " 'Donald Trump reads Top Ten Financial Tips Late Show David Letterman  funny',\n",
       " 'New Blog Post Celebrity Apprentice Finale Lessons Learned Along Way ',\n",
       " 'persona never wallflower Id rather build walls cling Donald J Trump',\n",
       " 'Miss USA Tara Conner fired Ive always believer second chances says Donald Trump',\n",
       " 'Listen interview Donald Trump discussing new book Think Like Champion ',\n",
       " 'Strive wholeness keep sense wonder intact Donald J Trump ',\n",
       " 'Enter Think Like Champion signed book keychain contest ',\n",
       " 'achiever achieves plateau beginning Donald J Trump ']"
      ]
     },
     "execution_count": 140,
     "metadata": {},
     "output_type": "execute_result"
    }
   ],
   "source": [
    "# Bertopic requires a list of strings as input.\n",
    "# \n",
    "# We'll call this list of strings 'documents'\n",
    "\n",
    "documents = df['content'].tolist()\n",
    "\n",
    "documents[0:10]"
   ]
  },
  {
   "cell_type": "code",
   "execution_count": 141,
   "metadata": {},
   "outputs": [],
   "source": [
    "# create a BERTopic model\n",
    "topic_model = BERTopic()\n",
    "\n",
    "# fit the model to the data\n",
    "topics, probs = topic_model.fit_transform(documents)"
   ]
  },
  {
   "cell_type": "code",
   "execution_count": 142,
   "metadata": {},
   "outputs": [
    {
     "data": {
      "text/html": [
       "<div>\n",
       "<style scoped>\n",
       "    .dataframe tbody tr th:only-of-type {\n",
       "        vertical-align: middle;\n",
       "    }\n",
       "\n",
       "    .dataframe tbody tr th {\n",
       "        vertical-align: top;\n",
       "    }\n",
       "\n",
       "    .dataframe thead th {\n",
       "        text-align: right;\n",
       "    }\n",
       "</style>\n",
       "<table border=\"1\" class=\"dataframe\">\n",
       "  <thead>\n",
       "    <tr style=\"text-align: right;\">\n",
       "      <th></th>\n",
       "      <th>Topic</th>\n",
       "      <th>Count</th>\n",
       "      <th>Name</th>\n",
       "      <th>Representation</th>\n",
       "      <th>Representative_Docs</th>\n",
       "    </tr>\n",
       "  </thead>\n",
       "  <tbody>\n",
       "    <tr>\n",
       "      <th>0</th>\n",
       "      <td>-1</td>\n",
       "      <td>14443</td>\n",
       "      <td>-1_realdonaldtrump_trump_president_donald</td>\n",
       "      <td>[realdonaldtrump, trump, president, donald, gr...</td>\n",
       "      <td>[Received many Congratulations many Big Victor...</td>\n",
       "    </tr>\n",
       "    <tr>\n",
       "      <th>1</th>\n",
       "      <td>0</td>\n",
       "      <td>464</td>\n",
       "      <td>0_china_chinese_chinas_tariffs</td>\n",
       "      <td>[china, chinese, chinas, tariffs, currency, tr...</td>\n",
       "      <td>[China buys MUCH less us buy almost Billion Do...</td>\n",
       "    </tr>\n",
       "    <tr>\n",
       "      <th>2</th>\n",
       "      <td>1</td>\n",
       "      <td>335</td>\n",
       "      <td>1_veterans_honor_heroes_men</td>\n",
       "      <td>[veterans, honor, heroes, men, women, service,...</td>\n",
       "      <td>[Tonight gathered celebrate courageous men wom...</td>\n",
       "    </tr>\n",
       "    <tr>\n",
       "      <th>3</th>\n",
       "      <td>2</td>\n",
       "      <td>330</td>\n",
       "      <td>2_poll_polls_lead_debate</td>\n",
       "      <td>[poll, polls, lead, debate, carson, numbers, i...</td>\n",
       "      <td>[CNN Poll came amazing numbers want MAKE AMERI...</td>\n",
       "    </tr>\n",
       "    <tr>\n",
       "      <th>4</th>\n",
       "      <td>3</td>\n",
       "      <td>300</td>\n",
       "      <td>3_nytimes_media_failing_fake</td>\n",
       "      <td>[nytimes, media, failing, fake, sources, news,...</td>\n",
       "      <td>[failing nytimes writes total fiction concerni...</td>\n",
       "    </tr>\n",
       "    <tr>\n",
       "      <th>...</th>\n",
       "      <td>...</td>\n",
       "      <td>...</td>\n",
       "      <td>...</td>\n",
       "      <td>...</td>\n",
       "      <td>...</td>\n",
       "    </tr>\n",
       "    <tr>\n",
       "      <th>401</th>\n",
       "      <td>400</td>\n",
       "      <td>10</td>\n",
       "      <td>400_ireland_investor_turnberryit_sharonsmurfit</td>\n",
       "      <td>[ireland, investor, turnberryit, sharonsmurfit...</td>\n",
       "      <td>[SharonSmurfit realDonaldTrump Great purchase ...</td>\n",
       "    </tr>\n",
       "    <tr>\n",
       "      <th>402</th>\n",
       "      <td>401</td>\n",
       "      <td>10</td>\n",
       "      <td>401_forest_california_fires_management</td>\n",
       "      <td>[forest, california, fires, management, burns,...</td>\n",
       "      <td>[proper Forest Management stop devastation con...</td>\n",
       "    </tr>\n",
       "    <tr>\n",
       "      <th>403</th>\n",
       "      <td>402</td>\n",
       "      <td>10</td>\n",
       "      <td>402_tiger_red_course_trumpdoral</td>\n",
       "      <td>[tiger, red, course, trumpdoral, inveruriehera...</td>\n",
       "      <td>[new Red Tiger course TrumpDoral  Follow Trump...</td>\n",
       "    </tr>\n",
       "    <tr>\n",
       "      <th>404</th>\n",
       "      <td>403</td>\n",
       "      <td>10</td>\n",
       "      <td>403_activism_safety_unsafe_security</td>\n",
       "      <td>[activism, safety, unsafe, security, judicial,...</td>\n",
       "      <td>[many opposing view Border Safety cases filed ...</td>\n",
       "    </tr>\n",
       "    <tr>\n",
       "      <th>405</th>\n",
       "      <td>404</td>\n",
       "      <td>10</td>\n",
       "      <td>404_ted_canada_born_cruz</td>\n",
       "      <td>[ted, canada, born, cruz, canadian, citizen, d...</td>\n",
       "      <td>[Ted Cruz born Canada Canadian citizen months ...</td>\n",
       "    </tr>\n",
       "  </tbody>\n",
       "</table>\n",
       "<p>406 rows × 5 columns</p>\n",
       "</div>"
      ],
      "text/plain": [
       "     Topic  Count                                            Name  \\\n",
       "0       -1  14443       -1_realdonaldtrump_trump_president_donald   \n",
       "1        0    464                  0_china_chinese_chinas_tariffs   \n",
       "2        1    335                     1_veterans_honor_heroes_men   \n",
       "3        2    330                        2_poll_polls_lead_debate   \n",
       "4        3    300                    3_nytimes_media_failing_fake   \n",
       "..     ...    ...                                             ...   \n",
       "401    400     10  400_ireland_investor_turnberryit_sharonsmurfit   \n",
       "402    401     10          401_forest_california_fires_management   \n",
       "403    402     10                 402_tiger_red_course_trumpdoral   \n",
       "404    403     10             403_activism_safety_unsafe_security   \n",
       "405    404     10                        404_ted_canada_born_cruz   \n",
       "\n",
       "                                        Representation  \\\n",
       "0    [realdonaldtrump, trump, president, donald, gr...   \n",
       "1    [china, chinese, chinas, tariffs, currency, tr...   \n",
       "2    [veterans, honor, heroes, men, women, service,...   \n",
       "3    [poll, polls, lead, debate, carson, numbers, i...   \n",
       "4    [nytimes, media, failing, fake, sources, news,...   \n",
       "..                                                 ...   \n",
       "401  [ireland, investor, turnberryit, sharonsmurfit...   \n",
       "402  [forest, california, fires, management, burns,...   \n",
       "403  [tiger, red, course, trumpdoral, inveruriehera...   \n",
       "404  [activism, safety, unsafe, security, judicial,...   \n",
       "405  [ted, canada, born, cruz, canadian, citizen, d...   \n",
       "\n",
       "                                   Representative_Docs  \n",
       "0    [Received many Congratulations many Big Victor...  \n",
       "1    [China buys MUCH less us buy almost Billion Do...  \n",
       "2    [Tonight gathered celebrate courageous men wom...  \n",
       "3    [CNN Poll came amazing numbers want MAKE AMERI...  \n",
       "4    [failing nytimes writes total fiction concerni...  \n",
       "..                                                 ...  \n",
       "401  [SharonSmurfit realDonaldTrump Great purchase ...  \n",
       "402  [proper Forest Management stop devastation con...  \n",
       "403  [new Red Tiger course TrumpDoral  Follow Trump...  \n",
       "404  [many opposing view Border Safety cases filed ...  \n",
       "405  [Ted Cruz born Canada Canadian citizen months ...  \n",
       "\n",
       "[406 rows x 5 columns]"
      ]
     },
     "execution_count": 142,
     "metadata": {},
     "output_type": "execute_result"
    }
   ],
   "source": [
    "# After generating topics, we can access the frequent topics that were generated\n",
    "\n",
    "topic_model.get_topic_info()"
   ]
  },
  {
   "cell_type": "code",
   "execution_count": 143,
   "metadata": {},
   "outputs": [],
   "source": [
    "\n",
    "# create a BERTopic model\n",
    "topic_model = BERTopic(nr_topics=20)\n",
    "\n",
    "# fit the model to the data\n",
    "topics, probs = topic_model.fit_transform(documents)"
   ]
  },
  {
   "cell_type": "code",
   "execution_count": 144,
   "metadata": {},
   "outputs": [
    {
     "data": {
      "text/html": [
       "<div>\n",
       "<style scoped>\n",
       "    .dataframe tbody tr th:only-of-type {\n",
       "        vertical-align: middle;\n",
       "    }\n",
       "\n",
       "    .dataframe tbody tr th {\n",
       "        vertical-align: top;\n",
       "    }\n",
       "\n",
       "    .dataframe thead th {\n",
       "        text-align: right;\n",
       "    }\n",
       "</style>\n",
       "<table border=\"1\" class=\"dataframe\">\n",
       "  <thead>\n",
       "    <tr style=\"text-align: right;\">\n",
       "      <th></th>\n",
       "      <th>Topic</th>\n",
       "      <th>Count</th>\n",
       "      <th>Name</th>\n",
       "      <th>Representation</th>\n",
       "      <th>Representative_Docs</th>\n",
       "    </tr>\n",
       "  </thead>\n",
       "  <tbody>\n",
       "    <tr>\n",
       "      <th>0</th>\n",
       "      <td>-1</td>\n",
       "      <td>14597</td>\n",
       "      <td>-1_realdonaldtrump_trump_great_president</td>\n",
       "      <td>[realdonaldtrump, trump, great, president, tha...</td>\n",
       "      <td>[PeritusTraining realDonaldTrump Donald cant p...</td>\n",
       "    </tr>\n",
       "    <tr>\n",
       "      <th>1</th>\n",
       "      <td>0</td>\n",
       "      <td>8895</td>\n",
       "      <td>0_realdonaldtrump_trump_great_president</td>\n",
       "      <td>[realdonaldtrump, trump, great, president, run...</td>\n",
       "      <td>[M_Foresta realDonaldTrump Id think make great...</td>\n",
       "    </tr>\n",
       "    <tr>\n",
       "      <th>2</th>\n",
       "      <td>1</td>\n",
       "      <td>2125</td>\n",
       "      <td>1_china_us_iran_trade</td>\n",
       "      <td>[china, us, iran, trade, korea, north, deal, t...</td>\n",
       "      <td>[great confidence China properly deal North Ko...</td>\n",
       "    </tr>\n",
       "    <tr>\n",
       "      <th>3</th>\n",
       "      <td>2</td>\n",
       "      <td>2080</td>\n",
       "      <td>2_obamacare_obama_barackobama_tax</td>\n",
       "      <td>[obamacare, obama, barackobama, tax, jobs, eco...</td>\n",
       "      <td>[Stock Market hit another record high Jobs loo...</td>\n",
       "    </tr>\n",
       "    <tr>\n",
       "      <th>4</th>\n",
       "      <td>3</td>\n",
       "      <td>1370</td>\n",
       "      <td>3_border_mexico_wall_people</td>\n",
       "      <td>[border, mexico, wall, people, ebola, country,...</td>\n",
       "      <td>[Border Patrol Law Enforcement apprehended cap...</td>\n",
       "    </tr>\n",
       "    <tr>\n",
       "      <th>5</th>\n",
       "      <td>4</td>\n",
       "      <td>1345</td>\n",
       "      <td>4_golf_trump_macys_course</td>\n",
       "      <td>[golf, trump, macys, course, hotel, doral, tie...</td>\n",
       "      <td>[Im Scotland open hope greatest golf course wo...</td>\n",
       "    </tr>\n",
       "    <tr>\n",
       "      <th>6</th>\n",
       "      <td>5</td>\n",
       "      <td>1273</td>\n",
       "      <td>5_great_honor_today_thank</td>\n",
       "      <td>[great, honor, today, thank, happy, veterans, ...</td>\n",
       "      <td>[White House Press Conference today PM Thank, ...</td>\n",
       "    </tr>\n",
       "    <tr>\n",
       "      <th>7</th>\n",
       "      <td>6</td>\n",
       "      <td>950</td>\n",
       "      <td>6_entrepreneurs_think_keep_big</td>\n",
       "      <td>[entrepreneurs, think, keep, big, success, foc...</td>\n",
       "      <td>[problem government create real jobs entrepren...</td>\n",
       "    </tr>\n",
       "    <tr>\n",
       "      <th>8</th>\n",
       "      <td>7</td>\n",
       "      <td>791</td>\n",
       "      <td>7_yankees_nfl_great_wwe</td>\n",
       "      <td>[yankees, nfl, great, wwe, nflcommish, dannyzu...</td>\n",
       "      <td>[Via WWE Donald Trump announced WWE Hall Fame,...</td>\n",
       "    </tr>\n",
       "    <tr>\n",
       "      <th>9</th>\n",
       "      <td>8</td>\n",
       "      <td>229</td>\n",
       "      <td>8_wind_turbines_alexsalmond_scotland</td>\n",
       "      <td>[wind, turbines, alexsalmond, scotland, ugly, ...</td>\n",
       "      <td>[First Minister AlexSalmond destroying beauty ...</td>\n",
       "    </tr>\n",
       "    <tr>\n",
       "      <th>10</th>\n",
       "      <td>9</td>\n",
       "      <td>173</td>\n",
       "      <td>9_celebapprentice_season_omarosa_star</td>\n",
       "      <td>[celebapprentice, season, omarosa, star, th, t...</td>\n",
       "      <td>[Reality TVs Bad Girl OMAROSA back upcoming th...</td>\n",
       "    </tr>\n",
       "    <tr>\n",
       "      <th>11</th>\n",
       "      <td>10</td>\n",
       "      <td>158</td>\n",
       "      <td>10_albert_einstein_churchill_winston</td>\n",
       "      <td>[albert, einstein, churchill, winston, henry, ...</td>\n",
       "      <td>[Success final failure fatal courage continue ...</td>\n",
       "    </tr>\n",
       "    <tr>\n",
       "      <th>12</th>\n",
       "      <td>11</td>\n",
       "      <td>158</td>\n",
       "      <td>11_global_warming_energy_climate</td>\n",
       "      <td>[global, warming, energy, climate, without, co...</td>\n",
       "      <td>[con artists changed name GLOBAL WARMING CLIMA...</td>\n",
       "    </tr>\n",
       "    <tr>\n",
       "      <th>13</th>\n",
       "      <td>12</td>\n",
       "      <td>92</td>\n",
       "      <td>12_mittromney_ricksantorum_cont_penn</td>\n",
       "      <td>[mittromney, ricksantorum, cont, penn, paulrya...</td>\n",
       "      <td>[RickSantorum losing home state Pennsylvania M...</td>\n",
       "    </tr>\n",
       "    <tr>\n",
       "      <th>14</th>\n",
       "      <td>13</td>\n",
       "      <td>80</td>\n",
       "      <td>13_vanityfair_graydon_carter_magazine</td>\n",
       "      <td>[vanityfair, graydon, carter, magazine, lance,...</td>\n",
       "      <td>[Newsstand sales VanityFair run sleepy Graydon...</td>\n",
       "    </tr>\n",
       "    <tr>\n",
       "      <th>15</th>\n",
       "      <td>14</td>\n",
       "      <td>48</td>\n",
       "      <td>14_tmobile_apple_screen_iphone</td>\n",
       "      <td>[tmobile, apple, screen, iphone, johnlegere, l...</td>\n",
       "      <td>[Lex_Shep realDonaldTrump TMobile JohnLegere e...</td>\n",
       "    </tr>\n",
       "    <tr>\n",
       "      <th>16</th>\n",
       "      <td>15</td>\n",
       "      <td>45</td>\n",
       "      <td>15_autism_autismspeaks_vaccine_vaccinations</td>\n",
       "      <td>[autism, autismspeaks, vaccine, vaccinations, ...</td>\n",
       "      <td>[Join autismspeaks light world blue LIUB raise...</td>\n",
       "    </tr>\n",
       "    <tr>\n",
       "      <th>17</th>\n",
       "      <td>16</td>\n",
       "      <td>30</td>\n",
       "      <td>16_lordsugar_sugar_dopey_worth</td>\n",
       "      <td>[lordsugar, sugar, dopey, worth, show, money, ...</td>\n",
       "      <td>[Dopey Sugar Lord_SugarIm worth billion acknow...</td>\n",
       "    </tr>\n",
       "    <tr>\n",
       "      <th>18</th>\n",
       "      <td>17</td>\n",
       "      <td>27</td>\n",
       "      <td>17_questions_friends_facebook_askthedonald</td>\n",
       "      <td>[questions, friends, facebook, askthedonald, f...</td>\n",
       "      <td>[Head Facebook page questions answered next As...</td>\n",
       "    </tr>\n",
       "    <tr>\n",
       "      <th>19</th>\n",
       "      <td>18</td>\n",
       "      <td>13</td>\n",
       "      <td>18_sexual_rape_abuse_military</td>\n",
       "      <td>[sexual, rape, abuse, military, assault, force...</td>\n",
       "      <td>[Sexual assault rape Armed Forces Massive prob...</td>\n",
       "    </tr>\n",
       "  </tbody>\n",
       "</table>\n",
       "</div>"
      ],
      "text/plain": [
       "    Topic  Count                                         Name  \\\n",
       "0      -1  14597     -1_realdonaldtrump_trump_great_president   \n",
       "1       0   8895      0_realdonaldtrump_trump_great_president   \n",
       "2       1   2125                        1_china_us_iran_trade   \n",
       "3       2   2080            2_obamacare_obama_barackobama_tax   \n",
       "4       3   1370                  3_border_mexico_wall_people   \n",
       "5       4   1345                    4_golf_trump_macys_course   \n",
       "6       5   1273                    5_great_honor_today_thank   \n",
       "7       6    950               6_entrepreneurs_think_keep_big   \n",
       "8       7    791                      7_yankees_nfl_great_wwe   \n",
       "9       8    229         8_wind_turbines_alexsalmond_scotland   \n",
       "10      9    173        9_celebapprentice_season_omarosa_star   \n",
       "11     10    158         10_albert_einstein_churchill_winston   \n",
       "12     11    158             11_global_warming_energy_climate   \n",
       "13     12     92         12_mittromney_ricksantorum_cont_penn   \n",
       "14     13     80        13_vanityfair_graydon_carter_magazine   \n",
       "15     14     48               14_tmobile_apple_screen_iphone   \n",
       "16     15     45  15_autism_autismspeaks_vaccine_vaccinations   \n",
       "17     16     30               16_lordsugar_sugar_dopey_worth   \n",
       "18     17     27   17_questions_friends_facebook_askthedonald   \n",
       "19     18     13                18_sexual_rape_abuse_military   \n",
       "\n",
       "                                       Representation  \\\n",
       "0   [realdonaldtrump, trump, great, president, tha...   \n",
       "1   [realdonaldtrump, trump, great, president, run...   \n",
       "2   [china, us, iran, trade, korea, north, deal, t...   \n",
       "3   [obamacare, obama, barackobama, tax, jobs, eco...   \n",
       "4   [border, mexico, wall, people, ebola, country,...   \n",
       "5   [golf, trump, macys, course, hotel, doral, tie...   \n",
       "6   [great, honor, today, thank, happy, veterans, ...   \n",
       "7   [entrepreneurs, think, keep, big, success, foc...   \n",
       "8   [yankees, nfl, great, wwe, nflcommish, dannyzu...   \n",
       "9   [wind, turbines, alexsalmond, scotland, ugly, ...   \n",
       "10  [celebapprentice, season, omarosa, star, th, t...   \n",
       "11  [albert, einstein, churchill, winston, henry, ...   \n",
       "12  [global, warming, energy, climate, without, co...   \n",
       "13  [mittromney, ricksantorum, cont, penn, paulrya...   \n",
       "14  [vanityfair, graydon, carter, magazine, lance,...   \n",
       "15  [tmobile, apple, screen, iphone, johnlegere, l...   \n",
       "16  [autism, autismspeaks, vaccine, vaccinations, ...   \n",
       "17  [lordsugar, sugar, dopey, worth, show, money, ...   \n",
       "18  [questions, friends, facebook, askthedonald, f...   \n",
       "19  [sexual, rape, abuse, military, assault, force...   \n",
       "\n",
       "                                  Representative_Docs  \n",
       "0   [PeritusTraining realDonaldTrump Donald cant p...  \n",
       "1   [M_Foresta realDonaldTrump Id think make great...  \n",
       "2   [great confidence China properly deal North Ko...  \n",
       "3   [Stock Market hit another record high Jobs loo...  \n",
       "4   [Border Patrol Law Enforcement apprehended cap...  \n",
       "5   [Im Scotland open hope greatest golf course wo...  \n",
       "6   [White House Press Conference today PM Thank, ...  \n",
       "7   [problem government create real jobs entrepren...  \n",
       "8   [Via WWE Donald Trump announced WWE Hall Fame,...  \n",
       "9   [First Minister AlexSalmond destroying beauty ...  \n",
       "10  [Reality TVs Bad Girl OMAROSA back upcoming th...  \n",
       "11  [Success final failure fatal courage continue ...  \n",
       "12  [con artists changed name GLOBAL WARMING CLIMA...  \n",
       "13  [RickSantorum losing home state Pennsylvania M...  \n",
       "14  [Newsstand sales VanityFair run sleepy Graydon...  \n",
       "15  [Lex_Shep realDonaldTrump TMobile JohnLegere e...  \n",
       "16  [Join autismspeaks light world blue LIUB raise...  \n",
       "17  [Dopey Sugar Lord_SugarIm worth billion acknow...  \n",
       "18  [Head Facebook page questions answered next As...  \n",
       "19  [Sexual assault rape Armed Forces Massive prob...  "
      ]
     },
     "execution_count": 144,
     "metadata": {},
     "output_type": "execute_result"
    }
   ],
   "source": [
    "topic_model.get_topic_info()"
   ]
  },
  {
   "cell_type": "code",
   "execution_count": 146,
   "metadata": {},
   "outputs": [
    {
     "data": {
      "text/plain": [
       "[('lordsugar', np.float64(0.46376850064593494)),\n",
       " ('sugar', np.float64(0.3650467268201899)),\n",
       " ('dopey', np.float64(0.2644470638279822)),\n",
       " ('worth', np.float64(0.08251364742767488)),\n",
       " ('show', np.float64(0.0823198073533679)),\n",
       " ('money', np.float64(0.05471870427159346)),\n",
       " ('ipod', np.float64(0.05436048071930963)),\n",
       " ('piersmorgan', np.float64(0.053719021143290906)),\n",
       " ('cant', np.float64(0.050812927701900844)),\n",
       " ('making', np.float64(0.050104705313644096))]"
      ]
     },
     "execution_count": 146,
     "metadata": {},
     "output_type": "execute_result"
    }
   ],
   "source": [
    "topic_model.get_topic(16)"
   ]
  },
  {
   "cell_type": "code",
   "execution_count": 147,
   "metadata": {},
   "outputs": [
    {
     "data": {
      "text/html": [
       "<div>\n",
       "<style scoped>\n",
       "    .dataframe tbody tr th:only-of-type {\n",
       "        vertical-align: middle;\n",
       "    }\n",
       "\n",
       "    .dataframe tbody tr th {\n",
       "        vertical-align: top;\n",
       "    }\n",
       "\n",
       "    .dataframe thead th {\n",
       "        text-align: right;\n",
       "    }\n",
       "</style>\n",
       "<table border=\"1\" class=\"dataframe\">\n",
       "  <thead>\n",
       "    <tr style=\"text-align: right;\">\n",
       "      <th></th>\n",
       "      <th>Document</th>\n",
       "      <th>Topic</th>\n",
       "      <th>Name</th>\n",
       "      <th>Representation</th>\n",
       "      <th>Representative_Docs</th>\n",
       "      <th>Top_n_words</th>\n",
       "      <th>Probability</th>\n",
       "      <th>Representative_document</th>\n",
       "    </tr>\n",
       "  </thead>\n",
       "  <tbody>\n",
       "    <tr>\n",
       "      <th>0</th>\n",
       "      <td>sure tune watch Donald Trump Late Night David ...</td>\n",
       "      <td>0</td>\n",
       "      <td>0_realdonaldtrump_trump_great_president</td>\n",
       "      <td>[realdonaldtrump, trump, great, president, run...</td>\n",
       "      <td>[M_Foresta realDonaldTrump Id think make great...</td>\n",
       "      <td>realdonaldtrump - trump - great - president - ...</td>\n",
       "      <td>0.410069</td>\n",
       "      <td>False</td>\n",
       "    </tr>\n",
       "    <tr>\n",
       "      <th>1</th>\n",
       "      <td>Donald Trump appearing View tomorrow morning d...</td>\n",
       "      <td>-1</td>\n",
       "      <td>-1_realdonaldtrump_trump_great_president</td>\n",
       "      <td>[realdonaldtrump, trump, great, president, tha...</td>\n",
       "      <td>[PeritusTraining realDonaldTrump Donald cant p...</td>\n",
       "      <td>realdonaldtrump - trump - great - president - ...</td>\n",
       "      <td>0.000000</td>\n",
       "      <td>False</td>\n",
       "    </tr>\n",
       "    <tr>\n",
       "      <th>2</th>\n",
       "      <td>Donald Trump reads Top Ten Financial Tips Late...</td>\n",
       "      <td>0</td>\n",
       "      <td>0_realdonaldtrump_trump_great_president</td>\n",
       "      <td>[realdonaldtrump, trump, great, president, run...</td>\n",
       "      <td>[M_Foresta realDonaldTrump Id think make great...</td>\n",
       "      <td>realdonaldtrump - trump - great - president - ...</td>\n",
       "      <td>0.219888</td>\n",
       "      <td>False</td>\n",
       "    </tr>\n",
       "    <tr>\n",
       "      <th>3</th>\n",
       "      <td>New Blog Post Celebrity Apprentice Finale Less...</td>\n",
       "      <td>0</td>\n",
       "      <td>0_realdonaldtrump_trump_great_president</td>\n",
       "      <td>[realdonaldtrump, trump, great, president, run...</td>\n",
       "      <td>[M_Foresta realDonaldTrump Id think make great...</td>\n",
       "      <td>realdonaldtrump - trump - great - president - ...</td>\n",
       "      <td>0.401477</td>\n",
       "      <td>False</td>\n",
       "    </tr>\n",
       "    <tr>\n",
       "      <th>4</th>\n",
       "      <td>persona never wallflower Id rather build walls...</td>\n",
       "      <td>-1</td>\n",
       "      <td>-1_realdonaldtrump_trump_great_president</td>\n",
       "      <td>[realdonaldtrump, trump, great, president, tha...</td>\n",
       "      <td>[PeritusTraining realDonaldTrump Donald cant p...</td>\n",
       "      <td>realdonaldtrump - trump - great - president - ...</td>\n",
       "      <td>0.000000</td>\n",
       "      <td>False</td>\n",
       "    </tr>\n",
       "    <tr>\n",
       "      <th>...</th>\n",
       "      <td>...</td>\n",
       "      <td>...</td>\n",
       "      <td>...</td>\n",
       "      <td>...</td>\n",
       "      <td>...</td>\n",
       "      <td>...</td>\n",
       "      <td>...</td>\n",
       "      <td>...</td>\n",
       "    </tr>\n",
       "    <tr>\n",
       "      <th>34474</th>\n",
       "      <td>Chris Jacobs JacobsNY tremendous Congressman a...</td>\n",
       "      <td>0</td>\n",
       "      <td>0_realdonaldtrump_trump_great_president</td>\n",
       "      <td>[realdonaldtrump, trump, great, president, run...</td>\n",
       "      <td>[M_Foresta realDonaldTrump Id think make great...</td>\n",
       "      <td>realdonaldtrump - trump - great - president - ...</td>\n",
       "      <td>0.855200</td>\n",
       "      <td>False</td>\n",
       "    </tr>\n",
       "    <tr>\n",
       "      <th>34475</th>\n",
       "      <td>Congressman LeeZeldin fighter New York serves ...</td>\n",
       "      <td>0</td>\n",
       "      <td>0_realdonaldtrump_trump_great_president</td>\n",
       "      <td>[realdonaldtrump, trump, great, president, run...</td>\n",
       "      <td>[M_Foresta realDonaldTrump Id think make great...</td>\n",
       "      <td>realdonaldtrump - trump - great - president - ...</td>\n",
       "      <td>0.507853</td>\n",
       "      <td>False</td>\n",
       "    </tr>\n",
       "    <tr>\n",
       "      <th>34476</th>\n",
       "      <td>LyndaBennettNC Complete Total Endorsement grea...</td>\n",
       "      <td>0</td>\n",
       "      <td>0_realdonaldtrump_trump_great_president</td>\n",
       "      <td>[realdonaldtrump, trump, great, president, run...</td>\n",
       "      <td>[M_Foresta realDonaldTrump Id think make great...</td>\n",
       "      <td>realdonaldtrump - trump - great - president - ...</td>\n",
       "      <td>0.435526</td>\n",
       "      <td>False</td>\n",
       "    </tr>\n",
       "    <tr>\n",
       "      <th>34477</th>\n",
       "      <td>GREAT woman son looking heaven proud wonderful...</td>\n",
       "      <td>0</td>\n",
       "      <td>0_realdonaldtrump_trump_great_president</td>\n",
       "      <td>[realdonaldtrump, trump, great, president, run...</td>\n",
       "      <td>[M_Foresta realDonaldTrump Id think make great...</td>\n",
       "      <td>realdonaldtrump - trump - great - president - ...</td>\n",
       "      <td>0.644987</td>\n",
       "      <td>False</td>\n",
       "    </tr>\n",
       "    <tr>\n",
       "      <th>34478</th>\n",
       "      <td>Joe Biden TOTAL FAILURE Government bungled eve...</td>\n",
       "      <td>0</td>\n",
       "      <td>0_realdonaldtrump_trump_great_president</td>\n",
       "      <td>[realdonaldtrump, trump, great, president, run...</td>\n",
       "      <td>[M_Foresta realDonaldTrump Id think make great...</td>\n",
       "      <td>realdonaldtrump - trump - great - president - ...</td>\n",
       "      <td>1.000000</td>\n",
       "      <td>False</td>\n",
       "    </tr>\n",
       "  </tbody>\n",
       "</table>\n",
       "<p>34479 rows × 8 columns</p>\n",
       "</div>"
      ],
      "text/plain": [
       "                                                Document  Topic  \\\n",
       "0      sure tune watch Donald Trump Late Night David ...      0   \n",
       "1      Donald Trump appearing View tomorrow morning d...     -1   \n",
       "2      Donald Trump reads Top Ten Financial Tips Late...      0   \n",
       "3      New Blog Post Celebrity Apprentice Finale Less...      0   \n",
       "4      persona never wallflower Id rather build walls...     -1   \n",
       "...                                                  ...    ...   \n",
       "34474  Chris Jacobs JacobsNY tremendous Congressman a...      0   \n",
       "34475  Congressman LeeZeldin fighter New York serves ...      0   \n",
       "34476  LyndaBennettNC Complete Total Endorsement grea...      0   \n",
       "34477  GREAT woman son looking heaven proud wonderful...      0   \n",
       "34478  Joe Biden TOTAL FAILURE Government bungled eve...      0   \n",
       "\n",
       "                                           Name  \\\n",
       "0       0_realdonaldtrump_trump_great_president   \n",
       "1      -1_realdonaldtrump_trump_great_president   \n",
       "2       0_realdonaldtrump_trump_great_president   \n",
       "3       0_realdonaldtrump_trump_great_president   \n",
       "4      -1_realdonaldtrump_trump_great_president   \n",
       "...                                         ...   \n",
       "34474   0_realdonaldtrump_trump_great_president   \n",
       "34475   0_realdonaldtrump_trump_great_president   \n",
       "34476   0_realdonaldtrump_trump_great_president   \n",
       "34477   0_realdonaldtrump_trump_great_president   \n",
       "34478   0_realdonaldtrump_trump_great_president   \n",
       "\n",
       "                                          Representation  \\\n",
       "0      [realdonaldtrump, trump, great, president, run...   \n",
       "1      [realdonaldtrump, trump, great, president, tha...   \n",
       "2      [realdonaldtrump, trump, great, president, run...   \n",
       "3      [realdonaldtrump, trump, great, president, run...   \n",
       "4      [realdonaldtrump, trump, great, president, tha...   \n",
       "...                                                  ...   \n",
       "34474  [realdonaldtrump, trump, great, president, run...   \n",
       "34475  [realdonaldtrump, trump, great, president, run...   \n",
       "34476  [realdonaldtrump, trump, great, president, run...   \n",
       "34477  [realdonaldtrump, trump, great, president, run...   \n",
       "34478  [realdonaldtrump, trump, great, president, run...   \n",
       "\n",
       "                                     Representative_Docs  \\\n",
       "0      [M_Foresta realDonaldTrump Id think make great...   \n",
       "1      [PeritusTraining realDonaldTrump Donald cant p...   \n",
       "2      [M_Foresta realDonaldTrump Id think make great...   \n",
       "3      [M_Foresta realDonaldTrump Id think make great...   \n",
       "4      [PeritusTraining realDonaldTrump Donald cant p...   \n",
       "...                                                  ...   \n",
       "34474  [M_Foresta realDonaldTrump Id think make great...   \n",
       "34475  [M_Foresta realDonaldTrump Id think make great...   \n",
       "34476  [M_Foresta realDonaldTrump Id think make great...   \n",
       "34477  [M_Foresta realDonaldTrump Id think make great...   \n",
       "34478  [M_Foresta realDonaldTrump Id think make great...   \n",
       "\n",
       "                                             Top_n_words  Probability  \\\n",
       "0      realdonaldtrump - trump - great - president - ...     0.410069   \n",
       "1      realdonaldtrump - trump - great - president - ...     0.000000   \n",
       "2      realdonaldtrump - trump - great - president - ...     0.219888   \n",
       "3      realdonaldtrump - trump - great - president - ...     0.401477   \n",
       "4      realdonaldtrump - trump - great - president - ...     0.000000   \n",
       "...                                                  ...          ...   \n",
       "34474  realdonaldtrump - trump - great - president - ...     0.855200   \n",
       "34475  realdonaldtrump - trump - great - president - ...     0.507853   \n",
       "34476  realdonaldtrump - trump - great - president - ...     0.435526   \n",
       "34477  realdonaldtrump - trump - great - president - ...     0.644987   \n",
       "34478  realdonaldtrump - trump - great - president - ...     1.000000   \n",
       "\n",
       "       Representative_document  \n",
       "0                        False  \n",
       "1                        False  \n",
       "2                        False  \n",
       "3                        False  \n",
       "4                        False  \n",
       "...                        ...  \n",
       "34474                    False  \n",
       "34475                    False  \n",
       "34476                    False  \n",
       "34477                    False  \n",
       "34478                    False  \n",
       "\n",
       "[34479 rows x 8 columns]"
      ]
     },
     "execution_count": 147,
     "metadata": {},
     "output_type": "execute_result"
    }
   ],
   "source": [
    "# -1 refers to all outliers and should typically be ignored.\n",
    "\n",
    "# Using .get_document_info, we can also extract information on a document level, \n",
    "# such as their corresponding topics, probabilities, whether they are representative documents for a topic, etc.:\n",
    "\n",
    "topic_model.get_document_info(documents)"
   ]
  },
  {
   "cell_type": "code",
   "execution_count": 148,
   "metadata": {},
   "outputs": [
    {
     "data": {
      "application/vnd.plotly.v1+json": {
       "config": {
        "plotlyServerURL": "https://plot.ly"
       },
       "data": [
        {
         "marker": {
          "color": "#D55E00"
         },
         "orientation": "h",
         "type": "bar",
         "x": [
          0.012973197794578836,
          0.016503375317882967,
          0.019563348149642897,
          0.022945839388866705,
          0.03229341528539855
         ],
         "xaxis": "x",
         "y": [
          "run  ",
          "president  ",
          "great  ",
          "trump  ",
          "realdonaldtrump  "
         ],
         "yaxis": "y"
        },
        {
         "marker": {
          "color": "#0072B2"
         },
         "orientation": "h",
         "type": "bar",
         "x": [
          0.030778926874633943,
          0.03305165940601727,
          0.03615455360928051,
          0.04325523140303825,
          0.07256682275541547
         ],
         "xaxis": "x2",
         "y": [
          "korea  ",
          "trade  ",
          "iran  ",
          "us  ",
          "china  "
         ],
         "yaxis": "y2"
        },
        {
         "marker": {
          "color": "#CC79A7"
         },
         "orientation": "h",
         "type": "bar",
         "x": [
          0.02575666026151377,
          0.02598974856177217,
          0.03707246573977469,
          0.041375150157203035,
          0.04156018329679006
         ],
         "xaxis": "x3",
         "y": [
          "jobs  ",
          "tax  ",
          "barackobama  ",
          "obama  ",
          "obamacare  "
         ],
         "yaxis": "y3"
        },
        {
         "marker": {
          "color": "#E69F00"
         },
         "orientation": "h",
         "type": "bar",
         "x": [
          0.023027275882816108,
          0.023287616875739714,
          0.023579529033194078,
          0.02569206578270307,
          0.03869918347270298
         ],
         "xaxis": "x4",
         "y": [
          "ebola  ",
          "people  ",
          "wall  ",
          "mexico  ",
          "border  "
         ],
         "yaxis": "y4"
        },
        {
         "marker": {
          "color": "#56B4E9"
         },
         "orientation": "h",
         "type": "bar",
         "x": [
          0.04647037917684826,
          0.0476857771889508,
          0.0563335043910197,
          0.06478157431945375,
          0.06489257548515275
         ],
         "xaxis": "x5",
         "y": [
          "hotel  ",
          "course  ",
          "macys  ",
          "trump  ",
          "golf  "
         ],
         "yaxis": "y5"
        },
        {
         "marker": {
          "color": "#009E73"
         },
         "orientation": "h",
         "type": "bar",
         "x": [
          0.02861912757261205,
          0.032142558183744695,
          0.038110484243154594,
          0.04048624935818267,
          0.04548577435763864
         ],
         "xaxis": "x6",
         "y": [
          "happy  ",
          "thank  ",
          "today  ",
          "honor  ",
          "great  "
         ],
         "yaxis": "y6"
        },
        {
         "marker": {
          "color": "#F0E442"
         },
         "orientation": "h",
         "type": "bar",
         "x": [
          0.03372061234287839,
          0.03522553882867185,
          0.03733721052195616,
          0.05604516114216781,
          0.06474553605256614
         ],
         "xaxis": "x7",
         "y": [
          "success  ",
          "big  ",
          "keep  ",
          "think  ",
          "entrepreneurs  "
         ],
         "yaxis": "y7"
        },
        {
         "marker": {
          "color": "#D55E00"
         },
         "orientation": "h",
         "type": "bar",
         "x": [
          0.032946251943249856,
          0.03395900773248891,
          0.03759119451898509,
          0.03839413688307766,
          0.05080191580179494
         ],
         "xaxis": "x8",
         "y": [
          "nflcommish  ",
          "wwe  ",
          "great  ",
          "nfl  ",
          "yankees  "
         ],
         "yaxis": "y8"
        },
        {
         "marker": {
          "color": "#0072B2"
         },
         "orientation": "h",
         "type": "bar",
         "x": [
          0.07950601399777522,
          0.08287088278113612,
          0.1364777671419717,
          0.18122128120883207,
          0.2493735567460434
         ],
         "xaxis": "x9",
         "y": [
          "ugly  ",
          "scotland  ",
          "alexsalmond  ",
          "turbines  ",
          "wind  "
         ],
         "yaxis": "y9"
        },
        {
         "marker": {
          "color": "#CC79A7"
         },
         "orientation": "h",
         "type": "bar",
         "x": [
          0.061027877174573905,
          0.0907345455066743,
          0.10685493155461391,
          0.10691359384078812,
          0.2679392596216357
         ],
         "xaxis": "x10",
         "y": [
          "th  ",
          "star  ",
          "omarosa  ",
          "season  ",
          "celebapprentice  "
         ],
         "yaxis": "y10"
        },
        {
         "marker": {
          "color": "#E69F00"
         },
         "orientation": "h",
         "type": "bar",
         "x": [
          0.0943421189261681,
          0.11094123698470937,
          0.11749084403410212,
          0.11861610078420945,
          0.11981653594348612
         ],
         "xaxis": "x11",
         "y": [
          "henry  ",
          "winston  ",
          "churchill  ",
          "einstein  ",
          "albert  "
         ],
         "yaxis": "y11"
        },
        {
         "marker": {
          "color": "#56B4E9"
         },
         "orientation": "h",
         "type": "bar",
         "x": [
          0.07696948670252927,
          0.11354375114259714,
          0.13426024456836233,
          0.2642127822856096,
          0.27387569835963466
         ],
         "xaxis": "x12",
         "y": [
          "without  ",
          "climate  ",
          "energy  ",
          "warming  ",
          "global  "
         ],
         "yaxis": "y12"
        },
        {
         "marker": {
          "color": "#009E73"
         },
         "orientation": "h",
         "type": "bar",
         "x": [
          0.06004253404397406,
          0.06351209159353935,
          0.0673747011584603,
          0.09378547762908417,
          0.3164844518202817
         ],
         "xaxis": "x13",
         "y": [
          "paulryanvp  ",
          "penn  ",
          "cont  ",
          "ricksantorum  ",
          "mittromney  "
         ],
         "yaxis": "y13"
        },
        {
         "marker": {
          "color": "#F0E442"
         },
         "orientation": "h",
         "type": "bar",
         "x": [
          0.1250798783141528,
          0.14017224534521855,
          0.17293279916468632,
          0.22271772240490742,
          0.24984751457053736
         ],
         "xaxis": "x14",
         "y": [
          "lance  ",
          "magazine  ",
          "carter  ",
          "graydon  ",
          "vanityfair  "
         ],
         "yaxis": "y14"
        },
        {
         "marker": {
          "color": "#D55E00"
         },
         "orientation": "h",
         "type": "bar",
         "x": [
          0.15876680055280165,
          0.1709796313645556,
          0.2029233286214725,
          0.20971265106914957,
          0.2658236732485266
         ],
         "xaxis": "x15",
         "y": [
          "johnlegere  ",
          "iphone  ",
          "screen  ",
          "apple  ",
          "tmobile  "
         ],
         "yaxis": "y15"
        },
        {
         "marker": {
          "color": "#0072B2"
         },
         "orientation": "h",
         "type": "bar",
         "x": [
          0.09626403031598306,
          0.10965416109415103,
          0.11823913850926708,
          0.1526291389993097,
          0.43549733113546385
         ],
         "xaxis": "x16",
         "y": [
          "massive  ",
          "vaccinations  ",
          "vaccine  ",
          "autismspeaks  ",
          "autism  "
         ],
         "yaxis": "y16"
        },
        {
         "marker": {
          "color": "#CC79A7"
         },
         "orientation": "h",
         "type": "bar",
         "x": [
          0.0823198073533679,
          0.08251364742767488,
          0.2644470638279822,
          0.3650467268201899,
          0.46376850064593494
         ],
         "xaxis": "x17",
         "y": [
          "show  ",
          "worth  ",
          "dopey  ",
          "sugar  ",
          "lordsugar  "
         ],
         "yaxis": "y17"
        },
        {
         "marker": {
          "color": "#E69F00"
         },
         "orientation": "h",
         "type": "bar",
         "x": [
          0.17824175263730813,
          0.1795808284569738,
          0.1808535480789575,
          0.18113236302552305,
          0.3238484350323787
         ],
         "xaxis": "x18",
         "y": [
          "fox  ",
          "askthedonald  ",
          "facebook  ",
          "friends  ",
          "questions  "
         ],
         "yaxis": "y18"
        },
        {
         "marker": {
          "color": "#56B4E9"
         },
         "orientation": "h",
         "type": "bar",
         "x": [
          0.17984659152525348,
          0.1932860697032722,
          0.19947093486730458,
          0.20743826049365394,
          0.5466677975363137
         ],
         "xaxis": "x19",
         "y": [
          "assault  ",
          "military  ",
          "abuse  ",
          "rape  ",
          "sexual  "
         ],
         "yaxis": "y19"
        }
       ],
       "layout": {
        "annotations": [
         {
          "font": {
           "size": 16
          },
          "showarrow": false,
          "text": "Topic 0",
          "x": 0.0875,
          "xanchor": "center",
          "xref": "paper",
          "y": 0.9999999999999999,
          "yanchor": "bottom",
          "yref": "paper"
         },
         {
          "font": {
           "size": 16
          },
          "showarrow": false,
          "text": "Topic 1",
          "x": 0.36250000000000004,
          "xanchor": "center",
          "xref": "paper",
          "y": 0.9999999999999999,
          "yanchor": "bottom",
          "yref": "paper"
         },
         {
          "font": {
           "size": 16
          },
          "showarrow": false,
          "text": "Topic 2",
          "x": 0.6375000000000001,
          "xanchor": "center",
          "xref": "paper",
          "y": 0.9999999999999999,
          "yanchor": "bottom",
          "yref": "paper"
         },
         {
          "font": {
           "size": 16
          },
          "showarrow": false,
          "text": "Topic 3",
          "x": 0.9125,
          "xanchor": "center",
          "xref": "paper",
          "y": 0.9999999999999999,
          "yanchor": "bottom",
          "yref": "paper"
         },
         {
          "font": {
           "size": 16
          },
          "showarrow": false,
          "text": "Topic 4",
          "x": 0.0875,
          "xanchor": "center",
          "xref": "paper",
          "y": 0.7839999999999999,
          "yanchor": "bottom",
          "yref": "paper"
         },
         {
          "font": {
           "size": 16
          },
          "showarrow": false,
          "text": "Topic 5",
          "x": 0.36250000000000004,
          "xanchor": "center",
          "xref": "paper",
          "y": 0.7839999999999999,
          "yanchor": "bottom",
          "yref": "paper"
         },
         {
          "font": {
           "size": 16
          },
          "showarrow": false,
          "text": "Topic 6",
          "x": 0.6375000000000001,
          "xanchor": "center",
          "xref": "paper",
          "y": 0.7839999999999999,
          "yanchor": "bottom",
          "yref": "paper"
         },
         {
          "font": {
           "size": 16
          },
          "showarrow": false,
          "text": "Topic 7",
          "x": 0.9125,
          "xanchor": "center",
          "xref": "paper",
          "y": 0.7839999999999999,
          "yanchor": "bottom",
          "yref": "paper"
         },
         {
          "font": {
           "size": 16
          },
          "showarrow": false,
          "text": "Topic 8",
          "x": 0.0875,
          "xanchor": "center",
          "xref": "paper",
          "y": 0.568,
          "yanchor": "bottom",
          "yref": "paper"
         },
         {
          "font": {
           "size": 16
          },
          "showarrow": false,
          "text": "Topic 9",
          "x": 0.36250000000000004,
          "xanchor": "center",
          "xref": "paper",
          "y": 0.568,
          "yanchor": "bottom",
          "yref": "paper"
         },
         {
          "font": {
           "size": 16
          },
          "showarrow": false,
          "text": "Topic 10",
          "x": 0.6375000000000001,
          "xanchor": "center",
          "xref": "paper",
          "y": 0.568,
          "yanchor": "bottom",
          "yref": "paper"
         },
         {
          "font": {
           "size": 16
          },
          "showarrow": false,
          "text": "Topic 11",
          "x": 0.9125,
          "xanchor": "center",
          "xref": "paper",
          "y": 0.568,
          "yanchor": "bottom",
          "yref": "paper"
         },
         {
          "font": {
           "size": 16
          },
          "showarrow": false,
          "text": "Topic 12",
          "x": 0.0875,
          "xanchor": "center",
          "xref": "paper",
          "y": 0.352,
          "yanchor": "bottom",
          "yref": "paper"
         },
         {
          "font": {
           "size": 16
          },
          "showarrow": false,
          "text": "Topic 13",
          "x": 0.36250000000000004,
          "xanchor": "center",
          "xref": "paper",
          "y": 0.352,
          "yanchor": "bottom",
          "yref": "paper"
         },
         {
          "font": {
           "size": 16
          },
          "showarrow": false,
          "text": "Topic 14",
          "x": 0.6375000000000001,
          "xanchor": "center",
          "xref": "paper",
          "y": 0.352,
          "yanchor": "bottom",
          "yref": "paper"
         },
         {
          "font": {
           "size": 16
          },
          "showarrow": false,
          "text": "Topic 15",
          "x": 0.9125,
          "xanchor": "center",
          "xref": "paper",
          "y": 0.352,
          "yanchor": "bottom",
          "yref": "paper"
         },
         {
          "font": {
           "size": 16
          },
          "showarrow": false,
          "text": "Topic 16",
          "x": 0.0875,
          "xanchor": "center",
          "xref": "paper",
          "y": 0.13599999999999998,
          "yanchor": "bottom",
          "yref": "paper"
         },
         {
          "font": {
           "size": 16
          },
          "showarrow": false,
          "text": "Topic 17",
          "x": 0.36250000000000004,
          "xanchor": "center",
          "xref": "paper",
          "y": 0.13599999999999998,
          "yanchor": "bottom",
          "yref": "paper"
         },
         {
          "font": {
           "size": 16
          },
          "showarrow": false,
          "text": "Topic 18",
          "x": 0.6375000000000001,
          "xanchor": "center",
          "xref": "paper",
          "y": 0.13599999999999998,
          "yanchor": "bottom",
          "yref": "paper"
         }
        ],
        "height": 1250,
        "hoverlabel": {
         "bgcolor": "white",
         "font": {
          "family": "Rockwell",
          "size": 16
         }
        },
        "showlegend": false,
        "template": {
         "data": {
          "bar": [
           {
            "error_x": {
             "color": "#2a3f5f"
            },
            "error_y": {
             "color": "#2a3f5f"
            },
            "marker": {
             "line": {
              "color": "white",
              "width": 0.5
             },
             "pattern": {
              "fillmode": "overlay",
              "size": 10,
              "solidity": 0.2
             }
            },
            "type": "bar"
           }
          ],
          "barpolar": [
           {
            "marker": {
             "line": {
              "color": "white",
              "width": 0.5
             },
             "pattern": {
              "fillmode": "overlay",
              "size": 10,
              "solidity": 0.2
             }
            },
            "type": "barpolar"
           }
          ],
          "carpet": [
           {
            "aaxis": {
             "endlinecolor": "#2a3f5f",
             "gridcolor": "#C8D4E3",
             "linecolor": "#C8D4E3",
             "minorgridcolor": "#C8D4E3",
             "startlinecolor": "#2a3f5f"
            },
            "baxis": {
             "endlinecolor": "#2a3f5f",
             "gridcolor": "#C8D4E3",
             "linecolor": "#C8D4E3",
             "minorgridcolor": "#C8D4E3",
             "startlinecolor": "#2a3f5f"
            },
            "type": "carpet"
           }
          ],
          "choropleth": [
           {
            "colorbar": {
             "outlinewidth": 0,
             "ticks": ""
            },
            "type": "choropleth"
           }
          ],
          "contour": [
           {
            "colorbar": {
             "outlinewidth": 0,
             "ticks": ""
            },
            "colorscale": [
             [
              0,
              "#0d0887"
             ],
             [
              0.1111111111111111,
              "#46039f"
             ],
             [
              0.2222222222222222,
              "#7201a8"
             ],
             [
              0.3333333333333333,
              "#9c179e"
             ],
             [
              0.4444444444444444,
              "#bd3786"
             ],
             [
              0.5555555555555556,
              "#d8576b"
             ],
             [
              0.6666666666666666,
              "#ed7953"
             ],
             [
              0.7777777777777778,
              "#fb9f3a"
             ],
             [
              0.8888888888888888,
              "#fdca26"
             ],
             [
              1,
              "#f0f921"
             ]
            ],
            "type": "contour"
           }
          ],
          "contourcarpet": [
           {
            "colorbar": {
             "outlinewidth": 0,
             "ticks": ""
            },
            "type": "contourcarpet"
           }
          ],
          "heatmap": [
           {
            "colorbar": {
             "outlinewidth": 0,
             "ticks": ""
            },
            "colorscale": [
             [
              0,
              "#0d0887"
             ],
             [
              0.1111111111111111,
              "#46039f"
             ],
             [
              0.2222222222222222,
              "#7201a8"
             ],
             [
              0.3333333333333333,
              "#9c179e"
             ],
             [
              0.4444444444444444,
              "#bd3786"
             ],
             [
              0.5555555555555556,
              "#d8576b"
             ],
             [
              0.6666666666666666,
              "#ed7953"
             ],
             [
              0.7777777777777778,
              "#fb9f3a"
             ],
             [
              0.8888888888888888,
              "#fdca26"
             ],
             [
              1,
              "#f0f921"
             ]
            ],
            "type": "heatmap"
           }
          ],
          "heatmapgl": [
           {
            "colorbar": {
             "outlinewidth": 0,
             "ticks": ""
            },
            "colorscale": [
             [
              0,
              "#0d0887"
             ],
             [
              0.1111111111111111,
              "#46039f"
             ],
             [
              0.2222222222222222,
              "#7201a8"
             ],
             [
              0.3333333333333333,
              "#9c179e"
             ],
             [
              0.4444444444444444,
              "#bd3786"
             ],
             [
              0.5555555555555556,
              "#d8576b"
             ],
             [
              0.6666666666666666,
              "#ed7953"
             ],
             [
              0.7777777777777778,
              "#fb9f3a"
             ],
             [
              0.8888888888888888,
              "#fdca26"
             ],
             [
              1,
              "#f0f921"
             ]
            ],
            "type": "heatmapgl"
           }
          ],
          "histogram": [
           {
            "marker": {
             "pattern": {
              "fillmode": "overlay",
              "size": 10,
              "solidity": 0.2
             }
            },
            "type": "histogram"
           }
          ],
          "histogram2d": [
           {
            "colorbar": {
             "outlinewidth": 0,
             "ticks": ""
            },
            "colorscale": [
             [
              0,
              "#0d0887"
             ],
             [
              0.1111111111111111,
              "#46039f"
             ],
             [
              0.2222222222222222,
              "#7201a8"
             ],
             [
              0.3333333333333333,
              "#9c179e"
             ],
             [
              0.4444444444444444,
              "#bd3786"
             ],
             [
              0.5555555555555556,
              "#d8576b"
             ],
             [
              0.6666666666666666,
              "#ed7953"
             ],
             [
              0.7777777777777778,
              "#fb9f3a"
             ],
             [
              0.8888888888888888,
              "#fdca26"
             ],
             [
              1,
              "#f0f921"
             ]
            ],
            "type": "histogram2d"
           }
          ],
          "histogram2dcontour": [
           {
            "colorbar": {
             "outlinewidth": 0,
             "ticks": ""
            },
            "colorscale": [
             [
              0,
              "#0d0887"
             ],
             [
              0.1111111111111111,
              "#46039f"
             ],
             [
              0.2222222222222222,
              "#7201a8"
             ],
             [
              0.3333333333333333,
              "#9c179e"
             ],
             [
              0.4444444444444444,
              "#bd3786"
             ],
             [
              0.5555555555555556,
              "#d8576b"
             ],
             [
              0.6666666666666666,
              "#ed7953"
             ],
             [
              0.7777777777777778,
              "#fb9f3a"
             ],
             [
              0.8888888888888888,
              "#fdca26"
             ],
             [
              1,
              "#f0f921"
             ]
            ],
            "type": "histogram2dcontour"
           }
          ],
          "mesh3d": [
           {
            "colorbar": {
             "outlinewidth": 0,
             "ticks": ""
            },
            "type": "mesh3d"
           }
          ],
          "parcoords": [
           {
            "line": {
             "colorbar": {
              "outlinewidth": 0,
              "ticks": ""
             }
            },
            "type": "parcoords"
           }
          ],
          "pie": [
           {
            "automargin": true,
            "type": "pie"
           }
          ],
          "scatter": [
           {
            "fillpattern": {
             "fillmode": "overlay",
             "size": 10,
             "solidity": 0.2
            },
            "type": "scatter"
           }
          ],
          "scatter3d": [
           {
            "line": {
             "colorbar": {
              "outlinewidth": 0,
              "ticks": ""
             }
            },
            "marker": {
             "colorbar": {
              "outlinewidth": 0,
              "ticks": ""
             }
            },
            "type": "scatter3d"
           }
          ],
          "scattercarpet": [
           {
            "marker": {
             "colorbar": {
              "outlinewidth": 0,
              "ticks": ""
             }
            },
            "type": "scattercarpet"
           }
          ],
          "scattergeo": [
           {
            "marker": {
             "colorbar": {
              "outlinewidth": 0,
              "ticks": ""
             }
            },
            "type": "scattergeo"
           }
          ],
          "scattergl": [
           {
            "marker": {
             "colorbar": {
              "outlinewidth": 0,
              "ticks": ""
             }
            },
            "type": "scattergl"
           }
          ],
          "scattermapbox": [
           {
            "marker": {
             "colorbar": {
              "outlinewidth": 0,
              "ticks": ""
             }
            },
            "type": "scattermapbox"
           }
          ],
          "scatterpolar": [
           {
            "marker": {
             "colorbar": {
              "outlinewidth": 0,
              "ticks": ""
             }
            },
            "type": "scatterpolar"
           }
          ],
          "scatterpolargl": [
           {
            "marker": {
             "colorbar": {
              "outlinewidth": 0,
              "ticks": ""
             }
            },
            "type": "scatterpolargl"
           }
          ],
          "scatterternary": [
           {
            "marker": {
             "colorbar": {
              "outlinewidth": 0,
              "ticks": ""
             }
            },
            "type": "scatterternary"
           }
          ],
          "surface": [
           {
            "colorbar": {
             "outlinewidth": 0,
             "ticks": ""
            },
            "colorscale": [
             [
              0,
              "#0d0887"
             ],
             [
              0.1111111111111111,
              "#46039f"
             ],
             [
              0.2222222222222222,
              "#7201a8"
             ],
             [
              0.3333333333333333,
              "#9c179e"
             ],
             [
              0.4444444444444444,
              "#bd3786"
             ],
             [
              0.5555555555555556,
              "#d8576b"
             ],
             [
              0.6666666666666666,
              "#ed7953"
             ],
             [
              0.7777777777777778,
              "#fb9f3a"
             ],
             [
              0.8888888888888888,
              "#fdca26"
             ],
             [
              1,
              "#f0f921"
             ]
            ],
            "type": "surface"
           }
          ],
          "table": [
           {
            "cells": {
             "fill": {
              "color": "#EBF0F8"
             },
             "line": {
              "color": "white"
             }
            },
            "header": {
             "fill": {
              "color": "#C8D4E3"
             },
             "line": {
              "color": "white"
             }
            },
            "type": "table"
           }
          ]
         },
         "layout": {
          "annotationdefaults": {
           "arrowcolor": "#2a3f5f",
           "arrowhead": 0,
           "arrowwidth": 1
          },
          "autotypenumbers": "strict",
          "coloraxis": {
           "colorbar": {
            "outlinewidth": 0,
            "ticks": ""
           }
          },
          "colorscale": {
           "diverging": [
            [
             0,
             "#8e0152"
            ],
            [
             0.1,
             "#c51b7d"
            ],
            [
             0.2,
             "#de77ae"
            ],
            [
             0.3,
             "#f1b6da"
            ],
            [
             0.4,
             "#fde0ef"
            ],
            [
             0.5,
             "#f7f7f7"
            ],
            [
             0.6,
             "#e6f5d0"
            ],
            [
             0.7,
             "#b8e186"
            ],
            [
             0.8,
             "#7fbc41"
            ],
            [
             0.9,
             "#4d9221"
            ],
            [
             1,
             "#276419"
            ]
           ],
           "sequential": [
            [
             0,
             "#0d0887"
            ],
            [
             0.1111111111111111,
             "#46039f"
            ],
            [
             0.2222222222222222,
             "#7201a8"
            ],
            [
             0.3333333333333333,
             "#9c179e"
            ],
            [
             0.4444444444444444,
             "#bd3786"
            ],
            [
             0.5555555555555556,
             "#d8576b"
            ],
            [
             0.6666666666666666,
             "#ed7953"
            ],
            [
             0.7777777777777778,
             "#fb9f3a"
            ],
            [
             0.8888888888888888,
             "#fdca26"
            ],
            [
             1,
             "#f0f921"
            ]
           ],
           "sequentialminus": [
            [
             0,
             "#0d0887"
            ],
            [
             0.1111111111111111,
             "#46039f"
            ],
            [
             0.2222222222222222,
             "#7201a8"
            ],
            [
             0.3333333333333333,
             "#9c179e"
            ],
            [
             0.4444444444444444,
             "#bd3786"
            ],
            [
             0.5555555555555556,
             "#d8576b"
            ],
            [
             0.6666666666666666,
             "#ed7953"
            ],
            [
             0.7777777777777778,
             "#fb9f3a"
            ],
            [
             0.8888888888888888,
             "#fdca26"
            ],
            [
             1,
             "#f0f921"
            ]
           ]
          },
          "colorway": [
           "#636efa",
           "#EF553B",
           "#00cc96",
           "#ab63fa",
           "#FFA15A",
           "#19d3f3",
           "#FF6692",
           "#B6E880",
           "#FF97FF",
           "#FECB52"
          ],
          "font": {
           "color": "#2a3f5f"
          },
          "geo": {
           "bgcolor": "white",
           "lakecolor": "white",
           "landcolor": "white",
           "showlakes": true,
           "showland": true,
           "subunitcolor": "#C8D4E3"
          },
          "hoverlabel": {
           "align": "left"
          },
          "hovermode": "closest",
          "mapbox": {
           "style": "light"
          },
          "paper_bgcolor": "white",
          "plot_bgcolor": "white",
          "polar": {
           "angularaxis": {
            "gridcolor": "#EBF0F8",
            "linecolor": "#EBF0F8",
            "ticks": ""
           },
           "bgcolor": "white",
           "radialaxis": {
            "gridcolor": "#EBF0F8",
            "linecolor": "#EBF0F8",
            "ticks": ""
           }
          },
          "scene": {
           "xaxis": {
            "backgroundcolor": "white",
            "gridcolor": "#DFE8F3",
            "gridwidth": 2,
            "linecolor": "#EBF0F8",
            "showbackground": true,
            "ticks": "",
            "zerolinecolor": "#EBF0F8"
           },
           "yaxis": {
            "backgroundcolor": "white",
            "gridcolor": "#DFE8F3",
            "gridwidth": 2,
            "linecolor": "#EBF0F8",
            "showbackground": true,
            "ticks": "",
            "zerolinecolor": "#EBF0F8"
           },
           "zaxis": {
            "backgroundcolor": "white",
            "gridcolor": "#DFE8F3",
            "gridwidth": 2,
            "linecolor": "#EBF0F8",
            "showbackground": true,
            "ticks": "",
            "zerolinecolor": "#EBF0F8"
           }
          },
          "shapedefaults": {
           "line": {
            "color": "#2a3f5f"
           }
          },
          "ternary": {
           "aaxis": {
            "gridcolor": "#DFE8F3",
            "linecolor": "#A2B1C6",
            "ticks": ""
           },
           "baxis": {
            "gridcolor": "#DFE8F3",
            "linecolor": "#A2B1C6",
            "ticks": ""
           },
           "bgcolor": "white",
           "caxis": {
            "gridcolor": "#DFE8F3",
            "linecolor": "#A2B1C6",
            "ticks": ""
           }
          },
          "title": {
           "x": 0.05
          },
          "xaxis": {
           "automargin": true,
           "gridcolor": "#EBF0F8",
           "linecolor": "#EBF0F8",
           "ticks": "",
           "title": {
            "standoff": 15
           },
           "zerolinecolor": "#EBF0F8",
           "zerolinewidth": 2
          },
          "yaxis": {
           "automargin": true,
           "gridcolor": "#EBF0F8",
           "linecolor": "#EBF0F8",
           "ticks": "",
           "title": {
            "standoff": 15
           },
           "zerolinecolor": "#EBF0F8",
           "zerolinewidth": 2
          }
         }
        },
        "title": {
         "font": {
          "color": "Black",
          "size": 22
         },
         "text": "Topic Word Scores",
         "x": 0.5,
         "xanchor": "center",
         "yanchor": "top"
        },
        "width": 1000,
        "xaxis": {
         "anchor": "y",
         "domain": [
          0,
          0.175
         ],
         "showgrid": true
        },
        "xaxis10": {
         "anchor": "y10",
         "domain": [
          0.275,
          0.45
         ],
         "showgrid": true
        },
        "xaxis11": {
         "anchor": "y11",
         "domain": [
          0.55,
          0.7250000000000001
         ],
         "showgrid": true
        },
        "xaxis12": {
         "anchor": "y12",
         "domain": [
          0.825,
          1
         ],
         "showgrid": true
        },
        "xaxis13": {
         "anchor": "y13",
         "domain": [
          0,
          0.175
         ],
         "showgrid": true
        },
        "xaxis14": {
         "anchor": "y14",
         "domain": [
          0.275,
          0.45
         ],
         "showgrid": true
        },
        "xaxis15": {
         "anchor": "y15",
         "domain": [
          0.55,
          0.7250000000000001
         ],
         "showgrid": true
        },
        "xaxis16": {
         "anchor": "y16",
         "domain": [
          0.825,
          1
         ],
         "showgrid": true
        },
        "xaxis17": {
         "anchor": "y17",
         "domain": [
          0,
          0.175
         ],
         "showgrid": true
        },
        "xaxis18": {
         "anchor": "y18",
         "domain": [
          0.275,
          0.45
         ],
         "showgrid": true
        },
        "xaxis19": {
         "anchor": "y19",
         "domain": [
          0.55,
          0.7250000000000001
         ],
         "showgrid": true
        },
        "xaxis2": {
         "anchor": "y2",
         "domain": [
          0.275,
          0.45
         ],
         "showgrid": true
        },
        "xaxis20": {
         "anchor": "y20",
         "domain": [
          0.825,
          1
         ],
         "showgrid": true
        },
        "xaxis3": {
         "anchor": "y3",
         "domain": [
          0.55,
          0.7250000000000001
         ],
         "showgrid": true
        },
        "xaxis4": {
         "anchor": "y4",
         "domain": [
          0.825,
          1
         ],
         "showgrid": true
        },
        "xaxis5": {
         "anchor": "y5",
         "domain": [
          0,
          0.175
         ],
         "showgrid": true
        },
        "xaxis6": {
         "anchor": "y6",
         "domain": [
          0.275,
          0.45
         ],
         "showgrid": true
        },
        "xaxis7": {
         "anchor": "y7",
         "domain": [
          0.55,
          0.7250000000000001
         ],
         "showgrid": true
        },
        "xaxis8": {
         "anchor": "y8",
         "domain": [
          0.825,
          1
         ],
         "showgrid": true
        },
        "xaxis9": {
         "anchor": "y9",
         "domain": [
          0,
          0.175
         ],
         "showgrid": true
        },
        "yaxis": {
         "anchor": "x",
         "domain": [
          0.8639999999999999,
          0.9999999999999999
         ],
         "showgrid": true
        },
        "yaxis10": {
         "anchor": "x10",
         "domain": [
          0.43199999999999994,
          0.568
         ],
         "showgrid": true
        },
        "yaxis11": {
         "anchor": "x11",
         "domain": [
          0.43199999999999994,
          0.568
         ],
         "showgrid": true
        },
        "yaxis12": {
         "anchor": "x12",
         "domain": [
          0.43199999999999994,
          0.568
         ],
         "showgrid": true
        },
        "yaxis13": {
         "anchor": "x13",
         "domain": [
          0.21599999999999997,
          0.352
         ],
         "showgrid": true
        },
        "yaxis14": {
         "anchor": "x14",
         "domain": [
          0.21599999999999997,
          0.352
         ],
         "showgrid": true
        },
        "yaxis15": {
         "anchor": "x15",
         "domain": [
          0.21599999999999997,
          0.352
         ],
         "showgrid": true
        },
        "yaxis16": {
         "anchor": "x16",
         "domain": [
          0.21599999999999997,
          0.352
         ],
         "showgrid": true
        },
        "yaxis17": {
         "anchor": "x17",
         "domain": [
          0,
          0.13599999999999998
         ],
         "showgrid": true
        },
        "yaxis18": {
         "anchor": "x18",
         "domain": [
          0,
          0.13599999999999998
         ],
         "showgrid": true
        },
        "yaxis19": {
         "anchor": "x19",
         "domain": [
          0,
          0.13599999999999998
         ],
         "showgrid": true
        },
        "yaxis2": {
         "anchor": "x2",
         "domain": [
          0.8639999999999999,
          0.9999999999999999
         ],
         "showgrid": true
        },
        "yaxis20": {
         "anchor": "x20",
         "domain": [
          0,
          0.13599999999999998
         ],
         "showgrid": true
        },
        "yaxis3": {
         "anchor": "x3",
         "domain": [
          0.8639999999999999,
          0.9999999999999999
         ],
         "showgrid": true
        },
        "yaxis4": {
         "anchor": "x4",
         "domain": [
          0.8639999999999999,
          0.9999999999999999
         ],
         "showgrid": true
        },
        "yaxis5": {
         "anchor": "x5",
         "domain": [
          0.6479999999999999,
          0.7839999999999999
         ],
         "showgrid": true
        },
        "yaxis6": {
         "anchor": "x6",
         "domain": [
          0.6479999999999999,
          0.7839999999999999
         ],
         "showgrid": true
        },
        "yaxis7": {
         "anchor": "x7",
         "domain": [
          0.6479999999999999,
          0.7839999999999999
         ],
         "showgrid": true
        },
        "yaxis8": {
         "anchor": "x8",
         "domain": [
          0.6479999999999999,
          0.7839999999999999
         ],
         "showgrid": true
        },
        "yaxis9": {
         "anchor": "x9",
         "domain": [
          0.43199999999999994,
          0.568
         ],
         "showgrid": true
        }
       }
      }
     },
     "metadata": {},
     "output_type": "display_data"
    }
   ],
   "source": [
    "# We can visualize the selected terms for a few topics by creating bar charts out of the c-TF-IDF scores for each topic representation. Insights can be gained from the relative c-TF-IDF scores between and within topics. Moreover, you can easily compare topic representations to each other. To visualize this hierarchy, run the following:\n",
    "\n",
    "topic_model.visualize_barchart(top_n_topics=20)"
   ]
  },
  {
   "cell_type": "code",
   "execution_count": 149,
   "metadata": {},
   "outputs": [
    {
     "data": {
      "application/vnd.plotly.v1+json": {
       "config": {
        "plotlyServerURL": "https://plot.ly"
       },
       "data": [
        {
         "customdata": [
          [
           0,
           "realdonaldtrump | trump | great | president | run",
           8895
          ],
          [
           1,
           "china | us | iran | trade | korea",
           2125
          ],
          [
           2,
           "obamacare | obama | barackobama | tax | jobs",
           2080
          ],
          [
           3,
           "border | mexico | wall | people | ebola",
           1370
          ],
          [
           4,
           "golf | trump | macys | course | hotel",
           1345
          ],
          [
           5,
           "great | honor | today | thank | happy",
           1273
          ],
          [
           6,
           "entrepreneurs | think | keep | big | success",
           950
          ],
          [
           7,
           "yankees | nfl | great | wwe | nflcommish",
           791
          ],
          [
           8,
           "wind | turbines | alexsalmond | scotland | ugly",
           229
          ],
          [
           9,
           "celebapprentice | season | omarosa | star | th",
           173
          ],
          [
           10,
           "albert | einstein | churchill | winston | henry",
           158
          ],
          [
           11,
           "global | warming | energy | climate | without",
           158
          ],
          [
           12,
           "mittromney | ricksantorum | cont | penn | paulryanvp",
           92
          ],
          [
           13,
           "vanityfair | graydon | carter | magazine | lance",
           80
          ],
          [
           14,
           "tmobile | apple | screen | iphone | johnlegere",
           48
          ],
          [
           15,
           "autism | autismspeaks | vaccine | vaccinations | massive",
           45
          ],
          [
           16,
           "lordsugar | sugar | dopey | worth | show",
           30
          ],
          [
           17,
           "questions | friends | facebook | askthedonald | fox",
           27
          ],
          [
           18,
           "sexual | rape | abuse | military | assault",
           13
          ]
         ],
         "hovertemplate": "<b>Topic %{customdata[0]}</b><br>%{customdata[1]}<br>Size: %{customdata[2]}",
         "legendgroup": "",
         "marker": {
          "color": "#B0BEC5",
          "line": {
           "color": "DarkSlateGrey",
           "width": 2
          },
          "size": [
           8895,
           2125,
           2080,
           1370,
           1345,
           1273,
           950,
           791,
           229,
           173,
           158,
           158,
           92,
           80,
           48,
           45,
           30,
           27,
           13
          ],
          "sizemode": "area",
          "sizeref": 5.559375,
          "symbol": "circle"
         },
         "mode": "markers",
         "name": "",
         "orientation": "v",
         "showlegend": false,
         "type": "scatter",
         "x": [
          10.669320106506348,
          7.75353479385376,
          7.444829940795898,
          6.885191917419434,
          12.481637001037598,
          12.221587181091309,
          13.055302619934082,
          24.76026153564453,
          7.645684242248535,
          11.202864646911621,
          13.001182556152344,
          7.689407825469971,
          10.458784103393555,
          10.463757514953613,
          11.222516059875488,
          10.993547439575195,
          24.997831344604492,
          11.112870216369629,
          6.644798278808594
         ],
         "xaxis": "x",
         "y": [
          8.321023941040039,
          10.826395034790039,
          11.095974922180176,
          10.769402503967285,
          8.719813346862793,
          8.53022575378418,
          -5.853442192077637,
          10.241715431213379,
          9.739290237426758,
          8.91603946685791,
          -5.907587051391602,
          10.130002975463867,
          8.661261558532715,
          8.025594711303711,
          7.702666759490967,
          8.16703987121582,
          10.455406188964844,
          8.65058422088623,
          10.518143653869629
         ],
         "yaxis": "y"
        }
       ],
       "layout": {
        "annotations": [
         {
          "showarrow": false,
          "text": "D1",
          "x": 5.648078536987304,
          "y": 2.98332302570343,
          "yshift": 10
         },
         {
          "showarrow": false,
          "text": "D2",
          "x": 17.197792291641235,
          "xshift": 10,
          "y": 12.760371160507201
         }
        ],
        "height": 650,
        "hoverlabel": {
         "bgcolor": "white",
         "font": {
          "family": "Rockwell",
          "size": 16
         }
        },
        "legend": {
         "itemsizing": "constant",
         "tracegroupgap": 0
        },
        "margin": {
         "t": 60
        },
        "shapes": [
         {
          "line": {
           "color": "#CFD8DC",
           "width": 2
          },
          "type": "line",
          "x0": 17.197792291641235,
          "x1": 17.197792291641235,
          "y0": -6.793725109100341,
          "y1": 12.760371160507201
         },
         {
          "line": {
           "color": "#9E9E9E",
           "width": 2
          },
          "type": "line",
          "x0": 5.648078536987304,
          "x1": 28.747506046295165,
          "y0": 2.98332302570343,
          "y1": 2.98332302570343
         }
        ],
        "sliders": [
         {
          "active": 0,
          "pad": {
           "t": 50
          },
          "steps": [
           {
            "args": [
             {
              "marker.color": [
               [
                "red",
                "#B0BEC5",
                "#B0BEC5",
                "#B0BEC5",
                "#B0BEC5",
                "#B0BEC5",
                "#B0BEC5",
                "#B0BEC5",
                "#B0BEC5",
                "#B0BEC5",
                "#B0BEC5",
                "#B0BEC5",
                "#B0BEC5",
                "#B0BEC5",
                "#B0BEC5",
                "#B0BEC5",
                "#B0BEC5",
                "#B0BEC5",
                "#B0BEC5"
               ]
              ]
             }
            ],
            "label": "Topic 0",
            "method": "update"
           },
           {
            "args": [
             {
              "marker.color": [
               [
                "#B0BEC5",
                "red",
                "#B0BEC5",
                "#B0BEC5",
                "#B0BEC5",
                "#B0BEC5",
                "#B0BEC5",
                "#B0BEC5",
                "#B0BEC5",
                "#B0BEC5",
                "#B0BEC5",
                "#B0BEC5",
                "#B0BEC5",
                "#B0BEC5",
                "#B0BEC5",
                "#B0BEC5",
                "#B0BEC5",
                "#B0BEC5",
                "#B0BEC5"
               ]
              ]
             }
            ],
            "label": "Topic 1",
            "method": "update"
           },
           {
            "args": [
             {
              "marker.color": [
               [
                "#B0BEC5",
                "#B0BEC5",
                "red",
                "#B0BEC5",
                "#B0BEC5",
                "#B0BEC5",
                "#B0BEC5",
                "#B0BEC5",
                "#B0BEC5",
                "#B0BEC5",
                "#B0BEC5",
                "#B0BEC5",
                "#B0BEC5",
                "#B0BEC5",
                "#B0BEC5",
                "#B0BEC5",
                "#B0BEC5",
                "#B0BEC5",
                "#B0BEC5"
               ]
              ]
             }
            ],
            "label": "Topic 2",
            "method": "update"
           },
           {
            "args": [
             {
              "marker.color": [
               [
                "#B0BEC5",
                "#B0BEC5",
                "#B0BEC5",
                "red",
                "#B0BEC5",
                "#B0BEC5",
                "#B0BEC5",
                "#B0BEC5",
                "#B0BEC5",
                "#B0BEC5",
                "#B0BEC5",
                "#B0BEC5",
                "#B0BEC5",
                "#B0BEC5",
                "#B0BEC5",
                "#B0BEC5",
                "#B0BEC5",
                "#B0BEC5",
                "#B0BEC5"
               ]
              ]
             }
            ],
            "label": "Topic 3",
            "method": "update"
           },
           {
            "args": [
             {
              "marker.color": [
               [
                "#B0BEC5",
                "#B0BEC5",
                "#B0BEC5",
                "#B0BEC5",
                "red",
                "#B0BEC5",
                "#B0BEC5",
                "#B0BEC5",
                "#B0BEC5",
                "#B0BEC5",
                "#B0BEC5",
                "#B0BEC5",
                "#B0BEC5",
                "#B0BEC5",
                "#B0BEC5",
                "#B0BEC5",
                "#B0BEC5",
                "#B0BEC5",
                "#B0BEC5"
               ]
              ]
             }
            ],
            "label": "Topic 4",
            "method": "update"
           },
           {
            "args": [
             {
              "marker.color": [
               [
                "#B0BEC5",
                "#B0BEC5",
                "#B0BEC5",
                "#B0BEC5",
                "#B0BEC5",
                "red",
                "#B0BEC5",
                "#B0BEC5",
                "#B0BEC5",
                "#B0BEC5",
                "#B0BEC5",
                "#B0BEC5",
                "#B0BEC5",
                "#B0BEC5",
                "#B0BEC5",
                "#B0BEC5",
                "#B0BEC5",
                "#B0BEC5",
                "#B0BEC5"
               ]
              ]
             }
            ],
            "label": "Topic 5",
            "method": "update"
           },
           {
            "args": [
             {
              "marker.color": [
               [
                "#B0BEC5",
                "#B0BEC5",
                "#B0BEC5",
                "#B0BEC5",
                "#B0BEC5",
                "#B0BEC5",
                "red",
                "#B0BEC5",
                "#B0BEC5",
                "#B0BEC5",
                "#B0BEC5",
                "#B0BEC5",
                "#B0BEC5",
                "#B0BEC5",
                "#B0BEC5",
                "#B0BEC5",
                "#B0BEC5",
                "#B0BEC5",
                "#B0BEC5"
               ]
              ]
             }
            ],
            "label": "Topic 6",
            "method": "update"
           },
           {
            "args": [
             {
              "marker.color": [
               [
                "#B0BEC5",
                "#B0BEC5",
                "#B0BEC5",
                "#B0BEC5",
                "#B0BEC5",
                "#B0BEC5",
                "#B0BEC5",
                "red",
                "#B0BEC5",
                "#B0BEC5",
                "#B0BEC5",
                "#B0BEC5",
                "#B0BEC5",
                "#B0BEC5",
                "#B0BEC5",
                "#B0BEC5",
                "#B0BEC5",
                "#B0BEC5",
                "#B0BEC5"
               ]
              ]
             }
            ],
            "label": "Topic 7",
            "method": "update"
           },
           {
            "args": [
             {
              "marker.color": [
               [
                "#B0BEC5",
                "#B0BEC5",
                "#B0BEC5",
                "#B0BEC5",
                "#B0BEC5",
                "#B0BEC5",
                "#B0BEC5",
                "#B0BEC5",
                "red",
                "#B0BEC5",
                "#B0BEC5",
                "#B0BEC5",
                "#B0BEC5",
                "#B0BEC5",
                "#B0BEC5",
                "#B0BEC5",
                "#B0BEC5",
                "#B0BEC5",
                "#B0BEC5"
               ]
              ]
             }
            ],
            "label": "Topic 8",
            "method": "update"
           },
           {
            "args": [
             {
              "marker.color": [
               [
                "#B0BEC5",
                "#B0BEC5",
                "#B0BEC5",
                "#B0BEC5",
                "#B0BEC5",
                "#B0BEC5",
                "#B0BEC5",
                "#B0BEC5",
                "#B0BEC5",
                "red",
                "#B0BEC5",
                "#B0BEC5",
                "#B0BEC5",
                "#B0BEC5",
                "#B0BEC5",
                "#B0BEC5",
                "#B0BEC5",
                "#B0BEC5",
                "#B0BEC5"
               ]
              ]
             }
            ],
            "label": "Topic 9",
            "method": "update"
           },
           {
            "args": [
             {
              "marker.color": [
               [
                "#B0BEC5",
                "#B0BEC5",
                "#B0BEC5",
                "#B0BEC5",
                "#B0BEC5",
                "#B0BEC5",
                "#B0BEC5",
                "#B0BEC5",
                "#B0BEC5",
                "#B0BEC5",
                "red",
                "#B0BEC5",
                "#B0BEC5",
                "#B0BEC5",
                "#B0BEC5",
                "#B0BEC5",
                "#B0BEC5",
                "#B0BEC5",
                "#B0BEC5"
               ]
              ]
             }
            ],
            "label": "Topic 10",
            "method": "update"
           },
           {
            "args": [
             {
              "marker.color": [
               [
                "#B0BEC5",
                "#B0BEC5",
                "#B0BEC5",
                "#B0BEC5",
                "#B0BEC5",
                "#B0BEC5",
                "#B0BEC5",
                "#B0BEC5",
                "#B0BEC5",
                "#B0BEC5",
                "#B0BEC5",
                "red",
                "#B0BEC5",
                "#B0BEC5",
                "#B0BEC5",
                "#B0BEC5",
                "#B0BEC5",
                "#B0BEC5",
                "#B0BEC5"
               ]
              ]
             }
            ],
            "label": "Topic 11",
            "method": "update"
           },
           {
            "args": [
             {
              "marker.color": [
               [
                "#B0BEC5",
                "#B0BEC5",
                "#B0BEC5",
                "#B0BEC5",
                "#B0BEC5",
                "#B0BEC5",
                "#B0BEC5",
                "#B0BEC5",
                "#B0BEC5",
                "#B0BEC5",
                "#B0BEC5",
                "#B0BEC5",
                "red",
                "#B0BEC5",
                "#B0BEC5",
                "#B0BEC5",
                "#B0BEC5",
                "#B0BEC5",
                "#B0BEC5"
               ]
              ]
             }
            ],
            "label": "Topic 12",
            "method": "update"
           },
           {
            "args": [
             {
              "marker.color": [
               [
                "#B0BEC5",
                "#B0BEC5",
                "#B0BEC5",
                "#B0BEC5",
                "#B0BEC5",
                "#B0BEC5",
                "#B0BEC5",
                "#B0BEC5",
                "#B0BEC5",
                "#B0BEC5",
                "#B0BEC5",
                "#B0BEC5",
                "#B0BEC5",
                "red",
                "#B0BEC5",
                "#B0BEC5",
                "#B0BEC5",
                "#B0BEC5",
                "#B0BEC5"
               ]
              ]
             }
            ],
            "label": "Topic 13",
            "method": "update"
           },
           {
            "args": [
             {
              "marker.color": [
               [
                "#B0BEC5",
                "#B0BEC5",
                "#B0BEC5",
                "#B0BEC5",
                "#B0BEC5",
                "#B0BEC5",
                "#B0BEC5",
                "#B0BEC5",
                "#B0BEC5",
                "#B0BEC5",
                "#B0BEC5",
                "#B0BEC5",
                "#B0BEC5",
                "#B0BEC5",
                "red",
                "#B0BEC5",
                "#B0BEC5",
                "#B0BEC5",
                "#B0BEC5"
               ]
              ]
             }
            ],
            "label": "Topic 14",
            "method": "update"
           },
           {
            "args": [
             {
              "marker.color": [
               [
                "#B0BEC5",
                "#B0BEC5",
                "#B0BEC5",
                "#B0BEC5",
                "#B0BEC5",
                "#B0BEC5",
                "#B0BEC5",
                "#B0BEC5",
                "#B0BEC5",
                "#B0BEC5",
                "#B0BEC5",
                "#B0BEC5",
                "#B0BEC5",
                "#B0BEC5",
                "#B0BEC5",
                "red",
                "#B0BEC5",
                "#B0BEC5",
                "#B0BEC5"
               ]
              ]
             }
            ],
            "label": "Topic 15",
            "method": "update"
           },
           {
            "args": [
             {
              "marker.color": [
               [
                "#B0BEC5",
                "#B0BEC5",
                "#B0BEC5",
                "#B0BEC5",
                "#B0BEC5",
                "#B0BEC5",
                "#B0BEC5",
                "#B0BEC5",
                "#B0BEC5",
                "#B0BEC5",
                "#B0BEC5",
                "#B0BEC5",
                "#B0BEC5",
                "#B0BEC5",
                "#B0BEC5",
                "#B0BEC5",
                "red",
                "#B0BEC5",
                "#B0BEC5"
               ]
              ]
             }
            ],
            "label": "Topic 16",
            "method": "update"
           },
           {
            "args": [
             {
              "marker.color": [
               [
                "#B0BEC5",
                "#B0BEC5",
                "#B0BEC5",
                "#B0BEC5",
                "#B0BEC5",
                "#B0BEC5",
                "#B0BEC5",
                "#B0BEC5",
                "#B0BEC5",
                "#B0BEC5",
                "#B0BEC5",
                "#B0BEC5",
                "#B0BEC5",
                "#B0BEC5",
                "#B0BEC5",
                "#B0BEC5",
                "#B0BEC5",
                "red",
                "#B0BEC5"
               ]
              ]
             }
            ],
            "label": "Topic 17",
            "method": "update"
           },
           {
            "args": [
             {
              "marker.color": [
               [
                "#B0BEC5",
                "#B0BEC5",
                "#B0BEC5",
                "#B0BEC5",
                "#B0BEC5",
                "#B0BEC5",
                "#B0BEC5",
                "#B0BEC5",
                "#B0BEC5",
                "#B0BEC5",
                "#B0BEC5",
                "#B0BEC5",
                "#B0BEC5",
                "#B0BEC5",
                "#B0BEC5",
                "#B0BEC5",
                "#B0BEC5",
                "#B0BEC5",
                "red"
               ]
              ]
             }
            ],
            "label": "Topic 18",
            "method": "update"
           }
          ]
         }
        ],
        "template": {
         "data": {
          "bar": [
           {
            "error_x": {
             "color": "rgb(36,36,36)"
            },
            "error_y": {
             "color": "rgb(36,36,36)"
            },
            "marker": {
             "line": {
              "color": "white",
              "width": 0.5
             },
             "pattern": {
              "fillmode": "overlay",
              "size": 10,
              "solidity": 0.2
             }
            },
            "type": "bar"
           }
          ],
          "barpolar": [
           {
            "marker": {
             "line": {
              "color": "white",
              "width": 0.5
             },
             "pattern": {
              "fillmode": "overlay",
              "size": 10,
              "solidity": 0.2
             }
            },
            "type": "barpolar"
           }
          ],
          "carpet": [
           {
            "aaxis": {
             "endlinecolor": "rgb(36,36,36)",
             "gridcolor": "white",
             "linecolor": "white",
             "minorgridcolor": "white",
             "startlinecolor": "rgb(36,36,36)"
            },
            "baxis": {
             "endlinecolor": "rgb(36,36,36)",
             "gridcolor": "white",
             "linecolor": "white",
             "minorgridcolor": "white",
             "startlinecolor": "rgb(36,36,36)"
            },
            "type": "carpet"
           }
          ],
          "choropleth": [
           {
            "colorbar": {
             "outlinewidth": 1,
             "tickcolor": "rgb(36,36,36)",
             "ticks": "outside"
            },
            "type": "choropleth"
           }
          ],
          "contour": [
           {
            "colorbar": {
             "outlinewidth": 1,
             "tickcolor": "rgb(36,36,36)",
             "ticks": "outside"
            },
            "colorscale": [
             [
              0,
              "#440154"
             ],
             [
              0.1111111111111111,
              "#482878"
             ],
             [
              0.2222222222222222,
              "#3e4989"
             ],
             [
              0.3333333333333333,
              "#31688e"
             ],
             [
              0.4444444444444444,
              "#26828e"
             ],
             [
              0.5555555555555556,
              "#1f9e89"
             ],
             [
              0.6666666666666666,
              "#35b779"
             ],
             [
              0.7777777777777778,
              "#6ece58"
             ],
             [
              0.8888888888888888,
              "#b5de2b"
             ],
             [
              1,
              "#fde725"
             ]
            ],
            "type": "contour"
           }
          ],
          "contourcarpet": [
           {
            "colorbar": {
             "outlinewidth": 1,
             "tickcolor": "rgb(36,36,36)",
             "ticks": "outside"
            },
            "type": "contourcarpet"
           }
          ],
          "heatmap": [
           {
            "colorbar": {
             "outlinewidth": 1,
             "tickcolor": "rgb(36,36,36)",
             "ticks": "outside"
            },
            "colorscale": [
             [
              0,
              "#440154"
             ],
             [
              0.1111111111111111,
              "#482878"
             ],
             [
              0.2222222222222222,
              "#3e4989"
             ],
             [
              0.3333333333333333,
              "#31688e"
             ],
             [
              0.4444444444444444,
              "#26828e"
             ],
             [
              0.5555555555555556,
              "#1f9e89"
             ],
             [
              0.6666666666666666,
              "#35b779"
             ],
             [
              0.7777777777777778,
              "#6ece58"
             ],
             [
              0.8888888888888888,
              "#b5de2b"
             ],
             [
              1,
              "#fde725"
             ]
            ],
            "type": "heatmap"
           }
          ],
          "heatmapgl": [
           {
            "colorbar": {
             "outlinewidth": 1,
             "tickcolor": "rgb(36,36,36)",
             "ticks": "outside"
            },
            "colorscale": [
             [
              0,
              "#440154"
             ],
             [
              0.1111111111111111,
              "#482878"
             ],
             [
              0.2222222222222222,
              "#3e4989"
             ],
             [
              0.3333333333333333,
              "#31688e"
             ],
             [
              0.4444444444444444,
              "#26828e"
             ],
             [
              0.5555555555555556,
              "#1f9e89"
             ],
             [
              0.6666666666666666,
              "#35b779"
             ],
             [
              0.7777777777777778,
              "#6ece58"
             ],
             [
              0.8888888888888888,
              "#b5de2b"
             ],
             [
              1,
              "#fde725"
             ]
            ],
            "type": "heatmapgl"
           }
          ],
          "histogram": [
           {
            "marker": {
             "line": {
              "color": "white",
              "width": 0.6
             }
            },
            "type": "histogram"
           }
          ],
          "histogram2d": [
           {
            "colorbar": {
             "outlinewidth": 1,
             "tickcolor": "rgb(36,36,36)",
             "ticks": "outside"
            },
            "colorscale": [
             [
              0,
              "#440154"
             ],
             [
              0.1111111111111111,
              "#482878"
             ],
             [
              0.2222222222222222,
              "#3e4989"
             ],
             [
              0.3333333333333333,
              "#31688e"
             ],
             [
              0.4444444444444444,
              "#26828e"
             ],
             [
              0.5555555555555556,
              "#1f9e89"
             ],
             [
              0.6666666666666666,
              "#35b779"
             ],
             [
              0.7777777777777778,
              "#6ece58"
             ],
             [
              0.8888888888888888,
              "#b5de2b"
             ],
             [
              1,
              "#fde725"
             ]
            ],
            "type": "histogram2d"
           }
          ],
          "histogram2dcontour": [
           {
            "colorbar": {
             "outlinewidth": 1,
             "tickcolor": "rgb(36,36,36)",
             "ticks": "outside"
            },
            "colorscale": [
             [
              0,
              "#440154"
             ],
             [
              0.1111111111111111,
              "#482878"
             ],
             [
              0.2222222222222222,
              "#3e4989"
             ],
             [
              0.3333333333333333,
              "#31688e"
             ],
             [
              0.4444444444444444,
              "#26828e"
             ],
             [
              0.5555555555555556,
              "#1f9e89"
             ],
             [
              0.6666666666666666,
              "#35b779"
             ],
             [
              0.7777777777777778,
              "#6ece58"
             ],
             [
              0.8888888888888888,
              "#b5de2b"
             ],
             [
              1,
              "#fde725"
             ]
            ],
            "type": "histogram2dcontour"
           }
          ],
          "mesh3d": [
           {
            "colorbar": {
             "outlinewidth": 1,
             "tickcolor": "rgb(36,36,36)",
             "ticks": "outside"
            },
            "type": "mesh3d"
           }
          ],
          "parcoords": [
           {
            "line": {
             "colorbar": {
              "outlinewidth": 1,
              "tickcolor": "rgb(36,36,36)",
              "ticks": "outside"
             }
            },
            "type": "parcoords"
           }
          ],
          "pie": [
           {
            "automargin": true,
            "type": "pie"
           }
          ],
          "scatter": [
           {
            "fillpattern": {
             "fillmode": "overlay",
             "size": 10,
             "solidity": 0.2
            },
            "type": "scatter"
           }
          ],
          "scatter3d": [
           {
            "line": {
             "colorbar": {
              "outlinewidth": 1,
              "tickcolor": "rgb(36,36,36)",
              "ticks": "outside"
             }
            },
            "marker": {
             "colorbar": {
              "outlinewidth": 1,
              "tickcolor": "rgb(36,36,36)",
              "ticks": "outside"
             }
            },
            "type": "scatter3d"
           }
          ],
          "scattercarpet": [
           {
            "marker": {
             "colorbar": {
              "outlinewidth": 1,
              "tickcolor": "rgb(36,36,36)",
              "ticks": "outside"
             }
            },
            "type": "scattercarpet"
           }
          ],
          "scattergeo": [
           {
            "marker": {
             "colorbar": {
              "outlinewidth": 1,
              "tickcolor": "rgb(36,36,36)",
              "ticks": "outside"
             }
            },
            "type": "scattergeo"
           }
          ],
          "scattergl": [
           {
            "marker": {
             "colorbar": {
              "outlinewidth": 1,
              "tickcolor": "rgb(36,36,36)",
              "ticks": "outside"
             }
            },
            "type": "scattergl"
           }
          ],
          "scattermapbox": [
           {
            "marker": {
             "colorbar": {
              "outlinewidth": 1,
              "tickcolor": "rgb(36,36,36)",
              "ticks": "outside"
             }
            },
            "type": "scattermapbox"
           }
          ],
          "scatterpolar": [
           {
            "marker": {
             "colorbar": {
              "outlinewidth": 1,
              "tickcolor": "rgb(36,36,36)",
              "ticks": "outside"
             }
            },
            "type": "scatterpolar"
           }
          ],
          "scatterpolargl": [
           {
            "marker": {
             "colorbar": {
              "outlinewidth": 1,
              "tickcolor": "rgb(36,36,36)",
              "ticks": "outside"
             }
            },
            "type": "scatterpolargl"
           }
          ],
          "scatterternary": [
           {
            "marker": {
             "colorbar": {
              "outlinewidth": 1,
              "tickcolor": "rgb(36,36,36)",
              "ticks": "outside"
             }
            },
            "type": "scatterternary"
           }
          ],
          "surface": [
           {
            "colorbar": {
             "outlinewidth": 1,
             "tickcolor": "rgb(36,36,36)",
             "ticks": "outside"
            },
            "colorscale": [
             [
              0,
              "#440154"
             ],
             [
              0.1111111111111111,
              "#482878"
             ],
             [
              0.2222222222222222,
              "#3e4989"
             ],
             [
              0.3333333333333333,
              "#31688e"
             ],
             [
              0.4444444444444444,
              "#26828e"
             ],
             [
              0.5555555555555556,
              "#1f9e89"
             ],
             [
              0.6666666666666666,
              "#35b779"
             ],
             [
              0.7777777777777778,
              "#6ece58"
             ],
             [
              0.8888888888888888,
              "#b5de2b"
             ],
             [
              1,
              "#fde725"
             ]
            ],
            "type": "surface"
           }
          ],
          "table": [
           {
            "cells": {
             "fill": {
              "color": "rgb(237,237,237)"
             },
             "line": {
              "color": "white"
             }
            },
            "header": {
             "fill": {
              "color": "rgb(217,217,217)"
             },
             "line": {
              "color": "white"
             }
            },
            "type": "table"
           }
          ]
         },
         "layout": {
          "annotationdefaults": {
           "arrowhead": 0,
           "arrowwidth": 1
          },
          "autotypenumbers": "strict",
          "coloraxis": {
           "colorbar": {
            "outlinewidth": 1,
            "tickcolor": "rgb(36,36,36)",
            "ticks": "outside"
           }
          },
          "colorscale": {
           "diverging": [
            [
             0,
             "rgb(103,0,31)"
            ],
            [
             0.1,
             "rgb(178,24,43)"
            ],
            [
             0.2,
             "rgb(214,96,77)"
            ],
            [
             0.3,
             "rgb(244,165,130)"
            ],
            [
             0.4,
             "rgb(253,219,199)"
            ],
            [
             0.5,
             "rgb(247,247,247)"
            ],
            [
             0.6,
             "rgb(209,229,240)"
            ],
            [
             0.7,
             "rgb(146,197,222)"
            ],
            [
             0.8,
             "rgb(67,147,195)"
            ],
            [
             0.9,
             "rgb(33,102,172)"
            ],
            [
             1,
             "rgb(5,48,97)"
            ]
           ],
           "sequential": [
            [
             0,
             "#440154"
            ],
            [
             0.1111111111111111,
             "#482878"
            ],
            [
             0.2222222222222222,
             "#3e4989"
            ],
            [
             0.3333333333333333,
             "#31688e"
            ],
            [
             0.4444444444444444,
             "#26828e"
            ],
            [
             0.5555555555555556,
             "#1f9e89"
            ],
            [
             0.6666666666666666,
             "#35b779"
            ],
            [
             0.7777777777777778,
             "#6ece58"
            ],
            [
             0.8888888888888888,
             "#b5de2b"
            ],
            [
             1,
             "#fde725"
            ]
           ],
           "sequentialminus": [
            [
             0,
             "#440154"
            ],
            [
             0.1111111111111111,
             "#482878"
            ],
            [
             0.2222222222222222,
             "#3e4989"
            ],
            [
             0.3333333333333333,
             "#31688e"
            ],
            [
             0.4444444444444444,
             "#26828e"
            ],
            [
             0.5555555555555556,
             "#1f9e89"
            ],
            [
             0.6666666666666666,
             "#35b779"
            ],
            [
             0.7777777777777778,
             "#6ece58"
            ],
            [
             0.8888888888888888,
             "#b5de2b"
            ],
            [
             1,
             "#fde725"
            ]
           ]
          },
          "colorway": [
           "#1F77B4",
           "#FF7F0E",
           "#2CA02C",
           "#D62728",
           "#9467BD",
           "#8C564B",
           "#E377C2",
           "#7F7F7F",
           "#BCBD22",
           "#17BECF"
          ],
          "font": {
           "color": "rgb(36,36,36)"
          },
          "geo": {
           "bgcolor": "white",
           "lakecolor": "white",
           "landcolor": "white",
           "showlakes": true,
           "showland": true,
           "subunitcolor": "white"
          },
          "hoverlabel": {
           "align": "left"
          },
          "hovermode": "closest",
          "mapbox": {
           "style": "light"
          },
          "paper_bgcolor": "white",
          "plot_bgcolor": "white",
          "polar": {
           "angularaxis": {
            "gridcolor": "rgb(232,232,232)",
            "linecolor": "rgb(36,36,36)",
            "showgrid": false,
            "showline": true,
            "ticks": "outside"
           },
           "bgcolor": "white",
           "radialaxis": {
            "gridcolor": "rgb(232,232,232)",
            "linecolor": "rgb(36,36,36)",
            "showgrid": false,
            "showline": true,
            "ticks": "outside"
           }
          },
          "scene": {
           "xaxis": {
            "backgroundcolor": "white",
            "gridcolor": "rgb(232,232,232)",
            "gridwidth": 2,
            "linecolor": "rgb(36,36,36)",
            "showbackground": true,
            "showgrid": false,
            "showline": true,
            "ticks": "outside",
            "zeroline": false,
            "zerolinecolor": "rgb(36,36,36)"
           },
           "yaxis": {
            "backgroundcolor": "white",
            "gridcolor": "rgb(232,232,232)",
            "gridwidth": 2,
            "linecolor": "rgb(36,36,36)",
            "showbackground": true,
            "showgrid": false,
            "showline": true,
            "ticks": "outside",
            "zeroline": false,
            "zerolinecolor": "rgb(36,36,36)"
           },
           "zaxis": {
            "backgroundcolor": "white",
            "gridcolor": "rgb(232,232,232)",
            "gridwidth": 2,
            "linecolor": "rgb(36,36,36)",
            "showbackground": true,
            "showgrid": false,
            "showline": true,
            "ticks": "outside",
            "zeroline": false,
            "zerolinecolor": "rgb(36,36,36)"
           }
          },
          "shapedefaults": {
           "fillcolor": "black",
           "line": {
            "width": 0
           },
           "opacity": 0.3
          },
          "ternary": {
           "aaxis": {
            "gridcolor": "rgb(232,232,232)",
            "linecolor": "rgb(36,36,36)",
            "showgrid": false,
            "showline": true,
            "ticks": "outside"
           },
           "baxis": {
            "gridcolor": "rgb(232,232,232)",
            "linecolor": "rgb(36,36,36)",
            "showgrid": false,
            "showline": true,
            "ticks": "outside"
           },
           "bgcolor": "white",
           "caxis": {
            "gridcolor": "rgb(232,232,232)",
            "linecolor": "rgb(36,36,36)",
            "showgrid": false,
            "showline": true,
            "ticks": "outside"
           }
          },
          "title": {
           "x": 0.05
          },
          "xaxis": {
           "automargin": true,
           "gridcolor": "rgb(232,232,232)",
           "linecolor": "rgb(36,36,36)",
           "showgrid": false,
           "showline": true,
           "ticks": "outside",
           "title": {
            "standoff": 15
           },
           "zeroline": false,
           "zerolinecolor": "rgb(36,36,36)"
          },
          "yaxis": {
           "automargin": true,
           "gridcolor": "rgb(232,232,232)",
           "linecolor": "rgb(36,36,36)",
           "showgrid": false,
           "showline": true,
           "ticks": "outside",
           "title": {
            "standoff": 15
           },
           "zeroline": false,
           "zerolinecolor": "rgb(36,36,36)"
          }
         }
        },
        "title": {
         "font": {
          "color": "Black",
          "size": 22
         },
         "text": "<b>Intertopic Distance Map</b>",
         "x": 0.5,
         "xanchor": "center",
         "y": 0.95,
         "yanchor": "top"
        },
        "width": 650,
        "xaxis": {
         "anchor": "y",
         "domain": [
          0,
          1
         ],
         "range": [
          5.648078536987304,
          28.747506046295165
         ],
         "title": {
          "text": ""
         },
         "visible": false
        },
        "yaxis": {
         "anchor": "x",
         "domain": [
          0,
          1
         ],
         "range": [
          -6.793725109100341,
          12.760371160507201
         ],
         "title": {
          "text": ""
         },
         "visible": false
        }
       }
      }
     },
     "metadata": {},
     "output_type": "display_data"
    }
   ],
   "source": [
    "topic_model.visualize_topics()"
   ]
  },
  {
   "cell_type": "code",
   "execution_count": 150,
   "metadata": {},
   "outputs": [
    {
     "data": {
      "application/vnd.plotly.v1+json": {
       "config": {
        "plotlyServerURL": "https://plot.ly"
       },
       "data": [
        {
         "coloraxis": "coloraxis",
         "hovertemplate": "x: %{x}<br>y: %{y}<br>Similarity Score: %{z}<extra></extra>",
         "name": "0",
         "type": "heatmap",
         "x": [
          "0_realdonaldtrump_trump_great",
          "1_china_us_iran",
          "2_obamacare_obama_barackobama",
          "3_border_mexico_wall",
          "4_golf_trump_macys",
          "5_great_honor_today",
          "6_entrepreneurs_think_keep",
          "7_yankees_nfl_great",
          "8_wind_turbines_alexsalmond",
          "9_celebapprentice_season_om...",
          "10_albert_einstein_churchill",
          "11_global_warming_energy",
          "12_mittromney_ricksantorum_...",
          "13_vanityfair_graydon_carter",
          "14_tmobile_apple_screen",
          "15_autism_autismspeaks_vacc...",
          "16_lordsugar_sugar_dopey",
          "17_questions_friends_facebook",
          "18_sexual_rape_abuse"
         ],
         "xaxis": "x",
         "y": [
          "0_realdonaldtrump_trump_great",
          "1_china_us_iran",
          "2_obamacare_obama_barackobama",
          "3_border_mexico_wall",
          "4_golf_trump_macys",
          "5_great_honor_today",
          "6_entrepreneurs_think_keep",
          "7_yankees_nfl_great",
          "8_wind_turbines_alexsalmond",
          "9_celebapprentice_season_om...",
          "10_albert_einstein_churchill",
          "11_global_warming_energy",
          "12_mittromney_ricksantorum_...",
          "13_vanityfair_graydon_carter",
          "14_tmobile_apple_screen",
          "15_autism_autismspeaks_vacc...",
          "16_lordsugar_sugar_dopey",
          "17_questions_friends_facebook",
          "18_sexual_rape_abuse"
         ],
         "yaxis": "y",
         "z": [
          [
           0.9999999999999996,
           0.6288303147023647,
           0.7238200602591296,
           0.6776542405572687,
           0.6409514127003895,
           0.6977056691124163,
           0.5299050343418596,
           0.6408260547641096,
           0.3430083664665273,
           0.5511515478119913,
           0.5330209656763456,
           0.5066216338177622,
           0.5880832449598683,
           0.5174285728170254,
           0.4879942002027096,
           0.433164185240967,
           0.3991216545974985,
           0.5449885944449113,
           0.29712407877261776
          ],
          [
           0.6288303147023647,
           1,
           0.7130621555936828,
           0.6921440985845682,
           0.3490160335478432,
           0.520239973580107,
           0.49377124925882787,
           0.3497397908386761,
           0.29887019252901315,
           0.27541447933063434,
           0.4595959810733955,
           0.4853176961292583,
           0.36959996227505065,
           0.2970691635458721,
           0.3637592053648566,
           0.2760147720489529,
           0.16775421712248767,
           0.3487089656048764,
           0.3742815739681814
          ],
          [
           0.7238200602591296,
           0.7130621555936828,
           1.0000000000000004,
           0.7268704268786801,
           0.42183813956654714,
           0.5314139343957864,
           0.5295902767835201,
           0.4180561563645113,
           0.346288151874315,
           0.3032968074470318,
           0.4117218648471847,
           0.514732103562945,
           0.41271202451215827,
           0.3969386121961831,
           0.45874631773785013,
           0.35412467879463855,
           0.2852309977541946,
           0.2850423827776376,
           0.22092417213591234
          ],
          [
           0.6776542405572687,
           0.6921440985845682,
           0.7268704268786801,
           0.9999999999999998,
           0.4414196936146636,
           0.6204996537301442,
           0.4678859770952517,
           0.4269247307746266,
           0.3694550282769723,
           0.28573406722806266,
           0.4046019116671469,
           0.4833057039627388,
           0.4030143376406575,
           0.3248367358528147,
           0.4151846792858717,
           0.4222880896506378,
           0.22788168027276506,
           0.3634704510865806,
           0.3972953194415689
          ],
          [
           0.6409514127003895,
           0.3490160335478432,
           0.42183813956654714,
           0.4414196936146636,
           0.9999999999999998,
           0.6654414639567616,
           0.4475596261568604,
           0.5590329533910423,
           0.32767559834678617,
           0.39282406044269924,
           0.3403694949649605,
           0.3744426179272886,
           0.4837912383408746,
           0.38307248476922884,
           0.3954469989305641,
           0.24199079374397714,
           0.34830753526822955,
           0.40896982169141904,
           0.1449772503167197
          ],
          [
           0.6977056691124163,
           0.520239973580107,
           0.5314139343957864,
           0.6204996537301442,
           0.6654414639567616,
           1.0000000000000002,
           0.42296431001238977,
           0.5953756171888838,
           0.28119026278388853,
           0.384310366205491,
           0.4813391056314915,
           0.4090007648699412,
           0.5313276030395548,
           0.3563826461683256,
           0.33621551622075596,
           0.3602028380867245,
           0.33731005377563705,
           0.4906136289588567,
           0.29288870454692273
          ],
          [
           0.5299050343418596,
           0.49377124925882787,
           0.5295902767835201,
           0.4678859770952517,
           0.4475596261568604,
           0.42296431001238977,
           1.0000000000000004,
           0.4759498514952777,
           0.37025939702424543,
           0.4307097182121701,
           0.6032811538283991,
           0.3695783150547665,
           0.4029135731807353,
           0.4437865273479808,
           0.4480426916167545,
           0.3071281590817295,
           0.40445953114538913,
           0.3720572516009196,
           0.11868664495505069
          ],
          [
           0.6408260547641096,
           0.3497397908386761,
           0.4180561563645113,
           0.4269247307746266,
           0.5590329533910423,
           0.5953756171888838,
           0.4759498514952777,
           1,
           0.2706824704992246,
           0.5372875976706911,
           0.43712400998082224,
           0.33697263230880464,
           0.5342739168993347,
           0.4150195461966049,
           0.4277549143804893,
           0.25984061421379623,
           0.4173335771500889,
           0.39417024077741697,
           0.14895260057076543
          ],
          [
           0.3430083664665273,
           0.29887019252901315,
           0.346288151874315,
           0.3694550282769723,
           0.32767559834678617,
           0.28119026278388853,
           0.37025939702424543,
           0.2706824704992246,
           1.0000000000000009,
           0.16650780594723313,
           0.31569312292091944,
           0.47151319485996507,
           0.2820322060399105,
           0.2336856105906585,
           0.20197930991559296,
           0.2206577504230408,
           0.26405329688529966,
           0.2065703794324058,
           0.16150754039496112
          ],
          [
           0.5511515478119913,
           0.27541447933063434,
           0.3032968074470318,
           0.28573406722806266,
           0.39282406044269924,
           0.384310366205491,
           0.4307097182121701,
           0.5372875976706911,
           0.16650780594723313,
           1.0000000000000002,
           0.26397689641096633,
           0.24264539073468666,
           0.41612514609424056,
           0.47640214733743086,
           0.3334938881094626,
           0.2528301027547656,
           0.40125152574971157,
           0.4405063154274009,
           0.07670491472853068
          ],
          [
           0.5330209656763456,
           0.4595959810733955,
           0.4117218648471847,
           0.4046019116671469,
           0.3403694949649605,
           0.4813391056314915,
           0.6032811538283991,
           0.43712400998082224,
           0.31569312292091944,
           0.26397689641096633,
           1.0000000000000004,
           0.3962492296976021,
           0.4012641477519109,
           0.3858853017626327,
           0.29377611298440315,
           0.28759664437010163,
           0.2898986365024643,
           0.2855869993157233,
           0.25700924699162053
          ],
          [
           0.5066216338177622,
           0.4853176961292583,
           0.514732103562945,
           0.4833057039627388,
           0.3744426179272886,
           0.4090007648699412,
           0.3695783150547665,
           0.33697263230880464,
           0.47151319485996507,
           0.24264539073468666,
           0.3962492296976021,
           0.9999999999999993,
           0.31471268285718074,
           0.32379920847455096,
           0.2720774745110233,
           0.29050013870501434,
           0.2615614399709944,
           0.28210192742374496,
           0.189493785797161
          ],
          [
           0.5880832449598683,
           0.36959996227505065,
           0.41271202451215827,
           0.4030143376406575,
           0.4837912383408746,
           0.5313276030395548,
           0.4029135731807353,
           0.5342739168993347,
           0.2820322060399105,
           0.41612514609424056,
           0.4012641477519109,
           0.31471268285718074,
           1,
           0.3786259811235714,
           0.3387378178871205,
           0.2806464149504889,
           0.31014881044622045,
           0.32996396015976037,
           0.18946578801619315
          ],
          [
           0.5174285728170254,
           0.2970691635458721,
           0.3969386121961831,
           0.3248367358528147,
           0.38307248476922884,
           0.3563826461683256,
           0.4437865273479808,
           0.4150195461966049,
           0.2336856105906585,
           0.47640214733743086,
           0.3858853017626327,
           0.32379920847455096,
           0.3786259811235714,
           0.9999999999999993,
           0.330696549244927,
           0.25335880952909157,
           0.37966069711256717,
           0.29675191269084034,
           0.1906659774146119
          ],
          [
           0.4879942002027096,
           0.3637592053648566,
           0.45874631773785013,
           0.4151846792858717,
           0.3954469989305641,
           0.33621551622075596,
           0.4480426916167545,
           0.4277549143804893,
           0.20197930991559296,
           0.3334938881094626,
           0.29377611298440315,
           0.2720774745110233,
           0.3387378178871205,
           0.330696549244927,
           1,
           0.26343469026321154,
           0.288344116752554,
           0.3148217547016287,
           0.08932138991086734
          ],
          [
           0.433164185240967,
           0.2760147720489529,
           0.35412467879463855,
           0.4222880896506378,
           0.24199079374397714,
           0.3602028380867245,
           0.3071281590817295,
           0.25984061421379623,
           0.2206577504230408,
           0.2528301027547656,
           0.28759664437010163,
           0.29050013870501434,
           0.2806464149504889,
           0.25335880952909157,
           0.26343469026321154,
           1,
           0.1828722663334296,
           0.3241882128100534,
           0.2150753974781767
          ],
          [
           0.3991216545974985,
           0.16775421712248767,
           0.2852309977541946,
           0.22788168027276506,
           0.34830753526822955,
           0.33731005377563705,
           0.40445953114538913,
           0.4173335771500889,
           0.26405329688529966,
           0.40125152574971157,
           0.2898986365024643,
           0.2615614399709944,
           0.31014881044622045,
           0.37966069711256717,
           0.288344116752554,
           0.1828722663334296,
           1.0000000000000007,
           0.30115150965081683,
           0.11079508694074729
          ],
          [
           0.5449885944449113,
           0.3487089656048764,
           0.2850423827776376,
           0.3634704510865806,
           0.40896982169141904,
           0.4906136289588567,
           0.3720572516009196,
           0.39417024077741697,
           0.2065703794324058,
           0.4405063154274009,
           0.2855869993157233,
           0.28210192742374496,
           0.32996396015976037,
           0.29675191269084034,
           0.3148217547016287,
           0.3241882128100534,
           0.30115150965081683,
           0.9999999999999991,
           0.15455827835818567
          ],
          [
           0.29712407877261776,
           0.3742815739681814,
           0.22092417213591234,
           0.3972953194415689,
           0.1449772503167197,
           0.29288870454692273,
           0.11868664495505069,
           0.14895260057076543,
           0.16150754039496112,
           0.07670491472853068,
           0.25700924699162053,
           0.189493785797161,
           0.18946578801619315,
           0.1906659774146119,
           0.08932138991086734,
           0.2150753974781767,
           0.11079508694074729,
           0.15455827835818567,
           1.0000000000000002
          ]
         ]
        }
       ],
       "layout": {
        "coloraxis": {
         "colorbar": {
          "title": {
           "text": "Similarity Score"
          }
         },
         "colorscale": [
          [
           0,
           "rgb(247,252,240)"
          ],
          [
           0.125,
           "rgb(224,243,219)"
          ],
          [
           0.25,
           "rgb(204,235,197)"
          ],
          [
           0.375,
           "rgb(168,221,181)"
          ],
          [
           0.5,
           "rgb(123,204,196)"
          ],
          [
           0.625,
           "rgb(78,179,211)"
          ],
          [
           0.75,
           "rgb(43,140,190)"
          ],
          [
           0.875,
           "rgb(8,104,172)"
          ],
          [
           1,
           "rgb(8,64,129)"
          ]
         ]
        },
        "height": 800,
        "hoverlabel": {
         "bgcolor": "white",
         "font": {
          "family": "Rockwell",
          "size": 16
         }
        },
        "legend": {
         "title": {
          "text": "Trend"
         }
        },
        "margin": {
         "t": 60
        },
        "showlegend": true,
        "template": {
         "data": {
          "bar": [
           {
            "error_x": {
             "color": "#2a3f5f"
            },
            "error_y": {
             "color": "#2a3f5f"
            },
            "marker": {
             "line": {
              "color": "#E5ECF6",
              "width": 0.5
             },
             "pattern": {
              "fillmode": "overlay",
              "size": 10,
              "solidity": 0.2
             }
            },
            "type": "bar"
           }
          ],
          "barpolar": [
           {
            "marker": {
             "line": {
              "color": "#E5ECF6",
              "width": 0.5
             },
             "pattern": {
              "fillmode": "overlay",
              "size": 10,
              "solidity": 0.2
             }
            },
            "type": "barpolar"
           }
          ],
          "carpet": [
           {
            "aaxis": {
             "endlinecolor": "#2a3f5f",
             "gridcolor": "white",
             "linecolor": "white",
             "minorgridcolor": "white",
             "startlinecolor": "#2a3f5f"
            },
            "baxis": {
             "endlinecolor": "#2a3f5f",
             "gridcolor": "white",
             "linecolor": "white",
             "minorgridcolor": "white",
             "startlinecolor": "#2a3f5f"
            },
            "type": "carpet"
           }
          ],
          "choropleth": [
           {
            "colorbar": {
             "outlinewidth": 0,
             "ticks": ""
            },
            "type": "choropleth"
           }
          ],
          "contour": [
           {
            "colorbar": {
             "outlinewidth": 0,
             "ticks": ""
            },
            "colorscale": [
             [
              0,
              "#0d0887"
             ],
             [
              0.1111111111111111,
              "#46039f"
             ],
             [
              0.2222222222222222,
              "#7201a8"
             ],
             [
              0.3333333333333333,
              "#9c179e"
             ],
             [
              0.4444444444444444,
              "#bd3786"
             ],
             [
              0.5555555555555556,
              "#d8576b"
             ],
             [
              0.6666666666666666,
              "#ed7953"
             ],
             [
              0.7777777777777778,
              "#fb9f3a"
             ],
             [
              0.8888888888888888,
              "#fdca26"
             ],
             [
              1,
              "#f0f921"
             ]
            ],
            "type": "contour"
           }
          ],
          "contourcarpet": [
           {
            "colorbar": {
             "outlinewidth": 0,
             "ticks": ""
            },
            "type": "contourcarpet"
           }
          ],
          "heatmap": [
           {
            "colorbar": {
             "outlinewidth": 0,
             "ticks": ""
            },
            "colorscale": [
             [
              0,
              "#0d0887"
             ],
             [
              0.1111111111111111,
              "#46039f"
             ],
             [
              0.2222222222222222,
              "#7201a8"
             ],
             [
              0.3333333333333333,
              "#9c179e"
             ],
             [
              0.4444444444444444,
              "#bd3786"
             ],
             [
              0.5555555555555556,
              "#d8576b"
             ],
             [
              0.6666666666666666,
              "#ed7953"
             ],
             [
              0.7777777777777778,
              "#fb9f3a"
             ],
             [
              0.8888888888888888,
              "#fdca26"
             ],
             [
              1,
              "#f0f921"
             ]
            ],
            "type": "heatmap"
           }
          ],
          "heatmapgl": [
           {
            "colorbar": {
             "outlinewidth": 0,
             "ticks": ""
            },
            "colorscale": [
             [
              0,
              "#0d0887"
             ],
             [
              0.1111111111111111,
              "#46039f"
             ],
             [
              0.2222222222222222,
              "#7201a8"
             ],
             [
              0.3333333333333333,
              "#9c179e"
             ],
             [
              0.4444444444444444,
              "#bd3786"
             ],
             [
              0.5555555555555556,
              "#d8576b"
             ],
             [
              0.6666666666666666,
              "#ed7953"
             ],
             [
              0.7777777777777778,
              "#fb9f3a"
             ],
             [
              0.8888888888888888,
              "#fdca26"
             ],
             [
              1,
              "#f0f921"
             ]
            ],
            "type": "heatmapgl"
           }
          ],
          "histogram": [
           {
            "marker": {
             "pattern": {
              "fillmode": "overlay",
              "size": 10,
              "solidity": 0.2
             }
            },
            "type": "histogram"
           }
          ],
          "histogram2d": [
           {
            "colorbar": {
             "outlinewidth": 0,
             "ticks": ""
            },
            "colorscale": [
             [
              0,
              "#0d0887"
             ],
             [
              0.1111111111111111,
              "#46039f"
             ],
             [
              0.2222222222222222,
              "#7201a8"
             ],
             [
              0.3333333333333333,
              "#9c179e"
             ],
             [
              0.4444444444444444,
              "#bd3786"
             ],
             [
              0.5555555555555556,
              "#d8576b"
             ],
             [
              0.6666666666666666,
              "#ed7953"
             ],
             [
              0.7777777777777778,
              "#fb9f3a"
             ],
             [
              0.8888888888888888,
              "#fdca26"
             ],
             [
              1,
              "#f0f921"
             ]
            ],
            "type": "histogram2d"
           }
          ],
          "histogram2dcontour": [
           {
            "colorbar": {
             "outlinewidth": 0,
             "ticks": ""
            },
            "colorscale": [
             [
              0,
              "#0d0887"
             ],
             [
              0.1111111111111111,
              "#46039f"
             ],
             [
              0.2222222222222222,
              "#7201a8"
             ],
             [
              0.3333333333333333,
              "#9c179e"
             ],
             [
              0.4444444444444444,
              "#bd3786"
             ],
             [
              0.5555555555555556,
              "#d8576b"
             ],
             [
              0.6666666666666666,
              "#ed7953"
             ],
             [
              0.7777777777777778,
              "#fb9f3a"
             ],
             [
              0.8888888888888888,
              "#fdca26"
             ],
             [
              1,
              "#f0f921"
             ]
            ],
            "type": "histogram2dcontour"
           }
          ],
          "mesh3d": [
           {
            "colorbar": {
             "outlinewidth": 0,
             "ticks": ""
            },
            "type": "mesh3d"
           }
          ],
          "parcoords": [
           {
            "line": {
             "colorbar": {
              "outlinewidth": 0,
              "ticks": ""
             }
            },
            "type": "parcoords"
           }
          ],
          "pie": [
           {
            "automargin": true,
            "type": "pie"
           }
          ],
          "scatter": [
           {
            "fillpattern": {
             "fillmode": "overlay",
             "size": 10,
             "solidity": 0.2
            },
            "type": "scatter"
           }
          ],
          "scatter3d": [
           {
            "line": {
             "colorbar": {
              "outlinewidth": 0,
              "ticks": ""
             }
            },
            "marker": {
             "colorbar": {
              "outlinewidth": 0,
              "ticks": ""
             }
            },
            "type": "scatter3d"
           }
          ],
          "scattercarpet": [
           {
            "marker": {
             "colorbar": {
              "outlinewidth": 0,
              "ticks": ""
             }
            },
            "type": "scattercarpet"
           }
          ],
          "scattergeo": [
           {
            "marker": {
             "colorbar": {
              "outlinewidth": 0,
              "ticks": ""
             }
            },
            "type": "scattergeo"
           }
          ],
          "scattergl": [
           {
            "marker": {
             "colorbar": {
              "outlinewidth": 0,
              "ticks": ""
             }
            },
            "type": "scattergl"
           }
          ],
          "scattermapbox": [
           {
            "marker": {
             "colorbar": {
              "outlinewidth": 0,
              "ticks": ""
             }
            },
            "type": "scattermapbox"
           }
          ],
          "scatterpolar": [
           {
            "marker": {
             "colorbar": {
              "outlinewidth": 0,
              "ticks": ""
             }
            },
            "type": "scatterpolar"
           }
          ],
          "scatterpolargl": [
           {
            "marker": {
             "colorbar": {
              "outlinewidth": 0,
              "ticks": ""
             }
            },
            "type": "scatterpolargl"
           }
          ],
          "scatterternary": [
           {
            "marker": {
             "colorbar": {
              "outlinewidth": 0,
              "ticks": ""
             }
            },
            "type": "scatterternary"
           }
          ],
          "surface": [
           {
            "colorbar": {
             "outlinewidth": 0,
             "ticks": ""
            },
            "colorscale": [
             [
              0,
              "#0d0887"
             ],
             [
              0.1111111111111111,
              "#46039f"
             ],
             [
              0.2222222222222222,
              "#7201a8"
             ],
             [
              0.3333333333333333,
              "#9c179e"
             ],
             [
              0.4444444444444444,
              "#bd3786"
             ],
             [
              0.5555555555555556,
              "#d8576b"
             ],
             [
              0.6666666666666666,
              "#ed7953"
             ],
             [
              0.7777777777777778,
              "#fb9f3a"
             ],
             [
              0.8888888888888888,
              "#fdca26"
             ],
             [
              1,
              "#f0f921"
             ]
            ],
            "type": "surface"
           }
          ],
          "table": [
           {
            "cells": {
             "fill": {
              "color": "#EBF0F8"
             },
             "line": {
              "color": "white"
             }
            },
            "header": {
             "fill": {
              "color": "#C8D4E3"
             },
             "line": {
              "color": "white"
             }
            },
            "type": "table"
           }
          ]
         },
         "layout": {
          "annotationdefaults": {
           "arrowcolor": "#2a3f5f",
           "arrowhead": 0,
           "arrowwidth": 1
          },
          "autotypenumbers": "strict",
          "coloraxis": {
           "colorbar": {
            "outlinewidth": 0,
            "ticks": ""
           }
          },
          "colorscale": {
           "diverging": [
            [
             0,
             "#8e0152"
            ],
            [
             0.1,
             "#c51b7d"
            ],
            [
             0.2,
             "#de77ae"
            ],
            [
             0.3,
             "#f1b6da"
            ],
            [
             0.4,
             "#fde0ef"
            ],
            [
             0.5,
             "#f7f7f7"
            ],
            [
             0.6,
             "#e6f5d0"
            ],
            [
             0.7,
             "#b8e186"
            ],
            [
             0.8,
             "#7fbc41"
            ],
            [
             0.9,
             "#4d9221"
            ],
            [
             1,
             "#276419"
            ]
           ],
           "sequential": [
            [
             0,
             "#0d0887"
            ],
            [
             0.1111111111111111,
             "#46039f"
            ],
            [
             0.2222222222222222,
             "#7201a8"
            ],
            [
             0.3333333333333333,
             "#9c179e"
            ],
            [
             0.4444444444444444,
             "#bd3786"
            ],
            [
             0.5555555555555556,
             "#d8576b"
            ],
            [
             0.6666666666666666,
             "#ed7953"
            ],
            [
             0.7777777777777778,
             "#fb9f3a"
            ],
            [
             0.8888888888888888,
             "#fdca26"
            ],
            [
             1,
             "#f0f921"
            ]
           ],
           "sequentialminus": [
            [
             0,
             "#0d0887"
            ],
            [
             0.1111111111111111,
             "#46039f"
            ],
            [
             0.2222222222222222,
             "#7201a8"
            ],
            [
             0.3333333333333333,
             "#9c179e"
            ],
            [
             0.4444444444444444,
             "#bd3786"
            ],
            [
             0.5555555555555556,
             "#d8576b"
            ],
            [
             0.6666666666666666,
             "#ed7953"
            ],
            [
             0.7777777777777778,
             "#fb9f3a"
            ],
            [
             0.8888888888888888,
             "#fdca26"
            ],
            [
             1,
             "#f0f921"
            ]
           ]
          },
          "colorway": [
           "#636efa",
           "#EF553B",
           "#00cc96",
           "#ab63fa",
           "#FFA15A",
           "#19d3f3",
           "#FF6692",
           "#B6E880",
           "#FF97FF",
           "#FECB52"
          ],
          "font": {
           "color": "#2a3f5f"
          },
          "geo": {
           "bgcolor": "white",
           "lakecolor": "white",
           "landcolor": "#E5ECF6",
           "showlakes": true,
           "showland": true,
           "subunitcolor": "white"
          },
          "hoverlabel": {
           "align": "left"
          },
          "hovermode": "closest",
          "mapbox": {
           "style": "light"
          },
          "paper_bgcolor": "white",
          "plot_bgcolor": "#E5ECF6",
          "polar": {
           "angularaxis": {
            "gridcolor": "white",
            "linecolor": "white",
            "ticks": ""
           },
           "bgcolor": "#E5ECF6",
           "radialaxis": {
            "gridcolor": "white",
            "linecolor": "white",
            "ticks": ""
           }
          },
          "scene": {
           "xaxis": {
            "backgroundcolor": "#E5ECF6",
            "gridcolor": "white",
            "gridwidth": 2,
            "linecolor": "white",
            "showbackground": true,
            "ticks": "",
            "zerolinecolor": "white"
           },
           "yaxis": {
            "backgroundcolor": "#E5ECF6",
            "gridcolor": "white",
            "gridwidth": 2,
            "linecolor": "white",
            "showbackground": true,
            "ticks": "",
            "zerolinecolor": "white"
           },
           "zaxis": {
            "backgroundcolor": "#E5ECF6",
            "gridcolor": "white",
            "gridwidth": 2,
            "linecolor": "white",
            "showbackground": true,
            "ticks": "",
            "zerolinecolor": "white"
           }
          },
          "shapedefaults": {
           "line": {
            "color": "#2a3f5f"
           }
          },
          "ternary": {
           "aaxis": {
            "gridcolor": "white",
            "linecolor": "white",
            "ticks": ""
           },
           "baxis": {
            "gridcolor": "white",
            "linecolor": "white",
            "ticks": ""
           },
           "bgcolor": "#E5ECF6",
           "caxis": {
            "gridcolor": "white",
            "linecolor": "white",
            "ticks": ""
           }
          },
          "title": {
           "x": 0.05
          },
          "xaxis": {
           "automargin": true,
           "gridcolor": "white",
           "linecolor": "white",
           "ticks": "",
           "title": {
            "standoff": 15
           },
           "zerolinecolor": "white",
           "zerolinewidth": 2
          },
          "yaxis": {
           "automargin": true,
           "gridcolor": "white",
           "linecolor": "white",
           "ticks": "",
           "title": {
            "standoff": 15
           },
           "zerolinecolor": "white",
           "zerolinewidth": 2
          }
         }
        },
        "title": {
         "font": {
          "color": "Black",
          "size": 22
         },
         "text": "<b>Similarity Matrix</b>",
         "x": 0.55,
         "xanchor": "center",
         "y": 0.95,
         "yanchor": "top"
        },
        "width": 800,
        "xaxis": {
         "anchor": "y",
         "constrain": "domain",
         "domain": [
          0,
          1
         ],
         "scaleanchor": "y"
        },
        "yaxis": {
         "anchor": "x",
         "autorange": "reversed",
         "constrain": "domain",
         "domain": [
          0,
          1
         ]
        }
       }
      }
     },
     "metadata": {},
     "output_type": "display_data"
    }
   ],
   "source": [
    "# Having generated topic embeddings, through both c-TF-IDF and embeddings, we can create a similarity matrix by simply applying cosine similarities through those topic embeddings. The result will be a matrix indicating how similar certain topics are to each other. To visualize the heatmap, run the following:\n",
    "\n",
    "topic_model.visualize_heatmap()"
   ]
  },
  {
   "cell_type": "code",
   "execution_count": 176,
   "metadata": {},
   "outputs": [
    {
     "data": {
      "text/html": [
       "<div>\n",
       "<style scoped>\n",
       "    .dataframe tbody tr th:only-of-type {\n",
       "        vertical-align: middle;\n",
       "    }\n",
       "\n",
       "    .dataframe tbody tr th {\n",
       "        vertical-align: top;\n",
       "    }\n",
       "\n",
       "    .dataframe thead th {\n",
       "        text-align: right;\n",
       "    }\n",
       "</style>\n",
       "<table border=\"1\" class=\"dataframe\">\n",
       "  <thead>\n",
       "    <tr style=\"text-align: right;\">\n",
       "      <th></th>\n",
       "      <th>Topic</th>\n",
       "      <th>Count</th>\n",
       "      <th>Name</th>\n",
       "      <th>Representation</th>\n",
       "      <th>Representative_Docs</th>\n",
       "    </tr>\n",
       "  </thead>\n",
       "  <tbody>\n",
       "    <tr>\n",
       "      <th>0</th>\n",
       "      <td>-1</td>\n",
       "      <td>14597</td>\n",
       "      <td>-1_realdonaldtrump_trump_great_president</td>\n",
       "      <td>[realdonaldtrump, trump, great, president, tha...</td>\n",
       "      <td>[PeritusTraining realDonaldTrump Donald cant p...</td>\n",
       "    </tr>\n",
       "    <tr>\n",
       "      <th>1</th>\n",
       "      <td>0</td>\n",
       "      <td>8895</td>\n",
       "      <td>0_realdonaldtrump_trump_great_president</td>\n",
       "      <td>[realdonaldtrump, trump, great, president, run...</td>\n",
       "      <td>[M_Foresta realDonaldTrump Id think make great...</td>\n",
       "    </tr>\n",
       "    <tr>\n",
       "      <th>2</th>\n",
       "      <td>1</td>\n",
       "      <td>2125</td>\n",
       "      <td>1_china_us_iran_trade</td>\n",
       "      <td>[china, us, iran, trade, korea, north, deal, t...</td>\n",
       "      <td>[great confidence China properly deal North Ko...</td>\n",
       "    </tr>\n",
       "    <tr>\n",
       "      <th>3</th>\n",
       "      <td>2</td>\n",
       "      <td>2080</td>\n",
       "      <td>2_obamacare_obama_barackobama_tax</td>\n",
       "      <td>[obamacare, obama, barackobama, tax, jobs, eco...</td>\n",
       "      <td>[Stock Market hit another record high Jobs loo...</td>\n",
       "    </tr>\n",
       "    <tr>\n",
       "      <th>4</th>\n",
       "      <td>3</td>\n",
       "      <td>1370</td>\n",
       "      <td>3_border_mexico_wall_people</td>\n",
       "      <td>[border, mexico, wall, people, ebola, country,...</td>\n",
       "      <td>[Border Patrol Law Enforcement apprehended cap...</td>\n",
       "    </tr>\n",
       "    <tr>\n",
       "      <th>5</th>\n",
       "      <td>4</td>\n",
       "      <td>1345</td>\n",
       "      <td>4_golf_trump_macys_course</td>\n",
       "      <td>[golf, trump, macys, course, hotel, doral, tie...</td>\n",
       "      <td>[Im Scotland open hope greatest golf course wo...</td>\n",
       "    </tr>\n",
       "    <tr>\n",
       "      <th>6</th>\n",
       "      <td>5</td>\n",
       "      <td>1273</td>\n",
       "      <td>5_great_honor_today_thank</td>\n",
       "      <td>[great, honor, today, thank, happy, veterans, ...</td>\n",
       "      <td>[White House Press Conference today PM Thank, ...</td>\n",
       "    </tr>\n",
       "    <tr>\n",
       "      <th>7</th>\n",
       "      <td>6</td>\n",
       "      <td>950</td>\n",
       "      <td>6_entrepreneurs_think_keep_big</td>\n",
       "      <td>[entrepreneurs, think, keep, big, success, foc...</td>\n",
       "      <td>[problem government create real jobs entrepren...</td>\n",
       "    </tr>\n",
       "    <tr>\n",
       "      <th>8</th>\n",
       "      <td>7</td>\n",
       "      <td>791</td>\n",
       "      <td>7_yankees_nfl_great_wwe</td>\n",
       "      <td>[yankees, nfl, great, wwe, nflcommish, dannyzu...</td>\n",
       "      <td>[Via WWE Donald Trump announced WWE Hall Fame,...</td>\n",
       "    </tr>\n",
       "    <tr>\n",
       "      <th>9</th>\n",
       "      <td>8</td>\n",
       "      <td>229</td>\n",
       "      <td>8_wind_turbines_alexsalmond_scotland</td>\n",
       "      <td>[wind, turbines, alexsalmond, scotland, ugly, ...</td>\n",
       "      <td>[First Minister AlexSalmond destroying beauty ...</td>\n",
       "    </tr>\n",
       "    <tr>\n",
       "      <th>10</th>\n",
       "      <td>9</td>\n",
       "      <td>173</td>\n",
       "      <td>9_celebapprentice_season_omarosa_star</td>\n",
       "      <td>[celebapprentice, season, omarosa, star, th, t...</td>\n",
       "      <td>[Reality TVs Bad Girl OMAROSA back upcoming th...</td>\n",
       "    </tr>\n",
       "    <tr>\n",
       "      <th>11</th>\n",
       "      <td>10</td>\n",
       "      <td>158</td>\n",
       "      <td>10_albert_einstein_churchill_winston</td>\n",
       "      <td>[albert, einstein, churchill, winston, henry, ...</td>\n",
       "      <td>[Success final failure fatal courage continue ...</td>\n",
       "    </tr>\n",
       "    <tr>\n",
       "      <th>12</th>\n",
       "      <td>11</td>\n",
       "      <td>158</td>\n",
       "      <td>11_global_warming_energy_climate</td>\n",
       "      <td>[global, warming, energy, climate, without, co...</td>\n",
       "      <td>[con artists changed name GLOBAL WARMING CLIMA...</td>\n",
       "    </tr>\n",
       "    <tr>\n",
       "      <th>13</th>\n",
       "      <td>12</td>\n",
       "      <td>92</td>\n",
       "      <td>12_mittromney_ricksantorum_cont_penn</td>\n",
       "      <td>[mittromney, ricksantorum, cont, penn, paulrya...</td>\n",
       "      <td>[RickSantorum losing home state Pennsylvania M...</td>\n",
       "    </tr>\n",
       "    <tr>\n",
       "      <th>14</th>\n",
       "      <td>13</td>\n",
       "      <td>80</td>\n",
       "      <td>13_vanityfair_graydon_carter_magazine</td>\n",
       "      <td>[vanityfair, graydon, carter, magazine, lance,...</td>\n",
       "      <td>[Newsstand sales VanityFair run sleepy Graydon...</td>\n",
       "    </tr>\n",
       "    <tr>\n",
       "      <th>15</th>\n",
       "      <td>14</td>\n",
       "      <td>48</td>\n",
       "      <td>14_tmobile_apple_screen_iphone</td>\n",
       "      <td>[tmobile, apple, screen, iphone, johnlegere, l...</td>\n",
       "      <td>[Lex_Shep realDonaldTrump TMobile JohnLegere e...</td>\n",
       "    </tr>\n",
       "    <tr>\n",
       "      <th>16</th>\n",
       "      <td>15</td>\n",
       "      <td>45</td>\n",
       "      <td>15_autism_autismspeaks_vaccine_vaccinations</td>\n",
       "      <td>[autism, autismspeaks, vaccine, vaccinations, ...</td>\n",
       "      <td>[Join autismspeaks light world blue LIUB raise...</td>\n",
       "    </tr>\n",
       "    <tr>\n",
       "      <th>17</th>\n",
       "      <td>16</td>\n",
       "      <td>30</td>\n",
       "      <td>16_lordsugar_sugar_dopey_worth</td>\n",
       "      <td>[lordsugar, sugar, dopey, worth, show, money, ...</td>\n",
       "      <td>[Dopey Sugar Lord_SugarIm worth billion acknow...</td>\n",
       "    </tr>\n",
       "    <tr>\n",
       "      <th>18</th>\n",
       "      <td>17</td>\n",
       "      <td>27</td>\n",
       "      <td>17_questions_friends_facebook_askthedonald</td>\n",
       "      <td>[questions, friends, facebook, askthedonald, f...</td>\n",
       "      <td>[Head Facebook page questions answered next As...</td>\n",
       "    </tr>\n",
       "    <tr>\n",
       "      <th>19</th>\n",
       "      <td>18</td>\n",
       "      <td>13</td>\n",
       "      <td>18_sexual_rape_abuse_military</td>\n",
       "      <td>[sexual, rape, abuse, military, assault, force...</td>\n",
       "      <td>[Sexual assault rape Armed Forces Massive prob...</td>\n",
       "    </tr>\n",
       "  </tbody>\n",
       "</table>\n",
       "</div>"
      ],
      "text/plain": [
       "    Topic  Count                                         Name  \\\n",
       "0      -1  14597     -1_realdonaldtrump_trump_great_president   \n",
       "1       0   8895      0_realdonaldtrump_trump_great_president   \n",
       "2       1   2125                        1_china_us_iran_trade   \n",
       "3       2   2080            2_obamacare_obama_barackobama_tax   \n",
       "4       3   1370                  3_border_mexico_wall_people   \n",
       "5       4   1345                    4_golf_trump_macys_course   \n",
       "6       5   1273                    5_great_honor_today_thank   \n",
       "7       6    950               6_entrepreneurs_think_keep_big   \n",
       "8       7    791                      7_yankees_nfl_great_wwe   \n",
       "9       8    229         8_wind_turbines_alexsalmond_scotland   \n",
       "10      9    173        9_celebapprentice_season_omarosa_star   \n",
       "11     10    158         10_albert_einstein_churchill_winston   \n",
       "12     11    158             11_global_warming_energy_climate   \n",
       "13     12     92         12_mittromney_ricksantorum_cont_penn   \n",
       "14     13     80        13_vanityfair_graydon_carter_magazine   \n",
       "15     14     48               14_tmobile_apple_screen_iphone   \n",
       "16     15     45  15_autism_autismspeaks_vaccine_vaccinations   \n",
       "17     16     30               16_lordsugar_sugar_dopey_worth   \n",
       "18     17     27   17_questions_friends_facebook_askthedonald   \n",
       "19     18     13                18_sexual_rape_abuse_military   \n",
       "\n",
       "                                       Representation  \\\n",
       "0   [realdonaldtrump, trump, great, president, tha...   \n",
       "1   [realdonaldtrump, trump, great, president, run...   \n",
       "2   [china, us, iran, trade, korea, north, deal, t...   \n",
       "3   [obamacare, obama, barackobama, tax, jobs, eco...   \n",
       "4   [border, mexico, wall, people, ebola, country,...   \n",
       "5   [golf, trump, macys, course, hotel, doral, tie...   \n",
       "6   [great, honor, today, thank, happy, veterans, ...   \n",
       "7   [entrepreneurs, think, keep, big, success, foc...   \n",
       "8   [yankees, nfl, great, wwe, nflcommish, dannyzu...   \n",
       "9   [wind, turbines, alexsalmond, scotland, ugly, ...   \n",
       "10  [celebapprentice, season, omarosa, star, th, t...   \n",
       "11  [albert, einstein, churchill, winston, henry, ...   \n",
       "12  [global, warming, energy, climate, without, co...   \n",
       "13  [mittromney, ricksantorum, cont, penn, paulrya...   \n",
       "14  [vanityfair, graydon, carter, magazine, lance,...   \n",
       "15  [tmobile, apple, screen, iphone, johnlegere, l...   \n",
       "16  [autism, autismspeaks, vaccine, vaccinations, ...   \n",
       "17  [lordsugar, sugar, dopey, worth, show, money, ...   \n",
       "18  [questions, friends, facebook, askthedonald, f...   \n",
       "19  [sexual, rape, abuse, military, assault, force...   \n",
       "\n",
       "                                  Representative_Docs  \n",
       "0   [PeritusTraining realDonaldTrump Donald cant p...  \n",
       "1   [M_Foresta realDonaldTrump Id think make great...  \n",
       "2   [great confidence China properly deal North Ko...  \n",
       "3   [Stock Market hit another record high Jobs loo...  \n",
       "4   [Border Patrol Law Enforcement apprehended cap...  \n",
       "5   [Im Scotland open hope greatest golf course wo...  \n",
       "6   [White House Press Conference today PM Thank, ...  \n",
       "7   [problem government create real jobs entrepren...  \n",
       "8   [Via WWE Donald Trump announced WWE Hall Fame,...  \n",
       "9   [First Minister AlexSalmond destroying beauty ...  \n",
       "10  [Reality TVs Bad Girl OMAROSA back upcoming th...  \n",
       "11  [Success final failure fatal courage continue ...  \n",
       "12  [con artists changed name GLOBAL WARMING CLIMA...  \n",
       "13  [RickSantorum losing home state Pennsylvania M...  \n",
       "14  [Newsstand sales VanityFair run sleepy Graydon...  \n",
       "15  [Lex_Shep realDonaldTrump TMobile JohnLegere e...  \n",
       "16  [Join autismspeaks light world blue LIUB raise...  \n",
       "17  [Dopey Sugar Lord_SugarIm worth billion acknow...  \n",
       "18  [Head Facebook page questions answered next As...  \n",
       "19  [Sexual assault rape Armed Forces Massive prob...  "
      ]
     },
     "execution_count": 176,
     "metadata": {},
     "output_type": "execute_result"
    }
   ],
   "source": [
    "topic_model.get_topic_info()"
   ]
  },
  {
   "cell_type": "markdown",
   "metadata": {},
   "source": [
    "# Dynamic topic modeling "
   ]
  },
  {
   "cell_type": "code",
   "execution_count": 186,
   "metadata": {},
   "outputs": [],
   "source": [
    "# create date column \n",
    "df['date'] = pd.to_datetime(df['date'])\n",
    "\n",
    "\n",
    "# create two lists, one for date and one for text \n",
    "\n",
    "dates = df['date'].dt.year.tolist()\n",
    "texts = df['content'].tolist()"
   ]
  },
  {
   "cell_type": "code",
   "execution_count": 190,
   "metadata": {},
   "outputs": [],
   "source": [
    "# define and fit the model\n",
    "topic_model = BERTopic()\n",
    "topics, probs = topic_model.fit_transform(texts)\n",
    "\n",
    "# add the time dimension to the topics\n",
    "topics_over_time = topic_model.topics_over_time(texts, dates, nr_bins=20)"
   ]
  },
  {
   "cell_type": "code",
   "execution_count": 191,
   "metadata": {},
   "outputs": [
    {
     "data": {
      "application/vnd.plotly.v1+json": {
       "config": {
        "plotlyServerURL": "https://plot.ly"
       },
       "data": [
        {
         "hoverinfo": "text",
         "hovertext": [
          "<b>Topic 0</b><br>Words: afraid, unique, pretending, expand, direct",
          "<b>Topic 0</b><br>Words: thetrumpnetwork, europesame, regarding, difficult, fans",
          "<b>Topic 0</b><br>Words: zacharyquinto, brettmdecker, stalkinpeople, spokespeople, jobfantastic",
          "<b>Topic 0</b><br>Words: realdonaldtrump, run, thanks, needs, president",
          "<b>Topic 0</b><br>Words: run, please, realdonaldtrump, president, needs",
          "<b>Topic 0</b><br>Words: run, realdonaldtrump, needs, please, president",
          "<b>Topic 0</b><br>Words: realdonaldtrump, makeamericagreatagain, vote, run, trump",
          "<b>Topic 0</b><br>Words: reince, divided, retaking, presidency, priebus",
          "<b>Topic 0</b><br>Words: magic, faster, remains, fandos, orator",
          "<b>Topic 0</b><br>Words: vision, rogue, eye, griff, symbols",
          "<b>Topic 0</b><br>Words: outmastered, sabato, kellyannepolls, electability, electricity"
         ],
         "marker": {
          "color": "#E69F00"
         },
         "mode": "lines",
         "name": "0_run_realdonaldtrump_please_needs",
         "type": "scatter",
         "x": [
          2008.989,
          2010.65,
          2011.75,
          2012.85,
          2013.95,
          2014.5,
          2015.6,
          2016.7,
          2017.8,
          2018.9,
          2019.45
         ],
         "y": [
          4,
          3,
          16,
          696,
          938,
          1170,
          131,
          3,
          12,
          12,
          3
         ]
        },
        {
         "hoverinfo": "text",
         "hovertext": [
          "<b>Topic 1</b><br>Words: china, chinas, chinese, currency, trade",
          "<b>Topic 1</b><br>Words: china, chinese, chinas, trade, currency",
          "<b>Topic 1</b><br>Words: china, chinese, trade, chinas, us",
          "<b>Topic 1</b><br>Words: china, chinese, trade, overtaken, yuan",
          "<b>Topic 1</b><br>Words: china, manipulation, currency, tpp, trade",
          "<b>Topic 1</b><br>Words: china, uschamber, trade, stairway, deficit",
          "<b>Topic 1</b><br>Words: china, lavar, trade, shoplifting, deals",
          "<b>Topic 1</b><br>Words: trade, tariffs, china, barriers, farmers",
          "<b>Topic 1</b><br>Words: china, tariffs, trade, farmers, chinese",
          "<b>Topic 1</b><br>Words: china, trade, tariffs, farmers, early"
         ],
         "marker": {
          "color": "#56B4E9"
         },
         "mode": "lines",
         "name": "1_china_trade_tariffs_chinese",
         "type": "scatter",
         "x": [
          2010.65,
          2011.75,
          2012.85,
          2013.95,
          2014.5,
          2015.6,
          2016.7,
          2017.8,
          2018.9,
          2019.45
         ],
         "y": [
          52,
          184,
          71,
          32,
          33,
          18,
          25,
          123,
          182,
          39
         ]
        },
        {
         "hoverinfo": "text",
         "hovertext": [
          "<b>Topic 2</b><br>Words: protrudingin, disgustingnipples, barney, disrespectful, shirt",
          "<b>Topic 2</b><br>Words: asbestos, dubephnx, retardant, junk, incredibly",
          "<b>Topic 2</b><br>Words: ideological, presidentthey, burying, trap, gop",
          "<b>Topic 2</b><br>Words: rexhuppke, beaumontanthony, ukraine, forming, holding",
          "<b>Topic 2</b><br>Words: yangkarl, deemcna, proudamericannolying, pelley, rodsandguitars",
          "<b>Topic 2</b><br>Words: mouthed, foul, locker, accused, offering",
          "<b>Topic 2</b><br>Words: congresswoman, schumer, chuck, wilson, tears",
          "<b>Topic 2</b><br>Words: pelosi, nancy, maxine, waters, schumer",
          "<b>Topic 2</b><br>Words: impeachment, schiff, whistleblower, pelosi, ukraine",
          "<b>Topic 2</b><br>Words: impeachment, hoax, nancy, schiff, pelosi"
         ],
         "marker": {
          "color": "#009E73"
         },
         "mode": "lines",
         "name": "2_impeachment_schiff_pelosi_nancy",
         "type": "scatter",
         "x": [
          2010.65,
          2011.75,
          2012.85,
          2013.95,
          2014.5,
          2015.6,
          2016.7,
          2017.8,
          2018.9,
          2019.45
         ],
         "y": [
          1,
          1,
          3,
          2,
          5,
          2,
          10,
          28,
          449,
          124
         ]
        },
        {
         "hoverinfo": "text",
         "hovertext": [
          "<b>Topic 3</b><br>Words: morningsounding, phoner, bobbeckel, resident, weekly",
          "<b>Topic 3</b><br>Words: neneleakes, painatthepump, alerts, starjonesesq, sarahpalinusas",
          "<b>Topic 3</b><br>Words: foxandfriends, monday, fox, mornings, ailes",
          "<b>Topic 3</b><br>Words: foxandfriends, fox, friends, monday, morning",
          "<b>Topic 3</b><br>Words: foxandfriends, foxnews, belllabooo, fox, megynkelly",
          "<b>Topic 3</b><br>Words: megynkelly, foxandfriends, foxnews, fox, cnn",
          "<b>Topic 3</b><br>Words: friendships, foxandfriends, endure, positions, fill",
          "<b>Topic 3</b><br>Words: unannounced, lawn, katiepavlich, petehegseth, foxandfriends",
          "<b>Topic 3</b><br>Words: democrsts, repdougcollins, doug, message, foxandfriends",
          "<b>Topic 3</b><br>Words: dismantled, lifting, outlet, arguments, petehegseth"
         ],
         "marker": {
          "color": "#F0E442"
         },
         "mode": "lines",
         "name": "3_foxandfriends_fox_foxnews_megynkelly",
         "type": "scatter",
         "x": [
          2010.65,
          2011.75,
          2012.85,
          2013.95,
          2014.5,
          2015.6,
          2016.7,
          2017.8,
          2018.9,
          2019.45
         ],
         "y": [
          2,
          3,
          25,
          73,
          221,
          45,
          3,
          2,
          1,
          4
         ]
        },
        {
         "hoverinfo": "text",
         "hovertext": [
          "<b>Topic 4</b><br>Words: immigrationdont, secure, newton, isaac, bridges",
          "<b>Topic 4</b><br>Words: migrant, destined, coup, environmental, promise",
          "<b>Topic 4</b><br>Words: wall, build, borders, border, nation",
          "<b>Topic 4</b><br>Words: wall, border, borders, nbpc, build",
          "<b>Topic 4</b><br>Words: wall, border, security, borders, secure",
          "<b>Topic 4</b><br>Words: wall, border, security, democrats, southern",
          "<b>Topic 4</b><br>Words: wall, border, southern, loopholes, security",
          "<b>Topic 4</b><br>Words: wall, miles, border, southern, built"
         ],
         "marker": {
          "color": "#D55E00"
         },
         "mode": "lines",
         "name": "4_wall_border_security_southern",
         "type": "scatter",
         "x": [
          2012.85,
          2013.95,
          2014.5,
          2015.6,
          2016.7,
          2017.8,
          2018.9,
          2019.45
         ],
         "y": [
          4,
          2,
          13,
          9,
          11,
          95,
          131,
          11
         ]
        },
        {
         "hoverinfo": "text",
         "hovertext": [
          "<b>Topic 5</b><br>Words: iran, irans, nuclear, iranian, weapons",
          "<b>Topic 5</b><br>Words: iran, iranian, nuclear, sanctions, israel",
          "<b>Topic 5</b><br>Words: iran, nuclear, iranian, sanctions, nukes",
          "<b>Topic 5</b><br>Words: iran, kerry, sanctions, nuclear, remove",
          "<b>Topic 5</b><br>Words: iran, nuclear, deal, sanctions, nuke",
          "<b>Topic 5</b><br>Words: iran, nuclear, humiliated, plane, sailors",
          "<b>Topic 5</b><br>Words: iran, iranian, regimes, nuclear, violations",
          "<b>Topic 5</b><br>Words: iran, iranian, rouhani, sanctions, nuclear",
          "<b>Topic 5</b><br>Words: iran, iranian, nuclear, sanctions, deal",
          "<b>Topic 5</b><br>Words: iran, iranian, protesters, kerry, nuclear"
         ],
         "marker": {
          "color": "#0072B2"
         },
         "mode": "lines",
         "name": "5_iran_nuclear_iranian_sanctions",
         "type": "scatter",
         "x": [
          2010.65,
          2011.75,
          2012.85,
          2013.95,
          2014.5,
          2015.6,
          2016.7,
          2017.8,
          2018.9,
          2019.45
         ],
         "y": [
          23,
          30,
          22,
          8,
          52,
          15,
          12,
          18,
          47,
          28
         ]
        },
        {
         "hoverinfo": "text",
         "hovertext": [
          "<b>Topic 6</b><br>Words: fannie, freddie, mae, malfeasance, bailed",
          "<b>Topic 6</b><br>Words: wind, turbines, ugly, alexsalmond, windmills",
          "<b>Topic 6</b><br>Words: wind, turbines, alexsalmond, ugly, bird",
          "<b>Topic 6</b><br>Words: wind, alexsalmond, turbines, aberdeencc, ugly",
          "<b>Topic 6</b><br>Words: elephants, therealtmac, wind, nra, turbines",
          "<b>Topic 6</b><br>Words: biggame, elephants, pressed, conservation, animal"
         ],
         "marker": {
          "color": "#CC79A7"
         },
         "mode": "lines",
         "name": "6_wind_turbines_alexsalmond_ugly",
         "type": "scatter",
         "x": [
          2010.65,
          2011.75,
          2012.85,
          2013.95,
          2014.5,
          2016.7
         ],
         "y": [
          2,
          64,
          132,
          45,
          11,
          1
         ]
        },
        {
         "hoverinfo": "text",
         "hovertext": [
          "<b>Topic 7</b><br>Words: passion, begets, think, goals, experiences",
          "<b>Topic 7</b><br>Words: champion, think, success, goals, focus",
          "<b>Topic 7</b><br>Words: champion, success, goals, think, focus",
          "<b>Topic 7</b><br>Words: goal, ure, newhopenchange, mold, motivational",
          "<b>Topic 7</b><br>Words: pastand, alconv, conquer, doubts, determination",
          "<b>Topic 7</b><br>Words: here, always, better, said, even",
          "<b>Topic 7</b><br>Words: glimmer, breathing, barely, lives, bright",
          "<b>Topic 7</b><br>Words: cure, invisible, learning, worse, problem"
         ],
         "marker": {
          "color": "#E69F00"
         },
         "mode": "lines",
         "name": "7_champion_think_success_goals",
         "type": "scatter",
         "x": [
          2011.75,
          2012.85,
          2013.95,
          2014.5,
          2016.7,
          2017.8,
          2018.9,
          2019.45
         ],
         "y": [
          24,
          125,
          68,
          5,
          2,
          1,
          2,
          3
         ]
        },
        {
         "hoverinfo": "text",
         "hovertext": [
          "<b>Topic 8</b><br>Words: norks, blasting, missile, laughing, sad",
          "<b>Topic 8</b><br>Words: korea, north, korean, south, norks",
          "<b>Topic 8</b><br>Words: kimkotter, korea, negotiates, rodman, surplus",
          "<b>Topic 8</b><br>Words: busan, tylerleesmit, empire, expanding, buildings",
          "<b>Topic 8</b><br>Words: warheads, sweetheart, nukes, testing, hillaryclinton",
          "<b>Topic 8</b><br>Words: korea, north, kim, jong, un",
          "<b>Topic 8</b><br>Words: korea, north, kim, jong, un",
          "<b>Topic 8</b><br>Words: korea, kim, jong, north, un"
         ],
         "marker": {
          "color": "#56B4E9"
         },
         "mode": "lines",
         "name": "8_korea_north_kim_jong",
         "type": "scatter",
         "x": [
          2011.75,
          2012.85,
          2013.95,
          2014.5,
          2015.6,
          2016.7,
          2017.8,
          2018.9
         ],
         "y": [
          1,
          18,
          3,
          1,
          1,
          57,
          89,
          46
         ]
        },
        {
         "hoverinfo": "text",
         "hovertext": [
          "<b>Topic 9</b><br>Words: barackobama, vacationer, habitual, barackobamas, vacation",
          "<b>Topic 9</b><br>Words: barackobama, barackobamas, mittromney, discussing, solyndra",
          "<b>Topic 9</b><br>Words: aloha, ira, embark, roves, barackobama",
          "<b>Topic 9</b><br>Words: travelling, dime, expenses, fundraisers, taxpayer",
          "<b>Topic 9</b><br>Words: wonhe, loss, choke, negatively, repub",
          "<b>Topic 9</b><br>Words: schlapp, matt, difference, held, cpac",
          "<b>Topic 9</b><br>Words: fighting, barack, maybe, spent, race",
          "<b>Topic 9</b><br>Words: faltering, sanctimoniously, devoted, defeating, anger"
         ],
         "marker": {
          "color": "#009E73"
         },
         "mode": "lines",
         "name": "9_barackobama_barackobamas_mittromney_gr...",
         "type": "scatter",
         "x": [
          2010.65,
          2011.75,
          2012.85,
          2013.95,
          2014.5,
          2017.8,
          2018.9,
          2019.45
         ],
         "y": [
          47,
          153,
          5,
          2,
          3,
          1,
          1,
          1
         ]
        },
        {
         "hoverinfo": "text",
         "hovertext": [
          "<b>Topic 10</b><br>Words: ames, outcome, straw, poll, leader",
          "<b>Topic 10</b><br>Words: poll, straw, hera, cares, subsequent",
          "<b>Topic 10</b><br>Words: vinnytitone, dangerweiners, poll, baffling, whacko",
          "<b>Topic 10</b><br>Words: lauraaachinn, slain, announcements, internationally, foley",
          "<b>Topic 10</b><br>Words: poll, polls, carson, lead, iowa",
          "<b>Topic 10</b><br>Words: poll, rubio, carson, cruz, kasich",
          "<b>Topic 10</b><br>Words: hotlinejosh, favorably, nbcwsj, poll, newswashington",
          "<b>Topic 10</b><br>Words: timewell, poll, straw, accomplished, approve",
          "<b>Topic 10</b><br>Words: poll, senategop, gallup, you, swing"
         ],
         "marker": {
          "color": "#F0E442"
         },
         "mode": "lines",
         "name": "10_poll_polls_carson_lead",
         "type": "scatter",
         "x": [
          2010.65,
          2011.75,
          2012.85,
          2013.95,
          2014.5,
          2015.6,
          2016.7,
          2017.8,
          2019.45
         ],
         "y": [
          1,
          6,
          4,
          3,
          143,
          42,
          3,
          3,
          4
         ]
        },
        {
         "hoverinfo": "text",
         "hovertext": [
          "<b>Topic 11</b><br>Words: doral, cadillac, miami, monster, resort",
          "<b>Topic 11</b><br>Words: doral, monster, miami, blue, doralresort",
          "<b>Topic 11</b><br>Words: doral, monster, blue, trumpdoral, miami",
          "<b>Topic 11</b><br>Words: doral, monster, blue, trumpdoral, cadillacchamp",
          "<b>Topic 11</b><br>Words: rory, championship, miami, cadillac, doralbest",
          "<b>Topic 11</b><br>Words: garyplayer, birthday, champion, truly, person",
          "<b>Topic 11</b><br>Words: miami, doral, rescinded, ballrooms, site"
         ],
         "marker": {
          "color": "#D55E00"
         },
         "mode": "lines",
         "name": "11_doral_monster_blue_miami",
         "type": "scatter",
         "x": [
          2011.75,
          2012.85,
          2013.95,
          2014.5,
          2015.6,
          2016.7,
          2018.9
         ],
         "y": [
          24,
          88,
          69,
          17,
          4,
          1,
          4
         ]
        },
        {
         "hoverinfo": "text",
         "hovertext": [
          "<b>Topic 12</b><br>Words: westchester, golf, tngc, channel, club",
          "<b>Topic 12</b><br>Words: channel, fabulous, golf, et, trumps",
          "<b>Topic 12</b><br>Words: golf, course, opens, courses, club",
          "<b>Topic 12</b><br>Words: golf, pga, course, club, trumpgolfla",
          "<b>Topic 12</b><br>Words: golf, pga, courses, course, pgachampionship",
          "<b>Topic 12</b><br>Words: golf, pgagrandslam, trumpgolfla, course, courses",
          "<b>Topic 12</b><br>Words: commercialsboring, tngcbedminster, shellhouopen, whim, gohermie",
          "<b>Topic 12</b><br>Words: dustin, woods, jupiter, johnson, golf",
          "<b>Topic 12</b><br>Words: els, services, assisting, nationalautismawarenessmonth, autism",
          "<b>Topic 12</b><br>Words: havent, played, golf, honor, nice"
         ],
         "marker": {
          "color": "#0072B2"
         },
         "mode": "lines",
         "name": "12_golf_course_pga_courses",
         "type": "scatter",
         "x": [
          2009.55,
          2010.65,
          2011.75,
          2012.85,
          2013.95,
          2014.5,
          2015.6,
          2016.7,
          2018.9,
          2019.45
         ],
         "y": [
          6,
          9,
          17,
          54,
          83,
          30,
          4,
          1,
          1,
          1
         ]
        },
        {
         "hoverinfo": "text",
         "hovertext": [
          "<b>Topic 13</b><br>Words: tax, simplified, code, taxes, cuts",
          "<b>Topic 13</b><br>Words: tax, taxes, cuts, capital, fiscal",
          "<b>Topic 13</b><br>Words: taxes, nonwork, subsidizes, milton, increasingly",
          "<b>Topic 13</b><br>Words: bdrs, bns, angiedrue, jimmcvey, asses",
          "<b>Topic 13</b><br>Words: gals, simplifying, hedge, reductions, outfrontcnn",
          "<b>Topic 13</b><br>Words: reforms, tax, regulations, taxes, failingnytimes",
          "<b>Topic 13</b><br>Words: tax, cuts, reform, cut, taxes",
          "<b>Topic 13</b><br>Words: tax, cuts, cut, bonuses, taxes",
          "<b>Topic 13</b><br>Words: tax, cuts, taxes, cut, created",
          "<b>Topic 13</b><br>Words: payroll, tax, cut, cuts, broadband"
         ],
         "marker": {
          "color": "#CC79A7"
         },
         "mode": "lines",
         "name": "13_tax_cuts_cut_taxes",
         "type": "scatter",
         "x": [
          2010.65,
          2011.75,
          2012.85,
          2013.95,
          2014.5,
          2015.6,
          2016.7,
          2017.8,
          2018.9,
          2019.45
         ],
         "y": [
          16,
          13,
          8,
          2,
          3,
          7,
          87,
          29,
          14,
          8
         ]
        },
        {
         "hoverinfo": "text",
         "hovertext": [
          "<b>Topic 14</b><br>Words: polled, adults, employed, ideal, hr",
          "<b>Topic 14</b><br>Words: entrepreneurs, aspiring, entrepreneurship, bain, opportunities",
          "<b>Topic 14</b><br>Words: entrepreneurs, opportunities, young, mind, ideas",
          "<b>Topic 14</b><br>Words: entrepreneurs, momentum, opportunities, young, keep",
          "<b>Topic 14</b><br>Words: entrepreneurs, youve, momentum, keep, opportunity",
          "<b>Topic 14</b><br>Words: powering, dreamers, innovators, owners, small",
          "<b>Topic 14</b><br>Words: betting, negatively, barely, publicity, ways"
         ],
         "marker": {
          "color": "#E69F00"
         },
         "mode": "lines",
         "name": "14_entrepreneurs_opportunities_momentum_...",
         "type": "scatter",
         "x": [
          2009.55,
          2011.75,
          2012.85,
          2013.95,
          2014.5,
          2016.7,
          2019.45
         ],
         "y": [
          1,
          8,
          41,
          63,
          71,
          1,
          1
         ]
        },
        {
         "hoverinfo": "text",
         "hovertext": [
          "<b>Topic 15</b><br>Words: obamacare, repeal, repealed, ration, inevitably",
          "<b>Topic 15</b><br>Words: obamacare, repeal, costs, premiums, kicked",
          "<b>Topic 15</b><br>Words: obamacare, premiums, defund, repeal, healthcare",
          "<b>Topic 15</b><br>Words: obamacare, premiums, insurance, deductibles, premium",
          "<b>Topic 15</b><br>Words: repeal, premiums, obamacare, replace, oriented",
          "<b>Topic 15</b><br>Words: repeal, replace, obamacare, premiums, healthcare",
          "<b>Topic 15</b><br>Words: obamacare, premiums, healthcare, repeal, deductibles",
          "<b>Topic 15</b><br>Words: useable, deductible, confirming, healthcare, practically",
          "<b>Topic 15</b><br>Words: deductibles, obamacare, premiums, usable, senjohnbarrasso",
          "<b>Topic 15</b><br>Words: hospitals, medical, lateness, insatiable, appetites"
         ],
         "marker": {
          "color": "#56B4E9"
         },
         "mode": "lines",
         "name": "15_obamacare_premiums_repeal_healthcare",
         "type": "scatter",
         "x": [
          2010.65,
          2011.75,
          2012.85,
          2013.95,
          2014.5,
          2015.6,
          2016.7,
          2017.8,
          2018.9,
          2019.45
         ],
         "y": [
          8,
          11,
          65,
          19,
          4,
          23,
          49,
          1,
          3,
          2
         ]
        },
        {
         "hoverinfo": "text",
         "hovertext": [
          "<b>Topic 16</b><br>Words: yankees, oreillywe, steinbrenner, motto, athletic",
          "<b>Topic 16</b><br>Words: arod, misrepresented, baseball, average, unable",
          "<b>Topic 16</b><br>Words: yankees, arod, derek, jeter, nyjets",
          "<b>Topic 16</b><br>Words: yankees, arod, derek, jeter, mlb",
          "<b>Topic 16</b><br>Words: babe, yankees, ruth, derek, jeter",
          "<b>Topic 16</b><br>Words: yogi, berra, wppl, derektheeight, downnobody",
          "<b>Topic 16</b><br>Words: woody, wouldve, wme, jebbushs, playoffs",
          "<b>Topic 16</b><br>Words: worldseries, earnhistory, houstonstrong, facelift, astros",
          "<b>Topic 16</b><br>Words: innings, yankees, dodgersred, relievers, ovechkin",
          "<b>Topic 16</b><br>Words: baseball, yankees, curt, schilling, pitcher",
          "<b>Topic 16</b><br>Words: steinbrenner, yankees, littleleague, lacyjohnsonmn, all"
         ],
         "marker": {
          "color": "#009E73"
         },
         "mode": "lines",
         "name": "16_yankees_arod_derek_jeter",
         "type": "scatter",
         "x": [
          2009.55,
          2010.65,
          2011.75,
          2012.85,
          2013.95,
          2014.5,
          2015.6,
          2016.7,
          2017.8,
          2018.9,
          2019.45
         ],
         "y": [
          4,
          1,
          91,
          47,
          16,
          6,
          1,
          3,
          3,
          7,
          3
         ]
        },
        {
         "hoverinfo": "text",
         "hovertext": [
          "<b>Topic 17</b><br>Words: mcdonnell, sfluxe, gov, texas, christie",
          "<b>Topic 17</b><br>Words: leezeldin, conservative, lee, senatormcdaniel, zeldinforcongress",
          "<b>Topic 17</b><br>Words: leppert, dbongino, lemon, supertuesday, defending",
          "<b>Topic 17</b><br>Words: lewis, chairwoman, innercities, congressman, diane",
          "<b>Topic 17</b><br>Words: endorsement, vets, congressman, amendment, loves",
          "<b>Topic 17</b><br>Words: endorsement, complete, vets, amendment, congressman",
          "<b>Topic 17</b><br>Words: endorsement, complete, vets, amendment, congressman"
         ],
         "marker": {
          "color": "#F0E442"
         },
         "mode": "lines",
         "name": "17_endorsement_complete_vets_amendment",
         "type": "scatter",
         "x": [
          2011.75,
          2013.95,
          2015.6,
          2016.7,
          2017.8,
          2018.9,
          2019.45
         ],
         "y": [
          3,
          4,
          2,
          3,
          53,
          30,
          85
         ]
        },
        {
         "hoverinfo": "text",
         "hovertext": [
          "<b>Topic 18</b><br>Words: anticipation, arsenioofficial, letters, scene, hired",
          "<b>Topic 18</b><br>Words: celebrityapprentice, celebapprentice, show, tv, mral",
          "<b>Topic 18</b><br>Words: celebrityapprentice, samcgirl, wait, celebapprentice, show",
          "<b>Topic 18</b><br>Words: celebrityapprentice, celebapprentice, show, msvivicafox, wait",
          "<b>Topic 18</b><br>Words: conventions, cjcboi, curtandkaren, playstrumpcard, kudos",
          "<b>Topic 18</b><br>Words: eric, seeing, tv, family, forward"
         ],
         "marker": {
          "color": "#D55E00"
         },
         "mode": "lines",
         "name": "18_celebrityapprentice_celebapprentice_s...",
         "type": "scatter",
         "x": [
          2011.75,
          2012.85,
          2013.95,
          2014.5,
          2015.6,
          2017.8
         ],
         "y": [
          2,
          31,
          26,
          104,
          3,
          1
         ]
        },
        {
         "hoverinfo": "text",
         "hovertext": [
          "<b>Topic 19</b><br>Words: blog, lessons, finale, learned, celebrity",
          "<b>Topic 19</b><br>Words: apprentice, episode, nbc, celebrity, pm",
          "<b>Topic 19</b><br>Words: celebrity, sunday, apprentice, episode, nbc",
          "<b>Topic 19</b><br>Words: apprentice, celebrity, sunday, episode, nbc",
          "<b>Topic 19</b><br>Words: celebrity, apprentice, nbc, allstar, episode",
          "<b>Topic 19</b><br>Words: apprenticenbc, cast, apprentice, january, premiering",
          "<b>Topic 19</b><br>Words: celebrity, apprentice, episode, apprenticenbc, episodes",
          "<b>Topic 19</b><br>Words: debramessing, upfront, profusely, thanked, nbcs"
         ],
         "marker": {
          "color": "#0072B2"
         },
         "mode": "lines",
         "name": "19_apprentice_celebrity_episode_nbc",
         "type": "scatter",
         "x": [
          2008.989,
          2009.55,
          2010.65,
          2011.75,
          2012.85,
          2013.95,
          2014.5,
          2018.9
         ],
         "y": [
          1,
          24,
          14,
          24,
          59,
          12,
          28,
          1
         ]
        }
       ],
       "layout": {
        "height": 450,
        "hoverlabel": {
         "bgcolor": "white",
         "font": {
          "family": "Rockwell",
          "size": 16
         }
        },
        "legend": {
         "title": {
          "text": "<b>Global Topic Representation"
         }
        },
        "template": {
         "data": {
          "bar": [
           {
            "error_x": {
             "color": "rgb(36,36,36)"
            },
            "error_y": {
             "color": "rgb(36,36,36)"
            },
            "marker": {
             "line": {
              "color": "white",
              "width": 0.5
             },
             "pattern": {
              "fillmode": "overlay",
              "size": 10,
              "solidity": 0.2
             }
            },
            "type": "bar"
           }
          ],
          "barpolar": [
           {
            "marker": {
             "line": {
              "color": "white",
              "width": 0.5
             },
             "pattern": {
              "fillmode": "overlay",
              "size": 10,
              "solidity": 0.2
             }
            },
            "type": "barpolar"
           }
          ],
          "carpet": [
           {
            "aaxis": {
             "endlinecolor": "rgb(36,36,36)",
             "gridcolor": "white",
             "linecolor": "white",
             "minorgridcolor": "white",
             "startlinecolor": "rgb(36,36,36)"
            },
            "baxis": {
             "endlinecolor": "rgb(36,36,36)",
             "gridcolor": "white",
             "linecolor": "white",
             "minorgridcolor": "white",
             "startlinecolor": "rgb(36,36,36)"
            },
            "type": "carpet"
           }
          ],
          "choropleth": [
           {
            "colorbar": {
             "outlinewidth": 1,
             "tickcolor": "rgb(36,36,36)",
             "ticks": "outside"
            },
            "type": "choropleth"
           }
          ],
          "contour": [
           {
            "colorbar": {
             "outlinewidth": 1,
             "tickcolor": "rgb(36,36,36)",
             "ticks": "outside"
            },
            "colorscale": [
             [
              0,
              "#440154"
             ],
             [
              0.1111111111111111,
              "#482878"
             ],
             [
              0.2222222222222222,
              "#3e4989"
             ],
             [
              0.3333333333333333,
              "#31688e"
             ],
             [
              0.4444444444444444,
              "#26828e"
             ],
             [
              0.5555555555555556,
              "#1f9e89"
             ],
             [
              0.6666666666666666,
              "#35b779"
             ],
             [
              0.7777777777777778,
              "#6ece58"
             ],
             [
              0.8888888888888888,
              "#b5de2b"
             ],
             [
              1,
              "#fde725"
             ]
            ],
            "type": "contour"
           }
          ],
          "contourcarpet": [
           {
            "colorbar": {
             "outlinewidth": 1,
             "tickcolor": "rgb(36,36,36)",
             "ticks": "outside"
            },
            "type": "contourcarpet"
           }
          ],
          "heatmap": [
           {
            "colorbar": {
             "outlinewidth": 1,
             "tickcolor": "rgb(36,36,36)",
             "ticks": "outside"
            },
            "colorscale": [
             [
              0,
              "#440154"
             ],
             [
              0.1111111111111111,
              "#482878"
             ],
             [
              0.2222222222222222,
              "#3e4989"
             ],
             [
              0.3333333333333333,
              "#31688e"
             ],
             [
              0.4444444444444444,
              "#26828e"
             ],
             [
              0.5555555555555556,
              "#1f9e89"
             ],
             [
              0.6666666666666666,
              "#35b779"
             ],
             [
              0.7777777777777778,
              "#6ece58"
             ],
             [
              0.8888888888888888,
              "#b5de2b"
             ],
             [
              1,
              "#fde725"
             ]
            ],
            "type": "heatmap"
           }
          ],
          "heatmapgl": [
           {
            "colorbar": {
             "outlinewidth": 1,
             "tickcolor": "rgb(36,36,36)",
             "ticks": "outside"
            },
            "colorscale": [
             [
              0,
              "#440154"
             ],
             [
              0.1111111111111111,
              "#482878"
             ],
             [
              0.2222222222222222,
              "#3e4989"
             ],
             [
              0.3333333333333333,
              "#31688e"
             ],
             [
              0.4444444444444444,
              "#26828e"
             ],
             [
              0.5555555555555556,
              "#1f9e89"
             ],
             [
              0.6666666666666666,
              "#35b779"
             ],
             [
              0.7777777777777778,
              "#6ece58"
             ],
             [
              0.8888888888888888,
              "#b5de2b"
             ],
             [
              1,
              "#fde725"
             ]
            ],
            "type": "heatmapgl"
           }
          ],
          "histogram": [
           {
            "marker": {
             "line": {
              "color": "white",
              "width": 0.6
             }
            },
            "type": "histogram"
           }
          ],
          "histogram2d": [
           {
            "colorbar": {
             "outlinewidth": 1,
             "tickcolor": "rgb(36,36,36)",
             "ticks": "outside"
            },
            "colorscale": [
             [
              0,
              "#440154"
             ],
             [
              0.1111111111111111,
              "#482878"
             ],
             [
              0.2222222222222222,
              "#3e4989"
             ],
             [
              0.3333333333333333,
              "#31688e"
             ],
             [
              0.4444444444444444,
              "#26828e"
             ],
             [
              0.5555555555555556,
              "#1f9e89"
             ],
             [
              0.6666666666666666,
              "#35b779"
             ],
             [
              0.7777777777777778,
              "#6ece58"
             ],
             [
              0.8888888888888888,
              "#b5de2b"
             ],
             [
              1,
              "#fde725"
             ]
            ],
            "type": "histogram2d"
           }
          ],
          "histogram2dcontour": [
           {
            "colorbar": {
             "outlinewidth": 1,
             "tickcolor": "rgb(36,36,36)",
             "ticks": "outside"
            },
            "colorscale": [
             [
              0,
              "#440154"
             ],
             [
              0.1111111111111111,
              "#482878"
             ],
             [
              0.2222222222222222,
              "#3e4989"
             ],
             [
              0.3333333333333333,
              "#31688e"
             ],
             [
              0.4444444444444444,
              "#26828e"
             ],
             [
              0.5555555555555556,
              "#1f9e89"
             ],
             [
              0.6666666666666666,
              "#35b779"
             ],
             [
              0.7777777777777778,
              "#6ece58"
             ],
             [
              0.8888888888888888,
              "#b5de2b"
             ],
             [
              1,
              "#fde725"
             ]
            ],
            "type": "histogram2dcontour"
           }
          ],
          "mesh3d": [
           {
            "colorbar": {
             "outlinewidth": 1,
             "tickcolor": "rgb(36,36,36)",
             "ticks": "outside"
            },
            "type": "mesh3d"
           }
          ],
          "parcoords": [
           {
            "line": {
             "colorbar": {
              "outlinewidth": 1,
              "tickcolor": "rgb(36,36,36)",
              "ticks": "outside"
             }
            },
            "type": "parcoords"
           }
          ],
          "pie": [
           {
            "automargin": true,
            "type": "pie"
           }
          ],
          "scatter": [
           {
            "fillpattern": {
             "fillmode": "overlay",
             "size": 10,
             "solidity": 0.2
            },
            "type": "scatter"
           }
          ],
          "scatter3d": [
           {
            "line": {
             "colorbar": {
              "outlinewidth": 1,
              "tickcolor": "rgb(36,36,36)",
              "ticks": "outside"
             }
            },
            "marker": {
             "colorbar": {
              "outlinewidth": 1,
              "tickcolor": "rgb(36,36,36)",
              "ticks": "outside"
             }
            },
            "type": "scatter3d"
           }
          ],
          "scattercarpet": [
           {
            "marker": {
             "colorbar": {
              "outlinewidth": 1,
              "tickcolor": "rgb(36,36,36)",
              "ticks": "outside"
             }
            },
            "type": "scattercarpet"
           }
          ],
          "scattergeo": [
           {
            "marker": {
             "colorbar": {
              "outlinewidth": 1,
              "tickcolor": "rgb(36,36,36)",
              "ticks": "outside"
             }
            },
            "type": "scattergeo"
           }
          ],
          "scattergl": [
           {
            "marker": {
             "colorbar": {
              "outlinewidth": 1,
              "tickcolor": "rgb(36,36,36)",
              "ticks": "outside"
             }
            },
            "type": "scattergl"
           }
          ],
          "scattermapbox": [
           {
            "marker": {
             "colorbar": {
              "outlinewidth": 1,
              "tickcolor": "rgb(36,36,36)",
              "ticks": "outside"
             }
            },
            "type": "scattermapbox"
           }
          ],
          "scatterpolar": [
           {
            "marker": {
             "colorbar": {
              "outlinewidth": 1,
              "tickcolor": "rgb(36,36,36)",
              "ticks": "outside"
             }
            },
            "type": "scatterpolar"
           }
          ],
          "scatterpolargl": [
           {
            "marker": {
             "colorbar": {
              "outlinewidth": 1,
              "tickcolor": "rgb(36,36,36)",
              "ticks": "outside"
             }
            },
            "type": "scatterpolargl"
           }
          ],
          "scatterternary": [
           {
            "marker": {
             "colorbar": {
              "outlinewidth": 1,
              "tickcolor": "rgb(36,36,36)",
              "ticks": "outside"
             }
            },
            "type": "scatterternary"
           }
          ],
          "surface": [
           {
            "colorbar": {
             "outlinewidth": 1,
             "tickcolor": "rgb(36,36,36)",
             "ticks": "outside"
            },
            "colorscale": [
             [
              0,
              "#440154"
             ],
             [
              0.1111111111111111,
              "#482878"
             ],
             [
              0.2222222222222222,
              "#3e4989"
             ],
             [
              0.3333333333333333,
              "#31688e"
             ],
             [
              0.4444444444444444,
              "#26828e"
             ],
             [
              0.5555555555555556,
              "#1f9e89"
             ],
             [
              0.6666666666666666,
              "#35b779"
             ],
             [
              0.7777777777777778,
              "#6ece58"
             ],
             [
              0.8888888888888888,
              "#b5de2b"
             ],
             [
              1,
              "#fde725"
             ]
            ],
            "type": "surface"
           }
          ],
          "table": [
           {
            "cells": {
             "fill": {
              "color": "rgb(237,237,237)"
             },
             "line": {
              "color": "white"
             }
            },
            "header": {
             "fill": {
              "color": "rgb(217,217,217)"
             },
             "line": {
              "color": "white"
             }
            },
            "type": "table"
           }
          ]
         },
         "layout": {
          "annotationdefaults": {
           "arrowhead": 0,
           "arrowwidth": 1
          },
          "autotypenumbers": "strict",
          "coloraxis": {
           "colorbar": {
            "outlinewidth": 1,
            "tickcolor": "rgb(36,36,36)",
            "ticks": "outside"
           }
          },
          "colorscale": {
           "diverging": [
            [
             0,
             "rgb(103,0,31)"
            ],
            [
             0.1,
             "rgb(178,24,43)"
            ],
            [
             0.2,
             "rgb(214,96,77)"
            ],
            [
             0.3,
             "rgb(244,165,130)"
            ],
            [
             0.4,
             "rgb(253,219,199)"
            ],
            [
             0.5,
             "rgb(247,247,247)"
            ],
            [
             0.6,
             "rgb(209,229,240)"
            ],
            [
             0.7,
             "rgb(146,197,222)"
            ],
            [
             0.8,
             "rgb(67,147,195)"
            ],
            [
             0.9,
             "rgb(33,102,172)"
            ],
            [
             1,
             "rgb(5,48,97)"
            ]
           ],
           "sequential": [
            [
             0,
             "#440154"
            ],
            [
             0.1111111111111111,
             "#482878"
            ],
            [
             0.2222222222222222,
             "#3e4989"
            ],
            [
             0.3333333333333333,
             "#31688e"
            ],
            [
             0.4444444444444444,
             "#26828e"
            ],
            [
             0.5555555555555556,
             "#1f9e89"
            ],
            [
             0.6666666666666666,
             "#35b779"
            ],
            [
             0.7777777777777778,
             "#6ece58"
            ],
            [
             0.8888888888888888,
             "#b5de2b"
            ],
            [
             1,
             "#fde725"
            ]
           ],
           "sequentialminus": [
            [
             0,
             "#440154"
            ],
            [
             0.1111111111111111,
             "#482878"
            ],
            [
             0.2222222222222222,
             "#3e4989"
            ],
            [
             0.3333333333333333,
             "#31688e"
            ],
            [
             0.4444444444444444,
             "#26828e"
            ],
            [
             0.5555555555555556,
             "#1f9e89"
            ],
            [
             0.6666666666666666,
             "#35b779"
            ],
            [
             0.7777777777777778,
             "#6ece58"
            ],
            [
             0.8888888888888888,
             "#b5de2b"
            ],
            [
             1,
             "#fde725"
            ]
           ]
          },
          "colorway": [
           "#1F77B4",
           "#FF7F0E",
           "#2CA02C",
           "#D62728",
           "#9467BD",
           "#8C564B",
           "#E377C2",
           "#7F7F7F",
           "#BCBD22",
           "#17BECF"
          ],
          "font": {
           "color": "rgb(36,36,36)"
          },
          "geo": {
           "bgcolor": "white",
           "lakecolor": "white",
           "landcolor": "white",
           "showlakes": true,
           "showland": true,
           "subunitcolor": "white"
          },
          "hoverlabel": {
           "align": "left"
          },
          "hovermode": "closest",
          "mapbox": {
           "style": "light"
          },
          "paper_bgcolor": "white",
          "plot_bgcolor": "white",
          "polar": {
           "angularaxis": {
            "gridcolor": "rgb(232,232,232)",
            "linecolor": "rgb(36,36,36)",
            "showgrid": false,
            "showline": true,
            "ticks": "outside"
           },
           "bgcolor": "white",
           "radialaxis": {
            "gridcolor": "rgb(232,232,232)",
            "linecolor": "rgb(36,36,36)",
            "showgrid": false,
            "showline": true,
            "ticks": "outside"
           }
          },
          "scene": {
           "xaxis": {
            "backgroundcolor": "white",
            "gridcolor": "rgb(232,232,232)",
            "gridwidth": 2,
            "linecolor": "rgb(36,36,36)",
            "showbackground": true,
            "showgrid": false,
            "showline": true,
            "ticks": "outside",
            "zeroline": false,
            "zerolinecolor": "rgb(36,36,36)"
           },
           "yaxis": {
            "backgroundcolor": "white",
            "gridcolor": "rgb(232,232,232)",
            "gridwidth": 2,
            "linecolor": "rgb(36,36,36)",
            "showbackground": true,
            "showgrid": false,
            "showline": true,
            "ticks": "outside",
            "zeroline": false,
            "zerolinecolor": "rgb(36,36,36)"
           },
           "zaxis": {
            "backgroundcolor": "white",
            "gridcolor": "rgb(232,232,232)",
            "gridwidth": 2,
            "linecolor": "rgb(36,36,36)",
            "showbackground": true,
            "showgrid": false,
            "showline": true,
            "ticks": "outside",
            "zeroline": false,
            "zerolinecolor": "rgb(36,36,36)"
           }
          },
          "shapedefaults": {
           "fillcolor": "black",
           "line": {
            "width": 0
           },
           "opacity": 0.3
          },
          "ternary": {
           "aaxis": {
            "gridcolor": "rgb(232,232,232)",
            "linecolor": "rgb(36,36,36)",
            "showgrid": false,
            "showline": true,
            "ticks": "outside"
           },
           "baxis": {
            "gridcolor": "rgb(232,232,232)",
            "linecolor": "rgb(36,36,36)",
            "showgrid": false,
            "showline": true,
            "ticks": "outside"
           },
           "bgcolor": "white",
           "caxis": {
            "gridcolor": "rgb(232,232,232)",
            "linecolor": "rgb(36,36,36)",
            "showgrid": false,
            "showline": true,
            "ticks": "outside"
           }
          },
          "title": {
           "x": 0.05
          },
          "xaxis": {
           "automargin": true,
           "gridcolor": "rgb(232,232,232)",
           "linecolor": "rgb(36,36,36)",
           "showgrid": false,
           "showline": true,
           "ticks": "outside",
           "title": {
            "standoff": 15
           },
           "zeroline": false,
           "zerolinecolor": "rgb(36,36,36)"
          },
          "yaxis": {
           "automargin": true,
           "gridcolor": "rgb(232,232,232)",
           "linecolor": "rgb(36,36,36)",
           "showgrid": false,
           "showline": true,
           "ticks": "outside",
           "title": {
            "standoff": 15
           },
           "zeroline": false,
           "zerolinecolor": "rgb(36,36,36)"
          }
         }
        },
        "title": {
         "font": {
          "color": "Black",
          "size": 22
         },
         "text": "<b>Topics over Time</b>",
         "x": 0.4,
         "xanchor": "center",
         "y": 0.95,
         "yanchor": "top"
        },
        "width": 1250,
        "xaxis": {
         "showgrid": true
        },
        "yaxis": {
         "showgrid": true,
         "title": {
          "text": "Frequency"
         }
        }
       }
      }
     },
     "metadata": {},
     "output_type": "display_data"
    }
   ],
   "source": [
    "# visualize the topics over time\n",
    "topic_model.visualize_topics_over_time(topics_over_time, top_n_topics=20)"
   ]
  },
  {
   "cell_type": "markdown",
   "metadata": {},
   "source": [
    "# Handling topic names \n",
    "\n",
    "Our topic names are not the most informative, and we might want to re-label them to be more informative. We can do this by using several different methods"
   ]
  },
  {
   "cell_type": "code",
   "execution_count": 203,
   "metadata": {},
   "outputs": [
    {
     "name": "stderr",
     "output_type": "stream",
     "text": [
      "2025-01-27 09:59:43,322 - BERTopic - Embedding - Transforming documents to embeddings.\n"
     ]
    },
    {
     "data": {
      "application/vnd.jupyter.widget-view+json": {
       "model_id": "8ac0d16950a3449ca80c0718a8c50009",
       "version_major": 2,
       "version_minor": 0
      },
      "text/plain": [
       "Batches:   0%|          | 0/1078 [00:00<?, ?it/s]"
      ]
     },
     "metadata": {},
     "output_type": "display_data"
    },
    {
     "name": "stderr",
     "output_type": "stream",
     "text": [
      "2025-01-27 09:59:48,600 - BERTopic - Embedding - Completed ✓\n",
      "2025-01-27 09:59:48,601 - BERTopic - Dimensionality - Fitting the dimensionality reduction algorithm\n",
      "2025-01-27 09:59:51,684 - BERTopic - Dimensionality - Completed ✓\n",
      "2025-01-27 09:59:51,685 - BERTopic - Cluster - Start clustering the reduced embeddings\n",
      "2025-01-27 09:59:52,193 - BERTopic - Cluster - Completed ✓\n",
      "2025-01-27 09:59:52,194 - BERTopic - Representation - Extracting topics from clusters using representation models.\n",
      "2025-01-27 09:59:52,468 - BERTopic - Representation - Completed ✓\n",
      "2025-01-27 09:59:52,469 - BERTopic - Topic reduction - Reducing number of topics\n",
      "2025-01-27 09:59:52,643 - BERTopic - Topic reduction - Reduced number of topics from 401 to 50\n"
     ]
    }
   ],
   "source": [
    "# define and fit the model\n",
    "topic_model = BERTopic(verbose=True, nr_topics=50)\n",
    "topics, probs = topic_model.fit_transform(texts)"
   ]
  },
  {
   "cell_type": "code",
   "execution_count": 204,
   "metadata": {},
   "outputs": [
    {
     "data": {
      "text/html": [
       "<div>\n",
       "<style scoped>\n",
       "    .dataframe tbody tr th:only-of-type {\n",
       "        vertical-align: middle;\n",
       "    }\n",
       "\n",
       "    .dataframe tbody tr th {\n",
       "        vertical-align: top;\n",
       "    }\n",
       "\n",
       "    .dataframe thead th {\n",
       "        text-align: right;\n",
       "    }\n",
       "</style>\n",
       "<table border=\"1\" class=\"dataframe\">\n",
       "  <thead>\n",
       "    <tr style=\"text-align: right;\">\n",
       "      <th></th>\n",
       "      <th>Topic</th>\n",
       "      <th>Count</th>\n",
       "      <th>Name</th>\n",
       "      <th>Representation</th>\n",
       "      <th>Representative_Docs</th>\n",
       "    </tr>\n",
       "  </thead>\n",
       "  <tbody>\n",
       "    <tr>\n",
       "      <th>0</th>\n",
       "      <td>-1</td>\n",
       "      <td>13311</td>\n",
       "      <td>-1_realdonaldtrump_great_trump_people</td>\n",
       "      <td>[realdonaldtrump, great, trump, people, thank,...</td>\n",
       "      <td>[team negotiating always change deal end benef...</td>\n",
       "    </tr>\n",
       "    <tr>\n",
       "      <th>1</th>\n",
       "      <td>0</td>\n",
       "      <td>5743</td>\n",
       "      <td>0_realdonaldtrump_trump_run_president</td>\n",
       "      <td>[realdonaldtrump, trump, run, president, donal...</td>\n",
       "      <td>[ILOVEBRITNEY_ realDonaldTrump could run presi...</td>\n",
       "    </tr>\n",
       "    <tr>\n",
       "      <th>2</th>\n",
       "      <td>1</td>\n",
       "      <td>4060</td>\n",
       "      <td>1_fake_news_hillary_poll</td>\n",
       "      <td>[fake, news, hillary, poll, media, cnn, democr...</td>\n",
       "      <td>[House Democrats unable get even single vote R...</td>\n",
       "    </tr>\n",
       "    <tr>\n",
       "      <th>3</th>\n",
       "      <td>2</td>\n",
       "      <td>1473</td>\n",
       "      <td>2_china_trade_us_jobs</td>\n",
       "      <td>[china, trade, us, jobs, tariffs, market, coun...</td>\n",
       "      <td>[reason US Consumer pay Tariffs take effect Ch...</td>\n",
       "    </tr>\n",
       "    <tr>\n",
       "      <th>4</th>\n",
       "      <td>3</td>\n",
       "      <td>1153</td>\n",
       "      <td>3_golf_hotel_course_doral</td>\n",
       "      <td>[golf, hotel, course, doral, trump, scotland, ...</td>\n",
       "      <td>[going Trump National Doral Miami early today ...</td>\n",
       "    </tr>\n",
       "    <tr>\n",
       "      <th>5</th>\n",
       "      <td>4</td>\n",
       "      <td>1000</td>\n",
       "      <td>4_honor_iowa_today_great</td>\n",
       "      <td>[honor, iowa, today, great, veterans, thank, h...</td>\n",
       "      <td>[Today Alaska great honor visit brave men wome...</td>\n",
       "    </tr>\n",
       "    <tr>\n",
       "      <th>6</th>\n",
       "      <td>5</td>\n",
       "      <td>849</td>\n",
       "      <td>5_iran_syria_isis_iraq</td>\n",
       "      <td>[iran, syria, isis, iraq, obama, israel, attac...</td>\n",
       "      <td>[Likewise want Kurds provoke Turkey Russia Ira...</td>\n",
       "    </tr>\n",
       "    <tr>\n",
       "      <th>7</th>\n",
       "      <td>6</td>\n",
       "      <td>595</td>\n",
       "      <td>6_obamacare_tax_daca_cuts</td>\n",
       "      <td>[obamacare, tax, daca, cuts, healthcare, websi...</td>\n",
       "      <td>[immediately repeal replace ObamaCare nobody l...</td>\n",
       "    </tr>\n",
       "    <tr>\n",
       "      <th>8</th>\n",
       "      <td>7</td>\n",
       "      <td>584</td>\n",
       "      <td>7_border_wall_mexico_immigration</td>\n",
       "      <td>[border, wall, mexico, immigration, southern, ...</td>\n",
       "      <td>[Without Wall cannot safety security Border US...</td>\n",
       "    </tr>\n",
       "    <tr>\n",
       "      <th>9</th>\n",
       "      <td>8</td>\n",
       "      <td>584</td>\n",
       "      <td>8_endorsement_vets_amendment_complete</td>\n",
       "      <td>[endorsement, vets, amendment, complete, gover...</td>\n",
       "      <td>[Governor MattBevin done wonderful job people ...</td>\n",
       "    </tr>\n",
       "    <tr>\n",
       "      <th>10</th>\n",
       "      <td>9</td>\n",
       "      <td>514</td>\n",
       "      <td>9_enforcement_police_law_prayers</td>\n",
       "      <td>[enforcement, police, law, prayers, families, ...</td>\n",
       "      <td>[Great job FEMA Law Enforcement First Responde...</td>\n",
       "    </tr>\n",
       "    <tr>\n",
       "      <th>11</th>\n",
       "      <td>10</td>\n",
       "      <td>495</td>\n",
       "      <td>10_barackobama_obama_barackobamas_debt</td>\n",
       "      <td>[barackobama, obama, barackobamas, debt, colle...</td>\n",
       "      <td>[Republicans give BarackObama authority raise ...</td>\n",
       "    </tr>\n",
       "    <tr>\n",
       "      <th>12</th>\n",
       "      <td>11</td>\n",
       "      <td>489</td>\n",
       "      <td>11_entrepreneurs_midas_touch_focus</td>\n",
       "      <td>[entrepreneurs, midas, touch, focus, keep, suc...</td>\n",
       "      <td>[Entrepreneurs Keep momentum Without momentum ...</td>\n",
       "    </tr>\n",
       "    <tr>\n",
       "      <th>13</th>\n",
       "      <td>12</td>\n",
       "      <td>365</td>\n",
       "      <td>12_wind_global_warming_turbines</td>\n",
       "      <td>[wind, global, warming, turbines, alexsalmond,...</td>\n",
       "      <td>[changed name global warming climate change co...</td>\n",
       "    </tr>\n",
       "    <tr>\n",
       "      <th>14</th>\n",
       "      <td>13</td>\n",
       "      <td>359</td>\n",
       "      <td>13_supreme_court_schneiderman_justice</td>\n",
       "      <td>[supreme, court, schneiderman, justice, lightw...</td>\n",
       "      <td>[Bush appointed Supreme Court Justice John Rob...</td>\n",
       "    </tr>\n",
       "    <tr>\n",
       "      <th>15</th>\n",
       "      <td>14</td>\n",
       "      <td>290</td>\n",
       "      <td>14_book_art_books_read</td>\n",
       "      <td>[book, art, books, read, signing, deal, new, r...</td>\n",
       "      <td>[AJ__Hulton Best book Ive ever read realDonald...</td>\n",
       "    </tr>\n",
       "    <tr>\n",
       "      <th>16</th>\n",
       "      <td>15</td>\n",
       "      <td>271</td>\n",
       "      <td>15_america_churchill_winston_make</td>\n",
       "      <td>[america, churchill, winston, make, country, g...</td>\n",
       "      <td>[Success final failure fatal courage continue ...</td>\n",
       "    </tr>\n",
       "    <tr>\n",
       "      <th>17</th>\n",
       "      <td>16</td>\n",
       "      <td>254</td>\n",
       "      <td>16_wwe_vince_wrestlemania_hall</td>\n",
       "      <td>[wwe, vince, wrestlemania, hall, fame, winning...</td>\n",
       "      <td>[One reasons assume inducted WWE Hall Fame Vin...</td>\n",
       "    </tr>\n",
       "    <tr>\n",
       "      <th>18</th>\n",
       "      <td>17</td>\n",
       "      <td>248</td>\n",
       "      <td>17_ebola_coronavirus_testing_ban</td>\n",
       "      <td>[ebola, coronavirus, testing, ban, africa, ven...</td>\n",
       "      <td>[go stated long ago cancel flights West Africa...</td>\n",
       "    </tr>\n",
       "    <tr>\n",
       "      <th>19</th>\n",
       "      <td>18</td>\n",
       "      <td>213</td>\n",
       "      <td>18_nfl_nflcommish_bills_anthem</td>\n",
       "      <td>[nfl, nflcommish, bills, anthem, buffalobills,...</td>\n",
       "      <td>[Two dozen NFL players continue kneel National...</td>\n",
       "    </tr>\n",
       "    <tr>\n",
       "      <th>20</th>\n",
       "      <td>19</td>\n",
       "      <td>174</td>\n",
       "      <td>19_korea_north_kim_jong</td>\n",
       "      <td>[korea, north, kim, jong, un, nuclear, south, ...</td>\n",
       "      <td>[false reporting guessing intentions respect N...</td>\n",
       "    </tr>\n",
       "    <tr>\n",
       "      <th>21</th>\n",
       "      <td>20</td>\n",
       "      <td>130</td>\n",
       "      <td>20_yankees_arod_derek_baseball</td>\n",
       "      <td>[yankees, arod, derek, baseball, jeter, mlb, p...</td>\n",
       "      <td>[Always fun watch Yankees Derek Jeter great we...</td>\n",
       "    </tr>\n",
       "    <tr>\n",
       "      <th>22</th>\n",
       "      <td>21</td>\n",
       "      <td>129</td>\n",
       "      <td>21_art_deal_negotiation_deals</td>\n",
       "      <td>[art, deal, negotiation, deals, tip, possibly,...</td>\n",
       "      <td>[Johnboehner worst thing possibly deal seem de...</td>\n",
       "    </tr>\n",
       "    <tr>\n",
       "      <th>23</th>\n",
       "      <td>22</td>\n",
       "      <td>127</td>\n",
       "      <td>22_dannyzuker_cuban_danny_dennis</td>\n",
       "      <td>[dannyzuker, cuban, danny, dennis, mark, denni...</td>\n",
       "      <td>[DannyZuker Come Danny u afraid DEAL careful I...</td>\n",
       "    </tr>\n",
       "    <tr>\n",
       "      <th>24</th>\n",
       "      <td>23</td>\n",
       "      <td>116</td>\n",
       "      <td>23_billmaher_lobbyists_selffunding_money</td>\n",
       "      <td>[billmaher, lobbyists, selffunding, money, cha...</td>\n",
       "      <td>[candidate many years selffunding campaign Lob...</td>\n",
       "    </tr>\n",
       "    <tr>\n",
       "      <th>25</th>\n",
       "      <td>24</td>\n",
       "      <td>109</td>\n",
       "      <td>24_bankruptcy_bankrupt_estate_buy</td>\n",
       "      <td>[bankruptcy, bankrupt, estate, buy, atlantic, ...</td>\n",
       "      <td>[Haters stop saying went bankrupt never went b...</td>\n",
       "    </tr>\n",
       "    <tr>\n",
       "      <th>26</th>\n",
       "      <td>25</td>\n",
       "      <td>95</td>\n",
       "      <td>25_christmas_merry_happy_year</td>\n",
       "      <td>[christmas, merry, happy, year, everyone, east...</td>\n",
       "      <td>[ItIsJohnDoe Merry Christmas Mr country cant T...</td>\n",
       "    </tr>\n",
       "    <tr>\n",
       "      <th>27</th>\n",
       "      <td>26</td>\n",
       "      <td>83</td>\n",
       "      <td>26_tickets_join_pm_tomorrow</td>\n",
       "      <td>[tickets, join, pm, tomorrow, center, maga, co...</td>\n",
       "      <td>[Join Washington Michigan Saturday April pm MA...</td>\n",
       "    </tr>\n",
       "    <tr>\n",
       "      <th>28</th>\n",
       "      <td>27</td>\n",
       "      <td>69</td>\n",
       "      <td>27_vanityfair_graydon_magazine_carter</td>\n",
       "      <td>[vanityfair, graydon, magazine, carter, vanity...</td>\n",
       "      <td>[Newsstand sales VanityFair run sleepy Graydon...</td>\n",
       "    </tr>\n",
       "    <tr>\n",
       "      <th>29</th>\n",
       "      <td>28</td>\n",
       "      <td>69</td>\n",
       "      <td>28_mittromney_ricksantorum_paulryanvp_cont</td>\n",
       "      <td>[mittromney, ricksantorum, paulryanvp, cont, b...</td>\n",
       "      <td>[MittRomney well last night contests earned de...</td>\n",
       "    </tr>\n",
       "    <tr>\n",
       "      <th>30</th>\n",
       "      <td>29</td>\n",
       "      <td>47</td>\n",
       "      <td>29_autism_autismspeaks_vaccines_vaccine</td>\n",
       "      <td>[autism, autismspeaks, vaccines, vaccine, shot...</td>\n",
       "      <td>[Today proud sign Autism CARES Bill support re...</td>\n",
       "    </tr>\n",
       "    <tr>\n",
       "      <th>31</th>\n",
       "      <td>30</td>\n",
       "      <td>47</td>\n",
       "      <td>30_weiner_pervert_spitzer_anthony</td>\n",
       "      <td>[weiner, pervert, spitzer, anthony, eliot, sex...</td>\n",
       "      <td>[Pervert alert Sexter Anthony Weiner running M...</td>\n",
       "    </tr>\n",
       "    <tr>\n",
       "      <th>32</th>\n",
       "      <td>31</td>\n",
       "      <td>46</td>\n",
       "      <td>31_omarosa_ashley_judd_celebapprentice</td>\n",
       "      <td>[omarosa, ashley, judd, celebapprentice, latoy...</td>\n",
       "      <td>[happen Omarosa tonight One time great episode...</td>\n",
       "    </tr>\n",
       "    <tr>\n",
       "      <th>33</th>\n",
       "      <td>32</td>\n",
       "      <td>41</td>\n",
       "      <td>32_transit_usdot_funding_area</td>\n",
       "      <td>[transit, usdot, funding, area, funds, project...</td>\n",
       "      <td>[proud announce San Francisco Bay Area receive...</td>\n",
       "    </tr>\n",
       "    <tr>\n",
       "      <th>34</th>\n",
       "      <td>33</td>\n",
       "      <td>38</td>\n",
       "      <td>33_questions_sweepstweet_followers_askthedonald</td>\n",
       "      <td>[questions, sweepstweet, followers, askthedona...</td>\n",
       "      <td>[Head Facebook page questions answered next As...</td>\n",
       "    </tr>\n",
       "    <tr>\n",
       "      <th>35</th>\n",
       "      <td>34</td>\n",
       "      <td>34</td>\n",
       "      <td>34_drug_prescription_opioid_prices</td>\n",
       "      <td>[drug, prescription, opioid, prices, drugs, ta...</td>\n",
       "      <td>[Administration fighting hard end Opioid Crisi...</td>\n",
       "    </tr>\n",
       "    <tr>\n",
       "      <th>36</th>\n",
       "      <td>35</td>\n",
       "      <td>33</td>\n",
       "      <td>35_lance_armstrong_robert_oprah</td>\n",
       "      <td>[lance, armstrong, robert, oprah, pattinson, k...</td>\n",
       "      <td>[hope Oprah gives Lance Armstrong million doll...</td>\n",
       "    </tr>\n",
       "    <tr>\n",
       "      <th>37</th>\n",
       "      <td>36</td>\n",
       "      <td>33</td>\n",
       "      <td>36_lordsugar_sugar_dopey_show</td>\n",
       "      <td>[lordsugar, sugar, dopey, show, piersmorgan, w...</td>\n",
       "      <td>[Dopey Sugar Lord_Sugar net worth doesnt even ...</td>\n",
       "    </tr>\n",
       "    <tr>\n",
       "      <th>38</th>\n",
       "      <td>37</td>\n",
       "      <td>28</td>\n",
       "      <td>37_lamestream_media_antbaxter_documentary</td>\n",
       "      <td>[lamestream, media, antbaxter, documentary, co...</td>\n",
       "      <td>[knew Fake went anyway Lamestream Media CORRUP...</td>\n",
       "    </tr>\n",
       "    <tr>\n",
       "      <th>39</th>\n",
       "      <td>38</td>\n",
       "      <td>27</td>\n",
       "      <td>38_screen_apple_iphone_larger</td>\n",
       "      <td>[screen, apple, iphone, larger, steve, samsung...</td>\n",
       "      <td>[Apple must make IPhone screen bigger Losing m...</td>\n",
       "    </tr>\n",
       "    <tr>\n",
       "      <th>40</th>\n",
       "      <td>39</td>\n",
       "      <td>24</td>\n",
       "      <td>39_ford_henry_think_intelligently</td>\n",
       "      <td>[ford, henry, think, intelligently, thing, fin...</td>\n",
       "      <td>[think thing think cant thing youre right Henr...</td>\n",
       "    </tr>\n",
       "    <tr>\n",
       "      <th>41</th>\n",
       "      <td>40</td>\n",
       "      <td>19</td>\n",
       "      <td>40_tmobile_johnlegere_service_naughtoriousbig</td>\n",
       "      <td>[tmobile, johnlegere, service, naughtoriousbig...</td>\n",
       "      <td>[TMobile service absolutely terrible get ball ...</td>\n",
       "    </tr>\n",
       "    <tr>\n",
       "      <th>42</th>\n",
       "      <td>41</td>\n",
       "      <td>17</td>\n",
       "      <td>41_boeing_batteries_air_airlines</td>\n",
       "      <td>[boeing, batteries, air, airlines, lithium, me...</td>\n",
       "      <td>[Boeing stock went way bought stock Boeing gre...</td>\n",
       "    </tr>\n",
       "    <tr>\n",
       "      <th>43</th>\n",
       "      <td>42</td>\n",
       "      <td>15</td>\n",
       "      <td>42_dubai_damacofficial_ctrenwith_itpab</td>\n",
       "      <td>[dubai, damacofficial, ctrenwith, itpab, expo,...</td>\n",
       "      <td>[DAMAC Properties DamacOfficial realDonaldTrum...</td>\n",
       "    </tr>\n",
       "    <tr>\n",
       "      <th>44</th>\n",
       "      <td>43</td>\n",
       "      <td>15</td>\n",
       "      <td>43_pinehurst_stevenowell_greens_usga</td>\n",
       "      <td>[pinehurst, stevenowell, greens, usga, like, p...</td>\n",
       "      <td>[aec realDonaldTrump please dont let USGA ruin...</td>\n",
       "    </tr>\n",
       "    <tr>\n",
       "      <th>45</th>\n",
       "      <td>44</td>\n",
       "      <td>14</td>\n",
       "      <td>44_hagel_chuck_defense_sod</td>\n",
       "      <td>[hagel, chuck, defense, sod, sec, hagels, nomi...</td>\n",
       "      <td>[Congratulations Chuck Hagel one shortest tenu...</td>\n",
       "    </tr>\n",
       "    <tr>\n",
       "      <th>46</th>\n",
       "      <td>45</td>\n",
       "      <td>13</td>\n",
       "      <td>45_sexual_rape_abuse_assault</td>\n",
       "      <td>[sexual, rape, abuse, assault, military, force...</td>\n",
       "      <td>[morons complaining comment sexual assault rap...</td>\n",
       "    </tr>\n",
       "    <tr>\n",
       "      <th>47</th>\n",
       "      <td>46</td>\n",
       "      <td>13</td>\n",
       "      <td>46_oann_foxnews__</td>\n",
       "      <td>[oann, foxnews, , , , , , , , ]</td>\n",
       "      <td>[हम भरत आन क लए ततपर ह हम रसत म ह कछ ह घट म हम...</td>\n",
       "    </tr>\n",
       "    <tr>\n",
       "      <th>48</th>\n",
       "      <td>47</td>\n",
       "      <td>12</td>\n",
       "      <td>47_executive_order_signed_presidential</td>\n",
       "      <td>[executive, order, signed, presidential, kidne...</td>\n",
       "      <td>[Today signed Executive Order Improving Accoun...</td>\n",
       "    </tr>\n",
       "    <tr>\n",
       "      <th>49</th>\n",
       "      <td>48</td>\n",
       "      <td>12</td>\n",
       "      <td>48_vietnam_blumenthal_connecticut_nang</td>\n",
       "      <td>[vietnam, blumenthal, connecticut, nang, richa...</td>\n",
       "      <td>[Da Nang Dick Blumenthal serve Senate Judiciar...</td>\n",
       "    </tr>\n",
       "  </tbody>\n",
       "</table>\n",
       "</div>"
      ],
      "text/plain": [
       "    Topic  Count                                             Name  \\\n",
       "0      -1  13311            -1_realdonaldtrump_great_trump_people   \n",
       "1       0   5743            0_realdonaldtrump_trump_run_president   \n",
       "2       1   4060                         1_fake_news_hillary_poll   \n",
       "3       2   1473                            2_china_trade_us_jobs   \n",
       "4       3   1153                        3_golf_hotel_course_doral   \n",
       "5       4   1000                         4_honor_iowa_today_great   \n",
       "6       5    849                           5_iran_syria_isis_iraq   \n",
       "7       6    595                        6_obamacare_tax_daca_cuts   \n",
       "8       7    584                 7_border_wall_mexico_immigration   \n",
       "9       8    584            8_endorsement_vets_amendment_complete   \n",
       "10      9    514                 9_enforcement_police_law_prayers   \n",
       "11     10    495           10_barackobama_obama_barackobamas_debt   \n",
       "12     11    489               11_entrepreneurs_midas_touch_focus   \n",
       "13     12    365                  12_wind_global_warming_turbines   \n",
       "14     13    359            13_supreme_court_schneiderman_justice   \n",
       "15     14    290                           14_book_art_books_read   \n",
       "16     15    271                15_america_churchill_winston_make   \n",
       "17     16    254                   16_wwe_vince_wrestlemania_hall   \n",
       "18     17    248                 17_ebola_coronavirus_testing_ban   \n",
       "19     18    213                   18_nfl_nflcommish_bills_anthem   \n",
       "20     19    174                          19_korea_north_kim_jong   \n",
       "21     20    130                   20_yankees_arod_derek_baseball   \n",
       "22     21    129                    21_art_deal_negotiation_deals   \n",
       "23     22    127                 22_dannyzuker_cuban_danny_dennis   \n",
       "24     23    116         23_billmaher_lobbyists_selffunding_money   \n",
       "25     24    109                24_bankruptcy_bankrupt_estate_buy   \n",
       "26     25     95                    25_christmas_merry_happy_year   \n",
       "27     26     83                      26_tickets_join_pm_tomorrow   \n",
       "28     27     69            27_vanityfair_graydon_magazine_carter   \n",
       "29     28     69       28_mittromney_ricksantorum_paulryanvp_cont   \n",
       "30     29     47          29_autism_autismspeaks_vaccines_vaccine   \n",
       "31     30     47                30_weiner_pervert_spitzer_anthony   \n",
       "32     31     46           31_omarosa_ashley_judd_celebapprentice   \n",
       "33     32     41                    32_transit_usdot_funding_area   \n",
       "34     33     38  33_questions_sweepstweet_followers_askthedonald   \n",
       "35     34     34               34_drug_prescription_opioid_prices   \n",
       "36     35     33                  35_lance_armstrong_robert_oprah   \n",
       "37     36     33                    36_lordsugar_sugar_dopey_show   \n",
       "38     37     28        37_lamestream_media_antbaxter_documentary   \n",
       "39     38     27                    38_screen_apple_iphone_larger   \n",
       "40     39     24                39_ford_henry_think_intelligently   \n",
       "41     40     19    40_tmobile_johnlegere_service_naughtoriousbig   \n",
       "42     41     17                 41_boeing_batteries_air_airlines   \n",
       "43     42     15           42_dubai_damacofficial_ctrenwith_itpab   \n",
       "44     43     15             43_pinehurst_stevenowell_greens_usga   \n",
       "45     44     14                       44_hagel_chuck_defense_sod   \n",
       "46     45     13                     45_sexual_rape_abuse_assault   \n",
       "47     46     13                                46_oann_foxnews__   \n",
       "48     47     12           47_executive_order_signed_presidential   \n",
       "49     48     12           48_vietnam_blumenthal_connecticut_nang   \n",
       "\n",
       "                                       Representation  \\\n",
       "0   [realdonaldtrump, great, trump, people, thank,...   \n",
       "1   [realdonaldtrump, trump, run, president, donal...   \n",
       "2   [fake, news, hillary, poll, media, cnn, democr...   \n",
       "3   [china, trade, us, jobs, tariffs, market, coun...   \n",
       "4   [golf, hotel, course, doral, trump, scotland, ...   \n",
       "5   [honor, iowa, today, great, veterans, thank, h...   \n",
       "6   [iran, syria, isis, iraq, obama, israel, attac...   \n",
       "7   [obamacare, tax, daca, cuts, healthcare, websi...   \n",
       "8   [border, wall, mexico, immigration, southern, ...   \n",
       "9   [endorsement, vets, amendment, complete, gover...   \n",
       "10  [enforcement, police, law, prayers, families, ...   \n",
       "11  [barackobama, obama, barackobamas, debt, colle...   \n",
       "12  [entrepreneurs, midas, touch, focus, keep, suc...   \n",
       "13  [wind, global, warming, turbines, alexsalmond,...   \n",
       "14  [supreme, court, schneiderman, justice, lightw...   \n",
       "15  [book, art, books, read, signing, deal, new, r...   \n",
       "16  [america, churchill, winston, make, country, g...   \n",
       "17  [wwe, vince, wrestlemania, hall, fame, winning...   \n",
       "18  [ebola, coronavirus, testing, ban, africa, ven...   \n",
       "19  [nfl, nflcommish, bills, anthem, buffalobills,...   \n",
       "20  [korea, north, kim, jong, un, nuclear, south, ...   \n",
       "21  [yankees, arod, derek, baseball, jeter, mlb, p...   \n",
       "22  [art, deal, negotiation, deals, tip, possibly,...   \n",
       "23  [dannyzuker, cuban, danny, dennis, mark, denni...   \n",
       "24  [billmaher, lobbyists, selffunding, money, cha...   \n",
       "25  [bankruptcy, bankrupt, estate, buy, atlantic, ...   \n",
       "26  [christmas, merry, happy, year, everyone, east...   \n",
       "27  [tickets, join, pm, tomorrow, center, maga, co...   \n",
       "28  [vanityfair, graydon, magazine, carter, vanity...   \n",
       "29  [mittromney, ricksantorum, paulryanvp, cont, b...   \n",
       "30  [autism, autismspeaks, vaccines, vaccine, shot...   \n",
       "31  [weiner, pervert, spitzer, anthony, eliot, sex...   \n",
       "32  [omarosa, ashley, judd, celebapprentice, latoy...   \n",
       "33  [transit, usdot, funding, area, funds, project...   \n",
       "34  [questions, sweepstweet, followers, askthedona...   \n",
       "35  [drug, prescription, opioid, prices, drugs, ta...   \n",
       "36  [lance, armstrong, robert, oprah, pattinson, k...   \n",
       "37  [lordsugar, sugar, dopey, show, piersmorgan, w...   \n",
       "38  [lamestream, media, antbaxter, documentary, co...   \n",
       "39  [screen, apple, iphone, larger, steve, samsung...   \n",
       "40  [ford, henry, think, intelligently, thing, fin...   \n",
       "41  [tmobile, johnlegere, service, naughtoriousbig...   \n",
       "42  [boeing, batteries, air, airlines, lithium, me...   \n",
       "43  [dubai, damacofficial, ctrenwith, itpab, expo,...   \n",
       "44  [pinehurst, stevenowell, greens, usga, like, p...   \n",
       "45  [hagel, chuck, defense, sod, sec, hagels, nomi...   \n",
       "46  [sexual, rape, abuse, assault, military, force...   \n",
       "47                    [oann, foxnews, , , , , , , , ]   \n",
       "48  [executive, order, signed, presidential, kidne...   \n",
       "49  [vietnam, blumenthal, connecticut, nang, richa...   \n",
       "\n",
       "                                  Representative_Docs  \n",
       "0   [team negotiating always change deal end benef...  \n",
       "1   [ILOVEBRITNEY_ realDonaldTrump could run presi...  \n",
       "2   [House Democrats unable get even single vote R...  \n",
       "3   [reason US Consumer pay Tariffs take effect Ch...  \n",
       "4   [going Trump National Doral Miami early today ...  \n",
       "5   [Today Alaska great honor visit brave men wome...  \n",
       "6   [Likewise want Kurds provoke Turkey Russia Ira...  \n",
       "7   [immediately repeal replace ObamaCare nobody l...  \n",
       "8   [Without Wall cannot safety security Border US...  \n",
       "9   [Governor MattBevin done wonderful job people ...  \n",
       "10  [Great job FEMA Law Enforcement First Responde...  \n",
       "11  [Republicans give BarackObama authority raise ...  \n",
       "12  [Entrepreneurs Keep momentum Without momentum ...  \n",
       "13  [changed name global warming climate change co...  \n",
       "14  [Bush appointed Supreme Court Justice John Rob...  \n",
       "15  [AJ__Hulton Best book Ive ever read realDonald...  \n",
       "16  [Success final failure fatal courage continue ...  \n",
       "17  [One reasons assume inducted WWE Hall Fame Vin...  \n",
       "18  [go stated long ago cancel flights West Africa...  \n",
       "19  [Two dozen NFL players continue kneel National...  \n",
       "20  [false reporting guessing intentions respect N...  \n",
       "21  [Always fun watch Yankees Derek Jeter great we...  \n",
       "22  [Johnboehner worst thing possibly deal seem de...  \n",
       "23  [DannyZuker Come Danny u afraid DEAL careful I...  \n",
       "24  [candidate many years selffunding campaign Lob...  \n",
       "25  [Haters stop saying went bankrupt never went b...  \n",
       "26  [ItIsJohnDoe Merry Christmas Mr country cant T...  \n",
       "27  [Join Washington Michigan Saturday April pm MA...  \n",
       "28  [Newsstand sales VanityFair run sleepy Graydon...  \n",
       "29  [MittRomney well last night contests earned de...  \n",
       "30  [Today proud sign Autism CARES Bill support re...  \n",
       "31  [Pervert alert Sexter Anthony Weiner running M...  \n",
       "32  [happen Omarosa tonight One time great episode...  \n",
       "33  [proud announce San Francisco Bay Area receive...  \n",
       "34  [Head Facebook page questions answered next As...  \n",
       "35  [Administration fighting hard end Opioid Crisi...  \n",
       "36  [hope Oprah gives Lance Armstrong million doll...  \n",
       "37  [Dopey Sugar Lord_Sugar net worth doesnt even ...  \n",
       "38  [knew Fake went anyway Lamestream Media CORRUP...  \n",
       "39  [Apple must make IPhone screen bigger Losing m...  \n",
       "40  [think thing think cant thing youre right Henr...  \n",
       "41  [TMobile service absolutely terrible get ball ...  \n",
       "42  [Boeing stock went way bought stock Boeing gre...  \n",
       "43  [DAMAC Properties DamacOfficial realDonaldTrum...  \n",
       "44  [aec realDonaldTrump please dont let USGA ruin...  \n",
       "45  [Congratulations Chuck Hagel one shortest tenu...  \n",
       "46  [morons complaining comment sexual assault rap...  \n",
       "47  [हम भरत आन क लए ततपर ह हम रसत म ह कछ ह घट म हम...  \n",
       "48  [Today signed Executive Order Improving Accoun...  \n",
       "49  [Da Nang Dick Blumenthal serve Senate Judiciar...  "
      ]
     },
     "execution_count": 204,
     "metadata": {},
     "output_type": "execute_result"
    }
   ],
   "source": [
    "topic_model.get_topic_info()"
   ]
  },
  {
   "cell_type": "code",
   "execution_count": 223,
   "metadata": {},
   "outputs": [
    {
     "data": {
      "text/plain": [
       "['realdonaldtrump, great, trump, people, thank, big, get, obama, like, donald',\n",
       " 'realdonaldtrump, trump, run, president, donald, thanks, please, apprentice, need, great',\n",
       " 'fake, news, hillary, poll, media, cnn, democrats, clinton, crooked, collusion',\n",
       " 'china, trade, us, jobs, tariffs, market, countries, chinese, economy, stock',\n",
       " 'golf, hotel, course, doral, trump, scotland, club, national, best, links',\n",
       " 'honor, iowa, today, great, veterans, thank, hampshire, day, women, crowd',\n",
       " 'iran, syria, isis, iraq, obama, israel, attack, us, iranian, benghazi',\n",
       " 'obamacare, tax, daca, cuts, healthcare, website, repeal, republicans, premiums, cut',\n",
       " 'border, wall, mexico, immigration, southern, democrats, security, rico, puerto, borders',\n",
       " 'endorsement, vets, amendment, complete, governor, crime, strong, carolina, total, military',\n",
       " 'enforcement, police, law, prayers, families, fema, hurricane, responders, gun, state',\n",
       " 'barackobama, obama, barackobamas, debt, college, records, obamas, charity, mittromney, birth',\n",
       " 'entrepreneurs, midas, touch, focus, keep, success, momentum, passion, think, einstein',\n",
       " 'wind, global, warming, turbines, alexsalmond, scotland, climate, ugly, windmills, bird',\n",
       " 'supreme, court, schneiderman, justice, lightweight, agschneiderman, judge, roberts, lawyer, case',\n",
       " 'book, art, books, read, signing, deal, new, reading, crippled, great',\n",
       " 'america, churchill, winston, make, country, great, washington, again, lets, together',\n",
       " 'wwe, vince, wrestlemania, hall, fame, winning, vincemcmahon, inducted, great, lombardi',\n",
       " 'ebola, coronavirus, testing, ban, africa, ventilators, virus, travel, flights, west',\n",
       " 'nfl, nflcommish, bills, anthem, buffalobills, buffalo, players, tom, brady, flag',\n",
       " 'korea, north, kim, jong, un, nuclear, south, chairman, denuclearizatio, summit',\n",
       " 'yankees, arod, derek, baseball, jeter, mlb, pete, fame, hall, contract',\n",
       " 'art, deal, negotiation, deals, tip, possibly, best, seem, negotiations, desperate',\n",
       " 'dannyzuker, cuban, danny, dennis, mark, dennisrodman, mcuban, rodman, loser, bet',\n",
       " 'billmaher, lobbyists, selffunding, money, charity, fundanything, interests, campaign, special, million',\n",
       " 'bankruptcy, bankrupt, estate, buy, atlantic, went, property, city, icahn, real',\n",
       " 'christmas, merry, happy, year, everyone, easter, world, new, celebrating, around',\n",
       " 'tickets, join, pm, tomorrow, center, maga, colorado, airlines, dallas, ohio',\n",
       " 'vanityfair, graydon, magazine, carter, vanity, food, circulation, restaurants, fair, sales',\n",
       " 'mittromney, ricksantorum, paulryanvp, cont, behalf, delegates, ricksantorums, interview, wisconsin, campaign',\n",
       " 'autism, autismspeaks, vaccines, vaccine, shots, massive, vaccinations, children, child, awareness',\n",
       " 'weiner, pervert, spitzer, anthony, eliot, sexting, mayor, sexter, york, sexual',\n",
       " 'omarosa, ashley, judd, celebapprentice, latoyajackson, karl, omarosas, ad, judds, karlroves',\n",
       " 'transit, usdot, funding, area, funds, project, recovery, federal, train, receive',\n",
       " 'questions, sweepstweet, followers, askthedonald, facebook, answered, video, twitter, passed, answer',\n",
       " 'drug, prescription, opioid, prices, drugs, takebackday, pfizer, crisis, opioidepidemic, fighting',\n",
       " 'lance, armstrong, robert, oprah, pattinson, kristen, lancearmstrong, cheated, interview, twilight',\n",
       " 'lordsugar, sugar, dopey, show, piersmorgan, worth, ipod, cant, youll, money',\n",
       " 'lamestream, media, antbaxter, documentary, corrupt, enemy, bbc, hard, garbage, get',\n",
       " 'screen, apple, iphone, larger, steve, samsung, yardstick, jobs, excellence, environment',\n",
       " 'ford, henry, think, intelligently, thing, find, remedy, car, together, whether',\n",
       " 'tmobile, johnlegere, service, naughtoriousbig, sucks, company, terrible, verizonwireless, trumpmobile, mrnicolasbell',\n",
       " 'boeing, batteries, air, airlines, lithium, merge, ion, airplane, merger, force',\n",
       " 'dubai, damacofficial, ctrenwith, itpab, expo, damac, estates, via, properties, ivankatrump',\n",
       " 'pinehurst, stevenowell, greens, usga, like, play, golf, looks, critical, look',\n",
       " 'hagel, chuck, defense, sod, sec, hagels, nomination, secretary, obamas, hearingsthe',\n",
       " 'sexual, rape, abuse, assault, military, forces, assaults, armed, rapes, weakened',\n",
       " 'oann, foxnews, , , , , , , , ',\n",
       " 'executive, order, signed, presidential, kidney, improving, today, identifying, makeamericasmil, antiquities',\n",
       " 'vietnam, blumenthal, connecticut, nang, richard, da, senator, dick, marine, never']"
      ]
     },
     "execution_count": 223,
     "metadata": {},
     "output_type": "execute_result"
    }
   ],
   "source": [
    "# the easiest way to generate topic labels is to use the generate_topic_labels method\n",
    "\n",
    "topic_model.generate_topic_labels(nr_words=10,topic_prefix=False,word_length=15,separator=\", \")"
   ]
  },
  {
   "cell_type": "markdown",
   "metadata": {},
   "source": [
    "## More advanced: use a language model to generate topic names"
   ]
  },
  {
   "cell_type": "code",
   "execution_count": 226,
   "metadata": {},
   "outputs": [
    {
     "data": {
      "text/plain": [
       "['realdonaldtrump, great, trump, people, thank, big, get, obama, like, donald',\n",
       " 'realdonaldtrump, trump, run, president, donald, thanks, please, apprentice, need, great',\n",
       " 'fake, news, hillary, poll, media, cnn, democrats, clinton, crooked, collusion',\n",
       " 'china, trade, us, jobs, tariffs, market, countries, chinese, economy, stock',\n",
       " 'golf, hotel, course, doral, trump, scotland, club, national, best, links',\n",
       " 'honor, iowa, today, great, veterans, thank, hampshire, day, women, crowd',\n",
       " 'iran, syria, isis, iraq, obama, israel, attack, us, iranian, benghazi',\n",
       " 'obamacare, tax, daca, cuts, healthcare, website, repeal, republicans, premiums, cut',\n",
       " 'border, wall, mexico, immigration, southern, democrats, security, rico, puerto, borders',\n",
       " 'endorsement, vets, amendment, complete, governor, crime, strong, carolina, total, military',\n",
       " 'enforcement, police, law, prayers, families, fema, hurricane, responders, gun, state',\n",
       " 'barackobama, obama, barackobamas, debt, college, records, obamas, charity, mittromney, birth',\n",
       " 'entrepreneurs, midas, touch, focus, keep, success, momentum, passion, think, einstein',\n",
       " 'wind, global, warming, turbines, alexsalmond, scotland, climate, ugly, windmills, bird',\n",
       " 'supreme, court, schneiderman, justice, lightweight, agschneiderman, judge, roberts, lawyer, case',\n",
       " 'book, art, books, read, signing, deal, new, reading, crippled, great',\n",
       " 'america, churchill, winston, make, country, great, washington, again, lets, together',\n",
       " 'wwe, vince, wrestlemania, hall, fame, winning, vincemcmahon, inducted, great, lombardi',\n",
       " 'ebola, coronavirus, testing, ban, africa, ventilators, virus, travel, flights, west',\n",
       " 'nfl, nflcommish, bills, anthem, buffalobills, buffalo, players, tom, brady, flag',\n",
       " 'korea, north, kim, jong, un, nuclear, south, chairman, denuclearizatio, summit',\n",
       " 'yankees, arod, derek, baseball, jeter, mlb, pete, fame, hall, contract',\n",
       " 'art, deal, negotiation, deals, tip, possibly, best, seem, negotiations, desperate',\n",
       " 'dannyzuker, cuban, danny, dennis, mark, dennisrodman, mcuban, rodman, loser, bet',\n",
       " 'billmaher, lobbyists, selffunding, money, charity, fundanything, interests, campaign, special, million',\n",
       " 'bankruptcy, bankrupt, estate, buy, atlantic, went, property, city, icahn, real',\n",
       " 'christmas, merry, happy, year, everyone, easter, world, new, celebrating, around',\n",
       " 'tickets, join, pm, tomorrow, center, maga, colorado, airlines, dallas, ohio',\n",
       " 'vanityfair, graydon, magazine, carter, vanity, food, circulation, restaurants, fair, sales',\n",
       " 'mittromney, ricksantorum, paulryanvp, cont, behalf, delegates, ricksantorums, interview, wisconsin, campaign',\n",
       " 'autism, autismspeaks, vaccines, vaccine, shots, massive, vaccinations, children, child, awareness',\n",
       " 'weiner, pervert, spitzer, anthony, eliot, sexting, mayor, sexter, york, sexual',\n",
       " 'omarosa, ashley, judd, celebapprentice, latoyajackson, karl, omarosas, ad, judds, karlroves',\n",
       " 'transit, usdot, funding, area, funds, project, recovery, federal, train, receive',\n",
       " 'questions, sweepstweet, followers, askthedonald, facebook, answered, video, twitter, passed, answer',\n",
       " 'drug, prescription, opioid, prices, drugs, takebackday, pfizer, crisis, opioidepidemic, fighting',\n",
       " 'lance, armstrong, robert, oprah, pattinson, kristen, lancearmstrong, cheated, interview, twilight',\n",
       " 'lordsugar, sugar, dopey, show, piersmorgan, worth, ipod, cant, youll, money',\n",
       " 'lamestream, media, antbaxter, documentary, corrupt, enemy, bbc, hard, garbage, get',\n",
       " 'screen, apple, iphone, larger, steve, samsung, yardstick, jobs, excellence, environment',\n",
       " 'ford, henry, think, intelligently, thing, find, remedy, car, together, whether',\n",
       " 'tmobile, johnlegere, service, naughtoriousbig, sucks, company, terrible, verizonwireless, trumpmobile, mrnicolasbell',\n",
       " 'boeing, batteries, air, airlines, lithium, merge, ion, airplane, merger, force',\n",
       " 'dubai, damacofficial, ctrenwith, itpab, expo, damac, estates, via, properties, ivankatrump',\n",
       " 'pinehurst, stevenowell, greens, usga, like, play, golf, looks, critical, look',\n",
       " 'hagel, chuck, defense, sod, sec, hagels, nomination, secretary, obamas, hearingsthe',\n",
       " 'sexual, rape, abuse, assault, military, forces, assaults, armed, rapes, weakened',\n",
       " 'oann, foxnews, , , , , , , , ',\n",
       " 'executive, order, signed, presidential, kidney, improving, today, identifying, makeamericasmil, antiquities',\n",
       " 'vietnam, blumenthal, connecticut, nang, richard, da, senator, dick, marine, never']"
      ]
     },
     "execution_count": 226,
     "metadata": {},
     "output_type": "execute_result"
    }
   ],
   "source": [
    "topic_names = topic_model.generate_topic_labels(nr_words=10,topic_prefix=False,word_length=15,separator=\", \")\n",
    "topic_names"
   ]
  },
  {
   "cell_type": "code",
   "execution_count": 227,
   "metadata": {},
   "outputs": [
    {
     "name": "stdout",
     "output_type": "stream",
     "text": [
      "Collecting openai\n",
      "  Using cached openai-1.60.1-py3-none-any.whl.metadata (27 kB)\n",
      "Collecting anyio<5,>=3.5.0 (from openai)\n",
      "  Using cached anyio-4.8.0-py3-none-any.whl.metadata (4.6 kB)\n",
      "Collecting distro<2,>=1.7.0 (from openai)\n",
      "  Using cached distro-1.9.0-py3-none-any.whl.metadata (6.8 kB)\n",
      "Collecting httpx<1,>=0.23.0 (from openai)\n",
      "  Using cached httpx-0.28.1-py3-none-any.whl.metadata (7.1 kB)\n",
      "Collecting jiter<1,>=0.4.0 (from openai)\n",
      "  Using cached jiter-0.8.2-cp311-cp311-manylinux_2_17_x86_64.manylinux2014_x86_64.whl.metadata (5.2 kB)\n",
      "Collecting pydantic<3,>=1.9.0 (from openai)\n",
      "  Using cached pydantic-2.10.6-py3-none-any.whl.metadata (30 kB)\n",
      "Collecting sniffio (from openai)\n",
      "  Using cached sniffio-1.3.1-py3-none-any.whl.metadata (3.9 kB)\n",
      "Requirement already satisfied: tqdm>4 in /home/zach/anaconda3/envs/bertopic/lib/python3.11/site-packages (from openai) (4.67.1)\n",
      "Requirement already satisfied: typing-extensions<5,>=4.11 in /home/zach/anaconda3/envs/bertopic/lib/python3.11/site-packages (from openai) (4.12.2)\n",
      "Requirement already satisfied: idna>=2.8 in /home/zach/anaconda3/envs/bertopic/lib/python3.11/site-packages (from anyio<5,>=3.5.0->openai) (3.10)\n",
      "Requirement already satisfied: certifi in /home/zach/anaconda3/envs/bertopic/lib/python3.11/site-packages (from httpx<1,>=0.23.0->openai) (2024.12.14)\n",
      "Collecting httpcore==1.* (from httpx<1,>=0.23.0->openai)\n",
      "  Using cached httpcore-1.0.7-py3-none-any.whl.metadata (21 kB)\n",
      "Collecting h11<0.15,>=0.13 (from httpcore==1.*->httpx<1,>=0.23.0->openai)\n",
      "  Using cached h11-0.14.0-py3-none-any.whl.metadata (8.2 kB)\n",
      "Collecting annotated-types>=0.6.0 (from pydantic<3,>=1.9.0->openai)\n",
      "  Using cached annotated_types-0.7.0-py3-none-any.whl.metadata (15 kB)\n",
      "Collecting pydantic-core==2.27.2 (from pydantic<3,>=1.9.0->openai)\n",
      "  Using cached pydantic_core-2.27.2-cp311-cp311-manylinux_2_17_x86_64.manylinux2014_x86_64.whl.metadata (6.6 kB)\n",
      "Using cached openai-1.60.1-py3-none-any.whl (456 kB)\n",
      "Using cached anyio-4.8.0-py3-none-any.whl (96 kB)\n",
      "Using cached distro-1.9.0-py3-none-any.whl (20 kB)\n",
      "Using cached httpx-0.28.1-py3-none-any.whl (73 kB)\n",
      "Using cached httpcore-1.0.7-py3-none-any.whl (78 kB)\n",
      "Using cached jiter-0.8.2-cp311-cp311-manylinux_2_17_x86_64.manylinux2014_x86_64.whl (345 kB)\n",
      "Using cached pydantic-2.10.6-py3-none-any.whl (431 kB)\n",
      "Using cached pydantic_core-2.27.2-cp311-cp311-manylinux_2_17_x86_64.manylinux2014_x86_64.whl (2.0 MB)\n",
      "Using cached sniffio-1.3.1-py3-none-any.whl (10 kB)\n",
      "Using cached annotated_types-0.7.0-py3-none-any.whl (13 kB)\n",
      "Using cached h11-0.14.0-py3-none-any.whl (58 kB)\n",
      "Installing collected packages: sniffio, pydantic-core, jiter, h11, distro, annotated-types, pydantic, httpcore, anyio, httpx, openai\n",
      "Successfully installed annotated-types-0.7.0 anyio-4.8.0 distro-1.9.0 h11-0.14.0 httpcore-1.0.7 httpx-0.28.1 jiter-0.8.2 openai-1.60.1 pydantic-2.10.6 pydantic-core-2.27.2 sniffio-1.3.1\n",
      "Note: you may need to restart the kernel to use updated packages.\n"
     ]
    }
   ],
   "source": [
    "pip install openai"
   ]
  },
  {
   "cell_type": "code",
   "execution_count": 228,
   "metadata": {},
   "outputs": [],
   "source": [
    "# import openai API \n",
    "from openai import OpenAI\n",
    "\n",
    "\n",
    "# create an instance of the OpenAI class - we're not going to use the API key, but it is required\n",
    "client = OpenAI(\n",
    "    base_url='http://localhost:11434/v1/',\n",
    "    api_key='ollama',  # Required but ignored\n",
    ")"
   ]
  },
  {
   "cell_type": "code",
   "execution_count": 258,
   "metadata": {},
   "outputs": [],
   "source": [
    "\n",
    "# define the model we want to use\n",
    "model = 'mistral'\n",
    "\n",
    "\n",
    "# write a function that takes a string as input and returns the chatbot's response\n",
    "def chat(text): \n",
    "    chat_completion = client.chat.completions.create(\n",
    "        messages=[\n",
    "            {'role': 'user', 'content': text},\n",
    "        ],\n",
    "        model=model, \n",
    "    )\n",
    "    \n",
    "    response = chat_completion.choices[0].message.content\n",
    "    \n",
    "    # print the response with line breaks\n",
    "    print(response)\n",
    "    return response"
   ]
  },
  {
   "cell_type": "code",
   "execution_count": 253,
   "metadata": {},
   "outputs": [
    {
     "name": "stdout",
     "output_type": "stream",
     "text": [
      " Controversial U.S. Politics: Allegations and Media Coverage (2016 Presidential Election Focus)\n"
     ]
    }
   ],
   "source": [
    "chat(f''' I am going to give you the topic representation words for a topic model. I want you to generate a label for the topic. Please only reply with a label for the topic. Here are the words: \n",
    "     \n",
    "     \\n \\n \n",
    "     \n",
    "        {topic_names[2]}\n",
    "        \n",
    "        \n",
    "     \\n \\n    \n",
    "\n",
    "    \n",
    "        \n",
    "    ''')"
   ]
  },
  {
   "cell_type": "code",
   "execution_count": 255,
   "metadata": {},
   "outputs": [],
   "source": [
    "from tqdm import tqdm"
   ]
  },
  {
   "cell_type": "code",
   "execution_count": 263,
   "metadata": {},
   "outputs": [
    {
     "name": "stderr",
     "output_type": "stream",
     "text": [
      "  4%|▍         | 2/50 [00:00<00:08,  5.57it/s]"
     ]
    },
    {
     "name": "stdout",
     "output_type": "stream",
     "text": [
      " Trump Rally / Supporters Appreciation\n",
      " \"Trump Campaign/Supporters\"\n"
     ]
    },
    {
     "name": "stderr",
     "output_type": "stream",
     "text": [
      "  6%|▌         | 3/50 [00:00<00:12,  3.89it/s]"
     ]
    },
    {
     "name": "stdout",
     "output_type": "stream",
     "text": [
      " Controversial Political News (Conspiracy Theories) - Hillary Clinton & Collusion\n"
     ]
    },
    {
     "name": "stderr",
     "output_type": "stream",
     "text": [
      "  8%|▊         | 4/50 [00:00<00:11,  4.05it/s]"
     ]
    },
    {
     "name": "stdout",
     "output_type": "stream",
     "text": [
      " \"US-China Trade Relations & Economic Impact\"\n"
     ]
    },
    {
     "name": "stderr",
     "output_type": "stream",
     "text": [
      " 12%|█▏        | 6/50 [00:01<00:10,  4.19it/s]"
     ]
    },
    {
     "name": "stdout",
     "output_type": "stream",
     "text": [
      " \"Luxury Golf Travel: Premium Courses and Hotels\"\n",
      " \"Iowa Veterans Appreciation Day\"\n"
     ]
    },
    {
     "name": "stderr",
     "output_type": "stream",
     "text": [
      " 14%|█▍        | 7/50 [00:01<00:12,  3.36it/s]"
     ]
    },
    {
     "name": "stdout",
     "output_type": "stream",
     "text": [
      " Middle East Conflicts and U.S. Foreign Policy (2010-2016)\n"
     ]
    },
    {
     "name": "stderr",
     "output_type": "stream",
     "text": [
      " 16%|█▌        | 8/50 [00:02<00:12,  3.48it/s]"
     ]
    },
    {
     "name": "stdout",
     "output_type": "stream",
     "text": [
      " \"Political Debates on Healthcare and Tax Policies\"\n"
     ]
    },
    {
     "name": "stderr",
     "output_type": "stream",
     "text": [
      " 18%|█▊        | 9/50 [00:02<00:11,  3.63it/s]"
     ]
    },
    {
     "name": "stdout",
     "output_type": "stream",
     "text": [
      " Border Security and Immigration Policy (US - Mexico Region)\n"
     ]
    },
    {
     "name": "stderr",
     "output_type": "stream",
     "text": [
      " 22%|██▏       | 11/50 [00:02<00:10,  3.68it/s]"
     ]
    },
    {
     "name": "stdout",
     "output_type": "stream",
     "text": [
      " Topic Label: \"Political Issues in North Carolina - Military and Legislation\"\n",
      " \"Disaster Response and Law Enforcement\"\n"
     ]
    },
    {
     "name": "stderr",
     "output_type": "stream",
     "text": [
      " 24%|██▍       | 12/50 [00:03<00:09,  4.08it/s]"
     ]
    },
    {
     "name": "stdout",
     "output_type": "stream",
     "text": [
      " Barack Obama Elections and Charity Record\n"
     ]
    },
    {
     "name": "stderr",
     "output_type": "stream",
     "text": [
      " 26%|██▌       | 13/50 [00:03<00:08,  4.14it/s]"
     ]
    },
    {
     "name": "stdout",
     "output_type": "stream",
     "text": [
      " Entrepreneurial Innovation and Focused Success Strategies\n"
     ]
    },
    {
     "name": "stderr",
     "output_type": "stream",
     "text": [
      " 28%|██▊       | 14/50 [00:03<00:09,  3.63it/s]"
     ]
    },
    {
     "name": "stdout",
     "output_type": "stream",
     "text": [
      " \"Controversial Wind Energy in Scotland Amidst Global Warming Debate\"\n"
     ]
    },
    {
     "name": "stderr",
     "output_type": "stream",
     "text": [
      " 32%|███▏      | 16/50 [00:04<00:10,  3.29it/s]"
     ]
    },
    {
     "name": "stdout",
     "output_type": "stream",
     "text": [
      " Law and Judiciary (specifically related to the U.S. Supreme Court with focus on Schneiderman, Roberts, and a significant legal case)\n",
      " Artistic Literary Pursuits\n"
     ]
    },
    {
     "name": "stderr",
     "output_type": "stream",
     "text": [
      " 34%|███▍      | 17/50 [00:04<00:09,  3.53it/s]"
     ]
    },
    {
     "name": "stdout",
     "output_type": "stream",
     "text": [
      " Unified Strength of America (Past & Present)\n"
     ]
    },
    {
     "name": "stderr",
     "output_type": "stream",
     "text": [
      " 38%|███▊      | 19/50 [00:05<00:07,  3.98it/s]"
     ]
    },
    {
     "name": "stdout",
     "output_type": "stream",
     "text": [
      " \"Pro Wrestling Legends and their Achievements\"\n",
      " Global Health Crisis (Travel & Africa)\n"
     ]
    },
    {
     "name": "stderr",
     "output_type": "stream",
     "text": [
      " 40%|████      | 20/50 [00:05<00:07,  4.14it/s]"
     ]
    },
    {
     "name": "stdout",
     "output_type": "stream",
     "text": [
      " \"NFL Protests and Buffalo Bills News\"\n"
     ]
    },
    {
     "name": "stderr",
     "output_type": "stream",
     "text": [
      " 42%|████▏     | 21/50 [00:05<00:07,  3.93it/s]"
     ]
    },
    {
     "name": "stdout",
     "output_type": "stream",
     "text": [
      " Topic: North Korea Nuclear Policy & Summit Negotiations\n"
     ]
    },
    {
     "name": "stderr",
     "output_type": "stream",
     "text": [
      " 44%|████▍     | 22/50 [00:05<00:07,  3.73it/s]"
     ]
    },
    {
     "name": "stdout",
     "output_type": "stream",
     "text": [
      " Sports Topic: New York Yankees - Legends and Contemporary Stars\n"
     ]
    },
    {
     "name": "stderr",
     "output_type": "stream",
     "text": [
      " 46%|████▌     | 23/50 [00:06<00:06,  3.95it/s]"
     ]
    },
    {
     "name": "stdout",
     "output_type": "stream",
     "text": [
      " \"Desperate Art Deals Negotiations\"\n"
     ]
    },
    {
     "name": "stderr",
     "output_type": "stream",
     "text": [
      " 48%|████▊     | 24/50 [00:06<00:06,  3.88it/s]"
     ]
    },
    {
     "name": "stdout",
     "output_type": "stream",
     "text": [
      " Sports Betting and Celebrity Influence in Cuban Affairs\n"
     ]
    },
    {
     "name": "stderr",
     "output_type": "stream",
     "text": [
      " 50%|█████     | 25/50 [00:06<00:06,  3.92it/s]"
     ]
    },
    {
     "name": "stdout",
     "output_type": "stream",
     "text": [
      " **Political Fundraising and Special Interest Influence**\n"
     ]
    },
    {
     "name": "stderr",
     "output_type": "stream",
     "text": [
      " 54%|█████▍    | 27/50 [00:07<00:05,  4.05it/s]"
     ]
    },
    {
     "name": "stdout",
     "output_type": "stream",
     "text": [
      " \"Real Estate Bankruptcies in Major Cities: Buying Properties Post-Bankruptcy\"\n",
      " Holiday & Global Celebrations\n"
     ]
    },
    {
     "name": "stderr",
     "output_type": "stream",
     "text": [
      " 56%|█████▌    | 28/50 [00:07<00:06,  3.67it/s]"
     ]
    },
    {
     "name": "stdout",
     "output_type": "stream",
     "text": [
      " Travel and Politics (Colorado, Dallas, Ohio, Maga related topics, Airlines)\n"
     ]
    },
    {
     "name": "stderr",
     "output_type": "stream",
     "text": [
      " 58%|█████▊    | 29/50 [00:07<00:05,  3.56it/s]"
     ]
    },
    {
     "name": "stdout",
     "output_type": "stream",
     "text": [
      " Food & Entertainment Magazine Sales & Circulation (Graydon Carter Edition)\n"
     ]
    },
    {
     "name": "stderr",
     "output_type": "stream",
     "text": [
      " 60%|██████    | 30/50 [00:08<00:05,  3.62it/s]"
     ]
    },
    {
     "name": "stdout",
     "output_type": "stream",
     "text": [
      " Presidential Campaign Rivalries (or simply Campaign Rivalries)\n"
     ]
    },
    {
     "name": "stderr",
     "output_type": "stream",
     "text": [
      " 62%|██████▏   | 31/50 [00:08<00:05,  3.34it/s]"
     ]
    },
    {
     "name": "stdout",
     "output_type": "stream",
     "text": [
      " Topic Label: Autism Awareness and Vaccination Concerns among Children\n"
     ]
    },
    {
     "name": "stderr",
     "output_type": "stream",
     "text": [
      " 64%|██████▍   | 32/50 [00:08<00:05,  3.58it/s]"
     ]
    },
    {
     "name": "stdout",
     "output_type": "stream",
     "text": [
      " Scandalous Politicians and Sexual Misconduct Scandal\n"
     ]
    },
    {
     "name": "stderr",
     "output_type": "stream",
     "text": [
      " 66%|██████▌   | 33/50 [00:08<00:04,  3.69it/s]"
     ]
    },
    {
     "name": "stdout",
     "output_type": "stream",
     "text": [
      " Celebrity Apprentice Contestants (or similar)\n"
     ]
    },
    {
     "name": "stderr",
     "output_type": "stream",
     "text": [
      " 68%|██████▊   | 34/50 [00:09<00:04,  3.78it/s]"
     ]
    },
    {
     "name": "stdout",
     "output_type": "stream",
     "text": [
      " \"Federal Transportation Funding for Recovery Projects\"\n"
     ]
    },
    {
     "name": "stderr",
     "output_type": "stream",
     "text": [
      " 70%|███████   | 35/50 [00:09<00:03,  3.92it/s]"
     ]
    },
    {
     "name": "stdout",
     "output_type": "stream",
     "text": [
      " Social Media Engagement and User Interaction with Public Figures\n"
     ]
    },
    {
     "name": "stderr",
     "output_type": "stream",
     "text": [
      " 74%|███████▍  | 37/50 [00:10<00:03,  3.57it/s]"
     ]
    },
    {
     "name": "stdout",
     "output_type": "stream",
     "text": [
      " Opioid Crisis: Prices and Fighting for Prescription Drug Takeback Day (Pfizer-related)\n",
      " Celebrity Scandals and Personal Interviews\n"
     ]
    },
    {
     "name": "stderr",
     "output_type": "stream",
     "text": [
      " 76%|███████▌  | 38/50 [00:10<00:03,  3.76it/s]"
     ]
    },
    {
     "name": "stdout",
     "output_type": "stream",
     "text": [
      " \"Celebrity Culture and Controversies\"\n"
     ]
    },
    {
     "name": "stderr",
     "output_type": "stream",
     "text": [
      " 80%|████████  | 40/50 [00:10<00:02,  4.03it/s]"
     ]
    },
    {
     "name": "stdout",
     "output_type": "stream",
     "text": [
      " Controversial News Critique (or) Anti-Biden Media Analysis\n",
      " \"Tech Competition and Environmental Impact\"\n"
     ]
    },
    {
     "name": "stderr",
     "output_type": "stream",
     "text": [
      " 82%|████████▏ | 41/50 [00:11<00:02,  3.87it/s]"
     ]
    },
    {
     "name": "stdout",
     "output_type": "stream",
     "text": [
      " \"Intelligent Car Design Discussions - Ford and Henry Ford\"\n"
     ]
    },
    {
     "name": "stderr",
     "output_type": "stream",
     "text": [
      " 84%|████████▍ | 42/50 [00:11<00:02,  3.16it/s]"
     ]
    },
    {
     "name": "stdout",
     "output_type": "stream",
     "text": [
      " Controversial T-Mobile Discussions: Competitors, Service Critiques, and Celebrity Endorsements\n"
     ]
    },
    {
     "name": "stderr",
     "output_type": "stream",
     "text": [
      " 86%|████████▌ | 43/50 [00:11<00:02,  3.26it/s]"
     ]
    },
    {
     "name": "stdout",
     "output_type": "stream",
     "text": [
      " Aerospace Industry Mergers and Lithium-ion Batteries\n"
     ]
    },
    {
     "name": "stderr",
     "output_type": "stream",
     "text": [
      " 88%|████████▊ | 44/50 [00:12<00:02,  2.37it/s]"
     ]
    },
    {
     "name": "stdout",
     "output_type": "stream",
     "text": [
      " Dubai Property Development (or similar label like \"Dubai Real Estate Projects\", \"Dubai Property Market updates\" or \"Investment Opportunities in Dubai Properties\")\n"
     ]
    },
    {
     "name": "stderr",
     "output_type": "stream",
     "text": [
      " 90%|█████████ | 45/50 [00:12<00:02,  2.44it/s]"
     ]
    },
    {
     "name": "stdout",
     "output_type": "stream",
     "text": [
      " \"USGA Green Renovation at Pinehurst Resort - Golf Course Improvements\"\n",
      " Military and Politics\n"
     ]
    },
    {
     "name": "stderr",
     "output_type": "stream",
     "text": [
      " 94%|█████████▍| 47/50 [00:13<00:00,  3.20it/s]"
     ]
    },
    {
     "name": "stdout",
     "output_type": "stream",
     "text": [
      " Military Sexual Misconduct (MSM) or Armed Forces Assault/Abuse\n"
     ]
    },
    {
     "name": "stderr",
     "output_type": "stream",
     "text": [
      " 96%|█████████▌| 48/50 [00:13<00:00,  3.41it/s]"
     ]
    },
    {
     "name": "stdout",
     "output_type": "stream",
     "text": [
      " \"Political News (Conservative Bias)\"\n"
     ]
    },
    {
     "name": "stderr",
     "output_type": "stream",
     "text": [
      " 98%|█████████▊| 49/50 [00:13<00:00,  3.28it/s]"
     ]
    },
    {
     "name": "stdout",
     "output_type": "stream",
     "text": [
      " \"Presidential Orders Regarding Kidney Improvement and American Military Antiquities\"\n"
     ]
    },
    {
     "name": "stderr",
     "output_type": "stream",
     "text": [
      "100%|██████████| 50/50 [00:14<00:00,  3.55it/s]"
     ]
    },
    {
     "name": "stdout",
     "output_type": "stream",
     "text": [
      " Topic Label: \"Connecticut Politics and Vietnam Veterans\"\n"
     ]
    },
    {
     "name": "stderr",
     "output_type": "stream",
     "text": [
      "\n"
     ]
    }
   ],
   "source": [
    "new_llm_topic_names = []\n",
    "\n",
    "for i in tqdm(topic_names): \n",
    "    response = chat(f''' I am going to give you the topic representation words for a topic model. I want you to generate a label for the topic. Please only reply with a label for the topic. Here are the words: \n",
    "     \n",
    "     \\n \\n \n",
    "     \n",
    "        {i}\n",
    "        \n",
    "        \n",
    "     \\n \\n    \n",
    "\n",
    "    \n",
    "        \n",
    "    ''')\n",
    "    \n",
    "    new_llm_topic_names.append(response)"
   ]
  },
  {
   "cell_type": "code",
   "execution_count": 265,
   "metadata": {},
   "outputs": [
    {
     "data": {
      "text/plain": [
       "[' Trump Rally / Supporters Appreciation',\n",
       " ' \"Trump Campaign/Supporters\"',\n",
       " ' Controversial Political News (Conspiracy Theories) - Hillary Clinton & Collusion',\n",
       " ' \"US-China Trade Relations & Economic Impact\"',\n",
       " ' \"Luxury Golf Travel: Premium Courses and Hotels\"',\n",
       " ' \"Iowa Veterans Appreciation Day\"',\n",
       " ' Middle East Conflicts and U.S. Foreign Policy (2010-2016)',\n",
       " ' \"Political Debates on Healthcare and Tax Policies\"',\n",
       " ' Border Security and Immigration Policy (US - Mexico Region)',\n",
       " ' Topic Label: \"Political Issues in North Carolina - Military and Legislation\"',\n",
       " ' \"Disaster Response and Law Enforcement\"',\n",
       " ' Barack Obama Elections and Charity Record',\n",
       " ' Entrepreneurial Innovation and Focused Success Strategies',\n",
       " ' \"Controversial Wind Energy in Scotland Amidst Global Warming Debate\"',\n",
       " ' Law and Judiciary (specifically related to the U.S. Supreme Court with focus on Schneiderman, Roberts, and a significant legal case)',\n",
       " ' Artistic Literary Pursuits',\n",
       " ' Unified Strength of America (Past & Present)',\n",
       " ' \"Pro Wrestling Legends and their Achievements\"',\n",
       " ' Global Health Crisis (Travel & Africa)',\n",
       " ' \"NFL Protests and Buffalo Bills News\"',\n",
       " ' Topic: North Korea Nuclear Policy & Summit Negotiations',\n",
       " ' Sports Topic: New York Yankees - Legends and Contemporary Stars',\n",
       " ' \"Desperate Art Deals Negotiations\"',\n",
       " ' Sports Betting and Celebrity Influence in Cuban Affairs',\n",
       " ' **Political Fundraising and Special Interest Influence**',\n",
       " ' \"Real Estate Bankruptcies in Major Cities: Buying Properties Post-Bankruptcy\"',\n",
       " ' Holiday & Global Celebrations',\n",
       " ' Travel and Politics (Colorado, Dallas, Ohio, Maga related topics, Airlines)',\n",
       " ' Food & Entertainment Magazine Sales & Circulation (Graydon Carter Edition)',\n",
       " ' Presidential Campaign Rivalries (or simply Campaign Rivalries)',\n",
       " ' Topic Label: Autism Awareness and Vaccination Concerns among Children',\n",
       " ' Scandalous Politicians and Sexual Misconduct Scandal',\n",
       " ' Celebrity Apprentice Contestants (or similar)',\n",
       " ' \"Federal Transportation Funding for Recovery Projects\"',\n",
       " ' Social Media Engagement and User Interaction with Public Figures',\n",
       " ' Opioid Crisis: Prices and Fighting for Prescription Drug Takeback Day (Pfizer-related)',\n",
       " ' Celebrity Scandals and Personal Interviews',\n",
       " ' \"Celebrity Culture and Controversies\"',\n",
       " ' Controversial News Critique (or) Anti-Biden Media Analysis',\n",
       " ' \"Tech Competition and Environmental Impact\"',\n",
       " ' \"Intelligent Car Design Discussions - Ford and Henry Ford\"',\n",
       " ' Controversial T-Mobile Discussions: Competitors, Service Critiques, and Celebrity Endorsements',\n",
       " ' Aerospace Industry Mergers and Lithium-ion Batteries',\n",
       " ' Dubai Property Development (or similar label like \"Dubai Real Estate Projects\", \"Dubai Property Market updates\" or \"Investment Opportunities in Dubai Properties\")',\n",
       " ' \"USGA Green Renovation at Pinehurst Resort - Golf Course Improvements\"',\n",
       " ' Military and Politics',\n",
       " ' Military Sexual Misconduct (MSM) or Armed Forces Assault/Abuse',\n",
       " ' \"Political News (Conservative Bias)\"',\n",
       " ' \"Presidential Orders Regarding Kidney Improvement and American Military Antiquities\"',\n",
       " ' Topic Label: \"Connecticut Politics and Vietnam Veterans\"']"
      ]
     },
     "execution_count": 265,
     "metadata": {},
     "output_type": "execute_result"
    }
   ],
   "source": [
    "new_llm_topic_names"
   ]
  },
  {
   "cell_type": "code",
   "execution_count": 269,
   "metadata": {},
   "outputs": [],
   "source": [
    "topics = topic_model.get_topic_info()\n",
    "topics['refined_topic_names'] = new_llm_topic_names"
   ]
  },
  {
   "cell_type": "code",
   "execution_count": 270,
   "metadata": {},
   "outputs": [
    {
     "data": {
      "text/html": [
       "<div>\n",
       "<style scoped>\n",
       "    .dataframe tbody tr th:only-of-type {\n",
       "        vertical-align: middle;\n",
       "    }\n",
       "\n",
       "    .dataframe tbody tr th {\n",
       "        vertical-align: top;\n",
       "    }\n",
       "\n",
       "    .dataframe thead th {\n",
       "        text-align: right;\n",
       "    }\n",
       "</style>\n",
       "<table border=\"1\" class=\"dataframe\">\n",
       "  <thead>\n",
       "    <tr style=\"text-align: right;\">\n",
       "      <th></th>\n",
       "      <th>Topic</th>\n",
       "      <th>Count</th>\n",
       "      <th>Name</th>\n",
       "      <th>Representation</th>\n",
       "      <th>Representative_Docs</th>\n",
       "      <th>refined_topic_names</th>\n",
       "    </tr>\n",
       "  </thead>\n",
       "  <tbody>\n",
       "    <tr>\n",
       "      <th>0</th>\n",
       "      <td>-1</td>\n",
       "      <td>13311</td>\n",
       "      <td>-1_realdonaldtrump_great_trump_people</td>\n",
       "      <td>[realdonaldtrump, great, trump, people, thank,...</td>\n",
       "      <td>[team negotiating always change deal end benef...</td>\n",
       "      <td>Trump Rally / Supporters Appreciation</td>\n",
       "    </tr>\n",
       "    <tr>\n",
       "      <th>1</th>\n",
       "      <td>0</td>\n",
       "      <td>5743</td>\n",
       "      <td>0_realdonaldtrump_trump_run_president</td>\n",
       "      <td>[realdonaldtrump, trump, run, president, donal...</td>\n",
       "      <td>[ILOVEBRITNEY_ realDonaldTrump could run presi...</td>\n",
       "      <td>\"Trump Campaign/Supporters\"</td>\n",
       "    </tr>\n",
       "    <tr>\n",
       "      <th>2</th>\n",
       "      <td>1</td>\n",
       "      <td>4060</td>\n",
       "      <td>1_fake_news_hillary_poll</td>\n",
       "      <td>[fake, news, hillary, poll, media, cnn, democr...</td>\n",
       "      <td>[House Democrats unable get even single vote R...</td>\n",
       "      <td>Controversial Political News (Conspiracy Theo...</td>\n",
       "    </tr>\n",
       "    <tr>\n",
       "      <th>3</th>\n",
       "      <td>2</td>\n",
       "      <td>1473</td>\n",
       "      <td>2_china_trade_us_jobs</td>\n",
       "      <td>[china, trade, us, jobs, tariffs, market, coun...</td>\n",
       "      <td>[reason US Consumer pay Tariffs take effect Ch...</td>\n",
       "      <td>\"US-China Trade Relations &amp; Economic Impact\"</td>\n",
       "    </tr>\n",
       "    <tr>\n",
       "      <th>4</th>\n",
       "      <td>3</td>\n",
       "      <td>1153</td>\n",
       "      <td>3_golf_hotel_course_doral</td>\n",
       "      <td>[golf, hotel, course, doral, trump, scotland, ...</td>\n",
       "      <td>[going Trump National Doral Miami early today ...</td>\n",
       "      <td>\"Luxury Golf Travel: Premium Courses and Hotels\"</td>\n",
       "    </tr>\n",
       "    <tr>\n",
       "      <th>5</th>\n",
       "      <td>4</td>\n",
       "      <td>1000</td>\n",
       "      <td>4_honor_iowa_today_great</td>\n",
       "      <td>[honor, iowa, today, great, veterans, thank, h...</td>\n",
       "      <td>[Today Alaska great honor visit brave men wome...</td>\n",
       "      <td>\"Iowa Veterans Appreciation Day\"</td>\n",
       "    </tr>\n",
       "    <tr>\n",
       "      <th>6</th>\n",
       "      <td>5</td>\n",
       "      <td>849</td>\n",
       "      <td>5_iran_syria_isis_iraq</td>\n",
       "      <td>[iran, syria, isis, iraq, obama, israel, attac...</td>\n",
       "      <td>[Likewise want Kurds provoke Turkey Russia Ira...</td>\n",
       "      <td>Middle East Conflicts and U.S. Foreign Policy...</td>\n",
       "    </tr>\n",
       "    <tr>\n",
       "      <th>7</th>\n",
       "      <td>6</td>\n",
       "      <td>595</td>\n",
       "      <td>6_obamacare_tax_daca_cuts</td>\n",
       "      <td>[obamacare, tax, daca, cuts, healthcare, websi...</td>\n",
       "      <td>[immediately repeal replace ObamaCare nobody l...</td>\n",
       "      <td>\"Political Debates on Healthcare and Tax Poli...</td>\n",
       "    </tr>\n",
       "    <tr>\n",
       "      <th>8</th>\n",
       "      <td>7</td>\n",
       "      <td>584</td>\n",
       "      <td>7_border_wall_mexico_immigration</td>\n",
       "      <td>[border, wall, mexico, immigration, southern, ...</td>\n",
       "      <td>[Without Wall cannot safety security Border US...</td>\n",
       "      <td>Border Security and Immigration Policy (US - ...</td>\n",
       "    </tr>\n",
       "    <tr>\n",
       "      <th>9</th>\n",
       "      <td>8</td>\n",
       "      <td>584</td>\n",
       "      <td>8_endorsement_vets_amendment_complete</td>\n",
       "      <td>[endorsement, vets, amendment, complete, gover...</td>\n",
       "      <td>[Governor MattBevin done wonderful job people ...</td>\n",
       "      <td>Topic Label: \"Political Issues in North Carol...</td>\n",
       "    </tr>\n",
       "    <tr>\n",
       "      <th>10</th>\n",
       "      <td>9</td>\n",
       "      <td>514</td>\n",
       "      <td>9_enforcement_police_law_prayers</td>\n",
       "      <td>[enforcement, police, law, prayers, families, ...</td>\n",
       "      <td>[Great job FEMA Law Enforcement First Responde...</td>\n",
       "      <td>\"Disaster Response and Law Enforcement\"</td>\n",
       "    </tr>\n",
       "    <tr>\n",
       "      <th>11</th>\n",
       "      <td>10</td>\n",
       "      <td>495</td>\n",
       "      <td>10_barackobama_obama_barackobamas_debt</td>\n",
       "      <td>[barackobama, obama, barackobamas, debt, colle...</td>\n",
       "      <td>[Republicans give BarackObama authority raise ...</td>\n",
       "      <td>Barack Obama Elections and Charity Record</td>\n",
       "    </tr>\n",
       "    <tr>\n",
       "      <th>12</th>\n",
       "      <td>11</td>\n",
       "      <td>489</td>\n",
       "      <td>11_entrepreneurs_midas_touch_focus</td>\n",
       "      <td>[entrepreneurs, midas, touch, focus, keep, suc...</td>\n",
       "      <td>[Entrepreneurs Keep momentum Without momentum ...</td>\n",
       "      <td>Entrepreneurial Innovation and Focused Succes...</td>\n",
       "    </tr>\n",
       "    <tr>\n",
       "      <th>13</th>\n",
       "      <td>12</td>\n",
       "      <td>365</td>\n",
       "      <td>12_wind_global_warming_turbines</td>\n",
       "      <td>[wind, global, warming, turbines, alexsalmond,...</td>\n",
       "      <td>[changed name global warming climate change co...</td>\n",
       "      <td>\"Controversial Wind Energy in Scotland Amidst...</td>\n",
       "    </tr>\n",
       "    <tr>\n",
       "      <th>14</th>\n",
       "      <td>13</td>\n",
       "      <td>359</td>\n",
       "      <td>13_supreme_court_schneiderman_justice</td>\n",
       "      <td>[supreme, court, schneiderman, justice, lightw...</td>\n",
       "      <td>[Bush appointed Supreme Court Justice John Rob...</td>\n",
       "      <td>Law and Judiciary (specifically related to th...</td>\n",
       "    </tr>\n",
       "    <tr>\n",
       "      <th>15</th>\n",
       "      <td>14</td>\n",
       "      <td>290</td>\n",
       "      <td>14_book_art_books_read</td>\n",
       "      <td>[book, art, books, read, signing, deal, new, r...</td>\n",
       "      <td>[AJ__Hulton Best book Ive ever read realDonald...</td>\n",
       "      <td>Artistic Literary Pursuits</td>\n",
       "    </tr>\n",
       "    <tr>\n",
       "      <th>16</th>\n",
       "      <td>15</td>\n",
       "      <td>271</td>\n",
       "      <td>15_america_churchill_winston_make</td>\n",
       "      <td>[america, churchill, winston, make, country, g...</td>\n",
       "      <td>[Success final failure fatal courage continue ...</td>\n",
       "      <td>Unified Strength of America (Past &amp; Present)</td>\n",
       "    </tr>\n",
       "    <tr>\n",
       "      <th>17</th>\n",
       "      <td>16</td>\n",
       "      <td>254</td>\n",
       "      <td>16_wwe_vince_wrestlemania_hall</td>\n",
       "      <td>[wwe, vince, wrestlemania, hall, fame, winning...</td>\n",
       "      <td>[One reasons assume inducted WWE Hall Fame Vin...</td>\n",
       "      <td>\"Pro Wrestling Legends and their Achievements\"</td>\n",
       "    </tr>\n",
       "    <tr>\n",
       "      <th>18</th>\n",
       "      <td>17</td>\n",
       "      <td>248</td>\n",
       "      <td>17_ebola_coronavirus_testing_ban</td>\n",
       "      <td>[ebola, coronavirus, testing, ban, africa, ven...</td>\n",
       "      <td>[go stated long ago cancel flights West Africa...</td>\n",
       "      <td>Global Health Crisis (Travel &amp; Africa)</td>\n",
       "    </tr>\n",
       "    <tr>\n",
       "      <th>19</th>\n",
       "      <td>18</td>\n",
       "      <td>213</td>\n",
       "      <td>18_nfl_nflcommish_bills_anthem</td>\n",
       "      <td>[nfl, nflcommish, bills, anthem, buffalobills,...</td>\n",
       "      <td>[Two dozen NFL players continue kneel National...</td>\n",
       "      <td>\"NFL Protests and Buffalo Bills News\"</td>\n",
       "    </tr>\n",
       "    <tr>\n",
       "      <th>20</th>\n",
       "      <td>19</td>\n",
       "      <td>174</td>\n",
       "      <td>19_korea_north_kim_jong</td>\n",
       "      <td>[korea, north, kim, jong, un, nuclear, south, ...</td>\n",
       "      <td>[false reporting guessing intentions respect N...</td>\n",
       "      <td>Topic: North Korea Nuclear Policy &amp; Summit Ne...</td>\n",
       "    </tr>\n",
       "    <tr>\n",
       "      <th>21</th>\n",
       "      <td>20</td>\n",
       "      <td>130</td>\n",
       "      <td>20_yankees_arod_derek_baseball</td>\n",
       "      <td>[yankees, arod, derek, baseball, jeter, mlb, p...</td>\n",
       "      <td>[Always fun watch Yankees Derek Jeter great we...</td>\n",
       "      <td>Sports Topic: New York Yankees - Legends and ...</td>\n",
       "    </tr>\n",
       "    <tr>\n",
       "      <th>22</th>\n",
       "      <td>21</td>\n",
       "      <td>129</td>\n",
       "      <td>21_art_deal_negotiation_deals</td>\n",
       "      <td>[art, deal, negotiation, deals, tip, possibly,...</td>\n",
       "      <td>[Johnboehner worst thing possibly deal seem de...</td>\n",
       "      <td>\"Desperate Art Deals Negotiations\"</td>\n",
       "    </tr>\n",
       "    <tr>\n",
       "      <th>23</th>\n",
       "      <td>22</td>\n",
       "      <td>127</td>\n",
       "      <td>22_dannyzuker_cuban_danny_dennis</td>\n",
       "      <td>[dannyzuker, cuban, danny, dennis, mark, denni...</td>\n",
       "      <td>[DannyZuker Come Danny u afraid DEAL careful I...</td>\n",
       "      <td>Sports Betting and Celebrity Influence in Cub...</td>\n",
       "    </tr>\n",
       "    <tr>\n",
       "      <th>24</th>\n",
       "      <td>23</td>\n",
       "      <td>116</td>\n",
       "      <td>23_billmaher_lobbyists_selffunding_money</td>\n",
       "      <td>[billmaher, lobbyists, selffunding, money, cha...</td>\n",
       "      <td>[candidate many years selffunding campaign Lob...</td>\n",
       "      <td>**Political Fundraising and Special Interest ...</td>\n",
       "    </tr>\n",
       "    <tr>\n",
       "      <th>25</th>\n",
       "      <td>24</td>\n",
       "      <td>109</td>\n",
       "      <td>24_bankruptcy_bankrupt_estate_buy</td>\n",
       "      <td>[bankruptcy, bankrupt, estate, buy, atlantic, ...</td>\n",
       "      <td>[Haters stop saying went bankrupt never went b...</td>\n",
       "      <td>\"Real Estate Bankruptcies in Major Cities: Bu...</td>\n",
       "    </tr>\n",
       "    <tr>\n",
       "      <th>26</th>\n",
       "      <td>25</td>\n",
       "      <td>95</td>\n",
       "      <td>25_christmas_merry_happy_year</td>\n",
       "      <td>[christmas, merry, happy, year, everyone, east...</td>\n",
       "      <td>[ItIsJohnDoe Merry Christmas Mr country cant T...</td>\n",
       "      <td>Holiday &amp; Global Celebrations</td>\n",
       "    </tr>\n",
       "    <tr>\n",
       "      <th>27</th>\n",
       "      <td>26</td>\n",
       "      <td>83</td>\n",
       "      <td>26_tickets_join_pm_tomorrow</td>\n",
       "      <td>[tickets, join, pm, tomorrow, center, maga, co...</td>\n",
       "      <td>[Join Washington Michigan Saturday April pm MA...</td>\n",
       "      <td>Travel and Politics (Colorado, Dallas, Ohio, ...</td>\n",
       "    </tr>\n",
       "    <tr>\n",
       "      <th>28</th>\n",
       "      <td>27</td>\n",
       "      <td>69</td>\n",
       "      <td>27_vanityfair_graydon_magazine_carter</td>\n",
       "      <td>[vanityfair, graydon, magazine, carter, vanity...</td>\n",
       "      <td>[Newsstand sales VanityFair run sleepy Graydon...</td>\n",
       "      <td>Food &amp; Entertainment Magazine Sales &amp; Circula...</td>\n",
       "    </tr>\n",
       "    <tr>\n",
       "      <th>29</th>\n",
       "      <td>28</td>\n",
       "      <td>69</td>\n",
       "      <td>28_mittromney_ricksantorum_paulryanvp_cont</td>\n",
       "      <td>[mittromney, ricksantorum, paulryanvp, cont, b...</td>\n",
       "      <td>[MittRomney well last night contests earned de...</td>\n",
       "      <td>Presidential Campaign Rivalries (or simply Ca...</td>\n",
       "    </tr>\n",
       "    <tr>\n",
       "      <th>30</th>\n",
       "      <td>29</td>\n",
       "      <td>47</td>\n",
       "      <td>29_autism_autismspeaks_vaccines_vaccine</td>\n",
       "      <td>[autism, autismspeaks, vaccines, vaccine, shot...</td>\n",
       "      <td>[Today proud sign Autism CARES Bill support re...</td>\n",
       "      <td>Topic Label: Autism Awareness and Vaccination...</td>\n",
       "    </tr>\n",
       "    <tr>\n",
       "      <th>31</th>\n",
       "      <td>30</td>\n",
       "      <td>47</td>\n",
       "      <td>30_weiner_pervert_spitzer_anthony</td>\n",
       "      <td>[weiner, pervert, spitzer, anthony, eliot, sex...</td>\n",
       "      <td>[Pervert alert Sexter Anthony Weiner running M...</td>\n",
       "      <td>Scandalous Politicians and Sexual Misconduct ...</td>\n",
       "    </tr>\n",
       "    <tr>\n",
       "      <th>32</th>\n",
       "      <td>31</td>\n",
       "      <td>46</td>\n",
       "      <td>31_omarosa_ashley_judd_celebapprentice</td>\n",
       "      <td>[omarosa, ashley, judd, celebapprentice, latoy...</td>\n",
       "      <td>[happen Omarosa tonight One time great episode...</td>\n",
       "      <td>Celebrity Apprentice Contestants (or similar)</td>\n",
       "    </tr>\n",
       "    <tr>\n",
       "      <th>33</th>\n",
       "      <td>32</td>\n",
       "      <td>41</td>\n",
       "      <td>32_transit_usdot_funding_area</td>\n",
       "      <td>[transit, usdot, funding, area, funds, project...</td>\n",
       "      <td>[proud announce San Francisco Bay Area receive...</td>\n",
       "      <td>\"Federal Transportation Funding for Recovery ...</td>\n",
       "    </tr>\n",
       "    <tr>\n",
       "      <th>34</th>\n",
       "      <td>33</td>\n",
       "      <td>38</td>\n",
       "      <td>33_questions_sweepstweet_followers_askthedonald</td>\n",
       "      <td>[questions, sweepstweet, followers, askthedona...</td>\n",
       "      <td>[Head Facebook page questions answered next As...</td>\n",
       "      <td>Social Media Engagement and User Interaction ...</td>\n",
       "    </tr>\n",
       "    <tr>\n",
       "      <th>35</th>\n",
       "      <td>34</td>\n",
       "      <td>34</td>\n",
       "      <td>34_drug_prescription_opioid_prices</td>\n",
       "      <td>[drug, prescription, opioid, prices, drugs, ta...</td>\n",
       "      <td>[Administration fighting hard end Opioid Crisi...</td>\n",
       "      <td>Opioid Crisis: Prices and Fighting for Prescr...</td>\n",
       "    </tr>\n",
       "    <tr>\n",
       "      <th>36</th>\n",
       "      <td>35</td>\n",
       "      <td>33</td>\n",
       "      <td>35_lance_armstrong_robert_oprah</td>\n",
       "      <td>[lance, armstrong, robert, oprah, pattinson, k...</td>\n",
       "      <td>[hope Oprah gives Lance Armstrong million doll...</td>\n",
       "      <td>Celebrity Scandals and Personal Interviews</td>\n",
       "    </tr>\n",
       "    <tr>\n",
       "      <th>37</th>\n",
       "      <td>36</td>\n",
       "      <td>33</td>\n",
       "      <td>36_lordsugar_sugar_dopey_show</td>\n",
       "      <td>[lordsugar, sugar, dopey, show, piersmorgan, w...</td>\n",
       "      <td>[Dopey Sugar Lord_Sugar net worth doesnt even ...</td>\n",
       "      <td>\"Celebrity Culture and Controversies\"</td>\n",
       "    </tr>\n",
       "    <tr>\n",
       "      <th>38</th>\n",
       "      <td>37</td>\n",
       "      <td>28</td>\n",
       "      <td>37_lamestream_media_antbaxter_documentary</td>\n",
       "      <td>[lamestream, media, antbaxter, documentary, co...</td>\n",
       "      <td>[knew Fake went anyway Lamestream Media CORRUP...</td>\n",
       "      <td>Controversial News Critique (or) Anti-Biden M...</td>\n",
       "    </tr>\n",
       "    <tr>\n",
       "      <th>39</th>\n",
       "      <td>38</td>\n",
       "      <td>27</td>\n",
       "      <td>38_screen_apple_iphone_larger</td>\n",
       "      <td>[screen, apple, iphone, larger, steve, samsung...</td>\n",
       "      <td>[Apple must make IPhone screen bigger Losing m...</td>\n",
       "      <td>\"Tech Competition and Environmental Impact\"</td>\n",
       "    </tr>\n",
       "    <tr>\n",
       "      <th>40</th>\n",
       "      <td>39</td>\n",
       "      <td>24</td>\n",
       "      <td>39_ford_henry_think_intelligently</td>\n",
       "      <td>[ford, henry, think, intelligently, thing, fin...</td>\n",
       "      <td>[think thing think cant thing youre right Henr...</td>\n",
       "      <td>\"Intelligent Car Design Discussions - Ford an...</td>\n",
       "    </tr>\n",
       "    <tr>\n",
       "      <th>41</th>\n",
       "      <td>40</td>\n",
       "      <td>19</td>\n",
       "      <td>40_tmobile_johnlegere_service_naughtoriousbig</td>\n",
       "      <td>[tmobile, johnlegere, service, naughtoriousbig...</td>\n",
       "      <td>[TMobile service absolutely terrible get ball ...</td>\n",
       "      <td>Controversial T-Mobile Discussions: Competito...</td>\n",
       "    </tr>\n",
       "    <tr>\n",
       "      <th>42</th>\n",
       "      <td>41</td>\n",
       "      <td>17</td>\n",
       "      <td>41_boeing_batteries_air_airlines</td>\n",
       "      <td>[boeing, batteries, air, airlines, lithium, me...</td>\n",
       "      <td>[Boeing stock went way bought stock Boeing gre...</td>\n",
       "      <td>Aerospace Industry Mergers and Lithium-ion Ba...</td>\n",
       "    </tr>\n",
       "    <tr>\n",
       "      <th>43</th>\n",
       "      <td>42</td>\n",
       "      <td>15</td>\n",
       "      <td>42_dubai_damacofficial_ctrenwith_itpab</td>\n",
       "      <td>[dubai, damacofficial, ctrenwith, itpab, expo,...</td>\n",
       "      <td>[DAMAC Properties DamacOfficial realDonaldTrum...</td>\n",
       "      <td>Dubai Property Development (or similar label ...</td>\n",
       "    </tr>\n",
       "    <tr>\n",
       "      <th>44</th>\n",
       "      <td>43</td>\n",
       "      <td>15</td>\n",
       "      <td>43_pinehurst_stevenowell_greens_usga</td>\n",
       "      <td>[pinehurst, stevenowell, greens, usga, like, p...</td>\n",
       "      <td>[aec realDonaldTrump please dont let USGA ruin...</td>\n",
       "      <td>\"USGA Green Renovation at Pinehurst Resort - ...</td>\n",
       "    </tr>\n",
       "    <tr>\n",
       "      <th>45</th>\n",
       "      <td>44</td>\n",
       "      <td>14</td>\n",
       "      <td>44_hagel_chuck_defense_sod</td>\n",
       "      <td>[hagel, chuck, defense, sod, sec, hagels, nomi...</td>\n",
       "      <td>[Congratulations Chuck Hagel one shortest tenu...</td>\n",
       "      <td>Military and Politics</td>\n",
       "    </tr>\n",
       "    <tr>\n",
       "      <th>46</th>\n",
       "      <td>45</td>\n",
       "      <td>13</td>\n",
       "      <td>45_sexual_rape_abuse_assault</td>\n",
       "      <td>[sexual, rape, abuse, assault, military, force...</td>\n",
       "      <td>[morons complaining comment sexual assault rap...</td>\n",
       "      <td>Military Sexual Misconduct (MSM) or Armed For...</td>\n",
       "    </tr>\n",
       "    <tr>\n",
       "      <th>47</th>\n",
       "      <td>46</td>\n",
       "      <td>13</td>\n",
       "      <td>46_oann_foxnews__</td>\n",
       "      <td>[oann, foxnews, , , , , , , , ]</td>\n",
       "      <td>[हम भरत आन क लए ततपर ह हम रसत म ह कछ ह घट म हम...</td>\n",
       "      <td>\"Political News (Conservative Bias)\"</td>\n",
       "    </tr>\n",
       "    <tr>\n",
       "      <th>48</th>\n",
       "      <td>47</td>\n",
       "      <td>12</td>\n",
       "      <td>47_executive_order_signed_presidential</td>\n",
       "      <td>[executive, order, signed, presidential, kidne...</td>\n",
       "      <td>[Today signed Executive Order Improving Accoun...</td>\n",
       "      <td>\"Presidential Orders Regarding Kidney Improve...</td>\n",
       "    </tr>\n",
       "    <tr>\n",
       "      <th>49</th>\n",
       "      <td>48</td>\n",
       "      <td>12</td>\n",
       "      <td>48_vietnam_blumenthal_connecticut_nang</td>\n",
       "      <td>[vietnam, blumenthal, connecticut, nang, richa...</td>\n",
       "      <td>[Da Nang Dick Blumenthal serve Senate Judiciar...</td>\n",
       "      <td>Topic Label: \"Connecticut Politics and Vietna...</td>\n",
       "    </tr>\n",
       "  </tbody>\n",
       "</table>\n",
       "</div>"
      ],
      "text/plain": [
       "    Topic  Count                                             Name  \\\n",
       "0      -1  13311            -1_realdonaldtrump_great_trump_people   \n",
       "1       0   5743            0_realdonaldtrump_trump_run_president   \n",
       "2       1   4060                         1_fake_news_hillary_poll   \n",
       "3       2   1473                            2_china_trade_us_jobs   \n",
       "4       3   1153                        3_golf_hotel_course_doral   \n",
       "5       4   1000                         4_honor_iowa_today_great   \n",
       "6       5    849                           5_iran_syria_isis_iraq   \n",
       "7       6    595                        6_obamacare_tax_daca_cuts   \n",
       "8       7    584                 7_border_wall_mexico_immigration   \n",
       "9       8    584            8_endorsement_vets_amendment_complete   \n",
       "10      9    514                 9_enforcement_police_law_prayers   \n",
       "11     10    495           10_barackobama_obama_barackobamas_debt   \n",
       "12     11    489               11_entrepreneurs_midas_touch_focus   \n",
       "13     12    365                  12_wind_global_warming_turbines   \n",
       "14     13    359            13_supreme_court_schneiderman_justice   \n",
       "15     14    290                           14_book_art_books_read   \n",
       "16     15    271                15_america_churchill_winston_make   \n",
       "17     16    254                   16_wwe_vince_wrestlemania_hall   \n",
       "18     17    248                 17_ebola_coronavirus_testing_ban   \n",
       "19     18    213                   18_nfl_nflcommish_bills_anthem   \n",
       "20     19    174                          19_korea_north_kim_jong   \n",
       "21     20    130                   20_yankees_arod_derek_baseball   \n",
       "22     21    129                    21_art_deal_negotiation_deals   \n",
       "23     22    127                 22_dannyzuker_cuban_danny_dennis   \n",
       "24     23    116         23_billmaher_lobbyists_selffunding_money   \n",
       "25     24    109                24_bankruptcy_bankrupt_estate_buy   \n",
       "26     25     95                    25_christmas_merry_happy_year   \n",
       "27     26     83                      26_tickets_join_pm_tomorrow   \n",
       "28     27     69            27_vanityfair_graydon_magazine_carter   \n",
       "29     28     69       28_mittromney_ricksantorum_paulryanvp_cont   \n",
       "30     29     47          29_autism_autismspeaks_vaccines_vaccine   \n",
       "31     30     47                30_weiner_pervert_spitzer_anthony   \n",
       "32     31     46           31_omarosa_ashley_judd_celebapprentice   \n",
       "33     32     41                    32_transit_usdot_funding_area   \n",
       "34     33     38  33_questions_sweepstweet_followers_askthedonald   \n",
       "35     34     34               34_drug_prescription_opioid_prices   \n",
       "36     35     33                  35_lance_armstrong_robert_oprah   \n",
       "37     36     33                    36_lordsugar_sugar_dopey_show   \n",
       "38     37     28        37_lamestream_media_antbaxter_documentary   \n",
       "39     38     27                    38_screen_apple_iphone_larger   \n",
       "40     39     24                39_ford_henry_think_intelligently   \n",
       "41     40     19    40_tmobile_johnlegere_service_naughtoriousbig   \n",
       "42     41     17                 41_boeing_batteries_air_airlines   \n",
       "43     42     15           42_dubai_damacofficial_ctrenwith_itpab   \n",
       "44     43     15             43_pinehurst_stevenowell_greens_usga   \n",
       "45     44     14                       44_hagel_chuck_defense_sod   \n",
       "46     45     13                     45_sexual_rape_abuse_assault   \n",
       "47     46     13                                46_oann_foxnews__   \n",
       "48     47     12           47_executive_order_signed_presidential   \n",
       "49     48     12           48_vietnam_blumenthal_connecticut_nang   \n",
       "\n",
       "                                       Representation  \\\n",
       "0   [realdonaldtrump, great, trump, people, thank,...   \n",
       "1   [realdonaldtrump, trump, run, president, donal...   \n",
       "2   [fake, news, hillary, poll, media, cnn, democr...   \n",
       "3   [china, trade, us, jobs, tariffs, market, coun...   \n",
       "4   [golf, hotel, course, doral, trump, scotland, ...   \n",
       "5   [honor, iowa, today, great, veterans, thank, h...   \n",
       "6   [iran, syria, isis, iraq, obama, israel, attac...   \n",
       "7   [obamacare, tax, daca, cuts, healthcare, websi...   \n",
       "8   [border, wall, mexico, immigration, southern, ...   \n",
       "9   [endorsement, vets, amendment, complete, gover...   \n",
       "10  [enforcement, police, law, prayers, families, ...   \n",
       "11  [barackobama, obama, barackobamas, debt, colle...   \n",
       "12  [entrepreneurs, midas, touch, focus, keep, suc...   \n",
       "13  [wind, global, warming, turbines, alexsalmond,...   \n",
       "14  [supreme, court, schneiderman, justice, lightw...   \n",
       "15  [book, art, books, read, signing, deal, new, r...   \n",
       "16  [america, churchill, winston, make, country, g...   \n",
       "17  [wwe, vince, wrestlemania, hall, fame, winning...   \n",
       "18  [ebola, coronavirus, testing, ban, africa, ven...   \n",
       "19  [nfl, nflcommish, bills, anthem, buffalobills,...   \n",
       "20  [korea, north, kim, jong, un, nuclear, south, ...   \n",
       "21  [yankees, arod, derek, baseball, jeter, mlb, p...   \n",
       "22  [art, deal, negotiation, deals, tip, possibly,...   \n",
       "23  [dannyzuker, cuban, danny, dennis, mark, denni...   \n",
       "24  [billmaher, lobbyists, selffunding, money, cha...   \n",
       "25  [bankruptcy, bankrupt, estate, buy, atlantic, ...   \n",
       "26  [christmas, merry, happy, year, everyone, east...   \n",
       "27  [tickets, join, pm, tomorrow, center, maga, co...   \n",
       "28  [vanityfair, graydon, magazine, carter, vanity...   \n",
       "29  [mittromney, ricksantorum, paulryanvp, cont, b...   \n",
       "30  [autism, autismspeaks, vaccines, vaccine, shot...   \n",
       "31  [weiner, pervert, spitzer, anthony, eliot, sex...   \n",
       "32  [omarosa, ashley, judd, celebapprentice, latoy...   \n",
       "33  [transit, usdot, funding, area, funds, project...   \n",
       "34  [questions, sweepstweet, followers, askthedona...   \n",
       "35  [drug, prescription, opioid, prices, drugs, ta...   \n",
       "36  [lance, armstrong, robert, oprah, pattinson, k...   \n",
       "37  [lordsugar, sugar, dopey, show, piersmorgan, w...   \n",
       "38  [lamestream, media, antbaxter, documentary, co...   \n",
       "39  [screen, apple, iphone, larger, steve, samsung...   \n",
       "40  [ford, henry, think, intelligently, thing, fin...   \n",
       "41  [tmobile, johnlegere, service, naughtoriousbig...   \n",
       "42  [boeing, batteries, air, airlines, lithium, me...   \n",
       "43  [dubai, damacofficial, ctrenwith, itpab, expo,...   \n",
       "44  [pinehurst, stevenowell, greens, usga, like, p...   \n",
       "45  [hagel, chuck, defense, sod, sec, hagels, nomi...   \n",
       "46  [sexual, rape, abuse, assault, military, force...   \n",
       "47                    [oann, foxnews, , , , , , , , ]   \n",
       "48  [executive, order, signed, presidential, kidne...   \n",
       "49  [vietnam, blumenthal, connecticut, nang, richa...   \n",
       "\n",
       "                                  Representative_Docs  \\\n",
       "0   [team negotiating always change deal end benef...   \n",
       "1   [ILOVEBRITNEY_ realDonaldTrump could run presi...   \n",
       "2   [House Democrats unable get even single vote R...   \n",
       "3   [reason US Consumer pay Tariffs take effect Ch...   \n",
       "4   [going Trump National Doral Miami early today ...   \n",
       "5   [Today Alaska great honor visit brave men wome...   \n",
       "6   [Likewise want Kurds provoke Turkey Russia Ira...   \n",
       "7   [immediately repeal replace ObamaCare nobody l...   \n",
       "8   [Without Wall cannot safety security Border US...   \n",
       "9   [Governor MattBevin done wonderful job people ...   \n",
       "10  [Great job FEMA Law Enforcement First Responde...   \n",
       "11  [Republicans give BarackObama authority raise ...   \n",
       "12  [Entrepreneurs Keep momentum Without momentum ...   \n",
       "13  [changed name global warming climate change co...   \n",
       "14  [Bush appointed Supreme Court Justice John Rob...   \n",
       "15  [AJ__Hulton Best book Ive ever read realDonald...   \n",
       "16  [Success final failure fatal courage continue ...   \n",
       "17  [One reasons assume inducted WWE Hall Fame Vin...   \n",
       "18  [go stated long ago cancel flights West Africa...   \n",
       "19  [Two dozen NFL players continue kneel National...   \n",
       "20  [false reporting guessing intentions respect N...   \n",
       "21  [Always fun watch Yankees Derek Jeter great we...   \n",
       "22  [Johnboehner worst thing possibly deal seem de...   \n",
       "23  [DannyZuker Come Danny u afraid DEAL careful I...   \n",
       "24  [candidate many years selffunding campaign Lob...   \n",
       "25  [Haters stop saying went bankrupt never went b...   \n",
       "26  [ItIsJohnDoe Merry Christmas Mr country cant T...   \n",
       "27  [Join Washington Michigan Saturday April pm MA...   \n",
       "28  [Newsstand sales VanityFair run sleepy Graydon...   \n",
       "29  [MittRomney well last night contests earned de...   \n",
       "30  [Today proud sign Autism CARES Bill support re...   \n",
       "31  [Pervert alert Sexter Anthony Weiner running M...   \n",
       "32  [happen Omarosa tonight One time great episode...   \n",
       "33  [proud announce San Francisco Bay Area receive...   \n",
       "34  [Head Facebook page questions answered next As...   \n",
       "35  [Administration fighting hard end Opioid Crisi...   \n",
       "36  [hope Oprah gives Lance Armstrong million doll...   \n",
       "37  [Dopey Sugar Lord_Sugar net worth doesnt even ...   \n",
       "38  [knew Fake went anyway Lamestream Media CORRUP...   \n",
       "39  [Apple must make IPhone screen bigger Losing m...   \n",
       "40  [think thing think cant thing youre right Henr...   \n",
       "41  [TMobile service absolutely terrible get ball ...   \n",
       "42  [Boeing stock went way bought stock Boeing gre...   \n",
       "43  [DAMAC Properties DamacOfficial realDonaldTrum...   \n",
       "44  [aec realDonaldTrump please dont let USGA ruin...   \n",
       "45  [Congratulations Chuck Hagel one shortest tenu...   \n",
       "46  [morons complaining comment sexual assault rap...   \n",
       "47  [हम भरत आन क लए ततपर ह हम रसत म ह कछ ह घट म हम...   \n",
       "48  [Today signed Executive Order Improving Accoun...   \n",
       "49  [Da Nang Dick Blumenthal serve Senate Judiciar...   \n",
       "\n",
       "                                  refined_topic_names  \n",
       "0               Trump Rally / Supporters Appreciation  \n",
       "1                         \"Trump Campaign/Supporters\"  \n",
       "2    Controversial Political News (Conspiracy Theo...  \n",
       "3        \"US-China Trade Relations & Economic Impact\"  \n",
       "4    \"Luxury Golf Travel: Premium Courses and Hotels\"  \n",
       "5                    \"Iowa Veterans Appreciation Day\"  \n",
       "6    Middle East Conflicts and U.S. Foreign Policy...  \n",
       "7    \"Political Debates on Healthcare and Tax Poli...  \n",
       "8    Border Security and Immigration Policy (US - ...  \n",
       "9    Topic Label: \"Political Issues in North Carol...  \n",
       "10            \"Disaster Response and Law Enforcement\"  \n",
       "11          Barack Obama Elections and Charity Record  \n",
       "12   Entrepreneurial Innovation and Focused Succes...  \n",
       "13   \"Controversial Wind Energy in Scotland Amidst...  \n",
       "14   Law and Judiciary (specifically related to th...  \n",
       "15                         Artistic Literary Pursuits  \n",
       "16       Unified Strength of America (Past & Present)  \n",
       "17     \"Pro Wrestling Legends and their Achievements\"  \n",
       "18             Global Health Crisis (Travel & Africa)  \n",
       "19              \"NFL Protests and Buffalo Bills News\"  \n",
       "20   Topic: North Korea Nuclear Policy & Summit Ne...  \n",
       "21   Sports Topic: New York Yankees - Legends and ...  \n",
       "22                 \"Desperate Art Deals Negotiations\"  \n",
       "23   Sports Betting and Celebrity Influence in Cub...  \n",
       "24   **Political Fundraising and Special Interest ...  \n",
       "25   \"Real Estate Bankruptcies in Major Cities: Bu...  \n",
       "26                      Holiday & Global Celebrations  \n",
       "27   Travel and Politics (Colorado, Dallas, Ohio, ...  \n",
       "28   Food & Entertainment Magazine Sales & Circula...  \n",
       "29   Presidential Campaign Rivalries (or simply Ca...  \n",
       "30   Topic Label: Autism Awareness and Vaccination...  \n",
       "31   Scandalous Politicians and Sexual Misconduct ...  \n",
       "32      Celebrity Apprentice Contestants (or similar)  \n",
       "33   \"Federal Transportation Funding for Recovery ...  \n",
       "34   Social Media Engagement and User Interaction ...  \n",
       "35   Opioid Crisis: Prices and Fighting for Prescr...  \n",
       "36         Celebrity Scandals and Personal Interviews  \n",
       "37              \"Celebrity Culture and Controversies\"  \n",
       "38   Controversial News Critique (or) Anti-Biden M...  \n",
       "39        \"Tech Competition and Environmental Impact\"  \n",
       "40   \"Intelligent Car Design Discussions - Ford an...  \n",
       "41   Controversial T-Mobile Discussions: Competito...  \n",
       "42   Aerospace Industry Mergers and Lithium-ion Ba...  \n",
       "43   Dubai Property Development (or similar label ...  \n",
       "44   \"USGA Green Renovation at Pinehurst Resort - ...  \n",
       "45                              Military and Politics  \n",
       "46   Military Sexual Misconduct (MSM) or Armed For...  \n",
       "47               \"Political News (Conservative Bias)\"  \n",
       "48   \"Presidential Orders Regarding Kidney Improve...  \n",
       "49   Topic Label: \"Connecticut Politics and Vietna...  "
      ]
     },
     "execution_count": 270,
     "metadata": {},
     "output_type": "execute_result"
    }
   ],
   "source": [
    "topics"
   ]
  }
 ],
 "metadata": {
  "kernelspec": {
   "display_name": "bertopic",
   "language": "python",
   "name": "python3"
  },
  "language_info": {
   "codemirror_mode": {
    "name": "ipython",
    "version": 3
   },
   "file_extension": ".py",
   "mimetype": "text/x-python",
   "name": "python",
   "nbconvert_exporter": "python",
   "pygments_lexer": "ipython3",
   "version": "3.11.11"
  }
 },
 "nbformat": 4,
 "nbformat_minor": 2
}
