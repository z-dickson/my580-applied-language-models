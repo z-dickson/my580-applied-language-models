{
 "cells": [
  {
   "cell_type": "markdown",
   "metadata": {},
   "source": [
    "# Topic modeling with Bertopic"
   ]
  },
  {
   "cell_type": "code",
   "execution_count": 1,
   "metadata": {},
   "outputs": [
    {
     "name": "stdout",
     "output_type": "stream",
     "text": [
      "Requirement already satisfied: bertopic in /home/zach/anaconda3/envs/bertopic/lib/python3.11/site-packages (0.16.4)\n",
      "Requirement already satisfied: pandas in /home/zach/anaconda3/envs/bertopic/lib/python3.11/site-packages (2.2.3)\n",
      "Requirement already satisfied: numpy in /home/zach/anaconda3/envs/bertopic/lib/python3.11/site-packages (2.0.1)\n",
      "Requirement already satisfied: matplotlib in /home/zach/anaconda3/envs/bertopic/lib/python3.11/site-packages (3.10.0)\n",
      "Requirement already satisfied: plotly in /home/zach/anaconda3/envs/bertopic/lib/python3.11/site-packages (5.24.1)\n",
      "Requirement already satisfied: nbformat in /home/zach/anaconda3/envs/bertopic/lib/python3.11/site-packages (5.10.4)\n",
      "Requirement already satisfied: ipywidgets in /home/zach/anaconda3/envs/bertopic/lib/python3.11/site-packages (8.1.5)\n",
      "Requirement already satisfied: openpyxl in /home/zach/anaconda3/envs/bertopic/lib/python3.11/site-packages (3.1.5)\n",
      "Requirement already satisfied: nltk in /home/zach/anaconda3/envs/bertopic/lib/python3.11/site-packages (3.9.1)\n",
      "Requirement already satisfied: hdbscan>=0.8.29 in /home/zach/anaconda3/envs/bertopic/lib/python3.11/site-packages (from bertopic) (0.8.40)\n",
      "Requirement already satisfied: scikit-learn>=0.22.2.post1 in /home/zach/anaconda3/envs/bertopic/lib/python3.11/site-packages (from bertopic) (1.6.1)\n",
      "Requirement already satisfied: sentence-transformers>=0.4.1 in /home/zach/anaconda3/envs/bertopic/lib/python3.11/site-packages (from bertopic) (3.4.0)\n",
      "Requirement already satisfied: tqdm>=4.41.1 in /home/zach/anaconda3/envs/bertopic/lib/python3.11/site-packages (from bertopic) (4.67.1)\n",
      "Requirement already satisfied: umap-learn>=0.5.0 in /home/zach/anaconda3/envs/bertopic/lib/python3.11/site-packages (from bertopic) (0.5.7)\n",
      "Requirement already satisfied: python-dateutil>=2.8.2 in /home/zach/anaconda3/envs/bertopic/lib/python3.11/site-packages (from pandas) (2.9.0.post0)\n",
      "Requirement already satisfied: pytz>=2020.1 in /home/zach/anaconda3/envs/bertopic/lib/python3.11/site-packages (from pandas) (2024.1)\n",
      "Requirement already satisfied: tzdata>=2022.7 in /home/zach/anaconda3/envs/bertopic/lib/python3.11/site-packages (from pandas) (2023.3)\n",
      "Requirement already satisfied: contourpy>=1.0.1 in /home/zach/anaconda3/envs/bertopic/lib/python3.11/site-packages (from matplotlib) (1.3.1)\n",
      "Requirement already satisfied: cycler>=0.10 in /home/zach/anaconda3/envs/bertopic/lib/python3.11/site-packages (from matplotlib) (0.12.1)\n",
      "Requirement already satisfied: fonttools>=4.22.0 in /home/zach/anaconda3/envs/bertopic/lib/python3.11/site-packages (from matplotlib) (4.55.6)\n",
      "Requirement already satisfied: kiwisolver>=1.3.1 in /home/zach/anaconda3/envs/bertopic/lib/python3.11/site-packages (from matplotlib) (1.4.8)\n",
      "Requirement already satisfied: packaging>=20.0 in /home/zach/anaconda3/envs/bertopic/lib/python3.11/site-packages (from matplotlib) (24.2)\n",
      "Requirement already satisfied: pillow>=8 in /home/zach/anaconda3/envs/bertopic/lib/python3.11/site-packages (from matplotlib) (11.1.0)\n",
      "Requirement already satisfied: pyparsing>=2.3.1 in /home/zach/anaconda3/envs/bertopic/lib/python3.11/site-packages (from matplotlib) (3.2.1)\n",
      "Requirement already satisfied: tenacity>=6.2.0 in /home/zach/anaconda3/envs/bertopic/lib/python3.11/site-packages (from plotly) (9.0.0)\n",
      "Requirement already satisfied: fastjsonschema>=2.15 in /home/zach/anaconda3/envs/bertopic/lib/python3.11/site-packages (from nbformat) (2.21.1)\n",
      "Requirement already satisfied: jsonschema>=2.6 in /home/zach/anaconda3/envs/bertopic/lib/python3.11/site-packages (from nbformat) (4.23.0)\n",
      "Requirement already satisfied: jupyter-core!=5.0.*,>=4.12 in /home/zach/anaconda3/envs/bertopic/lib/python3.11/site-packages (from nbformat) (5.7.2)\n",
      "Requirement already satisfied: traitlets>=5.1 in /home/zach/anaconda3/envs/bertopic/lib/python3.11/site-packages (from nbformat) (5.14.3)\n",
      "Requirement already satisfied: comm>=0.1.3 in /home/zach/anaconda3/envs/bertopic/lib/python3.11/site-packages (from ipywidgets) (0.2.2)\n",
      "Requirement already satisfied: ipython>=6.1.0 in /home/zach/anaconda3/envs/bertopic/lib/python3.11/site-packages (from ipywidgets) (8.31.0)\n",
      "Requirement already satisfied: widgetsnbextension~=4.0.12 in /home/zach/anaconda3/envs/bertopic/lib/python3.11/site-packages (from ipywidgets) (4.0.13)\n",
      "Requirement already satisfied: jupyterlab-widgets~=3.0.12 in /home/zach/anaconda3/envs/bertopic/lib/python3.11/site-packages (from ipywidgets) (3.0.13)\n",
      "Requirement already satisfied: et-xmlfile in /home/zach/anaconda3/envs/bertopic/lib/python3.11/site-packages (from openpyxl) (2.0.0)\n",
      "Requirement already satisfied: click in /home/zach/anaconda3/envs/bertopic/lib/python3.11/site-packages (from nltk) (8.1.8)\n",
      "Requirement already satisfied: joblib in /home/zach/anaconda3/envs/bertopic/lib/python3.11/site-packages (from nltk) (1.4.2)\n",
      "Requirement already satisfied: regex>=2021.8.3 in /home/zach/anaconda3/envs/bertopic/lib/python3.11/site-packages (from nltk) (2024.11.6)\n",
      "Requirement already satisfied: scipy>=1.0 in /home/zach/anaconda3/envs/bertopic/lib/python3.11/site-packages (from hdbscan>=0.8.29->bertopic) (1.15.1)\n",
      "Requirement already satisfied: decorator in /home/zach/anaconda3/envs/bertopic/lib/python3.11/site-packages (from ipython>=6.1.0->ipywidgets) (5.1.1)\n",
      "Requirement already satisfied: jedi>=0.16 in /home/zach/anaconda3/envs/bertopic/lib/python3.11/site-packages (from ipython>=6.1.0->ipywidgets) (0.19.2)\n",
      "Requirement already satisfied: matplotlib-inline in /home/zach/anaconda3/envs/bertopic/lib/python3.11/site-packages (from ipython>=6.1.0->ipywidgets) (0.1.7)\n",
      "Requirement already satisfied: pexpect>4.3 in /home/zach/anaconda3/envs/bertopic/lib/python3.11/site-packages (from ipython>=6.1.0->ipywidgets) (4.9.0)\n",
      "Requirement already satisfied: prompt_toolkit<3.1.0,>=3.0.41 in /home/zach/anaconda3/envs/bertopic/lib/python3.11/site-packages (from ipython>=6.1.0->ipywidgets) (3.0.50)\n",
      "Requirement already satisfied: pygments>=2.4.0 in /home/zach/anaconda3/envs/bertopic/lib/python3.11/site-packages (from ipython>=6.1.0->ipywidgets) (2.19.1)\n",
      "Requirement already satisfied: stack_data in /home/zach/anaconda3/envs/bertopic/lib/python3.11/site-packages (from ipython>=6.1.0->ipywidgets) (0.6.3)\n",
      "Requirement already satisfied: typing_extensions>=4.6 in /home/zach/anaconda3/envs/bertopic/lib/python3.11/site-packages (from ipython>=6.1.0->ipywidgets) (4.12.2)\n",
      "Requirement already satisfied: attrs>=22.2.0 in /home/zach/anaconda3/envs/bertopic/lib/python3.11/site-packages (from jsonschema>=2.6->nbformat) (25.1.0)\n",
      "Requirement already satisfied: jsonschema-specifications>=2023.03.6 in /home/zach/anaconda3/envs/bertopic/lib/python3.11/site-packages (from jsonschema>=2.6->nbformat) (2024.10.1)\n",
      "Requirement already satisfied: referencing>=0.28.4 in /home/zach/anaconda3/envs/bertopic/lib/python3.11/site-packages (from jsonschema>=2.6->nbformat) (0.36.2)\n",
      "Requirement already satisfied: rpds-py>=0.7.1 in /home/zach/anaconda3/envs/bertopic/lib/python3.11/site-packages (from jsonschema>=2.6->nbformat) (0.22.3)\n",
      "Requirement already satisfied: platformdirs>=2.5 in /home/zach/anaconda3/envs/bertopic/lib/python3.11/site-packages (from jupyter-core!=5.0.*,>=4.12->nbformat) (4.3.6)\n",
      "Requirement already satisfied: six>=1.5 in /home/zach/anaconda3/envs/bertopic/lib/python3.11/site-packages (from python-dateutil>=2.8.2->pandas) (1.16.0)\n",
      "Requirement already satisfied: threadpoolctl>=3.1.0 in /home/zach/anaconda3/envs/bertopic/lib/python3.11/site-packages (from scikit-learn>=0.22.2.post1->bertopic) (3.5.0)\n",
      "Requirement already satisfied: transformers<5.0.0,>=4.41.0 in /home/zach/anaconda3/envs/bertopic/lib/python3.11/site-packages (from sentence-transformers>=0.4.1->bertopic) (4.48.1)\n",
      "Requirement already satisfied: torch>=1.11.0 in /home/zach/anaconda3/envs/bertopic/lib/python3.11/site-packages (from sentence-transformers>=0.4.1->bertopic) (2.5.1)\n",
      "Requirement already satisfied: huggingface-hub>=0.20.0 in /home/zach/anaconda3/envs/bertopic/lib/python3.11/site-packages (from sentence-transformers>=0.4.1->bertopic) (0.27.1)\n",
      "Requirement already satisfied: numba>=0.51.2 in /home/zach/anaconda3/envs/bertopic/lib/python3.11/site-packages (from umap-learn>=0.5.0->bertopic) (0.61.0)\n",
      "Requirement already satisfied: pynndescent>=0.5 in /home/zach/anaconda3/envs/bertopic/lib/python3.11/site-packages (from umap-learn>=0.5.0->bertopic) (0.5.13)\n",
      "Requirement already satisfied: filelock in /home/zach/anaconda3/envs/bertopic/lib/python3.11/site-packages (from huggingface-hub>=0.20.0->sentence-transformers>=0.4.1->bertopic) (3.17.0)\n",
      "Requirement already satisfied: fsspec>=2023.5.0 in /home/zach/anaconda3/envs/bertopic/lib/python3.11/site-packages (from huggingface-hub>=0.20.0->sentence-transformers>=0.4.1->bertopic) (2024.9.0)\n",
      "Requirement already satisfied: pyyaml>=5.1 in /home/zach/anaconda3/envs/bertopic/lib/python3.11/site-packages (from huggingface-hub>=0.20.0->sentence-transformers>=0.4.1->bertopic) (6.0.2)\n",
      "Requirement already satisfied: requests in /home/zach/anaconda3/envs/bertopic/lib/python3.11/site-packages (from huggingface-hub>=0.20.0->sentence-transformers>=0.4.1->bertopic) (2.32.3)\n",
      "Requirement already satisfied: parso<0.9.0,>=0.8.4 in /home/zach/anaconda3/envs/bertopic/lib/python3.11/site-packages (from jedi>=0.16->ipython>=6.1.0->ipywidgets) (0.8.4)\n",
      "Requirement already satisfied: llvmlite<0.45,>=0.44.0dev0 in /home/zach/anaconda3/envs/bertopic/lib/python3.11/site-packages (from numba>=0.51.2->umap-learn>=0.5.0->bertopic) (0.44.0)\n",
      "Requirement already satisfied: ptyprocess>=0.5 in /home/zach/anaconda3/envs/bertopic/lib/python3.11/site-packages (from pexpect>4.3->ipython>=6.1.0->ipywidgets) (0.7.0)\n",
      "Requirement already satisfied: wcwidth in /home/zach/anaconda3/envs/bertopic/lib/python3.11/site-packages (from prompt_toolkit<3.1.0,>=3.0.41->ipython>=6.1.0->ipywidgets) (0.2.13)\n",
      "Requirement already satisfied: networkx in /home/zach/anaconda3/envs/bertopic/lib/python3.11/site-packages (from torch>=1.11.0->sentence-transformers>=0.4.1->bertopic) (3.4.2)\n",
      "Requirement already satisfied: jinja2 in /home/zach/anaconda3/envs/bertopic/lib/python3.11/site-packages (from torch>=1.11.0->sentence-transformers>=0.4.1->bertopic) (3.1.5)\n",
      "Requirement already satisfied: nvidia-cuda-nvrtc-cu12==12.4.127 in /home/zach/anaconda3/envs/bertopic/lib/python3.11/site-packages (from torch>=1.11.0->sentence-transformers>=0.4.1->bertopic) (12.4.127)\n",
      "Requirement already satisfied: nvidia-cuda-runtime-cu12==12.4.127 in /home/zach/anaconda3/envs/bertopic/lib/python3.11/site-packages (from torch>=1.11.0->sentence-transformers>=0.4.1->bertopic) (12.4.127)\n",
      "Requirement already satisfied: nvidia-cuda-cupti-cu12==12.4.127 in /home/zach/anaconda3/envs/bertopic/lib/python3.11/site-packages (from torch>=1.11.0->sentence-transformers>=0.4.1->bertopic) (12.4.127)\n",
      "Requirement already satisfied: nvidia-cudnn-cu12==9.1.0.70 in /home/zach/anaconda3/envs/bertopic/lib/python3.11/site-packages (from torch>=1.11.0->sentence-transformers>=0.4.1->bertopic) (9.1.0.70)\n",
      "Requirement already satisfied: nvidia-cublas-cu12==12.4.5.8 in /home/zach/anaconda3/envs/bertopic/lib/python3.11/site-packages (from torch>=1.11.0->sentence-transformers>=0.4.1->bertopic) (12.4.5.8)\n",
      "Requirement already satisfied: nvidia-cufft-cu12==11.2.1.3 in /home/zach/anaconda3/envs/bertopic/lib/python3.11/site-packages (from torch>=1.11.0->sentence-transformers>=0.4.1->bertopic) (11.2.1.3)\n",
      "Requirement already satisfied: nvidia-curand-cu12==10.3.5.147 in /home/zach/anaconda3/envs/bertopic/lib/python3.11/site-packages (from torch>=1.11.0->sentence-transformers>=0.4.1->bertopic) (10.3.5.147)\n",
      "Requirement already satisfied: nvidia-cusolver-cu12==11.6.1.9 in /home/zach/anaconda3/envs/bertopic/lib/python3.11/site-packages (from torch>=1.11.0->sentence-transformers>=0.4.1->bertopic) (11.6.1.9)\n",
      "Requirement already satisfied: nvidia-cusparse-cu12==12.3.1.170 in /home/zach/anaconda3/envs/bertopic/lib/python3.11/site-packages (from torch>=1.11.0->sentence-transformers>=0.4.1->bertopic) (12.3.1.170)\n",
      "Requirement already satisfied: nvidia-nccl-cu12==2.21.5 in /home/zach/anaconda3/envs/bertopic/lib/python3.11/site-packages (from torch>=1.11.0->sentence-transformers>=0.4.1->bertopic) (2.21.5)\n",
      "Requirement already satisfied: nvidia-nvtx-cu12==12.4.127 in /home/zach/anaconda3/envs/bertopic/lib/python3.11/site-packages (from torch>=1.11.0->sentence-transformers>=0.4.1->bertopic) (12.4.127)\n",
      "Requirement already satisfied: nvidia-nvjitlink-cu12==12.4.127 in /home/zach/anaconda3/envs/bertopic/lib/python3.11/site-packages (from torch>=1.11.0->sentence-transformers>=0.4.1->bertopic) (12.4.127)\n",
      "Requirement already satisfied: triton==3.1.0 in /home/zach/anaconda3/envs/bertopic/lib/python3.11/site-packages (from torch>=1.11.0->sentence-transformers>=0.4.1->bertopic) (3.1.0)\n",
      "Requirement already satisfied: sympy==1.13.1 in /home/zach/anaconda3/envs/bertopic/lib/python3.11/site-packages (from torch>=1.11.0->sentence-transformers>=0.4.1->bertopic) (1.13.1)\n",
      "Requirement already satisfied: mpmath<1.4,>=1.1.0 in /home/zach/anaconda3/envs/bertopic/lib/python3.11/site-packages (from sympy==1.13.1->torch>=1.11.0->sentence-transformers>=0.4.1->bertopic) (1.3.0)\n",
      "Requirement already satisfied: tokenizers<0.22,>=0.21 in /home/zach/anaconda3/envs/bertopic/lib/python3.11/site-packages (from transformers<5.0.0,>=4.41.0->sentence-transformers>=0.4.1->bertopic) (0.21.0)\n",
      "Requirement already satisfied: safetensors>=0.4.1 in /home/zach/anaconda3/envs/bertopic/lib/python3.11/site-packages (from transformers<5.0.0,>=4.41.0->sentence-transformers>=0.4.1->bertopic) (0.5.2)\n",
      "Requirement already satisfied: executing>=1.2.0 in /home/zach/anaconda3/envs/bertopic/lib/python3.11/site-packages (from stack_data->ipython>=6.1.0->ipywidgets) (2.1.0)\n",
      "Requirement already satisfied: asttokens>=2.1.0 in /home/zach/anaconda3/envs/bertopic/lib/python3.11/site-packages (from stack_data->ipython>=6.1.0->ipywidgets) (3.0.0)\n",
      "Requirement already satisfied: pure_eval in /home/zach/anaconda3/envs/bertopic/lib/python3.11/site-packages (from stack_data->ipython>=6.1.0->ipywidgets) (0.2.3)\n",
      "Requirement already satisfied: MarkupSafe>=2.0 in /home/zach/anaconda3/envs/bertopic/lib/python3.11/site-packages (from jinja2->torch>=1.11.0->sentence-transformers>=0.4.1->bertopic) (3.0.2)\n",
      "Requirement already satisfied: charset-normalizer<4,>=2 in /home/zach/anaconda3/envs/bertopic/lib/python3.11/site-packages (from requests->huggingface-hub>=0.20.0->sentence-transformers>=0.4.1->bertopic) (3.4.1)\n",
      "Requirement already satisfied: idna<4,>=2.5 in /home/zach/anaconda3/envs/bertopic/lib/python3.11/site-packages (from requests->huggingface-hub>=0.20.0->sentence-transformers>=0.4.1->bertopic) (3.10)\n",
      "Requirement already satisfied: urllib3<3,>=1.21.1 in /home/zach/anaconda3/envs/bertopic/lib/python3.11/site-packages (from requests->huggingface-hub>=0.20.0->sentence-transformers>=0.4.1->bertopic) (2.3.0)\n",
      "Requirement already satisfied: certifi>=2017.4.17 in /home/zach/anaconda3/envs/bertopic/lib/python3.11/site-packages (from requests->huggingface-hub>=0.20.0->sentence-transformers>=0.4.1->bertopic) (2024.12.14)\n",
      "Note: you may need to restart the kernel to use updated packages.\n"
     ]
    }
   ],
   "source": [
    "pip install bertopic pandas numpy matplotlib plotly nbformat ipywidgets openpyxl nltk"
   ]
  },
  {
   "cell_type": "markdown",
   "metadata": {},
   "source": [
    "# Start \n",
    "\n",
    "In this tutorial, we will use the [`Bertopic`](https://maartengr.github.io/BERTopic/getting_started/best_practices/best_practices.html) library to perform topic modeling on legislative text.\n",
    "\n",
    "\n",
    "## Data\n",
    "\n",
    "We will use a dataset of Donald Trump's tweets from 2009 to 2021. This dataset is available on [Kaggle](https://www.kaggle.com/datasets/austinreese/trump-tweets) and contains 43,000 tweets sent by Donald Trump. \n",
    "\n",
    "# Data Preprocessing\n",
    "\n",
    "Social media messages are a common medium for applied computational methods and machine learning. However, they are often noisy and contain a lot of irrelevant information. In this tutorial, our aim is to use the `Bertopic` library to perform topic modeling on the tweets, but we first need to preprocess the data to remove any irrelevant information.\n",
    "\n",
    "\n",
    "## What is topic modeling?\n",
    "\n",
    "Topic modeling is a type of statistical model that is used to discover the abstract topics that occur in a collection of documents. It is an unsupervised machine learning technique that can be used to identify the main themes or topics in a large collection of text documents. We will use the `Bertopic` library, which relies on the BERT language model to perform topic modeling.\n",
    "\n",
    "We expect that the tweets can be grouped into topics that correspond to the different areas of focus. Moreover, the data have a temporal dimension, which we will use to create dynamic topic models. While we will be focusing on the tweets of Donald Trump, the techniques we will use can be applied to any text data."
   ]
  },
  {
   "cell_type": "code",
   "execution_count": 2,
   "metadata": {},
   "outputs": [],
   "source": [
    "import pandas as pd \n",
    "import numpy as np \n",
    "from bertopic import BERTopic"
   ]
  },
  {
   "cell_type": "code",
   "execution_count": 3,
   "metadata": {},
   "outputs": [
    {
     "data": {
      "text/html": [
       "<div>\n",
       "<style scoped>\n",
       "    .dataframe tbody tr th:only-of-type {\n",
       "        vertical-align: middle;\n",
       "    }\n",
       "\n",
       "    .dataframe tbody tr th {\n",
       "        vertical-align: top;\n",
       "    }\n",
       "\n",
       "    .dataframe thead th {\n",
       "        text-align: right;\n",
       "    }\n",
       "</style>\n",
       "<table border=\"1\" class=\"dataframe\">\n",
       "  <thead>\n",
       "    <tr style=\"text-align: right;\">\n",
       "      <th></th>\n",
       "      <th>id</th>\n",
       "      <th>link</th>\n",
       "      <th>content</th>\n",
       "      <th>date</th>\n",
       "      <th>retweets</th>\n",
       "      <th>favorites</th>\n",
       "      <th>mentions</th>\n",
       "      <th>hashtags</th>\n",
       "    </tr>\n",
       "  </thead>\n",
       "  <tbody>\n",
       "    <tr>\n",
       "      <th>0</th>\n",
       "      <td>1698308935</td>\n",
       "      <td>https://twitter.com/realDonaldTrump/status/169...</td>\n",
       "      <td>Be sure to tune in and watch Donald Trump on L...</td>\n",
       "      <td>2009-05-04 13:54:25</td>\n",
       "      <td>510</td>\n",
       "      <td>917</td>\n",
       "      <td>NaN</td>\n",
       "      <td>NaN</td>\n",
       "    </tr>\n",
       "    <tr>\n",
       "      <th>1</th>\n",
       "      <td>1701461182</td>\n",
       "      <td>https://twitter.com/realDonaldTrump/status/170...</td>\n",
       "      <td>Donald Trump will be appearing on The View tom...</td>\n",
       "      <td>2009-05-04 20:00:10</td>\n",
       "      <td>34</td>\n",
       "      <td>267</td>\n",
       "      <td>NaN</td>\n",
       "      <td>NaN</td>\n",
       "    </tr>\n",
       "    <tr>\n",
       "      <th>2</th>\n",
       "      <td>1737479987</td>\n",
       "      <td>https://twitter.com/realDonaldTrump/status/173...</td>\n",
       "      <td>Donald Trump reads Top Ten Financial Tips on L...</td>\n",
       "      <td>2009-05-08 08:38:08</td>\n",
       "      <td>13</td>\n",
       "      <td>19</td>\n",
       "      <td>NaN</td>\n",
       "      <td>NaN</td>\n",
       "    </tr>\n",
       "    <tr>\n",
       "      <th>3</th>\n",
       "      <td>1741160716</td>\n",
       "      <td>https://twitter.com/realDonaldTrump/status/174...</td>\n",
       "      <td>New Blog Post: Celebrity Apprentice Finale and...</td>\n",
       "      <td>2009-05-08 15:40:15</td>\n",
       "      <td>11</td>\n",
       "      <td>26</td>\n",
       "      <td>NaN</td>\n",
       "      <td>NaN</td>\n",
       "    </tr>\n",
       "    <tr>\n",
       "      <th>4</th>\n",
       "      <td>1773561338</td>\n",
       "      <td>https://twitter.com/realDonaldTrump/status/177...</td>\n",
       "      <td>\"My persona will never be that of a wallflower...</td>\n",
       "      <td>2009-05-12 09:07:28</td>\n",
       "      <td>1375</td>\n",
       "      <td>1945</td>\n",
       "      <td>NaN</td>\n",
       "      <td>NaN</td>\n",
       "    </tr>\n",
       "    <tr>\n",
       "      <th>...</th>\n",
       "      <td>...</td>\n",
       "      <td>...</td>\n",
       "      <td>...</td>\n",
       "      <td>...</td>\n",
       "      <td>...</td>\n",
       "      <td>...</td>\n",
       "      <td>...</td>\n",
       "      <td>...</td>\n",
       "    </tr>\n",
       "    <tr>\n",
       "      <th>43347</th>\n",
       "      <td>1273405198698975232</td>\n",
       "      <td>https://twitter.com/realDonaldTrump/status/127...</td>\n",
       "      <td>Joe Biden was a TOTAL FAILURE in Government. H...</td>\n",
       "      <td>2020-06-17 19:00:32</td>\n",
       "      <td>23402</td>\n",
       "      <td>116377</td>\n",
       "      <td>NaN</td>\n",
       "      <td>NaN</td>\n",
       "    </tr>\n",
       "    <tr>\n",
       "      <th>43348</th>\n",
       "      <td>1273408026968457216</td>\n",
       "      <td>https://twitter.com/realDonaldTrump/status/127...</td>\n",
       "      <td>Will be interviewed on @ seanhannity tonight a...</td>\n",
       "      <td>2020-06-17 19:11:47</td>\n",
       "      <td>11810</td>\n",
       "      <td>56659</td>\n",
       "      <td>@seanhannity</td>\n",
       "      <td>NaN</td>\n",
       "    </tr>\n",
       "    <tr>\n",
       "      <th>43349</th>\n",
       "      <td>1273442195161387008</td>\n",
       "      <td>https://twitter.com/realDonaldTrump/status/127...</td>\n",
       "      <td>pic.twitter.com/3lm1spbU8X</td>\n",
       "      <td>2020-06-17 21:27:33</td>\n",
       "      <td>4959</td>\n",
       "      <td>19344</td>\n",
       "      <td>NaN</td>\n",
       "      <td>NaN</td>\n",
       "    </tr>\n",
       "    <tr>\n",
       "      <th>43350</th>\n",
       "      <td>1273442469066276864</td>\n",
       "      <td>https://twitter.com/realDonaldTrump/status/127...</td>\n",
       "      <td>pic.twitter.com/vpCE5MadUz</td>\n",
       "      <td>2020-06-17 21:28:38</td>\n",
       "      <td>4627</td>\n",
       "      <td>17022</td>\n",
       "      <td>NaN</td>\n",
       "      <td>NaN</td>\n",
       "    </tr>\n",
       "    <tr>\n",
       "      <th>43351</th>\n",
       "      <td>1273442528411385858</td>\n",
       "      <td>https://twitter.com/realDonaldTrump/status/127...</td>\n",
       "      <td>pic.twitter.com/VLlc0BHW41</td>\n",
       "      <td>2020-06-17 21:28:52</td>\n",
       "      <td>3951</td>\n",
       "      <td>14344</td>\n",
       "      <td>NaN</td>\n",
       "      <td>NaN</td>\n",
       "    </tr>\n",
       "  </tbody>\n",
       "</table>\n",
       "<p>43352 rows × 8 columns</p>\n",
       "</div>"
      ],
      "text/plain": [
       "                        id                                               link  \\\n",
       "0               1698308935  https://twitter.com/realDonaldTrump/status/169...   \n",
       "1               1701461182  https://twitter.com/realDonaldTrump/status/170...   \n",
       "2               1737479987  https://twitter.com/realDonaldTrump/status/173...   \n",
       "3               1741160716  https://twitter.com/realDonaldTrump/status/174...   \n",
       "4               1773561338  https://twitter.com/realDonaldTrump/status/177...   \n",
       "...                    ...                                                ...   \n",
       "43347  1273405198698975232  https://twitter.com/realDonaldTrump/status/127...   \n",
       "43348  1273408026968457216  https://twitter.com/realDonaldTrump/status/127...   \n",
       "43349  1273442195161387008  https://twitter.com/realDonaldTrump/status/127...   \n",
       "43350  1273442469066276864  https://twitter.com/realDonaldTrump/status/127...   \n",
       "43351  1273442528411385858  https://twitter.com/realDonaldTrump/status/127...   \n",
       "\n",
       "                                                 content                 date  \\\n",
       "0      Be sure to tune in and watch Donald Trump on L...  2009-05-04 13:54:25   \n",
       "1      Donald Trump will be appearing on The View tom...  2009-05-04 20:00:10   \n",
       "2      Donald Trump reads Top Ten Financial Tips on L...  2009-05-08 08:38:08   \n",
       "3      New Blog Post: Celebrity Apprentice Finale and...  2009-05-08 15:40:15   \n",
       "4      \"My persona will never be that of a wallflower...  2009-05-12 09:07:28   \n",
       "...                                                  ...                  ...   \n",
       "43347  Joe Biden was a TOTAL FAILURE in Government. H...  2020-06-17 19:00:32   \n",
       "43348  Will be interviewed on @ seanhannity tonight a...  2020-06-17 19:11:47   \n",
       "43349                         pic.twitter.com/3lm1spbU8X  2020-06-17 21:27:33   \n",
       "43350                         pic.twitter.com/vpCE5MadUz  2020-06-17 21:28:38   \n",
       "43351                         pic.twitter.com/VLlc0BHW41  2020-06-17 21:28:52   \n",
       "\n",
       "       retweets  favorites      mentions hashtags  \n",
       "0           510        917           NaN      NaN  \n",
       "1            34        267           NaN      NaN  \n",
       "2            13         19           NaN      NaN  \n",
       "3            11         26           NaN      NaN  \n",
       "4          1375       1945           NaN      NaN  \n",
       "...         ...        ...           ...      ...  \n",
       "43347     23402     116377           NaN      NaN  \n",
       "43348     11810      56659  @seanhannity      NaN  \n",
       "43349      4959      19344           NaN      NaN  \n",
       "43350      4627      17022           NaN      NaN  \n",
       "43351      3951      14344           NaN      NaN  \n",
       "\n",
       "[43352 rows x 8 columns]"
      ]
     },
     "execution_count": 3,
     "metadata": {},
     "output_type": "execute_result"
    }
   ],
   "source": [
    "# read in the data\n",
    "\n",
    "df = pd.read_csv('../data/trump_tweets.csv')\n",
    "df"
   ]
  },
  {
   "cell_type": "code",
   "execution_count": 4,
   "metadata": {},
   "outputs": [
    {
     "data": {
      "text/plain": [
       "array(['\" @ chpnaput: Donald, you need to promote the GILC, it is a great event and shows off Doonbeg. Best resort I have ever stayed at!\"',\n",
       "       '“Money was never a big motivation for me, except as a way to keep score.The excitement is playing the game.”–The Art of The Deal',\n",
       "       'We stand in absolute solidarity with the people of the United Kingdom.pic.twitter.com/X6fUUxxYXE',\n",
       "       'Univision apologized to me but I will not accept their apology. I will be suing them for a lot of money. Miss U.S.A. contestants are hurt!',\n",
       "       '\" @ James_Taylor78: @ realDonaldTrump You\\'d have my vote!\" Great.',\n",
       "       'Little Marco Rubio, the lightweight no show Senator from Florida, is set to be the \"puppet\" of the special interest Koch brothers. WATCH!',\n",
       "       'So now the Obama appointed judge on the Census case (Are you a Citizen of the United States?) won’t let the Justice Department use the lawyers that it wants to use. Could this be a first?',\n",
       "       \"The San Fran crash was totally the pilot's fault - may be too late for drug testing, RIDICULOUS!\",\n",
       "       'MAKE AMERICA GREAT AGAIN!',\n",
       "       '\" @ bhill3333: We don\\'t know Trump positions & he\\'s dominating polls. @ GOP should learn we don\\'t want soft PC Focus Group driven speeches # GOP',\n",
       "       '“Build up your weaknesses until they become your strong points.” - Knute Rockne',\n",
       "       \"Lightweight Senator Marco Rubio is polling very poorly in Florida. The people can't stand him for missing so many votes - poor work ethic!\",\n",
       "       'Congratulations to @ BretBaier on his five year anniversary as the anchor @ SpecialReport. Brett is great!',\n",
       "       '\"@PamKing8628: @ realDonaldTrump @ mikerandcom - # TeamLeeza will be following ur # CelebApprentice comments! @ LeezaGibbons\"',\n",
       "       '\" @ ScotlandGolf1 @ IvankaTrump @ TrumpScotland It is one of the best courses i have played and one i recommend to all our clients.\" Thank you.',\n",
       "       '. @ JuddApatow I agree!',\n",
       "       'What the hell is Obama doing in allowing all of these potentially very sick people to continue entering the U.S.! Is he stupid or arrogant?',\n",
       "       '\" @ Taylorstime: @ realDonaldTrump @ Joan_Rivers Donald you speak the truth .\"',\n",
       "       '@ grant_wyeth Thanks Grant.',\n",
       "       '\" @ LeStudio1: DONALD TRUMP-CRIPPLED AMERICA The new book by @ realDonaldTrump is best seller in the making.\"'],\n",
       "      dtype=object)"
      ]
     },
     "execution_count": 4,
     "metadata": {},
     "output_type": "execute_result"
    }
   ],
   "source": [
    "# what does the text look like? \n",
    "\n",
    "df['content'].sample(20).values"
   ]
  },
  {
   "cell_type": "code",
   "execution_count": 5,
   "metadata": {},
   "outputs": [
    {
     "data": {
      "text/plain": [
       "count    43352.000000\n",
       "mean       131.525927\n",
       "std         63.052228\n",
       "min          4.000000\n",
       "25%         93.000000\n",
       "50%        130.000000\n",
       "75%        142.000000\n",
       "max        406.000000\n",
       "Name: content, dtype: float64"
      ]
     },
     "execution_count": 5,
     "metadata": {},
     "output_type": "execute_result"
    }
   ],
   "source": [
    "# what is the length of the text data we are working with?\n",
    "\n",
    "df['content'].str.len().describe()"
   ]
  },
  {
   "cell_type": "code",
   "execution_count": 6,
   "metadata": {},
   "outputs": [
    {
     "data": {
      "text/plain": [
       "<Axes: >"
      ]
     },
     "execution_count": 6,
     "metadata": {},
     "output_type": "execute_result"
    },
    {
     "data": {
      "image/png": "[encoded data removed]",
      "text/plain": [
       "<Figure size 640x480 with 1 Axes>"
      ]
     },
     "metadata": {},
     "output_type": "display_data"
    }
   ],
   "source": [
    "df['content'].str.len().hist()"
   ]
  },
  {
   "cell_type": "code",
   "execution_count": 7,
   "metadata": {},
   "outputs": [],
   "source": [
    "# Let's prepare the data for BERTopic - discuss options for cleaning the text\n",
    "\n",
    "# remove pics and videos - this does not work as expected - https://stackoverflow.com/questions/59970396/how-to-remove-picture-url-from-twitter-tweet-using-python\n",
    "df['content'] = df['content'].str.replace(r'pic.twitter.com/[\\w]*',\"\", regex=True)"
   ]
  },
  {
   "cell_type": "code",
   "execution_count": 8,
   "metadata": {},
   "outputs": [],
   "source": [
    "# remove special characters\n",
    "df['content'] = df['content'].str.replace(r'[^\\w\\s]', '', regex=True)"
   ]
  },
  {
   "cell_type": "code",
   "execution_count": 9,
   "metadata": {},
   "outputs": [],
   "source": [
    "# remove numbers\n",
    "df['content'] = df['content'].str.replace(r'\\d+', '', regex=True)"
   ]
  },
  {
   "cell_type": "code",
   "execution_count": 10,
   "metadata": {},
   "outputs": [
    {
     "name": "stderr",
     "output_type": "stream",
     "text": [
      "[nltk_data] Downloading package stopwords to /home/zach/nltk_data...\n",
      "[nltk_data]   Package stopwords is already up-to-date!\n"
     ]
    }
   ],
   "source": [
    "# remove stopwords\n",
    "import nltk\n",
    "from nltk.corpus import stopwords\n",
    "nltk.download('stopwords')\n",
    "stop_words = set(stopwords.words('english'))\n",
    "\n",
    "df['content'] = df['content'].apply(lambda x: ' '.join([word for word in x.split() if word.lower() not in (stop_words)]))"
   ]
  },
  {
   "cell_type": "code",
   "execution_count": 11,
   "metadata": {},
   "outputs": [],
   "source": [
    "# remove social media handles that start with @\n",
    "df['content'] = df['content'].str.replace(r'@\\w+', '', regex=True)"
   ]
  },
  {
   "cell_type": "code",
   "execution_count": 12,
   "metadata": {},
   "outputs": [],
   "source": [
    "# remove urls \n",
    "df['content'] = df['content'].str.replace(r'http\\S+', '', regex=True).replace(r'www\\S+', '', regex=True).replace(r'https\\S+', '', regex=True)"
   ]
  },
  {
   "cell_type": "code",
   "execution_count": 13,
   "metadata": {},
   "outputs": [
    {
     "data": {
      "text/html": [
       "<div>\n",
       "<style scoped>\n",
       "    .dataframe tbody tr th:only-of-type {\n",
       "        vertical-align: middle;\n",
       "    }\n",
       "\n",
       "    .dataframe tbody tr th {\n",
       "        vertical-align: top;\n",
       "    }\n",
       "\n",
       "    .dataframe thead th {\n",
       "        text-align: right;\n",
       "    }\n",
       "</style>\n",
       "<table border=\"1\" class=\"dataframe\">\n",
       "  <thead>\n",
       "    <tr style=\"text-align: right;\">\n",
       "      <th></th>\n",
       "      <th>id</th>\n",
       "      <th>link</th>\n",
       "      <th>content</th>\n",
       "      <th>date</th>\n",
       "      <th>retweets</th>\n",
       "      <th>favorites</th>\n",
       "      <th>mentions</th>\n",
       "      <th>hashtags</th>\n",
       "    </tr>\n",
       "  </thead>\n",
       "  <tbody>\n",
       "    <tr>\n",
       "      <th>0</th>\n",
       "      <td>1698308935</td>\n",
       "      <td>https://twitter.com/realDonaldTrump/status/169...</td>\n",
       "      <td>sure tune watch Donald Trump Late Night David ...</td>\n",
       "      <td>2009-05-04 13:54:25</td>\n",
       "      <td>510</td>\n",
       "      <td>917</td>\n",
       "      <td>NaN</td>\n",
       "      <td>NaN</td>\n",
       "    </tr>\n",
       "    <tr>\n",
       "      <th>1</th>\n",
       "      <td>1701461182</td>\n",
       "      <td>https://twitter.com/realDonaldTrump/status/170...</td>\n",
       "      <td>Donald Trump appearing View tomorrow morning d...</td>\n",
       "      <td>2009-05-04 20:00:10</td>\n",
       "      <td>34</td>\n",
       "      <td>267</td>\n",
       "      <td>NaN</td>\n",
       "      <td>NaN</td>\n",
       "    </tr>\n",
       "    <tr>\n",
       "      <th>2</th>\n",
       "      <td>1737479987</td>\n",
       "      <td>https://twitter.com/realDonaldTrump/status/173...</td>\n",
       "      <td>Donald Trump reads Top Ten Financial Tips Late...</td>\n",
       "      <td>2009-05-08 08:38:08</td>\n",
       "      <td>13</td>\n",
       "      <td>19</td>\n",
       "      <td>NaN</td>\n",
       "      <td>NaN</td>\n",
       "    </tr>\n",
       "    <tr>\n",
       "      <th>3</th>\n",
       "      <td>1741160716</td>\n",
       "      <td>https://twitter.com/realDonaldTrump/status/174...</td>\n",
       "      <td>New Blog Post Celebrity Apprentice Finale Less...</td>\n",
       "      <td>2009-05-08 15:40:15</td>\n",
       "      <td>11</td>\n",
       "      <td>26</td>\n",
       "      <td>NaN</td>\n",
       "      <td>NaN</td>\n",
       "    </tr>\n",
       "    <tr>\n",
       "      <th>4</th>\n",
       "      <td>1773561338</td>\n",
       "      <td>https://twitter.com/realDonaldTrump/status/177...</td>\n",
       "      <td>persona never wallflower Id rather build walls...</td>\n",
       "      <td>2009-05-12 09:07:28</td>\n",
       "      <td>1375</td>\n",
       "      <td>1945</td>\n",
       "      <td>NaN</td>\n",
       "      <td>NaN</td>\n",
       "    </tr>\n",
       "    <tr>\n",
       "      <th>...</th>\n",
       "      <td>...</td>\n",
       "      <td>...</td>\n",
       "      <td>...</td>\n",
       "      <td>...</td>\n",
       "      <td>...</td>\n",
       "      <td>...</td>\n",
       "      <td>...</td>\n",
       "      <td>...</td>\n",
       "    </tr>\n",
       "    <tr>\n",
       "      <th>43347</th>\n",
       "      <td>1273405198698975232</td>\n",
       "      <td>https://twitter.com/realDonaldTrump/status/127...</td>\n",
       "      <td>Joe Biden TOTAL FAILURE Government bungled eve...</td>\n",
       "      <td>2020-06-17 19:00:32</td>\n",
       "      <td>23402</td>\n",
       "      <td>116377</td>\n",
       "      <td>NaN</td>\n",
       "      <td>NaN</td>\n",
       "    </tr>\n",
       "    <tr>\n",
       "      <th>43348</th>\n",
       "      <td>1273408026968457216</td>\n",
       "      <td>https://twitter.com/realDonaldTrump/status/127...</td>\n",
       "      <td>interviewed seanhannity tonight PM Enjoy</td>\n",
       "      <td>2020-06-17 19:11:47</td>\n",
       "      <td>11810</td>\n",
       "      <td>56659</td>\n",
       "      <td>@seanhannity</td>\n",
       "      <td>NaN</td>\n",
       "    </tr>\n",
       "    <tr>\n",
       "      <th>43349</th>\n",
       "      <td>1273442195161387008</td>\n",
       "      <td>https://twitter.com/realDonaldTrump/status/127...</td>\n",
       "      <td></td>\n",
       "      <td>2020-06-17 21:27:33</td>\n",
       "      <td>4959</td>\n",
       "      <td>19344</td>\n",
       "      <td>NaN</td>\n",
       "      <td>NaN</td>\n",
       "    </tr>\n",
       "    <tr>\n",
       "      <th>43350</th>\n",
       "      <td>1273442469066276864</td>\n",
       "      <td>https://twitter.com/realDonaldTrump/status/127...</td>\n",
       "      <td></td>\n",
       "      <td>2020-06-17 21:28:38</td>\n",
       "      <td>4627</td>\n",
       "      <td>17022</td>\n",
       "      <td>NaN</td>\n",
       "      <td>NaN</td>\n",
       "    </tr>\n",
       "    <tr>\n",
       "      <th>43351</th>\n",
       "      <td>1273442528411385858</td>\n",
       "      <td>https://twitter.com/realDonaldTrump/status/127...</td>\n",
       "      <td></td>\n",
       "      <td>2020-06-17 21:28:52</td>\n",
       "      <td>3951</td>\n",
       "      <td>14344</td>\n",
       "      <td>NaN</td>\n",
       "      <td>NaN</td>\n",
       "    </tr>\n",
       "  </tbody>\n",
       "</table>\n",
       "<p>43352 rows × 8 columns</p>\n",
       "</div>"
      ],
      "text/plain": [
       "                        id                                               link  \\\n",
       "0               1698308935  https://twitter.com/realDonaldTrump/status/169...   \n",
       "1               1701461182  https://twitter.com/realDonaldTrump/status/170...   \n",
       "2               1737479987  https://twitter.com/realDonaldTrump/status/173...   \n",
       "3               1741160716  https://twitter.com/realDonaldTrump/status/174...   \n",
       "4               1773561338  https://twitter.com/realDonaldTrump/status/177...   \n",
       "...                    ...                                                ...   \n",
       "43347  1273405198698975232  https://twitter.com/realDonaldTrump/status/127...   \n",
       "43348  1273408026968457216  https://twitter.com/realDonaldTrump/status/127...   \n",
       "43349  1273442195161387008  https://twitter.com/realDonaldTrump/status/127...   \n",
       "43350  1273442469066276864  https://twitter.com/realDonaldTrump/status/127...   \n",
       "43351  1273442528411385858  https://twitter.com/realDonaldTrump/status/127...   \n",
       "\n",
       "                                                 content                 date  \\\n",
       "0      sure tune watch Donald Trump Late Night David ...  2009-05-04 13:54:25   \n",
       "1      Donald Trump appearing View tomorrow morning d...  2009-05-04 20:00:10   \n",
       "2      Donald Trump reads Top Ten Financial Tips Late...  2009-05-08 08:38:08   \n",
       "3      New Blog Post Celebrity Apprentice Finale Less...  2009-05-08 15:40:15   \n",
       "4      persona never wallflower Id rather build walls...  2009-05-12 09:07:28   \n",
       "...                                                  ...                  ...   \n",
       "43347  Joe Biden TOTAL FAILURE Government bungled eve...  2020-06-17 19:00:32   \n",
       "43348           interviewed seanhannity tonight PM Enjoy  2020-06-17 19:11:47   \n",
       "43349                                                     2020-06-17 21:27:33   \n",
       "43350                                                     2020-06-17 21:28:38   \n",
       "43351                                                     2020-06-17 21:28:52   \n",
       "\n",
       "       retweets  favorites      mentions hashtags  \n",
       "0           510        917           NaN      NaN  \n",
       "1            34        267           NaN      NaN  \n",
       "2            13         19           NaN      NaN  \n",
       "3            11         26           NaN      NaN  \n",
       "4          1375       1945           NaN      NaN  \n",
       "...         ...        ...           ...      ...  \n",
       "43347     23402     116377           NaN      NaN  \n",
       "43348     11810      56659  @seanhannity      NaN  \n",
       "43349      4959      19344           NaN      NaN  \n",
       "43350      4627      17022           NaN      NaN  \n",
       "43351      3951      14344           NaN      NaN  \n",
       "\n",
       "[43352 rows x 8 columns]"
      ]
     },
     "execution_count": 13,
     "metadata": {},
     "output_type": "execute_result"
    }
   ],
   "source": [
    "df"
   ]
  },
  {
   "cell_type": "code",
   "execution_count": 14,
   "metadata": {},
   "outputs": [],
   "source": [
    "# drop the rows with empty content\n",
    "df = df[df['content'] != '']"
   ]
  },
  {
   "cell_type": "code",
   "execution_count": 15,
   "metadata": {},
   "outputs": [],
   "source": [
    "# drop the rows with fewer than 5 words \n",
    "df = df[df['content'].str.split().str.len() > 6]"
   ]
  },
  {
   "cell_type": "code",
   "execution_count": 16,
   "metadata": {},
   "outputs": [
    {
     "data": {
      "text/html": [
       "<div>\n",
       "<style scoped>\n",
       "    .dataframe tbody tr th:only-of-type {\n",
       "        vertical-align: middle;\n",
       "    }\n",
       "\n",
       "    .dataframe tbody tr th {\n",
       "        vertical-align: top;\n",
       "    }\n",
       "\n",
       "    .dataframe thead th {\n",
       "        text-align: right;\n",
       "    }\n",
       "</style>\n",
       "<table border=\"1\" class=\"dataframe\">\n",
       "  <thead>\n",
       "    <tr style=\"text-align: right;\">\n",
       "      <th></th>\n",
       "      <th>id</th>\n",
       "      <th>link</th>\n",
       "      <th>content</th>\n",
       "      <th>date</th>\n",
       "      <th>retweets</th>\n",
       "      <th>favorites</th>\n",
       "      <th>mentions</th>\n",
       "      <th>hashtags</th>\n",
       "    </tr>\n",
       "  </thead>\n",
       "  <tbody>\n",
       "    <tr>\n",
       "      <th>0</th>\n",
       "      <td>1698308935</td>\n",
       "      <td>https://twitter.com/realDonaldTrump/status/169...</td>\n",
       "      <td>sure tune watch Donald Trump Late Night David ...</td>\n",
       "      <td>2009-05-04 13:54:25</td>\n",
       "      <td>510</td>\n",
       "      <td>917</td>\n",
       "      <td>NaN</td>\n",
       "      <td>NaN</td>\n",
       "    </tr>\n",
       "    <tr>\n",
       "      <th>1</th>\n",
       "      <td>1701461182</td>\n",
       "      <td>https://twitter.com/realDonaldTrump/status/170...</td>\n",
       "      <td>Donald Trump appearing View tomorrow morning d...</td>\n",
       "      <td>2009-05-04 20:00:10</td>\n",
       "      <td>34</td>\n",
       "      <td>267</td>\n",
       "      <td>NaN</td>\n",
       "      <td>NaN</td>\n",
       "    </tr>\n",
       "    <tr>\n",
       "      <th>2</th>\n",
       "      <td>1737479987</td>\n",
       "      <td>https://twitter.com/realDonaldTrump/status/173...</td>\n",
       "      <td>Donald Trump reads Top Ten Financial Tips Late...</td>\n",
       "      <td>2009-05-08 08:38:08</td>\n",
       "      <td>13</td>\n",
       "      <td>19</td>\n",
       "      <td>NaN</td>\n",
       "      <td>NaN</td>\n",
       "    </tr>\n",
       "    <tr>\n",
       "      <th>3</th>\n",
       "      <td>1741160716</td>\n",
       "      <td>https://twitter.com/realDonaldTrump/status/174...</td>\n",
       "      <td>New Blog Post Celebrity Apprentice Finale Less...</td>\n",
       "      <td>2009-05-08 15:40:15</td>\n",
       "      <td>11</td>\n",
       "      <td>26</td>\n",
       "      <td>NaN</td>\n",
       "      <td>NaN</td>\n",
       "    </tr>\n",
       "    <tr>\n",
       "      <th>4</th>\n",
       "      <td>1773561338</td>\n",
       "      <td>https://twitter.com/realDonaldTrump/status/177...</td>\n",
       "      <td>persona never wallflower Id rather build walls...</td>\n",
       "      <td>2009-05-12 09:07:28</td>\n",
       "      <td>1375</td>\n",
       "      <td>1945</td>\n",
       "      <td>NaN</td>\n",
       "      <td>NaN</td>\n",
       "    </tr>\n",
       "    <tr>\n",
       "      <th>...</th>\n",
       "      <td>...</td>\n",
       "      <td>...</td>\n",
       "      <td>...</td>\n",
       "      <td>...</td>\n",
       "      <td>...</td>\n",
       "      <td>...</td>\n",
       "      <td>...</td>\n",
       "      <td>...</td>\n",
       "    </tr>\n",
       "    <tr>\n",
       "      <th>43341</th>\n",
       "      <td>1273032175718449155</td>\n",
       "      <td>https://twitter.com/realDonaldTrump/status/127...</td>\n",
       "      <td>Chris Jacobs JacobsNY tremendous Congressman a...</td>\n",
       "      <td>2020-06-16 18:18:17</td>\n",
       "      <td>9802</td>\n",
       "      <td>35418</td>\n",
       "      <td>@JacobsNY27</td>\n",
       "      <td>#NY27https</td>\n",
       "    </tr>\n",
       "    <tr>\n",
       "      <th>43342</th>\n",
       "      <td>1273034110353707008</td>\n",
       "      <td>https://twitter.com/realDonaldTrump/status/127...</td>\n",
       "      <td>Congressman LeeZeldin fighter New York serves ...</td>\n",
       "      <td>2020-06-16 18:25:58</td>\n",
       "      <td>12070</td>\n",
       "      <td>45048</td>\n",
       "      <td>@LeeZeldin</td>\n",
       "      <td>NaN</td>\n",
       "    </tr>\n",
       "    <tr>\n",
       "      <th>43343</th>\n",
       "      <td>1273038952275095558</td>\n",
       "      <td>https://twitter.com/realDonaldTrump/status/127...</td>\n",
       "      <td>LyndaBennettNC Complete Total Endorsement grea...</td>\n",
       "      <td>2020-06-16 18:45:12</td>\n",
       "      <td>10263</td>\n",
       "      <td>37476</td>\n",
       "      <td>@LyndaBennettNC</td>\n",
       "      <td>NaN</td>\n",
       "    </tr>\n",
       "    <tr>\n",
       "      <th>43345</th>\n",
       "      <td>1273080720794279937</td>\n",
       "      <td>https://twitter.com/realDonaldTrump/status/127...</td>\n",
       "      <td>GREAT woman son looking heaven proud wonderful...</td>\n",
       "      <td>2020-06-16 21:31:11</td>\n",
       "      <td>26468</td>\n",
       "      <td>112140</td>\n",
       "      <td>NaN</td>\n",
       "      <td>NaN</td>\n",
       "    </tr>\n",
       "    <tr>\n",
       "      <th>43347</th>\n",
       "      <td>1273405198698975232</td>\n",
       "      <td>https://twitter.com/realDonaldTrump/status/127...</td>\n",
       "      <td>Joe Biden TOTAL FAILURE Government bungled eve...</td>\n",
       "      <td>2020-06-17 19:00:32</td>\n",
       "      <td>23402</td>\n",
       "      <td>116377</td>\n",
       "      <td>NaN</td>\n",
       "      <td>NaN</td>\n",
       "    </tr>\n",
       "  </tbody>\n",
       "</table>\n",
       "<p>34479 rows × 8 columns</p>\n",
       "</div>"
      ],
      "text/plain": [
       "                        id                                               link  \\\n",
       "0               1698308935  https://twitter.com/realDonaldTrump/status/169...   \n",
       "1               1701461182  https://twitter.com/realDonaldTrump/status/170...   \n",
       "2               1737479987  https://twitter.com/realDonaldTrump/status/173...   \n",
       "3               1741160716  https://twitter.com/realDonaldTrump/status/174...   \n",
       "4               1773561338  https://twitter.com/realDonaldTrump/status/177...   \n",
       "...                    ...                                                ...   \n",
       "43341  1273032175718449155  https://twitter.com/realDonaldTrump/status/127...   \n",
       "43342  1273034110353707008  https://twitter.com/realDonaldTrump/status/127...   \n",
       "43343  1273038952275095558  https://twitter.com/realDonaldTrump/status/127...   \n",
       "43345  1273080720794279937  https://twitter.com/realDonaldTrump/status/127...   \n",
       "43347  1273405198698975232  https://twitter.com/realDonaldTrump/status/127...   \n",
       "\n",
       "                                                 content                 date  \\\n",
       "0      sure tune watch Donald Trump Late Night David ...  2009-05-04 13:54:25   \n",
       "1      Donald Trump appearing View tomorrow morning d...  2009-05-04 20:00:10   \n",
       "2      Donald Trump reads Top Ten Financial Tips Late...  2009-05-08 08:38:08   \n",
       "3      New Blog Post Celebrity Apprentice Finale Less...  2009-05-08 15:40:15   \n",
       "4      persona never wallflower Id rather build walls...  2009-05-12 09:07:28   \n",
       "...                                                  ...                  ...   \n",
       "43341  Chris Jacobs JacobsNY tremendous Congressman a...  2020-06-16 18:18:17   \n",
       "43342  Congressman LeeZeldin fighter New York serves ...  2020-06-16 18:25:58   \n",
       "43343  LyndaBennettNC Complete Total Endorsement grea...  2020-06-16 18:45:12   \n",
       "43345  GREAT woman son looking heaven proud wonderful...  2020-06-16 21:31:11   \n",
       "43347  Joe Biden TOTAL FAILURE Government bungled eve...  2020-06-17 19:00:32   \n",
       "\n",
       "       retweets  favorites         mentions    hashtags  \n",
       "0           510        917              NaN         NaN  \n",
       "1            34        267              NaN         NaN  \n",
       "2            13         19              NaN         NaN  \n",
       "3            11         26              NaN         NaN  \n",
       "4          1375       1945              NaN         NaN  \n",
       "...         ...        ...              ...         ...  \n",
       "43341      9802      35418      @JacobsNY27  #NY27https  \n",
       "43342     12070      45048       @LeeZeldin         NaN  \n",
       "43343     10263      37476  @LyndaBennettNC         NaN  \n",
       "43345     26468     112140              NaN         NaN  \n",
       "43347     23402     116377              NaN         NaN  \n",
       "\n",
       "[34479 rows x 8 columns]"
      ]
     },
     "execution_count": 16,
     "metadata": {},
     "output_type": "execute_result"
    }
   ],
   "source": [
    "df"
   ]
  },
  {
   "cell_type": "markdown",
   "metadata": {},
   "source": [
    "# Let's fit a topic model to the data "
   ]
  },
  {
   "cell_type": "code",
   "execution_count": 17,
   "metadata": {},
   "outputs": [
    {
     "data": {
      "text/plain": [
       "['sure tune watch Donald Trump Late Night David Letterman presents Top Ten List tonight',\n",
       " 'Donald Trump appearing View tomorrow morning discuss Celebrity Apprentice new book Think Like Champion',\n",
       " 'Donald Trump reads Top Ten Financial Tips Late Show David Letterman  funny',\n",
       " 'New Blog Post Celebrity Apprentice Finale Lessons Learned Along Way ',\n",
       " 'persona never wallflower Id rather build walls cling Donald J Trump',\n",
       " 'Miss USA Tara Conner fired Ive always believer second chances says Donald Trump',\n",
       " 'Listen interview Donald Trump discussing new book Think Like Champion ',\n",
       " 'Strive wholeness keep sense wonder intact Donald J Trump ',\n",
       " 'Enter Think Like Champion signed book keychain contest ',\n",
       " 'achiever achieves plateau beginning Donald J Trump ']"
      ]
     },
     "execution_count": 17,
     "metadata": {},
     "output_type": "execute_result"
    }
   ],
   "source": [
    "# Bertopic requires a list of strings as input.\n",
    "# \n",
    "# We'll call this list of strings 'documents'\n",
    "\n",
    "documents = df['content'].tolist()\n",
    "\n",
    "documents[0:10]"
   ]
  },
  {
   "cell_type": "code",
   "execution_count": 18,
   "metadata": {},
   "outputs": [
    {
     "name": "stderr",
     "output_type": "stream",
     "text": [
      "huggingface/tokenizers: The current process just got forked, after parallelism has already been used. Disabling parallelism to avoid deadlocks...\n",
      "To disable this warning, you can either:\n",
      "\t- Avoid using `tokenizers` before the fork if possible\n",
      "\t- Explicitly set the environment variable TOKENIZERS_PARALLELISM=(true | false)\n",
      "huggingface/tokenizers: The current process just got forked, after parallelism has already been used. Disabling parallelism to avoid deadlocks...\n",
      "To disable this warning, you can either:\n",
      "\t- Avoid using `tokenizers` before the fork if possible\n",
      "\t- Explicitly set the environment variable TOKENIZERS_PARALLELISM=(true | false)\n",
      "huggingface/tokenizers: The current process just got forked, after parallelism has already been used. Disabling parallelism to avoid deadlocks...\n",
      "To disable this warning, you can either:\n",
      "\t- Avoid using `tokenizers` before the fork if possible\n",
      "\t- Explicitly set the environment variable TOKENIZERS_PARALLELISM=(true | false)\n",
      "huggingface/tokenizers: The current process just got forked, after parallelism has already been used. Disabling parallelism to avoid deadlocks...\n",
      "To disable this warning, you can either:\n",
      "\t- Avoid using `tokenizers` before the fork if possible\n",
      "\t- Explicitly set the environment variable TOKENIZERS_PARALLELISM=(true | false)\n",
      "huggingface/tokenizers: The current process just got forked, after parallelism has already been used. Disabling parallelism to avoid deadlocks...\n",
      "To disable this warning, you can either:\n",
      "\t- Avoid using `tokenizers` before the fork if possible\n",
      "\t- Explicitly set the environment variable TOKENIZERS_PARALLELISM=(true | false)\n"
     ]
    }
   ],
   "source": [
    "# create a BERTopic model\n",
    "topic_model = BERTopic()\n",
    "\n",
    "# fit the model to the data\n",
    "topics, probs = topic_model.fit_transform(documents)"
   ]
  },
  {
   "cell_type": "code",
   "execution_count": 19,
   "metadata": {},
   "outputs": [
    {
     "data": {
      "text/html": [
       "<div>\n",
       "<style scoped>\n",
       "    .dataframe tbody tr th:only-of-type {\n",
       "        vertical-align: middle;\n",
       "    }\n",
       "\n",
       "    .dataframe tbody tr th {\n",
       "        vertical-align: top;\n",
       "    }\n",
       "\n",
       "    .dataframe thead th {\n",
       "        text-align: right;\n",
       "    }\n",
       "</style>\n",
       "<table border=\"1\" class=\"dataframe\">\n",
       "  <thead>\n",
       "    <tr style=\"text-align: right;\">\n",
       "      <th></th>\n",
       "      <th>Topic</th>\n",
       "      <th>Count</th>\n",
       "      <th>Name</th>\n",
       "      <th>Representation</th>\n",
       "      <th>Representative_Docs</th>\n",
       "    </tr>\n",
       "  </thead>\n",
       "  <tbody>\n",
       "    <tr>\n",
       "      <th>0</th>\n",
       "      <td>-1</td>\n",
       "      <td>14644</td>\n",
       "      <td>-1_realdonaldtrump_trump_great_thank</td>\n",
       "      <td>[realdonaldtrump, trump, great, thank, donald,...</td>\n",
       "      <td>[Many Republican voters showed yesterday Fake ...</td>\n",
       "    </tr>\n",
       "    <tr>\n",
       "      <th>1</th>\n",
       "      <td>0</td>\n",
       "      <td>851</td>\n",
       "      <td>0_run_please_needs_president</td>\n",
       "      <td>[run, please, needs, president, vote, country,...</td>\n",
       "      <td>[_xx_justme realDonaldTrump realDonaldTrump th...</td>\n",
       "    </tr>\n",
       "    <tr>\n",
       "      <th>2</th>\n",
       "      <td>1</td>\n",
       "      <td>773</td>\n",
       "      <td>1_china_trade_tariffs_chinese</td>\n",
       "      <td>[china, trade, tariffs, chinese, chinas, farme...</td>\n",
       "      <td>[Farmers well years Mexico Canada China others...</td>\n",
       "    </tr>\n",
       "    <tr>\n",
       "      <th>3</th>\n",
       "      <td>2</td>\n",
       "      <td>363</td>\n",
       "      <td>2_foxandfriends_foxnews_fox_megynkelly</td>\n",
       "      <td>[foxandfriends, foxnews, fox, megynkelly, bell...</td>\n",
       "      <td>[belllabooo foxandfriends Always watch Mr Trum...</td>\n",
       "    </tr>\n",
       "    <tr>\n",
       "      <th>4</th>\n",
       "      <td>3</td>\n",
       "      <td>290</td>\n",
       "      <td>3_poll_polls_lead_carson</td>\n",
       "      <td>[poll, polls, lead, carson, debate, numbers, i...</td>\n",
       "      <td>[Great poll numbers coming New Hampshire BIG l...</td>\n",
       "    </tr>\n",
       "    <tr>\n",
       "      <th>...</th>\n",
       "      <td>...</td>\n",
       "      <td>...</td>\n",
       "      <td>...</td>\n",
       "      <td>...</td>\n",
       "      <td>...</td>\n",
       "    </tr>\n",
       "    <tr>\n",
       "      <th>411</th>\n",
       "      <td>410</td>\n",
       "      <td>10</td>\n",
       "      <td>410_mikeandmike_frankcaliendo_funny_segment</td>\n",
       "      <td>[mikeandmike, frankcaliendo, funny, segment, k...</td>\n",
       "      <td>[jimhewitt FrankCaliendo realDonaldTrump MikeA...</td>\n",
       "    </tr>\n",
       "    <tr>\n",
       "      <th>412</th>\n",
       "      <td>411</td>\n",
       "      <td>10</td>\n",
       "      <td>411_california_cox_gavinnewsom_governor</td>\n",
       "      <td>[california, cox, gavinnewsom, governor, hoopl...</td>\n",
       "      <td>[California rare opportunity turn things aroun...</td>\n",
       "    </tr>\n",
       "    <tr>\n",
       "      <th>413</th>\n",
       "      <td>412</td>\n",
       "      <td>10</td>\n",
       "      <td>412_hillaryclinton_debates_debate_nightcrooked</td>\n",
       "      <td>[hillaryclinton, debates, debate, nightcrooked...</td>\n",
       "      <td>[really enjoyed debate last nightCrooked Hilla...</td>\n",
       "    </tr>\n",
       "    <tr>\n",
       "      <th>414</th>\n",
       "      <td>413</td>\n",
       "      <td>10</td>\n",
       "      <td>413_witnesses_trial_witness_freak</td>\n",
       "      <td>[witnesses, trial, witness, freak, substanceco...</td>\n",
       "      <td>[Democrats gave Due Process House lawyers witn...</td>\n",
       "    </tr>\n",
       "    <tr>\n",
       "      <th>415</th>\n",
       "      <td>414</td>\n",
       "      <td>10</td>\n",
       "      <td>414_protesters_ows_protests_protesting</td>\n",
       "      <td>[protesters, ows, protests, protesting, neilmi...</td>\n",
       "      <td>[OWS protesters sincere people frustrated syst...</td>\n",
       "    </tr>\n",
       "  </tbody>\n",
       "</table>\n",
       "<p>416 rows × 5 columns</p>\n",
       "</div>"
      ],
      "text/plain": [
       "     Topic  Count                                            Name  \\\n",
       "0       -1  14644            -1_realdonaldtrump_trump_great_thank   \n",
       "1        0    851                    0_run_please_needs_president   \n",
       "2        1    773                   1_china_trade_tariffs_chinese   \n",
       "3        2    363          2_foxandfriends_foxnews_fox_megynkelly   \n",
       "4        3    290                        3_poll_polls_lead_carson   \n",
       "..     ...    ...                                             ...   \n",
       "411    410     10     410_mikeandmike_frankcaliendo_funny_segment   \n",
       "412    411     10         411_california_cox_gavinnewsom_governor   \n",
       "413    412     10  412_hillaryclinton_debates_debate_nightcrooked   \n",
       "414    413     10               413_witnesses_trial_witness_freak   \n",
       "415    414     10          414_protesters_ows_protests_protesting   \n",
       "\n",
       "                                        Representation  \\\n",
       "0    [realdonaldtrump, trump, great, thank, donald,...   \n",
       "1    [run, please, needs, president, vote, country,...   \n",
       "2    [china, trade, tariffs, chinese, chinas, farme...   \n",
       "3    [foxandfriends, foxnews, fox, megynkelly, bell...   \n",
       "4    [poll, polls, lead, carson, debate, numbers, i...   \n",
       "..                                                 ...   \n",
       "411  [mikeandmike, frankcaliendo, funny, segment, k...   \n",
       "412  [california, cox, gavinnewsom, governor, hoopl...   \n",
       "413  [hillaryclinton, debates, debate, nightcrooked...   \n",
       "414  [witnesses, trial, witness, freak, substanceco...   \n",
       "415  [protesters, ows, protests, protesting, neilmi...   \n",
       "\n",
       "                                   Representative_Docs  \n",
       "0    [Many Republican voters showed yesterday Fake ...  \n",
       "1    [_xx_justme realDonaldTrump realDonaldTrump th...  \n",
       "2    [Farmers well years Mexico Canada China others...  \n",
       "3    [belllabooo foxandfriends Always watch Mr Trum...  \n",
       "4    [Great poll numbers coming New Hampshire BIG l...  \n",
       "..                                                 ...  \n",
       "411  [jimhewitt FrankCaliendo realDonaldTrump MikeA...  \n",
       "412  [California rare opportunity turn things aroun...  \n",
       "413  [really enjoyed debate last nightCrooked Hilla...  \n",
       "414  [Democrats gave Due Process House lawyers witn...  \n",
       "415  [OWS protesters sincere people frustrated syst...  \n",
       "\n",
       "[416 rows x 5 columns]"
      ]
     },
     "execution_count": 19,
     "metadata": {},
     "output_type": "execute_result"
    }
   ],
   "source": [
    "# After generating topics, we can access the frequent topics that were generated\n",
    "\n",
    "topic_model.get_topic_info()"
   ]
  },
  {
   "cell_type": "code",
   "execution_count": 20,
   "metadata": {},
   "outputs": [],
   "source": [
    "\n",
    "# create a BERTopic model\n",
    "topic_model = BERTopic(nr_topics=20)\n",
    "\n",
    "# fit the model to the data\n",
    "topics, probs = topic_model.fit_transform(documents)"
   ]
  },
  {
   "cell_type": "code",
   "execution_count": 21,
   "metadata": {},
   "outputs": [
    {
     "data": {
      "text/html": [
       "<div>\n",
       "<style scoped>\n",
       "    .dataframe tbody tr th:only-of-type {\n",
       "        vertical-align: middle;\n",
       "    }\n",
       "\n",
       "    .dataframe tbody tr th {\n",
       "        vertical-align: top;\n",
       "    }\n",
       "\n",
       "    .dataframe thead th {\n",
       "        text-align: right;\n",
       "    }\n",
       "</style>\n",
       "<table border=\"1\" class=\"dataframe\">\n",
       "  <thead>\n",
       "    <tr style=\"text-align: right;\">\n",
       "      <th></th>\n",
       "      <th>Topic</th>\n",
       "      <th>Count</th>\n",
       "      <th>Name</th>\n",
       "      <th>Representation</th>\n",
       "      <th>Representative_Docs</th>\n",
       "    </tr>\n",
       "  </thead>\n",
       "  <tbody>\n",
       "    <tr>\n",
       "      <th>0</th>\n",
       "      <td>-1</td>\n",
       "      <td>14060</td>\n",
       "      <td>-1_realdonaldtrump_trump_great_president</td>\n",
       "      <td>[realdonaldtrump, trump, great, president, peo...</td>\n",
       "      <td>[Many Republican voters showed yesterday Fake ...</td>\n",
       "    </tr>\n",
       "    <tr>\n",
       "      <th>1</th>\n",
       "      <td>0</td>\n",
       "      <td>11336</td>\n",
       "      <td>0_realdonaldtrump_trump_great_president</td>\n",
       "      <td>[realdonaldtrump, trump, great, president, wou...</td>\n",
       "      <td>[nice call new President Ukraine could better ...</td>\n",
       "    </tr>\n",
       "    <tr>\n",
       "      <th>2</th>\n",
       "      <td>1</td>\n",
       "      <td>1582</td>\n",
       "      <td>1_golf_trump_course_macys</td>\n",
       "      <td>[golf, trump, course, macys, hotel, doral, sco...</td>\n",
       "      <td>[Congratulations Aberdeen Scotland great golf ...</td>\n",
       "    </tr>\n",
       "    <tr>\n",
       "      <th>3</th>\n",
       "      <td>2</td>\n",
       "      <td>1379</td>\n",
       "      <td>2_border_wall_mexico_ebola</td>\n",
       "      <td>[border, wall, mexico, ebola, people, immigrat...</td>\n",
       "      <td>[day one said going build great wall SOUTHERN ...</td>\n",
       "    </tr>\n",
       "    <tr>\n",
       "      <th>4</th>\n",
       "      <td>3</td>\n",
       "      <td>1345</td>\n",
       "      <td>3_korea_north_great_honor</td>\n",
       "      <td>[korea, north, great, honor, today, thank, joi...</td>\n",
       "      <td>[Mike Pompeo met Kim Jong Un North Korea last ...</td>\n",
       "    </tr>\n",
       "    <tr>\n",
       "      <th>5</th>\n",
       "      <td>4</td>\n",
       "      <td>1257</td>\n",
       "      <td>4_china_us_trade_jobs</td>\n",
       "      <td>[china, us, trade, jobs, tariffs, market, amer...</td>\n",
       "      <td>[many years China many countries taking advant...</td>\n",
       "    </tr>\n",
       "    <tr>\n",
       "      <th>6</th>\n",
       "      <td>5</td>\n",
       "      <td>868</td>\n",
       "      <td>5_iran_syria_isis_obama</td>\n",
       "      <td>[iran, syria, isis, obama, iraq, us, israel, d...</td>\n",
       "      <td>[saying MANY years phony negotiate US nuclear ...</td>\n",
       "    </tr>\n",
       "    <tr>\n",
       "      <th>7</th>\n",
       "      <td>6</td>\n",
       "      <td>780</td>\n",
       "      <td>6_entrepreneurs_think_keep_focus</td>\n",
       "      <td>[entrepreneurs, think, keep, focus, big, succe...</td>\n",
       "      <td>[Entrepreneurs Look solution problem Learn foc...</td>\n",
       "    </tr>\n",
       "    <tr>\n",
       "      <th>8</th>\n",
       "      <td>7</td>\n",
       "      <td>654</td>\n",
       "      <td>7_yankees_nfl_wwe_nflcommish</td>\n",
       "      <td>[yankees, nfl, wwe, nflcommish, arod, great, h...</td>\n",
       "      <td>[Via WWE Donald Trump announced WWE Hall Fame,...</td>\n",
       "    </tr>\n",
       "    <tr>\n",
       "      <th>9</th>\n",
       "      <td>8</td>\n",
       "      <td>389</td>\n",
       "      <td>8_fed_reserve_interest_rates</td>\n",
       "      <td>[fed, reserve, interest, rates, debt, federal,...</td>\n",
       "      <td>[Manufacturers held back strong Dollar propped...</td>\n",
       "    </tr>\n",
       "    <tr>\n",
       "      <th>10</th>\n",
       "      <td>9</td>\n",
       "      <td>345</td>\n",
       "      <td>9_wind_turbines_warming_global</td>\n",
       "      <td>[wind, turbines, warming, global, alexsalmond,...</td>\n",
       "      <td>[Prime Minister David_Cameron foolish giving A...</td>\n",
       "    </tr>\n",
       "    <tr>\n",
       "      <th>11</th>\n",
       "      <td>10</td>\n",
       "      <td>117</td>\n",
       "      <td>10_winston_churchill_military_vietnam</td>\n",
       "      <td>[winston, churchill, military, vietnam, blumen...</td>\n",
       "      <td>[Success final failure fatal courage continue ...</td>\n",
       "    </tr>\n",
       "    <tr>\n",
       "      <th>12</th>\n",
       "      <td>11</td>\n",
       "      <td>76</td>\n",
       "      <td>11_vanityfair_graydon_carter_magazine</td>\n",
       "      <td>[vanityfair, graydon, carter, magazine, lance,...</td>\n",
       "      <td>[Conde Nast allow dopey Graydon Carter run bad...</td>\n",
       "    </tr>\n",
       "    <tr>\n",
       "      <th>13</th>\n",
       "      <td>12</td>\n",
       "      <td>64</td>\n",
       "      <td>12_venezuela_drug_prescription_cuba</td>\n",
       "      <td>[venezuela, drug, prescription, cuba, opioid, ...</td>\n",
       "      <td>[monitoring situation Venezuela closely United...</td>\n",
       "    </tr>\n",
       "    <tr>\n",
       "      <th>14</th>\n",
       "      <td>13</td>\n",
       "      <td>59</td>\n",
       "      <td>13_mittromney_ricksantorum_cont_wisconsin</td>\n",
       "      <td>[mittromney, ricksantorum, cont, wisconsin, be...</td>\n",
       "      <td>[honored recorded robo call behalf MittRomney ...</td>\n",
       "    </tr>\n",
       "    <tr>\n",
       "      <th>15</th>\n",
       "      <td>14</td>\n",
       "      <td>55</td>\n",
       "      <td>14_autism_autismspeaks_vaccines_massive</td>\n",
       "      <td>[autism, autismspeaks, vaccines, massive, vacc...</td>\n",
       "      <td>[Lots autism vaccine response Stop massive dos...</td>\n",
       "    </tr>\n",
       "    <tr>\n",
       "      <th>16</th>\n",
       "      <td>15</td>\n",
       "      <td>38</td>\n",
       "      <td>15_tmobile_screen_iphone_apple</td>\n",
       "      <td>[tmobile, screen, iphone, apple, johnlegere, l...</td>\n",
       "      <td>[cant believe Apple isnt moving faster create ...</td>\n",
       "    </tr>\n",
       "    <tr>\n",
       "      <th>17</th>\n",
       "      <td>16</td>\n",
       "      <td>32</td>\n",
       "      <td>16_lordsugar_sugar_dopey_worth</td>\n",
       "      <td>[lordsugar, sugar, dopey, worth, show, piersmo...</td>\n",
       "      <td>[Dopey Sugar Lord_Sugar net worth doesnt even ...</td>\n",
       "    </tr>\n",
       "    <tr>\n",
       "      <th>18</th>\n",
       "      <td>17</td>\n",
       "      <td>30</td>\n",
       "      <td>17_lamestream_media_rallies_corrupt</td>\n",
       "      <td>[lamestream, media, rallies, corrupt, enemy, p...</td>\n",
       "      <td>[knew Fake went anyway Lamestream Media CORRUP...</td>\n",
       "    </tr>\n",
       "    <tr>\n",
       "      <th>19</th>\n",
       "      <td>18</td>\n",
       "      <td>13</td>\n",
       "      <td>18_oann_foxnews__</td>\n",
       "      <td>[oann, foxnews, , , , , , , , ]</td>\n",
       "      <td>[مشاور امنیت ملی امروز عنوان کرد كه تحریم ها و...</td>\n",
       "    </tr>\n",
       "  </tbody>\n",
       "</table>\n",
       "</div>"
      ],
      "text/plain": [
       "    Topic  Count                                       Name  \\\n",
       "0      -1  14060   -1_realdonaldtrump_trump_great_president   \n",
       "1       0  11336    0_realdonaldtrump_trump_great_president   \n",
       "2       1   1582                  1_golf_trump_course_macys   \n",
       "3       2   1379                 2_border_wall_mexico_ebola   \n",
       "4       3   1345                  3_korea_north_great_honor   \n",
       "5       4   1257                      4_china_us_trade_jobs   \n",
       "6       5    868                    5_iran_syria_isis_obama   \n",
       "7       6    780           6_entrepreneurs_think_keep_focus   \n",
       "8       7    654               7_yankees_nfl_wwe_nflcommish   \n",
       "9       8    389               8_fed_reserve_interest_rates   \n",
       "10      9    345             9_wind_turbines_warming_global   \n",
       "11     10    117      10_winston_churchill_military_vietnam   \n",
       "12     11     76      11_vanityfair_graydon_carter_magazine   \n",
       "13     12     64        12_venezuela_drug_prescription_cuba   \n",
       "14     13     59  13_mittromney_ricksantorum_cont_wisconsin   \n",
       "15     14     55    14_autism_autismspeaks_vaccines_massive   \n",
       "16     15     38             15_tmobile_screen_iphone_apple   \n",
       "17     16     32             16_lordsugar_sugar_dopey_worth   \n",
       "18     17     30        17_lamestream_media_rallies_corrupt   \n",
       "19     18     13                          18_oann_foxnews__   \n",
       "\n",
       "                                       Representation  \\\n",
       "0   [realdonaldtrump, trump, great, president, peo...   \n",
       "1   [realdonaldtrump, trump, great, president, wou...   \n",
       "2   [golf, trump, course, macys, hotel, doral, sco...   \n",
       "3   [border, wall, mexico, ebola, people, immigrat...   \n",
       "4   [korea, north, great, honor, today, thank, joi...   \n",
       "5   [china, us, trade, jobs, tariffs, market, amer...   \n",
       "6   [iran, syria, isis, obama, iraq, us, israel, d...   \n",
       "7   [entrepreneurs, think, keep, focus, big, succe...   \n",
       "8   [yankees, nfl, wwe, nflcommish, arod, great, h...   \n",
       "9   [fed, reserve, interest, rates, debt, federal,...   \n",
       "10  [wind, turbines, warming, global, alexsalmond,...   \n",
       "11  [winston, churchill, military, vietnam, blumen...   \n",
       "12  [vanityfair, graydon, carter, magazine, lance,...   \n",
       "13  [venezuela, drug, prescription, cuba, opioid, ...   \n",
       "14  [mittromney, ricksantorum, cont, wisconsin, be...   \n",
       "15  [autism, autismspeaks, vaccines, massive, vacc...   \n",
       "16  [tmobile, screen, iphone, apple, johnlegere, l...   \n",
       "17  [lordsugar, sugar, dopey, worth, show, piersmo...   \n",
       "18  [lamestream, media, rallies, corrupt, enemy, p...   \n",
       "19                    [oann, foxnews, , , , , , , , ]   \n",
       "\n",
       "                                  Representative_Docs  \n",
       "0   [Many Republican voters showed yesterday Fake ...  \n",
       "1   [nice call new President Ukraine could better ...  \n",
       "2   [Congratulations Aberdeen Scotland great golf ...  \n",
       "3   [day one said going build great wall SOUTHERN ...  \n",
       "4   [Mike Pompeo met Kim Jong Un North Korea last ...  \n",
       "5   [many years China many countries taking advant...  \n",
       "6   [saying MANY years phony negotiate US nuclear ...  \n",
       "7   [Entrepreneurs Look solution problem Learn foc...  \n",
       "8   [Via WWE Donald Trump announced WWE Hall Fame,...  \n",
       "9   [Manufacturers held back strong Dollar propped...  \n",
       "10  [Prime Minister David_Cameron foolish giving A...  \n",
       "11  [Success final failure fatal courage continue ...  \n",
       "12  [Conde Nast allow dopey Graydon Carter run bad...  \n",
       "13  [monitoring situation Venezuela closely United...  \n",
       "14  [honored recorded robo call behalf MittRomney ...  \n",
       "15  [Lots autism vaccine response Stop massive dos...  \n",
       "16  [cant believe Apple isnt moving faster create ...  \n",
       "17  [Dopey Sugar Lord_Sugar net worth doesnt even ...  \n",
       "18  [knew Fake went anyway Lamestream Media CORRUP...  \n",
       "19  [مشاور امنیت ملی امروز عنوان کرد كه تحریم ها و...  "
      ]
     },
     "execution_count": 21,
     "metadata": {},
     "output_type": "execute_result"
    }
   ],
   "source": [
    "topic_model.get_topic_info()"
   ]
  },
  {
   "cell_type": "code",
   "execution_count": 22,
   "metadata": {},
   "outputs": [
    {
     "data": {
      "text/plain": [
       "[('lordsugar', np.float64(0.46276912626249206)),\n",
       " ('sugar', np.float64(0.367455351839872)),\n",
       " ('dopey', np.float64(0.2528823234273416)),\n",
       " ('worth', np.float64(0.0789051788812751)),\n",
       " ('show', np.float64(0.07871981577814773)),\n",
       " ('piersmorgan', np.float64(0.06849305708454584)),\n",
       " ('money', np.float64(0.05232575802064914)),\n",
       " ('ipod', np.float64(0.05198320022138063)),\n",
       " ('cant', np.float64(0.04859078800648244)),\n",
       " ('making', np.float64(0.04791353744278502))]"
      ]
     },
     "execution_count": 22,
     "metadata": {},
     "output_type": "execute_result"
    }
   ],
   "source": [
    "topic_model.get_topic(16)"
   ]
  },
  {
   "cell_type": "code",
   "execution_count": 23,
   "metadata": {},
   "outputs": [
    {
     "data": {
      "text/html": [
       "<div>\n",
       "<style scoped>\n",
       "    .dataframe tbody tr th:only-of-type {\n",
       "        vertical-align: middle;\n",
       "    }\n",
       "\n",
       "    .dataframe tbody tr th {\n",
       "        vertical-align: top;\n",
       "    }\n",
       "\n",
       "    .dataframe thead th {\n",
       "        text-align: right;\n",
       "    }\n",
       "</style>\n",
       "<table border=\"1\" class=\"dataframe\">\n",
       "  <thead>\n",
       "    <tr style=\"text-align: right;\">\n",
       "      <th></th>\n",
       "      <th>Document</th>\n",
       "      <th>Topic</th>\n",
       "      <th>Name</th>\n",
       "      <th>Representation</th>\n",
       "      <th>Representative_Docs</th>\n",
       "      <th>Top_n_words</th>\n",
       "      <th>Probability</th>\n",
       "      <th>Representative_document</th>\n",
       "    </tr>\n",
       "  </thead>\n",
       "  <tbody>\n",
       "    <tr>\n",
       "      <th>0</th>\n",
       "      <td>sure tune watch Donald Trump Late Night David ...</td>\n",
       "      <td>0</td>\n",
       "      <td>0_realdonaldtrump_trump_great_president</td>\n",
       "      <td>[realdonaldtrump, trump, great, president, wou...</td>\n",
       "      <td>[nice call new President Ukraine could better ...</td>\n",
       "      <td>realdonaldtrump - trump - great - president - ...</td>\n",
       "      <td>0.252498</td>\n",
       "      <td>False</td>\n",
       "    </tr>\n",
       "    <tr>\n",
       "      <th>1</th>\n",
       "      <td>Donald Trump appearing View tomorrow morning d...</td>\n",
       "      <td>0</td>\n",
       "      <td>0_realdonaldtrump_trump_great_president</td>\n",
       "      <td>[realdonaldtrump, trump, great, president, wou...</td>\n",
       "      <td>[nice call new President Ukraine could better ...</td>\n",
       "      <td>realdonaldtrump - trump - great - president - ...</td>\n",
       "      <td>0.469464</td>\n",
       "      <td>False</td>\n",
       "    </tr>\n",
       "    <tr>\n",
       "      <th>2</th>\n",
       "      <td>Donald Trump reads Top Ten Financial Tips Late...</td>\n",
       "      <td>0</td>\n",
       "      <td>0_realdonaldtrump_trump_great_president</td>\n",
       "      <td>[realdonaldtrump, trump, great, president, wou...</td>\n",
       "      <td>[nice call new President Ukraine could better ...</td>\n",
       "      <td>realdonaldtrump - trump - great - president - ...</td>\n",
       "      <td>0.297291</td>\n",
       "      <td>False</td>\n",
       "    </tr>\n",
       "    <tr>\n",
       "      <th>3</th>\n",
       "      <td>New Blog Post Celebrity Apprentice Finale Less...</td>\n",
       "      <td>0</td>\n",
       "      <td>0_realdonaldtrump_trump_great_president</td>\n",
       "      <td>[realdonaldtrump, trump, great, president, wou...</td>\n",
       "      <td>[nice call new President Ukraine could better ...</td>\n",
       "      <td>realdonaldtrump - trump - great - president - ...</td>\n",
       "      <td>0.514401</td>\n",
       "      <td>False</td>\n",
       "    </tr>\n",
       "    <tr>\n",
       "      <th>4</th>\n",
       "      <td>persona never wallflower Id rather build walls...</td>\n",
       "      <td>-1</td>\n",
       "      <td>-1_realdonaldtrump_trump_great_president</td>\n",
       "      <td>[realdonaldtrump, trump, great, president, peo...</td>\n",
       "      <td>[Many Republican voters showed yesterday Fake ...</td>\n",
       "      <td>realdonaldtrump - trump - great - president - ...</td>\n",
       "      <td>0.000000</td>\n",
       "      <td>False</td>\n",
       "    </tr>\n",
       "    <tr>\n",
       "      <th>...</th>\n",
       "      <td>...</td>\n",
       "      <td>...</td>\n",
       "      <td>...</td>\n",
       "      <td>...</td>\n",
       "      <td>...</td>\n",
       "      <td>...</td>\n",
       "      <td>...</td>\n",
       "      <td>...</td>\n",
       "    </tr>\n",
       "    <tr>\n",
       "      <th>34474</th>\n",
       "      <td>Chris Jacobs JacobsNY tremendous Congressman a...</td>\n",
       "      <td>0</td>\n",
       "      <td>0_realdonaldtrump_trump_great_president</td>\n",
       "      <td>[realdonaldtrump, trump, great, president, wou...</td>\n",
       "      <td>[nice call new President Ukraine could better ...</td>\n",
       "      <td>realdonaldtrump - trump - great - president - ...</td>\n",
       "      <td>0.761172</td>\n",
       "      <td>False</td>\n",
       "    </tr>\n",
       "    <tr>\n",
       "      <th>34475</th>\n",
       "      <td>Congressman LeeZeldin fighter New York serves ...</td>\n",
       "      <td>0</td>\n",
       "      <td>0_realdonaldtrump_trump_great_president</td>\n",
       "      <td>[realdonaldtrump, trump, great, president, wou...</td>\n",
       "      <td>[nice call new President Ukraine could better ...</td>\n",
       "      <td>realdonaldtrump - trump - great - president - ...</td>\n",
       "      <td>0.456632</td>\n",
       "      <td>False</td>\n",
       "    </tr>\n",
       "    <tr>\n",
       "      <th>34476</th>\n",
       "      <td>LyndaBennettNC Complete Total Endorsement grea...</td>\n",
       "      <td>0</td>\n",
       "      <td>0_realdonaldtrump_trump_great_president</td>\n",
       "      <td>[realdonaldtrump, trump, great, president, wou...</td>\n",
       "      <td>[nice call new President Ukraine could better ...</td>\n",
       "      <td>realdonaldtrump - trump - great - president - ...</td>\n",
       "      <td>0.436460</td>\n",
       "      <td>False</td>\n",
       "    </tr>\n",
       "    <tr>\n",
       "      <th>34477</th>\n",
       "      <td>GREAT woman son looking heaven proud wonderful...</td>\n",
       "      <td>0</td>\n",
       "      <td>0_realdonaldtrump_trump_great_president</td>\n",
       "      <td>[realdonaldtrump, trump, great, president, wou...</td>\n",
       "      <td>[nice call new President Ukraine could better ...</td>\n",
       "      <td>realdonaldtrump - trump - great - president - ...</td>\n",
       "      <td>1.000000</td>\n",
       "      <td>False</td>\n",
       "    </tr>\n",
       "    <tr>\n",
       "      <th>34478</th>\n",
       "      <td>Joe Biden TOTAL FAILURE Government bungled eve...</td>\n",
       "      <td>0</td>\n",
       "      <td>0_realdonaldtrump_trump_great_president</td>\n",
       "      <td>[realdonaldtrump, trump, great, president, wou...</td>\n",
       "      <td>[nice call new President Ukraine could better ...</td>\n",
       "      <td>realdonaldtrump - trump - great - president - ...</td>\n",
       "      <td>1.000000</td>\n",
       "      <td>False</td>\n",
       "    </tr>\n",
       "  </tbody>\n",
       "</table>\n",
       "<p>34479 rows × 8 columns</p>\n",
       "</div>"
      ],
      "text/plain": [
       "                                                Document  Topic  \\\n",
       "0      sure tune watch Donald Trump Late Night David ...      0   \n",
       "1      Donald Trump appearing View tomorrow morning d...      0   \n",
       "2      Donald Trump reads Top Ten Financial Tips Late...      0   \n",
       "3      New Blog Post Celebrity Apprentice Finale Less...      0   \n",
       "4      persona never wallflower Id rather build walls...     -1   \n",
       "...                                                  ...    ...   \n",
       "34474  Chris Jacobs JacobsNY tremendous Congressman a...      0   \n",
       "34475  Congressman LeeZeldin fighter New York serves ...      0   \n",
       "34476  LyndaBennettNC Complete Total Endorsement grea...      0   \n",
       "34477  GREAT woman son looking heaven proud wonderful...      0   \n",
       "34478  Joe Biden TOTAL FAILURE Government bungled eve...      0   \n",
       "\n",
       "                                           Name  \\\n",
       "0       0_realdonaldtrump_trump_great_president   \n",
       "1       0_realdonaldtrump_trump_great_president   \n",
       "2       0_realdonaldtrump_trump_great_president   \n",
       "3       0_realdonaldtrump_trump_great_president   \n",
       "4      -1_realdonaldtrump_trump_great_president   \n",
       "...                                         ...   \n",
       "34474   0_realdonaldtrump_trump_great_president   \n",
       "34475   0_realdonaldtrump_trump_great_president   \n",
       "34476   0_realdonaldtrump_trump_great_president   \n",
       "34477   0_realdonaldtrump_trump_great_president   \n",
       "34478   0_realdonaldtrump_trump_great_president   \n",
       "\n",
       "                                          Representation  \\\n",
       "0      [realdonaldtrump, trump, great, president, wou...   \n",
       "1      [realdonaldtrump, trump, great, president, wou...   \n",
       "2      [realdonaldtrump, trump, great, president, wou...   \n",
       "3      [realdonaldtrump, trump, great, president, wou...   \n",
       "4      [realdonaldtrump, trump, great, president, peo...   \n",
       "...                                                  ...   \n",
       "34474  [realdonaldtrump, trump, great, president, wou...   \n",
       "34475  [realdonaldtrump, trump, great, president, wou...   \n",
       "34476  [realdonaldtrump, trump, great, president, wou...   \n",
       "34477  [realdonaldtrump, trump, great, president, wou...   \n",
       "34478  [realdonaldtrump, trump, great, president, wou...   \n",
       "\n",
       "                                     Representative_Docs  \\\n",
       "0      [nice call new President Ukraine could better ...   \n",
       "1      [nice call new President Ukraine could better ...   \n",
       "2      [nice call new President Ukraine could better ...   \n",
       "3      [nice call new President Ukraine could better ...   \n",
       "4      [Many Republican voters showed yesterday Fake ...   \n",
       "...                                                  ...   \n",
       "34474  [nice call new President Ukraine could better ...   \n",
       "34475  [nice call new President Ukraine could better ...   \n",
       "34476  [nice call new President Ukraine could better ...   \n",
       "34477  [nice call new President Ukraine could better ...   \n",
       "34478  [nice call new President Ukraine could better ...   \n",
       "\n",
       "                                             Top_n_words  Probability  \\\n",
       "0      realdonaldtrump - trump - great - president - ...     0.252498   \n",
       "1      realdonaldtrump - trump - great - president - ...     0.469464   \n",
       "2      realdonaldtrump - trump - great - president - ...     0.297291   \n",
       "3      realdonaldtrump - trump - great - president - ...     0.514401   \n",
       "4      realdonaldtrump - trump - great - president - ...     0.000000   \n",
       "...                                                  ...          ...   \n",
       "34474  realdonaldtrump - trump - great - president - ...     0.761172   \n",
       "34475  realdonaldtrump - trump - great - president - ...     0.456632   \n",
       "34476  realdonaldtrump - trump - great - president - ...     0.436460   \n",
       "34477  realdonaldtrump - trump - great - president - ...     1.000000   \n",
       "34478  realdonaldtrump - trump - great - president - ...     1.000000   \n",
       "\n",
       "       Representative_document  \n",
       "0                        False  \n",
       "1                        False  \n",
       "2                        False  \n",
       "3                        False  \n",
       "4                        False  \n",
       "...                        ...  \n",
       "34474                    False  \n",
       "34475                    False  \n",
       "34476                    False  \n",
       "34477                    False  \n",
       "34478                    False  \n",
       "\n",
       "[34479 rows x 8 columns]"
      ]
     },
     "execution_count": 23,
     "metadata": {},
     "output_type": "execute_result"
    }
   ],
   "source": [
    "# -1 refers to all outliers and should typically be ignored.\n",
    "\n",
    "# Using .get_document_info, we can also extract information on a document level, \n",
    "# such as their corresponding topics, probabilities, whether they are representative documents for a topic, etc.:\n",
    "\n",
    "topic_model.get_document_info(documents)"
   ]
  },
  {
   "cell_type": "code",
   "execution_count": 24,
   "metadata": {},
   "outputs": [
    {
     "data": {
      "application/vnd.plotly.v1+json": {
       "config": {
        "plotlyServerURL": "https://plot.ly"
       },
       "data": [
        {
         "marker": {
          "color": "#D55E00"
         },
         "orientation": "h",
         "type": "bar",
         "x": [
          0.012692182820663714,
          0.016293041990882735,
          0.018432098391146942,
          0.020744383644333366,
          0.029124405439252425
         ],
         "xaxis": "x",
         "y": [
          "would  ",
          "president  ",
          "great  ",
          "trump  ",
          "realdonaldtrump  "
         ],
         "yaxis": "y"
        },
        {
         "marker": {
          "color": "#0072B2"
         },
         "orientation": "h",
         "type": "bar",
         "x": [
          0.04072254367146598,
          0.0437123078956179,
          0.0558315016844022,
          0.058211220575966366,
          0.08390854275518335
         ],
         "xaxis": "x2",
         "y": [
          "hotel  ",
          "macys  ",
          "course  ",
          "trump  ",
          "golf  "
         ],
         "yaxis": "y2"
        },
        {
         "marker": {
          "color": "#CC79A7"
         },
         "orientation": "h",
         "type": "bar",
         "x": [
          0.022883439136353836,
          0.023421568057361068,
          0.02745752226440092,
          0.03597491601841638,
          0.04669539468851657
         ],
         "xaxis": "x3",
         "y": [
          "people  ",
          "ebola  ",
          "mexico  ",
          "wall  ",
          "border  "
         ],
         "yaxis": "y3"
        },
        {
         "marker": {
          "color": "#E69F00"
         },
         "orientation": "h",
         "type": "bar",
         "x": [
          0.033694016247003244,
          0.037352666626021776,
          0.03829760622806669,
          0.038487158111867585,
          0.04847175310765098
         ],
         "xaxis": "x4",
         "y": [
          "today  ",
          "honor  ",
          "great  ",
          "north  ",
          "korea  "
         ],
         "yaxis": "y4"
        },
        {
         "marker": {
          "color": "#56B4E9"
         },
         "orientation": "h",
         "type": "bar",
         "x": [
          0.0322770596765154,
          0.0371285895456222,
          0.03783829063265662,
          0.045846043722326396,
          0.06428813375306582
         ],
         "xaxis": "x5",
         "y": [
          "tariffs  ",
          "jobs  ",
          "trade  ",
          "us  ",
          "china  "
         ],
         "yaxis": "y5"
        },
        {
         "marker": {
          "color": "#009E73"
         },
         "orientation": "h",
         "type": "bar",
         "x": [
          0.036269961759099974,
          0.03667582702606985,
          0.0439637909210237,
          0.047976441151620496,
          0.08995014300992162
         ],
         "xaxis": "x6",
         "y": [
          "iraq  ",
          "obama  ",
          "isis  ",
          "syria  ",
          "iran  "
         ],
         "yaxis": "y6"
        },
        {
         "marker": {
          "color": "#F0E442"
         },
         "orientation": "h",
         "type": "bar",
         "x": [
          0.04035019169519331,
          0.04138333957337889,
          0.0435784039659501,
          0.07136858769849079,
          0.09140720895543411
         ],
         "xaxis": "x7",
         "y": [
          "big  ",
          "focus  ",
          "keep  ",
          "think  ",
          "entrepreneurs  "
         ],
         "yaxis": "y7"
        },
        {
         "marker": {
          "color": "#D55E00"
         },
         "orientation": "h",
         "type": "bar",
         "x": [
          0.0370313741896324,
          0.03969764025653125,
          0.04091793126438801,
          0.04843043994530894,
          0.06121230971328858
         ],
         "xaxis": "x8",
         "y": [
          "arod  ",
          "nflcommish  ",
          "wwe  ",
          "nfl  ",
          "yankees  "
         ],
         "yaxis": "y8"
        },
        {
         "marker": {
          "color": "#0072B2"
         },
         "orientation": "h",
         "type": "bar",
         "x": [
          0.03766210366063474,
          0.04077773530493288,
          0.04519704191145763,
          0.04811026144437271,
          0.05885826847587933
         ],
         "xaxis": "x9",
         "y": [
          "debt  ",
          "rates  ",
          "interest  ",
          "reserve  ",
          "fed  "
         ],
         "yaxis": "y9"
        },
        {
         "marker": {
          "color": "#CC79A7"
         },
         "orientation": "h",
         "type": "bar",
         "x": [
          0.09789254958398508,
          0.10315106330170018,
          0.10409854105983271,
          0.11977291026960231,
          0.16978700165896476
         ],
         "xaxis": "x10",
         "y": [
          "alexsalmond  ",
          "global  ",
          "warming  ",
          "turbines  ",
          "wind  "
         ],
         "yaxis": "y10"
        },
        {
         "marker": {
          "color": "#E69F00"
         },
         "orientation": "h",
         "type": "bar",
         "x": [
          0.06651097747247516,
          0.0688119636320647,
          0.07151153136901198,
          0.09215234796347592,
          0.0939764728291309
         ],
         "xaxis": "x11",
         "y": [
          "blumenthal  ",
          "vietnam  ",
          "military  ",
          "churchill  ",
          "winston  "
         ],
         "yaxis": "y11"
        },
        {
         "marker": {
          "color": "#56B4E9"
         },
         "orientation": "h",
         "type": "bar",
         "x": [
          0.1255970820260027,
          0.14331764484158,
          0.17083413539721365,
          0.22276506885950031,
          0.27357542478888147
         ],
         "xaxis": "x12",
         "y": [
          "lance  ",
          "magazine  ",
          "carter  ",
          "graydon  ",
          "vanityfair  "
         ],
         "yaxis": "y12"
        },
        {
         "marker": {
          "color": "#009E73"
         },
         "orientation": "h",
         "type": "bar",
         "x": [
          0.0794154146823617,
          0.08096988561866542,
          0.08264839231527271,
          0.12086433780255668,
          0.1294326684677729
         ],
         "xaxis": "x13",
         "y": [
          "opioid  ",
          "cuba  ",
          "prescription  ",
          "drug  ",
          "venezuela  "
         ],
         "yaxis": "y13"
        },
        {
         "marker": {
          "color": "#F0E442"
         },
         "orientation": "h",
         "type": "bar",
         "x": [
          0.05099008711348306,
          0.05408242414853434,
          0.08212108991604507,
          0.1379865988701246,
          0.3486621036103103
         ],
         "xaxis": "x14",
         "y": [
          "behalf  ",
          "wisconsin  ",
          "cont  ",
          "ricksantorum  ",
          "mittromney  "
         ],
         "yaxis": "y14"
        },
        {
         "marker": {
          "color": "#D55E00"
         },
         "orientation": "h",
         "type": "bar",
         "x": [
          0.08897142501785588,
          0.09230816920321981,
          0.10901311429634955,
          0.12384055343196022,
          0.37354644482016586
         ],
         "xaxis": "x15",
         "y": [
          "vaccinations  ",
          "massive  ",
          "vaccines  ",
          "autismspeaks  ",
          "autism  "
         ],
         "yaxis": "y15"
        },
        {
         "marker": {
          "color": "#0072B2"
         },
         "orientation": "h",
         "type": "bar",
         "x": [
          0.18733420479942614,
          0.2010506067858586,
          0.21855657226599717,
          0.2593889504987518,
          0.32501843451256524
         ],
         "xaxis": "x16",
         "y": [
          "johnlegere  ",
          "apple  ",
          "iphone  ",
          "screen  ",
          "tmobile  "
         ],
         "yaxis": "y16"
        },
        {
         "marker": {
          "color": "#CC79A7"
         },
         "orientation": "h",
         "type": "bar",
         "x": [
          0.07871981577814773,
          0.0789051788812751,
          0.2528823234273416,
          0.367455351839872,
          0.46276912626249206
         ],
         "xaxis": "x17",
         "y": [
          "show  ",
          "worth  ",
          "dopey  ",
          "sugar  ",
          "lordsugar  "
         ],
         "yaxis": "y17"
        },
        {
         "marker": {
          "color": "#E69F00"
         },
         "orientation": "h",
         "type": "bar",
         "x": [
          0.0676122960870341,
          0.09229699472337706,
          0.09623909532091854,
          0.19703124085238521,
          0.23927013405208689
         ],
         "xaxis": "x18",
         "y": [
          "enemy  ",
          "corrupt  ",
          "rallies  ",
          "media  ",
          "lamestream  "
         ],
         "yaxis": "y18"
        },
        {
         "marker": {
          "color": "#56B4E9"
         },
         "orientation": "h",
         "type": "bar",
         "x": [
          0.00001,
          0.00001,
          0.00001,
          1.7508667994841014,
          3.0722716119869524
         ],
         "xaxis": "x19",
         "y": [
          "  ",
          "  ",
          "  ",
          "foxnews  ",
          "oann  "
         ],
         "yaxis": "y19"
        }
       ],
       "layout": {
        "annotations": [
         {
          "font": {
           "size": 16
          },
          "showarrow": false,
          "text": "Topic 0",
          "x": 0.0875,
          "xanchor": "center",
          "xref": "paper",
          "y": 0.9999999999999999,
          "yanchor": "bottom",
          "yref": "paper"
         },
         {
          "font": {
           "size": 16
          },
          "showarrow": false,
          "text": "Topic 1",
          "x": 0.36250000000000004,
          "xanchor": "center",
          "xref": "paper",
          "y": 0.9999999999999999,
          "yanchor": "bottom",
          "yref": "paper"
         },
         {
          "font": {
           "size": 16
          },
          "showarrow": false,
          "text": "Topic 2",
          "x": 0.6375000000000001,
          "xanchor": "center",
          "xref": "paper",
          "y": 0.9999999999999999,
          "yanchor": "bottom",
          "yref": "paper"
         },
         {
          "font": {
           "size": 16
          },
          "showarrow": false,
          "text": "Topic 3",
          "x": 0.9125,
          "xanchor": "center",
          "xref": "paper",
          "y": 0.9999999999999999,
          "yanchor": "bottom",
          "yref": "paper"
         },
         {
          "font": {
           "size": 16
          },
          "showarrow": false,
          "text": "Topic 4",
          "x": 0.0875,
          "xanchor": "center",
          "xref": "paper",
          "y": 0.7839999999999999,
          "yanchor": "bottom",
          "yref": "paper"
         },
         {
          "font": {
           "size": 16
          },
          "showarrow": false,
          "text": "Topic 5",
          "x": 0.36250000000000004,
          "xanchor": "center",
          "xref": "paper",
          "y": 0.7839999999999999,
          "yanchor": "bottom",
          "yref": "paper"
         },
         {
          "font": {
           "size": 16
          },
          "showarrow": false,
          "text": "Topic 6",
          "x": 0.6375000000000001,
          "xanchor": "center",
          "xref": "paper",
          "y": 0.7839999999999999,
          "yanchor": "bottom",
          "yref": "paper"
         },
         {
          "font": {
           "size": 16
          },
          "showarrow": false,
          "text": "Topic 7",
          "x": 0.9125,
          "xanchor": "center",
          "xref": "paper",
          "y": 0.7839999999999999,
          "yanchor": "bottom",
          "yref": "paper"
         },
         {
          "font": {
           "size": 16
          },
          "showarrow": false,
          "text": "Topic 8",
          "x": 0.0875,
          "xanchor": "center",
          "xref": "paper",
          "y": 0.568,
          "yanchor": "bottom",
          "yref": "paper"
         },
         {
          "font": {
           "size": 16
          },
          "showarrow": false,
          "text": "Topic 9",
          "x": 0.36250000000000004,
          "xanchor": "center",
          "xref": "paper",
          "y": 0.568,
          "yanchor": "bottom",
          "yref": "paper"
         },
         {
          "font": {
           "size": 16
          },
          "showarrow": false,
          "text": "Topic 10",
          "x": 0.6375000000000001,
          "xanchor": "center",
          "xref": "paper",
          "y": 0.568,
          "yanchor": "bottom",
          "yref": "paper"
         },
         {
          "font": {
           "size": 16
          },
          "showarrow": false,
          "text": "Topic 11",
          "x": 0.9125,
          "xanchor": "center",
          "xref": "paper",
          "y": 0.568,
          "yanchor": "bottom",
          "yref": "paper"
         },
         {
          "font": {
           "size": 16
          },
          "showarrow": false,
          "text": "Topic 12",
          "x": 0.0875,
          "xanchor": "center",
          "xref": "paper",
          "y": 0.352,
          "yanchor": "bottom",
          "yref": "paper"
         },
         {
          "font": {
           "size": 16
          },
          "showarrow": false,
          "text": "Topic 13",
          "x": 0.36250000000000004,
          "xanchor": "center",
          "xref": "paper",
          "y": 0.352,
          "yanchor": "bottom",
          "yref": "paper"
         },
         {
          "font": {
           "size": 16
          },
          "showarrow": false,
          "text": "Topic 14",
          "x": 0.6375000000000001,
          "xanchor": "center",
          "xref": "paper",
          "y": 0.352,
          "yanchor": "bottom",
          "yref": "paper"
         },
         {
          "font": {
           "size": 16
          },
          "showarrow": false,
          "text": "Topic 15",
          "x": 0.9125,
          "xanchor": "center",
          "xref": "paper",
          "y": 0.352,
          "yanchor": "bottom",
          "yref": "paper"
         },
         {
          "font": {
           "size": 16
          },
          "showarrow": false,
          "text": "Topic 16",
          "x": 0.0875,
          "xanchor": "center",
          "xref": "paper",
          "y": 0.13599999999999998,
          "yanchor": "bottom",
          "yref": "paper"
         },
         {
          "font": {
           "size": 16
          },
          "showarrow": false,
          "text": "Topic 17",
          "x": 0.36250000000000004,
          "xanchor": "center",
          "xref": "paper",
          "y": 0.13599999999999998,
          "yanchor": "bottom",
          "yref": "paper"
         },
         {
          "font": {
           "size": 16
          },
          "showarrow": false,
          "text": "Topic 18",
          "x": 0.6375000000000001,
          "xanchor": "center",
          "xref": "paper",
          "y": 0.13599999999999998,
          "yanchor": "bottom",
          "yref": "paper"
         }
        ],
        "height": 1250,
        "hoverlabel": {
         "bgcolor": "white",
         "font": {
          "family": "Rockwell",
          "size": 16
         }
        },
        "showlegend": false,
        "template": {
         "data": {
          "bar": [
           {
            "error_x": {
             "color": "#2a3f5f"
            },
            "error_y": {
             "color": "#2a3f5f"
            },
            "marker": {
             "line": {
              "color": "white",
              "width": 0.5
             },
             "pattern": {
              "fillmode": "overlay",
              "size": 10,
              "solidity": 0.2
             }
            },
            "type": "bar"
           }
          ],
          "barpolar": [
           {
            "marker": {
             "line": {
              "color": "white",
              "width": 0.5
             },
             "pattern": {
              "fillmode": "overlay",
              "size": 10,
              "solidity": 0.2
             }
            },
            "type": "barpolar"
           }
          ],
          "carpet": [
           {
            "aaxis": {
             "endlinecolor": "#2a3f5f",
             "gridcolor": "#C8D4E3",
             "linecolor": "#C8D4E3",
             "minorgridcolor": "#C8D4E3",
             "startlinecolor": "#2a3f5f"
            },
            "baxis": {
             "endlinecolor": "#2a3f5f",
             "gridcolor": "#C8D4E3",
             "linecolor": "#C8D4E3",
             "minorgridcolor": "#C8D4E3",
             "startlinecolor": "#2a3f5f"
            },
            "type": "carpet"
           }
          ],
          "choropleth": [
           {
            "colorbar": {
             "outlinewidth": 0,
             "ticks": ""
            },
            "type": "choropleth"
           }
          ],
          "contour": [
           {
            "colorbar": {
             "outlinewidth": 0,
             "ticks": ""
            },
            "colorscale": [
             [
              0,
              "#0d0887"
             ],
             [
              0.1111111111111111,
              "#46039f"
             ],
             [
              0.2222222222222222,
              "#7201a8"
             ],
             [
              0.3333333333333333,
              "#9c179e"
             ],
             [
              0.4444444444444444,
              "#bd3786"
             ],
             [
              0.5555555555555556,
              "#d8576b"
             ],
             [
              0.6666666666666666,
              "#ed7953"
             ],
             [
              0.7777777777777778,
              "#fb9f3a"
             ],
             [
              0.8888888888888888,
              "#fdca26"
             ],
             [
              1,
              "#f0f921"
             ]
            ],
            "type": "contour"
           }
          ],
          "contourcarpet": [
           {
            "colorbar": {
             "outlinewidth": 0,
             "ticks": ""
            },
            "type": "contourcarpet"
           }
          ],
          "heatmap": [
           {
            "colorbar": {
             "outlinewidth": 0,
             "ticks": ""
            },
            "colorscale": [
             [
              0,
              "#0d0887"
             ],
             [
              0.1111111111111111,
              "#46039f"
             ],
             [
              0.2222222222222222,
              "#7201a8"
             ],
             [
              0.3333333333333333,
              "#9c179e"
             ],
             [
              0.4444444444444444,
              "#bd3786"
             ],
             [
              0.5555555555555556,
              "#d8576b"
             ],
             [
              0.6666666666666666,
              "#ed7953"
             ],
             [
              0.7777777777777778,
              "#fb9f3a"
             ],
             [
              0.8888888888888888,
              "#fdca26"
             ],
             [
              1,
              "#f0f921"
             ]
            ],
            "type": "heatmap"
           }
          ],
          "heatmapgl": [
           {
            "colorbar": {
             "outlinewidth": 0,
             "ticks": ""
            },
            "colorscale": [
             [
              0,
              "#0d0887"
             ],
             [
              0.1111111111111111,
              "#46039f"
             ],
             [
              0.2222222222222222,
              "#7201a8"
             ],
             [
              0.3333333333333333,
              "#9c179e"
             ],
             [
              0.4444444444444444,
              "#bd3786"
             ],
             [
              0.5555555555555556,
              "#d8576b"
             ],
             [
              0.6666666666666666,
              "#ed7953"
             ],
             [
              0.7777777777777778,
              "#fb9f3a"
             ],
             [
              0.8888888888888888,
              "#fdca26"
             ],
             [
              1,
              "#f0f921"
             ]
            ],
            "type": "heatmapgl"
           }
          ],
          "histogram": [
           {
            "marker": {
             "pattern": {
              "fillmode": "overlay",
              "size": 10,
              "solidity": 0.2
             }
            },
            "type": "histogram"
           }
          ],
          "histogram2d": [
           {
            "colorbar": {
             "outlinewidth": 0,
             "ticks": ""
            },
            "colorscale": [
             [
              0,
              "#0d0887"
             ],
             [
              0.1111111111111111,
              "#46039f"
             ],
             [
              0.2222222222222222,
              "#7201a8"
             ],
             [
              0.3333333333333333,
              "#9c179e"
             ],
             [
              0.4444444444444444,
              "#bd3786"
             ],
             [
              0.5555555555555556,
              "#d8576b"
             ],
             [
              0.6666666666666666,
              "#ed7953"
             ],
             [
              0.7777777777777778,
              "#fb9f3a"
             ],
             [
              0.8888888888888888,
              "#fdca26"
             ],
             [
              1,
              "#f0f921"
             ]
            ],
            "type": "histogram2d"
           }
          ],
          "histogram2dcontour": [
           {
            "colorbar": {
             "outlinewidth": 0,
             "ticks": ""
            },
            "colorscale": [
             [
              0,
              "#0d0887"
             ],
             [
              0.1111111111111111,
              "#46039f"
             ],
             [
              0.2222222222222222,
              "#7201a8"
             ],
             [
              0.3333333333333333,
              "#9c179e"
             ],
             [
              0.4444444444444444,
              "#bd3786"
             ],
             [
              0.5555555555555556,
              "#d8576b"
             ],
             [
              0.6666666666666666,
              "#ed7953"
             ],
             [
              0.7777777777777778,
              "#fb9f3a"
             ],
             [
              0.8888888888888888,
              "#fdca26"
             ],
             [
              1,
              "#f0f921"
             ]
            ],
            "type": "histogram2dcontour"
           }
          ],
          "mesh3d": [
           {
            "colorbar": {
             "outlinewidth": 0,
             "ticks": ""
            },
            "type": "mesh3d"
           }
          ],
          "parcoords": [
           {
            "line": {
             "colorbar": {
              "outlinewidth": 0,
              "ticks": ""
             }
            },
            "type": "parcoords"
           }
          ],
          "pie": [
           {
            "automargin": true,
            "type": "pie"
           }
          ],
          "scatter": [
           {
            "fillpattern": {
             "fillmode": "overlay",
             "size": 10,
             "solidity": 0.2
            },
            "type": "scatter"
           }
          ],
          "scatter3d": [
           {
            "line": {
             "colorbar": {
              "outlinewidth": 0,
              "ticks": ""
             }
            },
            "marker": {
             "colorbar": {
              "outlinewidth": 0,
              "ticks": ""
             }
            },
            "type": "scatter3d"
           }
          ],
          "scattercarpet": [
           {
            "marker": {
             "colorbar": {
              "outlinewidth": 0,
              "ticks": ""
             }
            },
            "type": "scattercarpet"
           }
          ],
          "scattergeo": [
           {
            "marker": {
             "colorbar": {
              "outlinewidth": 0,
              "ticks": ""
             }
            },
            "type": "scattergeo"
           }
          ],
          "scattergl": [
           {
            "marker": {
             "colorbar": {
              "outlinewidth": 0,
              "ticks": ""
             }
            },
            "type": "scattergl"
           }
          ],
          "scattermapbox": [
           {
            "marker": {
             "colorbar": {
              "outlinewidth": 0,
              "ticks": ""
             }
            },
            "type": "scattermapbox"
           }
          ],
          "scatterpolar": [
           {
            "marker": {
             "colorbar": {
              "outlinewidth": 0,
              "ticks": ""
             }
            },
            "type": "scatterpolar"
           }
          ],
          "scatterpolargl": [
           {
            "marker": {
             "colorbar": {
              "outlinewidth": 0,
              "ticks": ""
             }
            },
            "type": "scatterpolargl"
           }
          ],
          "scatterternary": [
           {
            "marker": {
             "colorbar": {
              "outlinewidth": 0,
              "ticks": ""
             }
            },
            "type": "scatterternary"
           }
          ],
          "surface": [
           {
            "colorbar": {
             "outlinewidth": 0,
             "ticks": ""
            },
            "colorscale": [
             [
              0,
              "#0d0887"
             ],
             [
              0.1111111111111111,
              "#46039f"
             ],
             [
              0.2222222222222222,
              "#7201a8"
             ],
             [
              0.3333333333333333,
              "#9c179e"
             ],
             [
              0.4444444444444444,
              "#bd3786"
             ],
             [
              0.5555555555555556,
              "#d8576b"
             ],
             [
              0.6666666666666666,
              "#ed7953"
             ],
             [
              0.7777777777777778,
              "#fb9f3a"
             ],
             [
              0.8888888888888888,
              "#fdca26"
             ],
             [
              1,
              "#f0f921"
             ]
            ],
            "type": "surface"
           }
          ],
          "table": [
           {
            "cells": {
             "fill": {
              "color": "#EBF0F8"
             },
             "line": {
              "color": "white"
             }
            },
            "header": {
             "fill": {
              "color": "#C8D4E3"
             },
             "line": {
              "color": "white"
             }
            },
            "type": "table"
           }
          ]
         },
         "layout": {
          "annotationdefaults": {
           "arrowcolor": "#2a3f5f",
           "arrowhead": 0,
           "arrowwidth": 1
          },
          "autotypenumbers": "strict",
          "coloraxis": {
           "colorbar": {
            "outlinewidth": 0,
            "ticks": ""
           }
          },
          "colorscale": {
           "diverging": [
            [
             0,
             "#8e0152"
            ],
            [
             0.1,
             "#c51b7d"
            ],
            [
             0.2,
             "#de77ae"
            ],
            [
             0.3,
             "#f1b6da"
            ],
            [
             0.4,
             "#fde0ef"
            ],
            [
             0.5,
             "#f7f7f7"
            ],
            [
             0.6,
             "#e6f5d0"
            ],
            [
             0.7,
             "#b8e186"
            ],
            [
             0.8,
             "#7fbc41"
            ],
            [
             0.9,
             "#4d9221"
            ],
            [
             1,
             "#276419"
            ]
           ],
           "sequential": [
            [
             0,
             "#0d0887"
            ],
            [
             0.1111111111111111,
             "#46039f"
            ],
            [
             0.2222222222222222,
             "#7201a8"
            ],
            [
             0.3333333333333333,
             "#9c179e"
            ],
            [
             0.4444444444444444,
             "#bd3786"
            ],
            [
             0.5555555555555556,
             "#d8576b"
            ],
            [
             0.6666666666666666,
             "#ed7953"
            ],
            [
             0.7777777777777778,
             "#fb9f3a"
            ],
            [
             0.8888888888888888,
             "#fdca26"
            ],
            [
             1,
             "#f0f921"
            ]
           ],
           "sequentialminus": [
            [
             0,
             "#0d0887"
            ],
            [
             0.1111111111111111,
             "#46039f"
            ],
            [
             0.2222222222222222,
             "#7201a8"
            ],
            [
             0.3333333333333333,
             "#9c179e"
            ],
            [
             0.4444444444444444,
             "#bd3786"
            ],
            [
             0.5555555555555556,
             "#d8576b"
            ],
            [
             0.6666666666666666,
             "#ed7953"
            ],
            [
             0.7777777777777778,
             "#fb9f3a"
            ],
            [
             0.8888888888888888,
             "#fdca26"
            ],
            [
             1,
             "#f0f921"
            ]
           ]
          },
          "colorway": [
           "#636efa",
           "#EF553B",
           "#00cc96",
           "#ab63fa",
           "#FFA15A",
           "#19d3f3",
           "#FF6692",
           "#B6E880",
           "#FF97FF",
           "#FECB52"
          ],
          "font": {
           "color": "#2a3f5f"
          },
          "geo": {
           "bgcolor": "white",
           "lakecolor": "white",
           "landcolor": "white",
           "showlakes": true,
           "showland": true,
           "subunitcolor": "#C8D4E3"
          },
          "hoverlabel": {
           "align": "left"
          },
          "hovermode": "closest",
          "mapbox": {
           "style": "light"
          },
          "paper_bgcolor": "white",
          "plot_bgcolor": "white",
          "polar": {
           "angularaxis": {
            "gridcolor": "#EBF0F8",
            "linecolor": "#EBF0F8",
            "ticks": ""
           },
           "bgcolor": "white",
           "radialaxis": {
            "gridcolor": "#EBF0F8",
            "linecolor": "#EBF0F8",
            "ticks": ""
           }
          },
          "scene": {
           "xaxis": {
            "backgroundcolor": "white",
            "gridcolor": "#DFE8F3",
            "gridwidth": 2,
            "linecolor": "#EBF0F8",
            "showbackground": true,
            "ticks": "",
            "zerolinecolor": "#EBF0F8"
           },
           "yaxis": {
            "backgroundcolor": "white",
            "gridcolor": "#DFE8F3",
            "gridwidth": 2,
            "linecolor": "#EBF0F8",
            "showbackground": true,
            "ticks": "",
            "zerolinecolor": "#EBF0F8"
           },
           "zaxis": {
            "backgroundcolor": "white",
            "gridcolor": "#DFE8F3",
            "gridwidth": 2,
            "linecolor": "#EBF0F8",
            "showbackground": true,
            "ticks": "",
            "zerolinecolor": "#EBF0F8"
           }
          },
          "shapedefaults": {
           "line": {
            "color": "#2a3f5f"
           }
          },
          "ternary": {
           "aaxis": {
            "gridcolor": "#DFE8F3",
            "linecolor": "#A2B1C6",
            "ticks": ""
           },
           "baxis": {
            "gridcolor": "#DFE8F3",
            "linecolor": "#A2B1C6",
            "ticks": ""
           },
           "bgcolor": "white",
           "caxis": {
            "gridcolor": "#DFE8F3",
            "linecolor": "#A2B1C6",
            "ticks": ""
           }
          },
          "title": {
           "x": 0.05
          },
          "xaxis": {
           "automargin": true,
           "gridcolor": "#EBF0F8",
           "linecolor": "#EBF0F8",
           "ticks": "",
           "title": {
            "standoff": 15
           },
           "zerolinecolor": "#EBF0F8",
           "zerolinewidth": 2
          },
          "yaxis": {
           "automargin": true,
           "gridcolor": "#EBF0F8",
           "linecolor": "#EBF0F8",
           "ticks": "",
           "title": {
            "standoff": 15
           },
           "zerolinecolor": "#EBF0F8",
           "zerolinewidth": 2
          }
         }
        },
        "title": {
         "font": {
          "color": "Black",
          "size": 22
         },
         "text": "Topic Word Scores",
         "x": 0.5,
         "xanchor": "center",
         "yanchor": "top"
        },
        "width": 1000,
        "xaxis": {
         "anchor": "y",
         "domain": [
          0,
          0.175
         ],
         "showgrid": true
        },
        "xaxis10": {
         "anchor": "y10",
         "domain": [
          0.275,
          0.45
         ],
         "showgrid": true
        },
        "xaxis11": {
         "anchor": "y11",
         "domain": [
          0.55,
          0.7250000000000001
         ],
         "showgrid": true
        },
        "xaxis12": {
         "anchor": "y12",
         "domain": [
          0.825,
          1
         ],
         "showgrid": true
        },
        "xaxis13": {
         "anchor": "y13",
         "domain": [
          0,
          0.175
         ],
         "showgrid": true
        },
        "xaxis14": {
         "anchor": "y14",
         "domain": [
          0.275,
          0.45
         ],
         "showgrid": true
        },
        "xaxis15": {
         "anchor": "y15",
         "domain": [
          0.55,
          0.7250000000000001
         ],
         "showgrid": true
        },
        "xaxis16": {
         "anchor": "y16",
         "domain": [
          0.825,
          1
         ],
         "showgrid": true
        },
        "xaxis17": {
         "anchor": "y17",
         "domain": [
          0,
          0.175
         ],
         "showgrid": true
        },
        "xaxis18": {
         "anchor": "y18",
         "domain": [
          0.275,
          0.45
         ],
         "showgrid": true
        },
        "xaxis19": {
         "anchor": "y19",
         "domain": [
          0.55,
          0.7250000000000001
         ],
         "showgrid": true
        },
        "xaxis2": {
         "anchor": "y2",
         "domain": [
          0.275,
          0.45
         ],
         "showgrid": true
        },
        "xaxis20": {
         "anchor": "y20",
         "domain": [
          0.825,
          1
         ],
         "showgrid": true
        },
        "xaxis3": {
         "anchor": "y3",
         "domain": [
          0.55,
          0.7250000000000001
         ],
         "showgrid": true
        },
        "xaxis4": {
         "anchor": "y4",
         "domain": [
          0.825,
          1
         ],
         "showgrid": true
        },
        "xaxis5": {
         "anchor": "y5",
         "domain": [
          0,
          0.175
         ],
         "showgrid": true
        },
        "xaxis6": {
         "anchor": "y6",
         "domain": [
          0.275,
          0.45
         ],
         "showgrid": true
        },
        "xaxis7": {
         "anchor": "y7",
         "domain": [
          0.55,
          0.7250000000000001
         ],
         "showgrid": true
        },
        "xaxis8": {
         "anchor": "y8",
         "domain": [
          0.825,
          1
         ],
         "showgrid": true
        },
        "xaxis9": {
         "anchor": "y9",
         "domain": [
          0,
          0.175
         ],
         "showgrid": true
        },
        "yaxis": {
         "anchor": "x",
         "domain": [
          0.8639999999999999,
          0.9999999999999999
         ],
         "showgrid": true
        },
        "yaxis10": {
         "anchor": "x10",
         "domain": [
          0.43199999999999994,
          0.568
         ],
         "showgrid": true
        },
        "yaxis11": {
         "anchor": "x11",
         "domain": [
          0.43199999999999994,
          0.568
         ],
         "showgrid": true
        },
        "yaxis12": {
         "anchor": "x12",
         "domain": [
          0.43199999999999994,
          0.568
         ],
         "showgrid": true
        },
        "yaxis13": {
         "anchor": "x13",
         "domain": [
          0.21599999999999997,
          0.352
         ],
         "showgrid": true
        },
        "yaxis14": {
         "anchor": "x14",
         "domain": [
          0.21599999999999997,
          0.352
         ],
         "showgrid": true
        },
        "yaxis15": {
         "anchor": "x15",
         "domain": [
          0.21599999999999997,
          0.352
         ],
         "showgrid": true
        },
        "yaxis16": {
         "anchor": "x16",
         "domain": [
          0.21599999999999997,
          0.352
         ],
         "showgrid": true
        },
        "yaxis17": {
         "anchor": "x17",
         "domain": [
          0,
          0.13599999999999998
         ],
         "showgrid": true
        },
        "yaxis18": {
         "anchor": "x18",
         "domain": [
          0,
          0.13599999999999998
         ],
         "showgrid": true
        },
        "yaxis19": {
         "anchor": "x19",
         "domain": [
          0,
          0.13599999999999998
         ],
         "showgrid": true
        },
        "yaxis2": {
         "anchor": "x2",
         "domain": [
          0.8639999999999999,
          0.9999999999999999
         ],
         "showgrid": true
        },
        "yaxis20": {
         "anchor": "x20",
         "domain": [
          0,
          0.13599999999999998
         ],
         "showgrid": true
        },
        "yaxis3": {
         "anchor": "x3",
         "domain": [
          0.8639999999999999,
          0.9999999999999999
         ],
         "showgrid": true
        },
        "yaxis4": {
         "anchor": "x4",
         "domain": [
          0.8639999999999999,
          0.9999999999999999
         ],
         "showgrid": true
        },
        "yaxis5": {
         "anchor": "x5",
         "domain": [
          0.6479999999999999,
          0.7839999999999999
         ],
         "showgrid": true
        },
        "yaxis6": {
         "anchor": "x6",
         "domain": [
          0.6479999999999999,
          0.7839999999999999
         ],
         "showgrid": true
        },
        "yaxis7": {
         "anchor": "x7",
         "domain": [
          0.6479999999999999,
          0.7839999999999999
         ],
         "showgrid": true
        },
        "yaxis8": {
         "anchor": "x8",
         "domain": [
          0.6479999999999999,
          0.7839999999999999
         ],
         "showgrid": true
        },
        "yaxis9": {
         "anchor": "x9",
         "domain": [
          0.43199999999999994,
          0.568
         ],
         "showgrid": true
        }
       }
      }
     },
     "metadata": {},
     "output_type": "display_data"
    }
   ],
   "source": [
    "# We can visualize the selected terms for a few topics by creating bar charts out of the c-TF-IDF scores for each topic representation. Insights can be gained from the relative c-TF-IDF scores between and within topics. Moreover, you can easily compare topic representations to each other. To visualize this hierarchy, run the following:\n",
    "\n",
    "topic_model.visualize_barchart(top_n_topics=20)"
   ]
  },
  {
   "cell_type": "markdown",
   "metadata": {},
   "source": [
    "# Visualizing the topics"
   ]
  },
  {
   "cell_type": "code",
   "execution_count": 25,
   "metadata": {},
   "outputs": [
    {
     "data": {
      "application/vnd.plotly.v1+json": {
       "config": {
        "plotlyServerURL": "https://plot.ly"
       },
       "data": [
        {
         "customdata": [
          [
           0,
           "realdonaldtrump | trump | great | president | would",
           11336
          ],
          [
           1,
           "golf | trump | course | macys | hotel",
           1582
          ],
          [
           2,
           "border | wall | mexico | ebola | people",
           1379
          ],
          [
           3,
           "korea | north | great | honor | today",
           1345
          ],
          [
           4,
           "china | us | trade | jobs | tariffs",
           1257
          ],
          [
           5,
           "iran | syria | isis | obama | iraq",
           868
          ],
          [
           6,
           "entrepreneurs | think | keep | focus | big",
           780
          ],
          [
           7,
           "yankees | nfl | wwe | nflcommish | arod",
           654
          ],
          [
           8,
           "fed | reserve | interest | rates | debt",
           389
          ],
          [
           9,
           "wind | turbines | warming | global | alexsalmond",
           345
          ],
          [
           10,
           "winston | churchill | military | vietnam | blumenthal",
           117
          ],
          [
           11,
           "vanityfair | graydon | carter | magazine | lance",
           76
          ],
          [
           12,
           "venezuela | drug | prescription | cuba | opioid",
           64
          ],
          [
           13,
           "mittromney | ricksantorum | cont | wisconsin | behalf",
           59
          ],
          [
           14,
           "autism | autismspeaks | vaccines | massive | vaccinations",
           55
          ],
          [
           15,
           "tmobile | screen | iphone | apple | johnlegere",
           38
          ],
          [
           16,
           "lordsugar | sugar | dopey | worth | show",
           32
          ],
          [
           17,
           "lamestream | media | rallies | corrupt | enemy",
           30
          ],
          [
           18,
           "oann | foxnews |  |  | ",
           13
          ]
         ],
         "hovertemplate": "<b>Topic %{customdata[0]}</b><br>%{customdata[1]}<br>Size: %{customdata[2]}",
         "legendgroup": "",
         "marker": {
          "color": "#B0BEC5",
          "line": {
           "color": "DarkSlateGrey",
           "width": 2
          },
          "size": [
           11336,
           1582,
           1379,
           1345,
           1257,
           868,
           780,
           654,
           389,
           345,
           117,
           76,
           64,
           59,
           55,
           38,
           32,
           30,
           13
          ],
          "sizemode": "area",
          "sizeref": 7.085,
          "symbol": "circle"
         },
         "mode": "markers",
         "name": "",
         "orientation": "v",
         "showlegend": false,
         "type": "scatter",
         "x": [
          6.936755180358887,
          8.456960678100586,
          8.193672180175781,
          7.224991321563721,
          5.625851631164551,
          8.546557426452637,
          6.161740779876709,
          7.639185428619385,
          5.899049758911133,
          5.327129364013672,
          7.539416313171387,
          7.302440166473389,
          7.878348350524902,
          8.193643569946289,
          7.046048164367676,
          7.1134562492370605,
          6.576191425323486,
          6.527980327606201,
          8.896662712097168
         ],
         "xaxis": "x",
         "y": [
          4.975388050079346,
          5.495448112487793,
          8.470365524291992,
          6.299613952636719,
          -5.875306606292725,
          8.831657409667969,
          -6.290744781494141,
          5.454021453857422,
          -6.101024627685547,
          -5.578272342681885,
          6.6428070068359375,
          4.957266330718994,
          8.264836311340332,
          4.682559490203857,
          4.47588586807251,
          5.341789722442627,
          5.392075538635254,
          4.869342803955078,
          9.179229736328125
         ],
         "yaxis": "y"
        }
       ],
       "layout": {
        "annotations": [
         {
          "showarrow": false,
          "text": "D1",
          "x": 4.528059959411621,
          "y": 1.6608788490295412,
          "yshift": 10
         },
         {
          "showarrow": false,
          "text": "D2",
          "x": 7.3796110391616825,
          "xshift": 10,
          "y": 10.556114196777344
         }
        ],
        "height": 650,
        "hoverlabel": {
         "bgcolor": "white",
         "font": {
          "family": "Rockwell",
          "size": 16
         }
        },
        "legend": {
         "itemsizing": "constant",
         "tracegroupgap": 0
        },
        "margin": {
         "t": 60
        },
        "shapes": [
         {
          "line": {
           "color": "#CFD8DC",
           "width": 2
          },
          "type": "line",
          "x0": 7.3796110391616825,
          "x1": 7.3796110391616825,
          "y0": -7.234356498718261,
          "y1": 10.556114196777344
         },
         {
          "line": {
           "color": "#9E9E9E",
           "width": 2
          },
          "type": "line",
          "x0": 4.528059959411621,
          "x1": 10.231162118911744,
          "y0": 1.6608788490295412,
          "y1": 1.6608788490295412
         }
        ],
        "sliders": [
         {
          "active": 0,
          "pad": {
           "t": 50
          },
          "steps": [
           {
            "args": [
             {
              "marker.color": [
               [
                "red",
                "#B0BEC5",
                "#B0BEC5",
                "#B0BEC5",
                "#B0BEC5",
                "#B0BEC5",
                "#B0BEC5",
                "#B0BEC5",
                "#B0BEC5",
                "#B0BEC5",
                "#B0BEC5",
                "#B0BEC5",
                "#B0BEC5",
                "#B0BEC5",
                "#B0BEC5",
                "#B0BEC5",
                "#B0BEC5",
                "#B0BEC5",
                "#B0BEC5"
               ]
              ]
             }
            ],
            "label": "Topic 0",
            "method": "update"
           },
           {
            "args": [
             {
              "marker.color": [
               [
                "#B0BEC5",
                "red",
                "#B0BEC5",
                "#B0BEC5",
                "#B0BEC5",
                "#B0BEC5",
                "#B0BEC5",
                "#B0BEC5",
                "#B0BEC5",
                "#B0BEC5",
                "#B0BEC5",
                "#B0BEC5",
                "#B0BEC5",
                "#B0BEC5",
                "#B0BEC5",
                "#B0BEC5",
                "#B0BEC5",
                "#B0BEC5",
                "#B0BEC5"
               ]
              ]
             }
            ],
            "label": "Topic 1",
            "method": "update"
           },
           {
            "args": [
             {
              "marker.color": [
               [
                "#B0BEC5",
                "#B0BEC5",
                "red",
                "#B0BEC5",
                "#B0BEC5",
                "#B0BEC5",
                "#B0BEC5",
                "#B0BEC5",
                "#B0BEC5",
                "#B0BEC5",
                "#B0BEC5",
                "#B0BEC5",
                "#B0BEC5",
                "#B0BEC5",
                "#B0BEC5",
                "#B0BEC5",
                "#B0BEC5",
                "#B0BEC5",
                "#B0BEC5"
               ]
              ]
             }
            ],
            "label": "Topic 2",
            "method": "update"
           },
           {
            "args": [
             {
              "marker.color": [
               [
                "#B0BEC5",
                "#B0BEC5",
                "#B0BEC5",
                "red",
                "#B0BEC5",
                "#B0BEC5",
                "#B0BEC5",
                "#B0BEC5",
                "#B0BEC5",
                "#B0BEC5",
                "#B0BEC5",
                "#B0BEC5",
                "#B0BEC5",
                "#B0BEC5",
                "#B0BEC5",
                "#B0BEC5",
                "#B0BEC5",
                "#B0BEC5",
                "#B0BEC5"
               ]
              ]
             }
            ],
            "label": "Topic 3",
            "method": "update"
           },
           {
            "args": [
             {
              "marker.color": [
               [
                "#B0BEC5",
                "#B0BEC5",
                "#B0BEC5",
                "#B0BEC5",
                "red",
                "#B0BEC5",
                "#B0BEC5",
                "#B0BEC5",
                "#B0BEC5",
                "#B0BEC5",
                "#B0BEC5",
                "#B0BEC5",
                "#B0BEC5",
                "#B0BEC5",
                "#B0BEC5",
                "#B0BEC5",
                "#B0BEC5",
                "#B0BEC5",
                "#B0BEC5"
               ]
              ]
             }
            ],
            "label": "Topic 4",
            "method": "update"
           },
           {
            "args": [
             {
              "marker.color": [
               [
                "#B0BEC5",
                "#B0BEC5",
                "#B0BEC5",
                "#B0BEC5",
                "#B0BEC5",
                "red",
                "#B0BEC5",
                "#B0BEC5",
                "#B0BEC5",
                "#B0BEC5",
                "#B0BEC5",
                "#B0BEC5",
                "#B0BEC5",
                "#B0BEC5",
                "#B0BEC5",
                "#B0BEC5",
                "#B0BEC5",
                "#B0BEC5",
                "#B0BEC5"
               ]
              ]
             }
            ],
            "label": "Topic 5",
            "method": "update"
           },
           {
            "args": [
             {
              "marker.color": [
               [
                "#B0BEC5",
                "#B0BEC5",
                "#B0BEC5",
                "#B0BEC5",
                "#B0BEC5",
                "#B0BEC5",
                "red",
                "#B0BEC5",
                "#B0BEC5",
                "#B0BEC5",
                "#B0BEC5",
                "#B0BEC5",
                "#B0BEC5",
                "#B0BEC5",
                "#B0BEC5",
                "#B0BEC5",
                "#B0BEC5",
                "#B0BEC5",
                "#B0BEC5"
               ]
              ]
             }
            ],
            "label": "Topic 6",
            "method": "update"
           },
           {
            "args": [
             {
              "marker.color": [
               [
                "#B0BEC5",
                "#B0BEC5",
                "#B0BEC5",
                "#B0BEC5",
                "#B0BEC5",
                "#B0BEC5",
                "#B0BEC5",
                "red",
                "#B0BEC5",
                "#B0BEC5",
                "#B0BEC5",
                "#B0BEC5",
                "#B0BEC5",
                "#B0BEC5",
                "#B0BEC5",
                "#B0BEC5",
                "#B0BEC5",
                "#B0BEC5",
                "#B0BEC5"
               ]
              ]
             }
            ],
            "label": "Topic 7",
            "method": "update"
           },
           {
            "args": [
             {
              "marker.color": [
               [
                "#B0BEC5",
                "#B0BEC5",
                "#B0BEC5",
                "#B0BEC5",
                "#B0BEC5",
                "#B0BEC5",
                "#B0BEC5",
                "#B0BEC5",
                "red",
                "#B0BEC5",
                "#B0BEC5",
                "#B0BEC5",
                "#B0BEC5",
                "#B0BEC5",
                "#B0BEC5",
                "#B0BEC5",
                "#B0BEC5",
                "#B0BEC5",
                "#B0BEC5"
               ]
              ]
             }
            ],
            "label": "Topic 8",
            "method": "update"
           },
           {
            "args": [
             {
              "marker.color": [
               [
                "#B0BEC5",
                "#B0BEC5",
                "#B0BEC5",
                "#B0BEC5",
                "#B0BEC5",
                "#B0BEC5",
                "#B0BEC5",
                "#B0BEC5",
                "#B0BEC5",
                "red",
                "#B0BEC5",
                "#B0BEC5",
                "#B0BEC5",
                "#B0BEC5",
                "#B0BEC5",
                "#B0BEC5",
                "#B0BEC5",
                "#B0BEC5",
                "#B0BEC5"
               ]
              ]
             }
            ],
            "label": "Topic 9",
            "method": "update"
           },
           {
            "args": [
             {
              "marker.color": [
               [
                "#B0BEC5",
                "#B0BEC5",
                "#B0BEC5",
                "#B0BEC5",
                "#B0BEC5",
                "#B0BEC5",
                "#B0BEC5",
                "#B0BEC5",
                "#B0BEC5",
                "#B0BEC5",
                "red",
                "#B0BEC5",
                "#B0BEC5",
                "#B0BEC5",
                "#B0BEC5",
                "#B0BEC5",
                "#B0BEC5",
                "#B0BEC5",
                "#B0BEC5"
               ]
              ]
             }
            ],
            "label": "Topic 10",
            "method": "update"
           },
           {
            "args": [
             {
              "marker.color": [
               [
                "#B0BEC5",
                "#B0BEC5",
                "#B0BEC5",
                "#B0BEC5",
                "#B0BEC5",
                "#B0BEC5",
                "#B0BEC5",
                "#B0BEC5",
                "#B0BEC5",
                "#B0BEC5",
                "#B0BEC5",
                "red",
                "#B0BEC5",
                "#B0BEC5",
                "#B0BEC5",
                "#B0BEC5",
                "#B0BEC5",
                "#B0BEC5",
                "#B0BEC5"
               ]
              ]
             }
            ],
            "label": "Topic 11",
            "method": "update"
           },
           {
            "args": [
             {
              "marker.color": [
               [
                "#B0BEC5",
                "#B0BEC5",
                "#B0BEC5",
                "#B0BEC5",
                "#B0BEC5",
                "#B0BEC5",
                "#B0BEC5",
                "#B0BEC5",
                "#B0BEC5",
                "#B0BEC5",
                "#B0BEC5",
                "#B0BEC5",
                "red",
                "#B0BEC5",
                "#B0BEC5",
                "#B0BEC5",
                "#B0BEC5",
                "#B0BEC5",
                "#B0BEC5"
               ]
              ]
             }
            ],
            "label": "Topic 12",
            "method": "update"
           },
           {
            "args": [
             {
              "marker.color": [
               [
                "#B0BEC5",
                "#B0BEC5",
                "#B0BEC5",
                "#B0BEC5",
                "#B0BEC5",
                "#B0BEC5",
                "#B0BEC5",
                "#B0BEC5",
                "#B0BEC5",
                "#B0BEC5",
                "#B0BEC5",
                "#B0BEC5",
                "#B0BEC5",
                "red",
                "#B0BEC5",
                "#B0BEC5",
                "#B0BEC5",
                "#B0BEC5",
                "#B0BEC5"
               ]
              ]
             }
            ],
            "label": "Topic 13",
            "method": "update"
           },
           {
            "args": [
             {
              "marker.color": [
               [
                "#B0BEC5",
                "#B0BEC5",
                "#B0BEC5",
                "#B0BEC5",
                "#B0BEC5",
                "#B0BEC5",
                "#B0BEC5",
                "#B0BEC5",
                "#B0BEC5",
                "#B0BEC5",
                "#B0BEC5",
                "#B0BEC5",
                "#B0BEC5",
                "#B0BEC5",
                "red",
                "#B0BEC5",
                "#B0BEC5",
                "#B0BEC5",
                "#B0BEC5"
               ]
              ]
             }
            ],
            "label": "Topic 14",
            "method": "update"
           },
           {
            "args": [
             {
              "marker.color": [
               [
                "#B0BEC5",
                "#B0BEC5",
                "#B0BEC5",
                "#B0BEC5",
                "#B0BEC5",
                "#B0BEC5",
                "#B0BEC5",
                "#B0BEC5",
                "#B0BEC5",
                "#B0BEC5",
                "#B0BEC5",
                "#B0BEC5",
                "#B0BEC5",
                "#B0BEC5",
                "#B0BEC5",
                "red",
                "#B0BEC5",
                "#B0BEC5",
                "#B0BEC5"
               ]
              ]
             }
            ],
            "label": "Topic 15",
            "method": "update"
           },
           {
            "args": [
             {
              "marker.color": [
               [
                "#B0BEC5",
                "#B0BEC5",
                "#B0BEC5",
                "#B0BEC5",
                "#B0BEC5",
                "#B0BEC5",
                "#B0BEC5",
                "#B0BEC5",
                "#B0BEC5",
                "#B0BEC5",
                "#B0BEC5",
                "#B0BEC5",
                "#B0BEC5",
                "#B0BEC5",
                "#B0BEC5",
                "#B0BEC5",
                "red",
                "#B0BEC5",
                "#B0BEC5"
               ]
              ]
             }
            ],
            "label": "Topic 16",
            "method": "update"
           },
           {
            "args": [
             {
              "marker.color": [
               [
                "#B0BEC5",
                "#B0BEC5",
                "#B0BEC5",
                "#B0BEC5",
                "#B0BEC5",
                "#B0BEC5",
                "#B0BEC5",
                "#B0BEC5",
                "#B0BEC5",
                "#B0BEC5",
                "#B0BEC5",
                "#B0BEC5",
                "#B0BEC5",
                "#B0BEC5",
                "#B0BEC5",
                "#B0BEC5",
                "#B0BEC5",
                "red",
                "#B0BEC5"
               ]
              ]
             }
            ],
            "label": "Topic 17",
            "method": "update"
           },
           {
            "args": [
             {
              "marker.color": [
               [
                "#B0BEC5",
                "#B0BEC5",
                "#B0BEC5",
                "#B0BEC5",
                "#B0BEC5",
                "#B0BEC5",
                "#B0BEC5",
                "#B0BEC5",
                "#B0BEC5",
                "#B0BEC5",
                "#B0BEC5",
                "#B0BEC5",
                "#B0BEC5",
                "#B0BEC5",
                "#B0BEC5",
                "#B0BEC5",
                "#B0BEC5",
                "#B0BEC5",
                "red"
               ]
              ]
             }
            ],
            "label": "Topic 18",
            "method": "update"
           }
          ]
         }
        ],
        "template": {
         "data": {
          "bar": [
           {
            "error_x": {
             "color": "rgb(36,36,36)"
            },
            "error_y": {
             "color": "rgb(36,36,36)"
            },
            "marker": {
             "line": {
              "color": "white",
              "width": 0.5
             },
             "pattern": {
              "fillmode": "overlay",
              "size": 10,
              "solidity": 0.2
             }
            },
            "type": "bar"
           }
          ],
          "barpolar": [
           {
            "marker": {
             "line": {
              "color": "white",
              "width": 0.5
             },
             "pattern": {
              "fillmode": "overlay",
              "size": 10,
              "solidity": 0.2
             }
            },
            "type": "barpolar"
           }
          ],
          "carpet": [
           {
            "aaxis": {
             "endlinecolor": "rgb(36,36,36)",
             "gridcolor": "white",
             "linecolor": "white",
             "minorgridcolor": "white",
             "startlinecolor": "rgb(36,36,36)"
            },
            "baxis": {
             "endlinecolor": "rgb(36,36,36)",
             "gridcolor": "white",
             "linecolor": "white",
             "minorgridcolor": "white",
             "startlinecolor": "rgb(36,36,36)"
            },
            "type": "carpet"
           }
          ],
          "choropleth": [
           {
            "colorbar": {
             "outlinewidth": 1,
             "tickcolor": "rgb(36,36,36)",
             "ticks": "outside"
            },
            "type": "choropleth"
           }
          ],
          "contour": [
           {
            "colorbar": {
             "outlinewidth": 1,
             "tickcolor": "rgb(36,36,36)",
             "ticks": "outside"
            },
            "colorscale": [
             [
              0,
              "#440154"
             ],
             [
              0.1111111111111111,
              "#482878"
             ],
             [
              0.2222222222222222,
              "#3e4989"
             ],
             [
              0.3333333333333333,
              "#31688e"
             ],
             [
              0.4444444444444444,
              "#26828e"
             ],
             [
              0.5555555555555556,
              "#1f9e89"
             ],
             [
              0.6666666666666666,
              "#35b779"
             ],
             [
              0.7777777777777778,
              "#6ece58"
             ],
             [
              0.8888888888888888,
              "#b5de2b"
             ],
             [
              1,
              "#fde725"
             ]
            ],
            "type": "contour"
           }
          ],
          "contourcarpet": [
           {
            "colorbar": {
             "outlinewidth": 1,
             "tickcolor": "rgb(36,36,36)",
             "ticks": "outside"
            },
            "type": "contourcarpet"
           }
          ],
          "heatmap": [
           {
            "colorbar": {
             "outlinewidth": 1,
             "tickcolor": "rgb(36,36,36)",
             "ticks": "outside"
            },
            "colorscale": [
             [
              0,
              "#440154"
             ],
             [
              0.1111111111111111,
              "#482878"
             ],
             [
              0.2222222222222222,
              "#3e4989"
             ],
             [
              0.3333333333333333,
              "#31688e"
             ],
             [
              0.4444444444444444,
              "#26828e"
             ],
             [
              0.5555555555555556,
              "#1f9e89"
             ],
             [
              0.6666666666666666,
              "#35b779"
             ],
             [
              0.7777777777777778,
              "#6ece58"
             ],
             [
              0.8888888888888888,
              "#b5de2b"
             ],
             [
              1,
              "#fde725"
             ]
            ],
            "type": "heatmap"
           }
          ],
          "heatmapgl": [
           {
            "colorbar": {
             "outlinewidth": 1,
             "tickcolor": "rgb(36,36,36)",
             "ticks": "outside"
            },
            "colorscale": [
             [
              0,
              "#440154"
             ],
             [
              0.1111111111111111,
              "#482878"
             ],
             [
              0.2222222222222222,
              "#3e4989"
             ],
             [
              0.3333333333333333,
              "#31688e"
             ],
             [
              0.4444444444444444,
              "#26828e"
             ],
             [
              0.5555555555555556,
              "#1f9e89"
             ],
             [
              0.6666666666666666,
              "#35b779"
             ],
             [
              0.7777777777777778,
              "#6ece58"
             ],
             [
              0.8888888888888888,
              "#b5de2b"
             ],
             [
              1,
              "#fde725"
             ]
            ],
            "type": "heatmapgl"
           }
          ],
          "histogram": [
           {
            "marker": {
             "line": {
              "color": "white",
              "width": 0.6
             }
            },
            "type": "histogram"
           }
          ],
          "histogram2d": [
           {
            "colorbar": {
             "outlinewidth": 1,
             "tickcolor": "rgb(36,36,36)",
             "ticks": "outside"
            },
            "colorscale": [
             [
              0,
              "#440154"
             ],
             [
              0.1111111111111111,
              "#482878"
             ],
             [
              0.2222222222222222,
              "#3e4989"
             ],
             [
              0.3333333333333333,
              "#31688e"
             ],
             [
              0.4444444444444444,
              "#26828e"
             ],
             [
              0.5555555555555556,
              "#1f9e89"
             ],
             [
              0.6666666666666666,
              "#35b779"
             ],
             [
              0.7777777777777778,
              "#6ece58"
             ],
             [
              0.8888888888888888,
              "#b5de2b"
             ],
             [
              1,
              "#fde725"
             ]
            ],
            "type": "histogram2d"
           }
          ],
          "histogram2dcontour": [
           {
            "colorbar": {
             "outlinewidth": 1,
             "tickcolor": "rgb(36,36,36)",
             "ticks": "outside"
            },
            "colorscale": [
             [
              0,
              "#440154"
             ],
             [
              0.1111111111111111,
              "#482878"
             ],
             [
              0.2222222222222222,
              "#3e4989"
             ],
             [
              0.3333333333333333,
              "#31688e"
             ],
             [
              0.4444444444444444,
              "#26828e"
             ],
             [
              0.5555555555555556,
              "#1f9e89"
             ],
             [
              0.6666666666666666,
              "#35b779"
             ],
             [
              0.7777777777777778,
              "#6ece58"
             ],
             [
              0.8888888888888888,
              "#b5de2b"
             ],
             [
              1,
              "#fde725"
             ]
            ],
            "type": "histogram2dcontour"
           }
          ],
          "mesh3d": [
           {
            "colorbar": {
             "outlinewidth": 1,
             "tickcolor": "rgb(36,36,36)",
             "ticks": "outside"
            },
            "type": "mesh3d"
           }
          ],
          "parcoords": [
           {
            "line": {
             "colorbar": {
              "outlinewidth": 1,
              "tickcolor": "rgb(36,36,36)",
              "ticks": "outside"
             }
            },
            "type": "parcoords"
           }
          ],
          "pie": [
           {
            "automargin": true,
            "type": "pie"
           }
          ],
          "scatter": [
           {
            "fillpattern": {
             "fillmode": "overlay",
             "size": 10,
             "solidity": 0.2
            },
            "type": "scatter"
           }
          ],
          "scatter3d": [
           {
            "line": {
             "colorbar": {
              "outlinewidth": 1,
              "tickcolor": "rgb(36,36,36)",
              "ticks": "outside"
             }
            },
            "marker": {
             "colorbar": {
              "outlinewidth": 1,
              "tickcolor": "rgb(36,36,36)",
              "ticks": "outside"
             }
            },
            "type": "scatter3d"
           }
          ],
          "scattercarpet": [
           {
            "marker": {
             "colorbar": {
              "outlinewidth": 1,
              "tickcolor": "rgb(36,36,36)",
              "ticks": "outside"
             }
            },
            "type": "scattercarpet"
           }
          ],
          "scattergeo": [
           {
            "marker": {
             "colorbar": {
              "outlinewidth": 1,
              "tickcolor": "rgb(36,36,36)",
              "ticks": "outside"
             }
            },
            "type": "scattergeo"
           }
          ],
          "scattergl": [
           {
            "marker": {
             "colorbar": {
              "outlinewidth": 1,
              "tickcolor": "rgb(36,36,36)",
              "ticks": "outside"
             }
            },
            "type": "scattergl"
           }
          ],
          "scattermapbox": [
           {
            "marker": {
             "colorbar": {
              "outlinewidth": 1,
              "tickcolor": "rgb(36,36,36)",
              "ticks": "outside"
             }
            },
            "type": "scattermapbox"
           }
          ],
          "scatterpolar": [
           {
            "marker": {
             "colorbar": {
              "outlinewidth": 1,
              "tickcolor": "rgb(36,36,36)",
              "ticks": "outside"
             }
            },
            "type": "scatterpolar"
           }
          ],
          "scatterpolargl": [
           {
            "marker": {
             "colorbar": {
              "outlinewidth": 1,
              "tickcolor": "rgb(36,36,36)",
              "ticks": "outside"
             }
            },
            "type": "scatterpolargl"
           }
          ],
          "scatterternary": [
           {
            "marker": {
             "colorbar": {
              "outlinewidth": 1,
              "tickcolor": "rgb(36,36,36)",
              "ticks": "outside"
             }
            },
            "type": "scatterternary"
           }
          ],
          "surface": [
           {
            "colorbar": {
             "outlinewidth": 1,
             "tickcolor": "rgb(36,36,36)",
             "ticks": "outside"
            },
            "colorscale": [
             [
              0,
              "#440154"
             ],
             [
              0.1111111111111111,
              "#482878"
             ],
             [
              0.2222222222222222,
              "#3e4989"
             ],
             [
              0.3333333333333333,
              "#31688e"
             ],
             [
              0.4444444444444444,
              "#26828e"
             ],
             [
              0.5555555555555556,
              "#1f9e89"
             ],
             [
              0.6666666666666666,
              "#35b779"
             ],
             [
              0.7777777777777778,
              "#6ece58"
             ],
             [
              0.8888888888888888,
              "#b5de2b"
             ],
             [
              1,
              "#fde725"
             ]
            ],
            "type": "surface"
           }
          ],
          "table": [
           {
            "cells": {
             "fill": {
              "color": "rgb(237,237,237)"
             },
             "line": {
              "color": "white"
             }
            },
            "header": {
             "fill": {
              "color": "rgb(217,217,217)"
             },
             "line": {
              "color": "white"
             }
            },
            "type": "table"
           }
          ]
         },
         "layout": {
          "annotationdefaults": {
           "arrowhead": 0,
           "arrowwidth": 1
          },
          "autotypenumbers": "strict",
          "coloraxis": {
           "colorbar": {
            "outlinewidth": 1,
            "tickcolor": "rgb(36,36,36)",
            "ticks": "outside"
           }
          },
          "colorscale": {
           "diverging": [
            [
             0,
             "rgb(103,0,31)"
            ],
            [
             0.1,
             "rgb(178,24,43)"
            ],
            [
             0.2,
             "rgb(214,96,77)"
            ],
            [
             0.3,
             "rgb(244,165,130)"
            ],
            [
             0.4,
             "rgb(253,219,199)"
            ],
            [
             0.5,
             "rgb(247,247,247)"
            ],
            [
             0.6,
             "rgb(209,229,240)"
            ],
            [
             0.7,
             "rgb(146,197,222)"
            ],
            [
             0.8,
             "rgb(67,147,195)"
            ],
            [
             0.9,
             "rgb(33,102,172)"
            ],
            [
             1,
             "rgb(5,48,97)"
            ]
           ],
           "sequential": [
            [
             0,
             "#440154"
            ],
            [
             0.1111111111111111,
             "#482878"
            ],
            [
             0.2222222222222222,
             "#3e4989"
            ],
            [
             0.3333333333333333,
             "#31688e"
            ],
            [
             0.4444444444444444,
             "#26828e"
            ],
            [
             0.5555555555555556,
             "#1f9e89"
            ],
            [
             0.6666666666666666,
             "#35b779"
            ],
            [
             0.7777777777777778,
             "#6ece58"
            ],
            [
             0.8888888888888888,
             "#b5de2b"
            ],
            [
             1,
             "#fde725"
            ]
           ],
           "sequentialminus": [
            [
             0,
             "#440154"
            ],
            [
             0.1111111111111111,
             "#482878"
            ],
            [
             0.2222222222222222,
             "#3e4989"
            ],
            [
             0.3333333333333333,
             "#31688e"
            ],
            [
             0.4444444444444444,
             "#26828e"
            ],
            [
             0.5555555555555556,
             "#1f9e89"
            ],
            [
             0.6666666666666666,
             "#35b779"
            ],
            [
             0.7777777777777778,
             "#6ece58"
            ],
            [
             0.8888888888888888,
             "#b5de2b"
            ],
            [
             1,
             "#fde725"
            ]
           ]
          },
          "colorway": [
           "#1F77B4",
           "#FF7F0E",
           "#2CA02C",
           "#D62728",
           "#9467BD",
           "#8C564B",
           "#E377C2",
           "#7F7F7F",
           "#BCBD22",
           "#17BECF"
          ],
          "font": {
           "color": "rgb(36,36,36)"
          },
          "geo": {
           "bgcolor": "white",
           "lakecolor": "white",
           "landcolor": "white",
           "showlakes": true,
           "showland": true,
           "subunitcolor": "white"
          },
          "hoverlabel": {
           "align": "left"
          },
          "hovermode": "closest",
          "mapbox": {
           "style": "light"
          },
          "paper_bgcolor": "white",
          "plot_bgcolor": "white",
          "polar": {
           "angularaxis": {
            "gridcolor": "rgb(232,232,232)",
            "linecolor": "rgb(36,36,36)",
            "showgrid": false,
            "showline": true,
            "ticks": "outside"
           },
           "bgcolor": "white",
           "radialaxis": {
            "gridcolor": "rgb(232,232,232)",
            "linecolor": "rgb(36,36,36)",
            "showgrid": false,
            "showline": true,
            "ticks": "outside"
           }
          },
          "scene": {
           "xaxis": {
            "backgroundcolor": "white",
            "gridcolor": "rgb(232,232,232)",
            "gridwidth": 2,
            "linecolor": "rgb(36,36,36)",
            "showbackground": true,
            "showgrid": false,
            "showline": true,
            "ticks": "outside",
            "zeroline": false,
            "zerolinecolor": "rgb(36,36,36)"
           },
           "yaxis": {
            "backgroundcolor": "white",
            "gridcolor": "rgb(232,232,232)",
            "gridwidth": 2,
            "linecolor": "rgb(36,36,36)",
            "showbackground": true,
            "showgrid": false,
            "showline": true,
            "ticks": "outside",
            "zeroline": false,
            "zerolinecolor": "rgb(36,36,36)"
           },
           "zaxis": {
            "backgroundcolor": "white",
            "gridcolor": "rgb(232,232,232)",
            "gridwidth": 2,
            "linecolor": "rgb(36,36,36)",
            "showbackground": true,
            "showgrid": false,
            "showline": true,
            "ticks": "outside",
            "zeroline": false,
            "zerolinecolor": "rgb(36,36,36)"
           }
          },
          "shapedefaults": {
           "fillcolor": "black",
           "line": {
            "width": 0
           },
           "opacity": 0.3
          },
          "ternary": {
           "aaxis": {
            "gridcolor": "rgb(232,232,232)",
            "linecolor": "rgb(36,36,36)",
            "showgrid": false,
            "showline": true,
            "ticks": "outside"
           },
           "baxis": {
            "gridcolor": "rgb(232,232,232)",
            "linecolor": "rgb(36,36,36)",
            "showgrid": false,
            "showline": true,
            "ticks": "outside"
           },
           "bgcolor": "white",
           "caxis": {
            "gridcolor": "rgb(232,232,232)",
            "linecolor": "rgb(36,36,36)",
            "showgrid": false,
            "showline": true,
            "ticks": "outside"
           }
          },
          "title": {
           "x": 0.05
          },
          "xaxis": {
           "automargin": true,
           "gridcolor": "rgb(232,232,232)",
           "linecolor": "rgb(36,36,36)",
           "showgrid": false,
           "showline": true,
           "ticks": "outside",
           "title": {
            "standoff": 15
           },
           "zeroline": false,
           "zerolinecolor": "rgb(36,36,36)"
          },
          "yaxis": {
           "automargin": true,
           "gridcolor": "rgb(232,232,232)",
           "linecolor": "rgb(36,36,36)",
           "showgrid": false,
           "showline": true,
           "ticks": "outside",
           "title": {
            "standoff": 15
           },
           "zeroline": false,
           "zerolinecolor": "rgb(36,36,36)"
          }
         }
        },
        "title": {
         "font": {
          "color": "Black",
          "size": 22
         },
         "text": "<b>Intertopic Distance Map</b>",
         "x": 0.5,
         "xanchor": "center",
         "y": 0.95,
         "yanchor": "top"
        },
        "width": 650,
        "xaxis": {
         "anchor": "y",
         "domain": [
          0,
          1
         ],
         "range": [
          4.528059959411621,
          10.231162118911744
         ],
         "title": {
          "text": ""
         },
         "visible": false
        },
        "yaxis": {
         "anchor": "x",
         "domain": [
          0,
          1
         ],
         "range": [
          -7.234356498718261,
          10.556114196777344
         ],
         "title": {
          "text": ""
         },
         "visible": false
        }
       }
      }
     },
     "metadata": {},
     "output_type": "display_data"
    }
   ],
   "source": [
    "topic_model.visualize_topics()"
   ]
  },
  {
   "cell_type": "code",
   "execution_count": 26,
   "metadata": {},
   "outputs": [
    {
     "data": {
      "application/vnd.plotly.v1+json": {
       "config": {
        "plotlyServerURL": "https://plot.ly"
       },
       "data": [
        {
         "coloraxis": "coloraxis",
         "hovertemplate": "x: %{x}<br>y: %{y}<br>Similarity Score: %{z}<extra></extra>",
         "name": "0",
         "type": "heatmap",
         "x": [
          "0_realdonaldtrump_trump_great",
          "1_golf_trump_course",
          "2_border_wall_mexico",
          "3_korea_north_great",
          "4_china_us_trade",
          "5_iran_syria_isis",
          "6_entrepreneurs_think_keep",
          "7_yankees_nfl_wwe",
          "8_fed_reserve_interest",
          "9_wind_turbines_warming",
          "10_winston_churchill_military",
          "11_vanityfair_graydon_carter",
          "12_venezuela_drug_prescript...",
          "13_mittromney_ricksantorum_...",
          "14_autism_autismspeaks_vacc...",
          "15_tmobile_screen_iphone",
          "16_lordsugar_sugar_dopey",
          "17_lamestream_media_rallies",
          "18_oann_foxnews_"
         ],
         "xaxis": "x",
         "y": [
          "0_realdonaldtrump_trump_great",
          "1_golf_trump_course",
          "2_border_wall_mexico",
          "3_korea_north_great",
          "4_china_us_trade",
          "5_iran_syria_isis",
          "6_entrepreneurs_think_keep",
          "7_yankees_nfl_wwe",
          "8_fed_reserve_interest",
          "9_wind_turbines_warming",
          "10_winston_churchill_military",
          "11_vanityfair_graydon_carter",
          "12_venezuela_drug_prescript...",
          "13_mittromney_ricksantorum_...",
          "14_autism_autismspeaks_vacc...",
          "15_tmobile_screen_iphone",
          "16_lordsugar_sugar_dopey",
          "17_lamestream_media_rallies",
          "18_oann_foxnews_"
         ],
         "yaxis": "y",
         "z": [
          [
           0.9999999999999994,
           0.6193899026967999,
           0.7042438440760819,
           0.6956848167216134,
           0.6481049182448188,
           0.6011588008829549,
           0.4840120827202641,
           0.6356643906990587,
           0.6240403228241727,
           0.4357586991800902,
           0.506506343780303,
           0.5218619742780191,
           0.4954939134495965,
           0.5243291597824988,
           0.47310757213959026,
           0.43486488490781927,
           0.40829476579313695,
           0.5887663609570999,
           0.15873041365456383
          ],
          [
           0.6193899026967999,
           1.0000000000000004,
           0.41441842566792064,
           0.6177348507519729,
           0.38749594572327817,
           0.2638599599820494,
           0.3993659581807586,
           0.5547413780670665,
           0.42226823777811656,
           0.39146940646553563,
           0.2937248855176198,
           0.3626041741825807,
           0.29724909111243447,
           0.4804152413726981,
           0.2621882736847991,
           0.33405570228429077,
           0.3673794147691246,
           0.26339646462977884,
           -0.002089378128190232
          ],
          [
           0.7042438440760819,
           0.41441842566792064,
           1,
           0.6319000105549322,
           0.6720209663120691,
           0.6369491659313822,
           0.3918939455698295,
           0.41757868561290246,
           0.5526096182182024,
           0.4377551300924344,
           0.4780449646717583,
           0.3025422969176631,
           0.6462573687457804,
           0.33266032872372087,
           0.43670950691457894,
           0.3601756500402935,
           0.20535584659534348,
           0.5048403951759342,
           0.14337837683351973
          ],
          [
           0.6956848167216134,
           0.6177348507519729,
           0.6319000105549322,
           1.0000000000000002,
           0.5705912679992418,
           0.5660525788279842,
           0.4183274794219163,
           0.5527920891792044,
           0.4419194055727373,
           0.3617520426516093,
           0.5933841214865995,
           0.3589451538871079,
           0.4887737987840442,
           0.46875653930506633,
           0.3648896971886002,
           0.2740129543783946,
           0.3181218989421356,
           0.4207563682297192,
           0.15064323808944685
          ],
          [
           0.6481049182448188,
           0.38749594572327817,
           0.6720209663120691,
           0.5705912679992418,
           1,
           0.6032406210488213,
           0.5335571315486416,
           0.3908015889803845,
           0.7501998467113511,
           0.437955594890201,
           0.4489146724951904,
           0.31293018294920316,
           0.6158212973309662,
           0.32374340912940813,
           0.2727747698954204,
           0.3884659400771711,
           0.23023653582312903,
           0.4044888281289645,
           0.14395095957479162
          ],
          [
           0.6011588008829549,
           0.2638599599820494,
           0.6369491659313822,
           0.5660525788279842,
           0.6032406210488213,
           0.9999999999999999,
           0.317355902261407,
           0.31957277840602194,
           0.42873361904216967,
           0.3440693304203981,
           0.5796389039937395,
           0.25082832151192813,
           0.5295989803559255,
           0.22950764218064304,
           0.27723058120949784,
           0.2439205435950203,
           0.16283906747024351,
           0.4575391618770004,
           0.3660214256294485
          ],
          [
           0.4840120827202641,
           0.3993659581807586,
           0.3918939455698295,
           0.4183274794219163,
           0.5335571315486416,
           0.317355902261407,
           1.0000000000000004,
           0.41118414224526445,
           0.5733234506012617,
           0.34066095146922337,
           0.45859862916593186,
           0.403458440008104,
           0.33195475923309636,
           0.3297303794062068,
           0.3012743963951646,
           0.3477459977468701,
           0.3538811366136974,
           0.34467756792600596,
           0.21682403871918782
          ],
          [
           0.6356643906990587,
           0.5547413780670665,
           0.41757868561290246,
           0.5527920891792044,
           0.3908015889803845,
           0.31957277840602194,
           0.41118414224526445,
           0.9999999999999991,
           0.4396534694785685,
           0.3062270784065115,
           0.39648796304087675,
           0.3990545975866566,
           0.3231113074214258,
           0.47631973415643075,
           0.2666031887226968,
           0.3571002166481601,
           0.39809616916356905,
           0.3804577565969885,
           0.0699703136475927
          ],
          [
           0.6240403228241727,
           0.42226823777811656,
           0.5526096182182024,
           0.4419194055727373,
           0.7501998467113511,
           0.42873361904216967,
           0.5733234506012617,
           0.4396534694785685,
           0.9999999999999998,
           0.43085292775048023,
           0.35067518599054437,
           0.41748773984055343,
           0.49734221856835015,
           0.3955250493650078,
           0.3018273525574663,
           0.36888149803455106,
           0.38705585371478113,
           0.42205898916116663,
           0.09790977870588104
          ],
          [
           0.4357586991800902,
           0.39146940646553563,
           0.4377551300924344,
           0.3617520426516093,
           0.437955594890201,
           0.3440693304203981,
           0.34066095146922337,
           0.3062270784065115,
           0.43085292775048023,
           1,
           0.3367072634461089,
           0.28395492892952195,
           0.2235006242778228,
           0.3064564652598013,
           0.28258055596299814,
           0.18601182442486208,
           0.2985991279602763,
           0.35181340273067463,
           0.13817087207319165
          ],
          [
           0.506506343780303,
           0.2937248855176198,
           0.4780449646717583,
           0.5933841214865995,
           0.4489146724951904,
           0.5796389039937395,
           0.45859862916593186,
           0.39648796304087675,
           0.35067518599054437,
           0.3367072634461089,
           0.9999999999999996,
           0.34124189330754506,
           0.3128128654567053,
           0.33103807013198255,
           0.2761958519705867,
           0.19128122050522794,
           0.2426481700740618,
           0.3908040044904754,
           0.25933383768924817
          ],
          [
           0.5218619742780191,
           0.3626041741825807,
           0.3025422969176631,
           0.3589451538871079,
           0.31293018294920316,
           0.25082832151192813,
           0.403458440008104,
           0.3990545975866566,
           0.41748773984055343,
           0.28395492892952195,
           0.34124189330754506,
           1,
           0.2777733214670685,
           0.33947194645970813,
           0.2734585043746738,
           0.28849337378846074,
           0.3904766313298922,
           0.37769184260907435,
           0.07026695507470646
          ],
          [
           0.4954939134495965,
           0.29724909111243447,
           0.6462573687457804,
           0.4887737987840442,
           0.6158212973309662,
           0.5295989803559255,
           0.33195475923309636,
           0.3231113074214258,
           0.49734221856835015,
           0.2235006242778228,
           0.3128128654567053,
           0.2777733214670685,
           1.0000000000000004,
           0.2261028483287955,
           0.31409042550546973,
           0.3242722792582582,
           0.2376930709001975,
           0.33399274020090874,
           0.08670821852010566
          ],
          [
           0.5243291597824988,
           0.4804152413726981,
           0.33266032872372087,
           0.46875653930506633,
           0.32374340912940813,
           0.22950764218064304,
           0.3297303794062068,
           0.47631973415643075,
           0.3955250493650078,
           0.3064564652598013,
           0.33103807013198255,
           0.33947194645970813,
           0.2261028483287955,
           1,
           0.2698821248693641,
           0.2848949344462084,
           0.3211804105303656,
           0.28509137117291355,
           0.03304911279466997
          ],
          [
           0.47310757213959026,
           0.2621882736847991,
           0.43670950691457894,
           0.3648896971886002,
           0.2727747698954204,
           0.27723058120949784,
           0.3012743963951646,
           0.2666031887226968,
           0.3018273525574663,
           0.28258055596299814,
           0.2761958519705867,
           0.2734585043746738,
           0.31409042550546973,
           0.2698821248693641,
           1.0000000000000004,
           0.2627033004100646,
           0.20013582754639608,
           0.27666079726661796,
           0.10142284984597635
          ],
          [
           0.43486488490781927,
           0.33405570228429077,
           0.3601756500402935,
           0.2740129543783946,
           0.3884659400771711,
           0.2439205435950203,
           0.3477459977468701,
           0.3571002166481601,
           0.36888149803455106,
           0.18601182442486208,
           0.19128122050522794,
           0.28849337378846074,
           0.3242722792582582,
           0.2848949344462084,
           0.2627033004100646,
           1.0000000000000002,
           0.2570153540417225,
           0.3533974665610984,
           0.0697924003232013
          ],
          [
           0.40829476579313695,
           0.3673794147691246,
           0.20535584659534348,
           0.3181218989421356,
           0.23023653582312903,
           0.16283906747024351,
           0.3538811366136974,
           0.39809616916356905,
           0.38705585371478113,
           0.2985991279602763,
           0.2426481700740618,
           0.3904766313298922,
           0.2376930709001975,
           0.3211804105303656,
           0.20013582754639608,
           0.2570153540417225,
           1.0000000000000009,
           0.2719930893131718,
           0.15853871133997743
          ],
          [
           0.5887663609570999,
           0.26339646462977884,
           0.5048403951759342,
           0.4207563682297192,
           0.4044888281289645,
           0.4575391618770004,
           0.34467756792600596,
           0.3804577565969885,
           0.42205898916116663,
           0.35181340273067463,
           0.3908040044904754,
           0.37769184260907435,
           0.33399274020090874,
           0.28509137117291355,
           0.27666079726661796,
           0.3533974665610984,
           0.2719930893131718,
           1.0000000000000002,
           0.08986019264923789
          ],
          [
           0.15873041365456383,
           -0.002089378128190232,
           0.14337837683351973,
           0.15064323808944685,
           0.14395095957479162,
           0.3660214256294485,
           0.21682403871918782,
           0.0699703136475927,
           0.09790977870588104,
           0.13817087207319165,
           0.25933383768924817,
           0.07026695507470646,
           0.08670821852010566,
           0.03304911279466997,
           0.10142284984597635,
           0.0697924003232013,
           0.15853871133997743,
           0.08986019264923789,
           1.0000000000000004
          ]
         ]
        }
       ],
       "layout": {
        "coloraxis": {
         "colorbar": {
          "title": {
           "text": "Similarity Score"
          }
         },
         "colorscale": [
          [
           0,
           "rgb(247,252,240)"
          ],
          [
           0.125,
           "rgb(224,243,219)"
          ],
          [
           0.25,
           "rgb(204,235,197)"
          ],
          [
           0.375,
           "rgb(168,221,181)"
          ],
          [
           0.5,
           "rgb(123,204,196)"
          ],
          [
           0.625,
           "rgb(78,179,211)"
          ],
          [
           0.75,
           "rgb(43,140,190)"
          ],
          [
           0.875,
           "rgb(8,104,172)"
          ],
          [
           1,
           "rgb(8,64,129)"
          ]
         ]
        },
        "height": 800,
        "hoverlabel": {
         "bgcolor": "white",
         "font": {
          "family": "Rockwell",
          "size": 16
         }
        },
        "legend": {
         "title": {
          "text": "Trend"
         }
        },
        "margin": {
         "t": 60
        },
        "showlegend": true,
        "template": {
         "data": {
          "bar": [
           {
            "error_x": {
             "color": "#2a3f5f"
            },
            "error_y": {
             "color": "#2a3f5f"
            },
            "marker": {
             "line": {
              "color": "#E5ECF6",
              "width": 0.5
             },
             "pattern": {
              "fillmode": "overlay",
              "size": 10,
              "solidity": 0.2
             }
            },
            "type": "bar"
           }
          ],
          "barpolar": [
           {
            "marker": {
             "line": {
              "color": "#E5ECF6",
              "width": 0.5
             },
             "pattern": {
              "fillmode": "overlay",
              "size": 10,
              "solidity": 0.2
             }
            },
            "type": "barpolar"
           }
          ],
          "carpet": [
           {
            "aaxis": {
             "endlinecolor": "#2a3f5f",
             "gridcolor": "white",
             "linecolor": "white",
             "minorgridcolor": "white",
             "startlinecolor": "#2a3f5f"
            },
            "baxis": {
             "endlinecolor": "#2a3f5f",
             "gridcolor": "white",
             "linecolor": "white",
             "minorgridcolor": "white",
             "startlinecolor": "#2a3f5f"
            },
            "type": "carpet"
           }
          ],
          "choropleth": [
           {
            "colorbar": {
             "outlinewidth": 0,
             "ticks": ""
            },
            "type": "choropleth"
           }
          ],
          "contour": [
           {
            "colorbar": {
             "outlinewidth": 0,
             "ticks": ""
            },
            "colorscale": [
             [
              0,
              "#0d0887"
             ],
             [
              0.1111111111111111,
              "#46039f"
             ],
             [
              0.2222222222222222,
              "#7201a8"
             ],
             [
              0.3333333333333333,
              "#9c179e"
             ],
             [
              0.4444444444444444,
              "#bd3786"
             ],
             [
              0.5555555555555556,
              "#d8576b"
             ],
             [
              0.6666666666666666,
              "#ed7953"
             ],
             [
              0.7777777777777778,
              "#fb9f3a"
             ],
             [
              0.8888888888888888,
              "#fdca26"
             ],
             [
              1,
              "#f0f921"
             ]
            ],
            "type": "contour"
           }
          ],
          "contourcarpet": [
           {
            "colorbar": {
             "outlinewidth": 0,
             "ticks": ""
            },
            "type": "contourcarpet"
           }
          ],
          "heatmap": [
           {
            "colorbar": {
             "outlinewidth": 0,
             "ticks": ""
            },
            "colorscale": [
             [
              0,
              "#0d0887"
             ],
             [
              0.1111111111111111,
              "#46039f"
             ],
             [
              0.2222222222222222,
              "#7201a8"
             ],
             [
              0.3333333333333333,
              "#9c179e"
             ],
             [
              0.4444444444444444,
              "#bd3786"
             ],
             [
              0.5555555555555556,
              "#d8576b"
             ],
             [
              0.6666666666666666,
              "#ed7953"
             ],
             [
              0.7777777777777778,
              "#fb9f3a"
             ],
             [
              0.8888888888888888,
              "#fdca26"
             ],
             [
              1,
              "#f0f921"
             ]
            ],
            "type": "heatmap"
           }
          ],
          "heatmapgl": [
           {
            "colorbar": {
             "outlinewidth": 0,
             "ticks": ""
            },
            "colorscale": [
             [
              0,
              "#0d0887"
             ],
             [
              0.1111111111111111,
              "#46039f"
             ],
             [
              0.2222222222222222,
              "#7201a8"
             ],
             [
              0.3333333333333333,
              "#9c179e"
             ],
             [
              0.4444444444444444,
              "#bd3786"
             ],
             [
              0.5555555555555556,
              "#d8576b"
             ],
             [
              0.6666666666666666,
              "#ed7953"
             ],
             [
              0.7777777777777778,
              "#fb9f3a"
             ],
             [
              0.8888888888888888,
              "#fdca26"
             ],
             [
              1,
              "#f0f921"
             ]
            ],
            "type": "heatmapgl"
           }
          ],
          "histogram": [
           {
            "marker": {
             "pattern": {
              "fillmode": "overlay",
              "size": 10,
              "solidity": 0.2
             }
            },
            "type": "histogram"
           }
          ],
          "histogram2d": [
           {
            "colorbar": {
             "outlinewidth": 0,
             "ticks": ""
            },
            "colorscale": [
             [
              0,
              "#0d0887"
             ],
             [
              0.1111111111111111,
              "#46039f"
             ],
             [
              0.2222222222222222,
              "#7201a8"
             ],
             [
              0.3333333333333333,
              "#9c179e"
             ],
             [
              0.4444444444444444,
              "#bd3786"
             ],
             [
              0.5555555555555556,
              "#d8576b"
             ],
             [
              0.6666666666666666,
              "#ed7953"
             ],
             [
              0.7777777777777778,
              "#fb9f3a"
             ],
             [
              0.8888888888888888,
              "#fdca26"
             ],
             [
              1,
              "#f0f921"
             ]
            ],
            "type": "histogram2d"
           }
          ],
          "histogram2dcontour": [
           {
            "colorbar": {
             "outlinewidth": 0,
             "ticks": ""
            },
            "colorscale": [
             [
              0,
              "#0d0887"
             ],
             [
              0.1111111111111111,
              "#46039f"
             ],
             [
              0.2222222222222222,
              "#7201a8"
             ],
             [
              0.3333333333333333,
              "#9c179e"
             ],
             [
              0.4444444444444444,
              "#bd3786"
             ],
             [
              0.5555555555555556,
              "#d8576b"
             ],
             [
              0.6666666666666666,
              "#ed7953"
             ],
             [
              0.7777777777777778,
              "#fb9f3a"
             ],
             [
              0.8888888888888888,
              "#fdca26"
             ],
             [
              1,
              "#f0f921"
             ]
            ],
            "type": "histogram2dcontour"
           }
          ],
          "mesh3d": [
           {
            "colorbar": {
             "outlinewidth": 0,
             "ticks": ""
            },
            "type": "mesh3d"
           }
          ],
          "parcoords": [
           {
            "line": {
             "colorbar": {
              "outlinewidth": 0,
              "ticks": ""
             }
            },
            "type": "parcoords"
           }
          ],
          "pie": [
           {
            "automargin": true,
            "type": "pie"
           }
          ],
          "scatter": [
           {
            "fillpattern": {
             "fillmode": "overlay",
             "size": 10,
             "solidity": 0.2
            },
            "type": "scatter"
           }
          ],
          "scatter3d": [
           {
            "line": {
             "colorbar": {
              "outlinewidth": 0,
              "ticks": ""
             }
            },
            "marker": {
             "colorbar": {
              "outlinewidth": 0,
              "ticks": ""
             }
            },
            "type": "scatter3d"
           }
          ],
          "scattercarpet": [
           {
            "marker": {
             "colorbar": {
              "outlinewidth": 0,
              "ticks": ""
             }
            },
            "type": "scattercarpet"
           }
          ],
          "scattergeo": [
           {
            "marker": {
             "colorbar": {
              "outlinewidth": 0,
              "ticks": ""
             }
            },
            "type": "scattergeo"
           }
          ],
          "scattergl": [
           {
            "marker": {
             "colorbar": {
              "outlinewidth": 0,
              "ticks": ""
             }
            },
            "type": "scattergl"
           }
          ],
          "scattermapbox": [
           {
            "marker": {
             "colorbar": {
              "outlinewidth": 0,
              "ticks": ""
             }
            },
            "type": "scattermapbox"
           }
          ],
          "scatterpolar": [
           {
            "marker": {
             "colorbar": {
              "outlinewidth": 0,
              "ticks": ""
             }
            },
            "type": "scatterpolar"
           }
          ],
          "scatterpolargl": [
           {
            "marker": {
             "colorbar": {
              "outlinewidth": 0,
              "ticks": ""
             }
            },
            "type": "scatterpolargl"
           }
          ],
          "scatterternary": [
           {
            "marker": {
             "colorbar": {
              "outlinewidth": 0,
              "ticks": ""
             }
            },
            "type": "scatterternary"
           }
          ],
          "surface": [
           {
            "colorbar": {
             "outlinewidth": 0,
             "ticks": ""
            },
            "colorscale": [
             [
              0,
              "#0d0887"
             ],
             [
              0.1111111111111111,
              "#46039f"
             ],
             [
              0.2222222222222222,
              "#7201a8"
             ],
             [
              0.3333333333333333,
              "#9c179e"
             ],
             [
              0.4444444444444444,
              "#bd3786"
             ],
             [
              0.5555555555555556,
              "#d8576b"
             ],
             [
              0.6666666666666666,
              "#ed7953"
             ],
             [
              0.7777777777777778,
              "#fb9f3a"
             ],
             [
              0.8888888888888888,
              "#fdca26"
             ],
             [
              1,
              "#f0f921"
             ]
            ],
            "type": "surface"
           }
          ],
          "table": [
           {
            "cells": {
             "fill": {
              "color": "#EBF0F8"
             },
             "line": {
              "color": "white"
             }
            },
            "header": {
             "fill": {
              "color": "#C8D4E3"
             },
             "line": {
              "color": "white"
             }
            },
            "type": "table"
           }
          ]
         },
         "layout": {
          "annotationdefaults": {
           "arrowcolor": "#2a3f5f",
           "arrowhead": 0,
           "arrowwidth": 1
          },
          "autotypenumbers": "strict",
          "coloraxis": {
           "colorbar": {
            "outlinewidth": 0,
            "ticks": ""
           }
          },
          "colorscale": {
           "diverging": [
            [
             0,
             "#8e0152"
            ],
            [
             0.1,
             "#c51b7d"
            ],
            [
             0.2,
             "#de77ae"
            ],
            [
             0.3,
             "#f1b6da"
            ],
            [
             0.4,
             "#fde0ef"
            ],
            [
             0.5,
             "#f7f7f7"
            ],
            [
             0.6,
             "#e6f5d0"
            ],
            [
             0.7,
             "#b8e186"
            ],
            [
             0.8,
             "#7fbc41"
            ],
            [
             0.9,
             "#4d9221"
            ],
            [
             1,
             "#276419"
            ]
           ],
           "sequential": [
            [
             0,
             "#0d0887"
            ],
            [
             0.1111111111111111,
             "#46039f"
            ],
            [
             0.2222222222222222,
             "#7201a8"
            ],
            [
             0.3333333333333333,
             "#9c179e"
            ],
            [
             0.4444444444444444,
             "#bd3786"
            ],
            [
             0.5555555555555556,
             "#d8576b"
            ],
            [
             0.6666666666666666,
             "#ed7953"
            ],
            [
             0.7777777777777778,
             "#fb9f3a"
            ],
            [
             0.8888888888888888,
             "#fdca26"
            ],
            [
             1,
             "#f0f921"
            ]
           ],
           "sequentialminus": [
            [
             0,
             "#0d0887"
            ],
            [
             0.1111111111111111,
             "#46039f"
            ],
            [
             0.2222222222222222,
             "#7201a8"
            ],
            [
             0.3333333333333333,
             "#9c179e"
            ],
            [
             0.4444444444444444,
             "#bd3786"
            ],
            [
             0.5555555555555556,
             "#d8576b"
            ],
            [
             0.6666666666666666,
             "#ed7953"
            ],
            [
             0.7777777777777778,
             "#fb9f3a"
            ],
            [
             0.8888888888888888,
             "#fdca26"
            ],
            [
             1,
             "#f0f921"
            ]
           ]
          },
          "colorway": [
           "#636efa",
           "#EF553B",
           "#00cc96",
           "#ab63fa",
           "#FFA15A",
           "#19d3f3",
           "#FF6692",
           "#B6E880",
           "#FF97FF",
           "#FECB52"
          ],
          "font": {
           "color": "#2a3f5f"
          },
          "geo": {
           "bgcolor": "white",
           "lakecolor": "white",
           "landcolor": "#E5ECF6",
           "showlakes": true,
           "showland": true,
           "subunitcolor": "white"
          },
          "hoverlabel": {
           "align": "left"
          },
          "hovermode": "closest",
          "mapbox": {
           "style": "light"
          },
          "paper_bgcolor": "white",
          "plot_bgcolor": "#E5ECF6",
          "polar": {
           "angularaxis": {
            "gridcolor": "white",
            "linecolor": "white",
            "ticks": ""
           },
           "bgcolor": "#E5ECF6",
           "radialaxis": {
            "gridcolor": "white",
            "linecolor": "white",
            "ticks": ""
           }
          },
          "scene": {
           "xaxis": {
            "backgroundcolor": "#E5ECF6",
            "gridcolor": "white",
            "gridwidth": 2,
            "linecolor": "white",
            "showbackground": true,
            "ticks": "",
            "zerolinecolor": "white"
           },
           "yaxis": {
            "backgroundcolor": "#E5ECF6",
            "gridcolor": "white",
            "gridwidth": 2,
            "linecolor": "white",
            "showbackground": true,
            "ticks": "",
            "zerolinecolor": "white"
           },
           "zaxis": {
            "backgroundcolor": "#E5ECF6",
            "gridcolor": "white",
            "gridwidth": 2,
            "linecolor": "white",
            "showbackground": true,
            "ticks": "",
            "zerolinecolor": "white"
           }
          },
          "shapedefaults": {
           "line": {
            "color": "#2a3f5f"
           }
          },
          "ternary": {
           "aaxis": {
            "gridcolor": "white",
            "linecolor": "white",
            "ticks": ""
           },
           "baxis": {
            "gridcolor": "white",
            "linecolor": "white",
            "ticks": ""
           },
           "bgcolor": "#E5ECF6",
           "caxis": {
            "gridcolor": "white",
            "linecolor": "white",
            "ticks": ""
           }
          },
          "title": {
           "x": 0.05
          },
          "xaxis": {
           "automargin": true,
           "gridcolor": "white",
           "linecolor": "white",
           "ticks": "",
           "title": {
            "standoff": 15
           },
           "zerolinecolor": "white",
           "zerolinewidth": 2
          },
          "yaxis": {
           "automargin": true,
           "gridcolor": "white",
           "linecolor": "white",
           "ticks": "",
           "title": {
            "standoff": 15
           },
           "zerolinecolor": "white",
           "zerolinewidth": 2
          }
         }
        },
        "title": {
         "font": {
          "color": "Black",
          "size": 22
         },
         "text": "<b>Similarity Matrix</b>",
         "x": 0.55,
         "xanchor": "center",
         "y": 0.95,
         "yanchor": "top"
        },
        "width": 800,
        "xaxis": {
         "anchor": "y",
         "constrain": "domain",
         "domain": [
          0,
          1
         ],
         "scaleanchor": "y"
        },
        "yaxis": {
         "anchor": "x",
         "autorange": "reversed",
         "constrain": "domain",
         "domain": [
          0,
          1
         ]
        }
       }
      }
     },
     "metadata": {},
     "output_type": "display_data"
    }
   ],
   "source": [
    "# Having generated topic embeddings, through both c-TF-IDF and embeddings, we can create a similarity matrix by simply applying cosine similarities through those topic embeddings. The result will be a matrix indicating how similar certain topics are to each other. To visualize the heatmap, run the following:\n",
    "\n",
    "topic_model.visualize_heatmap()"
   ]
  },
  {
   "cell_type": "code",
   "execution_count": 27,
   "metadata": {},
   "outputs": [
    {
     "data": {
      "text/html": [
       "<div>\n",
       "<style scoped>\n",
       "    .dataframe tbody tr th:only-of-type {\n",
       "        vertical-align: middle;\n",
       "    }\n",
       "\n",
       "    .dataframe tbody tr th {\n",
       "        vertical-align: top;\n",
       "    }\n",
       "\n",
       "    .dataframe thead th {\n",
       "        text-align: right;\n",
       "    }\n",
       "</style>\n",
       "<table border=\"1\" class=\"dataframe\">\n",
       "  <thead>\n",
       "    <tr style=\"text-align: right;\">\n",
       "      <th></th>\n",
       "      <th>Topic</th>\n",
       "      <th>Count</th>\n",
       "      <th>Name</th>\n",
       "      <th>Representation</th>\n",
       "      <th>Representative_Docs</th>\n",
       "    </tr>\n",
       "  </thead>\n",
       "  <tbody>\n",
       "    <tr>\n",
       "      <th>0</th>\n",
       "      <td>-1</td>\n",
       "      <td>14060</td>\n",
       "      <td>-1_realdonaldtrump_trump_great_president</td>\n",
       "      <td>[realdonaldtrump, trump, great, president, peo...</td>\n",
       "      <td>[Many Republican voters showed yesterday Fake ...</td>\n",
       "    </tr>\n",
       "    <tr>\n",
       "      <th>1</th>\n",
       "      <td>0</td>\n",
       "      <td>11336</td>\n",
       "      <td>0_realdonaldtrump_trump_great_president</td>\n",
       "      <td>[realdonaldtrump, trump, great, president, wou...</td>\n",
       "      <td>[nice call new President Ukraine could better ...</td>\n",
       "    </tr>\n",
       "    <tr>\n",
       "      <th>2</th>\n",
       "      <td>1</td>\n",
       "      <td>1582</td>\n",
       "      <td>1_golf_trump_course_macys</td>\n",
       "      <td>[golf, trump, course, macys, hotel, doral, sco...</td>\n",
       "      <td>[Congratulations Aberdeen Scotland great golf ...</td>\n",
       "    </tr>\n",
       "    <tr>\n",
       "      <th>3</th>\n",
       "      <td>2</td>\n",
       "      <td>1379</td>\n",
       "      <td>2_border_wall_mexico_ebola</td>\n",
       "      <td>[border, wall, mexico, ebola, people, immigrat...</td>\n",
       "      <td>[day one said going build great wall SOUTHERN ...</td>\n",
       "    </tr>\n",
       "    <tr>\n",
       "      <th>4</th>\n",
       "      <td>3</td>\n",
       "      <td>1345</td>\n",
       "      <td>3_korea_north_great_honor</td>\n",
       "      <td>[korea, north, great, honor, today, thank, joi...</td>\n",
       "      <td>[Mike Pompeo met Kim Jong Un North Korea last ...</td>\n",
       "    </tr>\n",
       "    <tr>\n",
       "      <th>5</th>\n",
       "      <td>4</td>\n",
       "      <td>1257</td>\n",
       "      <td>4_china_us_trade_jobs</td>\n",
       "      <td>[china, us, trade, jobs, tariffs, market, amer...</td>\n",
       "      <td>[many years China many countries taking advant...</td>\n",
       "    </tr>\n",
       "    <tr>\n",
       "      <th>6</th>\n",
       "      <td>5</td>\n",
       "      <td>868</td>\n",
       "      <td>5_iran_syria_isis_obama</td>\n",
       "      <td>[iran, syria, isis, obama, iraq, us, israel, d...</td>\n",
       "      <td>[saying MANY years phony negotiate US nuclear ...</td>\n",
       "    </tr>\n",
       "    <tr>\n",
       "      <th>7</th>\n",
       "      <td>6</td>\n",
       "      <td>780</td>\n",
       "      <td>6_entrepreneurs_think_keep_focus</td>\n",
       "      <td>[entrepreneurs, think, keep, focus, big, succe...</td>\n",
       "      <td>[Entrepreneurs Look solution problem Learn foc...</td>\n",
       "    </tr>\n",
       "    <tr>\n",
       "      <th>8</th>\n",
       "      <td>7</td>\n",
       "      <td>654</td>\n",
       "      <td>7_yankees_nfl_wwe_nflcommish</td>\n",
       "      <td>[yankees, nfl, wwe, nflcommish, arod, great, h...</td>\n",
       "      <td>[Via WWE Donald Trump announced WWE Hall Fame,...</td>\n",
       "    </tr>\n",
       "    <tr>\n",
       "      <th>9</th>\n",
       "      <td>8</td>\n",
       "      <td>389</td>\n",
       "      <td>8_fed_reserve_interest_rates</td>\n",
       "      <td>[fed, reserve, interest, rates, debt, federal,...</td>\n",
       "      <td>[Manufacturers held back strong Dollar propped...</td>\n",
       "    </tr>\n",
       "    <tr>\n",
       "      <th>10</th>\n",
       "      <td>9</td>\n",
       "      <td>345</td>\n",
       "      <td>9_wind_turbines_warming_global</td>\n",
       "      <td>[wind, turbines, warming, global, alexsalmond,...</td>\n",
       "      <td>[Prime Minister David_Cameron foolish giving A...</td>\n",
       "    </tr>\n",
       "    <tr>\n",
       "      <th>11</th>\n",
       "      <td>10</td>\n",
       "      <td>117</td>\n",
       "      <td>10_winston_churchill_military_vietnam</td>\n",
       "      <td>[winston, churchill, military, vietnam, blumen...</td>\n",
       "      <td>[Success final failure fatal courage continue ...</td>\n",
       "    </tr>\n",
       "    <tr>\n",
       "      <th>12</th>\n",
       "      <td>11</td>\n",
       "      <td>76</td>\n",
       "      <td>11_vanityfair_graydon_carter_magazine</td>\n",
       "      <td>[vanityfair, graydon, carter, magazine, lance,...</td>\n",
       "      <td>[Conde Nast allow dopey Graydon Carter run bad...</td>\n",
       "    </tr>\n",
       "    <tr>\n",
       "      <th>13</th>\n",
       "      <td>12</td>\n",
       "      <td>64</td>\n",
       "      <td>12_venezuela_drug_prescription_cuba</td>\n",
       "      <td>[venezuela, drug, prescription, cuba, opioid, ...</td>\n",
       "      <td>[monitoring situation Venezuela closely United...</td>\n",
       "    </tr>\n",
       "    <tr>\n",
       "      <th>14</th>\n",
       "      <td>13</td>\n",
       "      <td>59</td>\n",
       "      <td>13_mittromney_ricksantorum_cont_wisconsin</td>\n",
       "      <td>[mittromney, ricksantorum, cont, wisconsin, be...</td>\n",
       "      <td>[honored recorded robo call behalf MittRomney ...</td>\n",
       "    </tr>\n",
       "    <tr>\n",
       "      <th>15</th>\n",
       "      <td>14</td>\n",
       "      <td>55</td>\n",
       "      <td>14_autism_autismspeaks_vaccines_massive</td>\n",
       "      <td>[autism, autismspeaks, vaccines, massive, vacc...</td>\n",
       "      <td>[Lots autism vaccine response Stop massive dos...</td>\n",
       "    </tr>\n",
       "    <tr>\n",
       "      <th>16</th>\n",
       "      <td>15</td>\n",
       "      <td>38</td>\n",
       "      <td>15_tmobile_screen_iphone_apple</td>\n",
       "      <td>[tmobile, screen, iphone, apple, johnlegere, l...</td>\n",
       "      <td>[cant believe Apple isnt moving faster create ...</td>\n",
       "    </tr>\n",
       "    <tr>\n",
       "      <th>17</th>\n",
       "      <td>16</td>\n",
       "      <td>32</td>\n",
       "      <td>16_lordsugar_sugar_dopey_worth</td>\n",
       "      <td>[lordsugar, sugar, dopey, worth, show, piersmo...</td>\n",
       "      <td>[Dopey Sugar Lord_Sugar net worth doesnt even ...</td>\n",
       "    </tr>\n",
       "    <tr>\n",
       "      <th>18</th>\n",
       "      <td>17</td>\n",
       "      <td>30</td>\n",
       "      <td>17_lamestream_media_rallies_corrupt</td>\n",
       "      <td>[lamestream, media, rallies, corrupt, enemy, p...</td>\n",
       "      <td>[knew Fake went anyway Lamestream Media CORRUP...</td>\n",
       "    </tr>\n",
       "    <tr>\n",
       "      <th>19</th>\n",
       "      <td>18</td>\n",
       "      <td>13</td>\n",
       "      <td>18_oann_foxnews__</td>\n",
       "      <td>[oann, foxnews, , , , , , , , ]</td>\n",
       "      <td>[مشاور امنیت ملی امروز عنوان کرد كه تحریم ها و...</td>\n",
       "    </tr>\n",
       "  </tbody>\n",
       "</table>\n",
       "</div>"
      ],
      "text/plain": [
       "    Topic  Count                                       Name  \\\n",
       "0      -1  14060   -1_realdonaldtrump_trump_great_president   \n",
       "1       0  11336    0_realdonaldtrump_trump_great_president   \n",
       "2       1   1582                  1_golf_trump_course_macys   \n",
       "3       2   1379                 2_border_wall_mexico_ebola   \n",
       "4       3   1345                  3_korea_north_great_honor   \n",
       "5       4   1257                      4_china_us_trade_jobs   \n",
       "6       5    868                    5_iran_syria_isis_obama   \n",
       "7       6    780           6_entrepreneurs_think_keep_focus   \n",
       "8       7    654               7_yankees_nfl_wwe_nflcommish   \n",
       "9       8    389               8_fed_reserve_interest_rates   \n",
       "10      9    345             9_wind_turbines_warming_global   \n",
       "11     10    117      10_winston_churchill_military_vietnam   \n",
       "12     11     76      11_vanityfair_graydon_carter_magazine   \n",
       "13     12     64        12_venezuela_drug_prescription_cuba   \n",
       "14     13     59  13_mittromney_ricksantorum_cont_wisconsin   \n",
       "15     14     55    14_autism_autismspeaks_vaccines_massive   \n",
       "16     15     38             15_tmobile_screen_iphone_apple   \n",
       "17     16     32             16_lordsugar_sugar_dopey_worth   \n",
       "18     17     30        17_lamestream_media_rallies_corrupt   \n",
       "19     18     13                          18_oann_foxnews__   \n",
       "\n",
       "                                       Representation  \\\n",
       "0   [realdonaldtrump, trump, great, president, peo...   \n",
       "1   [realdonaldtrump, trump, great, president, wou...   \n",
       "2   [golf, trump, course, macys, hotel, doral, sco...   \n",
       "3   [border, wall, mexico, ebola, people, immigrat...   \n",
       "4   [korea, north, great, honor, today, thank, joi...   \n",
       "5   [china, us, trade, jobs, tariffs, market, amer...   \n",
       "6   [iran, syria, isis, obama, iraq, us, israel, d...   \n",
       "7   [entrepreneurs, think, keep, focus, big, succe...   \n",
       "8   [yankees, nfl, wwe, nflcommish, arod, great, h...   \n",
       "9   [fed, reserve, interest, rates, debt, federal,...   \n",
       "10  [wind, turbines, warming, global, alexsalmond,...   \n",
       "11  [winston, churchill, military, vietnam, blumen...   \n",
       "12  [vanityfair, graydon, carter, magazine, lance,...   \n",
       "13  [venezuela, drug, prescription, cuba, opioid, ...   \n",
       "14  [mittromney, ricksantorum, cont, wisconsin, be...   \n",
       "15  [autism, autismspeaks, vaccines, massive, vacc...   \n",
       "16  [tmobile, screen, iphone, apple, johnlegere, l...   \n",
       "17  [lordsugar, sugar, dopey, worth, show, piersmo...   \n",
       "18  [lamestream, media, rallies, corrupt, enemy, p...   \n",
       "19                    [oann, foxnews, , , , , , , , ]   \n",
       "\n",
       "                                  Representative_Docs  \n",
       "0   [Many Republican voters showed yesterday Fake ...  \n",
       "1   [nice call new President Ukraine could better ...  \n",
       "2   [Congratulations Aberdeen Scotland great golf ...  \n",
       "3   [day one said going build great wall SOUTHERN ...  \n",
       "4   [Mike Pompeo met Kim Jong Un North Korea last ...  \n",
       "5   [many years China many countries taking advant...  \n",
       "6   [saying MANY years phony negotiate US nuclear ...  \n",
       "7   [Entrepreneurs Look solution problem Learn foc...  \n",
       "8   [Via WWE Donald Trump announced WWE Hall Fame,...  \n",
       "9   [Manufacturers held back strong Dollar propped...  \n",
       "10  [Prime Minister David_Cameron foolish giving A...  \n",
       "11  [Success final failure fatal courage continue ...  \n",
       "12  [Conde Nast allow dopey Graydon Carter run bad...  \n",
       "13  [monitoring situation Venezuela closely United...  \n",
       "14  [honored recorded robo call behalf MittRomney ...  \n",
       "15  [Lots autism vaccine response Stop massive dos...  \n",
       "16  [cant believe Apple isnt moving faster create ...  \n",
       "17  [Dopey Sugar Lord_Sugar net worth doesnt even ...  \n",
       "18  [knew Fake went anyway Lamestream Media CORRUP...  \n",
       "19  [مشاور امنیت ملی امروز عنوان کرد كه تحریم ها و...  "
      ]
     },
     "execution_count": 27,
     "metadata": {},
     "output_type": "execute_result"
    }
   ],
   "source": [
    "topic_model.get_topic_info()"
   ]
  },
  {
   "cell_type": "markdown",
   "metadata": {},
   "source": [
    "# Dynamic topic modeling "
   ]
  },
  {
   "cell_type": "code",
   "execution_count": 28,
   "metadata": {},
   "outputs": [],
   "source": [
    "# create date column \n",
    "df['date'] = pd.to_datetime(df['date'])\n",
    "\n",
    "\n",
    "# create two lists, one for date and one for text \n",
    "\n",
    "dates = df['date'].dt.year.tolist()\n",
    "texts = df['content'].tolist()"
   ]
  },
  {
   "cell_type": "code",
   "execution_count": 29,
   "metadata": {},
   "outputs": [],
   "source": [
    "# define and fit the model\n",
    "topic_model = BERTopic()\n",
    "topics, probs = topic_model.fit_transform(texts)\n",
    "\n",
    "# add the time dimension to the topics\n",
    "topics_over_time = topic_model.topics_over_time(texts, dates, nr_bins=20)"
   ]
  },
  {
   "cell_type": "code",
   "execution_count": 30,
   "metadata": {},
   "outputs": [
    {
     "data": {
      "application/vnd.plotly.v1+json": {
       "config": {
        "plotlyServerURL": "https://plot.ly"
       },
       "data": [
        {
         "hoverinfo": "text",
         "hovertext": [
          "<b>Topic 0</b><br>Words: china, chinas, currency, chinese, espionage",
          "<b>Topic 0</b><br>Words: china, chinese, chinas, currency, cont",
          "<b>Topic 0</b><br>Words: china, chinese, chinas, laughing, us",
          "<b>Topic 0</b><br>Words: china, chinese, overtaken, yuan, curb",
          "<b>Topic 0</b><br>Words: china, manipulation, currency, tpp, asia",
          "<b>Topic 0</b><br>Words: stairway, china, drone, whore, edwinro",
          "<b>Topic 0</b><br>Words: china, lavar, shoplifting, beef, jail",
          "<b>Topic 0</b><br>Words: china, trade, tariffs, chinese, intellectual",
          "<b>Topic 0</b><br>Words: china, tariffs, chinese, farmers, dollars",
          "<b>Topic 0</b><br>Words: china, chinese, early, plague, trade"
         ],
         "marker": {
          "color": "#E69F00"
         },
         "mode": "lines",
         "name": "0_china_chinese_chinas_tariffs",
         "type": "scatter",
         "x": [
          2010.65,
          2011.75,
          2012.85,
          2013.95,
          2014.5,
          2015.6,
          2016.7,
          2017.8,
          2018.9,
          2019.45
         ],
         "y": [
          44,
          152,
          54,
          23,
          27,
          8,
          13,
          44,
          136,
          28
         ]
        },
        {
         "hoverinfo": "text",
         "hovertext": [
          "<b>Topic 1</b><br>Words: run, please, needs, country, president",
          "<b>Topic 1</b><br>Words: run, please, president, country, needs",
          "<b>Topic 1</b><br>Words: run, please, needs, country, president",
          "<b>Topic 1</b><br>Words: jtanews, thtswhtkelsaid, verma, seema, card",
          "<b>Topic 1</b><br>Words: lynch, director, presidents, david, greatest",
          "<b>Topic 1</b><br>Words: esposito, suppose, claiming, knowledge, happens"
         ],
         "marker": {
          "color": "#56B4E9"
         },
         "mode": "lines",
         "name": "1_run_please_country_president",
         "type": "scatter",
         "x": [
          2012.85,
          2013.95,
          2014.5,
          2015.6,
          2017.8,
          2018.9
         ],
         "y": [
          76,
          207,
          148,
          4,
          1,
          1
         ]
        },
        {
         "hoverinfo": "text",
         "hovertext": [
          "<b>Topic 2</b><br>Words: salvatore, giunta, civilian, medal, version",
          "<b>Topic 2</b><br>Words: armed, veterans, men, parade, protected",
          "<b>Topic 2</b><br>Words: navy, armed, veterans, admiration, trigger",
          "<b>Topic 2</b><br>Words: memorial, veterans, wwii, women, vets",
          "<b>Topic 2</b><br>Words: sgt, tahmooressi, veteransday, va, veterans",
          "<b>Topic 2</b><br>Words: veterans, vets, honor, va, commandants",
          "<b>Topic 2</b><br>Words: veterans, heroes, honor, men, thankavet",
          "<b>Topic 2</b><br>Words: heroes, veterans, women, men, honor",
          "<b>Topic 2</b><br>Words: honor, veterans, heroes, men, women",
          "<b>Topic 2</b><br>Words: veterans, honor, heroes, medal, men",
          "<b>Topic 2</b><br>Words: men, women, veterans, honor, fort"
         ],
         "marker": {
          "color": "#009E73"
         },
         "mode": "lines",
         "name": "2_veterans_honor_heroes_men",
         "type": "scatter",
         "x": [
          2009.55,
          2010.65,
          2011.75,
          2012.85,
          2013.95,
          2014.5,
          2015.6,
          2016.7,
          2017.8,
          2018.9,
          2019.45
         ],
         "y": [
          3,
          4,
          9,
          20,
          19,
          43,
          28,
          93,
          80,
          53,
          20
         ]
        },
        {
         "hoverinfo": "text",
         "hovertext": [
          "<b>Topic 3</b><br>Words: expresidential, cadell, bails, michele, ames",
          "<b>Topic 3</b><br>Words: michele, poll, bachmann, straw, polls",
          "<b>Topic 3</b><br>Words: michelle, poll, sorrowmachine, dangerweiners, vinnytitone",
          "<b>Topic 3</b><br>Words: cnbc, poll, coalitions, mormanc, lauraaachinn",
          "<b>Topic 3</b><br>Words: poll, polls, carson, lead, iowa",
          "<b>Topic 3</b><br>Words: poll, polls, debate, cruz, rubio",
          "<b>Topic 3</b><br>Words: hotlinejosh, favorably, nbcwsj, newswashington, viewed",
          "<b>Topic 3</b><br>Words: timewell, poll, straw, accomplished, approve",
          "<b>Topic 3</b><br>Words: debating, harry, stumbles, underestimated, debates",
          "<b>Topic 3</b><br>Words: poll, senategop, joesquawk, numbers, gallup"
         ],
         "marker": {
          "color": "#F0E442"
         },
         "mode": "lines",
         "name": "3_poll_polls_carson_lead",
         "type": "scatter",
         "x": [
          2010.65,
          2011.75,
          2012.85,
          2013.95,
          2014.5,
          2015.6,
          2016.7,
          2017.8,
          2018.9,
          2019.45
         ],
         "y": [
          3,
          11,
          5,
          6,
          210,
          84,
          3,
          3,
          2,
          5
         ]
        },
        {
         "hoverinfo": "text",
         "hovertext": [
          "<b>Topic 4</b><br>Words: crystal, herald, macys, square, tailored",
          "<b>Topic 4</b><br>Words: macys, herald, square, fragrance, ties",
          "<b>Topic 4</b><br>Words: macys, ties, shirts, tie, collection",
          "<b>Topic 4</b><br>Words: macys, ties, tie, shirts, collection",
          "<b>Topic 4</b><br>Words: macys, ties, shop, shirts, store",
          "<b>Topic 4</b><br>Words: johnsmi, plunging, performing, sp, macys",
          "<b>Topic 4</b><br>Words: vandalized, storefront, hoodlums, thieves, macys"
         ],
         "marker": {
          "color": "#D55E00"
         },
         "mode": "lines",
         "name": "4_macys_ties_shirts_tie",
         "type": "scatter",
         "x": [
          2010.65,
          2011.75,
          2012.85,
          2013.95,
          2014.5,
          2015.6,
          2019.45
         ],
         "y": [
          3,
          21,
          135,
          66,
          79,
          2,
          1
         ]
        },
        {
         "hoverinfo": "text",
         "hovertext": [
          "<b>Topic 5</b><br>Words: hotel, soho, international, vegas, hotels",
          "<b>Topic 5</b><br>Words: hotels, trumplasvegas, leisures, travlandleisure, hotel",
          "<b>Topic 5</b><br>Words: grill, hotel, marble, sanitary, restaurant",
          "<b>Topic 5</b><br>Words: hotel, vegas, hotels, rooms, las",
          "<b>Topic 5</b><br>Words: hotel, rooms, restaurant, trumpnewyork, luxury",
          "<b>Topic 5</b><br>Words: hotel, vegas, hotels, trumpwaikiki, restaurant",
          "<b>Topic 5</b><br>Words: hawaii, biloxigreat, mmmdigits, vegassports, overtaxed",
          "<b>Topic 5</b><br>Words: aap, rocky, sweden, asap, prison"
         ],
         "marker": {
          "color": "#0072B2"
         },
         "mode": "lines",
         "name": "5_hotel_vegas_hotels_restaurant",
         "type": "scatter",
         "x": [
          2009.55,
          2010.65,
          2011.75,
          2012.85,
          2013.95,
          2014.5,
          2015.6,
          2018.9
         ],
         "y": [
          12,
          7,
          11,
          71,
          139,
          60,
          5,
          1
         ]
        },
        {
         "hoverinfo": "text",
         "hovertext": [
          "<b>Topic 6</b><br>Words: crosses, stress, libertyu, sure, point",
          "<b>Topic 6</b><br>Words: newton, isaac, bridges, destined, walls",
          "<b>Topic 6</b><br>Words: migrant, destined, coup, environmental, promise",
          "<b>Topic 6</b><br>Words: wall, build, border, borders, nation",
          "<b>Topic 6</b><br>Words: wall, build, enhance, southern, border",
          "<b>Topic 6</b><br>Words: wall, border, built, security, borders",
          "<b>Topic 6</b><br>Words: wall, border, security, southern, borders",
          "<b>Topic 6</b><br>Words: wall, border, southern, loopholes, security",
          "<b>Topic 6</b><br>Words: wall, miles, border, southern, borders"
         ],
         "marker": {
          "color": "#CC79A7"
         },
         "mode": "lines",
         "name": "6_wall_border_southern_security",
         "type": "scatter",
         "x": [
          2011.75,
          2012.85,
          2013.95,
          2014.5,
          2015.6,
          2016.7,
          2017.8,
          2018.9,
          2019.45
         ],
         "y": [
          1,
          2,
          2,
          19,
          6,
          13,
          97,
          132,
          9
         ]
        },
        {
         "hoverinfo": "text",
         "hovertext": [
          "<b>Topic 7</b><br>Words: timethey, pose, camera, pictures, nervous",
          "<b>Topic 7</b><br>Words: fragile, success, goals, passion, think",
          "<b>Topic 7</b><br>Words: champion, think, success, goals, passion",
          "<b>Topic 7</b><br>Words: champion, success, think, goals, focus",
          "<b>Topic 7</b><br>Words: goal, assetsthe, testifygreat, mold, joelosteen",
          "<b>Topic 7</b><br>Words: pitfalls, alconv, winding, conquer, road",
          "<b>Topic 7</b><br>Words: ybls, obstacle, here, confront, determination",
          "<b>Topic 7</b><br>Words: harder, theyre, incredible, believe, working",
          "<b>Topic 7</b><br>Words: invisible, learning, tougher, smarter, enemy"
         ],
         "marker": {
          "color": "#E69F00"
         },
         "mode": "lines",
         "name": "7_champion_think_success_goals",
         "type": "scatter",
         "x": [
          2010.65,
          2011.75,
          2012.85,
          2013.95,
          2014.5,
          2016.7,
          2017.8,
          2018.9,
          2019.45
         ],
         "y": [
          1,
          26,
          145,
          81,
          3,
          2,
          2,
          1,
          1
         ]
        },
        {
         "hoverinfo": "text",
         "hovertext": [
          "<b>Topic 8</b><br>Words: iran, irans, nuclear, iranian, hormuz",
          "<b>Topic 8</b><br>Words: iran, iranian, nuclear, israel, vis",
          "<b>Topic 8</b><br>Words: iran, nuclear, iranian, sanctions, iranians",
          "<b>Topic 8</b><br>Words: iran, kerry, sanctions, nuclear, remove",
          "<b>Topic 8</b><br>Words: iran, nuclear, deal, sanctions, nuke",
          "<b>Topic 8</b><br>Words: iran, nuclear, humiliated, plane, sailors",
          "<b>Topic 8</b><br>Words: iran, iranian, regimes, protests, rights",
          "<b>Topic 8</b><br>Words: iran, iranian, rouhani, sanctions, nuclear",
          "<b>Topic 8</b><br>Words: iran, nuclear, iranian, sanctions, deal",
          "<b>Topic 8</b><br>Words: iran, iranian, protesters, kerry, nuclear"
         ],
         "marker": {
          "color": "#56B4E9"
         },
         "mode": "lines",
         "name": "8_iran_nuclear_iranian_sanctions",
         "type": "scatter",
         "x": [
          2010.65,
          2011.75,
          2012.85,
          2013.95,
          2014.5,
          2015.6,
          2016.7,
          2017.8,
          2018.9,
          2019.45
         ],
         "y": [
          18,
          27,
          23,
          8,
          54,
          14,
          13,
          18,
          49,
          28
         ]
        },
        {
         "hoverinfo": "text",
         "hovertext": [
          "<b>Topic 9</b><br>Words: wind, turbines, ugly, alexsalmond, windmills",
          "<b>Topic 9</b><br>Words: wind, turbines, alexsalmond, ugly, bird",
          "<b>Topic 9</b><br>Words: wind, alexsalmond, turbines, aberdeencc, ugly",
          "<b>Topic 9</b><br>Words: elephants, therealtmac, nra, wind, toxmaster"
         ],
         "marker": {
          "color": "#009E73"
         },
         "mode": "lines",
         "name": "9_wind_turbines_alexsalmond_ugly",
         "type": "scatter",
         "x": [
          2011.75,
          2012.85,
          2013.95,
          2014.5
         ],
         "y": [
          63,
          132,
          44,
          10
         ]
        },
        {
         "hoverinfo": "text",
         "hovertext": [
          "<b>Topic 10</b><br>Words: rexhuppke, ukraine, beaumontanthony, forming, holding",
          "<b>Topic 10</b><br>Words: recieved, arabia, uk, saudi, calls",
          "<b>Topic 10</b><br>Words: subcommittee, sleazy, rice, susan, refusing",
          "<b>Topic 10</b><br>Words: schiff, adam, committee, omitted, confidential",
          "<b>Topic 10</b><br>Words: schiff, whistleblower, ukraine, adam, ukrainian",
          "<b>Topic 10</b><br>Words: schiff, whistleblower, ukraine, shifty, adam"
         ],
         "marker": {
          "color": "#F0E442"
         },
         "mode": "lines",
         "name": "10_schiff_whistleblower_ukraine_adam",
         "type": "scatter",
         "x": [
          2013.95,
          2015.6,
          2016.7,
          2017.8,
          2018.9,
          2019.45
         ],
         "y": [
          2,
          1,
          2,
          4,
          187,
          26
         ]
        },
        {
         "hoverinfo": "text",
         "hovertext": [
          "<b>Topic 11</b><br>Words: doral, miami, cadillac, monster, blue",
          "<b>Topic 11</b><br>Words: doral, miami, monster, blue, doralresort",
          "<b>Topic 11</b><br>Words: doral, monster, blue, trumpdoral, miami",
          "<b>Topic 11</b><br>Words: doral, monster, trumpdoral, blue, miami",
          "<b>Topic 11</b><br>Words: rory, miami, championship, cadillac, doralbest",
          "<b>Topic 11</b><br>Words: garyplayer, birthday, champion, truly, person",
          "<b>Topic 11</b><br>Words: miami, doral, ballrooms, rescinded, permissible"
         ],
         "marker": {
          "color": "#D55E00"
         },
         "mode": "lines",
         "name": "11_doral_monster_miami_blue",
         "type": "scatter",
         "x": [
          2011.75,
          2012.85,
          2013.95,
          2014.5,
          2015.6,
          2016.7,
          2018.9
         ],
         "y": [
          25,
          93,
          73,
          20,
          4,
          1,
          3
         ]
        },
        {
         "hoverinfo": "text",
         "hovertext": [
          "<b>Topic 12</b><br>Words: norks, blasting, missile, laughing, sad",
          "<b>Topic 12</b><br>Words: korea, north, south, norks, kim",
          "<b>Topic 12</b><br>Words: kimkotter, negotiates, surplus, kim, korea",
          "<b>Topic 12</b><br>Words: warheads, sweetheart, nukes, testing, hillaryclinton",
          "<b>Topic 12</b><br>Words: korea, north, kim, jong, un",
          "<b>Topic 12</b><br>Words: korea, north, kim, jong, un",
          "<b>Topic 12</b><br>Words: korea, kim, jong, north, un"
         ],
         "marker": {
          "color": "#0072B2"
         },
         "mode": "lines",
         "name": "12_korea_north_kim_jong",
         "type": "scatter",
         "x": [
          2011.75,
          2012.85,
          2013.95,
          2015.6,
          2016.7,
          2017.8,
          2018.9
         ],
         "y": [
          1,
          17,
          2,
          1,
          53,
          90,
          44
         ]
        },
        {
         "hoverinfo": "text",
         "hovertext": [
          "<b>Topic 13</b><br>Words: tngc, golf, westchester, channel, wahlberg",
          "<b>Topic 13</b><br>Words: channel, fabulous, golf, et, trumps",
          "<b>Topic 13</b><br>Words: golf, fehertwit, golfchannel, rated, courses",
          "<b>Topic 13</b><br>Words: golf, pga, course, trumpgolfla, club",
          "<b>Topic 13</b><br>Words: golf, pga, courses, course, trumpgolfla",
          "<b>Topic 13</b><br>Words: golf, pgagrandslam, course, trumpgolfla, pga",
          "<b>Topic 13</b><br>Words: samuelljacksons, tngcbedminster, whim, commercialsboring, shellhouopen",
          "<b>Topic 13</b><br>Words: dustin, woods, jupiter, johnson, tiger"
         ],
         "marker": {
          "color": "#CC79A7"
         },
         "mode": "lines",
         "name": "13_golf_pga_course_courses",
         "type": "scatter",
         "x": [
          2009.55,
          2010.65,
          2011.75,
          2012.85,
          2013.95,
          2014.5,
          2015.6,
          2016.7
         ],
         "y": [
          4,
          10,
          15,
          51,
          87,
          30,
          3,
          1
         ]
        },
        {
         "hoverinfo": "text",
         "hovertext": [
          "<b>Topic 14</b><br>Words: polled, adults, employed, ideal, hr",
          "<b>Topic 14</b><br>Words: entrepreneurs, builds, opportunities, vision, entrepreneursstay",
          "<b>Topic 14</b><br>Words: entrepreneurs, opportunities, young, possibilities, negate",
          "<b>Topic 14</b><br>Words: entrepreneurs, momentum, opportunities, keep, vision",
          "<b>Topic 14</b><br>Words: entrepreneurs, momentum, keep, youve, opportunity",
          "<b>Topic 14</b><br>Words: powering, dreamers, innovators, businesspeople, forum",
          "<b>Topic 14</b><br>Words: operate, small, hardworking, entrepreneurs, celebrate",
          "<b>Topic 14</b><br>Words: betting, negatively, barely, publicity, ways"
         ],
         "marker": {
          "color": "#E69F00"
         },
         "mode": "lines",
         "name": "14_entrepreneurs_momentum_opportunities_...",
         "type": "scatter",
         "x": [
          2009.55,
          2011.75,
          2012.85,
          2013.95,
          2014.5,
          2016.7,
          2017.8,
          2019.45
         ],
         "y": [
          1,
          9,
          44,
          67,
          76,
          2,
          1,
          1
         ]
        },
        {
         "hoverinfo": "text",
         "hovertext": [
          "<b>Topic 15</b><br>Words: ronpaul, serious, consideration, ignore, deserve",
          "<b>Topic 15</b><br>Words: knowingly, reportingno, vaccinated, inaccurately, shameful",
          "<b>Topic 15</b><br>Words: tweet, deletea, essential, fabricated, dope",
          "<b>Topic 15</b><br>Words: cluegrossly, sechagel, outmatched, accuracy, journalists",
          "<b>Topic 15</b><br>Words: media, dishonest, problematic, what, rdedit",
          "<b>Topic 15</b><br>Words: sources, media, dishonest, press, biased",
          "<b>Topic 15</b><br>Words: fake, media, news, sources, stories",
          "<b>Topic 15</b><br>Words: fake, media, news, sources, enemy",
          "<b>Topic 15</b><br>Words: fake, media, news, sources, corrupt",
          "<b>Topic 15</b><br>Words: fake, news, lamestream, sources, media"
         ],
         "marker": {
          "color": "#56B4E9"
         },
         "mode": "lines",
         "name": "15_fake_media_news_sources",
         "type": "scatter",
         "x": [
          2010.65,
          2011.75,
          2012.85,
          2013.95,
          2014.5,
          2015.6,
          2016.7,
          2017.8,
          2018.9,
          2019.45
         ],
         "y": [
          1,
          2,
          2,
          2,
          12,
          18,
          43,
          44,
          44,
          24
         ]
        },
        {
         "hoverinfo": "text",
         "hovertext": [
          "<b>Topic 16</b><br>Words: obamacare, repeal, repealed, healthcare, couples",
          "<b>Topic 16</b><br>Words: obamacare, repeal, disrupt, usc, insurance",
          "<b>Topic 16</b><br>Words: obamacare, premiums, repeal, healthcare, insurance",
          "<b>Topic 16</b><br>Words: obamacare, premiums, deductibles, insurance, repeal",
          "<b>Topic 16</b><br>Words: repeal, premiums, replace, obamacare, oriented",
          "<b>Topic 16</b><br>Words: obamacare, repeal, replace, healthcare, premiums",
          "<b>Topic 16</b><br>Words: obamacare, healthcare, premiums, repeal, deductibles",
          "<b>Topic 16</b><br>Words: deductible, useable, confirming, healthcare, practically",
          "<b>Topic 16</b><br>Words: obamacare, deductibles, unusable, healthcare, premiums",
          "<b>Topic 16</b><br>Words: lateness, distribution, enhanced, computers, insisted"
         ],
         "marker": {
          "color": "#009E73"
         },
         "mode": "lines",
         "name": "16_obamacare_repeal_healthcare_premiums",
         "type": "scatter",
         "x": [
          2010.65,
          2011.75,
          2012.85,
          2013.95,
          2014.5,
          2015.6,
          2016.7,
          2017.8,
          2018.9,
          2019.45
         ],
         "y": [
          8,
          11,
          61,
          20,
          3,
          22,
          54,
          1,
          5,
          2
         ]
        },
        {
         "hoverinfo": "text",
         "hovertext": [
          "<b>Topic 17</b><br>Words: bbci, molestation, accuracy, spiral, sex",
          "<b>Topic 17</b><br>Words: operandi, shocker, modus, toures, racebaiting",
          "<b>Topic 17</b><br>Words: righttv, sonypictures, smerconish, dictate, burned",
          "<b>Topic 17</b><br>Words: cnn, secupp, richlowry, biased, totally",
          "<b>Topic 17</b><br>Words: cnn, ratings, biased, negative, panel",
          "<b>Topic 17</b><br>Words: cnn, fake, news, abc, nbc",
          "<b>Topic 17</b><br>Words: cnn, fake, ratings, news, sinclair",
          "<b>Topic 17</b><br>Words: cnn, msnbc, ratings, fake, news",
          "<b>Topic 17</b><br>Words: msdnc, cnn, att, concast, fake"
         ],
         "marker": {
          "color": "#F0E442"
         },
         "mode": "lines",
         "name": "17_cnn_ratings_news_fake",
         "type": "scatter",
         "x": [
          2011.75,
          2012.85,
          2013.95,
          2014.5,
          2015.6,
          2016.7,
          2017.8,
          2018.9,
          2019.45
         ],
         "y": [
          2,
          3,
          4,
          16,
          38,
          32,
          35,
          35,
          21
         ]
        },
        {
         "hoverinfo": "text",
         "hovertext": [
          "<b>Topic 18</b><br>Words: bahamas, miss, universe, tara, competition",
          "<b>Topic 18</b><br>Words: miss, pageant, universe, morales, rima",
          "<b>Topic 18</b><br>Words: miss, alyssa, campanella, pageant, missteenusacom",
          "<b>Topic 18</b><br>Words: miss, pageant, universe, missuniverse, missusa",
          "<b>Topic 18</b><br>Words: miss, universe, pageant, missuniverse, moscow",
          "<b>Topic 18</b><br>Words: miss, pageant, universe, rouge, baton",
          "<b>Topic 18</b><br>Words: miss, universe, missuniverse, pageant, missusa",
          "<b>Topic 18</b><br>Words: eugenie, bride, princess, winner, truly"
         ],
         "marker": {
          "color": "#D55E00"
         },
         "mode": "lines",
         "name": "18_miss_pageant_universe_missuniverse",
         "type": "scatter",
         "x": [
          2008.989,
          2009.55,
          2010.65,
          2011.75,
          2012.85,
          2013.95,
          2014.5,
          2017.8
         ],
         "y": [
          3,
          12,
          6,
          51,
          53,
          24,
          30,
          1
         ]
        },
        {
         "hoverinfo": "text",
         "hovertext": [
          "<b>Topic 19</b><br>Words: sunbathing, kate, chopper, nudeonly, nude",
          "<b>Topic 19</b><br>Words: celebapprentice, celebrityapprentice, adrian, show, tv",
          "<b>Topic 19</b><br>Words: celebrityapprentice, samcgirl, season, starsentlive, celebapprentice",
          "<b>Topic 19</b><br>Words: celebrityapprentice, celebapprentice, msvivicafox, show, wait",
          "<b>Topic 19</b><br>Words: conventions, produced, unity, stage, karlrove"
         ],
         "marker": {
          "color": "#0072B2"
         },
         "mode": "lines",
         "name": "19_celebrityapprentice_celebapprentice_s...",
         "type": "scatter",
         "x": [
          2011.75,
          2012.85,
          2013.95,
          2014.5,
          2015.6
         ],
         "y": [
          5,
          33,
          21,
          109,
          1
         ]
        }
       ],
       "layout": {
        "height": 450,
        "hoverlabel": {
         "bgcolor": "white",
         "font": {
          "family": "Rockwell",
          "size": 16
         }
        },
        "legend": {
         "title": {
          "text": "<b>Global Topic Representation"
         }
        },
        "template": {
         "data": {
          "bar": [
           {
            "error_x": {
             "color": "rgb(36,36,36)"
            },
            "error_y": {
             "color": "rgb(36,36,36)"
            },
            "marker": {
             "line": {
              "color": "white",
              "width": 0.5
             },
             "pattern": {
              "fillmode": "overlay",
              "size": 10,
              "solidity": 0.2
             }
            },
            "type": "bar"
           }
          ],
          "barpolar": [
           {
            "marker": {
             "line": {
              "color": "white",
              "width": 0.5
             },
             "pattern": {
              "fillmode": "overlay",
              "size": 10,
              "solidity": 0.2
             }
            },
            "type": "barpolar"
           }
          ],
          "carpet": [
           {
            "aaxis": {
             "endlinecolor": "rgb(36,36,36)",
             "gridcolor": "white",
             "linecolor": "white",
             "minorgridcolor": "white",
             "startlinecolor": "rgb(36,36,36)"
            },
            "baxis": {
             "endlinecolor": "rgb(36,36,36)",
             "gridcolor": "white",
             "linecolor": "white",
             "minorgridcolor": "white",
             "startlinecolor": "rgb(36,36,36)"
            },
            "type": "carpet"
           }
          ],
          "choropleth": [
           {
            "colorbar": {
             "outlinewidth": 1,
             "tickcolor": "rgb(36,36,36)",
             "ticks": "outside"
            },
            "type": "choropleth"
           }
          ],
          "contour": [
           {
            "colorbar": {
             "outlinewidth": 1,
             "tickcolor": "rgb(36,36,36)",
             "ticks": "outside"
            },
            "colorscale": [
             [
              0,
              "#440154"
             ],
             [
              0.1111111111111111,
              "#482878"
             ],
             [
              0.2222222222222222,
              "#3e4989"
             ],
             [
              0.3333333333333333,
              "#31688e"
             ],
             [
              0.4444444444444444,
              "#26828e"
             ],
             [
              0.5555555555555556,
              "#1f9e89"
             ],
             [
              0.6666666666666666,
              "#35b779"
             ],
             [
              0.7777777777777778,
              "#6ece58"
             ],
             [
              0.8888888888888888,
              "#b5de2b"
             ],
             [
              1,
              "#fde725"
             ]
            ],
            "type": "contour"
           }
          ],
          "contourcarpet": [
           {
            "colorbar": {
             "outlinewidth": 1,
             "tickcolor": "rgb(36,36,36)",
             "ticks": "outside"
            },
            "type": "contourcarpet"
           }
          ],
          "heatmap": [
           {
            "colorbar": {
             "outlinewidth": 1,
             "tickcolor": "rgb(36,36,36)",
             "ticks": "outside"
            },
            "colorscale": [
             [
              0,
              "#440154"
             ],
             [
              0.1111111111111111,
              "#482878"
             ],
             [
              0.2222222222222222,
              "#3e4989"
             ],
             [
              0.3333333333333333,
              "#31688e"
             ],
             [
              0.4444444444444444,
              "#26828e"
             ],
             [
              0.5555555555555556,
              "#1f9e89"
             ],
             [
              0.6666666666666666,
              "#35b779"
             ],
             [
              0.7777777777777778,
              "#6ece58"
             ],
             [
              0.8888888888888888,
              "#b5de2b"
             ],
             [
              1,
              "#fde725"
             ]
            ],
            "type": "heatmap"
           }
          ],
          "heatmapgl": [
           {
            "colorbar": {
             "outlinewidth": 1,
             "tickcolor": "rgb(36,36,36)",
             "ticks": "outside"
            },
            "colorscale": [
             [
              0,
              "#440154"
             ],
             [
              0.1111111111111111,
              "#482878"
             ],
             [
              0.2222222222222222,
              "#3e4989"
             ],
             [
              0.3333333333333333,
              "#31688e"
             ],
             [
              0.4444444444444444,
              "#26828e"
             ],
             [
              0.5555555555555556,
              "#1f9e89"
             ],
             [
              0.6666666666666666,
              "#35b779"
             ],
             [
              0.7777777777777778,
              "#6ece58"
             ],
             [
              0.8888888888888888,
              "#b5de2b"
             ],
             [
              1,
              "#fde725"
             ]
            ],
            "type": "heatmapgl"
           }
          ],
          "histogram": [
           {
            "marker": {
             "line": {
              "color": "white",
              "width": 0.6
             }
            },
            "type": "histogram"
           }
          ],
          "histogram2d": [
           {
            "colorbar": {
             "outlinewidth": 1,
             "tickcolor": "rgb(36,36,36)",
             "ticks": "outside"
            },
            "colorscale": [
             [
              0,
              "#440154"
             ],
             [
              0.1111111111111111,
              "#482878"
             ],
             [
              0.2222222222222222,
              "#3e4989"
             ],
             [
              0.3333333333333333,
              "#31688e"
             ],
             [
              0.4444444444444444,
              "#26828e"
             ],
             [
              0.5555555555555556,
              "#1f9e89"
             ],
             [
              0.6666666666666666,
              "#35b779"
             ],
             [
              0.7777777777777778,
              "#6ece58"
             ],
             [
              0.8888888888888888,
              "#b5de2b"
             ],
             [
              1,
              "#fde725"
             ]
            ],
            "type": "histogram2d"
           }
          ],
          "histogram2dcontour": [
           {
            "colorbar": {
             "outlinewidth": 1,
             "tickcolor": "rgb(36,36,36)",
             "ticks": "outside"
            },
            "colorscale": [
             [
              0,
              "#440154"
             ],
             [
              0.1111111111111111,
              "#482878"
             ],
             [
              0.2222222222222222,
              "#3e4989"
             ],
             [
              0.3333333333333333,
              "#31688e"
             ],
             [
              0.4444444444444444,
              "#26828e"
             ],
             [
              0.5555555555555556,
              "#1f9e89"
             ],
             [
              0.6666666666666666,
              "#35b779"
             ],
             [
              0.7777777777777778,
              "#6ece58"
             ],
             [
              0.8888888888888888,
              "#b5de2b"
             ],
             [
              1,
              "#fde725"
             ]
            ],
            "type": "histogram2dcontour"
           }
          ],
          "mesh3d": [
           {
            "colorbar": {
             "outlinewidth": 1,
             "tickcolor": "rgb(36,36,36)",
             "ticks": "outside"
            },
            "type": "mesh3d"
           }
          ],
          "parcoords": [
           {
            "line": {
             "colorbar": {
              "outlinewidth": 1,
              "tickcolor": "rgb(36,36,36)",
              "ticks": "outside"
             }
            },
            "type": "parcoords"
           }
          ],
          "pie": [
           {
            "automargin": true,
            "type": "pie"
           }
          ],
          "scatter": [
           {
            "fillpattern": {
             "fillmode": "overlay",
             "size": 10,
             "solidity": 0.2
            },
            "type": "scatter"
           }
          ],
          "scatter3d": [
           {
            "line": {
             "colorbar": {
              "outlinewidth": 1,
              "tickcolor": "rgb(36,36,36)",
              "ticks": "outside"
             }
            },
            "marker": {
             "colorbar": {
              "outlinewidth": 1,
              "tickcolor": "rgb(36,36,36)",
              "ticks": "outside"
             }
            },
            "type": "scatter3d"
           }
          ],
          "scattercarpet": [
           {
            "marker": {
             "colorbar": {
              "outlinewidth": 1,
              "tickcolor": "rgb(36,36,36)",
              "ticks": "outside"
             }
            },
            "type": "scattercarpet"
           }
          ],
          "scattergeo": [
           {
            "marker": {
             "colorbar": {
              "outlinewidth": 1,
              "tickcolor": "rgb(36,36,36)",
              "ticks": "outside"
             }
            },
            "type": "scattergeo"
           }
          ],
          "scattergl": [
           {
            "marker": {
             "colorbar": {
              "outlinewidth": 1,
              "tickcolor": "rgb(36,36,36)",
              "ticks": "outside"
             }
            },
            "type": "scattergl"
           }
          ],
          "scattermapbox": [
           {
            "marker": {
             "colorbar": {
              "outlinewidth": 1,
              "tickcolor": "rgb(36,36,36)",
              "ticks": "outside"
             }
            },
            "type": "scattermapbox"
           }
          ],
          "scatterpolar": [
           {
            "marker": {
             "colorbar": {
              "outlinewidth": 1,
              "tickcolor": "rgb(36,36,36)",
              "ticks": "outside"
             }
            },
            "type": "scatterpolar"
           }
          ],
          "scatterpolargl": [
           {
            "marker": {
             "colorbar": {
              "outlinewidth": 1,
              "tickcolor": "rgb(36,36,36)",
              "ticks": "outside"
             }
            },
            "type": "scatterpolargl"
           }
          ],
          "scatterternary": [
           {
            "marker": {
             "colorbar": {
              "outlinewidth": 1,
              "tickcolor": "rgb(36,36,36)",
              "ticks": "outside"
             }
            },
            "type": "scatterternary"
           }
          ],
          "surface": [
           {
            "colorbar": {
             "outlinewidth": 1,
             "tickcolor": "rgb(36,36,36)",
             "ticks": "outside"
            },
            "colorscale": [
             [
              0,
              "#440154"
             ],
             [
              0.1111111111111111,
              "#482878"
             ],
             [
              0.2222222222222222,
              "#3e4989"
             ],
             [
              0.3333333333333333,
              "#31688e"
             ],
             [
              0.4444444444444444,
              "#26828e"
             ],
             [
              0.5555555555555556,
              "#1f9e89"
             ],
             [
              0.6666666666666666,
              "#35b779"
             ],
             [
              0.7777777777777778,
              "#6ece58"
             ],
             [
              0.8888888888888888,
              "#b5de2b"
             ],
             [
              1,
              "#fde725"
             ]
            ],
            "type": "surface"
           }
          ],
          "table": [
           {
            "cells": {
             "fill": {
              "color": "rgb(237,237,237)"
             },
             "line": {
              "color": "white"
             }
            },
            "header": {
             "fill": {
              "color": "rgb(217,217,217)"
             },
             "line": {
              "color": "white"
             }
            },
            "type": "table"
           }
          ]
         },
         "layout": {
          "annotationdefaults": {
           "arrowhead": 0,
           "arrowwidth": 1
          },
          "autotypenumbers": "strict",
          "coloraxis": {
           "colorbar": {
            "outlinewidth": 1,
            "tickcolor": "rgb(36,36,36)",
            "ticks": "outside"
           }
          },
          "colorscale": {
           "diverging": [
            [
             0,
             "rgb(103,0,31)"
            ],
            [
             0.1,
             "rgb(178,24,43)"
            ],
            [
             0.2,
             "rgb(214,96,77)"
            ],
            [
             0.3,
             "rgb(244,165,130)"
            ],
            [
             0.4,
             "rgb(253,219,199)"
            ],
            [
             0.5,
             "rgb(247,247,247)"
            ],
            [
             0.6,
             "rgb(209,229,240)"
            ],
            [
             0.7,
             "rgb(146,197,222)"
            ],
            [
             0.8,
             "rgb(67,147,195)"
            ],
            [
             0.9,
             "rgb(33,102,172)"
            ],
            [
             1,
             "rgb(5,48,97)"
            ]
           ],
           "sequential": [
            [
             0,
             "#440154"
            ],
            [
             0.1111111111111111,
             "#482878"
            ],
            [
             0.2222222222222222,
             "#3e4989"
            ],
            [
             0.3333333333333333,
             "#31688e"
            ],
            [
             0.4444444444444444,
             "#26828e"
            ],
            [
             0.5555555555555556,
             "#1f9e89"
            ],
            [
             0.6666666666666666,
             "#35b779"
            ],
            [
             0.7777777777777778,
             "#6ece58"
            ],
            [
             0.8888888888888888,
             "#b5de2b"
            ],
            [
             1,
             "#fde725"
            ]
           ],
           "sequentialminus": [
            [
             0,
             "#440154"
            ],
            [
             0.1111111111111111,
             "#482878"
            ],
            [
             0.2222222222222222,
             "#3e4989"
            ],
            [
             0.3333333333333333,
             "#31688e"
            ],
            [
             0.4444444444444444,
             "#26828e"
            ],
            [
             0.5555555555555556,
             "#1f9e89"
            ],
            [
             0.6666666666666666,
             "#35b779"
            ],
            [
             0.7777777777777778,
             "#6ece58"
            ],
            [
             0.8888888888888888,
             "#b5de2b"
            ],
            [
             1,
             "#fde725"
            ]
           ]
          },
          "colorway": [
           "#1F77B4",
           "#FF7F0E",
           "#2CA02C",
           "#D62728",
           "#9467BD",
           "#8C564B",
           "#E377C2",
           "#7F7F7F",
           "#BCBD22",
           "#17BECF"
          ],
          "font": {
           "color": "rgb(36,36,36)"
          },
          "geo": {
           "bgcolor": "white",
           "lakecolor": "white",
           "landcolor": "white",
           "showlakes": true,
           "showland": true,
           "subunitcolor": "white"
          },
          "hoverlabel": {
           "align": "left"
          },
          "hovermode": "closest",
          "mapbox": {
           "style": "light"
          },
          "paper_bgcolor": "white",
          "plot_bgcolor": "white",
          "polar": {
           "angularaxis": {
            "gridcolor": "rgb(232,232,232)",
            "linecolor": "rgb(36,36,36)",
            "showgrid": false,
            "showline": true,
            "ticks": "outside"
           },
           "bgcolor": "white",
           "radialaxis": {
            "gridcolor": "rgb(232,232,232)",
            "linecolor": "rgb(36,36,36)",
            "showgrid": false,
            "showline": true,
            "ticks": "outside"
           }
          },
          "scene": {
           "xaxis": {
            "backgroundcolor": "white",
            "gridcolor": "rgb(232,232,232)",
            "gridwidth": 2,
            "linecolor": "rgb(36,36,36)",
            "showbackground": true,
            "showgrid": false,
            "showline": true,
            "ticks": "outside",
            "zeroline": false,
            "zerolinecolor": "rgb(36,36,36)"
           },
           "yaxis": {
            "backgroundcolor": "white",
            "gridcolor": "rgb(232,232,232)",
            "gridwidth": 2,
            "linecolor": "rgb(36,36,36)",
            "showbackground": true,
            "showgrid": false,
            "showline": true,
            "ticks": "outside",
            "zeroline": false,
            "zerolinecolor": "rgb(36,36,36)"
           },
           "zaxis": {
            "backgroundcolor": "white",
            "gridcolor": "rgb(232,232,232)",
            "gridwidth": 2,
            "linecolor": "rgb(36,36,36)",
            "showbackground": true,
            "showgrid": false,
            "showline": true,
            "ticks": "outside",
            "zeroline": false,
            "zerolinecolor": "rgb(36,36,36)"
           }
          },
          "shapedefaults": {
           "fillcolor": "black",
           "line": {
            "width": 0
           },
           "opacity": 0.3
          },
          "ternary": {
           "aaxis": {
            "gridcolor": "rgb(232,232,232)",
            "linecolor": "rgb(36,36,36)",
            "showgrid": false,
            "showline": true,
            "ticks": "outside"
           },
           "baxis": {
            "gridcolor": "rgb(232,232,232)",
            "linecolor": "rgb(36,36,36)",
            "showgrid": false,
            "showline": true,
            "ticks": "outside"
           },
           "bgcolor": "white",
           "caxis": {
            "gridcolor": "rgb(232,232,232)",
            "linecolor": "rgb(36,36,36)",
            "showgrid": false,
            "showline": true,
            "ticks": "outside"
           }
          },
          "title": {
           "x": 0.05
          },
          "xaxis": {
           "automargin": true,
           "gridcolor": "rgb(232,232,232)",
           "linecolor": "rgb(36,36,36)",
           "showgrid": false,
           "showline": true,
           "ticks": "outside",
           "title": {
            "standoff": 15
           },
           "zeroline": false,
           "zerolinecolor": "rgb(36,36,36)"
          },
          "yaxis": {
           "automargin": true,
           "gridcolor": "rgb(232,232,232)",
           "linecolor": "rgb(36,36,36)",
           "showgrid": false,
           "showline": true,
           "ticks": "outside",
           "title": {
            "standoff": 15
           },
           "zeroline": false,
           "zerolinecolor": "rgb(36,36,36)"
          }
         }
        },
        "title": {
         "font": {
          "color": "Black",
          "size": 22
         },
         "text": "<b>Topics over Time</b>",
         "x": 0.4,
         "xanchor": "center",
         "y": 0.95,
         "yanchor": "top"
        },
        "width": 1250,
        "xaxis": {
         "showgrid": true
        },
        "yaxis": {
         "showgrid": true,
         "title": {
          "text": "Frequency"
         }
        }
       }
      }
     },
     "metadata": {},
     "output_type": "display_data"
    }
   ],
   "source": [
    "# visualize the topics over time\n",
    "topic_model.visualize_topics_over_time(topics_over_time, top_n_topics=20)"
   ]
  },
  {
   "cell_type": "markdown",
   "metadata": {},
   "source": [
    "# Handling topic names \n",
    "\n",
    "Our topic names are not the most informative, and we might want to re-label them to be more informative. We can do this by using several different methods"
   ]
  },
  {
   "cell_type": "code",
   "execution_count": 31,
   "metadata": {},
   "outputs": [
    {
     "name": "stderr",
     "output_type": "stream",
     "text": [
      "2025-02-03 09:45:46,468 - BERTopic - Embedding - Transforming documents to embeddings.\n"
     ]
    },
    {
     "data": {
      "application/vnd.jupyter.widget-view+json": {
       "model_id": "1e461b40eeab4e0fab676c7b70171cf5",
       "version_major": 2,
       "version_minor": 0
      },
      "text/plain": [
       "Batches:   0%|          | 0/1078 [00:00<?, ?it/s]"
      ]
     },
     "metadata": {},
     "output_type": "display_data"
    },
    {
     "name": "stderr",
     "output_type": "stream",
     "text": [
      "2025-02-03 09:45:51,587 - BERTopic - Embedding - Completed ✓\n",
      "2025-02-03 09:45:51,587 - BERTopic - Dimensionality - Fitting the dimensionality reduction algorithm\n",
      "2025-02-03 09:45:54,940 - BERTopic - Dimensionality - Completed ✓\n",
      "2025-02-03 09:45:54,941 - BERTopic - Cluster - Start clustering the reduced embeddings\n",
      "2025-02-03 09:45:55,455 - BERTopic - Cluster - Completed ✓\n",
      "2025-02-03 09:45:55,455 - BERTopic - Representation - Extracting topics from clusters using representation models.\n",
      "2025-02-03 09:45:55,727 - BERTopic - Representation - Completed ✓\n",
      "2025-02-03 09:45:55,728 - BERTopic - Topic reduction - Reducing number of topics\n",
      "2025-02-03 09:45:55,902 - BERTopic - Topic reduction - Reduced number of topics from 390 to 50\n"
     ]
    }
   ],
   "source": [
    "# define and fit the model\n",
    "topic_model = BERTopic(verbose=True, nr_topics=50)\n",
    "topics, probs = topic_model.fit_transform(texts)"
   ]
  },
  {
   "cell_type": "code",
   "execution_count": 32,
   "metadata": {},
   "outputs": [
    {
     "data": {
      "text/html": [
       "<div>\n",
       "<style scoped>\n",
       "    .dataframe tbody tr th:only-of-type {\n",
       "        vertical-align: middle;\n",
       "    }\n",
       "\n",
       "    .dataframe tbody tr th {\n",
       "        vertical-align: top;\n",
       "    }\n",
       "\n",
       "    .dataframe thead th {\n",
       "        text-align: right;\n",
       "    }\n",
       "</style>\n",
       "<table border=\"1\" class=\"dataframe\">\n",
       "  <thead>\n",
       "    <tr style=\"text-align: right;\">\n",
       "      <th></th>\n",
       "      <th>Topic</th>\n",
       "      <th>Count</th>\n",
       "      <th>Name</th>\n",
       "      <th>Representation</th>\n",
       "      <th>Representative_Docs</th>\n",
       "    </tr>\n",
       "  </thead>\n",
       "  <tbody>\n",
       "    <tr>\n",
       "      <th>0</th>\n",
       "      <td>-1</td>\n",
       "      <td>12027</td>\n",
       "      <td>-1_great_trump_realdonaldtrump_thank</td>\n",
       "      <td>[great, trump, realdonaldtrump, thank, people,...</td>\n",
       "      <td>[bad Economic times worse better anything make...</td>\n",
       "    </tr>\n",
       "    <tr>\n",
       "      <th>1</th>\n",
       "      <td>0</td>\n",
       "      <td>5123</td>\n",
       "      <td>0_realdonaldtrump_trump_run_president</td>\n",
       "      <td>[realdonaldtrump, trump, run, president, donal...</td>\n",
       "      <td>[B_Thornton run president youd vote Youre coun...</td>\n",
       "    </tr>\n",
       "    <tr>\n",
       "      <th>2</th>\n",
       "      <td>1</td>\n",
       "      <td>3511</td>\n",
       "      <td>1_fake_news_hillary_poll</td>\n",
       "      <td>[fake, news, hillary, poll, media, collusion, ...</td>\n",
       "      <td>[Republican Party GREAT day yesterday respect ...</td>\n",
       "    </tr>\n",
       "    <tr>\n",
       "      <th>3</th>\n",
       "      <td>2</td>\n",
       "      <td>1734</td>\n",
       "      <td>2_apprentice_apprenticenbc_celebrity_show</td>\n",
       "      <td>[apprentice, apprenticenbc, celebrity, show, t...</td>\n",
       "      <td>[Dont forget tune tonight another exciting epi...</td>\n",
       "    </tr>\n",
       "    <tr>\n",
       "      <th>4</th>\n",
       "      <td>3</td>\n",
       "      <td>1379</td>\n",
       "      <td>3_china_trade_us_tariffs</td>\n",
       "      <td>[china, trade, us, tariffs, jobs, chinese, dea...</td>\n",
       "      <td>[many years China many countries taking advant...</td>\n",
       "    </tr>\n",
       "    <tr>\n",
       "      <th>5</th>\n",
       "      <td>4</td>\n",
       "      <td>1212</td>\n",
       "      <td>4_obamacare_obama_barackobama_tax</td>\n",
       "      <td>[obamacare, obama, barackobama, tax, cuts, dac...</td>\n",
       "      <td>[immediately repeal replace ObamaCare nobody l...</td>\n",
       "    </tr>\n",
       "    <tr>\n",
       "      <th>6</th>\n",
       "      <td>5</td>\n",
       "      <td>1125</td>\n",
       "      <td>5_golf_hotel_course_trump</td>\n",
       "      <td>[golf, hotel, course, trump, scotland, doral, ...</td>\n",
       "      <td>[spent two days Ireland Trump International Go...</td>\n",
       "    </tr>\n",
       "    <tr>\n",
       "      <th>7</th>\n",
       "      <td>6</td>\n",
       "      <td>972</td>\n",
       "      <td>6_endorsement_vets_amendment_great</td>\n",
       "      <td>[endorsement, vets, amendment, great, carolina...</td>\n",
       "      <td>[Congressman MikeTurnerOH strong supporter fig...</td>\n",
       "    </tr>\n",
       "    <tr>\n",
       "      <th>8</th>\n",
       "      <td>7</td>\n",
       "      <td>967</td>\n",
       "      <td>7_border_wall_mexico_immigration</td>\n",
       "      <td>[border, wall, mexico, immigration, southern, ...</td>\n",
       "      <td>[State Emergency Southern Border Border Patrol...</td>\n",
       "    </tr>\n",
       "    <tr>\n",
       "      <th>9</th>\n",
       "      <td>8</td>\n",
       "      <td>871</td>\n",
       "      <td>8_iran_isis_syria_iraq</td>\n",
       "      <td>[iran, isis, syria, iraq, israel, obama, nucle...</td>\n",
       "      <td>[Iran wants fight official end Iran Never thre...</td>\n",
       "    </tr>\n",
       "    <tr>\n",
       "      <th>10</th>\n",
       "      <td>9</td>\n",
       "      <td>612</td>\n",
       "      <td>9_entrepreneurs_think_focus_midas</td>\n",
       "      <td>[entrepreneurs, think, focus, midas, touch, su...</td>\n",
       "      <td>[Entrepreneurs Look solution problem Learn foc...</td>\n",
       "    </tr>\n",
       "    <tr>\n",
       "      <th>11</th>\n",
       "      <td>10</td>\n",
       "      <td>553</td>\n",
       "      <td>10_honor_veterans_today_women</td>\n",
       "      <td>[honor, veterans, today, women, men, christmas...</td>\n",
       "      <td>[Vietnam War Veterans Day celebrate brave Viet...</td>\n",
       "    </tr>\n",
       "    <tr>\n",
       "      <th>12</th>\n",
       "      <td>11</td>\n",
       "      <td>398</td>\n",
       "      <td>11_miss_universe_pageant_wwe</td>\n",
       "      <td>[miss, universe, pageant, wwe, missuniverse, u...</td>\n",
       "      <td>[going get hotter Las Vegas tonight Watch Miss...</td>\n",
       "    </tr>\n",
       "    <tr>\n",
       "      <th>13</th>\n",
       "      <td>12</td>\n",
       "      <td>348</td>\n",
       "      <td>12_hurricane_rico_puerto_fema</td>\n",
       "      <td>[hurricane, rico, puerto, fema, prayers, famil...</td>\n",
       "      <td>[Democrats today killed Bill would provided gr...</td>\n",
       "    </tr>\n",
       "    <tr>\n",
       "      <th>14</th>\n",
       "      <td>13</td>\n",
       "      <td>312</td>\n",
       "      <td>13_market_fed_stock_reserve</td>\n",
       "      <td>[market, fed, stock, reserve, estate, rates, i...</td>\n",
       "      <td>[Stock Market big today New Record Enjoy, Fed ...</td>\n",
       "    </tr>\n",
       "    <tr>\n",
       "      <th>15</th>\n",
       "      <td>14</td>\n",
       "      <td>296</td>\n",
       "      <td>14_book_art_read_books</td>\n",
       "      <td>[book, art, read, books, signing, deal, new, r...</td>\n",
       "      <td>[Ill signing copies new book Time Get Tough to...</td>\n",
       "    </tr>\n",
       "    <tr>\n",
       "      <th>16</th>\n",
       "      <td>15</td>\n",
       "      <td>295</td>\n",
       "      <td>15_mayor_gun_weiner_cuomo</td>\n",
       "      <td>[mayor, gun, weiner, cuomo, pervert, nyc, york...</td>\n",
       "      <td>[Sexual pervert deviant Anthony Weiner polling...</td>\n",
       "    </tr>\n",
       "    <tr>\n",
       "      <th>17</th>\n",
       "      <td>16</td>\n",
       "      <td>269</td>\n",
       "      <td>16_ebola_coronavirus_testing_ventilators</td>\n",
       "      <td>[ebola, coronavirus, testing, ventilators, afr...</td>\n",
       "      <td>[go stated long ago cancel flights West Africa...</td>\n",
       "    </tr>\n",
       "    <tr>\n",
       "      <th>18</th>\n",
       "      <td>17</td>\n",
       "      <td>250</td>\n",
       "      <td>17_korea_north_kim_jong</td>\n",
       "      <td>[korea, north, kim, jong, un, japan, south, nu...</td>\n",
       "      <td>[United States team arrived North Korea make a...</td>\n",
       "    </tr>\n",
       "    <tr>\n",
       "      <th>19</th>\n",
       "      <td>18</td>\n",
       "      <td>226</td>\n",
       "      <td>18_nfl_nflcommish_bills_anthem</td>\n",
       "      <td>[nfl, nflcommish, bills, anthem, buffalobills,...</td>\n",
       "      <td>[Two dozen NFL players continue kneel National...</td>\n",
       "    </tr>\n",
       "    <tr>\n",
       "      <th>20</th>\n",
       "      <td>19</td>\n",
       "      <td>213</td>\n",
       "      <td>19_wind_turbines_alexsalmond_ugly</td>\n",
       "      <td>[wind, turbines, alexsalmond, ugly, scotland, ...</td>\n",
       "      <td>[Prime Minister David_Cameron foolish giving A...</td>\n",
       "    </tr>\n",
       "    <tr>\n",
       "      <th>21</th>\n",
       "      <td>20</td>\n",
       "      <td>198</td>\n",
       "      <td>20_yankees_arod_derek_jeter</td>\n",
       "      <td>[yankees, arod, derek, jeter, baseball, game, ...</td>\n",
       "      <td>[told whenever go Yankees game Yankees win, De...</td>\n",
       "    </tr>\n",
       "    <tr>\n",
       "      <th>22</th>\n",
       "      <td>21</td>\n",
       "      <td>176</td>\n",
       "      <td>21_churchill_albert_einstein_winston</td>\n",
       "      <td>[churchill, albert, einstein, winston, henry, ...</td>\n",
       "      <td>[Without passion dont energy without energy no...</td>\n",
       "    </tr>\n",
       "    <tr>\n",
       "      <th>23</th>\n",
       "      <td>22</td>\n",
       "      <td>156</td>\n",
       "      <td>22_celebapprentice_omarosa_season_star</td>\n",
       "      <td>[celebapprentice, omarosa, season, star, thega...</td>\n",
       "      <td>[Hes back causing trouble ever THEGaryBusey re...</td>\n",
       "    </tr>\n",
       "    <tr>\n",
       "      <th>24</th>\n",
       "      <td>23</td>\n",
       "      <td>126</td>\n",
       "      <td>23_dannyzuker_danny_cuban_dennisrodman</td>\n",
       "      <td>[dannyzuker, danny, cuban, dennisrodman, mark,...</td>\n",
       "      <td>[DannyZuker Come Danny u afraid DEAL careful I...</td>\n",
       "    </tr>\n",
       "    <tr>\n",
       "      <th>25</th>\n",
       "      <td>24</td>\n",
       "      <td>122</td>\n",
       "      <td>24_bankruptcy_bankrupt_billmaher_atlantic</td>\n",
       "      <td>[bankruptcy, bankrupt, billmaher, atlantic, we...</td>\n",
       "      <td>[Stop saying went bankrupt never went bankrupt...</td>\n",
       "    </tr>\n",
       "    <tr>\n",
       "      <th>26</th>\n",
       "      <td>25</td>\n",
       "      <td>109</td>\n",
       "      <td>25_global_warming_climate_freezing</td>\n",
       "      <td>[global, warming, climate, freezing, cold, cha...</td>\n",
       "      <td>[con artists changed name GLOBAL WARMING CLIMA...</td>\n",
       "    </tr>\n",
       "    <tr>\n",
       "      <th>27</th>\n",
       "      <td>26</td>\n",
       "      <td>98</td>\n",
       "      <td>26_tickets_join_pm_tomorrow</td>\n",
       "      <td>[tickets, join, pm, tomorrow, center, maga, co...</td>\n",
       "      <td>[Join us Toledo Ohio tomorrow night pm TrumpPe...</td>\n",
       "    </tr>\n",
       "    <tr>\n",
       "      <th>28</th>\n",
       "      <td>27</td>\n",
       "      <td>95</td>\n",
       "      <td>27_mittromney_ricksantorum_paulryanvp_cont</td>\n",
       "      <td>[mittromney, ricksantorum, paulryanvp, cont, i...</td>\n",
       "      <td>[MittRomney well last night contests earned de...</td>\n",
       "    </tr>\n",
       "    <tr>\n",
       "      <th>29</th>\n",
       "      <td>28</td>\n",
       "      <td>72</td>\n",
       "      <td>28_vietnam_military_blumenthal_sexual</td>\n",
       "      <td>[vietnam, military, blumenthal, sexual, genera...</td>\n",
       "      <td>[general good bad troops command make General ...</td>\n",
       "    </tr>\n",
       "    <tr>\n",
       "      <th>30</th>\n",
       "      <td>29</td>\n",
       "      <td>62</td>\n",
       "      <td>29_vanityfair_graydon_carter_magazine</td>\n",
       "      <td>[vanityfair, graydon, carter, magazine, vanity...</td>\n",
       "      <td>[Conde Nast allow dopey Graydon Carter run bad...</td>\n",
       "    </tr>\n",
       "    <tr>\n",
       "      <th>31</th>\n",
       "      <td>30</td>\n",
       "      <td>59</td>\n",
       "      <td>30_twitter_debate_protesters_tweeting</td>\n",
       "      <td>[twitter, debate, protesters, tweeting, live, ...</td>\n",
       "      <td>[possible James Woods many others strong respo...</td>\n",
       "    </tr>\n",
       "    <tr>\n",
       "      <th>32</th>\n",
       "      <td>31</td>\n",
       "      <td>49</td>\n",
       "      <td>31_autism_autismspeaks_vaccines_vaccine</td>\n",
       "      <td>[autism, autismspeaks, vaccines, vaccine, mass...</td>\n",
       "      <td>[Join autismspeaks light world blue LIUB raise...</td>\n",
       "    </tr>\n",
       "    <tr>\n",
       "      <th>33</th>\n",
       "      <td>32</td>\n",
       "      <td>46</td>\n",
       "      <td>32_father_fred_mother_mary</td>\n",
       "      <td>[father, fred, mother, mary, advice, macleod, ...</td>\n",
       "      <td>[Good advice father Know everything youre Fred...</td>\n",
       "    </tr>\n",
       "    <tr>\n",
       "      <th>34</th>\n",
       "      <td>33</td>\n",
       "      <td>43</td>\n",
       "      <td>33_lordsugar_sugar_dopey_diet</td>\n",
       "      <td>[lordsugar, sugar, dopey, diet, coke, worth, d...</td>\n",
       "      <td>[Dopey Sugar Lord_SugarIm worth billion acknow...</td>\n",
       "    </tr>\n",
       "    <tr>\n",
       "      <th>35</th>\n",
       "      <td>34</td>\n",
       "      <td>43</td>\n",
       "      <td>34_nato_pay_countries_europe</td>\n",
       "      <td>[nato, pay, countries, europe, germany, us, sh...</td>\n",
       "      <td>[United States spending far NATO Country fair ...</td>\n",
       "    </tr>\n",
       "    <tr>\n",
       "      <th>36</th>\n",
       "      <td>35</td>\n",
       "      <td>42</td>\n",
       "      <td>35_mac_song_miller_donald</td>\n",
       "      <td>[mac, song, miller, donald, hits, macmillers, ...</td>\n",
       "      <td>[TylerTheKicker Donald Trump Mac Miller foreve...</td>\n",
       "    </tr>\n",
       "    <tr>\n",
       "      <th>37</th>\n",
       "      <td>36</td>\n",
       "      <td>37</td>\n",
       "      <td>36_tea_party_convention_sc</td>\n",
       "      <td>[tea, party, convention, sc, via, myrtle, beac...</td>\n",
       "      <td>[Trump arrives SC Tea Party Convention Myrtle ...</td>\n",
       "    </tr>\n",
       "    <tr>\n",
       "      <th>38</th>\n",
       "      <td>37</td>\n",
       "      <td>29</td>\n",
       "      <td>37_venezuela_cuba_venezuelan_democracy</td>\n",
       "      <td>[venezuela, cuba, venezuelan, democracy, chave...</td>\n",
       "      <td>[citizens Venezuela suffered long hands illegi...</td>\n",
       "    </tr>\n",
       "    <tr>\n",
       "      <th>39</th>\n",
       "      <td>38</td>\n",
       "      <td>28</td>\n",
       "      <td>38_paris_france_attack_accord</td>\n",
       "      <td>[paris, france, attack, accord, terror, agreem...</td>\n",
       "      <td>[glad friend EmmanuelMacron protestors Paris a...</td>\n",
       "    </tr>\n",
       "    <tr>\n",
       "      <th>40</th>\n",
       "      <td>39</td>\n",
       "      <td>26</td>\n",
       "      <td>39_momentum_excitement_motivation_score</td>\n",
       "      <td>[momentum, excitement, motivation, score, keep...</td>\n",
       "      <td>[Great Money never big motivation except way k...</td>\n",
       "    </tr>\n",
       "    <tr>\n",
       "      <th>41</th>\n",
       "      <td>40</td>\n",
       "      <td>25</td>\n",
       "      <td>40_university_bei_nevada_las</td>\n",
       "      <td>[university, bei, nevada, las, vegas, penn, dr...</td>\n",
       "      <td>[CHOICE CLEAR BigLeagueTruth DrainTheSwamp bei...</td>\n",
       "    </tr>\n",
       "    <tr>\n",
       "      <th>42</th>\n",
       "      <td>41</td>\n",
       "      <td>24</td>\n",
       "      <td>41_apple_screen_iphone_larger</td>\n",
       "      <td>[apple, screen, iphone, larger, steve, samsung...</td>\n",
       "      <td>[Apple must make IPhone screen bigger Losing m...</td>\n",
       "    </tr>\n",
       "    <tr>\n",
       "      <th>43</th>\n",
       "      <td>42</td>\n",
       "      <td>21</td>\n",
       "      <td>42_lance_armstrong_oprah_lancearmstrong</td>\n",
       "      <td>[lance, armstrong, oprah, lancearmstrong, inte...</td>\n",
       "      <td>[hope Oprah gives Lance Armstrong million doll...</td>\n",
       "    </tr>\n",
       "    <tr>\n",
       "      <th>44</th>\n",
       "      <td>43</td>\n",
       "      <td>21</td>\n",
       "      <td>43_amazon_post_lobbyist_retailers</td>\n",
       "      <td>[amazon, post, lobbyist, retailers, delivery, ...</td>\n",
       "      <td>[include Fake Washington Post used lobbyist RE...</td>\n",
       "    </tr>\n",
       "    <tr>\n",
       "      <th>45</th>\n",
       "      <td>44</td>\n",
       "      <td>19</td>\n",
       "      <td>44_tmobile_johnlegere_service_naughtoriousbig</td>\n",
       "      <td>[tmobile, johnlegere, service, naughtoriousbig...</td>\n",
       "      <td>[TMobile service absolutely terrible get ball ...</td>\n",
       "    </tr>\n",
       "    <tr>\n",
       "      <th>46</th>\n",
       "      <td>45</td>\n",
       "      <td>19</td>\n",
       "      <td>45_pinehurst_mattginellagc_matt_play</td>\n",
       "      <td>[pinehurst, mattginellagc, matt, play, golf, s...</td>\n",
       "      <td>[CharlieMaikis realDonaldTrump completely agre...</td>\n",
       "    </tr>\n",
       "    <tr>\n",
       "      <th>47</th>\n",
       "      <td>46</td>\n",
       "      <td>16</td>\n",
       "      <td>46_questions_askthedonald_facebook_video</td>\n",
       "      <td>[questions, askthedonald, facebook, video, blo...</td>\n",
       "      <td>[Watch video blog see questions Facebook page ...</td>\n",
       "    </tr>\n",
       "    <tr>\n",
       "      <th>48</th>\n",
       "      <td>47</td>\n",
       "      <td>13</td>\n",
       "      <td>47_oann_foxnews__</td>\n",
       "      <td>[oann, foxnews, , , , , , , , ]</td>\n",
       "      <td>[سال فساد سال سرکوب سال ترور رژیم ایران فقط مو...</td>\n",
       "    </tr>\n",
       "    <tr>\n",
       "      <th>49</th>\n",
       "      <td>48</td>\n",
       "      <td>12</td>\n",
       "      <td>48_sweepstweet_teresagiudice_lisalampanelli_li...</td>\n",
       "      <td>[sweepstweet, teresagiudice, lisalampanelli, l...</td>\n",
       "      <td>[Firing lisalampanelli may come surprise Shes ...</td>\n",
       "    </tr>\n",
       "  </tbody>\n",
       "</table>\n",
       "</div>"
      ],
      "text/plain": [
       "    Topic  Count                                               Name  \\\n",
       "0      -1  12027               -1_great_trump_realdonaldtrump_thank   \n",
       "1       0   5123              0_realdonaldtrump_trump_run_president   \n",
       "2       1   3511                           1_fake_news_hillary_poll   \n",
       "3       2   1734          2_apprentice_apprenticenbc_celebrity_show   \n",
       "4       3   1379                           3_china_trade_us_tariffs   \n",
       "5       4   1212                  4_obamacare_obama_barackobama_tax   \n",
       "6       5   1125                          5_golf_hotel_course_trump   \n",
       "7       6    972                 6_endorsement_vets_amendment_great   \n",
       "8       7    967                   7_border_wall_mexico_immigration   \n",
       "9       8    871                             8_iran_isis_syria_iraq   \n",
       "10      9    612                  9_entrepreneurs_think_focus_midas   \n",
       "11     10    553                      10_honor_veterans_today_women   \n",
       "12     11    398                       11_miss_universe_pageant_wwe   \n",
       "13     12    348                      12_hurricane_rico_puerto_fema   \n",
       "14     13    312                        13_market_fed_stock_reserve   \n",
       "15     14    296                             14_book_art_read_books   \n",
       "16     15    295                          15_mayor_gun_weiner_cuomo   \n",
       "17     16    269           16_ebola_coronavirus_testing_ventilators   \n",
       "18     17    250                            17_korea_north_kim_jong   \n",
       "19     18    226                     18_nfl_nflcommish_bills_anthem   \n",
       "20     19    213                  19_wind_turbines_alexsalmond_ugly   \n",
       "21     20    198                        20_yankees_arod_derek_jeter   \n",
       "22     21    176               21_churchill_albert_einstein_winston   \n",
       "23     22    156             22_celebapprentice_omarosa_season_star   \n",
       "24     23    126             23_dannyzuker_danny_cuban_dennisrodman   \n",
       "25     24    122          24_bankruptcy_bankrupt_billmaher_atlantic   \n",
       "26     25    109                 25_global_warming_climate_freezing   \n",
       "27     26     98                        26_tickets_join_pm_tomorrow   \n",
       "28     27     95         27_mittromney_ricksantorum_paulryanvp_cont   \n",
       "29     28     72              28_vietnam_military_blumenthal_sexual   \n",
       "30     29     62              29_vanityfair_graydon_carter_magazine   \n",
       "31     30     59              30_twitter_debate_protesters_tweeting   \n",
       "32     31     49            31_autism_autismspeaks_vaccines_vaccine   \n",
       "33     32     46                         32_father_fred_mother_mary   \n",
       "34     33     43                      33_lordsugar_sugar_dopey_diet   \n",
       "35     34     43                       34_nato_pay_countries_europe   \n",
       "36     35     42                          35_mac_song_miller_donald   \n",
       "37     36     37                         36_tea_party_convention_sc   \n",
       "38     37     29             37_venezuela_cuba_venezuelan_democracy   \n",
       "39     38     28                      38_paris_france_attack_accord   \n",
       "40     39     26            39_momentum_excitement_motivation_score   \n",
       "41     40     25                       40_university_bei_nevada_las   \n",
       "42     41     24                      41_apple_screen_iphone_larger   \n",
       "43     42     21            42_lance_armstrong_oprah_lancearmstrong   \n",
       "44     43     21                  43_amazon_post_lobbyist_retailers   \n",
       "45     44     19      44_tmobile_johnlegere_service_naughtoriousbig   \n",
       "46     45     19               45_pinehurst_mattginellagc_matt_play   \n",
       "47     46     16           46_questions_askthedonald_facebook_video   \n",
       "48     47     13                                  47_oann_foxnews__   \n",
       "49     48     12  48_sweepstweet_teresagiudice_lisalampanelli_li...   \n",
       "\n",
       "                                       Representation  \\\n",
       "0   [great, trump, realdonaldtrump, thank, people,...   \n",
       "1   [realdonaldtrump, trump, run, president, donal...   \n",
       "2   [fake, news, hillary, poll, media, collusion, ...   \n",
       "3   [apprentice, apprenticenbc, celebrity, show, t...   \n",
       "4   [china, trade, us, tariffs, jobs, chinese, dea...   \n",
       "5   [obamacare, obama, barackobama, tax, cuts, dac...   \n",
       "6   [golf, hotel, course, trump, scotland, doral, ...   \n",
       "7   [endorsement, vets, amendment, great, carolina...   \n",
       "8   [border, wall, mexico, immigration, southern, ...   \n",
       "9   [iran, isis, syria, iraq, israel, obama, nucle...   \n",
       "10  [entrepreneurs, think, focus, midas, touch, su...   \n",
       "11  [honor, veterans, today, women, men, christmas...   \n",
       "12  [miss, universe, pageant, wwe, missuniverse, u...   \n",
       "13  [hurricane, rico, puerto, fema, prayers, famil...   \n",
       "14  [market, fed, stock, reserve, estate, rates, i...   \n",
       "15  [book, art, read, books, signing, deal, new, r...   \n",
       "16  [mayor, gun, weiner, cuomo, pervert, nyc, york...   \n",
       "17  [ebola, coronavirus, testing, ventilators, afr...   \n",
       "18  [korea, north, kim, jong, un, japan, south, nu...   \n",
       "19  [nfl, nflcommish, bills, anthem, buffalobills,...   \n",
       "20  [wind, turbines, alexsalmond, ugly, scotland, ...   \n",
       "21  [yankees, arod, derek, jeter, baseball, game, ...   \n",
       "22  [churchill, albert, einstein, winston, henry, ...   \n",
       "23  [celebapprentice, omarosa, season, star, thega...   \n",
       "24  [dannyzuker, danny, cuban, dennisrodman, mark,...   \n",
       "25  [bankruptcy, bankrupt, billmaher, atlantic, we...   \n",
       "26  [global, warming, climate, freezing, cold, cha...   \n",
       "27  [tickets, join, pm, tomorrow, center, maga, co...   \n",
       "28  [mittromney, ricksantorum, paulryanvp, cont, i...   \n",
       "29  [vietnam, military, blumenthal, sexual, genera...   \n",
       "30  [vanityfair, graydon, carter, magazine, vanity...   \n",
       "31  [twitter, debate, protesters, tweeting, live, ...   \n",
       "32  [autism, autismspeaks, vaccines, vaccine, mass...   \n",
       "33  [father, fred, mother, mary, advice, macleod, ...   \n",
       "34  [lordsugar, sugar, dopey, diet, coke, worth, d...   \n",
       "35  [nato, pay, countries, europe, germany, us, sh...   \n",
       "36  [mac, song, miller, donald, hits, macmillers, ...   \n",
       "37  [tea, party, convention, sc, via, myrtle, beac...   \n",
       "38  [venezuela, cuba, venezuelan, democracy, chave...   \n",
       "39  [paris, france, attack, accord, terror, agreem...   \n",
       "40  [momentum, excitement, motivation, score, keep...   \n",
       "41  [university, bei, nevada, las, vegas, penn, dr...   \n",
       "42  [apple, screen, iphone, larger, steve, samsung...   \n",
       "43  [lance, armstrong, oprah, lancearmstrong, inte...   \n",
       "44  [amazon, post, lobbyist, retailers, delivery, ...   \n",
       "45  [tmobile, johnlegere, service, naughtoriousbig...   \n",
       "46  [pinehurst, mattginellagc, matt, play, golf, s...   \n",
       "47  [questions, askthedonald, facebook, video, blo...   \n",
       "48                    [oann, foxnews, , , , , , , , ]   \n",
       "49  [sweepstweet, teresagiudice, lisalampanelli, l...   \n",
       "\n",
       "                                  Representative_Docs  \n",
       "0   [bad Economic times worse better anything make...  \n",
       "1   [B_Thornton run president youd vote Youre coun...  \n",
       "2   [Republican Party GREAT day yesterday respect ...  \n",
       "3   [Dont forget tune tonight another exciting epi...  \n",
       "4   [many years China many countries taking advant...  \n",
       "5   [immediately repeal replace ObamaCare nobody l...  \n",
       "6   [spent two days Ireland Trump International Go...  \n",
       "7   [Congressman MikeTurnerOH strong supporter fig...  \n",
       "8   [State Emergency Southern Border Border Patrol...  \n",
       "9   [Iran wants fight official end Iran Never thre...  \n",
       "10  [Entrepreneurs Look solution problem Learn foc...  \n",
       "11  [Vietnam War Veterans Day celebrate brave Viet...  \n",
       "12  [going get hotter Las Vegas tonight Watch Miss...  \n",
       "13  [Democrats today killed Bill would provided gr...  \n",
       "14  [Stock Market big today New Record Enjoy, Fed ...  \n",
       "15  [Ill signing copies new book Time Get Tough to...  \n",
       "16  [Sexual pervert deviant Anthony Weiner polling...  \n",
       "17  [go stated long ago cancel flights West Africa...  \n",
       "18  [United States team arrived North Korea make a...  \n",
       "19  [Two dozen NFL players continue kneel National...  \n",
       "20  [Prime Minister David_Cameron foolish giving A...  \n",
       "21  [told whenever go Yankees game Yankees win, De...  \n",
       "22  [Without passion dont energy without energy no...  \n",
       "23  [Hes back causing trouble ever THEGaryBusey re...  \n",
       "24  [DannyZuker Come Danny u afraid DEAL careful I...  \n",
       "25  [Stop saying went bankrupt never went bankrupt...  \n",
       "26  [con artists changed name GLOBAL WARMING CLIMA...  \n",
       "27  [Join us Toledo Ohio tomorrow night pm TrumpPe...  \n",
       "28  [MittRomney well last night contests earned de...  \n",
       "29  [general good bad troops command make General ...  \n",
       "30  [Conde Nast allow dopey Graydon Carter run bad...  \n",
       "31  [possible James Woods many others strong respo...  \n",
       "32  [Join autismspeaks light world blue LIUB raise...  \n",
       "33  [Good advice father Know everything youre Fred...  \n",
       "34  [Dopey Sugar Lord_SugarIm worth billion acknow...  \n",
       "35  [United States spending far NATO Country fair ...  \n",
       "36  [TylerTheKicker Donald Trump Mac Miller foreve...  \n",
       "37  [Trump arrives SC Tea Party Convention Myrtle ...  \n",
       "38  [citizens Venezuela suffered long hands illegi...  \n",
       "39  [glad friend EmmanuelMacron protestors Paris a...  \n",
       "40  [Great Money never big motivation except way k...  \n",
       "41  [CHOICE CLEAR BigLeagueTruth DrainTheSwamp bei...  \n",
       "42  [Apple must make IPhone screen bigger Losing m...  \n",
       "43  [hope Oprah gives Lance Armstrong million doll...  \n",
       "44  [include Fake Washington Post used lobbyist RE...  \n",
       "45  [TMobile service absolutely terrible get ball ...  \n",
       "46  [CharlieMaikis realDonaldTrump completely agre...  \n",
       "47  [Watch video blog see questions Facebook page ...  \n",
       "48  [سال فساد سال سرکوب سال ترور رژیم ایران فقط مو...  \n",
       "49  [Firing lisalampanelli may come surprise Shes ...  "
      ]
     },
     "execution_count": 32,
     "metadata": {},
     "output_type": "execute_result"
    }
   ],
   "source": [
    "topic_model.get_topic_info()"
   ]
  },
  {
   "cell_type": "code",
   "execution_count": 33,
   "metadata": {},
   "outputs": [
    {
     "data": {
      "text/plain": [
       "['great, trump, realdonaldtrump, thank, people, donald, get, obama, president, big',\n",
       " 'realdonaldtrump, trump, run, president, donald, thanks, mr, please, need, country',\n",
       " 'fake, news, hillary, poll, media, collusion, democrats, clinton, crooked, hunt',\n",
       " 'apprentice, apprenticenbc, celebrity, show, tonight, interview, realdonaldtrump, pm, season, nbc',\n",
       " 'china, trade, us, tariffs, jobs, chinese, deal, america, companies, country',\n",
       " 'obamacare, obama, barackobama, tax, cuts, daca, debt, healthcare, republicans, repeal',\n",
       " 'golf, hotel, course, trump, scotland, doral, club, links, tower, best',\n",
       " 'endorsement, vets, amendment, great, carolina, complete, strong, iowa, military, total',\n",
       " 'border, wall, mexico, immigration, southern, security, democrats, borders, laws, country',\n",
       " 'iran, isis, syria, iraq, israel, obama, nuclear, us, benghazi, iranian',\n",
       " 'entrepreneurs, think, focus, midas, touch, success, keep, big, work, champion',\n",
       " 'honor, veterans, today, women, men, christmas, happy, heroes, great, day',\n",
       " 'miss, universe, pageant, wwe, missuniverse, usa, vince, missusa, wrestlemania, hall',\n",
       " 'hurricane, rico, puerto, fema, prayers, families, responders, enforcement, thoughts, law',\n",
       " 'market, fed, stock, reserve, estate, rates, interest, federal, inflation, dollar',\n",
       " 'book, art, read, books, signing, deal, new, reading, copy, crippled',\n",
       " 'mayor, gun, weiner, cuomo, pervert, nyc, york, anthony, guns, spitzer',\n",
       " 'ebola, coronavirus, testing, ventilators, africa, virus, flights, drug, west, us',\n",
       " 'korea, north, kim, jong, un, japan, south, nuclear, prime, meeting',\n",
       " 'nfl, nflcommish, bills, anthem, buffalobills, buffalo, players, brady, tom, flag',\n",
       " 'wind, turbines, alexsalmond, ugly, scotland, windmills, birds, bird, farms, killing',\n",
       " 'yankees, arod, derek, jeter, baseball, game, mlb, fame, hall, player',\n",
       " 'churchill, albert, einstein, winston, henry, energy, ford, without, passion, courage',\n",
       " 'celebapprentice, omarosa, season, star, thegarybusey, leezagibbons, th, upcoming, fans, allstar',\n",
       " 'dannyzuker, danny, cuban, dennisrodman, mark, mcuban, dennis, nba, game, loser',\n",
       " 'bankruptcy, bankrupt, billmaher, atlantic, went, charity, city, icahn, kravis, buffett',\n",
       " 'global, warming, climate, freezing, cold, change, coldest, weather, ice, record',\n",
       " 'tickets, join, pm, tomorrow, center, maga, colorado, phoenix, rapids, ohio',\n",
       " 'mittromney, ricksantorum, paulryanvp, cont, interview, discussing, behalf, mitt, ricksantorums, win',\n",
       " 'vietnam, military, blumenthal, sexual, general, patton, generals, douglas, macarthur, george',\n",
       " 'vanityfair, graydon, carter, magazine, vanity, circulation, food, restaurants, fair, sales',\n",
       " 'twitter, debate, protesters, tweeting, live, media, social, ows, rallies, voices',\n",
       " 'autism, autismspeaks, vaccines, vaccine, massive, vaccinations, awareness, doses, shots, children',\n",
       " 'father, fred, mother, mary, advice, macleod, fathers, trust, dad, god',\n",
       " 'lordsugar, sugar, dopey, diet, coke, worth, drinking, weight, piersmorgan, show',\n",
       " 'nato, pay, countries, europe, germany, us, share, european, trade, dollars',\n",
       " 'mac, song, miller, donald, hits, macmillers, millers, macmiller, trump, million',\n",
       " 'tea, party, convention, sc, via, myrtle, beach, gop, donald, monday',\n",
       " 'venezuela, cuba, venezuelan, democracy, chavez, hugo, maduro, cuban, guaido, freedom',\n",
       " 'paris, france, attack, accord, terror, agreement, terrorist, countries, polluters, sickness',\n",
       " 'momentum, excitement, motivation, score, keep, playing, except, game, money, way',\n",
       " 'university, bei, nevada, las, vegas, penn, draintheswamp, bigleaguetruth, ncaa, hillaryclinton',\n",
       " 'apple, screen, iphone, larger, steve, samsung, jobs, stock, apples, large',\n",
       " 'lance, armstrong, oprah, lancearmstrong, interview, lawsuits, sued, wishes, bet, opening',\n",
       " 'amazon, post, lobbyist, retailers, delivery, taxes, washingtonpost, postal, office, washington',\n",
       " 'tmobile, johnlegere, service, naughtoriousbig, sucks, company, terrible, verizonwireless, trumpmobile, mrnicolasbell',\n",
       " 'pinehurst, mattginellagc, matt, play, golf, stevenowell, looked, greens, cow, like',\n",
       " 'questions, askthedonald, facebook, video, blog, answered, answering, answer, question, latest',\n",
       " 'oann, foxnews, , , , , , , , ',\n",
       " 'sweepstweet, teresagiudice, lisalampanelli, lisalampanellis, chi, client, shes, lisalampanellit, hairdryer, observancethat']"
      ]
     },
     "execution_count": 33,
     "metadata": {},
     "output_type": "execute_result"
    }
   ],
   "source": [
    "# the easiest way to generate topic labels is to use the generate_topic_labels method\n",
    "\n",
    "topic_model.generate_topic_labels(nr_words=10,topic_prefix=False,word_length=15,separator=\", \")"
   ]
  },
  {
   "cell_type": "markdown",
   "metadata": {},
   "source": [
    "## More advanced: use a language model to generate topic names"
   ]
  },
  {
   "cell_type": "code",
   "execution_count": 34,
   "metadata": {},
   "outputs": [
    {
     "data": {
      "text/plain": [
       "['great, trump, realdonaldtrump, thank, people, donald, get, obama, president, big',\n",
       " 'realdonaldtrump, trump, run, president, donald, thanks, mr, please, need, country',\n",
       " 'fake, news, hillary, poll, media, collusion, democrats, clinton, crooked, hunt',\n",
       " 'apprentice, apprenticenbc, celebrity, show, tonight, interview, realdonaldtrump, pm, season, nbc',\n",
       " 'china, trade, us, tariffs, jobs, chinese, deal, america, companies, country',\n",
       " 'obamacare, obama, barackobama, tax, cuts, daca, debt, healthcare, republicans, repeal',\n",
       " 'golf, hotel, course, trump, scotland, doral, club, links, tower, best',\n",
       " 'endorsement, vets, amendment, great, carolina, complete, strong, iowa, military, total',\n",
       " 'border, wall, mexico, immigration, southern, security, democrats, borders, laws, country',\n",
       " 'iran, isis, syria, iraq, israel, obama, nuclear, us, benghazi, iranian',\n",
       " 'entrepreneurs, think, focus, midas, touch, success, keep, big, work, champion',\n",
       " 'honor, veterans, today, women, men, christmas, happy, heroes, great, day',\n",
       " 'miss, universe, pageant, wwe, missuniverse, usa, vince, missusa, wrestlemania, hall',\n",
       " 'hurricane, rico, puerto, fema, prayers, families, responders, enforcement, thoughts, law',\n",
       " 'market, fed, stock, reserve, estate, rates, interest, federal, inflation, dollar',\n",
       " 'book, art, read, books, signing, deal, new, reading, copy, crippled',\n",
       " 'mayor, gun, weiner, cuomo, pervert, nyc, york, anthony, guns, spitzer',\n",
       " 'ebola, coronavirus, testing, ventilators, africa, virus, flights, drug, west, us',\n",
       " 'korea, north, kim, jong, un, japan, south, nuclear, prime, meeting',\n",
       " 'nfl, nflcommish, bills, anthem, buffalobills, buffalo, players, brady, tom, flag',\n",
       " 'wind, turbines, alexsalmond, ugly, scotland, windmills, birds, bird, farms, killing',\n",
       " 'yankees, arod, derek, jeter, baseball, game, mlb, fame, hall, player',\n",
       " 'churchill, albert, einstein, winston, henry, energy, ford, without, passion, courage',\n",
       " 'celebapprentice, omarosa, season, star, thegarybusey, leezagibbons, th, upcoming, fans, allstar',\n",
       " 'dannyzuker, danny, cuban, dennisrodman, mark, mcuban, dennis, nba, game, loser',\n",
       " 'bankruptcy, bankrupt, billmaher, atlantic, went, charity, city, icahn, kravis, buffett',\n",
       " 'global, warming, climate, freezing, cold, change, coldest, weather, ice, record',\n",
       " 'tickets, join, pm, tomorrow, center, maga, colorado, phoenix, rapids, ohio',\n",
       " 'mittromney, ricksantorum, paulryanvp, cont, interview, discussing, behalf, mitt, ricksantorums, win',\n",
       " 'vietnam, military, blumenthal, sexual, general, patton, generals, douglas, macarthur, george',\n",
       " 'vanityfair, graydon, carter, magazine, vanity, circulation, food, restaurants, fair, sales',\n",
       " 'twitter, debate, protesters, tweeting, live, media, social, ows, rallies, voices',\n",
       " 'autism, autismspeaks, vaccines, vaccine, massive, vaccinations, awareness, doses, shots, children',\n",
       " 'father, fred, mother, mary, advice, macleod, fathers, trust, dad, god',\n",
       " 'lordsugar, sugar, dopey, diet, coke, worth, drinking, weight, piersmorgan, show',\n",
       " 'nato, pay, countries, europe, germany, us, share, european, trade, dollars',\n",
       " 'mac, song, miller, donald, hits, macmillers, millers, macmiller, trump, million',\n",
       " 'tea, party, convention, sc, via, myrtle, beach, gop, donald, monday',\n",
       " 'venezuela, cuba, venezuelan, democracy, chavez, hugo, maduro, cuban, guaido, freedom',\n",
       " 'paris, france, attack, accord, terror, agreement, terrorist, countries, polluters, sickness',\n",
       " 'momentum, excitement, motivation, score, keep, playing, except, game, money, way',\n",
       " 'university, bei, nevada, las, vegas, penn, draintheswamp, bigleaguetruth, ncaa, hillaryclinton',\n",
       " 'apple, screen, iphone, larger, steve, samsung, jobs, stock, apples, large',\n",
       " 'lance, armstrong, oprah, lancearmstrong, interview, lawsuits, sued, wishes, bet, opening',\n",
       " 'amazon, post, lobbyist, retailers, delivery, taxes, washingtonpost, postal, office, washington',\n",
       " 'tmobile, johnlegere, service, naughtoriousbig, sucks, company, terrible, verizonwireless, trumpmobile, mrnicolasbell',\n",
       " 'pinehurst, mattginellagc, matt, play, golf, stevenowell, looked, greens, cow, like',\n",
       " 'questions, askthedonald, facebook, video, blog, answered, answering, answer, question, latest',\n",
       " 'oann, foxnews, , , , , , , , ',\n",
       " 'sweepstweet, teresagiudice, lisalampanelli, lisalampanellis, chi, client, shes, lisalampanellit, hairdryer, observancethat']"
      ]
     },
     "execution_count": 34,
     "metadata": {},
     "output_type": "execute_result"
    }
   ],
   "source": [
    "topic_names = topic_model.generate_topic_labels(nr_words=10,topic_prefix=False,word_length=15,separator=\", \")\n",
    "topic_names"
   ]
  },
  {
   "cell_type": "code",
   "execution_count": 35,
   "metadata": {},
   "outputs": [
    {
     "name": "stderr",
     "output_type": "stream",
     "text": [
      "huggingface/tokenizers: The current process just got forked, after parallelism has already been used. Disabling parallelism to avoid deadlocks...\n",
      "To disable this warning, you can either:\n",
      "\t- Avoid using `tokenizers` before the fork if possible\n",
      "\t- Explicitly set the environment variable TOKENIZERS_PARALLELISM=(true | false)\n"
     ]
    },
    {
     "name": "stdout",
     "output_type": "stream",
     "text": [
      "Requirement already satisfied: openai in /home/zach/anaconda3/envs/bertopic/lib/python3.11/site-packages (1.60.1)\n",
      "Requirement already satisfied: anyio<5,>=3.5.0 in /home/zach/anaconda3/envs/bertopic/lib/python3.11/site-packages (from openai) (4.8.0)\n",
      "Requirement already satisfied: distro<2,>=1.7.0 in /home/zach/anaconda3/envs/bertopic/lib/python3.11/site-packages (from openai) (1.9.0)\n",
      "Requirement already satisfied: httpx<1,>=0.23.0 in /home/zach/anaconda3/envs/bertopic/lib/python3.11/site-packages (from openai) (0.28.1)\n",
      "Requirement already satisfied: jiter<1,>=0.4.0 in /home/zach/anaconda3/envs/bertopic/lib/python3.11/site-packages (from openai) (0.8.2)\n",
      "Requirement already satisfied: pydantic<3,>=1.9.0 in /home/zach/anaconda3/envs/bertopic/lib/python3.11/site-packages (from openai) (2.10.6)\n",
      "Requirement already satisfied: sniffio in /home/zach/anaconda3/envs/bertopic/lib/python3.11/site-packages (from openai) (1.3.1)\n",
      "Requirement already satisfied: tqdm>4 in /home/zach/anaconda3/envs/bertopic/lib/python3.11/site-packages (from openai) (4.67.1)\n",
      "Requirement already satisfied: typing-extensions<5,>=4.11 in /home/zach/anaconda3/envs/bertopic/lib/python3.11/site-packages (from openai) (4.12.2)\n",
      "Requirement already satisfied: idna>=2.8 in /home/zach/anaconda3/envs/bertopic/lib/python3.11/site-packages (from anyio<5,>=3.5.0->openai) (3.10)\n",
      "Requirement already satisfied: certifi in /home/zach/anaconda3/envs/bertopic/lib/python3.11/site-packages (from httpx<1,>=0.23.0->openai) (2024.12.14)\n",
      "Requirement already satisfied: httpcore==1.* in /home/zach/anaconda3/envs/bertopic/lib/python3.11/site-packages (from httpx<1,>=0.23.0->openai) (1.0.7)\n",
      "Requirement already satisfied: h11<0.15,>=0.13 in /home/zach/anaconda3/envs/bertopic/lib/python3.11/site-packages (from httpcore==1.*->httpx<1,>=0.23.0->openai) (0.14.0)\n",
      "Requirement already satisfied: annotated-types>=0.6.0 in /home/zach/anaconda3/envs/bertopic/lib/python3.11/site-packages (from pydantic<3,>=1.9.0->openai) (0.7.0)\n",
      "Requirement already satisfied: pydantic-core==2.27.2 in /home/zach/anaconda3/envs/bertopic/lib/python3.11/site-packages (from pydantic<3,>=1.9.0->openai) (2.27.2)\n",
      "Note: you may need to restart the kernel to use updated packages.\n"
     ]
    }
   ],
   "source": [
    "pip install openai"
   ]
  },
  {
   "cell_type": "code",
   "execution_count": 36,
   "metadata": {},
   "outputs": [],
   "source": [
    "# import openai API \n",
    "from openai import OpenAI\n",
    "\n",
    "\n",
    "# create an instance of the OpenAI class - we're not going to use the API key, but it is required\n",
    "client = OpenAI(\n",
    "    base_url='http://localhost:11434/v1/',\n",
    "    api_key='ollama',  # Required but ignored\n",
    ")"
   ]
  },
  {
   "cell_type": "code",
   "execution_count": 37,
   "metadata": {},
   "outputs": [],
   "source": [
    "\n",
    "# define the model we want to use\n",
    "model = 'mistral'\n",
    "\n",
    "\n",
    "# write a function that takes a string as input and returns the chatbot's response\n",
    "def chat(text): \n",
    "    chat_completion = client.chat.completions.create(\n",
    "        messages=[\n",
    "            {'role': 'user', 'content': text},\n",
    "        ],\n",
    "        model=model, \n",
    "    )\n",
    "    \n",
    "    response = chat_completion.choices[0].message.content\n",
    "    \n",
    "    # print the response with line breaks\n",
    "    print(response)\n",
    "    return response"
   ]
  },
  {
   "cell_type": "code",
   "execution_count": 38,
   "metadata": {},
   "outputs": [
    {
     "name": "stdout",
     "output_type": "stream",
     "text": [
      " Potential label for this topic: Political News Surrounding Clinton\n",
      "\n",
      "By using the provided list of words that focus on Hillary Clinton (e.g., Clinton, democrats), political news (e.g., news, poll) and controversy or criticism (e.g., fake news, collusion, crooked), it's apparent that this topic might revolve around the political news pertaining to Hillary Clinton.\n"
     ]
    },
    {
     "data": {
      "text/plain": [
       "\" Potential label for this topic: Political News Surrounding Clinton\\n\\nBy using the provided list of words that focus on Hillary Clinton (e.g., Clinton, democrats), political news (e.g., news, poll) and controversy or criticism (e.g., fake news, collusion, crooked), it's apparent that this topic might revolve around the political news pertaining to Hillary Clinton.\""
      ]
     },
     "execution_count": 38,
     "metadata": {},
     "output_type": "execute_result"
    }
   ],
   "source": [
    "chat(f''' I am going to give you the topic representation words for a topic model. I want you to generate a label for the topic. Please only reply with a label for the topic. Here are the words: \n",
    "     \n",
    "     \\n \\n \n",
    "     \n",
    "        {topic_names[2]}\n",
    "        \n",
    "        \n",
    "     \\n \\n    \n",
    "\n",
    "    \n",
    "        \n",
    "    ''')"
   ]
  },
  {
   "cell_type": "code",
   "execution_count": 39,
   "metadata": {},
   "outputs": [],
   "source": [
    "from tqdm import tqdm"
   ]
  },
  {
   "cell_type": "code",
   "execution_count": 70,
   "metadata": {},
   "outputs": [
    {
     "name": "stderr",
     "output_type": "stream",
     "text": [
      "  2%|▏         | 1/50 [00:01<01:07,  1.38s/it]"
     ]
    },
    {
     "name": "stdout",
     "output_type": "stream",
     "text": [
      " \"Popular Opinion on Trump's Presidency (Transition from Obama)\"\n"
     ]
    },
    {
     "name": "stderr",
     "output_type": "stream",
     "text": [
      "  4%|▍         | 2/50 [00:01<00:40,  1.17it/s]"
     ]
    },
    {
     "name": "stdout",
     "output_type": "stream",
     "text": [
      " \"Political Actions of President Trump\" (or, alternatively, \"Trump's Presidency Requests\")\n"
     ]
    },
    {
     "name": "stderr",
     "output_type": "stream",
     "text": [
      "  6%|▌         | 3/50 [00:02<00:27,  1.69it/s]"
     ]
    },
    {
     "name": "stdout",
     "output_type": "stream",
     "text": [
      " \"Political Media Misinformation Scandal (Hillary Clinton)\"\n"
     ]
    },
    {
     "name": "stderr",
     "output_type": "stream",
     "text": [
      "  8%|▊         | 4/50 [00:02<00:21,  2.11it/s]"
     ]
    },
    {
     "name": "stdout",
     "output_type": "stream",
     "text": [
      " \"Celebrity Interview: Real Donald Trump Season on NBC\"\n"
     ]
    },
    {
     "name": "stderr",
     "output_type": "stream",
     "text": [
      " 10%|█         | 5/50 [00:02<00:17,  2.55it/s]"
     ]
    },
    {
     "name": "stdout",
     "output_type": "stream",
     "text": [
      " \"U.S.-China Trade Tariffs Impacts\"\n"
     ]
    },
    {
     "name": "stderr",
     "output_type": "stream",
     "text": [
      " 12%|█▏        | 6/50 [00:03<00:17,  2.45it/s]"
     ]
    },
    {
     "name": "stdout",
     "output_type": "stream",
     "text": [
      " \"Obama's Healthcare Policies & Tax Debate Among Republicans (including DACA & Debt)\"\n"
     ]
    },
    {
     "name": "stderr",
     "output_type": "stream",
     "text": [
      " 14%|█▍        | 7/50 [00:03<00:14,  2.89it/s]"
     ]
    },
    {
     "name": "stdout",
     "output_type": "stream",
     "text": [
      " \"Scottish Golf Resorts and Trump Properties\"\n"
     ]
    },
    {
     "name": "stderr",
     "output_type": "stream",
     "text": [
      " 18%|█▊        | 9/50 [00:03<00:12,  3.21it/s]"
     ]
    },
    {
     "name": "stdout",
     "output_type": "stream",
     "text": [
      " \"Military Endorsements for Carolina Constitutional Amendments - Complete and Strong Support from Iowa Vets\"\n",
      " \"Border Security and Immigration Policies\"\n"
     ]
    },
    {
     "name": "stderr",
     "output_type": "stream",
     "text": [
      " 20%|██        | 10/50 [00:04<00:11,  3.42it/s]"
     ]
    },
    {
     "name": "stdout",
     "output_type": "stream",
     "text": [
      " Middle East Conflicts & Nuclear Tensions under Obama\n"
     ]
    },
    {
     "name": "stderr",
     "output_type": "stream",
     "text": [
      " 24%|██▍       | 12/50 [00:04<00:09,  4.11it/s]"
     ]
    },
    {
     "name": "stdout",
     "output_type": "stream",
     "text": [
      " \"Midas Touch Successful Entrepreneurship\"\n",
      " \"Happy Christmas Honoring Veterans\"\n"
     ]
    },
    {
     "name": "stderr",
     "output_type": "stream",
     "text": [
      " 26%|██▌       | 13/50 [00:04<00:09,  3.91it/s]"
     ]
    },
    {
     "name": "stdout",
     "output_type": "stream",
     "text": [
      " WWE-Miss Universe USA Connection (Pageants and Wrestling Events)\n"
     ]
    },
    {
     "name": "stderr",
     "output_type": "stream",
     "text": [
      " 28%|██▊       | 14/50 [00:05<00:09,  3.72it/s]"
     ]
    },
    {
     "name": "stdout",
     "output_type": "stream",
     "text": [
      " Natural Disaster Response in Puerto Rico (Including Law Enforcement)\n"
     ]
    },
    {
     "name": "stderr",
     "output_type": "stream",
     "text": [
      " 32%|███▏      | 16/50 [00:05<00:08,  4.03it/s]"
     ]
    },
    {
     "name": "stdout",
     "output_type": "stream",
     "text": [
      " \"Federal Monetary Policy Impact on Market and Inflation\"\n",
      " Crippled Art Book Launch and Reading Event\n"
     ]
    },
    {
     "name": "stderr",
     "output_type": "stream",
     "text": [
      " 34%|███▍      | 17/50 [00:05<00:07,  4.47it/s]"
     ]
    },
    {
     "name": "stdout",
     "output_type": "stream",
     "text": [
      " \"New York Political Scandals\"\n"
     ]
    },
    {
     "name": "stderr",
     "output_type": "stream",
     "text": [
      " 38%|███▊      | 19/50 [00:06<00:06,  4.50it/s]"
     ]
    },
    {
     "name": "stdout",
     "output_type": "stream",
     "text": [
      " Global Health Crises (Viruses in Africa and US)\n",
      " North Korea-South Korea Nuclear Tensions\n"
     ]
    },
    {
     "name": "stderr",
     "output_type": "stream",
     "text": [
      " 42%|████▏     | 21/50 [00:06<00:06,  4.48it/s]"
     ]
    },
    {
     "name": "stdout",
     "output_type": "stream",
     "text": [
      " \"Protest in NFL Buffalo Bills Game: Tom Brady and Anthem Dispute\"\n",
      " Wind Energy Conflict in Scotland\n"
     ]
    },
    {
     "name": "stderr",
     "output_type": "stream",
     "text": [
      " 44%|████▍     | 22/50 [00:07<00:07,  3.54it/s]"
     ]
    },
    {
     "name": "stdout",
     "output_type": "stream",
     "text": [
      " \"Famous MLB Players: Jeter, A-Rod, and the New York Yankees\"\n"
     ]
    },
    {
     "name": "stderr",
     "output_type": "stream",
     "text": [
      " 46%|████▌     | 23/50 [00:07<00:07,  3.80it/s]"
     ]
    },
    {
     "name": "stdout",
     "output_type": "stream",
     "text": [
      " Passionate Leaders and Scientific Pioneers\n"
     ]
    },
    {
     "name": "stderr",
     "output_type": "stream",
     "text": [
      " 48%|████▊     | 24/50 [00:07<00:08,  2.92it/s]"
     ]
    },
    {
     "name": "stdout",
     "output_type": "stream",
     "text": [
      " \"Celebrity Apprentice All-Star Season with Omarosa, Gary Busey, and Leeza Gibbons\"\n"
     ]
    },
    {
     "name": "stderr",
     "output_type": "stream",
     "text": [
      " 52%|█████▏    | 26/50 [00:08<00:06,  3.56it/s]"
     ]
    },
    {
     "name": "stdout",
     "output_type": "stream",
     "text": [
      " \"Celebrity-Involved NBA Games in Cuba\"\n",
      " Urban Restructuring and Business Philanthropy\n"
     ]
    },
    {
     "name": "stderr",
     "output_type": "stream",
     "text": [
      " 56%|█████▌    | 28/50 [00:08<00:05,  3.74it/s]"
     ]
    },
    {
     "name": "stdout",
     "output_type": "stream",
     "text": [
      " \"Global Coldest Record Weather Change (Climate Warming, Freezing)\"\n",
      " \"Colorado & Phoenix Sports Events Tomorrow\"\n"
     ]
    },
    {
     "name": "stderr",
     "output_type": "stream",
     "text": [
      " 58%|█████▊    | 29/50 [00:09<00:05,  3.79it/s]"
     ]
    },
    {
     "name": "stdout",
     "output_type": "stream",
     "text": [
      " Republican Presidential Candidates' Interviews and Discussions\n"
     ]
    },
    {
     "name": "stderr",
     "output_type": "stream",
     "text": [
      " 60%|██████    | 30/50 [00:09<00:05,  3.56it/s]"
     ]
    },
    {
     "name": "stdout",
     "output_type": "stream",
     "text": [
      " \"Military Scandals in Vietnam: Generals and Sexual Misconduct\"\n"
     ]
    },
    {
     "name": "stderr",
     "output_type": "stream",
     "text": [
      " 64%|██████▍   | 32/50 [00:09<00:04,  4.19it/s]"
     ]
    },
    {
     "name": "stdout",
     "output_type": "stream",
     "text": [
      " Food & Restaurant Reviews (Vanity Fair)\n",
      " Social Media Debates & OWS Protests\n"
     ]
    },
    {
     "name": "stderr",
     "output_type": "stream",
     "text": [
      " 68%|██████▊   | 34/50 [00:10<00:03,  4.40it/s]"
     ]
    },
    {
     "name": "stdout",
     "output_type": "stream",
     "text": [
      " Vaccine Awareness and Autism Concerns in Children\n",
      " Parental Guidance and Wisdom\n"
     ]
    },
    {
     "name": "stderr",
     "output_type": "stream",
     "text": [
      " 70%|███████   | 35/50 [00:10<00:03,  3.85it/s]"
     ]
    },
    {
     "name": "stdout",
     "output_type": "stream",
     "text": [
      " \"Sugary Beverages Debate: Sugar Consumption and Weight Issues\"\n"
     ]
    },
    {
     "name": "stderr",
     "output_type": "stream",
     "text": [
      " 72%|███████▏  | 36/50 [00:10<00:03,  3.90it/s]"
     ]
    },
    {
     "name": "stdout",
     "output_type": "stream",
     "text": [
      " European Trade & Economic Cooperation (NATO Countries)\n"
     ]
    },
    {
     "name": "stderr",
     "output_type": "stream",
     "text": [
      " 74%|███████▍  | 37/50 [00:11<00:03,  3.57it/s]"
     ]
    },
    {
     "name": "stdout",
     "output_type": "stream",
     "text": [
      " \"Donald Trump's Million Dollar Song Hit (associated with Mac Miller)\"\n"
     ]
    },
    {
     "name": "stderr",
     "output_type": "stream",
     "text": [
      " 76%|███████▌  | 38/50 [00:11<00:03,  3.25it/s]"
     ]
    },
    {
     "name": "stdout",
     "output_type": "stream",
     "text": [
      " \"Political Convention on Myrtle Beach (Monday), featuring Donald GOP\"\n"
     ]
    },
    {
     "name": "stderr",
     "output_type": "stream",
     "text": [
      " 78%|███████▊  | 39/50 [00:12<00:03,  3.06it/s]"
     ]
    },
    {
     "name": "stdout",
     "output_type": "stream",
     "text": [
      " \"Venezuelan Political Conflict: Chávez, Maduro, Guaidó\"\n"
     ]
    },
    {
     "name": "stderr",
     "output_type": "stream",
     "text": [
      " 80%|████████  | 40/50 [00:12<00:03,  3.18it/s]"
     ]
    },
    {
     "name": "stdout",
     "output_type": "stream",
     "text": [
      " \"Terrorist Attack in Paris (Security and Global Relations)\"\n"
     ]
    },
    {
     "name": "stderr",
     "output_type": "stream",
     "text": [
      " 82%|████████▏ | 41/50 [00:12<00:02,  3.50it/s]"
     ]
    },
    {
     "name": "stdout",
     "output_type": "stream",
     "text": [
      " \"Competitive Financial Gaming Momentum\"\n"
     ]
    },
    {
     "name": "stderr",
     "output_type": "stream",
     "text": [
      " 84%|████████▍ | 42/50 [00:12<00:02,  3.61it/s]"
     ]
    },
    {
     "name": "stdout",
     "output_type": "stream",
     "text": [
      " \"Political Activism among College Students in Las Vegas\"\n"
     ]
    },
    {
     "name": "stderr",
     "output_type": "stream",
     "text": [
      " 88%|████████▊ | 44/50 [00:13<00:01,  4.02it/s]"
     ]
    },
    {
     "name": "stdout",
     "output_type": "stream",
     "text": [
      " \"Large Apple Devices Comparison (Apple vs Samsung)\"\n",
      " Lance Armstrong Scandals and Interviews\n"
     ]
    },
    {
     "name": "stderr",
     "output_type": "stream",
     "text": [
      " 90%|█████████ | 45/50 [00:13<00:01,  3.86it/s]"
     ]
    },
    {
     "name": "stdout",
     "output_type": "stream",
     "text": [
      " \"Washington D.C. Amazon Retail Tax Lobbying\"\n"
     ]
    },
    {
     "name": "stderr",
     "output_type": "stream",
     "text": [
      " 92%|█████████▏| 46/50 [00:13<00:01,  3.47it/s]"
     ]
    },
    {
     "name": "stdout",
     "output_type": "stream",
     "text": [
      " Dissatisfied Cell Service Consumers (T-Mobile vs Verizon Wireless)\n"
     ]
    },
    {
     "name": "stderr",
     "output_type": "stream",
     "text": [
      " 94%|█████████▍| 47/50 [00:14<00:00,  3.36it/s]"
     ]
    },
    {
     "name": "stdout",
     "output_type": "stream",
     "text": [
      " \"Pinehurst Golf Experience: Matt Ginella, Steven Well Review\"\n"
     ]
    },
    {
     "name": "stderr",
     "output_type": "stream",
     "text": [
      " 96%|█████████▌| 48/50 [00:14<00:00,  3.47it/s]"
     ]
    },
    {
     "name": "stdout",
     "output_type": "stream",
     "text": [
      " \"Facebook Videos / Latest Questions Answers\"\n"
     ]
    },
    {
     "name": "stderr",
     "output_type": "stream",
     "text": [
      " 98%|█████████▊| 49/50 [00:14<00:00,  3.68it/s]"
     ]
    },
    {
     "name": "stdout",
     "output_type": "stream",
     "text": [
      " Political News Analysis (Politics, Media, Analysis)\n"
     ]
    },
    {
     "name": "stderr",
     "output_type": "stream",
     "text": [
      "100%|██████████| 50/50 [00:14<00:00,  3.35it/s]"
     ]
    },
    {
     "name": "stdout",
     "output_type": "stream",
     "text": [
      " \"Reality TV Personalities & Hair Discussions\"\n"
     ]
    },
    {
     "name": "stderr",
     "output_type": "stream",
     "text": [
      "\n"
     ]
    }
   ],
   "source": [
    "new_llm_topic_names = []\n",
    "\n",
    "for i in tqdm(topic_names): \n",
    "    response = chat(f''' I am going to give you the topic representation words from a topic model. I want you to generate a single label for the topic that consists of 3-5 words. Please only reply with a label for the topic. Here are the words: \n",
    "     \n",
    "     \\n \\n \n",
    "     \n",
    "        {i}\n",
    "        \n",
    "        \n",
    "     \\n \\n    \n",
    "\n",
    "    \n",
    "        \n",
    "    ''')\n",
    "    \n",
    "    new_llm_topic_names.append(response)"
   ]
  },
  {
   "cell_type": "code",
   "execution_count": 71,
   "metadata": {},
   "outputs": [
    {
     "data": {
      "text/plain": [
       "[' \"Popular Opinion on Trump\\'s Presidency (Transition from Obama)\"',\n",
       " ' \"Political Actions of President Trump\" (or, alternatively, \"Trump\\'s Presidency Requests\")',\n",
       " ' \"Political Media Misinformation Scandal (Hillary Clinton)\"',\n",
       " ' \"Celebrity Interview: Real Donald Trump Season on NBC\"',\n",
       " ' \"U.S.-China Trade Tariffs Impacts\"',\n",
       " ' \"Obama\\'s Healthcare Policies & Tax Debate Among Republicans (including DACA & Debt)\"',\n",
       " ' \"Scottish Golf Resorts and Trump Properties\"',\n",
       " ' \"Military Endorsements for Carolina Constitutional Amendments - Complete and Strong Support from Iowa Vets\"',\n",
       " ' \"Border Security and Immigration Policies\"',\n",
       " ' Middle East Conflicts & Nuclear Tensions under Obama',\n",
       " ' \"Midas Touch Successful Entrepreneurship\"',\n",
       " ' \"Happy Christmas Honoring Veterans\"',\n",
       " ' WWE-Miss Universe USA Connection (Pageants and Wrestling Events)',\n",
       " ' Natural Disaster Response in Puerto Rico (Including Law Enforcement)',\n",
       " ' \"Federal Monetary Policy Impact on Market and Inflation\"',\n",
       " ' Crippled Art Book Launch and Reading Event',\n",
       " ' \"New York Political Scandals\"',\n",
       " ' Global Health Crises (Viruses in Africa and US)',\n",
       " ' North Korea-South Korea Nuclear Tensions',\n",
       " ' \"Protest in NFL Buffalo Bills Game: Tom Brady and Anthem Dispute\"',\n",
       " ' Wind Energy Conflict in Scotland',\n",
       " ' \"Famous MLB Players: Jeter, A-Rod, and the New York Yankees\"',\n",
       " ' Passionate Leaders and Scientific Pioneers',\n",
       " ' \"Celebrity Apprentice All-Star Season with Omarosa, Gary Busey, and Leeza Gibbons\"',\n",
       " ' \"Celebrity-Involved NBA Games in Cuba\"',\n",
       " ' Urban Restructuring and Business Philanthropy',\n",
       " ' \"Global Coldest Record Weather Change (Climate Warming, Freezing)\"',\n",
       " ' \"Colorado & Phoenix Sports Events Tomorrow\"',\n",
       " \" Republican Presidential Candidates' Interviews and Discussions\",\n",
       " ' \"Military Scandals in Vietnam: Generals and Sexual Misconduct\"',\n",
       " ' Food & Restaurant Reviews (Vanity Fair)',\n",
       " ' Social Media Debates & OWS Protests',\n",
       " ' Vaccine Awareness and Autism Concerns in Children',\n",
       " ' Parental Guidance and Wisdom',\n",
       " ' \"Sugary Beverages Debate: Sugar Consumption and Weight Issues\"',\n",
       " ' European Trade & Economic Cooperation (NATO Countries)',\n",
       " ' \"Donald Trump\\'s Million Dollar Song Hit (associated with Mac Miller)\"',\n",
       " ' \"Political Convention on Myrtle Beach (Monday), featuring Donald GOP\"',\n",
       " ' \"Venezuelan Political Conflict: Chávez, Maduro, Guaidó\"',\n",
       " ' \"Terrorist Attack in Paris (Security and Global Relations)\"',\n",
       " ' \"Competitive Financial Gaming Momentum\"',\n",
       " ' \"Political Activism among College Students in Las Vegas\"',\n",
       " ' \"Large Apple Devices Comparison (Apple vs Samsung)\"',\n",
       " ' Lance Armstrong Scandals and Interviews',\n",
       " ' \"Washington D.C. Amazon Retail Tax Lobbying\"',\n",
       " ' Dissatisfied Cell Service Consumers (T-Mobile vs Verizon Wireless)',\n",
       " ' \"Pinehurst Golf Experience: Matt Ginella, Steven Well Review\"',\n",
       " ' \"Facebook Videos / Latest Questions Answers\"',\n",
       " ' Political News Analysis (Politics, Media, Analysis)',\n",
       " ' \"Reality TV Personalities & Hair Discussions\"']"
      ]
     },
     "execution_count": 71,
     "metadata": {},
     "output_type": "execute_result"
    }
   ],
   "source": [
    "new_llm_topic_names"
   ]
  },
  {
   "cell_type": "code",
   "execution_count": 72,
   "metadata": {},
   "outputs": [],
   "source": [
    "topics = topic_model.get_topic_info()\n",
    "topics['refined_topic_names'] = new_llm_topic_names"
   ]
  },
  {
   "cell_type": "code",
   "execution_count": 73,
   "metadata": {},
   "outputs": [
    {
     "data": {
      "text/html": [
       "<div>\n",
       "<style scoped>\n",
       "    .dataframe tbody tr th:only-of-type {\n",
       "        vertical-align: middle;\n",
       "    }\n",
       "\n",
       "    .dataframe tbody tr th {\n",
       "        vertical-align: top;\n",
       "    }\n",
       "\n",
       "    .dataframe thead th {\n",
       "        text-align: right;\n",
       "    }\n",
       "</style>\n",
       "<table border=\"1\" class=\"dataframe\">\n",
       "  <thead>\n",
       "    <tr style=\"text-align: right;\">\n",
       "      <th></th>\n",
       "      <th>Topic</th>\n",
       "      <th>Count</th>\n",
       "      <th>Name</th>\n",
       "      <th>Representation</th>\n",
       "      <th>Representative_Docs</th>\n",
       "      <th>refined_topic_names</th>\n",
       "    </tr>\n",
       "  </thead>\n",
       "  <tbody>\n",
       "    <tr>\n",
       "      <th>0</th>\n",
       "      <td>-1</td>\n",
       "      <td>12027</td>\n",
       "      <td>-1_great_trump_realdonaldtrump_thank</td>\n",
       "      <td>[great, trump, realdonaldtrump, thank, people,...</td>\n",
       "      <td>[bad Economic times worse better anything make...</td>\n",
       "      <td>\"Popular Opinion on Trump's Presidency (Trans...</td>\n",
       "    </tr>\n",
       "    <tr>\n",
       "      <th>1</th>\n",
       "      <td>0</td>\n",
       "      <td>5123</td>\n",
       "      <td>0_realdonaldtrump_trump_run_president</td>\n",
       "      <td>[realdonaldtrump, trump, run, president, donal...</td>\n",
       "      <td>[B_Thornton run president youd vote Youre coun...</td>\n",
       "      <td>\"Political Actions of President Trump\" (or, a...</td>\n",
       "    </tr>\n",
       "    <tr>\n",
       "      <th>2</th>\n",
       "      <td>1</td>\n",
       "      <td>3511</td>\n",
       "      <td>1_fake_news_hillary_poll</td>\n",
       "      <td>[fake, news, hillary, poll, media, collusion, ...</td>\n",
       "      <td>[Republican Party GREAT day yesterday respect ...</td>\n",
       "      <td>\"Political Media Misinformation Scandal (Hill...</td>\n",
       "    </tr>\n",
       "    <tr>\n",
       "      <th>3</th>\n",
       "      <td>2</td>\n",
       "      <td>1734</td>\n",
       "      <td>2_apprentice_apprenticenbc_celebrity_show</td>\n",
       "      <td>[apprentice, apprenticenbc, celebrity, show, t...</td>\n",
       "      <td>[Dont forget tune tonight another exciting epi...</td>\n",
       "      <td>\"Celebrity Interview: Real Donald Trump Seaso...</td>\n",
       "    </tr>\n",
       "    <tr>\n",
       "      <th>4</th>\n",
       "      <td>3</td>\n",
       "      <td>1379</td>\n",
       "      <td>3_china_trade_us_tariffs</td>\n",
       "      <td>[china, trade, us, tariffs, jobs, chinese, dea...</td>\n",
       "      <td>[many years China many countries taking advant...</td>\n",
       "      <td>\"U.S.-China Trade Tariffs Impacts\"</td>\n",
       "    </tr>\n",
       "    <tr>\n",
       "      <th>5</th>\n",
       "      <td>4</td>\n",
       "      <td>1212</td>\n",
       "      <td>4_obamacare_obama_barackobama_tax</td>\n",
       "      <td>[obamacare, obama, barackobama, tax, cuts, dac...</td>\n",
       "      <td>[immediately repeal replace ObamaCare nobody l...</td>\n",
       "      <td>\"Obama's Healthcare Policies &amp; Tax Debate Amo...</td>\n",
       "    </tr>\n",
       "    <tr>\n",
       "      <th>6</th>\n",
       "      <td>5</td>\n",
       "      <td>1125</td>\n",
       "      <td>5_golf_hotel_course_trump</td>\n",
       "      <td>[golf, hotel, course, trump, scotland, doral, ...</td>\n",
       "      <td>[spent two days Ireland Trump International Go...</td>\n",
       "      <td>\"Scottish Golf Resorts and Trump Properties\"</td>\n",
       "    </tr>\n",
       "    <tr>\n",
       "      <th>7</th>\n",
       "      <td>6</td>\n",
       "      <td>972</td>\n",
       "      <td>6_endorsement_vets_amendment_great</td>\n",
       "      <td>[endorsement, vets, amendment, great, carolina...</td>\n",
       "      <td>[Congressman MikeTurnerOH strong supporter fig...</td>\n",
       "      <td>\"Military Endorsements for Carolina Constitut...</td>\n",
       "    </tr>\n",
       "    <tr>\n",
       "      <th>8</th>\n",
       "      <td>7</td>\n",
       "      <td>967</td>\n",
       "      <td>7_border_wall_mexico_immigration</td>\n",
       "      <td>[border, wall, mexico, immigration, southern, ...</td>\n",
       "      <td>[State Emergency Southern Border Border Patrol...</td>\n",
       "      <td>\"Border Security and Immigration Policies\"</td>\n",
       "    </tr>\n",
       "    <tr>\n",
       "      <th>9</th>\n",
       "      <td>8</td>\n",
       "      <td>871</td>\n",
       "      <td>8_iran_isis_syria_iraq</td>\n",
       "      <td>[iran, isis, syria, iraq, israel, obama, nucle...</td>\n",
       "      <td>[Iran wants fight official end Iran Never thre...</td>\n",
       "      <td>Middle East Conflicts &amp; Nuclear Tensions unde...</td>\n",
       "    </tr>\n",
       "    <tr>\n",
       "      <th>10</th>\n",
       "      <td>9</td>\n",
       "      <td>612</td>\n",
       "      <td>9_entrepreneurs_think_focus_midas</td>\n",
       "      <td>[entrepreneurs, think, focus, midas, touch, su...</td>\n",
       "      <td>[Entrepreneurs Look solution problem Learn foc...</td>\n",
       "      <td>\"Midas Touch Successful Entrepreneurship\"</td>\n",
       "    </tr>\n",
       "    <tr>\n",
       "      <th>11</th>\n",
       "      <td>10</td>\n",
       "      <td>553</td>\n",
       "      <td>10_honor_veterans_today_women</td>\n",
       "      <td>[honor, veterans, today, women, men, christmas...</td>\n",
       "      <td>[Vietnam War Veterans Day celebrate brave Viet...</td>\n",
       "      <td>\"Happy Christmas Honoring Veterans\"</td>\n",
       "    </tr>\n",
       "    <tr>\n",
       "      <th>12</th>\n",
       "      <td>11</td>\n",
       "      <td>398</td>\n",
       "      <td>11_miss_universe_pageant_wwe</td>\n",
       "      <td>[miss, universe, pageant, wwe, missuniverse, u...</td>\n",
       "      <td>[going get hotter Las Vegas tonight Watch Miss...</td>\n",
       "      <td>WWE-Miss Universe USA Connection (Pageants an...</td>\n",
       "    </tr>\n",
       "    <tr>\n",
       "      <th>13</th>\n",
       "      <td>12</td>\n",
       "      <td>348</td>\n",
       "      <td>12_hurricane_rico_puerto_fema</td>\n",
       "      <td>[hurricane, rico, puerto, fema, prayers, famil...</td>\n",
       "      <td>[Democrats today killed Bill would provided gr...</td>\n",
       "      <td>Natural Disaster Response in Puerto Rico (Inc...</td>\n",
       "    </tr>\n",
       "    <tr>\n",
       "      <th>14</th>\n",
       "      <td>13</td>\n",
       "      <td>312</td>\n",
       "      <td>13_market_fed_stock_reserve</td>\n",
       "      <td>[market, fed, stock, reserve, estate, rates, i...</td>\n",
       "      <td>[Stock Market big today New Record Enjoy, Fed ...</td>\n",
       "      <td>\"Federal Monetary Policy Impact on Market and...</td>\n",
       "    </tr>\n",
       "    <tr>\n",
       "      <th>15</th>\n",
       "      <td>14</td>\n",
       "      <td>296</td>\n",
       "      <td>14_book_art_read_books</td>\n",
       "      <td>[book, art, read, books, signing, deal, new, r...</td>\n",
       "      <td>[Ill signing copies new book Time Get Tough to...</td>\n",
       "      <td>Crippled Art Book Launch and Reading Event</td>\n",
       "    </tr>\n",
       "    <tr>\n",
       "      <th>16</th>\n",
       "      <td>15</td>\n",
       "      <td>295</td>\n",
       "      <td>15_mayor_gun_weiner_cuomo</td>\n",
       "      <td>[mayor, gun, weiner, cuomo, pervert, nyc, york...</td>\n",
       "      <td>[Sexual pervert deviant Anthony Weiner polling...</td>\n",
       "      <td>\"New York Political Scandals\"</td>\n",
       "    </tr>\n",
       "    <tr>\n",
       "      <th>17</th>\n",
       "      <td>16</td>\n",
       "      <td>269</td>\n",
       "      <td>16_ebola_coronavirus_testing_ventilators</td>\n",
       "      <td>[ebola, coronavirus, testing, ventilators, afr...</td>\n",
       "      <td>[go stated long ago cancel flights West Africa...</td>\n",
       "      <td>Global Health Crises (Viruses in Africa and US)</td>\n",
       "    </tr>\n",
       "    <tr>\n",
       "      <th>18</th>\n",
       "      <td>17</td>\n",
       "      <td>250</td>\n",
       "      <td>17_korea_north_kim_jong</td>\n",
       "      <td>[korea, north, kim, jong, un, japan, south, nu...</td>\n",
       "      <td>[United States team arrived North Korea make a...</td>\n",
       "      <td>North Korea-South Korea Nuclear Tensions</td>\n",
       "    </tr>\n",
       "    <tr>\n",
       "      <th>19</th>\n",
       "      <td>18</td>\n",
       "      <td>226</td>\n",
       "      <td>18_nfl_nflcommish_bills_anthem</td>\n",
       "      <td>[nfl, nflcommish, bills, anthem, buffalobills,...</td>\n",
       "      <td>[Two dozen NFL players continue kneel National...</td>\n",
       "      <td>\"Protest in NFL Buffalo Bills Game: Tom Brady...</td>\n",
       "    </tr>\n",
       "    <tr>\n",
       "      <th>20</th>\n",
       "      <td>19</td>\n",
       "      <td>213</td>\n",
       "      <td>19_wind_turbines_alexsalmond_ugly</td>\n",
       "      <td>[wind, turbines, alexsalmond, ugly, scotland, ...</td>\n",
       "      <td>[Prime Minister David_Cameron foolish giving A...</td>\n",
       "      <td>Wind Energy Conflict in Scotland</td>\n",
       "    </tr>\n",
       "    <tr>\n",
       "      <th>21</th>\n",
       "      <td>20</td>\n",
       "      <td>198</td>\n",
       "      <td>20_yankees_arod_derek_jeter</td>\n",
       "      <td>[yankees, arod, derek, jeter, baseball, game, ...</td>\n",
       "      <td>[told whenever go Yankees game Yankees win, De...</td>\n",
       "      <td>\"Famous MLB Players: Jeter, A-Rod, and the Ne...</td>\n",
       "    </tr>\n",
       "    <tr>\n",
       "      <th>22</th>\n",
       "      <td>21</td>\n",
       "      <td>176</td>\n",
       "      <td>21_churchill_albert_einstein_winston</td>\n",
       "      <td>[churchill, albert, einstein, winston, henry, ...</td>\n",
       "      <td>[Without passion dont energy without energy no...</td>\n",
       "      <td>Passionate Leaders and Scientific Pioneers</td>\n",
       "    </tr>\n",
       "    <tr>\n",
       "      <th>23</th>\n",
       "      <td>22</td>\n",
       "      <td>156</td>\n",
       "      <td>22_celebapprentice_omarosa_season_star</td>\n",
       "      <td>[celebapprentice, omarosa, season, star, thega...</td>\n",
       "      <td>[Hes back causing trouble ever THEGaryBusey re...</td>\n",
       "      <td>\"Celebrity Apprentice All-Star Season with Om...</td>\n",
       "    </tr>\n",
       "    <tr>\n",
       "      <th>24</th>\n",
       "      <td>23</td>\n",
       "      <td>126</td>\n",
       "      <td>23_dannyzuker_danny_cuban_dennisrodman</td>\n",
       "      <td>[dannyzuker, danny, cuban, dennisrodman, mark,...</td>\n",
       "      <td>[DannyZuker Come Danny u afraid DEAL careful I...</td>\n",
       "      <td>\"Celebrity-Involved NBA Games in Cuba\"</td>\n",
       "    </tr>\n",
       "    <tr>\n",
       "      <th>25</th>\n",
       "      <td>24</td>\n",
       "      <td>122</td>\n",
       "      <td>24_bankruptcy_bankrupt_billmaher_atlantic</td>\n",
       "      <td>[bankruptcy, bankrupt, billmaher, atlantic, we...</td>\n",
       "      <td>[Stop saying went bankrupt never went bankrupt...</td>\n",
       "      <td>Urban Restructuring and Business Philanthropy</td>\n",
       "    </tr>\n",
       "    <tr>\n",
       "      <th>26</th>\n",
       "      <td>25</td>\n",
       "      <td>109</td>\n",
       "      <td>25_global_warming_climate_freezing</td>\n",
       "      <td>[global, warming, climate, freezing, cold, cha...</td>\n",
       "      <td>[con artists changed name GLOBAL WARMING CLIMA...</td>\n",
       "      <td>\"Global Coldest Record Weather Change (Climat...</td>\n",
       "    </tr>\n",
       "    <tr>\n",
       "      <th>27</th>\n",
       "      <td>26</td>\n",
       "      <td>98</td>\n",
       "      <td>26_tickets_join_pm_tomorrow</td>\n",
       "      <td>[tickets, join, pm, tomorrow, center, maga, co...</td>\n",
       "      <td>[Join us Toledo Ohio tomorrow night pm TrumpPe...</td>\n",
       "      <td>\"Colorado &amp; Phoenix Sports Events Tomorrow\"</td>\n",
       "    </tr>\n",
       "    <tr>\n",
       "      <th>28</th>\n",
       "      <td>27</td>\n",
       "      <td>95</td>\n",
       "      <td>27_mittromney_ricksantorum_paulryanvp_cont</td>\n",
       "      <td>[mittromney, ricksantorum, paulryanvp, cont, i...</td>\n",
       "      <td>[MittRomney well last night contests earned de...</td>\n",
       "      <td>Republican Presidential Candidates' Interview...</td>\n",
       "    </tr>\n",
       "    <tr>\n",
       "      <th>29</th>\n",
       "      <td>28</td>\n",
       "      <td>72</td>\n",
       "      <td>28_vietnam_military_blumenthal_sexual</td>\n",
       "      <td>[vietnam, military, blumenthal, sexual, genera...</td>\n",
       "      <td>[general good bad troops command make General ...</td>\n",
       "      <td>\"Military Scandals in Vietnam: Generals and S...</td>\n",
       "    </tr>\n",
       "    <tr>\n",
       "      <th>30</th>\n",
       "      <td>29</td>\n",
       "      <td>62</td>\n",
       "      <td>29_vanityfair_graydon_carter_magazine</td>\n",
       "      <td>[vanityfair, graydon, carter, magazine, vanity...</td>\n",
       "      <td>[Conde Nast allow dopey Graydon Carter run bad...</td>\n",
       "      <td>Food &amp; Restaurant Reviews (Vanity Fair)</td>\n",
       "    </tr>\n",
       "    <tr>\n",
       "      <th>31</th>\n",
       "      <td>30</td>\n",
       "      <td>59</td>\n",
       "      <td>30_twitter_debate_protesters_tweeting</td>\n",
       "      <td>[twitter, debate, protesters, tweeting, live, ...</td>\n",
       "      <td>[possible James Woods many others strong respo...</td>\n",
       "      <td>Social Media Debates &amp; OWS Protests</td>\n",
       "    </tr>\n",
       "    <tr>\n",
       "      <th>32</th>\n",
       "      <td>31</td>\n",
       "      <td>49</td>\n",
       "      <td>31_autism_autismspeaks_vaccines_vaccine</td>\n",
       "      <td>[autism, autismspeaks, vaccines, vaccine, mass...</td>\n",
       "      <td>[Join autismspeaks light world blue LIUB raise...</td>\n",
       "      <td>Vaccine Awareness and Autism Concerns in Chil...</td>\n",
       "    </tr>\n",
       "    <tr>\n",
       "      <th>33</th>\n",
       "      <td>32</td>\n",
       "      <td>46</td>\n",
       "      <td>32_father_fred_mother_mary</td>\n",
       "      <td>[father, fred, mother, mary, advice, macleod, ...</td>\n",
       "      <td>[Good advice father Know everything youre Fred...</td>\n",
       "      <td>Parental Guidance and Wisdom</td>\n",
       "    </tr>\n",
       "    <tr>\n",
       "      <th>34</th>\n",
       "      <td>33</td>\n",
       "      <td>43</td>\n",
       "      <td>33_lordsugar_sugar_dopey_diet</td>\n",
       "      <td>[lordsugar, sugar, dopey, diet, coke, worth, d...</td>\n",
       "      <td>[Dopey Sugar Lord_SugarIm worth billion acknow...</td>\n",
       "      <td>\"Sugary Beverages Debate: Sugar Consumption a...</td>\n",
       "    </tr>\n",
       "    <tr>\n",
       "      <th>35</th>\n",
       "      <td>34</td>\n",
       "      <td>43</td>\n",
       "      <td>34_nato_pay_countries_europe</td>\n",
       "      <td>[nato, pay, countries, europe, germany, us, sh...</td>\n",
       "      <td>[United States spending far NATO Country fair ...</td>\n",
       "      <td>European Trade &amp; Economic Cooperation (NATO C...</td>\n",
       "    </tr>\n",
       "    <tr>\n",
       "      <th>36</th>\n",
       "      <td>35</td>\n",
       "      <td>42</td>\n",
       "      <td>35_mac_song_miller_donald</td>\n",
       "      <td>[mac, song, miller, donald, hits, macmillers, ...</td>\n",
       "      <td>[TylerTheKicker Donald Trump Mac Miller foreve...</td>\n",
       "      <td>\"Donald Trump's Million Dollar Song Hit (asso...</td>\n",
       "    </tr>\n",
       "    <tr>\n",
       "      <th>37</th>\n",
       "      <td>36</td>\n",
       "      <td>37</td>\n",
       "      <td>36_tea_party_convention_sc</td>\n",
       "      <td>[tea, party, convention, sc, via, myrtle, beac...</td>\n",
       "      <td>[Trump arrives SC Tea Party Convention Myrtle ...</td>\n",
       "      <td>\"Political Convention on Myrtle Beach (Monday...</td>\n",
       "    </tr>\n",
       "    <tr>\n",
       "      <th>38</th>\n",
       "      <td>37</td>\n",
       "      <td>29</td>\n",
       "      <td>37_venezuela_cuba_venezuelan_democracy</td>\n",
       "      <td>[venezuela, cuba, venezuelan, democracy, chave...</td>\n",
       "      <td>[citizens Venezuela suffered long hands illegi...</td>\n",
       "      <td>\"Venezuelan Political Conflict: Chávez, Madur...</td>\n",
       "    </tr>\n",
       "    <tr>\n",
       "      <th>39</th>\n",
       "      <td>38</td>\n",
       "      <td>28</td>\n",
       "      <td>38_paris_france_attack_accord</td>\n",
       "      <td>[paris, france, attack, accord, terror, agreem...</td>\n",
       "      <td>[glad friend EmmanuelMacron protestors Paris a...</td>\n",
       "      <td>\"Terrorist Attack in Paris (Security and Glob...</td>\n",
       "    </tr>\n",
       "    <tr>\n",
       "      <th>40</th>\n",
       "      <td>39</td>\n",
       "      <td>26</td>\n",
       "      <td>39_momentum_excitement_motivation_score</td>\n",
       "      <td>[momentum, excitement, motivation, score, keep...</td>\n",
       "      <td>[Great Money never big motivation except way k...</td>\n",
       "      <td>\"Competitive Financial Gaming Momentum\"</td>\n",
       "    </tr>\n",
       "    <tr>\n",
       "      <th>41</th>\n",
       "      <td>40</td>\n",
       "      <td>25</td>\n",
       "      <td>40_university_bei_nevada_las</td>\n",
       "      <td>[university, bei, nevada, las, vegas, penn, dr...</td>\n",
       "      <td>[CHOICE CLEAR BigLeagueTruth DrainTheSwamp bei...</td>\n",
       "      <td>\"Political Activism among College Students in...</td>\n",
       "    </tr>\n",
       "    <tr>\n",
       "      <th>42</th>\n",
       "      <td>41</td>\n",
       "      <td>24</td>\n",
       "      <td>41_apple_screen_iphone_larger</td>\n",
       "      <td>[apple, screen, iphone, larger, steve, samsung...</td>\n",
       "      <td>[Apple must make IPhone screen bigger Losing m...</td>\n",
       "      <td>\"Large Apple Devices Comparison (Apple vs Sam...</td>\n",
       "    </tr>\n",
       "    <tr>\n",
       "      <th>43</th>\n",
       "      <td>42</td>\n",
       "      <td>21</td>\n",
       "      <td>42_lance_armstrong_oprah_lancearmstrong</td>\n",
       "      <td>[lance, armstrong, oprah, lancearmstrong, inte...</td>\n",
       "      <td>[hope Oprah gives Lance Armstrong million doll...</td>\n",
       "      <td>Lance Armstrong Scandals and Interviews</td>\n",
       "    </tr>\n",
       "    <tr>\n",
       "      <th>44</th>\n",
       "      <td>43</td>\n",
       "      <td>21</td>\n",
       "      <td>43_amazon_post_lobbyist_retailers</td>\n",
       "      <td>[amazon, post, lobbyist, retailers, delivery, ...</td>\n",
       "      <td>[include Fake Washington Post used lobbyist RE...</td>\n",
       "      <td>\"Washington D.C. Amazon Retail Tax Lobbying\"</td>\n",
       "    </tr>\n",
       "    <tr>\n",
       "      <th>45</th>\n",
       "      <td>44</td>\n",
       "      <td>19</td>\n",
       "      <td>44_tmobile_johnlegere_service_naughtoriousbig</td>\n",
       "      <td>[tmobile, johnlegere, service, naughtoriousbig...</td>\n",
       "      <td>[TMobile service absolutely terrible get ball ...</td>\n",
       "      <td>Dissatisfied Cell Service Consumers (T-Mobile...</td>\n",
       "    </tr>\n",
       "    <tr>\n",
       "      <th>46</th>\n",
       "      <td>45</td>\n",
       "      <td>19</td>\n",
       "      <td>45_pinehurst_mattginellagc_matt_play</td>\n",
       "      <td>[pinehurst, mattginellagc, matt, play, golf, s...</td>\n",
       "      <td>[CharlieMaikis realDonaldTrump completely agre...</td>\n",
       "      <td>\"Pinehurst Golf Experience: Matt Ginella, Ste...</td>\n",
       "    </tr>\n",
       "    <tr>\n",
       "      <th>47</th>\n",
       "      <td>46</td>\n",
       "      <td>16</td>\n",
       "      <td>46_questions_askthedonald_facebook_video</td>\n",
       "      <td>[questions, askthedonald, facebook, video, blo...</td>\n",
       "      <td>[Watch video blog see questions Facebook page ...</td>\n",
       "      <td>\"Facebook Videos / Latest Questions Answers\"</td>\n",
       "    </tr>\n",
       "    <tr>\n",
       "      <th>48</th>\n",
       "      <td>47</td>\n",
       "      <td>13</td>\n",
       "      <td>47_oann_foxnews__</td>\n",
       "      <td>[oann, foxnews, , , , , , , , ]</td>\n",
       "      <td>[سال فساد سال سرکوب سال ترور رژیم ایران فقط مو...</td>\n",
       "      <td>Political News Analysis (Politics, Media, Ana...</td>\n",
       "    </tr>\n",
       "    <tr>\n",
       "      <th>49</th>\n",
       "      <td>48</td>\n",
       "      <td>12</td>\n",
       "      <td>48_sweepstweet_teresagiudice_lisalampanelli_li...</td>\n",
       "      <td>[sweepstweet, teresagiudice, lisalampanelli, l...</td>\n",
       "      <td>[Firing lisalampanelli may come surprise Shes ...</td>\n",
       "      <td>\"Reality TV Personalities &amp; Hair Discussions\"</td>\n",
       "    </tr>\n",
       "  </tbody>\n",
       "</table>\n",
       "</div>"
      ],
      "text/plain": [
       "    Topic  Count                                               Name  \\\n",
       "0      -1  12027               -1_great_trump_realdonaldtrump_thank   \n",
       "1       0   5123              0_realdonaldtrump_trump_run_president   \n",
       "2       1   3511                           1_fake_news_hillary_poll   \n",
       "3       2   1734          2_apprentice_apprenticenbc_celebrity_show   \n",
       "4       3   1379                           3_china_trade_us_tariffs   \n",
       "5       4   1212                  4_obamacare_obama_barackobama_tax   \n",
       "6       5   1125                          5_golf_hotel_course_trump   \n",
       "7       6    972                 6_endorsement_vets_amendment_great   \n",
       "8       7    967                   7_border_wall_mexico_immigration   \n",
       "9       8    871                             8_iran_isis_syria_iraq   \n",
       "10      9    612                  9_entrepreneurs_think_focus_midas   \n",
       "11     10    553                      10_honor_veterans_today_women   \n",
       "12     11    398                       11_miss_universe_pageant_wwe   \n",
       "13     12    348                      12_hurricane_rico_puerto_fema   \n",
       "14     13    312                        13_market_fed_stock_reserve   \n",
       "15     14    296                             14_book_art_read_books   \n",
       "16     15    295                          15_mayor_gun_weiner_cuomo   \n",
       "17     16    269           16_ebola_coronavirus_testing_ventilators   \n",
       "18     17    250                            17_korea_north_kim_jong   \n",
       "19     18    226                     18_nfl_nflcommish_bills_anthem   \n",
       "20     19    213                  19_wind_turbines_alexsalmond_ugly   \n",
       "21     20    198                        20_yankees_arod_derek_jeter   \n",
       "22     21    176               21_churchill_albert_einstein_winston   \n",
       "23     22    156             22_celebapprentice_omarosa_season_star   \n",
       "24     23    126             23_dannyzuker_danny_cuban_dennisrodman   \n",
       "25     24    122          24_bankruptcy_bankrupt_billmaher_atlantic   \n",
       "26     25    109                 25_global_warming_climate_freezing   \n",
       "27     26     98                        26_tickets_join_pm_tomorrow   \n",
       "28     27     95         27_mittromney_ricksantorum_paulryanvp_cont   \n",
       "29     28     72              28_vietnam_military_blumenthal_sexual   \n",
       "30     29     62              29_vanityfair_graydon_carter_magazine   \n",
       "31     30     59              30_twitter_debate_protesters_tweeting   \n",
       "32     31     49            31_autism_autismspeaks_vaccines_vaccine   \n",
       "33     32     46                         32_father_fred_mother_mary   \n",
       "34     33     43                      33_lordsugar_sugar_dopey_diet   \n",
       "35     34     43                       34_nato_pay_countries_europe   \n",
       "36     35     42                          35_mac_song_miller_donald   \n",
       "37     36     37                         36_tea_party_convention_sc   \n",
       "38     37     29             37_venezuela_cuba_venezuelan_democracy   \n",
       "39     38     28                      38_paris_france_attack_accord   \n",
       "40     39     26            39_momentum_excitement_motivation_score   \n",
       "41     40     25                       40_university_bei_nevada_las   \n",
       "42     41     24                      41_apple_screen_iphone_larger   \n",
       "43     42     21            42_lance_armstrong_oprah_lancearmstrong   \n",
       "44     43     21                  43_amazon_post_lobbyist_retailers   \n",
       "45     44     19      44_tmobile_johnlegere_service_naughtoriousbig   \n",
       "46     45     19               45_pinehurst_mattginellagc_matt_play   \n",
       "47     46     16           46_questions_askthedonald_facebook_video   \n",
       "48     47     13                                  47_oann_foxnews__   \n",
       "49     48     12  48_sweepstweet_teresagiudice_lisalampanelli_li...   \n",
       "\n",
       "                                       Representation  \\\n",
       "0   [great, trump, realdonaldtrump, thank, people,...   \n",
       "1   [realdonaldtrump, trump, run, president, donal...   \n",
       "2   [fake, news, hillary, poll, media, collusion, ...   \n",
       "3   [apprentice, apprenticenbc, celebrity, show, t...   \n",
       "4   [china, trade, us, tariffs, jobs, chinese, dea...   \n",
       "5   [obamacare, obama, barackobama, tax, cuts, dac...   \n",
       "6   [golf, hotel, course, trump, scotland, doral, ...   \n",
       "7   [endorsement, vets, amendment, great, carolina...   \n",
       "8   [border, wall, mexico, immigration, southern, ...   \n",
       "9   [iran, isis, syria, iraq, israel, obama, nucle...   \n",
       "10  [entrepreneurs, think, focus, midas, touch, su...   \n",
       "11  [honor, veterans, today, women, men, christmas...   \n",
       "12  [miss, universe, pageant, wwe, missuniverse, u...   \n",
       "13  [hurricane, rico, puerto, fema, prayers, famil...   \n",
       "14  [market, fed, stock, reserve, estate, rates, i...   \n",
       "15  [book, art, read, books, signing, deal, new, r...   \n",
       "16  [mayor, gun, weiner, cuomo, pervert, nyc, york...   \n",
       "17  [ebola, coronavirus, testing, ventilators, afr...   \n",
       "18  [korea, north, kim, jong, un, japan, south, nu...   \n",
       "19  [nfl, nflcommish, bills, anthem, buffalobills,...   \n",
       "20  [wind, turbines, alexsalmond, ugly, scotland, ...   \n",
       "21  [yankees, arod, derek, jeter, baseball, game, ...   \n",
       "22  [churchill, albert, einstein, winston, henry, ...   \n",
       "23  [celebapprentice, omarosa, season, star, thega...   \n",
       "24  [dannyzuker, danny, cuban, dennisrodman, mark,...   \n",
       "25  [bankruptcy, bankrupt, billmaher, atlantic, we...   \n",
       "26  [global, warming, climate, freezing, cold, cha...   \n",
       "27  [tickets, join, pm, tomorrow, center, maga, co...   \n",
       "28  [mittromney, ricksantorum, paulryanvp, cont, i...   \n",
       "29  [vietnam, military, blumenthal, sexual, genera...   \n",
       "30  [vanityfair, graydon, carter, magazine, vanity...   \n",
       "31  [twitter, debate, protesters, tweeting, live, ...   \n",
       "32  [autism, autismspeaks, vaccines, vaccine, mass...   \n",
       "33  [father, fred, mother, mary, advice, macleod, ...   \n",
       "34  [lordsugar, sugar, dopey, diet, coke, worth, d...   \n",
       "35  [nato, pay, countries, europe, germany, us, sh...   \n",
       "36  [mac, song, miller, donald, hits, macmillers, ...   \n",
       "37  [tea, party, convention, sc, via, myrtle, beac...   \n",
       "38  [venezuela, cuba, venezuelan, democracy, chave...   \n",
       "39  [paris, france, attack, accord, terror, agreem...   \n",
       "40  [momentum, excitement, motivation, score, keep...   \n",
       "41  [university, bei, nevada, las, vegas, penn, dr...   \n",
       "42  [apple, screen, iphone, larger, steve, samsung...   \n",
       "43  [lance, armstrong, oprah, lancearmstrong, inte...   \n",
       "44  [amazon, post, lobbyist, retailers, delivery, ...   \n",
       "45  [tmobile, johnlegere, service, naughtoriousbig...   \n",
       "46  [pinehurst, mattginellagc, matt, play, golf, s...   \n",
       "47  [questions, askthedonald, facebook, video, blo...   \n",
       "48                    [oann, foxnews, , , , , , , , ]   \n",
       "49  [sweepstweet, teresagiudice, lisalampanelli, l...   \n",
       "\n",
       "                                  Representative_Docs  \\\n",
       "0   [bad Economic times worse better anything make...   \n",
       "1   [B_Thornton run president youd vote Youre coun...   \n",
       "2   [Republican Party GREAT day yesterday respect ...   \n",
       "3   [Dont forget tune tonight another exciting epi...   \n",
       "4   [many years China many countries taking advant...   \n",
       "5   [immediately repeal replace ObamaCare nobody l...   \n",
       "6   [spent two days Ireland Trump International Go...   \n",
       "7   [Congressman MikeTurnerOH strong supporter fig...   \n",
       "8   [State Emergency Southern Border Border Patrol...   \n",
       "9   [Iran wants fight official end Iran Never thre...   \n",
       "10  [Entrepreneurs Look solution problem Learn foc...   \n",
       "11  [Vietnam War Veterans Day celebrate brave Viet...   \n",
       "12  [going get hotter Las Vegas tonight Watch Miss...   \n",
       "13  [Democrats today killed Bill would provided gr...   \n",
       "14  [Stock Market big today New Record Enjoy, Fed ...   \n",
       "15  [Ill signing copies new book Time Get Tough to...   \n",
       "16  [Sexual pervert deviant Anthony Weiner polling...   \n",
       "17  [go stated long ago cancel flights West Africa...   \n",
       "18  [United States team arrived North Korea make a...   \n",
       "19  [Two dozen NFL players continue kneel National...   \n",
       "20  [Prime Minister David_Cameron foolish giving A...   \n",
       "21  [told whenever go Yankees game Yankees win, De...   \n",
       "22  [Without passion dont energy without energy no...   \n",
       "23  [Hes back causing trouble ever THEGaryBusey re...   \n",
       "24  [DannyZuker Come Danny u afraid DEAL careful I...   \n",
       "25  [Stop saying went bankrupt never went bankrupt...   \n",
       "26  [con artists changed name GLOBAL WARMING CLIMA...   \n",
       "27  [Join us Toledo Ohio tomorrow night pm TrumpPe...   \n",
       "28  [MittRomney well last night contests earned de...   \n",
       "29  [general good bad troops command make General ...   \n",
       "30  [Conde Nast allow dopey Graydon Carter run bad...   \n",
       "31  [possible James Woods many others strong respo...   \n",
       "32  [Join autismspeaks light world blue LIUB raise...   \n",
       "33  [Good advice father Know everything youre Fred...   \n",
       "34  [Dopey Sugar Lord_SugarIm worth billion acknow...   \n",
       "35  [United States spending far NATO Country fair ...   \n",
       "36  [TylerTheKicker Donald Trump Mac Miller foreve...   \n",
       "37  [Trump arrives SC Tea Party Convention Myrtle ...   \n",
       "38  [citizens Venezuela suffered long hands illegi...   \n",
       "39  [glad friend EmmanuelMacron protestors Paris a...   \n",
       "40  [Great Money never big motivation except way k...   \n",
       "41  [CHOICE CLEAR BigLeagueTruth DrainTheSwamp bei...   \n",
       "42  [Apple must make IPhone screen bigger Losing m...   \n",
       "43  [hope Oprah gives Lance Armstrong million doll...   \n",
       "44  [include Fake Washington Post used lobbyist RE...   \n",
       "45  [TMobile service absolutely terrible get ball ...   \n",
       "46  [CharlieMaikis realDonaldTrump completely agre...   \n",
       "47  [Watch video blog see questions Facebook page ...   \n",
       "48  [سال فساد سال سرکوب سال ترور رژیم ایران فقط مو...   \n",
       "49  [Firing lisalampanelli may come surprise Shes ...   \n",
       "\n",
       "                                  refined_topic_names  \n",
       "0    \"Popular Opinion on Trump's Presidency (Trans...  \n",
       "1    \"Political Actions of President Trump\" (or, a...  \n",
       "2    \"Political Media Misinformation Scandal (Hill...  \n",
       "3    \"Celebrity Interview: Real Donald Trump Seaso...  \n",
       "4                  \"U.S.-China Trade Tariffs Impacts\"  \n",
       "5    \"Obama's Healthcare Policies & Tax Debate Amo...  \n",
       "6        \"Scottish Golf Resorts and Trump Properties\"  \n",
       "7    \"Military Endorsements for Carolina Constitut...  \n",
       "8          \"Border Security and Immigration Policies\"  \n",
       "9    Middle East Conflicts & Nuclear Tensions unde...  \n",
       "10          \"Midas Touch Successful Entrepreneurship\"  \n",
       "11                \"Happy Christmas Honoring Veterans\"  \n",
       "12   WWE-Miss Universe USA Connection (Pageants an...  \n",
       "13   Natural Disaster Response in Puerto Rico (Inc...  \n",
       "14   \"Federal Monetary Policy Impact on Market and...  \n",
       "15         Crippled Art Book Launch and Reading Event  \n",
       "16                      \"New York Political Scandals\"  \n",
       "17    Global Health Crises (Viruses in Africa and US)  \n",
       "18           North Korea-South Korea Nuclear Tensions  \n",
       "19   \"Protest in NFL Buffalo Bills Game: Tom Brady...  \n",
       "20                   Wind Energy Conflict in Scotland  \n",
       "21   \"Famous MLB Players: Jeter, A-Rod, and the Ne...  \n",
       "22         Passionate Leaders and Scientific Pioneers  \n",
       "23   \"Celebrity Apprentice All-Star Season with Om...  \n",
       "24             \"Celebrity-Involved NBA Games in Cuba\"  \n",
       "25      Urban Restructuring and Business Philanthropy  \n",
       "26   \"Global Coldest Record Weather Change (Climat...  \n",
       "27        \"Colorado & Phoenix Sports Events Tomorrow\"  \n",
       "28   Republican Presidential Candidates' Interview...  \n",
       "29   \"Military Scandals in Vietnam: Generals and S...  \n",
       "30            Food & Restaurant Reviews (Vanity Fair)  \n",
       "31                Social Media Debates & OWS Protests  \n",
       "32   Vaccine Awareness and Autism Concerns in Chil...  \n",
       "33                       Parental Guidance and Wisdom  \n",
       "34   \"Sugary Beverages Debate: Sugar Consumption a...  \n",
       "35   European Trade & Economic Cooperation (NATO C...  \n",
       "36   \"Donald Trump's Million Dollar Song Hit (asso...  \n",
       "37   \"Political Convention on Myrtle Beach (Monday...  \n",
       "38   \"Venezuelan Political Conflict: Chávez, Madur...  \n",
       "39   \"Terrorist Attack in Paris (Security and Glob...  \n",
       "40            \"Competitive Financial Gaming Momentum\"  \n",
       "41   \"Political Activism among College Students in...  \n",
       "42   \"Large Apple Devices Comparison (Apple vs Sam...  \n",
       "43            Lance Armstrong Scandals and Interviews  \n",
       "44       \"Washington D.C. Amazon Retail Tax Lobbying\"  \n",
       "45   Dissatisfied Cell Service Consumers (T-Mobile...  \n",
       "46   \"Pinehurst Golf Experience: Matt Ginella, Ste...  \n",
       "47       \"Facebook Videos / Latest Questions Answers\"  \n",
       "48   Political News Analysis (Politics, Media, Ana...  \n",
       "49      \"Reality TV Personalities & Hair Discussions\"  "
      ]
     },
     "execution_count": 73,
     "metadata": {},
     "output_type": "execute_result"
    }
   ],
   "source": [
    "topics"
   ]
  },
  {
   "cell_type": "code",
   "execution_count": 74,
   "metadata": {},
   "outputs": [
    {
     "data": {
      "text/html": [
       "<div>\n",
       "<style scoped>\n",
       "    .dataframe tbody tr th:only-of-type {\n",
       "        vertical-align: middle;\n",
       "    }\n",
       "\n",
       "    .dataframe tbody tr th {\n",
       "        vertical-align: top;\n",
       "    }\n",
       "\n",
       "    .dataframe thead th {\n",
       "        text-align: right;\n",
       "    }\n",
       "</style>\n",
       "<table border=\"1\" class=\"dataframe\">\n",
       "  <thead>\n",
       "    <tr style=\"text-align: right;\">\n",
       "      <th></th>\n",
       "      <th>Document</th>\n",
       "      <th>Topic</th>\n",
       "      <th>Name</th>\n",
       "      <th>Representation</th>\n",
       "      <th>Representative_Docs</th>\n",
       "      <th>Top_n_words</th>\n",
       "      <th>Probability</th>\n",
       "      <th>Representative_document</th>\n",
       "    </tr>\n",
       "  </thead>\n",
       "  <tbody>\n",
       "    <tr>\n",
       "      <th>0</th>\n",
       "      <td>sure tune watch Donald Trump Late Night David ...</td>\n",
       "      <td>2</td>\n",
       "      <td>2_apprentice_apprenticenbc_celebrity_show</td>\n",
       "      <td>[apprentice, apprenticenbc, celebrity, show, t...</td>\n",
       "      <td>[Dont forget tune tonight another exciting epi...</td>\n",
       "      <td>apprentice - apprenticenbc - celebrity - show ...</td>\n",
       "      <td>0.420393</td>\n",
       "      <td>False</td>\n",
       "    </tr>\n",
       "    <tr>\n",
       "      <th>1</th>\n",
       "      <td>Donald Trump appearing View tomorrow morning d...</td>\n",
       "      <td>-1</td>\n",
       "      <td>-1_great_trump_realdonaldtrump_thank</td>\n",
       "      <td>[great, trump, realdonaldtrump, thank, people,...</td>\n",
       "      <td>[bad Economic times worse better anything make...</td>\n",
       "      <td>great - trump - realdonaldtrump - thank - peop...</td>\n",
       "      <td>0.000000</td>\n",
       "      <td>False</td>\n",
       "    </tr>\n",
       "    <tr>\n",
       "      <th>2</th>\n",
       "      <td>Donald Trump reads Top Ten Financial Tips Late...</td>\n",
       "      <td>2</td>\n",
       "      <td>2_apprentice_apprenticenbc_celebrity_show</td>\n",
       "      <td>[apprentice, apprenticenbc, celebrity, show, t...</td>\n",
       "      <td>[Dont forget tune tonight another exciting epi...</td>\n",
       "      <td>apprentice - apprenticenbc - celebrity - show ...</td>\n",
       "      <td>0.491763</td>\n",
       "      <td>False</td>\n",
       "    </tr>\n",
       "    <tr>\n",
       "      <th>3</th>\n",
       "      <td>New Blog Post Celebrity Apprentice Finale Less...</td>\n",
       "      <td>2</td>\n",
       "      <td>2_apprentice_apprenticenbc_celebrity_show</td>\n",
       "      <td>[apprentice, apprenticenbc, celebrity, show, t...</td>\n",
       "      <td>[Dont forget tune tonight another exciting epi...</td>\n",
       "      <td>apprentice - apprenticenbc - celebrity - show ...</td>\n",
       "      <td>0.711829</td>\n",
       "      <td>False</td>\n",
       "    </tr>\n",
       "    <tr>\n",
       "      <th>4</th>\n",
       "      <td>persona never wallflower Id rather build walls...</td>\n",
       "      <td>-1</td>\n",
       "      <td>-1_great_trump_realdonaldtrump_thank</td>\n",
       "      <td>[great, trump, realdonaldtrump, thank, people,...</td>\n",
       "      <td>[bad Economic times worse better anything make...</td>\n",
       "      <td>great - trump - realdonaldtrump - thank - peop...</td>\n",
       "      <td>0.000000</td>\n",
       "      <td>False</td>\n",
       "    </tr>\n",
       "    <tr>\n",
       "      <th>...</th>\n",
       "      <td>...</td>\n",
       "      <td>...</td>\n",
       "      <td>...</td>\n",
       "      <td>...</td>\n",
       "      <td>...</td>\n",
       "      <td>...</td>\n",
       "      <td>...</td>\n",
       "      <td>...</td>\n",
       "    </tr>\n",
       "    <tr>\n",
       "      <th>34474</th>\n",
       "      <td>Chris Jacobs JacobsNY tremendous Congressman a...</td>\n",
       "      <td>6</td>\n",
       "      <td>6_endorsement_vets_amendment_great</td>\n",
       "      <td>[endorsement, vets, amendment, great, carolina...</td>\n",
       "      <td>[Congressman MikeTurnerOH strong supporter fig...</td>\n",
       "      <td>endorsement - vets - amendment - great - carol...</td>\n",
       "      <td>0.439907</td>\n",
       "      <td>False</td>\n",
       "    </tr>\n",
       "    <tr>\n",
       "      <th>34475</th>\n",
       "      <td>Congressman LeeZeldin fighter New York serves ...</td>\n",
       "      <td>6</td>\n",
       "      <td>6_endorsement_vets_amendment_great</td>\n",
       "      <td>[endorsement, vets, amendment, great, carolina...</td>\n",
       "      <td>[Congressman MikeTurnerOH strong supporter fig...</td>\n",
       "      <td>endorsement - vets - amendment - great - carol...</td>\n",
       "      <td>0.280300</td>\n",
       "      <td>False</td>\n",
       "    </tr>\n",
       "    <tr>\n",
       "      <th>34476</th>\n",
       "      <td>LyndaBennettNC Complete Total Endorsement grea...</td>\n",
       "      <td>-1</td>\n",
       "      <td>-1_great_trump_realdonaldtrump_thank</td>\n",
       "      <td>[great, trump, realdonaldtrump, thank, people,...</td>\n",
       "      <td>[bad Economic times worse better anything make...</td>\n",
       "      <td>great - trump - realdonaldtrump - thank - peop...</td>\n",
       "      <td>0.000000</td>\n",
       "      <td>False</td>\n",
       "    </tr>\n",
       "    <tr>\n",
       "      <th>34477</th>\n",
       "      <td>GREAT woman son looking heaven proud wonderful...</td>\n",
       "      <td>32</td>\n",
       "      <td>32_father_fred_mother_mary</td>\n",
       "      <td>[father, fred, mother, mary, advice, macleod, ...</td>\n",
       "      <td>[Good advice father Know everything youre Fred...</td>\n",
       "      <td>father - fred - mother - mary - advice - macle...</td>\n",
       "      <td>0.757434</td>\n",
       "      <td>False</td>\n",
       "    </tr>\n",
       "    <tr>\n",
       "      <th>34478</th>\n",
       "      <td>Joe Biden TOTAL FAILURE Government bungled eve...</td>\n",
       "      <td>2</td>\n",
       "      <td>2_apprentice_apprenticenbc_celebrity_show</td>\n",
       "      <td>[apprentice, apprenticenbc, celebrity, show, t...</td>\n",
       "      <td>[Dont forget tune tonight another exciting epi...</td>\n",
       "      <td>apprentice - apprenticenbc - celebrity - show ...</td>\n",
       "      <td>1.000000</td>\n",
       "      <td>False</td>\n",
       "    </tr>\n",
       "  </tbody>\n",
       "</table>\n",
       "<p>34479 rows × 8 columns</p>\n",
       "</div>"
      ],
      "text/plain": [
       "                                                Document  Topic  \\\n",
       "0      sure tune watch Donald Trump Late Night David ...      2   \n",
       "1      Donald Trump appearing View tomorrow morning d...     -1   \n",
       "2      Donald Trump reads Top Ten Financial Tips Late...      2   \n",
       "3      New Blog Post Celebrity Apprentice Finale Less...      2   \n",
       "4      persona never wallflower Id rather build walls...     -1   \n",
       "...                                                  ...    ...   \n",
       "34474  Chris Jacobs JacobsNY tremendous Congressman a...      6   \n",
       "34475  Congressman LeeZeldin fighter New York serves ...      6   \n",
       "34476  LyndaBennettNC Complete Total Endorsement grea...     -1   \n",
       "34477  GREAT woman son looking heaven proud wonderful...     32   \n",
       "34478  Joe Biden TOTAL FAILURE Government bungled eve...      2   \n",
       "\n",
       "                                            Name  \\\n",
       "0      2_apprentice_apprenticenbc_celebrity_show   \n",
       "1           -1_great_trump_realdonaldtrump_thank   \n",
       "2      2_apprentice_apprenticenbc_celebrity_show   \n",
       "3      2_apprentice_apprenticenbc_celebrity_show   \n",
       "4           -1_great_trump_realdonaldtrump_thank   \n",
       "...                                          ...   \n",
       "34474         6_endorsement_vets_amendment_great   \n",
       "34475         6_endorsement_vets_amendment_great   \n",
       "34476       -1_great_trump_realdonaldtrump_thank   \n",
       "34477                 32_father_fred_mother_mary   \n",
       "34478  2_apprentice_apprenticenbc_celebrity_show   \n",
       "\n",
       "                                          Representation  \\\n",
       "0      [apprentice, apprenticenbc, celebrity, show, t...   \n",
       "1      [great, trump, realdonaldtrump, thank, people,...   \n",
       "2      [apprentice, apprenticenbc, celebrity, show, t...   \n",
       "3      [apprentice, apprenticenbc, celebrity, show, t...   \n",
       "4      [great, trump, realdonaldtrump, thank, people,...   \n",
       "...                                                  ...   \n",
       "34474  [endorsement, vets, amendment, great, carolina...   \n",
       "34475  [endorsement, vets, amendment, great, carolina...   \n",
       "34476  [great, trump, realdonaldtrump, thank, people,...   \n",
       "34477  [father, fred, mother, mary, advice, macleod, ...   \n",
       "34478  [apprentice, apprenticenbc, celebrity, show, t...   \n",
       "\n",
       "                                     Representative_Docs  \\\n",
       "0      [Dont forget tune tonight another exciting epi...   \n",
       "1      [bad Economic times worse better anything make...   \n",
       "2      [Dont forget tune tonight another exciting epi...   \n",
       "3      [Dont forget tune tonight another exciting epi...   \n",
       "4      [bad Economic times worse better anything make...   \n",
       "...                                                  ...   \n",
       "34474  [Congressman MikeTurnerOH strong supporter fig...   \n",
       "34475  [Congressman MikeTurnerOH strong supporter fig...   \n",
       "34476  [bad Economic times worse better anything make...   \n",
       "34477  [Good advice father Know everything youre Fred...   \n",
       "34478  [Dont forget tune tonight another exciting epi...   \n",
       "\n",
       "                                             Top_n_words  Probability  \\\n",
       "0      apprentice - apprenticenbc - celebrity - show ...     0.420393   \n",
       "1      great - trump - realdonaldtrump - thank - peop...     0.000000   \n",
       "2      apprentice - apprenticenbc - celebrity - show ...     0.491763   \n",
       "3      apprentice - apprenticenbc - celebrity - show ...     0.711829   \n",
       "4      great - trump - realdonaldtrump - thank - peop...     0.000000   \n",
       "...                                                  ...          ...   \n",
       "34474  endorsement - vets - amendment - great - carol...     0.439907   \n",
       "34475  endorsement - vets - amendment - great - carol...     0.280300   \n",
       "34476  great - trump - realdonaldtrump - thank - peop...     0.000000   \n",
       "34477  father - fred - mother - mary - advice - macle...     0.757434   \n",
       "34478  apprentice - apprenticenbc - celebrity - show ...     1.000000   \n",
       "\n",
       "       Representative_document  \n",
       "0                        False  \n",
       "1                        False  \n",
       "2                        False  \n",
       "3                        False  \n",
       "4                        False  \n",
       "...                        ...  \n",
       "34474                    False  \n",
       "34475                    False  \n",
       "34476                    False  \n",
       "34477                    False  \n",
       "34478                    False  \n",
       "\n",
       "[34479 rows x 8 columns]"
      ]
     },
     "execution_count": 74,
     "metadata": {},
     "output_type": "execute_result"
    }
   ],
   "source": [
    "# use the new topic names to visualize the topics \n",
    "\n",
    "\n",
    "# create df from model \n",
    "topic_df = topic_model.get_document_info(documents)\n",
    "topic_df"
   ]
  },
  {
   "cell_type": "code",
   "execution_count": 75,
   "metadata": {},
   "outputs": [
    {
     "data": {
      "text/html": [
       "<div>\n",
       "<style scoped>\n",
       "    .dataframe tbody tr th:only-of-type {\n",
       "        vertical-align: middle;\n",
       "    }\n",
       "\n",
       "    .dataframe tbody tr th {\n",
       "        vertical-align: top;\n",
       "    }\n",
       "\n",
       "    .dataframe thead th {\n",
       "        text-align: right;\n",
       "    }\n",
       "</style>\n",
       "<table border=\"1\" class=\"dataframe\">\n",
       "  <thead>\n",
       "    <tr style=\"text-align: right;\">\n",
       "      <th></th>\n",
       "      <th>Document</th>\n",
       "      <th>Topic</th>\n",
       "      <th>Name</th>\n",
       "      <th>Representation</th>\n",
       "      <th>Representative_Docs</th>\n",
       "      <th>Top_n_words</th>\n",
       "      <th>Probability</th>\n",
       "      <th>Representative_document</th>\n",
       "      <th>refined_topic_names</th>\n",
       "    </tr>\n",
       "  </thead>\n",
       "  <tbody>\n",
       "    <tr>\n",
       "      <th>0</th>\n",
       "      <td>sure tune watch Donald Trump Late Night David ...</td>\n",
       "      <td>2</td>\n",
       "      <td>2_apprentice_apprenticenbc_celebrity_show</td>\n",
       "      <td>[apprentice, apprenticenbc, celebrity, show, t...</td>\n",
       "      <td>[Dont forget tune tonight another exciting epi...</td>\n",
       "      <td>apprentice - apprenticenbc - celebrity - show ...</td>\n",
       "      <td>0.420393</td>\n",
       "      <td>False</td>\n",
       "      <td>\"Celebrity Interview: Real Donald Trump Seaso...</td>\n",
       "    </tr>\n",
       "    <tr>\n",
       "      <th>1</th>\n",
       "      <td>Donald Trump appearing View tomorrow morning d...</td>\n",
       "      <td>-1</td>\n",
       "      <td>-1_great_trump_realdonaldtrump_thank</td>\n",
       "      <td>[great, trump, realdonaldtrump, thank, people,...</td>\n",
       "      <td>[bad Economic times worse better anything make...</td>\n",
       "      <td>great - trump - realdonaldtrump - thank - peop...</td>\n",
       "      <td>0.000000</td>\n",
       "      <td>False</td>\n",
       "      <td>\"Popular Opinion on Trump's Presidency (Trans...</td>\n",
       "    </tr>\n",
       "    <tr>\n",
       "      <th>2</th>\n",
       "      <td>Donald Trump reads Top Ten Financial Tips Late...</td>\n",
       "      <td>2</td>\n",
       "      <td>2_apprentice_apprenticenbc_celebrity_show</td>\n",
       "      <td>[apprentice, apprenticenbc, celebrity, show, t...</td>\n",
       "      <td>[Dont forget tune tonight another exciting epi...</td>\n",
       "      <td>apprentice - apprenticenbc - celebrity - show ...</td>\n",
       "      <td>0.491763</td>\n",
       "      <td>False</td>\n",
       "      <td>\"Celebrity Interview: Real Donald Trump Seaso...</td>\n",
       "    </tr>\n",
       "    <tr>\n",
       "      <th>3</th>\n",
       "      <td>New Blog Post Celebrity Apprentice Finale Less...</td>\n",
       "      <td>2</td>\n",
       "      <td>2_apprentice_apprenticenbc_celebrity_show</td>\n",
       "      <td>[apprentice, apprenticenbc, celebrity, show, t...</td>\n",
       "      <td>[Dont forget tune tonight another exciting epi...</td>\n",
       "      <td>apprentice - apprenticenbc - celebrity - show ...</td>\n",
       "      <td>0.711829</td>\n",
       "      <td>False</td>\n",
       "      <td>\"Celebrity Interview: Real Donald Trump Seaso...</td>\n",
       "    </tr>\n",
       "    <tr>\n",
       "      <th>4</th>\n",
       "      <td>persona never wallflower Id rather build walls...</td>\n",
       "      <td>-1</td>\n",
       "      <td>-1_great_trump_realdonaldtrump_thank</td>\n",
       "      <td>[great, trump, realdonaldtrump, thank, people,...</td>\n",
       "      <td>[bad Economic times worse better anything make...</td>\n",
       "      <td>great - trump - realdonaldtrump - thank - peop...</td>\n",
       "      <td>0.000000</td>\n",
       "      <td>False</td>\n",
       "      <td>\"Popular Opinion on Trump's Presidency (Trans...</td>\n",
       "    </tr>\n",
       "    <tr>\n",
       "      <th>...</th>\n",
       "      <td>...</td>\n",
       "      <td>...</td>\n",
       "      <td>...</td>\n",
       "      <td>...</td>\n",
       "      <td>...</td>\n",
       "      <td>...</td>\n",
       "      <td>...</td>\n",
       "      <td>...</td>\n",
       "      <td>...</td>\n",
       "    </tr>\n",
       "    <tr>\n",
       "      <th>34474</th>\n",
       "      <td>Chris Jacobs JacobsNY tremendous Congressman a...</td>\n",
       "      <td>6</td>\n",
       "      <td>6_endorsement_vets_amendment_great</td>\n",
       "      <td>[endorsement, vets, amendment, great, carolina...</td>\n",
       "      <td>[Congressman MikeTurnerOH strong supporter fig...</td>\n",
       "      <td>endorsement - vets - amendment - great - carol...</td>\n",
       "      <td>0.439907</td>\n",
       "      <td>False</td>\n",
       "      <td>\"Military Endorsements for Carolina Constitut...</td>\n",
       "    </tr>\n",
       "    <tr>\n",
       "      <th>34475</th>\n",
       "      <td>Congressman LeeZeldin fighter New York serves ...</td>\n",
       "      <td>6</td>\n",
       "      <td>6_endorsement_vets_amendment_great</td>\n",
       "      <td>[endorsement, vets, amendment, great, carolina...</td>\n",
       "      <td>[Congressman MikeTurnerOH strong supporter fig...</td>\n",
       "      <td>endorsement - vets - amendment - great - carol...</td>\n",
       "      <td>0.280300</td>\n",
       "      <td>False</td>\n",
       "      <td>\"Military Endorsements for Carolina Constitut...</td>\n",
       "    </tr>\n",
       "    <tr>\n",
       "      <th>34476</th>\n",
       "      <td>LyndaBennettNC Complete Total Endorsement grea...</td>\n",
       "      <td>-1</td>\n",
       "      <td>-1_great_trump_realdonaldtrump_thank</td>\n",
       "      <td>[great, trump, realdonaldtrump, thank, people,...</td>\n",
       "      <td>[bad Economic times worse better anything make...</td>\n",
       "      <td>great - trump - realdonaldtrump - thank - peop...</td>\n",
       "      <td>0.000000</td>\n",
       "      <td>False</td>\n",
       "      <td>\"Popular Opinion on Trump's Presidency (Trans...</td>\n",
       "    </tr>\n",
       "    <tr>\n",
       "      <th>34477</th>\n",
       "      <td>GREAT woman son looking heaven proud wonderful...</td>\n",
       "      <td>32</td>\n",
       "      <td>32_father_fred_mother_mary</td>\n",
       "      <td>[father, fred, mother, mary, advice, macleod, ...</td>\n",
       "      <td>[Good advice father Know everything youre Fred...</td>\n",
       "      <td>father - fred - mother - mary - advice - macle...</td>\n",
       "      <td>0.757434</td>\n",
       "      <td>False</td>\n",
       "      <td>Parental Guidance and Wisdom</td>\n",
       "    </tr>\n",
       "    <tr>\n",
       "      <th>34478</th>\n",
       "      <td>Joe Biden TOTAL FAILURE Government bungled eve...</td>\n",
       "      <td>2</td>\n",
       "      <td>2_apprentice_apprenticenbc_celebrity_show</td>\n",
       "      <td>[apprentice, apprenticenbc, celebrity, show, t...</td>\n",
       "      <td>[Dont forget tune tonight another exciting epi...</td>\n",
       "      <td>apprentice - apprenticenbc - celebrity - show ...</td>\n",
       "      <td>1.000000</td>\n",
       "      <td>False</td>\n",
       "      <td>\"Celebrity Interview: Real Donald Trump Seaso...</td>\n",
       "    </tr>\n",
       "  </tbody>\n",
       "</table>\n",
       "<p>34479 rows × 9 columns</p>\n",
       "</div>"
      ],
      "text/plain": [
       "                                                Document  Topic  \\\n",
       "0      sure tune watch Donald Trump Late Night David ...      2   \n",
       "1      Donald Trump appearing View tomorrow morning d...     -1   \n",
       "2      Donald Trump reads Top Ten Financial Tips Late...      2   \n",
       "3      New Blog Post Celebrity Apprentice Finale Less...      2   \n",
       "4      persona never wallflower Id rather build walls...     -1   \n",
       "...                                                  ...    ...   \n",
       "34474  Chris Jacobs JacobsNY tremendous Congressman a...      6   \n",
       "34475  Congressman LeeZeldin fighter New York serves ...      6   \n",
       "34476  LyndaBennettNC Complete Total Endorsement grea...     -1   \n",
       "34477  GREAT woman son looking heaven proud wonderful...     32   \n",
       "34478  Joe Biden TOTAL FAILURE Government bungled eve...      2   \n",
       "\n",
       "                                            Name  \\\n",
       "0      2_apprentice_apprenticenbc_celebrity_show   \n",
       "1           -1_great_trump_realdonaldtrump_thank   \n",
       "2      2_apprentice_apprenticenbc_celebrity_show   \n",
       "3      2_apprentice_apprenticenbc_celebrity_show   \n",
       "4           -1_great_trump_realdonaldtrump_thank   \n",
       "...                                          ...   \n",
       "34474         6_endorsement_vets_amendment_great   \n",
       "34475         6_endorsement_vets_amendment_great   \n",
       "34476       -1_great_trump_realdonaldtrump_thank   \n",
       "34477                 32_father_fred_mother_mary   \n",
       "34478  2_apprentice_apprenticenbc_celebrity_show   \n",
       "\n",
       "                                          Representation  \\\n",
       "0      [apprentice, apprenticenbc, celebrity, show, t...   \n",
       "1      [great, trump, realdonaldtrump, thank, people,...   \n",
       "2      [apprentice, apprenticenbc, celebrity, show, t...   \n",
       "3      [apprentice, apprenticenbc, celebrity, show, t...   \n",
       "4      [great, trump, realdonaldtrump, thank, people,...   \n",
       "...                                                  ...   \n",
       "34474  [endorsement, vets, amendment, great, carolina...   \n",
       "34475  [endorsement, vets, amendment, great, carolina...   \n",
       "34476  [great, trump, realdonaldtrump, thank, people,...   \n",
       "34477  [father, fred, mother, mary, advice, macleod, ...   \n",
       "34478  [apprentice, apprenticenbc, celebrity, show, t...   \n",
       "\n",
       "                                     Representative_Docs  \\\n",
       "0      [Dont forget tune tonight another exciting epi...   \n",
       "1      [bad Economic times worse better anything make...   \n",
       "2      [Dont forget tune tonight another exciting epi...   \n",
       "3      [Dont forget tune tonight another exciting epi...   \n",
       "4      [bad Economic times worse better anything make...   \n",
       "...                                                  ...   \n",
       "34474  [Congressman MikeTurnerOH strong supporter fig...   \n",
       "34475  [Congressman MikeTurnerOH strong supporter fig...   \n",
       "34476  [bad Economic times worse better anything make...   \n",
       "34477  [Good advice father Know everything youre Fred...   \n",
       "34478  [Dont forget tune tonight another exciting epi...   \n",
       "\n",
       "                                             Top_n_words  Probability  \\\n",
       "0      apprentice - apprenticenbc - celebrity - show ...     0.420393   \n",
       "1      great - trump - realdonaldtrump - thank - peop...     0.000000   \n",
       "2      apprentice - apprenticenbc - celebrity - show ...     0.491763   \n",
       "3      apprentice - apprenticenbc - celebrity - show ...     0.711829   \n",
       "4      great - trump - realdonaldtrump - thank - peop...     0.000000   \n",
       "...                                                  ...          ...   \n",
       "34474  endorsement - vets - amendment - great - carol...     0.439907   \n",
       "34475  endorsement - vets - amendment - great - carol...     0.280300   \n",
       "34476  great - trump - realdonaldtrump - thank - peop...     0.000000   \n",
       "34477  father - fred - mother - mary - advice - macle...     0.757434   \n",
       "34478  apprentice - apprenticenbc - celebrity - show ...     1.000000   \n",
       "\n",
       "       Representative_document  \\\n",
       "0                        False   \n",
       "1                        False   \n",
       "2                        False   \n",
       "3                        False   \n",
       "4                        False   \n",
       "...                        ...   \n",
       "34474                    False   \n",
       "34475                    False   \n",
       "34476                    False   \n",
       "34477                    False   \n",
       "34478                    False   \n",
       "\n",
       "                                     refined_topic_names  \n",
       "0       \"Celebrity Interview: Real Donald Trump Seaso...  \n",
       "1       \"Popular Opinion on Trump's Presidency (Trans...  \n",
       "2       \"Celebrity Interview: Real Donald Trump Seaso...  \n",
       "3       \"Celebrity Interview: Real Donald Trump Seaso...  \n",
       "4       \"Popular Opinion on Trump's Presidency (Trans...  \n",
       "...                                                  ...  \n",
       "34474   \"Military Endorsements for Carolina Constitut...  \n",
       "34475   \"Military Endorsements for Carolina Constitut...  \n",
       "34476   \"Popular Opinion on Trump's Presidency (Trans...  \n",
       "34477                       Parental Guidance and Wisdom  \n",
       "34478   \"Celebrity Interview: Real Donald Trump Seaso...  \n",
       "\n",
       "[34479 rows x 9 columns]"
      ]
     },
     "execution_count": 75,
     "metadata": {},
     "output_type": "execute_result"
    }
   ],
   "source": [
    "# assign the new topic names to the topic_df\n",
    "topic_df['refined_topic_names'] = topic_df['Topic'].map(dict(zip(topics['Topic'], topics['refined_topic_names'])))\n",
    "topic_df"
   ]
  },
  {
   "cell_type": "code",
   "execution_count": 76,
   "metadata": {},
   "outputs": [],
   "source": [
    "# add the dates back in \n",
    "\n",
    "topic_df['date'] = dates"
   ]
  },
  {
   "cell_type": "code",
   "execution_count": 77,
   "metadata": {},
   "outputs": [
    {
     "data": {
      "text/html": [
       "<div>\n",
       "<style scoped>\n",
       "    .dataframe tbody tr th:only-of-type {\n",
       "        vertical-align: middle;\n",
       "    }\n",
       "\n",
       "    .dataframe tbody tr th {\n",
       "        vertical-align: top;\n",
       "    }\n",
       "\n",
       "    .dataframe thead th {\n",
       "        text-align: right;\n",
       "    }\n",
       "</style>\n",
       "<table border=\"1\" class=\"dataframe\">\n",
       "  <thead>\n",
       "    <tr style=\"text-align: right;\">\n",
       "      <th></th>\n",
       "      <th>date</th>\n",
       "      <th>refined_topic_names</th>\n",
       "      <th>count</th>\n",
       "    </tr>\n",
       "  </thead>\n",
       "  <tbody>\n",
       "    <tr>\n",
       "      <th>0</th>\n",
       "      <td>2009</td>\n",
       "      <td>\"Celebrity Apprentice All-Star Season with Om...</td>\n",
       "      <td>1</td>\n",
       "    </tr>\n",
       "    <tr>\n",
       "      <th>1</th>\n",
       "      <td>2009</td>\n",
       "      <td>\"Celebrity Interview: Real Donald Trump Seaso...</td>\n",
       "      <td>5</td>\n",
       "    </tr>\n",
       "    <tr>\n",
       "      <th>2</th>\n",
       "      <td>2009</td>\n",
       "      <td>\"Facebook Videos / Latest Questions Answers\"</td>\n",
       "      <td>1</td>\n",
       "    </tr>\n",
       "    <tr>\n",
       "      <th>3</th>\n",
       "      <td>2009</td>\n",
       "      <td>\"Happy Christmas Honoring Veterans\"</td>\n",
       "      <td>1</td>\n",
       "    </tr>\n",
       "    <tr>\n",
       "      <th>4</th>\n",
       "      <td>2009</td>\n",
       "      <td>\"Political Actions of President Trump\" (or, a...</td>\n",
       "      <td>9</td>\n",
       "    </tr>\n",
       "    <tr>\n",
       "      <th>...</th>\n",
       "      <td>...</td>\n",
       "      <td>...</td>\n",
       "      <td>...</td>\n",
       "    </tr>\n",
       "    <tr>\n",
       "      <th>373</th>\n",
       "      <td>2020</td>\n",
       "      <td>Parental Guidance and Wisdom</td>\n",
       "      <td>2</td>\n",
       "    </tr>\n",
       "    <tr>\n",
       "      <th>374</th>\n",
       "      <td>2020</td>\n",
       "      <td>Passionate Leaders and Scientific Pioneers</td>\n",
       "      <td>1</td>\n",
       "    </tr>\n",
       "    <tr>\n",
       "      <th>375</th>\n",
       "      <td>2020</td>\n",
       "      <td>Political News Analysis (Politics, Media, Ana...</td>\n",
       "      <td>12</td>\n",
       "    </tr>\n",
       "    <tr>\n",
       "      <th>376</th>\n",
       "      <td>2020</td>\n",
       "      <td>Social Media Debates &amp; OWS Protests</td>\n",
       "      <td>5</td>\n",
       "    </tr>\n",
       "    <tr>\n",
       "      <th>377</th>\n",
       "      <td>2020</td>\n",
       "      <td>WWE-Miss Universe USA Connection (Pageants an...</td>\n",
       "      <td>2</td>\n",
       "    </tr>\n",
       "  </tbody>\n",
       "</table>\n",
       "<p>378 rows × 3 columns</p>\n",
       "</div>"
      ],
      "text/plain": [
       "     date                                refined_topic_names  count\n",
       "0    2009   \"Celebrity Apprentice All-Star Season with Om...      1\n",
       "1    2009   \"Celebrity Interview: Real Donald Trump Seaso...      5\n",
       "2    2009       \"Facebook Videos / Latest Questions Answers\"      1\n",
       "3    2009                \"Happy Christmas Honoring Veterans\"      1\n",
       "4    2009   \"Political Actions of President Trump\" (or, a...      9\n",
       "..    ...                                                ...    ...\n",
       "373  2020                       Parental Guidance and Wisdom      2\n",
       "374  2020         Passionate Leaders and Scientific Pioneers      1\n",
       "375  2020   Political News Analysis (Politics, Media, Ana...     12\n",
       "376  2020                Social Media Debates & OWS Protests      5\n",
       "377  2020   WWE-Miss Universe USA Connection (Pageants an...      2\n",
       "\n",
       "[378 rows x 3 columns]"
      ]
     },
     "execution_count": 77,
     "metadata": {},
     "output_type": "execute_result"
    }
   ],
   "source": [
    "# groupby date and topic and count the number of tweets in each topic\n",
    "\n",
    "topic_df_grouped = topic_df.groupby(['date', 'refined_topic_names']).size().reset_index(name='count')\n",
    "topic_df_grouped"
   ]
  },
  {
   "cell_type": "code",
   "execution_count": 78,
   "metadata": {},
   "outputs": [
    {
     "data": {
      "text/plain": [
       "array([' \"Celebrity Apprentice All-Star Season with Omarosa, Gary Busey, and Leeza Gibbons\"',\n",
       "       ' \"Celebrity Interview: Real Donald Trump Season on NBC\"',\n",
       "       ' \"Facebook Videos / Latest Questions Answers\"',\n",
       "       ' \"Happy Christmas Honoring Veterans\"',\n",
       "       ' \"Political Actions of President Trump\" (or, alternatively, \"Trump\\'s Presidency Requests\")',\n",
       "       ' \"Popular Opinion on Trump\\'s Presidency (Transition from Obama)\"',\n",
       "       ' \"Protest in NFL Buffalo Bills Game: Tom Brady and Anthem Dispute\"',\n",
       "       ' \"Scottish Golf Resorts and Trump Properties\"',\n",
       "       ' Crippled Art Book Launch and Reading Event',\n",
       "       ' Parental Guidance and Wisdom',\n",
       "       ' Passionate Leaders and Scientific Pioneers',\n",
       "       ' WWE-Miss Universe USA Connection (Pageants and Wrestling Events)',\n",
       "       ' \"Famous MLB Players: Jeter, A-Rod, and the New York Yankees\"',\n",
       "       ' \"Midas Touch Successful Entrepreneurship\"',\n",
       "       ' \"Political Media Misinformation Scandal (Hillary Clinton)\"',\n",
       "       ' Natural Disaster Response in Puerto Rico (Including Law Enforcement)',\n",
       "       ' \"Celebrity-Involved NBA Games in Cuba\"',\n",
       "       ' \"Donald Trump\\'s Million Dollar Song Hit (associated with Mac Miller)\"',\n",
       "       ' \"Federal Monetary Policy Impact on Market and Inflation\"',\n",
       "       ' \"Global Coldest Record Weather Change (Climate Warming, Freezing)\"',\n",
       "       ' \"Military Endorsements for Carolina Constitutional Amendments - Complete and Strong Support from Iowa Vets\"',\n",
       "       ' \"Military Scandals in Vietnam: Generals and Sexual Misconduct\"',\n",
       "       ' \"Obama\\'s Healthcare Policies & Tax Debate Among Republicans (including DACA & Debt)\"',\n",
       "       ' \"Political Convention on Myrtle Beach (Monday), featuring Donald GOP\"',\n",
       "       ' \"U.S.-China Trade Tariffs Impacts\"',\n",
       "       ' Food & Restaurant Reviews (Vanity Fair)',\n",
       "       ' Middle East Conflicts & Nuclear Tensions under Obama',\n",
       "       \" Republican Presidential Candidates' Interviews and Discussions\",\n",
       "       ' Social Media Debates & OWS Protests',\n",
       "       ' Urban Restructuring and Business Philanthropy',\n",
       "       ' \"Border Security and Immigration Policies\"',\n",
       "       ' \"Colorado & Phoenix Sports Events Tomorrow\"',\n",
       "       ' \"Competitive Financial Gaming Momentum\"',\n",
       "       ' \"New York Political Scandals\"',\n",
       "       ' \"Political Activism among College Students in Las Vegas\"',\n",
       "       ' \"Reality TV Personalities & Hair Discussions\"',\n",
       "       ' \"Sugary Beverages Debate: Sugar Consumption and Weight Issues\"',\n",
       "       ' \"Terrorist Attack in Paris (Security and Global Relations)\"',\n",
       "       ' \"Venezuelan Political Conflict: Chávez, Maduro, Guaidó\"',\n",
       "       ' Global Health Crises (Viruses in Africa and US)',\n",
       "       ' Lance Armstrong Scandals and Interviews',\n",
       "       ' North Korea-South Korea Nuclear Tensions',\n",
       "       ' Vaccine Awareness and Autism Concerns in Children',\n",
       "       ' Wind Energy Conflict in Scotland',\n",
       "       ' \"Large Apple Devices Comparison (Apple vs Samsung)\"',\n",
       "       ' \"Washington D.C. Amazon Retail Tax Lobbying\"',\n",
       "       ' \"Pinehurst Golf Experience: Matt Ginella, Steven Well Review\"',\n",
       "       ' Dissatisfied Cell Service Consumers (T-Mobile vs Verizon Wireless)',\n",
       "       ' European Trade & Economic Cooperation (NATO Countries)',\n",
       "       ' Political News Analysis (Politics, Media, Analysis)'],\n",
       "      dtype=object)"
      ]
     },
     "execution_count": 78,
     "metadata": {},
     "output_type": "execute_result"
    }
   ],
   "source": [
    "topic_df_grouped.refined_topic_names.unique()"
   ]
  },
  {
   "cell_type": "code",
   "execution_count": 80,
   "metadata": {},
   "outputs": [
    {
     "data": {
      "application/vnd.plotly.v1+json": {
       "config": {
        "plotlyServerURL": "https://plot.ly"
       },
       "data": [
        {
         "hovertemplate": "refined_topic_names= \"Celebrity Apprentice All-Star Season with Omarosa, Gary Busey, and Leeza Gibbons\"<br>date=%{x}<br>count=%{y}<extra></extra>",
         "legendgroup": " \"Celebrity Apprentice All-Star Season with Omarosa, Gary Busey, and Leeza Gibbons\"",
         "line": {
          "color": "#636efa",
          "dash": "solid"
         },
         "marker": {
          "symbol": "circle"
         },
         "mode": "lines",
         "name": " \"Celebrity Apprentice All-Star Season with Omarosa, Gary Busey, and Leeza Gibbons\"",
         "orientation": "v",
         "showlegend": true,
         "type": "scatter",
         "x": [
          2009,
          2010,
          2011,
          2012,
          2013,
          2014,
          2015,
          2016,
          2018
         ],
         "xaxis": "x",
         "y": [
          1,
          1,
          1,
          37,
          86,
          4,
          24,
          1,
          1
         ],
         "yaxis": "y"
        },
        {
         "hovertemplate": "refined_topic_names= \"Celebrity Interview: Real Donald Trump Season on NBC\"<br>date=%{x}<br>count=%{y}<extra></extra>",
         "legendgroup": " \"Celebrity Interview: Real Donald Trump Season on NBC\"",
         "line": {
          "color": "#EF553B",
          "dash": "solid"
         },
         "marker": {
          "symbol": "circle"
         },
         "mode": "lines",
         "name": " \"Celebrity Interview: Real Donald Trump Season on NBC\"",
         "orientation": "v",
         "showlegend": true,
         "type": "scatter",
         "x": [
          2009,
          2010,
          2011,
          2012,
          2013,
          2014,
          2015,
          2016,
          2017,
          2018,
          2019,
          2020
         ],
         "xaxis": "x",
         "y": [
          5,
          30,
          95,
          219,
          396,
          269,
          532,
          88,
          11,
          13,
          41,
          35
         ],
         "yaxis": "y"
        },
        {
         "hovertemplate": "refined_topic_names= \"Facebook Videos / Latest Questions Answers\"<br>date=%{x}<br>count=%{y}<extra></extra>",
         "legendgroup": " \"Facebook Videos / Latest Questions Answers\"",
         "line": {
          "color": "#00cc96",
          "dash": "solid"
         },
         "marker": {
          "symbol": "circle"
         },
         "mode": "lines",
         "name": " \"Facebook Videos / Latest Questions Answers\"",
         "orientation": "v",
         "showlegend": true,
         "type": "scatter",
         "x": [
          2009,
          2011,
          2012,
          2013,
          2014,
          2015,
          2016
         ],
         "xaxis": "x",
         "y": [
          1,
          2,
          1,
          6,
          3,
          2,
          1
         ],
         "yaxis": "y"
        },
        {
         "hovertemplate": "refined_topic_names= \"Happy Christmas Honoring Veterans\"<br>date=%{x}<br>count=%{y}<extra></extra>",
         "legendgroup": " \"Happy Christmas Honoring Veterans\"",
         "line": {
          "color": "#ab63fa",
          "dash": "solid"
         },
         "marker": {
          "symbol": "circle"
         },
         "mode": "lines",
         "name": " \"Happy Christmas Honoring Veterans\"",
         "orientation": "v",
         "showlegend": true,
         "type": "scatter",
         "x": [
          2009,
          2010,
          2011,
          2012,
          2013,
          2014,
          2015,
          2016,
          2017,
          2018,
          2019,
          2020
         ],
         "xaxis": "x",
         "y": [
          1,
          4,
          10,
          35,
          41,
          46,
          50,
          52,
          104,
          87,
          83,
          40
         ],
         "yaxis": "y"
        },
        {
         "hovertemplate": "refined_topic_names= \"Political Actions of President Trump\" (or, alternatively, \"Trump's Presidency Requests\")<br>date=%{x}<br>count=%{y}<extra></extra>",
         "legendgroup": " \"Political Actions of President Trump\" (or, alternatively, \"Trump's Presidency Requests\")",
         "line": {
          "color": "#FFA15A",
          "dash": "solid"
         },
         "marker": {
          "symbol": "circle"
         },
         "mode": "lines",
         "name": " \"Political Actions of President Trump\" (or, alternatively, \"Trump's Presidency Requests\")",
         "orientation": "v",
         "showlegend": true,
         "type": "scatter",
         "x": [
          2009,
          2010,
          2011,
          2012,
          2013,
          2014,
          2015,
          2016,
          2017,
          2018,
          2019,
          2020
         ],
         "xaxis": "x",
         "y": [
          9,
          13,
          33,
          89,
          1169,
          1413,
          1781,
          267,
          98,
          100,
          93,
          58
         ],
         "yaxis": "y"
        },
        {
         "hovertemplate": "refined_topic_names= \"Popular Opinion on Trump's Presidency (Transition from Obama)\"<br>date=%{x}<br>count=%{y}<extra></extra>",
         "legendgroup": " \"Popular Opinion on Trump's Presidency (Transition from Obama)\"",
         "line": {
          "color": "#19d3f3",
          "dash": "solid"
         },
         "marker": {
          "symbol": "circle"
         },
         "mode": "lines",
         "name": " \"Popular Opinion on Trump's Presidency (Transition from Obama)\"",
         "orientation": "v",
         "showlegend": true,
         "type": "scatter",
         "x": [
          2009,
          2010,
          2011,
          2012,
          2013,
          2014,
          2015,
          2016,
          2017,
          2018,
          2019,
          2020
         ],
         "xaxis": "x",
         "y": [
          23,
          40,
          217,
          1236,
          1731,
          1656,
          2385,
          1269,
          775,
          894,
          1219,
          582
         ],
         "yaxis": "y"
        },
        {
         "hovertemplate": "refined_topic_names= \"Protest in NFL Buffalo Bills Game: Tom Brady and Anthem Dispute\"<br>date=%{x}<br>count=%{y}<extra></extra>",
         "legendgroup": " \"Protest in NFL Buffalo Bills Game: Tom Brady and Anthem Dispute\"",
         "line": {
          "color": "#FF6692",
          "dash": "solid"
         },
         "marker": {
          "symbol": "circle"
         },
         "mode": "lines",
         "name": " \"Protest in NFL Buffalo Bills Game: Tom Brady and Anthem Dispute\"",
         "orientation": "v",
         "showlegend": true,
         "type": "scatter",
         "x": [
          2009,
          2010,
          2012,
          2013,
          2014,
          2015,
          2016,
          2017,
          2018,
          2019,
          2020
         ],
         "xaxis": "x",
         "y": [
          1,
          1,
          15,
          31,
          110,
          20,
          3,
          30,
          8,
          4,
          3
         ],
         "yaxis": "y"
        },
        {
         "hovertemplate": "refined_topic_names= \"Scottish Golf Resorts and Trump Properties\"<br>date=%{x}<br>count=%{y}<extra></extra>",
         "legendgroup": " \"Scottish Golf Resorts and Trump Properties\"",
         "line": {
          "color": "#B6E880",
          "dash": "solid"
         },
         "marker": {
          "symbol": "circle"
         },
         "mode": "lines",
         "name": " \"Scottish Golf Resorts and Trump Properties\"",
         "orientation": "v",
         "showlegend": true,
         "type": "scatter",
         "x": [
          2009,
          2010,
          2011,
          2012,
          2013,
          2014,
          2015,
          2016,
          2017,
          2018,
          2019,
          2020
         ],
         "xaxis": "x",
         "y": [
          2,
          21,
          25,
          98,
          310,
          455,
          177,
          23,
          3,
          1,
          8,
          2
         ],
         "yaxis": "y"
        },
        {
         "hovertemplate": "refined_topic_names= Crippled Art Book Launch and Reading Event<br>date=%{x}<br>count=%{y}<extra></extra>",
         "legendgroup": " Crippled Art Book Launch and Reading Event",
         "line": {
          "color": "#FF97FF",
          "dash": "solid"
         },
         "marker": {
          "symbol": "circle"
         },
         "mode": "lines",
         "name": " Crippled Art Book Launch and Reading Event",
         "orientation": "v",
         "showlegend": true,
         "type": "scatter",
         "x": [
          2009,
          2010,
          2011,
          2012,
          2013,
          2014,
          2015,
          2016,
          2017,
          2018,
          2019,
          2020
         ],
         "xaxis": "x",
         "y": [
          4,
          1,
          35,
          12,
          54,
          64,
          61,
          6,
          6,
          13,
          26,
          14
         ],
         "yaxis": "y"
        },
        {
         "hovertemplate": "refined_topic_names= Parental Guidance and Wisdom<br>date=%{x}<br>count=%{y}<extra></extra>",
         "legendgroup": " Parental Guidance and Wisdom",
         "line": {
          "color": "#FECB52",
          "dash": "solid"
         },
         "marker": {
          "symbol": "circle"
         },
         "mode": "lines",
         "name": " Parental Guidance and Wisdom",
         "orientation": "v",
         "showlegend": true,
         "type": "scatter",
         "x": [
          2009,
          2012,
          2013,
          2014,
          2015,
          2016,
          2019,
          2020
         ],
         "xaxis": "x",
         "y": [
          1,
          4,
          16,
          11,
          7,
          3,
          2,
          2
         ],
         "yaxis": "y"
        },
        {
         "hovertemplate": "refined_topic_names= Passionate Leaders and Scientific Pioneers<br>date=%{x}<br>count=%{y}<extra></extra>",
         "legendgroup": " Passionate Leaders and Scientific Pioneers",
         "line": {
          "color": "#636efa",
          "dash": "solid"
         },
         "marker": {
          "symbol": "circle"
         },
         "mode": "lines",
         "name": " Passionate Leaders and Scientific Pioneers",
         "orientation": "v",
         "showlegend": true,
         "type": "scatter",
         "x": [
          2009,
          2012,
          2013,
          2014,
          2015,
          2019,
          2020
         ],
         "xaxis": "x",
         "y": [
          1,
          24,
          44,
          82,
          20,
          4,
          1
         ],
         "yaxis": "y"
        },
        {
         "hovertemplate": "refined_topic_names= WWE-Miss Universe USA Connection (Pageants and Wrestling Events)<br>date=%{x}<br>count=%{y}<extra></extra>",
         "legendgroup": " WWE-Miss Universe USA Connection (Pageants and Wrestling Events)",
         "line": {
          "color": "#EF553B",
          "dash": "solid"
         },
         "marker": {
          "symbol": "circle"
         },
         "mode": "lines",
         "name": " WWE-Miss Universe USA Connection (Pageants and Wrestling Events)",
         "orientation": "v",
         "showlegend": true,
         "type": "scatter",
         "x": [
          2009,
          2010,
          2011,
          2012,
          2013,
          2014,
          2015,
          2016,
          2017,
          2018,
          2019,
          2020
         ],
         "xaxis": "x",
         "y": [
          4,
          13,
          6,
          82,
          135,
          71,
          48,
          7,
          7,
          10,
          13,
          2
         ],
         "yaxis": "y"
        },
        {
         "hovertemplate": "refined_topic_names= \"Famous MLB Players: Jeter, A-Rod, and the New York Yankees\"<br>date=%{x}<br>count=%{y}<extra></extra>",
         "legendgroup": " \"Famous MLB Players: Jeter, A-Rod, and the New York Yankees\"",
         "line": {
          "color": "#00cc96",
          "dash": "solid"
         },
         "marker": {
          "symbol": "circle"
         },
         "mode": "lines",
         "name": " \"Famous MLB Players: Jeter, A-Rod, and the New York Yankees\"",
         "orientation": "v",
         "showlegend": true,
         "type": "scatter",
         "x": [
          2010,
          2011,
          2012,
          2013,
          2014,
          2015,
          2016,
          2017,
          2018,
          2019,
          2020
         ],
         "xaxis": "x",
         "y": [
          3,
          2,
          91,
          56,
          18,
          10,
          1,
          2,
          3,
          7,
          5
         ],
         "yaxis": "y"
        },
        {
         "hovertemplate": "refined_topic_names= \"Midas Touch Successful Entrepreneurship\"<br>date=%{x}<br>count=%{y}<extra></extra>",
         "legendgroup": " \"Midas Touch Successful Entrepreneurship\"",
         "line": {
          "color": "#ab63fa",
          "dash": "solid"
         },
         "marker": {
          "symbol": "circle"
         },
         "mode": "lines",
         "name": " \"Midas Touch Successful Entrepreneurship\"",
         "orientation": "v",
         "showlegend": true,
         "type": "scatter",
         "x": [
          2010,
          2011,
          2012,
          2013,
          2014,
          2015,
          2017,
          2018,
          2019,
          2020
         ],
         "xaxis": "x",
         "y": [
          1,
          8,
          63,
          246,
          189,
          95,
          1,
          4,
          4,
          1
         ],
         "yaxis": "y"
        },
        {
         "hovertemplate": "refined_topic_names= \"Political Media Misinformation Scandal (Hillary Clinton)\"<br>date=%{x}<br>count=%{y}<extra></extra>",
         "legendgroup": " \"Political Media Misinformation Scandal (Hillary Clinton)\"",
         "line": {
          "color": "#FFA15A",
          "dash": "solid"
         },
         "marker": {
          "symbol": "circle"
         },
         "mode": "lines",
         "name": " \"Political Media Misinformation Scandal (Hillary Clinton)\"",
         "orientation": "v",
         "showlegend": true,
         "type": "scatter",
         "x": [
          2010,
          2011,
          2012,
          2013,
          2014,
          2015,
          2016,
          2017,
          2018,
          2019,
          2020
         ],
         "xaxis": "x",
         "y": [
          1,
          8,
          81,
          230,
          154,
          533,
          764,
          263,
          441,
          753,
          283
         ],
         "yaxis": "y"
        },
        {
         "hovertemplate": "refined_topic_names= Natural Disaster Response in Puerto Rico (Including Law Enforcement)<br>date=%{x}<br>count=%{y}<extra></extra>",
         "legendgroup": " Natural Disaster Response in Puerto Rico (Including Law Enforcement)",
         "line": {
          "color": "#19d3f3",
          "dash": "solid"
         },
         "marker": {
          "symbol": "circle"
         },
         "mode": "lines",
         "name": " Natural Disaster Response in Puerto Rico (Including Law Enforcement)",
         "orientation": "v",
         "showlegend": true,
         "type": "scatter",
         "x": [
          2010,
          2011,
          2012,
          2013,
          2014,
          2015,
          2016,
          2017,
          2018,
          2019,
          2020
         ],
         "xaxis": "x",
         "y": [
          1,
          2,
          16,
          8,
          3,
          11,
          25,
          90,
          83,
          71,
          38
         ],
         "yaxis": "y"
        },
        {
         "hovertemplate": "refined_topic_names= \"Celebrity-Involved NBA Games in Cuba\"<br>date=%{x}<br>count=%{y}<extra></extra>",
         "legendgroup": " \"Celebrity-Involved NBA Games in Cuba\"",
         "line": {
          "color": "#FF6692",
          "dash": "solid"
         },
         "marker": {
          "symbol": "circle"
         },
         "mode": "lines",
         "name": " \"Celebrity-Involved NBA Games in Cuba\"",
         "orientation": "v",
         "showlegend": true,
         "type": "scatter",
         "x": [
          2011,
          2012,
          2013,
          2014,
          2015,
          2016,
          2017,
          2019,
          2020
         ],
         "xaxis": "x",
         "y": [
          1,
          13,
          100,
          7,
          1,
          1,
          1,
          1,
          1
         ],
         "yaxis": "y"
        },
        {
         "hovertemplate": "refined_topic_names= \"Donald Trump's Million Dollar Song Hit (associated with Mac Miller)\"<br>date=%{x}<br>count=%{y}<extra></extra>",
         "legendgroup": " \"Donald Trump's Million Dollar Song Hit (associated with Mac Miller)\"",
         "line": {
          "color": "#B6E880",
          "dash": "solid"
         },
         "marker": {
          "symbol": "circle"
         },
         "mode": "lines",
         "name": " \"Donald Trump's Million Dollar Song Hit (associated with Mac Miller)\"",
         "orientation": "v",
         "showlegend": true,
         "type": "scatter",
         "x": [
          2011,
          2012,
          2013,
          2014,
          2015
         ],
         "xaxis": "x",
         "y": [
          1,
          11,
          12,
          13,
          5
         ],
         "yaxis": "y"
        },
        {
         "hovertemplate": "refined_topic_names= \"Federal Monetary Policy Impact on Market and Inflation\"<br>date=%{x}<br>count=%{y}<extra></extra>",
         "legendgroup": " \"Federal Monetary Policy Impact on Market and Inflation\"",
         "line": {
          "color": "#FF97FF",
          "dash": "solid"
         },
         "marker": {
          "symbol": "circle"
         },
         "mode": "lines",
         "name": " \"Federal Monetary Policy Impact on Market and Inflation\"",
         "orientation": "v",
         "showlegend": true,
         "type": "scatter",
         "x": [
          2011,
          2012,
          2013,
          2014,
          2015,
          2016,
          2017,
          2018,
          2019,
          2020
         ],
         "xaxis": "x",
         "y": [
          8,
          49,
          38,
          26,
          15,
          3,
          26,
          22,
          103,
          22
         ],
         "yaxis": "y"
        },
        {
         "hovertemplate": "refined_topic_names= \"Global Coldest Record Weather Change (Climate Warming, Freezing)\"<br>date=%{x}<br>count=%{y}<extra></extra>",
         "legendgroup": " \"Global Coldest Record Weather Change (Climate Warming, Freezing)\"",
         "line": {
          "color": "#FECB52",
          "dash": "solid"
         },
         "marker": {
          "symbol": "circle"
         },
         "mode": "lines",
         "name": " \"Global Coldest Record Weather Change (Climate Warming, Freezing)\"",
         "orientation": "v",
         "showlegend": true,
         "type": "scatter",
         "x": [
          2011,
          2012,
          2013,
          2014,
          2015,
          2017,
          2018,
          2019
         ],
         "xaxis": "x",
         "y": [
          2,
          6,
          45,
          39,
          9,
          1,
          2,
          5
         ],
         "yaxis": "y"
        },
        {
         "hovertemplate": "refined_topic_names= \"Military Endorsements for Carolina Constitutional Amendments - Complete and Strong Support from Iowa Vets\"<br>date=%{x}<br>count=%{y}<extra></extra>",
         "legendgroup": " \"Military Endorsements for Carolina Constitutional Amendments - Complete and Strong Support from Iowa Vets\"",
         "line": {
          "color": "#636efa",
          "dash": "solid"
         },
         "marker": {
          "symbol": "circle"
         },
         "mode": "lines",
         "name": " \"Military Endorsements for Carolina Constitutional Amendments - Complete and Strong Support from Iowa Vets\"",
         "orientation": "v",
         "showlegend": true,
         "type": "scatter",
         "x": [
          2011,
          2012,
          2013,
          2014,
          2015,
          2016,
          2017,
          2018,
          2019,
          2020
         ],
         "xaxis": "x",
         "y": [
          3,
          46,
          23,
          30,
          150,
          207,
          54,
          171,
          140,
          148
         ],
         "yaxis": "y"
        },
        {
         "hovertemplate": "refined_topic_names= \"Military Scandals in Vietnam: Generals and Sexual Misconduct\"<br>date=%{x}<br>count=%{y}<extra></extra>",
         "legendgroup": " \"Military Scandals in Vietnam: Generals and Sexual Misconduct\"",
         "line": {
          "color": "#EF553B",
          "dash": "solid"
         },
         "marker": {
          "symbol": "circle"
         },
         "mode": "lines",
         "name": " \"Military Scandals in Vietnam: Generals and Sexual Misconduct\"",
         "orientation": "v",
         "showlegend": true,
         "type": "scatter",
         "x": [
          2011,
          2012,
          2013,
          2014,
          2015,
          2016,
          2017,
          2018,
          2019,
          2020
         ],
         "xaxis": "x",
         "y": [
          1,
          6,
          26,
          8,
          2,
          1,
          12,
          5,
          5,
          6
         ],
         "yaxis": "y"
        },
        {
         "hovertemplate": "refined_topic_names= \"Obama's Healthcare Policies & Tax Debate Among Republicans (including DACA & Debt)\"<br>date=%{x}<br>count=%{y}<extra></extra>",
         "legendgroup": " \"Obama's Healthcare Policies & Tax Debate Among Republicans (including DACA & Debt)\"",
         "line": {
          "color": "#00cc96",
          "dash": "solid"
         },
         "marker": {
          "symbol": "circle"
         },
         "mode": "lines",
         "name": " \"Obama's Healthcare Policies & Tax Debate Among Republicans (including DACA & Debt)\"",
         "orientation": "v",
         "showlegend": true,
         "type": "scatter",
         "x": [
          2011,
          2012,
          2013,
          2014,
          2015,
          2016,
          2017,
          2018,
          2019,
          2020
         ],
         "xaxis": "x",
         "y": [
          103,
          387,
          202,
          132,
          28,
          53,
          180,
          78,
          26,
          23
         ],
         "yaxis": "y"
        },
        {
         "hovertemplate": "refined_topic_names= \"Political Convention on Myrtle Beach (Monday), featuring Donald GOP\"<br>date=%{x}<br>count=%{y}<extra></extra>",
         "legendgroup": " \"Political Convention on Myrtle Beach (Monday), featuring Donald GOP\"",
         "line": {
          "color": "#ab63fa",
          "dash": "solid"
         },
         "marker": {
          "symbol": "circle"
         },
         "mode": "lines",
         "name": " \"Political Convention on Myrtle Beach (Monday), featuring Donald GOP\"",
         "orientation": "v",
         "showlegend": true,
         "type": "scatter",
         "x": [
          2011,
          2012,
          2013,
          2014,
          2015
         ],
         "xaxis": "x",
         "y": [
          1,
          3,
          15,
          3,
          15
         ],
         "yaxis": "y"
        },
        {
         "hovertemplate": "refined_topic_names= \"U.S.-China Trade Tariffs Impacts\"<br>date=%{x}<br>count=%{y}<extra></extra>",
         "legendgroup": " \"U.S.-China Trade Tariffs Impacts\"",
         "line": {
          "color": "#FFA15A",
          "dash": "solid"
         },
         "marker": {
          "symbol": "circle"
         },
         "mode": "lines",
         "name": " \"U.S.-China Trade Tariffs Impacts\"",
         "orientation": "v",
         "showlegend": true,
         "type": "scatter",
         "x": [
          2011,
          2012,
          2013,
          2014,
          2015,
          2016,
          2017,
          2018,
          2019,
          2020
         ],
         "xaxis": "x",
         "y": [
          89,
          342,
          121,
          57,
          97,
          68,
          81,
          198,
          266,
          60
         ],
         "yaxis": "y"
        },
        {
         "hovertemplate": "refined_topic_names= Food & Restaurant Reviews (Vanity Fair)<br>date=%{x}<br>count=%{y}<extra></extra>",
         "legendgroup": " Food & Restaurant Reviews (Vanity Fair)",
         "line": {
          "color": "#19d3f3",
          "dash": "solid"
         },
         "marker": {
          "symbol": "circle"
         },
         "mode": "lines",
         "name": " Food & Restaurant Reviews (Vanity Fair)",
         "orientation": "v",
         "showlegend": true,
         "type": "scatter",
         "x": [
          2011,
          2012,
          2013,
          2014,
          2015,
          2016,
          2017,
          2018
         ],
         "xaxis": "x",
         "y": [
          1,
          25,
          23,
          7,
          3,
          1,
          1,
          1
         ],
         "yaxis": "y"
        },
        {
         "hovertemplate": "refined_topic_names= Middle East Conflicts & Nuclear Tensions under Obama<br>date=%{x}<br>count=%{y}<extra></extra>",
         "legendgroup": " Middle East Conflicts & Nuclear Tensions under Obama",
         "line": {
          "color": "#FF6692",
          "dash": "solid"
         },
         "marker": {
          "symbol": "circle"
         },
         "mode": "lines",
         "name": " Middle East Conflicts & Nuclear Tensions under Obama",
         "orientation": "v",
         "showlegend": true,
         "type": "scatter",
         "x": [
          2011,
          2012,
          2013,
          2014,
          2015,
          2016,
          2017,
          2018,
          2019,
          2020
         ],
         "xaxis": "x",
         "y": [
          54,
          136,
          144,
          91,
          111,
          77,
          28,
          49,
          143,
          38
         ],
         "yaxis": "y"
        },
        {
         "hovertemplate": "refined_topic_names= Republican Presidential Candidates' Interviews and Discussions<br>date=%{x}<br>count=%{y}<extra></extra>",
         "legendgroup": " Republican Presidential Candidates' Interviews and Discussions",
         "line": {
          "color": "#B6E880",
          "dash": "solid"
         },
         "marker": {
          "symbol": "circle"
         },
         "mode": "lines",
         "name": " Republican Presidential Candidates' Interviews and Discussions",
         "orientation": "v",
         "showlegend": true,
         "type": "scatter",
         "x": [
          2011,
          2012,
          2014,
          2015,
          2016
         ],
         "xaxis": "x",
         "y": [
          2,
          86,
          1,
          5,
          1
         ],
         "yaxis": "y"
        },
        {
         "hovertemplate": "refined_topic_names= Social Media Debates & OWS Protests<br>date=%{x}<br>count=%{y}<extra></extra>",
         "legendgroup": " Social Media Debates & OWS Protests",
         "line": {
          "color": "#FF97FF",
          "dash": "solid"
         },
         "marker": {
          "symbol": "circle"
         },
         "mode": "lines",
         "name": " Social Media Debates & OWS Protests",
         "orientation": "v",
         "showlegend": true,
         "type": "scatter",
         "x": [
          2011,
          2012,
          2013,
          2015,
          2016,
          2017,
          2018,
          2019,
          2020
         ],
         "xaxis": "x",
         "y": [
          6,
          16,
          1,
          3,
          11,
          1,
          5,
          11,
          5
         ],
         "yaxis": "y"
        },
        {
         "hovertemplate": "refined_topic_names= Urban Restructuring and Business Philanthropy<br>date=%{x}<br>count=%{y}<extra></extra>",
         "legendgroup": " Urban Restructuring and Business Philanthropy",
         "line": {
          "color": "#FECB52",
          "dash": "solid"
         },
         "marker": {
          "symbol": "circle"
         },
         "mode": "lines",
         "name": " Urban Restructuring and Business Philanthropy",
         "orientation": "v",
         "showlegend": true,
         "type": "scatter",
         "x": [
          2011,
          2012,
          2013,
          2014,
          2015,
          2016
         ],
         "xaxis": "x",
         "y": [
          2,
          6,
          57,
          15,
          21,
          21
         ],
         "yaxis": "y"
        },
        {
         "hovertemplate": "refined_topic_names= \"Border Security and Immigration Policies\"<br>date=%{x}<br>count=%{y}<extra></extra>",
         "legendgroup": " \"Border Security and Immigration Policies\"",
         "line": {
          "color": "#636efa",
          "dash": "solid"
         },
         "marker": {
          "symbol": "circle"
         },
         "mode": "lines",
         "name": " \"Border Security and Immigration Policies\"",
         "orientation": "v",
         "showlegend": true,
         "type": "scatter",
         "x": [
          2012,
          2013,
          2014,
          2015,
          2016,
          2017,
          2018,
          2019,
          2020
         ],
         "xaxis": "x",
         "y": [
          14,
          34,
          62,
          144,
          61,
          70,
          253,
          293,
          36
         ],
         "yaxis": "y"
        },
        {
         "hovertemplate": "refined_topic_names= \"Colorado & Phoenix Sports Events Tomorrow\"<br>date=%{x}<br>count=%{y}<extra></extra>",
         "legendgroup": " \"Colorado & Phoenix Sports Events Tomorrow\"",
         "line": {
          "color": "#EF553B",
          "dash": "solid"
         },
         "marker": {
          "symbol": "circle"
         },
         "mode": "lines",
         "name": " \"Colorado & Phoenix Sports Events Tomorrow\"",
         "orientation": "v",
         "showlegend": true,
         "type": "scatter",
         "x": [
          2012,
          2013,
          2014,
          2015,
          2016,
          2017,
          2018,
          2019,
          2020
         ],
         "xaxis": "x",
         "y": [
          1,
          1,
          1,
          9,
          69,
          4,
          7,
          5,
          1
         ],
         "yaxis": "y"
        },
        {
         "hovertemplate": "refined_topic_names= \"Competitive Financial Gaming Momentum\"<br>date=%{x}<br>count=%{y}<extra></extra>",
         "legendgroup": " \"Competitive Financial Gaming Momentum\"",
         "line": {
          "color": "#00cc96",
          "dash": "solid"
         },
         "marker": {
          "symbol": "circle"
         },
         "mode": "lines",
         "name": " \"Competitive Financial Gaming Momentum\"",
         "orientation": "v",
         "showlegend": true,
         "type": "scatter",
         "x": [
          2012,
          2013,
          2014,
          2015,
          2017
         ],
         "xaxis": "x",
         "y": [
          3,
          10,
          7,
          5,
          1
         ],
         "yaxis": "y"
        },
        {
         "hovertemplate": "refined_topic_names= \"New York Political Scandals\"<br>date=%{x}<br>count=%{y}<extra></extra>",
         "legendgroup": " \"New York Political Scandals\"",
         "line": {
          "color": "#ab63fa",
          "dash": "solid"
         },
         "marker": {
          "symbol": "circle"
         },
         "mode": "lines",
         "name": " \"New York Political Scandals\"",
         "orientation": "v",
         "showlegend": true,
         "type": "scatter",
         "x": [
          2012,
          2013,
          2014,
          2015,
          2016,
          2017,
          2018,
          2019,
          2020
         ],
         "xaxis": "x",
         "y": [
          29,
          101,
          12,
          24,
          22,
          10,
          24,
          34,
          39
         ],
         "yaxis": "y"
        },
        {
         "hovertemplate": "refined_topic_names= \"Political Activism among College Students in Las Vegas\"<br>date=%{x}<br>count=%{y}<extra></extra>",
         "legendgroup": " \"Political Activism among College Students in Las Vegas\"",
         "line": {
          "color": "#FFA15A",
          "dash": "solid"
         },
         "marker": {
          "symbol": "circle"
         },
         "mode": "lines",
         "name": " \"Political Activism among College Students in Las Vegas\"",
         "orientation": "v",
         "showlegend": true,
         "type": "scatter",
         "x": [
          2012,
          2013,
          2014,
          2016
         ],
         "xaxis": "x",
         "y": [
          6,
          3,
          2,
          14
         ],
         "yaxis": "y"
        },
        {
         "hovertemplate": "refined_topic_names= \"Reality TV Personalities & Hair Discussions\"<br>date=%{x}<br>count=%{y}<extra></extra>",
         "legendgroup": " \"Reality TV Personalities & Hair Discussions\"",
         "line": {
          "color": "#19d3f3",
          "dash": "solid"
         },
         "marker": {
          "symbol": "circle"
         },
         "mode": "lines",
         "name": " \"Reality TV Personalities & Hair Discussions\"",
         "orientation": "v",
         "showlegend": true,
         "type": "scatter",
         "x": [
          2012
         ],
         "xaxis": "x",
         "y": [
          12
         ],
         "yaxis": "y"
        },
        {
         "hovertemplate": "refined_topic_names= \"Sugary Beverages Debate: Sugar Consumption and Weight Issues\"<br>date=%{x}<br>count=%{y}<extra></extra>",
         "legendgroup": " \"Sugary Beverages Debate: Sugar Consumption and Weight Issues\"",
         "line": {
          "color": "#FF6692",
          "dash": "solid"
         },
         "marker": {
          "symbol": "circle"
         },
         "mode": "lines",
         "name": " \"Sugary Beverages Debate: Sugar Consumption and Weight Issues\"",
         "orientation": "v",
         "showlegend": true,
         "type": "scatter",
         "x": [
          2012,
          2013,
          2014,
          2015,
          2016
         ],
         "xaxis": "x",
         "y": [
          30,
          9,
          2,
          1,
          1
         ],
         "yaxis": "y"
        },
        {
         "hovertemplate": "refined_topic_names= \"Terrorist Attack in Paris (Security and Global Relations)\"<br>date=%{x}<br>count=%{y}<extra></extra>",
         "legendgroup": " \"Terrorist Attack in Paris (Security and Global Relations)\"",
         "line": {
          "color": "#B6E880",
          "dash": "solid"
         },
         "marker": {
          "symbol": "circle"
         },
         "mode": "lines",
         "name": " \"Terrorist Attack in Paris (Security and Global Relations)\"",
         "orientation": "v",
         "showlegend": true,
         "type": "scatter",
         "x": [
          2012,
          2015,
          2016,
          2017,
          2018,
          2019
         ],
         "xaxis": "x",
         "y": [
          2,
          4,
          4,
          7,
          8,
          3
         ],
         "yaxis": "y"
        },
        {
         "hovertemplate": "refined_topic_names= \"Venezuelan Political Conflict: Chávez, Maduro, Guaidó\"<br>date=%{x}<br>count=%{y}<extra></extra>",
         "legendgroup": " \"Venezuelan Political Conflict: Chávez, Maduro, Guaidó\"",
         "line": {
          "color": "#FF97FF",
          "dash": "solid"
         },
         "marker": {
          "symbol": "circle"
         },
         "mode": "lines",
         "name": " \"Venezuelan Political Conflict: Chávez, Maduro, Guaidó\"",
         "orientation": "v",
         "showlegend": true,
         "type": "scatter",
         "x": [
          2012,
          2013,
          2016,
          2017,
          2019
         ],
         "xaxis": "x",
         "y": [
          3,
          2,
          4,
          4,
          16
         ],
         "yaxis": "y"
        },
        {
         "hovertemplate": "refined_topic_names= Global Health Crises (Viruses in Africa and US)<br>date=%{x}<br>count=%{y}<extra></extra>",
         "legendgroup": " Global Health Crises (Viruses in Africa and US)",
         "line": {
          "color": "#FECB52",
          "dash": "solid"
         },
         "marker": {
          "symbol": "circle"
         },
         "mode": "lines",
         "name": " Global Health Crises (Viruses in Africa and US)",
         "orientation": "v",
         "showlegend": true,
         "type": "scatter",
         "x": [
          2012,
          2014,
          2015,
          2017,
          2018,
          2019,
          2020
         ],
         "xaxis": "x",
         "y": [
          1,
          101,
          3,
          7,
          15,
          17,
          125
         ],
         "yaxis": "y"
        },
        {
         "hovertemplate": "refined_topic_names= Lance Armstrong Scandals and Interviews<br>date=%{x}<br>count=%{y}<extra></extra>",
         "legendgroup": " Lance Armstrong Scandals and Interviews",
         "line": {
          "color": "#636efa",
          "dash": "solid"
         },
         "marker": {
          "symbol": "circle"
         },
         "mode": "lines",
         "name": " Lance Armstrong Scandals and Interviews",
         "orientation": "v",
         "showlegend": true,
         "type": "scatter",
         "x": [
          2012,
          2013,
          2014
         ],
         "xaxis": "x",
         "y": [
          5,
          15,
          1
         ],
         "yaxis": "y"
        },
        {
         "hovertemplate": "refined_topic_names= North Korea-South Korea Nuclear Tensions<br>date=%{x}<br>count=%{y}<extra></extra>",
         "legendgroup": " North Korea-South Korea Nuclear Tensions",
         "line": {
          "color": "#EF553B",
          "dash": "solid"
         },
         "marker": {
          "symbol": "circle"
         },
         "mode": "lines",
         "name": " North Korea-South Korea Nuclear Tensions",
         "orientation": "v",
         "showlegend": true,
         "type": "scatter",
         "x": [
          2012,
          2013,
          2014,
          2016,
          2017,
          2018,
          2019,
          2020
         ],
         "xaxis": "x",
         "y": [
          1,
          17,
          3,
          1,
          68,
          103,
          53,
          4
         ],
         "yaxis": "y"
        },
        {
         "hovertemplate": "refined_topic_names= Vaccine Awareness and Autism Concerns in Children<br>date=%{x}<br>count=%{y}<extra></extra>",
         "legendgroup": " Vaccine Awareness and Autism Concerns in Children",
         "line": {
          "color": "#00cc96",
          "dash": "solid"
         },
         "marker": {
          "symbol": "circle"
         },
         "mode": "lines",
         "name": " Vaccine Awareness and Autism Concerns in Children",
         "orientation": "v",
         "showlegend": true,
         "type": "scatter",
         "x": [
          2012,
          2013,
          2014,
          2015,
          2019
         ],
         "xaxis": "x",
         "y": [
          10,
          10,
          25,
          2,
          2
         ],
         "yaxis": "y"
        },
        {
         "hovertemplate": "refined_topic_names= Wind Energy Conflict in Scotland<br>date=%{x}<br>count=%{y}<extra></extra>",
         "legendgroup": " Wind Energy Conflict in Scotland",
         "line": {
          "color": "#ab63fa",
          "dash": "solid"
         },
         "marker": {
          "symbol": "circle"
         },
         "mode": "lines",
         "name": " Wind Energy Conflict in Scotland",
         "orientation": "v",
         "showlegend": true,
         "type": "scatter",
         "x": [
          2012,
          2013,
          2014,
          2015
         ],
         "xaxis": "x",
         "y": [
          57,
          116,
          36,
          4
         ],
         "yaxis": "y"
        },
        {
         "hovertemplate": "refined_topic_names= \"Large Apple Devices Comparison (Apple vs Samsung)\"<br>date=%{x}<br>count=%{y}<extra></extra>",
         "legendgroup": " \"Large Apple Devices Comparison (Apple vs Samsung)\"",
         "line": {
          "color": "#FFA15A",
          "dash": "solid"
         },
         "marker": {
          "symbol": "circle"
         },
         "mode": "lines",
         "name": " \"Large Apple Devices Comparison (Apple vs Samsung)\"",
         "orientation": "v",
         "showlegend": true,
         "type": "scatter",
         "x": [
          2013,
          2014
         ],
         "xaxis": "x",
         "y": [
          16,
          8
         ],
         "yaxis": "y"
        },
        {
         "hovertemplate": "refined_topic_names= \"Washington D.C. Amazon Retail Tax Lobbying\"<br>date=%{x}<br>count=%{y}<extra></extra>",
         "legendgroup": " \"Washington D.C. Amazon Retail Tax Lobbying\"",
         "line": {
          "color": "#19d3f3",
          "dash": "solid"
         },
         "marker": {
          "symbol": "circle"
         },
         "mode": "lines",
         "name": " \"Washington D.C. Amazon Retail Tax Lobbying\"",
         "orientation": "v",
         "showlegend": true,
         "type": "scatter",
         "x": [
          2013,
          2015,
          2017,
          2018
         ],
         "xaxis": "x",
         "y": [
          2,
          4,
          6,
          9
         ],
         "yaxis": "y"
        },
        {
         "hovertemplate": "refined_topic_names= \"Pinehurst Golf Experience: Matt Ginella, Steven Well Review\"<br>date=%{x}<br>count=%{y}<extra></extra>",
         "legendgroup": " \"Pinehurst Golf Experience: Matt Ginella, Steven Well Review\"",
         "line": {
          "color": "#FF6692",
          "dash": "solid"
         },
         "marker": {
          "symbol": "circle"
         },
         "mode": "lines",
         "name": " \"Pinehurst Golf Experience: Matt Ginella, Steven Well Review\"",
         "orientation": "v",
         "showlegend": true,
         "type": "scatter",
         "x": [
          2014
         ],
         "xaxis": "x",
         "y": [
          19
         ],
         "yaxis": "y"
        },
        {
         "hovertemplate": "refined_topic_names= Dissatisfied Cell Service Consumers (T-Mobile vs Verizon Wireless)<br>date=%{x}<br>count=%{y}<extra></extra>",
         "legendgroup": " Dissatisfied Cell Service Consumers (T-Mobile vs Verizon Wireless)",
         "line": {
          "color": "#B6E880",
          "dash": "solid"
         },
         "marker": {
          "symbol": "circle"
         },
         "mode": "lines",
         "name": " Dissatisfied Cell Service Consumers (T-Mobile vs Verizon Wireless)",
         "orientation": "v",
         "showlegend": true,
         "type": "scatter",
         "x": [
          2015
         ],
         "xaxis": "x",
         "y": [
          19
         ],
         "yaxis": "y"
        },
        {
         "hovertemplate": "refined_topic_names= European Trade & Economic Cooperation (NATO Countries)<br>date=%{x}<br>count=%{y}<extra></extra>",
         "legendgroup": " European Trade & Economic Cooperation (NATO Countries)",
         "line": {
          "color": "#FF97FF",
          "dash": "solid"
         },
         "marker": {
          "symbol": "circle"
         },
         "mode": "lines",
         "name": " European Trade & Economic Cooperation (NATO Countries)",
         "orientation": "v",
         "showlegend": true,
         "type": "scatter",
         "x": [
          2016,
          2017,
          2018,
          2019
         ],
         "xaxis": "x",
         "y": [
          8,
          5,
          20,
          10
         ],
         "yaxis": "y"
        },
        {
         "hovertemplate": "refined_topic_names= Political News Analysis (Politics, Media, Analysis)<br>date=%{x}<br>count=%{y}<extra></extra>",
         "legendgroup": " Political News Analysis (Politics, Media, Analysis)",
         "line": {
          "color": "#FECB52",
          "dash": "solid"
         },
         "marker": {
          "symbol": "circle"
         },
         "mode": "lines",
         "name": " Political News Analysis (Politics, Media, Analysis)",
         "orientation": "v",
         "showlegend": true,
         "type": "scatter",
         "x": [
          2019,
          2020
         ],
         "xaxis": "x",
         "y": [
          1,
          12
         ],
         "yaxis": "y"
        }
       ],
       "layout": {
        "height": 600,
        "legend": {
         "title": {
          "text": "Topic"
         },
         "tracegroupgap": 0
        },
        "margin": {
         "t": 60
        },
        "showlegend": true,
        "template": {
         "data": {
          "bar": [
           {
            "error_x": {
             "color": "#2a3f5f"
            },
            "error_y": {
             "color": "#2a3f5f"
            },
            "marker": {
             "line": {
              "color": "#E5ECF6",
              "width": 0.5
             },
             "pattern": {
              "fillmode": "overlay",
              "size": 10,
              "solidity": 0.2
             }
            },
            "type": "bar"
           }
          ],
          "barpolar": [
           {
            "marker": {
             "line": {
              "color": "#E5ECF6",
              "width": 0.5
             },
             "pattern": {
              "fillmode": "overlay",
              "size": 10,
              "solidity": 0.2
             }
            },
            "type": "barpolar"
           }
          ],
          "carpet": [
           {
            "aaxis": {
             "endlinecolor": "#2a3f5f",
             "gridcolor": "white",
             "linecolor": "white",
             "minorgridcolor": "white",
             "startlinecolor": "#2a3f5f"
            },
            "baxis": {
             "endlinecolor": "#2a3f5f",
             "gridcolor": "white",
             "linecolor": "white",
             "minorgridcolor": "white",
             "startlinecolor": "#2a3f5f"
            },
            "type": "carpet"
           }
          ],
          "choropleth": [
           {
            "colorbar": {
             "outlinewidth": 0,
             "ticks": ""
            },
            "type": "choropleth"
           }
          ],
          "contour": [
           {
            "colorbar": {
             "outlinewidth": 0,
             "ticks": ""
            },
            "colorscale": [
             [
              0,
              "#0d0887"
             ],
             [
              0.1111111111111111,
              "#46039f"
             ],
             [
              0.2222222222222222,
              "#7201a8"
             ],
             [
              0.3333333333333333,
              "#9c179e"
             ],
             [
              0.4444444444444444,
              "#bd3786"
             ],
             [
              0.5555555555555556,
              "#d8576b"
             ],
             [
              0.6666666666666666,
              "#ed7953"
             ],
             [
              0.7777777777777778,
              "#fb9f3a"
             ],
             [
              0.8888888888888888,
              "#fdca26"
             ],
             [
              1,
              "#f0f921"
             ]
            ],
            "type": "contour"
           }
          ],
          "contourcarpet": [
           {
            "colorbar": {
             "outlinewidth": 0,
             "ticks": ""
            },
            "type": "contourcarpet"
           }
          ],
          "heatmap": [
           {
            "colorbar": {
             "outlinewidth": 0,
             "ticks": ""
            },
            "colorscale": [
             [
              0,
              "#0d0887"
             ],
             [
              0.1111111111111111,
              "#46039f"
             ],
             [
              0.2222222222222222,
              "#7201a8"
             ],
             [
              0.3333333333333333,
              "#9c179e"
             ],
             [
              0.4444444444444444,
              "#bd3786"
             ],
             [
              0.5555555555555556,
              "#d8576b"
             ],
             [
              0.6666666666666666,
              "#ed7953"
             ],
             [
              0.7777777777777778,
              "#fb9f3a"
             ],
             [
              0.8888888888888888,
              "#fdca26"
             ],
             [
              1,
              "#f0f921"
             ]
            ],
            "type": "heatmap"
           }
          ],
          "heatmapgl": [
           {
            "colorbar": {
             "outlinewidth": 0,
             "ticks": ""
            },
            "colorscale": [
             [
              0,
              "#0d0887"
             ],
             [
              0.1111111111111111,
              "#46039f"
             ],
             [
              0.2222222222222222,
              "#7201a8"
             ],
             [
              0.3333333333333333,
              "#9c179e"
             ],
             [
              0.4444444444444444,
              "#bd3786"
             ],
             [
              0.5555555555555556,
              "#d8576b"
             ],
             [
              0.6666666666666666,
              "#ed7953"
             ],
             [
              0.7777777777777778,
              "#fb9f3a"
             ],
             [
              0.8888888888888888,
              "#fdca26"
             ],
             [
              1,
              "#f0f921"
             ]
            ],
            "type": "heatmapgl"
           }
          ],
          "histogram": [
           {
            "marker": {
             "pattern": {
              "fillmode": "overlay",
              "size": 10,
              "solidity": 0.2
             }
            },
            "type": "histogram"
           }
          ],
          "histogram2d": [
           {
            "colorbar": {
             "outlinewidth": 0,
             "ticks": ""
            },
            "colorscale": [
             [
              0,
              "#0d0887"
             ],
             [
              0.1111111111111111,
              "#46039f"
             ],
             [
              0.2222222222222222,
              "#7201a8"
             ],
             [
              0.3333333333333333,
              "#9c179e"
             ],
             [
              0.4444444444444444,
              "#bd3786"
             ],
             [
              0.5555555555555556,
              "#d8576b"
             ],
             [
              0.6666666666666666,
              "#ed7953"
             ],
             [
              0.7777777777777778,
              "#fb9f3a"
             ],
             [
              0.8888888888888888,
              "#fdca26"
             ],
             [
              1,
              "#f0f921"
             ]
            ],
            "type": "histogram2d"
           }
          ],
          "histogram2dcontour": [
           {
            "colorbar": {
             "outlinewidth": 0,
             "ticks": ""
            },
            "colorscale": [
             [
              0,
              "#0d0887"
             ],
             [
              0.1111111111111111,
              "#46039f"
             ],
             [
              0.2222222222222222,
              "#7201a8"
             ],
             [
              0.3333333333333333,
              "#9c179e"
             ],
             [
              0.4444444444444444,
              "#bd3786"
             ],
             [
              0.5555555555555556,
              "#d8576b"
             ],
             [
              0.6666666666666666,
              "#ed7953"
             ],
             [
              0.7777777777777778,
              "#fb9f3a"
             ],
             [
              0.8888888888888888,
              "#fdca26"
             ],
             [
              1,
              "#f0f921"
             ]
            ],
            "type": "histogram2dcontour"
           }
          ],
          "mesh3d": [
           {
            "colorbar": {
             "outlinewidth": 0,
             "ticks": ""
            },
            "type": "mesh3d"
           }
          ],
          "parcoords": [
           {
            "line": {
             "colorbar": {
              "outlinewidth": 0,
              "ticks": ""
             }
            },
            "type": "parcoords"
           }
          ],
          "pie": [
           {
            "automargin": true,
            "type": "pie"
           }
          ],
          "scatter": [
           {
            "fillpattern": {
             "fillmode": "overlay",
             "size": 10,
             "solidity": 0.2
            },
            "type": "scatter"
           }
          ],
          "scatter3d": [
           {
            "line": {
             "colorbar": {
              "outlinewidth": 0,
              "ticks": ""
             }
            },
            "marker": {
             "colorbar": {
              "outlinewidth": 0,
              "ticks": ""
             }
            },
            "type": "scatter3d"
           }
          ],
          "scattercarpet": [
           {
            "marker": {
             "colorbar": {
              "outlinewidth": 0,
              "ticks": ""
             }
            },
            "type": "scattercarpet"
           }
          ],
          "scattergeo": [
           {
            "marker": {
             "colorbar": {
              "outlinewidth": 0,
              "ticks": ""
             }
            },
            "type": "scattergeo"
           }
          ],
          "scattergl": [
           {
            "marker": {
             "colorbar": {
              "outlinewidth": 0,
              "ticks": ""
             }
            },
            "type": "scattergl"
           }
          ],
          "scattermapbox": [
           {
            "marker": {
             "colorbar": {
              "outlinewidth": 0,
              "ticks": ""
             }
            },
            "type": "scattermapbox"
           }
          ],
          "scatterpolar": [
           {
            "marker": {
             "colorbar": {
              "outlinewidth": 0,
              "ticks": ""
             }
            },
            "type": "scatterpolar"
           }
          ],
          "scatterpolargl": [
           {
            "marker": {
             "colorbar": {
              "outlinewidth": 0,
              "ticks": ""
             }
            },
            "type": "scatterpolargl"
           }
          ],
          "scatterternary": [
           {
            "marker": {
             "colorbar": {
              "outlinewidth": 0,
              "ticks": ""
             }
            },
            "type": "scatterternary"
           }
          ],
          "surface": [
           {
            "colorbar": {
             "outlinewidth": 0,
             "ticks": ""
            },
            "colorscale": [
             [
              0,
              "#0d0887"
             ],
             [
              0.1111111111111111,
              "#46039f"
             ],
             [
              0.2222222222222222,
              "#7201a8"
             ],
             [
              0.3333333333333333,
              "#9c179e"
             ],
             [
              0.4444444444444444,
              "#bd3786"
             ],
             [
              0.5555555555555556,
              "#d8576b"
             ],
             [
              0.6666666666666666,
              "#ed7953"
             ],
             [
              0.7777777777777778,
              "#fb9f3a"
             ],
             [
              0.8888888888888888,
              "#fdca26"
             ],
             [
              1,
              "#f0f921"
             ]
            ],
            "type": "surface"
           }
          ],
          "table": [
           {
            "cells": {
             "fill": {
              "color": "#EBF0F8"
             },
             "line": {
              "color": "white"
             }
            },
            "header": {
             "fill": {
              "color": "#C8D4E3"
             },
             "line": {
              "color": "white"
             }
            },
            "type": "table"
           }
          ]
         },
         "layout": {
          "annotationdefaults": {
           "arrowcolor": "#2a3f5f",
           "arrowhead": 0,
           "arrowwidth": 1
          },
          "autotypenumbers": "strict",
          "coloraxis": {
           "colorbar": {
            "outlinewidth": 0,
            "ticks": ""
           }
          },
          "colorscale": {
           "diverging": [
            [
             0,
             "#8e0152"
            ],
            [
             0.1,
             "#c51b7d"
            ],
            [
             0.2,
             "#de77ae"
            ],
            [
             0.3,
             "#f1b6da"
            ],
            [
             0.4,
             "#fde0ef"
            ],
            [
             0.5,
             "#f7f7f7"
            ],
            [
             0.6,
             "#e6f5d0"
            ],
            [
             0.7,
             "#b8e186"
            ],
            [
             0.8,
             "#7fbc41"
            ],
            [
             0.9,
             "#4d9221"
            ],
            [
             1,
             "#276419"
            ]
           ],
           "sequential": [
            [
             0,
             "#0d0887"
            ],
            [
             0.1111111111111111,
             "#46039f"
            ],
            [
             0.2222222222222222,
             "#7201a8"
            ],
            [
             0.3333333333333333,
             "#9c179e"
            ],
            [
             0.4444444444444444,
             "#bd3786"
            ],
            [
             0.5555555555555556,
             "#d8576b"
            ],
            [
             0.6666666666666666,
             "#ed7953"
            ],
            [
             0.7777777777777778,
             "#fb9f3a"
            ],
            [
             0.8888888888888888,
             "#fdca26"
            ],
            [
             1,
             "#f0f921"
            ]
           ],
           "sequentialminus": [
            [
             0,
             "#0d0887"
            ],
            [
             0.1111111111111111,
             "#46039f"
            ],
            [
             0.2222222222222222,
             "#7201a8"
            ],
            [
             0.3333333333333333,
             "#9c179e"
            ],
            [
             0.4444444444444444,
             "#bd3786"
            ],
            [
             0.5555555555555556,
             "#d8576b"
            ],
            [
             0.6666666666666666,
             "#ed7953"
            ],
            [
             0.7777777777777778,
             "#fb9f3a"
            ],
            [
             0.8888888888888888,
             "#fdca26"
            ],
            [
             1,
             "#f0f921"
            ]
           ]
          },
          "colorway": [
           "#636efa",
           "#EF553B",
           "#00cc96",
           "#ab63fa",
           "#FFA15A",
           "#19d3f3",
           "#FF6692",
           "#B6E880",
           "#FF97FF",
           "#FECB52"
          ],
          "font": {
           "color": "#2a3f5f"
          },
          "geo": {
           "bgcolor": "white",
           "lakecolor": "white",
           "landcolor": "#E5ECF6",
           "showlakes": true,
           "showland": true,
           "subunitcolor": "white"
          },
          "hoverlabel": {
           "align": "left"
          },
          "hovermode": "closest",
          "mapbox": {
           "style": "light"
          },
          "paper_bgcolor": "white",
          "plot_bgcolor": "#E5ECF6",
          "polar": {
           "angularaxis": {
            "gridcolor": "white",
            "linecolor": "white",
            "ticks": ""
           },
           "bgcolor": "#E5ECF6",
           "radialaxis": {
            "gridcolor": "white",
            "linecolor": "white",
            "ticks": ""
           }
          },
          "scene": {
           "xaxis": {
            "backgroundcolor": "#E5ECF6",
            "gridcolor": "white",
            "gridwidth": 2,
            "linecolor": "white",
            "showbackground": true,
            "ticks": "",
            "zerolinecolor": "white"
           },
           "yaxis": {
            "backgroundcolor": "#E5ECF6",
            "gridcolor": "white",
            "gridwidth": 2,
            "linecolor": "white",
            "showbackground": true,
            "ticks": "",
            "zerolinecolor": "white"
           },
           "zaxis": {
            "backgroundcolor": "#E5ECF6",
            "gridcolor": "white",
            "gridwidth": 2,
            "linecolor": "white",
            "showbackground": true,
            "ticks": "",
            "zerolinecolor": "white"
           }
          },
          "shapedefaults": {
           "line": {
            "color": "#2a3f5f"
           }
          },
          "ternary": {
           "aaxis": {
            "gridcolor": "white",
            "linecolor": "white",
            "ticks": ""
           },
           "baxis": {
            "gridcolor": "white",
            "linecolor": "white",
            "ticks": ""
           },
           "bgcolor": "#E5ECF6",
           "caxis": {
            "gridcolor": "white",
            "linecolor": "white",
            "ticks": ""
           }
          },
          "title": {
           "x": 0.05
          },
          "xaxis": {
           "automargin": true,
           "gridcolor": "white",
           "linecolor": "white",
           "ticks": "",
           "title": {
            "standoff": 15
           },
           "zerolinecolor": "white",
           "zerolinewidth": 2
          },
          "yaxis": {
           "automargin": true,
           "gridcolor": "white",
           "linecolor": "white",
           "ticks": "",
           "title": {
            "standoff": 15
           },
           "zerolinecolor": "white",
           "zerolinewidth": 2
          }
         }
        },
        "title": {
         "text": "Topics Over Time"
        },
        "width": 1400,
        "xaxis": {
         "anchor": "y",
         "domain": [
          0,
          1
         ],
         "title": {
          "text": "Date"
         }
        },
        "yaxis": {
         "anchor": "x",
         "domain": [
          0,
          1
         ],
         "title": {
          "text": "Number of Tweets"
         }
        }
       }
      }
     },
     "metadata": {},
     "output_type": "display_data"
    }
   ],
   "source": [
    "# plot using plotly \n",
    "\n",
    "import plotly.express as px \n",
    "\n",
    "\n",
    "fig = px.line(topic_df_grouped, x='date', y='count', color='refined_topic_names')\n",
    "\n",
    "fig.update_layout(\n",
    "    title='Topics Over Time',\n",
    "    xaxis_title='Date',\n",
    "    yaxis_title='Number of Tweets',\n",
    "    legend_title='Topic',\n",
    "    width=1400,\n",
    "    height=600, \n",
    "    showlegend=True, \n",
    ")\n",
    "\n",
    "fig.show()"
   ]
  },
  {
   "cell_type": "code",
   "execution_count": null,
   "metadata": {},
   "outputs": [],
   "source": []
  }
 ],
 "metadata": {
  "kernelspec": {
   "display_name": "bertopic",
   "language": "python",
   "name": "python3"
  },
  "language_info": {
   "codemirror_mode": {
    "name": "ipython",
    "version": 3
   },
   "file_extension": ".py",
   "mimetype": "text/x-python",
   "name": "python",
   "nbconvert_exporter": "python",
   "pygments_lexer": "ipython3",
   "version": "3.11.11"
  }
 },
 "nbformat": 4,
 "nbformat_minor": 2
}
