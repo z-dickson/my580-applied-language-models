{
 "cells": [
  {
   "cell_type": "markdown",
   "metadata": {},
   "source": [
    "### This notebook demonstrates how to fine-tune the BERT model for the task of text classification. We will use the `transformers` library by Hugging Face. We will fine-tune the model using the [BBC News](https://www.kaggle.com/datasets/alfathterry/bbc-full-text-document-classification) dataset from [Kaggle](https://www.kaggle.com/datasets/alfathterry/bbc-full-text-document-classification). \n",
    "\n",
    "The dataset consists of 2,125 documents from the BBC news website corresponding to stories in five topical areas from 2004-2005. The categories are: \n",
    "- Business\n",
    "- Entertainment\n",
    "- Politics\n",
    "- Sport\n",
    "- Tech\n",
    "\n",
    "The necessary libraries for the tutorial are: \n",
    "\n",
    "- [`pandas`](https://pandas.pydata.org/docs/index.html) to work with the dataset\n",
    "- [`transformers`](https://huggingface.co/docs/transformers/en/index) for the BERT model\n",
    "\n",
    "\n",
    "They can be installed using the following code: \n",
    "\n",
    "```{python}\n",
    "pip install pandas matplotlib\n",
    "pip install 'transformers[torch]'\n",
    "```\n",
    "\n",
    "\n",
    "### Note: There are several ways to use python. The easiest way is using your local machine: \n",
    "\n",
    "\n",
    "- To use Jupyter notebooks on your local machine using [Jupyter Lab](https://jupyter.org/install) (https://jupyter.org/install), you can install the necessary libraries using the command prompt or terminal.\n",
    "\n",
    "```{python}\n",
    "pip install jupyterlab\n",
    "```\n",
    "\n",
    "If not, the easiest way is probably using [Google Colab](https://colab.research.google.com/) or [Kaggle nootbooks](https://www.kaggle.com/code).\n",
    "\n"
   ]
  },
  {
   "cell_type": "code",
   "execution_count": 1,
   "metadata": {},
   "outputs": [
    {
     "name": "stdout",
     "output_type": "stream",
     "text": [
      "Requirement already satisfied: pandas in /home/zach/anaconda3/envs/bbc_example/lib/python3.11/site-packages (2.2.3)\n",
      "Requirement already satisfied: matplotlib in /home/zach/anaconda3/envs/bbc_example/lib/python3.11/site-packages (3.10.0)\n",
      "Requirement already satisfied: datasets in /home/zach/anaconda3/envs/bbc_example/lib/python3.11/site-packages (3.2.0)\n",
      "Requirement already satisfied: evaluate in /home/zach/anaconda3/envs/bbc_example/lib/python3.11/site-packages (0.4.3)\n",
      "Requirement already satisfied: accelerate in /home/zach/anaconda3/envs/bbc_example/lib/python3.11/site-packages (1.3.0)\n",
      "Requirement already satisfied: scikit-learn in /home/zach/anaconda3/envs/bbc_example/lib/python3.11/site-packages (1.6.1)\n",
      "Requirement already satisfied: ipywidgets in /home/zach/anaconda3/envs/bbc_example/lib/python3.11/site-packages (8.1.5)\n",
      "Requirement already satisfied: numpy in /home/zach/anaconda3/envs/bbc_example/lib/python3.11/site-packages (2.2.2)\n",
      "Requirement already satisfied: python-dateutil>=2.8.2 in /home/zach/anaconda3/envs/bbc_example/lib/python3.11/site-packages (from pandas) (2.9.0.post0)\n",
      "Requirement already satisfied: pytz>=2020.1 in /home/zach/anaconda3/envs/bbc_example/lib/python3.11/site-packages (from pandas) (2024.2)\n",
      "Requirement already satisfied: tzdata>=2022.7 in /home/zach/anaconda3/envs/bbc_example/lib/python3.11/site-packages (from pandas) (2024.2)\n",
      "Requirement already satisfied: contourpy>=1.0.1 in /home/zach/anaconda3/envs/bbc_example/lib/python3.11/site-packages (from matplotlib) (1.3.1)\n",
      "Requirement already satisfied: cycler>=0.10 in /home/zach/anaconda3/envs/bbc_example/lib/python3.11/site-packages (from matplotlib) (0.12.1)\n",
      "Requirement already satisfied: fonttools>=4.22.0 in /home/zach/anaconda3/envs/bbc_example/lib/python3.11/site-packages (from matplotlib) (4.55.3)\n",
      "Requirement already satisfied: kiwisolver>=1.3.1 in /home/zach/anaconda3/envs/bbc_example/lib/python3.11/site-packages (from matplotlib) (1.4.8)\n",
      "Requirement already satisfied: packaging>=20.0 in /home/zach/anaconda3/envs/bbc_example/lib/python3.11/site-packages (from matplotlib) (24.2)\n",
      "Requirement already satisfied: pillow>=8 in /home/zach/anaconda3/envs/bbc_example/lib/python3.11/site-packages (from matplotlib) (11.1.0)\n",
      "Requirement already satisfied: pyparsing>=2.3.1 in /home/zach/anaconda3/envs/bbc_example/lib/python3.11/site-packages (from matplotlib) (3.2.1)\n",
      "Requirement already satisfied: filelock in /home/zach/anaconda3/envs/bbc_example/lib/python3.11/site-packages (from datasets) (3.16.1)\n",
      "Requirement already satisfied: pyarrow>=15.0.0 in /home/zach/anaconda3/envs/bbc_example/lib/python3.11/site-packages (from datasets) (19.0.0)\n",
      "Requirement already satisfied: dill<0.3.9,>=0.3.0 in /home/zach/anaconda3/envs/bbc_example/lib/python3.11/site-packages (from datasets) (0.3.8)\n",
      "Requirement already satisfied: requests>=2.32.2 in /home/zach/anaconda3/envs/bbc_example/lib/python3.11/site-packages (from datasets) (2.32.3)\n",
      "Requirement already satisfied: tqdm>=4.66.3 in /home/zach/anaconda3/envs/bbc_example/lib/python3.11/site-packages (from datasets) (4.67.1)\n",
      "Requirement already satisfied: xxhash in /home/zach/anaconda3/envs/bbc_example/lib/python3.11/site-packages (from datasets) (3.5.0)\n",
      "Requirement already satisfied: multiprocess<0.70.17 in /home/zach/anaconda3/envs/bbc_example/lib/python3.11/site-packages (from datasets) (0.70.16)\n",
      "Requirement already satisfied: fsspec<=2024.9.0,>=2023.1.0 in /home/zach/anaconda3/envs/bbc_example/lib/python3.11/site-packages (from fsspec[http]<=2024.9.0,>=2023.1.0->datasets) (2024.9.0)\n",
      "Requirement already satisfied: aiohttp in /home/zach/anaconda3/envs/bbc_example/lib/python3.11/site-packages (from datasets) (3.11.11)\n",
      "Requirement already satisfied: huggingface-hub>=0.23.0 in /home/zach/anaconda3/envs/bbc_example/lib/python3.11/site-packages (from datasets) (0.27.1)\n",
      "Requirement already satisfied: pyyaml>=5.1 in /home/zach/anaconda3/envs/bbc_example/lib/python3.11/site-packages (from datasets) (6.0.2)\n",
      "Requirement already satisfied: psutil in /home/zach/anaconda3/envs/bbc_example/lib/python3.11/site-packages (from accelerate) (6.1.1)\n",
      "Requirement already satisfied: torch>=2.0.0 in /home/zach/anaconda3/envs/bbc_example/lib/python3.11/site-packages (from accelerate) (2.5.1)\n",
      "Requirement already satisfied: safetensors>=0.4.3 in /home/zach/anaconda3/envs/bbc_example/lib/python3.11/site-packages (from accelerate) (0.5.2)\n",
      "Requirement already satisfied: scipy>=1.6.0 in /home/zach/anaconda3/envs/bbc_example/lib/python3.11/site-packages (from scikit-learn) (1.15.1)\n",
      "Requirement already satisfied: joblib>=1.2.0 in /home/zach/anaconda3/envs/bbc_example/lib/python3.11/site-packages (from scikit-learn) (1.4.2)\n",
      "Requirement already satisfied: threadpoolctl>=3.1.0 in /home/zach/anaconda3/envs/bbc_example/lib/python3.11/site-packages (from scikit-learn) (3.5.0)\n",
      "Requirement already satisfied: comm>=0.1.3 in /home/zach/anaconda3/envs/bbc_example/lib/python3.11/site-packages (from ipywidgets) (0.2.2)\n",
      "Requirement already satisfied: ipython>=6.1.0 in /home/zach/anaconda3/envs/bbc_example/lib/python3.11/site-packages (from ipywidgets) (8.31.0)\n",
      "Requirement already satisfied: traitlets>=4.3.1 in /home/zach/anaconda3/envs/bbc_example/lib/python3.11/site-packages (from ipywidgets) (5.14.3)\n",
      "Requirement already satisfied: widgetsnbextension~=4.0.12 in /home/zach/anaconda3/envs/bbc_example/lib/python3.11/site-packages (from ipywidgets) (4.0.13)\n",
      "Requirement already satisfied: jupyterlab-widgets~=3.0.12 in /home/zach/anaconda3/envs/bbc_example/lib/python3.11/site-packages (from ipywidgets) (3.0.13)\n",
      "Requirement already satisfied: aiohappyeyeballs>=2.3.0 in /home/zach/anaconda3/envs/bbc_example/lib/python3.11/site-packages (from aiohttp->datasets) (2.4.4)\n",
      "Requirement already satisfied: aiosignal>=1.1.2 in /home/zach/anaconda3/envs/bbc_example/lib/python3.11/site-packages (from aiohttp->datasets) (1.3.2)\n",
      "Requirement already satisfied: attrs>=17.3.0 in /home/zach/anaconda3/envs/bbc_example/lib/python3.11/site-packages (from aiohttp->datasets) (24.3.0)\n",
      "Requirement already satisfied: frozenlist>=1.1.1 in /home/zach/anaconda3/envs/bbc_example/lib/python3.11/site-packages (from aiohttp->datasets) (1.5.0)\n",
      "Requirement already satisfied: multidict<7.0,>=4.5 in /home/zach/anaconda3/envs/bbc_example/lib/python3.11/site-packages (from aiohttp->datasets) (6.1.0)\n",
      "Requirement already satisfied: propcache>=0.2.0 in /home/zach/anaconda3/envs/bbc_example/lib/python3.11/site-packages (from aiohttp->datasets) (0.2.1)\n",
      "Requirement already satisfied: yarl<2.0,>=1.17.0 in /home/zach/anaconda3/envs/bbc_example/lib/python3.11/site-packages (from aiohttp->datasets) (1.18.3)\n",
      "Requirement already satisfied: typing-extensions>=3.7.4.3 in /home/zach/anaconda3/envs/bbc_example/lib/python3.11/site-packages (from huggingface-hub>=0.23.0->datasets) (4.12.2)\n",
      "Requirement already satisfied: decorator in /home/zach/anaconda3/envs/bbc_example/lib/python3.11/site-packages (from ipython>=6.1.0->ipywidgets) (5.1.1)\n",
      "Requirement already satisfied: jedi>=0.16 in /home/zach/anaconda3/envs/bbc_example/lib/python3.11/site-packages (from ipython>=6.1.0->ipywidgets) (0.19.2)\n",
      "Requirement already satisfied: matplotlib-inline in /home/zach/anaconda3/envs/bbc_example/lib/python3.11/site-packages (from ipython>=6.1.0->ipywidgets) (0.1.7)\n",
      "Requirement already satisfied: pexpect>4.3 in /home/zach/anaconda3/envs/bbc_example/lib/python3.11/site-packages (from ipython>=6.1.0->ipywidgets) (4.9.0)\n",
      "Requirement already satisfied: prompt_toolkit<3.1.0,>=3.0.41 in /home/zach/anaconda3/envs/bbc_example/lib/python3.11/site-packages (from ipython>=6.1.0->ipywidgets) (3.0.48)\n",
      "Requirement already satisfied: pygments>=2.4.0 in /home/zach/anaconda3/envs/bbc_example/lib/python3.11/site-packages (from ipython>=6.1.0->ipywidgets) (2.19.1)\n",
      "Requirement already satisfied: stack_data in /home/zach/anaconda3/envs/bbc_example/lib/python3.11/site-packages (from ipython>=6.1.0->ipywidgets) (0.6.3)\n",
      "Requirement already satisfied: six>=1.5 in /home/zach/anaconda3/envs/bbc_example/lib/python3.11/site-packages (from python-dateutil>=2.8.2->pandas) (1.17.0)\n",
      "Requirement already satisfied: charset-normalizer<4,>=2 in /home/zach/anaconda3/envs/bbc_example/lib/python3.11/site-packages (from requests>=2.32.2->datasets) (3.4.1)\n",
      "Requirement already satisfied: idna<4,>=2.5 in /home/zach/anaconda3/envs/bbc_example/lib/python3.11/site-packages (from requests>=2.32.2->datasets) (3.10)\n",
      "Requirement already satisfied: urllib3<3,>=1.21.1 in /home/zach/anaconda3/envs/bbc_example/lib/python3.11/site-packages (from requests>=2.32.2->datasets) (2.3.0)\n",
      "Requirement already satisfied: certifi>=2017.4.17 in /home/zach/anaconda3/envs/bbc_example/lib/python3.11/site-packages (from requests>=2.32.2->datasets) (2024.12.14)\n",
      "Requirement already satisfied: networkx in /home/zach/anaconda3/envs/bbc_example/lib/python3.11/site-packages (from torch>=2.0.0->accelerate) (3.4.2)\n",
      "Requirement already satisfied: jinja2 in /home/zach/anaconda3/envs/bbc_example/lib/python3.11/site-packages (from torch>=2.0.0->accelerate) (3.1.5)\n",
      "Requirement already satisfied: nvidia-cuda-nvrtc-cu12==12.4.127 in /home/zach/anaconda3/envs/bbc_example/lib/python3.11/site-packages (from torch>=2.0.0->accelerate) (12.4.127)\n",
      "Requirement already satisfied: nvidia-cuda-runtime-cu12==12.4.127 in /home/zach/anaconda3/envs/bbc_example/lib/python3.11/site-packages (from torch>=2.0.0->accelerate) (12.4.127)\n",
      "Requirement already satisfied: nvidia-cuda-cupti-cu12==12.4.127 in /home/zach/anaconda3/envs/bbc_example/lib/python3.11/site-packages (from torch>=2.0.0->accelerate) (12.4.127)\n",
      "Requirement already satisfied: nvidia-cudnn-cu12==9.1.0.70 in /home/zach/anaconda3/envs/bbc_example/lib/python3.11/site-packages (from torch>=2.0.0->accelerate) (9.1.0.70)\n",
      "Requirement already satisfied: nvidia-cublas-cu12==12.4.5.8 in /home/zach/anaconda3/envs/bbc_example/lib/python3.11/site-packages (from torch>=2.0.0->accelerate) (12.4.5.8)\n",
      "Requirement already satisfied: nvidia-cufft-cu12==11.2.1.3 in /home/zach/anaconda3/envs/bbc_example/lib/python3.11/site-packages (from torch>=2.0.0->accelerate) (11.2.1.3)\n",
      "Requirement already satisfied: nvidia-curand-cu12==10.3.5.147 in /home/zach/anaconda3/envs/bbc_example/lib/python3.11/site-packages (from torch>=2.0.0->accelerate) (10.3.5.147)\n",
      "Requirement already satisfied: nvidia-cusolver-cu12==11.6.1.9 in /home/zach/anaconda3/envs/bbc_example/lib/python3.11/site-packages (from torch>=2.0.0->accelerate) (11.6.1.9)\n",
      "Requirement already satisfied: nvidia-cusparse-cu12==12.3.1.170 in /home/zach/anaconda3/envs/bbc_example/lib/python3.11/site-packages (from torch>=2.0.0->accelerate) (12.3.1.170)\n",
      "Requirement already satisfied: nvidia-nccl-cu12==2.21.5 in /home/zach/anaconda3/envs/bbc_example/lib/python3.11/site-packages (from torch>=2.0.0->accelerate) (2.21.5)\n",
      "Requirement already satisfied: nvidia-nvtx-cu12==12.4.127 in /home/zach/anaconda3/envs/bbc_example/lib/python3.11/site-packages (from torch>=2.0.0->accelerate) (12.4.127)\n",
      "Requirement already satisfied: nvidia-nvjitlink-cu12==12.4.127 in /home/zach/anaconda3/envs/bbc_example/lib/python3.11/site-packages (from torch>=2.0.0->accelerate) (12.4.127)\n",
      "Requirement already satisfied: triton==3.1.0 in /home/zach/anaconda3/envs/bbc_example/lib/python3.11/site-packages (from torch>=2.0.0->accelerate) (3.1.0)\n",
      "Requirement already satisfied: sympy==1.13.1 in /home/zach/anaconda3/envs/bbc_example/lib/python3.11/site-packages (from torch>=2.0.0->accelerate) (1.13.1)\n",
      "Requirement already satisfied: mpmath<1.4,>=1.1.0 in /home/zach/anaconda3/envs/bbc_example/lib/python3.11/site-packages (from sympy==1.13.1->torch>=2.0.0->accelerate) (1.3.0)\n",
      "Requirement already satisfied: parso<0.9.0,>=0.8.4 in /home/zach/anaconda3/envs/bbc_example/lib/python3.11/site-packages (from jedi>=0.16->ipython>=6.1.0->ipywidgets) (0.8.4)\n",
      "Requirement already satisfied: ptyprocess>=0.5 in /home/zach/anaconda3/envs/bbc_example/lib/python3.11/site-packages (from pexpect>4.3->ipython>=6.1.0->ipywidgets) (0.7.0)\n",
      "Requirement already satisfied: wcwidth in /home/zach/anaconda3/envs/bbc_example/lib/python3.11/site-packages (from prompt_toolkit<3.1.0,>=3.0.41->ipython>=6.1.0->ipywidgets) (0.2.13)\n",
      "Requirement already satisfied: MarkupSafe>=2.0 in /home/zach/anaconda3/envs/bbc_example/lib/python3.11/site-packages (from jinja2->torch>=2.0.0->accelerate) (3.0.2)\n",
      "Requirement already satisfied: executing>=1.2.0 in /home/zach/anaconda3/envs/bbc_example/lib/python3.11/site-packages (from stack_data->ipython>=6.1.0->ipywidgets) (2.1.0)\n",
      "Requirement already satisfied: asttokens>=2.1.0 in /home/zach/anaconda3/envs/bbc_example/lib/python3.11/site-packages (from stack_data->ipython>=6.1.0->ipywidgets) (3.0.0)\n",
      "Requirement already satisfied: pure_eval in /home/zach/anaconda3/envs/bbc_example/lib/python3.11/site-packages (from stack_data->ipython>=6.1.0->ipywidgets) (0.2.3)\n",
      "Note: you may need to restart the kernel to use updated packages.\n"
     ]
    }
   ],
   "source": [
    "pip install pandas matplotlib datasets evaluate accelerate scikit-learn ipywidgets numpy"
   ]
  },
  {
   "cell_type": "code",
   "execution_count": 2,
   "metadata": {},
   "outputs": [
    {
     "name": "stdout",
     "output_type": "stream",
     "text": [
      "Requirement already satisfied: transformers[torch] in /home/zach/anaconda3/envs/bbc_example/lib/python3.11/site-packages (4.48.1)\n",
      "Requirement already satisfied: filelock in /home/zach/anaconda3/envs/bbc_example/lib/python3.11/site-packages (from transformers[torch]) (3.16.1)\n",
      "Requirement already satisfied: huggingface-hub<1.0,>=0.24.0 in /home/zach/anaconda3/envs/bbc_example/lib/python3.11/site-packages (from transformers[torch]) (0.27.1)\n",
      "Requirement already satisfied: numpy>=1.17 in /home/zach/anaconda3/envs/bbc_example/lib/python3.11/site-packages (from transformers[torch]) (2.2.2)\n",
      "Requirement already satisfied: packaging>=20.0 in /home/zach/anaconda3/envs/bbc_example/lib/python3.11/site-packages (from transformers[torch]) (24.2)\n",
      "Requirement already satisfied: pyyaml>=5.1 in /home/zach/anaconda3/envs/bbc_example/lib/python3.11/site-packages (from transformers[torch]) (6.0.2)\n",
      "Requirement already satisfied: regex!=2019.12.17 in /home/zach/anaconda3/envs/bbc_example/lib/python3.11/site-packages (from transformers[torch]) (2024.11.6)\n",
      "Requirement already satisfied: requests in /home/zach/anaconda3/envs/bbc_example/lib/python3.11/site-packages (from transformers[torch]) (2.32.3)\n",
      "Requirement already satisfied: tokenizers<0.22,>=0.21 in /home/zach/anaconda3/envs/bbc_example/lib/python3.11/site-packages (from transformers[torch]) (0.21.0)\n",
      "Requirement already satisfied: safetensors>=0.4.1 in /home/zach/anaconda3/envs/bbc_example/lib/python3.11/site-packages (from transformers[torch]) (0.5.2)\n",
      "Requirement already satisfied: tqdm>=4.27 in /home/zach/anaconda3/envs/bbc_example/lib/python3.11/site-packages (from transformers[torch]) (4.67.1)\n",
      "Requirement already satisfied: torch>=2.0 in /home/zach/anaconda3/envs/bbc_example/lib/python3.11/site-packages (from transformers[torch]) (2.5.1)\n",
      "Requirement already satisfied: accelerate>=0.26.0 in /home/zach/anaconda3/envs/bbc_example/lib/python3.11/site-packages (from transformers[torch]) (1.3.0)\n",
      "Requirement already satisfied: psutil in /home/zach/anaconda3/envs/bbc_example/lib/python3.11/site-packages (from accelerate>=0.26.0->transformers[torch]) (6.1.1)\n",
      "Requirement already satisfied: fsspec>=2023.5.0 in /home/zach/anaconda3/envs/bbc_example/lib/python3.11/site-packages (from huggingface-hub<1.0,>=0.24.0->transformers[torch]) (2024.9.0)\n",
      "Requirement already satisfied: typing-extensions>=3.7.4.3 in /home/zach/anaconda3/envs/bbc_example/lib/python3.11/site-packages (from huggingface-hub<1.0,>=0.24.0->transformers[torch]) (4.12.2)\n",
      "Requirement already satisfied: networkx in /home/zach/anaconda3/envs/bbc_example/lib/python3.11/site-packages (from torch>=2.0->transformers[torch]) (3.4.2)\n",
      "Requirement already satisfied: jinja2 in /home/zach/anaconda3/envs/bbc_example/lib/python3.11/site-packages (from torch>=2.0->transformers[torch]) (3.1.5)\n",
      "Requirement already satisfied: nvidia-cuda-nvrtc-cu12==12.4.127 in /home/zach/anaconda3/envs/bbc_example/lib/python3.11/site-packages (from torch>=2.0->transformers[torch]) (12.4.127)\n",
      "Requirement already satisfied: nvidia-cuda-runtime-cu12==12.4.127 in /home/zach/anaconda3/envs/bbc_example/lib/python3.11/site-packages (from torch>=2.0->transformers[torch]) (12.4.127)\n",
      "Requirement already satisfied: nvidia-cuda-cupti-cu12==12.4.127 in /home/zach/anaconda3/envs/bbc_example/lib/python3.11/site-packages (from torch>=2.0->transformers[torch]) (12.4.127)\n",
      "Requirement already satisfied: nvidia-cudnn-cu12==9.1.0.70 in /home/zach/anaconda3/envs/bbc_example/lib/python3.11/site-packages (from torch>=2.0->transformers[torch]) (9.1.0.70)\n",
      "Requirement already satisfied: nvidia-cublas-cu12==12.4.5.8 in /home/zach/anaconda3/envs/bbc_example/lib/python3.11/site-packages (from torch>=2.0->transformers[torch]) (12.4.5.8)\n",
      "Requirement already satisfied: nvidia-cufft-cu12==11.2.1.3 in /home/zach/anaconda3/envs/bbc_example/lib/python3.11/site-packages (from torch>=2.0->transformers[torch]) (11.2.1.3)\n",
      "Requirement already satisfied: nvidia-curand-cu12==10.3.5.147 in /home/zach/anaconda3/envs/bbc_example/lib/python3.11/site-packages (from torch>=2.0->transformers[torch]) (10.3.5.147)\n",
      "Requirement already satisfied: nvidia-cusolver-cu12==11.6.1.9 in /home/zach/anaconda3/envs/bbc_example/lib/python3.11/site-packages (from torch>=2.0->transformers[torch]) (11.6.1.9)\n",
      "Requirement already satisfied: nvidia-cusparse-cu12==12.3.1.170 in /home/zach/anaconda3/envs/bbc_example/lib/python3.11/site-packages (from torch>=2.0->transformers[torch]) (12.3.1.170)\n",
      "Requirement already satisfied: nvidia-nccl-cu12==2.21.5 in /home/zach/anaconda3/envs/bbc_example/lib/python3.11/site-packages (from torch>=2.0->transformers[torch]) (2.21.5)\n",
      "Requirement already satisfied: nvidia-nvtx-cu12==12.4.127 in /home/zach/anaconda3/envs/bbc_example/lib/python3.11/site-packages (from torch>=2.0->transformers[torch]) (12.4.127)\n",
      "Requirement already satisfied: nvidia-nvjitlink-cu12==12.4.127 in /home/zach/anaconda3/envs/bbc_example/lib/python3.11/site-packages (from torch>=2.0->transformers[torch]) (12.4.127)\n",
      "Requirement already satisfied: triton==3.1.0 in /home/zach/anaconda3/envs/bbc_example/lib/python3.11/site-packages (from torch>=2.0->transformers[torch]) (3.1.0)\n",
      "Requirement already satisfied: sympy==1.13.1 in /home/zach/anaconda3/envs/bbc_example/lib/python3.11/site-packages (from torch>=2.0->transformers[torch]) (1.13.1)\n",
      "Requirement already satisfied: mpmath<1.4,>=1.1.0 in /home/zach/anaconda3/envs/bbc_example/lib/python3.11/site-packages (from sympy==1.13.1->torch>=2.0->transformers[torch]) (1.3.0)\n",
      "Requirement already satisfied: charset-normalizer<4,>=2 in /home/zach/anaconda3/envs/bbc_example/lib/python3.11/site-packages (from requests->transformers[torch]) (3.4.1)\n",
      "Requirement already satisfied: idna<4,>=2.5 in /home/zach/anaconda3/envs/bbc_example/lib/python3.11/site-packages (from requests->transformers[torch]) (3.10)\n",
      "Requirement already satisfied: urllib3<3,>=1.21.1 in /home/zach/anaconda3/envs/bbc_example/lib/python3.11/site-packages (from requests->transformers[torch]) (2.3.0)\n",
      "Requirement already satisfied: certifi>=2017.4.17 in /home/zach/anaconda3/envs/bbc_example/lib/python3.11/site-packages (from requests->transformers[torch]) (2024.12.14)\n",
      "Requirement already satisfied: MarkupSafe>=2.0 in /home/zach/anaconda3/envs/bbc_example/lib/python3.11/site-packages (from jinja2->torch>=2.0->transformers[torch]) (3.0.2)\n",
      "Note: you may need to restart the kernel to use updated packages.\n"
     ]
    }
   ],
   "source": [
    "pip install 'transformers[torch]'"
   ]
  },
  {
   "cell_type": "code",
   "execution_count": 3,
   "metadata": {},
   "outputs": [],
   "source": [
    "\n",
    "## import necessary libraries \n",
    "import pandas as pd\n",
    "from transformers import pipeline\n",
    "import matplotlib.pyplot as plt\n",
    "import numpy as np"
   ]
  },
  {
   "cell_type": "markdown",
   "metadata": {},
   "source": [
    "# read in the data"
   ]
  },
  {
   "cell_type": "code",
   "execution_count": 4,
   "metadata": {},
   "outputs": [
    {
     "data": {
      "text/html": [
       "<div>\n",
       "<style scoped>\n",
       "    .dataframe tbody tr th:only-of-type {\n",
       "        vertical-align: middle;\n",
       "    }\n",
       "\n",
       "    .dataframe tbody tr th {\n",
       "        vertical-align: top;\n",
       "    }\n",
       "\n",
       "    .dataframe thead th {\n",
       "        text-align: right;\n",
       "    }\n",
       "</style>\n",
       "<table border=\"1\" class=\"dataframe\">\n",
       "  <thead>\n",
       "    <tr style=\"text-align: right;\">\n",
       "      <th></th>\n",
       "      <th>category</th>\n",
       "      <th>filename</th>\n",
       "      <th>title</th>\n",
       "      <th>content</th>\n",
       "    </tr>\n",
       "  </thead>\n",
       "  <tbody>\n",
       "    <tr>\n",
       "      <th>0</th>\n",
       "      <td>business</td>\n",
       "      <td>001.txt</td>\n",
       "      <td>Ad sales boost Time Warner profit</td>\n",
       "      <td>Quarterly profits at US media giant TimeWarne...</td>\n",
       "    </tr>\n",
       "    <tr>\n",
       "      <th>1</th>\n",
       "      <td>business</td>\n",
       "      <td>002.txt</td>\n",
       "      <td>Dollar gains on Greenspan speech</td>\n",
       "      <td>The dollar has hit its highest level against ...</td>\n",
       "    </tr>\n",
       "    <tr>\n",
       "      <th>2</th>\n",
       "      <td>business</td>\n",
       "      <td>003.txt</td>\n",
       "      <td>Yukos unit buyer faces loan claim</td>\n",
       "      <td>The owners of embattled Russian oil giant Yuk...</td>\n",
       "    </tr>\n",
       "    <tr>\n",
       "      <th>3</th>\n",
       "      <td>business</td>\n",
       "      <td>004.txt</td>\n",
       "      <td>High fuel prices hit BA's profits</td>\n",
       "      <td>British Airways has blamed high fuel prices f...</td>\n",
       "    </tr>\n",
       "    <tr>\n",
       "      <th>4</th>\n",
       "      <td>business</td>\n",
       "      <td>005.txt</td>\n",
       "      <td>Pernod takeover talk lifts Domecq</td>\n",
       "      <td>Shares in UK drinks and food firm Allied Dome...</td>\n",
       "    </tr>\n",
       "    <tr>\n",
       "      <th>...</th>\n",
       "      <td>...</td>\n",
       "      <td>...</td>\n",
       "      <td>...</td>\n",
       "      <td>...</td>\n",
       "    </tr>\n",
       "    <tr>\n",
       "      <th>2220</th>\n",
       "      <td>tech</td>\n",
       "      <td>397.txt</td>\n",
       "      <td>BT program to beat dialler scams</td>\n",
       "      <td>BT is introducing two initiatives to help bea...</td>\n",
       "    </tr>\n",
       "    <tr>\n",
       "      <th>2221</th>\n",
       "      <td>tech</td>\n",
       "      <td>398.txt</td>\n",
       "      <td>Spam e-mails tempt net shoppers</td>\n",
       "      <td>Computer users across the world continue to i...</td>\n",
       "    </tr>\n",
       "    <tr>\n",
       "      <th>2222</th>\n",
       "      <td>tech</td>\n",
       "      <td>399.txt</td>\n",
       "      <td>Be careful how you code</td>\n",
       "      <td>A new European directive could put software w...</td>\n",
       "    </tr>\n",
       "    <tr>\n",
       "      <th>2223</th>\n",
       "      <td>tech</td>\n",
       "      <td>400.txt</td>\n",
       "      <td>US cyber security chief resigns</td>\n",
       "      <td>The man making sure US computer networks are ...</td>\n",
       "    </tr>\n",
       "    <tr>\n",
       "      <th>2224</th>\n",
       "      <td>tech</td>\n",
       "      <td>401.txt</td>\n",
       "      <td>Losing yourself in online gaming</td>\n",
       "      <td>Online role playing games are time-consuming,...</td>\n",
       "    </tr>\n",
       "  </tbody>\n",
       "</table>\n",
       "<p>2225 rows × 4 columns</p>\n",
       "</div>"
      ],
      "text/plain": [
       "      category filename                              title  \\\n",
       "0     business  001.txt  Ad sales boost Time Warner profit   \n",
       "1     business  002.txt   Dollar gains on Greenspan speech   \n",
       "2     business  003.txt  Yukos unit buyer faces loan claim   \n",
       "3     business  004.txt  High fuel prices hit BA's profits   \n",
       "4     business  005.txt  Pernod takeover talk lifts Domecq   \n",
       "...        ...      ...                                ...   \n",
       "2220      tech  397.txt   BT program to beat dialler scams   \n",
       "2221      tech  398.txt    Spam e-mails tempt net shoppers   \n",
       "2222      tech  399.txt            Be careful how you code   \n",
       "2223      tech  400.txt    US cyber security chief resigns   \n",
       "2224      tech  401.txt   Losing yourself in online gaming   \n",
       "\n",
       "                                                content  \n",
       "0      Quarterly profits at US media giant TimeWarne...  \n",
       "1      The dollar has hit its highest level against ...  \n",
       "2      The owners of embattled Russian oil giant Yuk...  \n",
       "3      British Airways has blamed high fuel prices f...  \n",
       "4      Shares in UK drinks and food firm Allied Dome...  \n",
       "...                                                 ...  \n",
       "2220   BT is introducing two initiatives to help bea...  \n",
       "2221   Computer users across the world continue to i...  \n",
       "2222   A new European directive could put software w...  \n",
       "2223   The man making sure US computer networks are ...  \n",
       "2224   Online role playing games are time-consuming,...  \n",
       "\n",
       "[2225 rows x 4 columns]"
      ]
     },
     "execution_count": 4,
     "metadata": {},
     "output_type": "execute_result"
    }
   ],
   "source": [
    "### download the dataset here: https://www.kaggle.com/datasets/hgultekin/bbcnewsarchive\n",
    "##### After downloading, you can drag it to the colab space locally. Once it's uploaded,\n",
    "##### you can right click the file and copy the path and replace the path below to read\n",
    "##### it into the notebook\n",
    "\n",
    "file_path = '/home/zach/Downloads/bbc-news-data.csv'\n",
    "\n",
    "\n",
    "bbc_data = pd.read_csv(file_path, sep='\\t')\n",
    "bbc_data"
   ]
  },
  {
   "cell_type": "markdown",
   "metadata": {},
   "source": [
    "## let's look at a sample of an article"
   ]
  },
  {
   "cell_type": "code",
   "execution_count": 5,
   "metadata": {},
   "outputs": [
    {
     "name": "stdout",
     "output_type": "stream",
     "text": [
      " Kelly Holmes has been chosen for both the 800m and 1500m at next month's European Indoor Championships - despite not yet confirming her availability.  The double-Olympic champion is still undecided about whether to compete in her first European Indoors in Madrid. But UK Athletics chief Max Jones believes it is likely Holmes will race. He said: \"It's worth a punt, isn't it? She's gone back to training. If she's confident she will pick one (distance). The programme does not permit both.\" If Holmes does take her place in the GB side, she has already indicated that 1500m will be her favoured distance. Under championship rules, she does not have to decide until 24 hours before the event begins in Madrid on 4 March. Jones added: \"She was pleased with her run in Birmingham (at last weekend's Grand Prix). \"I am inclined to think she will (compete). It could depend on how training goes and she will have to be close to top form.\" And he admitted Holmes' presence would be a great boost to the rest of the Norwich Union GB team. \"She is a very good team member and is very good to have there,\" he added. Meanwhile, there is no surprises in the rest of the Great Britain team announced on Tuesday.  Defending 60m champion Jason Gardener is included and will be chasing his third successive gold medal. He will be joined in the event by Mark Lewis-Francis - runner-up behind him three years ago in Vienna - and new boy Darren Chin. Kelly Sotherton has been invited by championship organisers to compete against Carolina Kluft in the pentathlon. Sotherton finished third in the Olympic heptathlon in Athens, where the Swede took gold. There are 16 newcomers at this level of competition in GB's 46-strong team. The championships will be the last to be attended by Jones before he retires to be succeeded by Dave Collins. Jones said: \"The Olympic Games is the overwhelming target for UKA and therefore it is beneficial to start the next four-year cycle with a not-so-pressurised major games. \"The European Indoor Championships always provide a chance for the young and inexperienced to make a name for themselves and the current indoor season has produced some exciting new talent. \"Madrid is the first small step on a long journey to Beijing and the 2008 Olympics but for some of the emerging athletes, this will be a very important step.\"  60m: D Chin (Belgrave Harriers), J Gardener (Wessex and Bath), M Lewis-Francis (Birchfield Harriers).  T Abeyie (Woodford Green with Essex Ladies), C Lambert (Belgrave Harriers).  D Garland (Channel Islands AC).  J McIlroy (Windsor, Slough, Eton and Hounslow AC), Jimmy Watkins (Cardiff AAC).  Ed Jackson (Aldershot, Farnham and District), N Speaight (Belgrave Harriers), J Thie (Cardiff AAC).  A Baddeley (Harrow AC), M Farah (Windsor, Slough, Eton and Hounslow AC), J Mayock (Barnsley AC).  D Greaves (Newham and Essex Beagles), A Scott (Shaftesbury Barnet Harriers), A Turner (Notts AC).  B Challenger (Belgrave Harriers). Pole vault: N Buckfield (Crawley AC).  N Morgan (Birchfield Harriers), C Tomlinson (Newham and Essex Beagles).  L Achike (Shaftesbury Barnet Harriers), N Douglas (Oxford City AC), P Idowu (Belgrave Harriers).  D Cossins (Birchfield Harriers), R Davenport (Gloucester AC), D Garland (Channel Islands AC), R Preddy (Gloucester AC), G Warburton (Cardiff AAC).  K Endacott (City of Plymouth AC), J Kwakye (Woodford Green with Essex Ladies), J Maduaka (Woodford Green with Essex Ladies).  K Wall (Basildon AC).  K Holmes (Ealing, Southall and Middlesex AC).  H Clitheroe (Preston Harriers), K Holmes (Ealing, Southall and Middlesex AC).  J Pavey (Exeter Harriers).  D Allahgreen (Trafford AC), S Claxton (Belgrave Harriers).  J Crane (Sale Harriers Manchester), S Jones (Trafford AC).  J Whitlock (Trafford AC).  J Johnson (Herne Hill Harriers).  K Sotherton (Birchfield Harriers).  D Fraser (Croydon Harriers), L McConnell (Shaftesbury Barnet Harriers), C Murphy (Woodford Green with Essex Ladies), M Purkiss (Southampton AC). \n"
     ]
    }
   ],
   "source": [
    "print(bbc_data['content'].sample(1).values[0])"
   ]
  },
  {
   "cell_type": "markdown",
   "metadata": {},
   "source": [
    "## which categories are available in the dataset? "
   ]
  },
  {
   "cell_type": "code",
   "execution_count": 6,
   "metadata": {},
   "outputs": [
    {
     "data": {
      "text/plain": [
       "category\n",
       "sport            511\n",
       "business         510\n",
       "politics         417\n",
       "tech             401\n",
       "entertainment    386\n",
       "Name: count, dtype: int64"
      ]
     },
     "execution_count": 6,
     "metadata": {},
     "output_type": "execute_result"
    }
   ],
   "source": [
    "bbc_data['category'].value_counts()"
   ]
  },
  {
   "cell_type": "code",
   "execution_count": 7,
   "metadata": {},
   "outputs": [
    {
     "data": {
      "text/plain": [
       "<Axes: xlabel='category'>"
      ]
     },
     "execution_count": 7,
     "metadata": {},
     "output_type": "execute_result"
    },
    {
     "data": {
      "image/png": "[encoded data removed]",
      "text/plain": [
       "<Figure size 640x480 with 1 Axes>"
      ]
     },
     "metadata": {},
     "output_type": "display_data"
    }
   ],
   "source": [
    "bbc_data['category'].value_counts().plot(kind='bar')"
   ]
  },
  {
   "cell_type": "markdown",
   "metadata": {},
   "source": [
    "# let's prepare the dataset for fine-tuning"
   ]
  },
  {
   "cell_type": "code",
   "execution_count": 8,
   "metadata": {},
   "outputs": [],
   "source": [
    "## we'll convert the labels from the BBC dataset to numbers (integers) for the model\n",
    "label_dict = {\n",
    "    'sport': 1,\n",
    "    'politics': 2,\n",
    "    'business': 3,\n",
    "    'tech': 4,\n",
    "    'entertainment': 5\n",
    "}"
   ]
  },
  {
   "cell_type": "code",
   "execution_count": 9,
   "metadata": {},
   "outputs": [],
   "source": [
    "# let's map the labels to the integers - we'll create a new column called 'labels'\n",
    "bbc_data['labels'] = bbc_data['category'].map(label_dict)"
   ]
  },
  {
   "cell_type": "code",
   "execution_count": 10,
   "metadata": {},
   "outputs": [
    {
     "data": {
      "text/plain": [
       "<Axes: >"
      ]
     },
     "execution_count": 10,
     "metadata": {},
     "output_type": "execute_result"
    },
    {
     "data": {
      "image/png": "[encoded data removed]",
      "text/plain": [
       "<Figure size 640x480 with 1 Axes>"
      ]
     },
     "metadata": {},
     "output_type": "display_data"
    }
   ],
   "source": [
    "bbc_data.labels.hist()"
   ]
  },
  {
   "cell_type": "markdown",
   "metadata": {},
   "source": []
  },
  {
   "cell_type": "code",
   "execution_count": 11,
   "metadata": {},
   "outputs": [],
   "source": [
    "# rename the columns to `label` and `text`\n",
    "bbc_data.rename(columns={'content': 'text'}, inplace=True)\n",
    "# convert the labels to categorical codes\n",
    "bbc_data['labels'] = pd.Categorical(bbc_data['labels']).codes"
   ]
  },
  {
   "cell_type": "markdown",
   "metadata": {},
   "source": [
    "## let's import the BERT model"
   ]
  },
  {
   "cell_type": "code",
   "execution_count": 12,
   "metadata": {},
   "outputs": [],
   "source": [
    "## we'll split the dataset into train/test sets\n",
    "from sklearn.model_selection import train_test_split\n",
    "\n",
    "train, test = train_test_split(bbc_data, test_size=.2)"
   ]
  },
  {
   "cell_type": "code",
   "execution_count": 13,
   "metadata": {},
   "outputs": [],
   "source": [
    "## we'll convert the pandas dataframe to a dataset using the Dataset library (https://huggingface.co/docs/datasets/en/index)\n",
    "## we'll create another train/eval split to use when training the model\n",
    "from datasets import Dataset\n",
    "dataset = Dataset.from_pandas(train[['text', 'labels']]).train_test_split(test_size=0.3)"
   ]
  },
  {
   "cell_type": "code",
   "execution_count": 14,
   "metadata": {},
   "outputs": [
    {
     "data": {
      "text/plain": [
       "DatasetDict({\n",
       "    train: Dataset({\n",
       "        features: ['text', 'labels', '__index_level_0__'],\n",
       "        num_rows: 1246\n",
       "    })\n",
       "    test: Dataset({\n",
       "        features: ['text', 'labels', '__index_level_0__'],\n",
       "        num_rows: 534\n",
       "    })\n",
       "})"
      ]
     },
     "execution_count": 14,
     "metadata": {},
     "output_type": "execute_result"
    }
   ],
   "source": [
    "dataset"
   ]
  },
  {
   "cell_type": "code",
   "execution_count": 15,
   "metadata": {},
   "outputs": [
    {
     "data": {
      "application/vnd.jupyter.widget-view+json": {
       "model_id": "f0aff2b71a674d58bed3695d49e1ad5a",
       "version_major": 2,
       "version_minor": 0
      },
      "text/plain": [
       "Map:   0%|          | 0/1246 [00:00<?, ? examples/s]"
      ]
     },
     "metadata": {},
     "output_type": "display_data"
    },
    {
     "data": {
      "application/vnd.jupyter.widget-view+json": {
       "model_id": "adc6c3d751ca4b979abe19cec8a16cad",
       "version_major": 2,
       "version_minor": 0
      },
      "text/plain": [
       "Map:   0%|          | 0/534 [00:00<?, ? examples/s]"
      ]
     },
     "metadata": {},
     "output_type": "display_data"
    }
   ],
   "source": [
    "## we'll import a tokenizer to tokenize the text data\n",
    "\n",
    "from transformers import AutoTokenizer\n",
    "tokenizer = AutoTokenizer.from_pretrained(\"google-bert/bert-base-cased\") ## we'll use the BERT tokenize\n",
    "\n",
    "def tokenize_function(examples):\n",
    "    return tokenizer(examples[\"text\"], padding=\"max_length\", truncation=True)\n",
    "\n",
    "tokenized_dataset = dataset.map(tokenize_function, batched=True)"
   ]
  },
  {
   "cell_type": "code",
   "execution_count": 16,
   "metadata": {},
   "outputs": [
    {
     "name": "stderr",
     "output_type": "stream",
     "text": [
      "Some weights of BertForSequenceClassification were not initialized from the model checkpoint at google-bert/bert-base-cased and are newly initialized: ['classifier.bias', 'classifier.weight']\n",
      "You should probably TRAIN this model on a down-stream task to be able to use it for predictions and inference.\n"
     ]
    }
   ],
   "source": [
    "## we'll import the BERT Model from HuggingFace  https://huggingface.co/models\n",
    "\n",
    "from transformers import AutoModelForSequenceClassification\n",
    "\n",
    "number_of_labels = int(bbc_data['labels'].nunique())\n",
    "\n",
    "model = AutoModelForSequenceClassification.from_pretrained(\"google-bert/bert-base-cased\",num_labels=number_of_labels, torch_dtype=\"auto\")  ## make sure the number of labels in your dataset matches"
   ]
  },
  {
   "cell_type": "code",
   "execution_count": 17,
   "metadata": {},
   "outputs": [],
   "source": [
    "### there are many parameters that you can tune using the huggingface Trainer API\n",
    "### We'll use the standard recommended method of evaluating accuracy. Other methods are available according to the task\n",
    "\n",
    "from transformers import TrainingArguments\n",
    "import evaluate\n",
    "\n",
    "training_args = TrainingArguments(output_dir=\"test_trainer\")\n",
    "metric = evaluate.load(\"accuracy\")\n",
    "\n",
    "def compute_metrics(eval_pred):\n",
    "    logits, labels = eval_pred\n",
    "    predictions = np.argmax(logits, axis=-1)\n",
    "    return metric.compute(predictions=predictions, references=labels)"
   ]
  },
  {
   "cell_type": "code",
   "execution_count": 18,
   "metadata": {},
   "outputs": [],
   "source": [
    "## we'll set the evaluation strategy to each epoch\n",
    "from transformers import TrainingArguments, Trainer\n",
    "training_args = TrainingArguments(output_dir=\"test_trainer\", eval_strategy=\"epoch\")"
   ]
  },
  {
   "cell_type": "code",
   "execution_count": 19,
   "metadata": {},
   "outputs": [],
   "source": [
    "\n",
    "## create the trainer object\n",
    "\n",
    "trainer = Trainer(\n",
    "    model=model,\n",
    "    args=training_args,\n",
    "    train_dataset=tokenized_dataset['train'],\n",
    "    eval_dataset=tokenized_dataset['test'],\n",
    "    compute_metrics=compute_metrics,\n",
    ")"
   ]
  },
  {
   "cell_type": "code",
   "execution_count": 20,
   "metadata": {},
   "outputs": [
    {
     "data": {
      "text/html": [
       "\n",
       "    <div>\n",
       "      \n",
       "      <progress value='468' max='468' style='width:300px; height:20px; vertical-align: middle;'></progress>\n",
       "      [468/468 02:39, Epoch 3/3]\n",
       "    </div>\n",
       "    <table border=\"1\" class=\"dataframe\">\n",
       "  <thead>\n",
       " <tr style=\"text-align: left;\">\n",
       "      <th>Epoch</th>\n",
       "      <th>Training Loss</th>\n",
       "      <th>Validation Loss</th>\n",
       "      <th>Accuracy</th>\n",
       "    </tr>\n",
       "  </thead>\n",
       "  <tbody>\n",
       "    <tr>\n",
       "      <td>1</td>\n",
       "      <td>No log</td>\n",
       "      <td>0.263835</td>\n",
       "      <td>0.951311</td>\n",
       "    </tr>\n",
       "    <tr>\n",
       "      <td>2</td>\n",
       "      <td>No log</td>\n",
       "      <td>0.125517</td>\n",
       "      <td>0.979401</td>\n",
       "    </tr>\n",
       "    <tr>\n",
       "      <td>3</td>\n",
       "      <td>No log</td>\n",
       "      <td>0.133159</td>\n",
       "      <td>0.979401</td>\n",
       "    </tr>\n",
       "  </tbody>\n",
       "</table><p>"
      ],
      "text/plain": [
       "<IPython.core.display.HTML object>"
      ]
     },
     "metadata": {},
     "output_type": "display_data"
    },
    {
     "data": {
      "text/plain": [
       "TrainOutput(global_step=468, training_loss=0.21369249392778444, metrics={'train_runtime': 159.785, 'train_samples_per_second': 23.394, 'train_steps_per_second': 2.929, 'total_flos': 983535616530432.0, 'train_loss': 0.21369249392778444, 'epoch': 3.0})"
      ]
     },
     "execution_count": 20,
     "metadata": {},
     "output_type": "execute_result"
    }
   ],
   "source": [
    "trainer.train()"
   ]
  },
  {
   "cell_type": "markdown",
   "metadata": {},
   "source": [
    "## Let's test the model with the sample text that it had never seen "
   ]
  },
  {
   "cell_type": "code",
   "execution_count": 22,
   "metadata": {},
   "outputs": [
    {
     "name": "stderr",
     "output_type": "stream",
     "text": [
      "Device set to use cuda:0\n"
     ]
    }
   ],
   "source": [
    "from transformers import TextClassificationPipeline\n",
    "\n",
    "classifier = TextClassificationPipeline(tokenizer=tokenizer,\n",
    "                                        model=model,\n",
    "                                        max_length = 512)"
   ]
  },
  {
   "cell_type": "code",
   "execution_count": 28,
   "metadata": {},
   "outputs": [
    {
     "data": {
      "text/plain": [
       "' Net browser Opera 8.0, due for official release at the end of next month, will be \"the most accessible browser on the market\", according to its authors.  The latest version of the net browser can be controlled by voice command and will read pages aloud. The voice features, based on IBM technology, are currently only available in the Windows version. Opera can also magnify text by up to 10 times and users can create \"style sheets\", its developers say. This will enable them to view pages with colours and fonts that they prefer. But the browser does not yet work well with screen reader software often used by blind people, so its accessibility features are more likely to appeal to those with some residual vision. \"Our mission was always to provide the best internet experience for everyone,\" said Opera spokeswoman, Berit Hanson. \"So we would obviously not want to exclude disabled computer users.\"  Another feature likely to appeal to people with low vision is the ability to make pages fit to the screen width, which eliminates the need for horizontal scrolling.  The company points out that this will also appeal to anyone using Opera with a handheld device. The company says that features like voice activation are not solely aimed at visually impaired people. \"Our idea was to take a first step in making human-computer interaction more natural,\" said Ms Hanson. \"People are not always in a situation where they can access a keyboard, so this makes the web a more hands-free experience.\" Unlike commercially available voice recognition software, Opera does not have to be \"trained\" to recognise an individual voice. Around 50 voice commands are available and users will have to wear a headset which incorporates a microphone. The voice recognition function is currently only available in English. Opera is free to download but a paid-for version comes without an ad banner in the top right hand corner and with extra support. Opera began life as a research project - a spin-off from Norwegian telecoms company Telenor. Its browser is used by an estimated 10 million people on a variety of operating systems and a number of different platforms. '"
      ]
     },
     "execution_count": 28,
     "metadata": {},
     "output_type": "execute_result"
    }
   ],
   "source": [
    "test.text.sample(1).values[0]"
   ]
  },
  {
   "cell_type": "code",
   "execution_count": 57,
   "metadata": {},
   "outputs": [],
   "source": [
    "text = ' Net browser Opera 8.0, due for official release at the end of next month, will be \"the most accessible browser on the market\", according to its authors.  The latest version of the net browser can be controlled by voice command and will read pages aloud. The voice features, based on IBM technology, are currently only available in the Windows version. Opera can also magnify text by up to 10 times and users can create \"style sheets\", its developers say. This will enable them to view pages with colours and fonts that they prefer. But the browser does not yet work well with screen reader software often used by blind people, so its accessibility features are more likely to appeal to those with some residual vision. \"Our mission was always to provide the best internet experience for everyone,\" said Opera spokeswoman, Berit Hanson. \"So we would obviously not want to exclude disabled computer users.\"  Another feature likely to appeal to people with low vision is the ability to make pages fit to the screen width, which eliminates the need for horizontal scrolling.  The company points out that this will also appeal to anyone using Opera with a handheld device. The company says that features like voice activation are not solely aimed at visually impaired people. \"Our idea was to take a first step in making human-computer interaction more natural,\" said Ms Hanson. \"People are not always in a situation where they can access a keyboard, so this makes the web a more hands-free experience.\" Unlike commercially available voice recognition software, Opera does not have to be \"trained\" to recognise an individual voice. Around 50 voice commands are available and users will have to wear a headset which incorporates a microphone. The voice recognition function is currently only available in English. Opera is free to download but a paid-for version comes without an ad banner in the top right hand corner and with extra support. Opera began life as a research project - a spin-off from Norwegian telecoms company Telenor. Its browser is used by an estimated 10 million people on a variety of operating systems and a number of different platforms. '"
   ]
  },
  {
   "cell_type": "code",
   "execution_count": 58,
   "metadata": {},
   "outputs": [
    {
     "data": {
      "text/plain": [
       "'LABEL_3'"
      ]
     },
     "execution_count": 58,
     "metadata": {},
     "output_type": "execute_result"
    }
   ],
   "source": [
    "classifier(text)[0]['label']"
   ]
  },
  {
   "cell_type": "code",
   "execution_count": 37,
   "metadata": {},
   "outputs": [
    {
     "name": "stderr",
     "output_type": "stream",
     "text": [
      "You seem to be using the pipelines sequentially on GPU. In order to maximize efficiency please use a dataset\n"
     ]
    }
   ],
   "source": [
    "# we'll use the classifier to predict the labels for the test set\n",
    "\n",
    "validation = []\n",
    "\n",
    "for text in test.text:\n",
    "    validation.append(classifier(text)[0]['label'])"
   ]
  },
  {
   "cell_type": "code",
   "execution_count": null,
   "metadata": {},
   "outputs": [],
   "source": [
    "# create a new column in the test dataset with the predicted labels\n",
    "test['predicted'] = validation"
   ]
  },
  {
   "cell_type": "code",
   "execution_count": null,
   "metadata": {},
   "outputs": [],
   "source": [
    "# convert the predicted labels to integers\n",
    "test['predicted_labels_integer'] = test.predicted.str.split('_').str.get(1).astype(int)"
   ]
  },
  {
   "cell_type": "code",
   "execution_count": 51,
   "metadata": {},
   "outputs": [
    {
     "data": {
      "text/html": [
       "<div>\n",
       "<style scoped>\n",
       "    .dataframe tbody tr th:only-of-type {\n",
       "        vertical-align: middle;\n",
       "    }\n",
       "\n",
       "    .dataframe tbody tr th {\n",
       "        vertical-align: top;\n",
       "    }\n",
       "\n",
       "    .dataframe thead th {\n",
       "        text-align: right;\n",
       "    }\n",
       "</style>\n",
       "<table border=\"1\" class=\"dataframe\">\n",
       "  <thead>\n",
       "    <tr style=\"text-align: right;\">\n",
       "      <th></th>\n",
       "      <th>category</th>\n",
       "      <th>filename</th>\n",
       "      <th>title</th>\n",
       "      <th>text</th>\n",
       "      <th>labels</th>\n",
       "      <th>predicted</th>\n",
       "      <th>predicted_labels_integer</th>\n",
       "    </tr>\n",
       "  </thead>\n",
       "  <tbody>\n",
       "    <tr>\n",
       "      <th>2029</th>\n",
       "      <td>tech</td>\n",
       "      <td>206.txt</td>\n",
       "      <td>Row brewing over peer-to-peer ads</td>\n",
       "      <td>Music download networks are proving popular n...</td>\n",
       "      <td>3</td>\n",
       "      <td>LABEL_3</td>\n",
       "      <td>3</td>\n",
       "    </tr>\n",
       "    <tr>\n",
       "      <th>1914</th>\n",
       "      <td>tech</td>\n",
       "      <td>091.txt</td>\n",
       "      <td>Movie body targets children's PCs</td>\n",
       "      <td>The body that represents the US movie industr...</td>\n",
       "      <td>3</td>\n",
       "      <td>LABEL_3</td>\n",
       "      <td>3</td>\n",
       "    </tr>\n",
       "    <tr>\n",
       "      <th>1645</th>\n",
       "      <td>sport</td>\n",
       "      <td>333.txt</td>\n",
       "      <td>Parker misses England clash</td>\n",
       "      <td>Tom Shanklin will start in the centre for Wal...</td>\n",
       "      <td>0</td>\n",
       "      <td>LABEL_0</td>\n",
       "      <td>0</td>\n",
       "    </tr>\n",
       "    <tr>\n",
       "      <th>1748</th>\n",
       "      <td>sport</td>\n",
       "      <td>436.txt</td>\n",
       "      <td>Hantuchova in Dubai last eight</td>\n",
       "      <td>Daniela Hantuchova moved into the quarter-fin...</td>\n",
       "      <td>0</td>\n",
       "      <td>LABEL_0</td>\n",
       "      <td>0</td>\n",
       "    </tr>\n",
       "    <tr>\n",
       "      <th>1232</th>\n",
       "      <td>politics</td>\n",
       "      <td>337.txt</td>\n",
       "      <td>Campaign 'cold calls' questioned</td>\n",
       "      <td>Labour and the Conservatives are still teleph...</td>\n",
       "      <td>1</td>\n",
       "      <td>LABEL_1</td>\n",
       "      <td>1</td>\n",
       "    </tr>\n",
       "    <tr>\n",
       "      <th>...</th>\n",
       "      <td>...</td>\n",
       "      <td>...</td>\n",
       "      <td>...</td>\n",
       "      <td>...</td>\n",
       "      <td>...</td>\n",
       "      <td>...</td>\n",
       "      <td>...</td>\n",
       "    </tr>\n",
       "    <tr>\n",
       "      <th>816</th>\n",
       "      <td>entertainment</td>\n",
       "      <td>307.txt</td>\n",
       "      <td>Carry On star Patsy Rowlands dies</td>\n",
       "      <td>Actress Patsy Rowlands, known to millions for...</td>\n",
       "      <td>4</td>\n",
       "      <td>LABEL_4</td>\n",
       "      <td>4</td>\n",
       "    </tr>\n",
       "    <tr>\n",
       "      <th>1642</th>\n",
       "      <td>sport</td>\n",
       "      <td>330.txt</td>\n",
       "      <td>Campese berates whingeing England</td>\n",
       "      <td>Former Australian wing David Campese has told...</td>\n",
       "      <td>0</td>\n",
       "      <td>LABEL_0</td>\n",
       "      <td>0</td>\n",
       "    </tr>\n",
       "    <tr>\n",
       "      <th>1860</th>\n",
       "      <td>tech</td>\n",
       "      <td>037.txt</td>\n",
       "      <td>US woman sues over cartridges</td>\n",
       "      <td>A US woman is suing Hewlett Packard (HP), say...</td>\n",
       "      <td>3</td>\n",
       "      <td>LABEL_3</td>\n",
       "      <td>3</td>\n",
       "    </tr>\n",
       "    <tr>\n",
       "      <th>1197</th>\n",
       "      <td>politics</td>\n",
       "      <td>302.txt</td>\n",
       "      <td>Galloway targets 'New Labour' MP</td>\n",
       "      <td>George Galloway is to stand against pro-Iraq ...</td>\n",
       "      <td>1</td>\n",
       "      <td>LABEL_1</td>\n",
       "      <td>1</td>\n",
       "    </tr>\n",
       "    <tr>\n",
       "      <th>750</th>\n",
       "      <td>entertainment</td>\n",
       "      <td>241.txt</td>\n",
       "      <td>Youssou N'Dour wins music prize</td>\n",
       "      <td>Senegalese musician Youssou N'Dour has been n...</td>\n",
       "      <td>4</td>\n",
       "      <td>LABEL_4</td>\n",
       "      <td>4</td>\n",
       "    </tr>\n",
       "  </tbody>\n",
       "</table>\n",
       "<p>445 rows × 7 columns</p>\n",
       "</div>"
      ],
      "text/plain": [
       "           category filename                              title  \\\n",
       "2029           tech  206.txt  Row brewing over peer-to-peer ads   \n",
       "1914           tech  091.txt  Movie body targets children's PCs   \n",
       "1645          sport  333.txt        Parker misses England clash   \n",
       "1748          sport  436.txt     Hantuchova in Dubai last eight   \n",
       "1232       politics  337.txt   Campaign 'cold calls' questioned   \n",
       "...             ...      ...                                ...   \n",
       "816   entertainment  307.txt  Carry On star Patsy Rowlands dies   \n",
       "1642          sport  330.txt  Campese berates whingeing England   \n",
       "1860           tech  037.txt      US woman sues over cartridges   \n",
       "1197       politics  302.txt   Galloway targets 'New Labour' MP   \n",
       "750   entertainment  241.txt    Youssou N'Dour wins music prize   \n",
       "\n",
       "                                                   text  labels predicted  \\\n",
       "2029   Music download networks are proving popular n...       3   LABEL_3   \n",
       "1914   The body that represents the US movie industr...       3   LABEL_3   \n",
       "1645   Tom Shanklin will start in the centre for Wal...       0   LABEL_0   \n",
       "1748   Daniela Hantuchova moved into the quarter-fin...       0   LABEL_0   \n",
       "1232   Labour and the Conservatives are still teleph...       1   LABEL_1   \n",
       "...                                                 ...     ...       ...   \n",
       "816    Actress Patsy Rowlands, known to millions for...       4   LABEL_4   \n",
       "1642   Former Australian wing David Campese has told...       0   LABEL_0   \n",
       "1860   A US woman is suing Hewlett Packard (HP), say...       3   LABEL_3   \n",
       "1197   George Galloway is to stand against pro-Iraq ...       1   LABEL_1   \n",
       "750    Senegalese musician Youssou N'Dour has been n...       4   LABEL_4   \n",
       "\n",
       "      predicted_labels_integer  \n",
       "2029                         3  \n",
       "1914                         3  \n",
       "1645                         0  \n",
       "1748                         0  \n",
       "1232                         1  \n",
       "...                        ...  \n",
       "816                          4  \n",
       "1642                         0  \n",
       "1860                         3  \n",
       "1197                         1  \n",
       "750                          4  \n",
       "\n",
       "[445 rows x 7 columns]"
      ]
     },
     "execution_count": 51,
     "metadata": {},
     "output_type": "execute_result"
    }
   ],
   "source": [
    "test"
   ]
  },
  {
   "cell_type": "code",
   "execution_count": 52,
   "metadata": {},
   "outputs": [
    {
     "name": "stdout",
     "output_type": "stream",
     "text": [
      "              precision    recall  f1-score   support\n",
      "\n",
      "           0       1.00      1.00      1.00       103\n",
      "           1       0.98      0.99      0.98        81\n",
      "           2       0.96      0.96      0.96       111\n",
      "           3       0.97      0.97      0.97        72\n",
      "           4       0.99      0.97      0.98        78\n",
      "\n",
      "    accuracy                           0.98       445\n",
      "   macro avg       0.98      0.98      0.98       445\n",
      "weighted avg       0.98      0.98      0.98       445\n",
      "\n"
     ]
    }
   ],
   "source": [
    "from sklearn.metrics import classification_report\n",
    "print(classification_report(test.labels.values, test.predicted_labels_integer.values))"
   ]
  },
  {
   "cell_type": "code",
   "execution_count": 53,
   "metadata": {},
   "outputs": [
    {
     "data": {
      "text/plain": [
       "<sklearn.metrics._plot.confusion_matrix.ConfusionMatrixDisplay at 0x71f283fe1850>"
      ]
     },
     "execution_count": 53,
     "metadata": {},
     "output_type": "execute_result"
    },
    {
     "data": {
      "image/png": "[encoded data removed]",
      "text/plain": [
       "<Figure size 640x480 with 2 Axes>"
      ]
     },
     "metadata": {},
     "output_type": "display_data"
    }
   ],
   "source": [
    "from sklearn.metrics import confusion_matrix, ConfusionMatrixDisplay\n",
    "cm = confusion_matrix(test.labels.values, test.predicted_labels_integer.values)\n",
    "ConfusionMatrixDisplay(confusion_matrix=cm).plot()"
   ]
  },
  {
   "cell_type": "code",
   "execution_count": null,
   "metadata": {},
   "outputs": [],
   "source": []
  }
 ],
 "metadata": {
  "kernelspec": {
   "display_name": "bbc_example",
   "language": "python",
   "name": "python3"
  },
  "language_info": {
   "codemirror_mode": {
    "name": "ipython",
    "version": 3
   },
   "file_extension": ".py",
   "mimetype": "text/x-python",
   "name": "python",
   "nbconvert_exporter": "python",
   "pygments_lexer": "ipython3",
   "version": "3.11.11"
  }
 },
 "nbformat": 4,
 "nbformat_minor": 2
}
