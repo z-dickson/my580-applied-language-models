{
 "cells": [
  {
   "cell_type": "markdown",
   "metadata": {},
   "source": [
    "### This notebook demonstrates how to fine-tune the BERT model for the task of text classification. We will use the `transformers` library by Hugging Face. We will fine-tune the model using the [BBC News](https://www.kaggle.com/datasets/alfathterry/bbc-full-text-document-classification) dataset from [Kaggle](https://www.kaggle.com/datasets/alfathterry/bbc-full-text-document-classification). \n",
    "\n",
    "The dataset consists of 2,125 documents from the BBC news website corresponding to stories in five topical areas from 2004-2005. The categories are: \n",
    "- Business\n",
    "- Entertainment\n",
    "- Politics\n",
    "- Sport\n",
    "- Tech\n",
    "\n",
    "The necessary libraries for the tutorial are: \n",
    "\n",
    "- [`pandas`](https://pandas.pydata.org/docs/index.html) to work with the dataset\n",
    "- [`transformers`](https://huggingface.co/docs/transformers/en/index) for the BERT model\n",
    "\n",
    "\n",
    "They can be installed using the following code: \n",
    "\n",
    "```{python}\n",
    "pip install pandas matplotlib\n",
    "pip install 'transformers[torch]'\n",
    "```\n",
    "\n",
    "\n",
    "### Note: There are several ways to use python. The easiest way is using your local machine: \n",
    "\n",
    "\n",
    "- To use Jupyter notebooks on your local machine using [Jupyter Lab](https://jupyter.org/install) (https://jupyter.org/install), you can install the necessary libraries using the command prompt or terminal.\n",
    "\n",
    "```{python}\n",
    "pip install jupyterlab\n",
    "```\n",
    "\n",
    "If not, the easiest way is probably using [Google Colab](https://colab.research.google.com/) or [Kaggle nootbooks](https://www.kaggle.com/code).\n",
    "\n"
   ]
  },
  {
   "cell_type": "code",
   "execution_count": 1,
   "metadata": {},
   "outputs": [
    {
     "name": "stdout",
     "output_type": "stream",
     "text": [
      "Requirement already satisfied: pandas in /home/zach/anaconda3/envs/bertopic/lib/python3.11/site-packages (2.2.3)\n",
      "Requirement already satisfied: matplotlib in /home/zach/anaconda3/envs/bertopic/lib/python3.11/site-packages (3.10.0)\n",
      "Collecting datasets\n",
      "  Using cached datasets-3.2.0-py3-none-any.whl.metadata (20 kB)\n",
      "Collecting evaluate\n",
      "  Using cached evaluate-0.4.3-py3-none-any.whl.metadata (9.2 kB)\n",
      "Collecting accelerate\n",
      "  Using cached accelerate-1.3.0-py3-none-any.whl.metadata (19 kB)\n",
      "Requirement already satisfied: scikit-learn in /home/zach/anaconda3/envs/bertopic/lib/python3.11/site-packages (1.6.1)\n",
      "Requirement already satisfied: ipywidgets in /home/zach/anaconda3/envs/bertopic/lib/python3.11/site-packages (8.1.5)\n",
      "Requirement already satisfied: numpy in /home/zach/anaconda3/envs/bertopic/lib/python3.11/site-packages (2.0.1)\n",
      "Requirement already satisfied: python-dateutil>=2.8.2 in /home/zach/anaconda3/envs/bertopic/lib/python3.11/site-packages (from pandas) (2.9.0.post0)\n",
      "Requirement already satisfied: pytz>=2020.1 in /home/zach/anaconda3/envs/bertopic/lib/python3.11/site-packages (from pandas) (2024.1)\n",
      "Requirement already satisfied: tzdata>=2022.7 in /home/zach/anaconda3/envs/bertopic/lib/python3.11/site-packages (from pandas) (2023.3)\n",
      "Requirement already satisfied: contourpy>=1.0.1 in /home/zach/anaconda3/envs/bertopic/lib/python3.11/site-packages (from matplotlib) (1.3.1)\n",
      "Requirement already satisfied: cycler>=0.10 in /home/zach/anaconda3/envs/bertopic/lib/python3.11/site-packages (from matplotlib) (0.12.1)\n",
      "Requirement already satisfied: fonttools>=4.22.0 in /home/zach/anaconda3/envs/bertopic/lib/python3.11/site-packages (from matplotlib) (4.55.6)\n",
      "Requirement already satisfied: kiwisolver>=1.3.1 in /home/zach/anaconda3/envs/bertopic/lib/python3.11/site-packages (from matplotlib) (1.4.8)\n",
      "Requirement already satisfied: packaging>=20.0 in /home/zach/anaconda3/envs/bertopic/lib/python3.11/site-packages (from matplotlib) (24.2)\n",
      "Requirement already satisfied: pillow>=8 in /home/zach/anaconda3/envs/bertopic/lib/python3.11/site-packages (from matplotlib) (11.1.0)\n",
      "Requirement already satisfied: pyparsing>=2.3.1 in /home/zach/anaconda3/envs/bertopic/lib/python3.11/site-packages (from matplotlib) (3.2.1)\n",
      "Requirement already satisfied: filelock in /home/zach/anaconda3/envs/bertopic/lib/python3.11/site-packages (from datasets) (3.17.0)\n",
      "Collecting pyarrow>=15.0.0 (from datasets)\n",
      "  Using cached pyarrow-19.0.0-cp311-cp311-manylinux_2_28_x86_64.whl.metadata (3.3 kB)\n",
      "Collecting dill<0.3.9,>=0.3.0 (from datasets)\n",
      "  Using cached dill-0.3.8-py3-none-any.whl.metadata (10 kB)\n",
      "Requirement already satisfied: requests>=2.32.2 in /home/zach/anaconda3/envs/bertopic/lib/python3.11/site-packages (from datasets) (2.32.3)\n",
      "Requirement already satisfied: tqdm>=4.66.3 in /home/zach/anaconda3/envs/bertopic/lib/python3.11/site-packages (from datasets) (4.67.1)\n",
      "Collecting xxhash (from datasets)\n",
      "  Using cached xxhash-3.5.0-cp311-cp311-manylinux_2_17_x86_64.manylinux2014_x86_64.whl.metadata (12 kB)\n",
      "Collecting multiprocess<0.70.17 (from datasets)\n",
      "  Using cached multiprocess-0.70.16-py311-none-any.whl.metadata (7.2 kB)\n",
      "Collecting fsspec<=2024.9.0,>=2023.1.0 (from fsspec[http]<=2024.9.0,>=2023.1.0->datasets)\n",
      "  Using cached fsspec-2024.9.0-py3-none-any.whl.metadata (11 kB)\n",
      "Collecting aiohttp (from datasets)\n",
      "  Using cached aiohttp-3.11.11-cp311-cp311-manylinux_2_17_x86_64.manylinux2014_x86_64.whl.metadata (7.7 kB)\n",
      "Requirement already satisfied: huggingface-hub>=0.23.0 in /home/zach/anaconda3/envs/bertopic/lib/python3.11/site-packages (from datasets) (0.27.1)\n",
      "Requirement already satisfied: pyyaml>=5.1 in /home/zach/anaconda3/envs/bertopic/lib/python3.11/site-packages (from datasets) (6.0.2)\n",
      "Requirement already satisfied: psutil in /home/zach/anaconda3/envs/bertopic/lib/python3.11/site-packages (from accelerate) (6.1.1)\n",
      "Requirement already satisfied: torch>=2.0.0 in /home/zach/anaconda3/envs/bertopic/lib/python3.11/site-packages (from accelerate) (2.5.1)\n",
      "Requirement already satisfied: safetensors>=0.4.3 in /home/zach/anaconda3/envs/bertopic/lib/python3.11/site-packages (from accelerate) (0.5.2)\n",
      "Requirement already satisfied: scipy>=1.6.0 in /home/zach/anaconda3/envs/bertopic/lib/python3.11/site-packages (from scikit-learn) (1.15.1)\n",
      "Requirement already satisfied: joblib>=1.2.0 in /home/zach/anaconda3/envs/bertopic/lib/python3.11/site-packages (from scikit-learn) (1.4.2)\n",
      "Requirement already satisfied: threadpoolctl>=3.1.0 in /home/zach/anaconda3/envs/bertopic/lib/python3.11/site-packages (from scikit-learn) (3.5.0)\n",
      "Requirement already satisfied: comm>=0.1.3 in /home/zach/anaconda3/envs/bertopic/lib/python3.11/site-packages (from ipywidgets) (0.2.2)\n",
      "Requirement already satisfied: ipython>=6.1.0 in /home/zach/anaconda3/envs/bertopic/lib/python3.11/site-packages (from ipywidgets) (8.31.0)\n",
      "Requirement already satisfied: traitlets>=4.3.1 in /home/zach/anaconda3/envs/bertopic/lib/python3.11/site-packages (from ipywidgets) (5.14.3)\n",
      "Requirement already satisfied: widgetsnbextension~=4.0.12 in /home/zach/anaconda3/envs/bertopic/lib/python3.11/site-packages (from ipywidgets) (4.0.13)\n",
      "Requirement already satisfied: jupyterlab-widgets~=3.0.12 in /home/zach/anaconda3/envs/bertopic/lib/python3.11/site-packages (from ipywidgets) (3.0.13)\n",
      "Collecting aiohappyeyeballs>=2.3.0 (from aiohttp->datasets)\n",
      "  Using cached aiohappyeyeballs-2.4.4-py3-none-any.whl.metadata (6.1 kB)\n",
      "Collecting aiosignal>=1.1.2 (from aiohttp->datasets)\n",
      "  Using cached aiosignal-1.3.2-py2.py3-none-any.whl.metadata (3.8 kB)\n",
      "Requirement already satisfied: attrs>=17.3.0 in /home/zach/anaconda3/envs/bertopic/lib/python3.11/site-packages (from aiohttp->datasets) (25.1.0)\n",
      "Collecting frozenlist>=1.1.1 (from aiohttp->datasets)\n",
      "  Using cached frozenlist-1.5.0-cp311-cp311-manylinux_2_5_x86_64.manylinux1_x86_64.manylinux_2_17_x86_64.manylinux2014_x86_64.whl.metadata (13 kB)\n",
      "Collecting multidict<7.0,>=4.5 (from aiohttp->datasets)\n",
      "  Using cached multidict-6.1.0-cp311-cp311-manylinux_2_17_x86_64.manylinux2014_x86_64.whl.metadata (5.0 kB)\n",
      "Collecting propcache>=0.2.0 (from aiohttp->datasets)\n",
      "  Using cached propcache-0.2.1-cp311-cp311-manylinux_2_17_x86_64.manylinux2014_x86_64.whl.metadata (9.2 kB)\n",
      "Collecting yarl<2.0,>=1.17.0 (from aiohttp->datasets)\n",
      "  Using cached yarl-1.18.3-cp311-cp311-manylinux_2_17_x86_64.manylinux2014_x86_64.whl.metadata (69 kB)\n",
      "Requirement already satisfied: typing-extensions>=3.7.4.3 in /home/zach/anaconda3/envs/bertopic/lib/python3.11/site-packages (from huggingface-hub>=0.23.0->datasets) (4.12.2)\n",
      "Requirement already satisfied: decorator in /home/zach/anaconda3/envs/bertopic/lib/python3.11/site-packages (from ipython>=6.1.0->ipywidgets) (5.1.1)\n",
      "Requirement already satisfied: jedi>=0.16 in /home/zach/anaconda3/envs/bertopic/lib/python3.11/site-packages (from ipython>=6.1.0->ipywidgets) (0.19.2)\n",
      "Requirement already satisfied: matplotlib-inline in /home/zach/anaconda3/envs/bertopic/lib/python3.11/site-packages (from ipython>=6.1.0->ipywidgets) (0.1.7)\n",
      "Requirement already satisfied: pexpect>4.3 in /home/zach/anaconda3/envs/bertopic/lib/python3.11/site-packages (from ipython>=6.1.0->ipywidgets) (4.9.0)\n",
      "Requirement already satisfied: prompt_toolkit<3.1.0,>=3.0.41 in /home/zach/anaconda3/envs/bertopic/lib/python3.11/site-packages (from ipython>=6.1.0->ipywidgets) (3.0.50)\n",
      "Requirement already satisfied: pygments>=2.4.0 in /home/zach/anaconda3/envs/bertopic/lib/python3.11/site-packages (from ipython>=6.1.0->ipywidgets) (2.19.1)\n",
      "Requirement already satisfied: stack_data in /home/zach/anaconda3/envs/bertopic/lib/python3.11/site-packages (from ipython>=6.1.0->ipywidgets) (0.6.3)\n",
      "Requirement already satisfied: six>=1.5 in /home/zach/anaconda3/envs/bertopic/lib/python3.11/site-packages (from python-dateutil>=2.8.2->pandas) (1.16.0)\n",
      "Requirement already satisfied: charset-normalizer<4,>=2 in /home/zach/anaconda3/envs/bertopic/lib/python3.11/site-packages (from requests>=2.32.2->datasets) (3.4.1)\n",
      "Requirement already satisfied: idna<4,>=2.5 in /home/zach/anaconda3/envs/bertopic/lib/python3.11/site-packages (from requests>=2.32.2->datasets) (3.10)\n",
      "Requirement already satisfied: urllib3<3,>=1.21.1 in /home/zach/anaconda3/envs/bertopic/lib/python3.11/site-packages (from requests>=2.32.2->datasets) (2.3.0)\n",
      "Requirement already satisfied: certifi>=2017.4.17 in /home/zach/anaconda3/envs/bertopic/lib/python3.11/site-packages (from requests>=2.32.2->datasets) (2024.12.14)\n",
      "Requirement already satisfied: networkx in /home/zach/anaconda3/envs/bertopic/lib/python3.11/site-packages (from torch>=2.0.0->accelerate) (3.4.2)\n",
      "Requirement already satisfied: jinja2 in /home/zach/anaconda3/envs/bertopic/lib/python3.11/site-packages (from torch>=2.0.0->accelerate) (3.1.5)\n",
      "Requirement already satisfied: nvidia-cuda-nvrtc-cu12==12.4.127 in /home/zach/anaconda3/envs/bertopic/lib/python3.11/site-packages (from torch>=2.0.0->accelerate) (12.4.127)\n",
      "Requirement already satisfied: nvidia-cuda-runtime-cu12==12.4.127 in /home/zach/anaconda3/envs/bertopic/lib/python3.11/site-packages (from torch>=2.0.0->accelerate) (12.4.127)\n",
      "Requirement already satisfied: nvidia-cuda-cupti-cu12==12.4.127 in /home/zach/anaconda3/envs/bertopic/lib/python3.11/site-packages (from torch>=2.0.0->accelerate) (12.4.127)\n",
      "Requirement already satisfied: nvidia-cudnn-cu12==9.1.0.70 in /home/zach/anaconda3/envs/bertopic/lib/python3.11/site-packages (from torch>=2.0.0->accelerate) (9.1.0.70)\n",
      "Requirement already satisfied: nvidia-cublas-cu12==12.4.5.8 in /home/zach/anaconda3/envs/bertopic/lib/python3.11/site-packages (from torch>=2.0.0->accelerate) (12.4.5.8)\n",
      "Requirement already satisfied: nvidia-cufft-cu12==11.2.1.3 in /home/zach/anaconda3/envs/bertopic/lib/python3.11/site-packages (from torch>=2.0.0->accelerate) (11.2.1.3)\n",
      "Requirement already satisfied: nvidia-curand-cu12==10.3.5.147 in /home/zach/anaconda3/envs/bertopic/lib/python3.11/site-packages (from torch>=2.0.0->accelerate) (10.3.5.147)\n",
      "Requirement already satisfied: nvidia-cusolver-cu12==11.6.1.9 in /home/zach/anaconda3/envs/bertopic/lib/python3.11/site-packages (from torch>=2.0.0->accelerate) (11.6.1.9)\n",
      "Requirement already satisfied: nvidia-cusparse-cu12==12.3.1.170 in /home/zach/anaconda3/envs/bertopic/lib/python3.11/site-packages (from torch>=2.0.0->accelerate) (12.3.1.170)\n",
      "Requirement already satisfied: nvidia-nccl-cu12==2.21.5 in /home/zach/anaconda3/envs/bertopic/lib/python3.11/site-packages (from torch>=2.0.0->accelerate) (2.21.5)\n",
      "Requirement already satisfied: nvidia-nvtx-cu12==12.4.127 in /home/zach/anaconda3/envs/bertopic/lib/python3.11/site-packages (from torch>=2.0.0->accelerate) (12.4.127)\n",
      "Requirement already satisfied: nvidia-nvjitlink-cu12==12.4.127 in /home/zach/anaconda3/envs/bertopic/lib/python3.11/site-packages (from torch>=2.0.0->accelerate) (12.4.127)\n",
      "Requirement already satisfied: triton==3.1.0 in /home/zach/anaconda3/envs/bertopic/lib/python3.11/site-packages (from torch>=2.0.0->accelerate) (3.1.0)\n",
      "Requirement already satisfied: sympy==1.13.1 in /home/zach/anaconda3/envs/bertopic/lib/python3.11/site-packages (from torch>=2.0.0->accelerate) (1.13.1)\n",
      "Requirement already satisfied: mpmath<1.4,>=1.1.0 in /home/zach/anaconda3/envs/bertopic/lib/python3.11/site-packages (from sympy==1.13.1->torch>=2.0.0->accelerate) (1.3.0)\n",
      "Requirement already satisfied: parso<0.9.0,>=0.8.4 in /home/zach/anaconda3/envs/bertopic/lib/python3.11/site-packages (from jedi>=0.16->ipython>=6.1.0->ipywidgets) (0.8.4)\n",
      "Requirement already satisfied: ptyprocess>=0.5 in /home/zach/anaconda3/envs/bertopic/lib/python3.11/site-packages (from pexpect>4.3->ipython>=6.1.0->ipywidgets) (0.7.0)\n",
      "Requirement already satisfied: wcwidth in /home/zach/anaconda3/envs/bertopic/lib/python3.11/site-packages (from prompt_toolkit<3.1.0,>=3.0.41->ipython>=6.1.0->ipywidgets) (0.2.13)\n",
      "Requirement already satisfied: MarkupSafe>=2.0 in /home/zach/anaconda3/envs/bertopic/lib/python3.11/site-packages (from jinja2->torch>=2.0.0->accelerate) (3.0.2)\n",
      "Requirement already satisfied: executing>=1.2.0 in /home/zach/anaconda3/envs/bertopic/lib/python3.11/site-packages (from stack_data->ipython>=6.1.0->ipywidgets) (2.1.0)\n",
      "Requirement already satisfied: asttokens>=2.1.0 in /home/zach/anaconda3/envs/bertopic/lib/python3.11/site-packages (from stack_data->ipython>=6.1.0->ipywidgets) (3.0.0)\n",
      "Requirement already satisfied: pure_eval in /home/zach/anaconda3/envs/bertopic/lib/python3.11/site-packages (from stack_data->ipython>=6.1.0->ipywidgets) (0.2.3)\n",
      "Using cached datasets-3.2.0-py3-none-any.whl (480 kB)\n",
      "Using cached evaluate-0.4.3-py3-none-any.whl (84 kB)\n",
      "Using cached accelerate-1.3.0-py3-none-any.whl (336 kB)\n",
      "Using cached dill-0.3.8-py3-none-any.whl (116 kB)\n",
      "Using cached fsspec-2024.9.0-py3-none-any.whl (179 kB)\n",
      "Using cached aiohttp-3.11.11-cp311-cp311-manylinux_2_17_x86_64.manylinux2014_x86_64.whl (1.7 MB)\n",
      "Using cached multiprocess-0.70.16-py311-none-any.whl (143 kB)\n",
      "Using cached pyarrow-19.0.0-cp311-cp311-manylinux_2_28_x86_64.whl (42.1 MB)\n",
      "Using cached xxhash-3.5.0-cp311-cp311-manylinux_2_17_x86_64.manylinux2014_x86_64.whl (194 kB)\n",
      "Using cached aiohappyeyeballs-2.4.4-py3-none-any.whl (14 kB)\n",
      "Using cached aiosignal-1.3.2-py2.py3-none-any.whl (7.6 kB)\n",
      "Using cached frozenlist-1.5.0-cp311-cp311-manylinux_2_5_x86_64.manylinux1_x86_64.manylinux_2_17_x86_64.manylinux2014_x86_64.whl (274 kB)\n",
      "Using cached multidict-6.1.0-cp311-cp311-manylinux_2_17_x86_64.manylinux2014_x86_64.whl (129 kB)\n",
      "Using cached propcache-0.2.1-cp311-cp311-manylinux_2_17_x86_64.manylinux2014_x86_64.whl (231 kB)\n",
      "Using cached yarl-1.18.3-cp311-cp311-manylinux_2_17_x86_64.manylinux2014_x86_64.whl (344 kB)\n",
      "Installing collected packages: xxhash, pyarrow, propcache, multidict, fsspec, frozenlist, dill, aiohappyeyeballs, yarl, multiprocess, aiosignal, aiohttp, accelerate, datasets, evaluate\n",
      "  Attempting uninstall: fsspec\n",
      "    Found existing installation: fsspec 2024.12.0\n",
      "    Uninstalling fsspec-2024.12.0:\n",
      "      Successfully uninstalled fsspec-2024.12.0\n",
      "Successfully installed accelerate-1.3.0 aiohappyeyeballs-2.4.4 aiohttp-3.11.11 aiosignal-1.3.2 datasets-3.2.0 dill-0.3.8 evaluate-0.4.3 frozenlist-1.5.0 fsspec-2024.9.0 multidict-6.1.0 multiprocess-0.70.16 propcache-0.2.1 pyarrow-19.0.0 xxhash-3.5.0 yarl-1.18.3\n",
      "Note: you may need to restart the kernel to use updated packages.\n"
     ]
    }
   ],
   "source": [
    "pip install pandas matplotlib datasets evaluate accelerate scikit-learn ipywidgets numpy"
   ]
  },
  {
   "cell_type": "code",
   "execution_count": 2,
   "metadata": {},
   "outputs": [
    {
     "name": "stdout",
     "output_type": "stream",
     "text": [
      "Requirement already satisfied: transformers[torch] in /home/zach/anaconda3/envs/bertopic/lib/python3.11/site-packages (4.48.1)\n",
      "Requirement already satisfied: filelock in /home/zach/anaconda3/envs/bertopic/lib/python3.11/site-packages (from transformers[torch]) (3.17.0)\n",
      "Requirement already satisfied: huggingface-hub<1.0,>=0.24.0 in /home/zach/anaconda3/envs/bertopic/lib/python3.11/site-packages (from transformers[torch]) (0.27.1)\n",
      "Requirement already satisfied: numpy>=1.17 in /home/zach/anaconda3/envs/bertopic/lib/python3.11/site-packages (from transformers[torch]) (2.0.1)\n",
      "Requirement already satisfied: packaging>=20.0 in /home/zach/anaconda3/envs/bertopic/lib/python3.11/site-packages (from transformers[torch]) (24.2)\n",
      "Requirement already satisfied: pyyaml>=5.1 in /home/zach/anaconda3/envs/bertopic/lib/python3.11/site-packages (from transformers[torch]) (6.0.2)\n",
      "Requirement already satisfied: regex!=2019.12.17 in /home/zach/anaconda3/envs/bertopic/lib/python3.11/site-packages (from transformers[torch]) (2024.11.6)\n",
      "Requirement already satisfied: requests in /home/zach/anaconda3/envs/bertopic/lib/python3.11/site-packages (from transformers[torch]) (2.32.3)\n",
      "Requirement already satisfied: tokenizers<0.22,>=0.21 in /home/zach/anaconda3/envs/bertopic/lib/python3.11/site-packages (from transformers[torch]) (0.21.0)\n",
      "Requirement already satisfied: safetensors>=0.4.1 in /home/zach/anaconda3/envs/bertopic/lib/python3.11/site-packages (from transformers[torch]) (0.5.2)\n",
      "Requirement already satisfied: tqdm>=4.27 in /home/zach/anaconda3/envs/bertopic/lib/python3.11/site-packages (from transformers[torch]) (4.67.1)\n",
      "Requirement already satisfied: torch>=2.0 in /home/zach/anaconda3/envs/bertopic/lib/python3.11/site-packages (from transformers[torch]) (2.5.1)\n",
      "Requirement already satisfied: accelerate>=0.26.0 in /home/zach/anaconda3/envs/bertopic/lib/python3.11/site-packages (from transformers[torch]) (1.3.0)\n",
      "Requirement already satisfied: psutil in /home/zach/anaconda3/envs/bertopic/lib/python3.11/site-packages (from accelerate>=0.26.0->transformers[torch]) (6.1.1)\n",
      "Requirement already satisfied: fsspec>=2023.5.0 in /home/zach/anaconda3/envs/bertopic/lib/python3.11/site-packages (from huggingface-hub<1.0,>=0.24.0->transformers[torch]) (2024.9.0)\n",
      "Requirement already satisfied: typing-extensions>=3.7.4.3 in /home/zach/anaconda3/envs/bertopic/lib/python3.11/site-packages (from huggingface-hub<1.0,>=0.24.0->transformers[torch]) (4.12.2)\n",
      "Requirement already satisfied: networkx in /home/zach/anaconda3/envs/bertopic/lib/python3.11/site-packages (from torch>=2.0->transformers[torch]) (3.4.2)\n",
      "Requirement already satisfied: jinja2 in /home/zach/anaconda3/envs/bertopic/lib/python3.11/site-packages (from torch>=2.0->transformers[torch]) (3.1.5)\n",
      "Requirement already satisfied: nvidia-cuda-nvrtc-cu12==12.4.127 in /home/zach/anaconda3/envs/bertopic/lib/python3.11/site-packages (from torch>=2.0->transformers[torch]) (12.4.127)\n",
      "Requirement already satisfied: nvidia-cuda-runtime-cu12==12.4.127 in /home/zach/anaconda3/envs/bertopic/lib/python3.11/site-packages (from torch>=2.0->transformers[torch]) (12.4.127)\n",
      "Requirement already satisfied: nvidia-cuda-cupti-cu12==12.4.127 in /home/zach/anaconda3/envs/bertopic/lib/python3.11/site-packages (from torch>=2.0->transformers[torch]) (12.4.127)\n",
      "Requirement already satisfied: nvidia-cudnn-cu12==9.1.0.70 in /home/zach/anaconda3/envs/bertopic/lib/python3.11/site-packages (from torch>=2.0->transformers[torch]) (9.1.0.70)\n",
      "Requirement already satisfied: nvidia-cublas-cu12==12.4.5.8 in /home/zach/anaconda3/envs/bertopic/lib/python3.11/site-packages (from torch>=2.0->transformers[torch]) (12.4.5.8)\n",
      "Requirement already satisfied: nvidia-cufft-cu12==11.2.1.3 in /home/zach/anaconda3/envs/bertopic/lib/python3.11/site-packages (from torch>=2.0->transformers[torch]) (11.2.1.3)\n",
      "Requirement already satisfied: nvidia-curand-cu12==10.3.5.147 in /home/zach/anaconda3/envs/bertopic/lib/python3.11/site-packages (from torch>=2.0->transformers[torch]) (10.3.5.147)\n",
      "Requirement already satisfied: nvidia-cusolver-cu12==11.6.1.9 in /home/zach/anaconda3/envs/bertopic/lib/python3.11/site-packages (from torch>=2.0->transformers[torch]) (11.6.1.9)\n",
      "Requirement already satisfied: nvidia-cusparse-cu12==12.3.1.170 in /home/zach/anaconda3/envs/bertopic/lib/python3.11/site-packages (from torch>=2.0->transformers[torch]) (12.3.1.170)\n",
      "Requirement already satisfied: nvidia-nccl-cu12==2.21.5 in /home/zach/anaconda3/envs/bertopic/lib/python3.11/site-packages (from torch>=2.0->transformers[torch]) (2.21.5)\n",
      "Requirement already satisfied: nvidia-nvtx-cu12==12.4.127 in /home/zach/anaconda3/envs/bertopic/lib/python3.11/site-packages (from torch>=2.0->transformers[torch]) (12.4.127)\n",
      "Requirement already satisfied: nvidia-nvjitlink-cu12==12.4.127 in /home/zach/anaconda3/envs/bertopic/lib/python3.11/site-packages (from torch>=2.0->transformers[torch]) (12.4.127)\n",
      "Requirement already satisfied: triton==3.1.0 in /home/zach/anaconda3/envs/bertopic/lib/python3.11/site-packages (from torch>=2.0->transformers[torch]) (3.1.0)\n",
      "Requirement already satisfied: sympy==1.13.1 in /home/zach/anaconda3/envs/bertopic/lib/python3.11/site-packages (from torch>=2.0->transformers[torch]) (1.13.1)\n",
      "Requirement already satisfied: mpmath<1.4,>=1.1.0 in /home/zach/anaconda3/envs/bertopic/lib/python3.11/site-packages (from sympy==1.13.1->torch>=2.0->transformers[torch]) (1.3.0)\n",
      "Requirement already satisfied: charset-normalizer<4,>=2 in /home/zach/anaconda3/envs/bertopic/lib/python3.11/site-packages (from requests->transformers[torch]) (3.4.1)\n",
      "Requirement already satisfied: idna<4,>=2.5 in /home/zach/anaconda3/envs/bertopic/lib/python3.11/site-packages (from requests->transformers[torch]) (3.10)\n",
      "Requirement already satisfied: urllib3<3,>=1.21.1 in /home/zach/anaconda3/envs/bertopic/lib/python3.11/site-packages (from requests->transformers[torch]) (2.3.0)\n",
      "Requirement already satisfied: certifi>=2017.4.17 in /home/zach/anaconda3/envs/bertopic/lib/python3.11/site-packages (from requests->transformers[torch]) (2024.12.14)\n",
      "Requirement already satisfied: MarkupSafe>=2.0 in /home/zach/anaconda3/envs/bertopic/lib/python3.11/site-packages (from jinja2->torch>=2.0->transformers[torch]) (3.0.2)\n",
      "Note: you may need to restart the kernel to use updated packages.\n"
     ]
    }
   ],
   "source": [
    "pip install 'transformers[torch]'"
   ]
  },
  {
   "cell_type": "code",
   "execution_count": 3,
   "metadata": {},
   "outputs": [],
   "source": [
    "\n",
    "## import necessary libraries \n",
    "import pandas as pd\n",
    "from transformers import pipeline\n",
    "import matplotlib.pyplot as plt\n",
    "import numpy as np"
   ]
  },
  {
   "cell_type": "markdown",
   "metadata": {},
   "source": [
    "# read in the data"
   ]
  },
  {
   "cell_type": "code",
   "execution_count": null,
   "metadata": {},
   "outputs": [
    {
     "data": {
      "text/html": [
       "<div>\n",
       "<style scoped>\n",
       "    .dataframe tbody tr th:only-of-type {\n",
       "        vertical-align: middle;\n",
       "    }\n",
       "\n",
       "    .dataframe tbody tr th {\n",
       "        vertical-align: top;\n",
       "    }\n",
       "\n",
       "    .dataframe thead th {\n",
       "        text-align: right;\n",
       "    }\n",
       "</style>\n",
       "<table border=\"1\" class=\"dataframe\">\n",
       "  <thead>\n",
       "    <tr style=\"text-align: right;\">\n",
       "      <th></th>\n",
       "      <th>category</th>\n",
       "      <th>filename</th>\n",
       "      <th>title</th>\n",
       "      <th>content</th>\n",
       "    </tr>\n",
       "  </thead>\n",
       "  <tbody>\n",
       "    <tr>\n",
       "      <th>0</th>\n",
       "      <td>business</td>\n",
       "      <td>001.txt</td>\n",
       "      <td>Ad sales boost Time Warner profit</td>\n",
       "      <td>Quarterly profits at US media giant TimeWarne...</td>\n",
       "    </tr>\n",
       "    <tr>\n",
       "      <th>1</th>\n",
       "      <td>business</td>\n",
       "      <td>002.txt</td>\n",
       "      <td>Dollar gains on Greenspan speech</td>\n",
       "      <td>The dollar has hit its highest level against ...</td>\n",
       "    </tr>\n",
       "    <tr>\n",
       "      <th>2</th>\n",
       "      <td>business</td>\n",
       "      <td>003.txt</td>\n",
       "      <td>Yukos unit buyer faces loan claim</td>\n",
       "      <td>The owners of embattled Russian oil giant Yuk...</td>\n",
       "    </tr>\n",
       "    <tr>\n",
       "      <th>3</th>\n",
       "      <td>business</td>\n",
       "      <td>004.txt</td>\n",
       "      <td>High fuel prices hit BA's profits</td>\n",
       "      <td>British Airways has blamed high fuel prices f...</td>\n",
       "    </tr>\n",
       "    <tr>\n",
       "      <th>4</th>\n",
       "      <td>business</td>\n",
       "      <td>005.txt</td>\n",
       "      <td>Pernod takeover talk lifts Domecq</td>\n",
       "      <td>Shares in UK drinks and food firm Allied Dome...</td>\n",
       "    </tr>\n",
       "    <tr>\n",
       "      <th>...</th>\n",
       "      <td>...</td>\n",
       "      <td>...</td>\n",
       "      <td>...</td>\n",
       "      <td>...</td>\n",
       "    </tr>\n",
       "    <tr>\n",
       "      <th>2220</th>\n",
       "      <td>tech</td>\n",
       "      <td>397.txt</td>\n",
       "      <td>BT program to beat dialler scams</td>\n",
       "      <td>BT is introducing two initiatives to help bea...</td>\n",
       "    </tr>\n",
       "    <tr>\n",
       "      <th>2221</th>\n",
       "      <td>tech</td>\n",
       "      <td>398.txt</td>\n",
       "      <td>Spam e-mails tempt net shoppers</td>\n",
       "      <td>Computer users across the world continue to i...</td>\n",
       "    </tr>\n",
       "    <tr>\n",
       "      <th>2222</th>\n",
       "      <td>tech</td>\n",
       "      <td>399.txt</td>\n",
       "      <td>Be careful how you code</td>\n",
       "      <td>A new European directive could put software w...</td>\n",
       "    </tr>\n",
       "    <tr>\n",
       "      <th>2223</th>\n",
       "      <td>tech</td>\n",
       "      <td>400.txt</td>\n",
       "      <td>US cyber security chief resigns</td>\n",
       "      <td>The man making sure US computer networks are ...</td>\n",
       "    </tr>\n",
       "    <tr>\n",
       "      <th>2224</th>\n",
       "      <td>tech</td>\n",
       "      <td>401.txt</td>\n",
       "      <td>Losing yourself in online gaming</td>\n",
       "      <td>Online role playing games are time-consuming,...</td>\n",
       "    </tr>\n",
       "  </tbody>\n",
       "</table>\n",
       "<p>2225 rows × 4 columns</p>\n",
       "</div>"
      ],
      "text/plain": [
       "      category filename                              title  \\\n",
       "0     business  001.txt  Ad sales boost Time Warner profit   \n",
       "1     business  002.txt   Dollar gains on Greenspan speech   \n",
       "2     business  003.txt  Yukos unit buyer faces loan claim   \n",
       "3     business  004.txt  High fuel prices hit BA's profits   \n",
       "4     business  005.txt  Pernod takeover talk lifts Domecq   \n",
       "...        ...      ...                                ...   \n",
       "2220      tech  397.txt   BT program to beat dialler scams   \n",
       "2221      tech  398.txt    Spam e-mails tempt net shoppers   \n",
       "2222      tech  399.txt            Be careful how you code   \n",
       "2223      tech  400.txt    US cyber security chief resigns   \n",
       "2224      tech  401.txt   Losing yourself in online gaming   \n",
       "\n",
       "                                                content  \n",
       "0      Quarterly profits at US media giant TimeWarne...  \n",
       "1      The dollar has hit its highest level against ...  \n",
       "2      The owners of embattled Russian oil giant Yuk...  \n",
       "3      British Airways has blamed high fuel prices f...  \n",
       "4      Shares in UK drinks and food firm Allied Dome...  \n",
       "...                                                 ...  \n",
       "2220   BT is introducing two initiatives to help bea...  \n",
       "2221   Computer users across the world continue to i...  \n",
       "2222   A new European directive could put software w...  \n",
       "2223   The man making sure US computer networks are ...  \n",
       "2224   Online role playing games are time-consuming,...  \n",
       "\n",
       "[2225 rows x 4 columns]"
      ]
     },
     "execution_count": 4,
     "metadata": {},
     "output_type": "execute_result"
    }
   ],
   "source": [
    "### download the dataset here: https://www.kaggle.com/datasets/hgultekin/bbcnewsarchive\n",
    "##### After downloading, you can drag it to the colab space locally. Once it's uploaded,\n",
    "##### you can right click the file and copy the path and replace the path below to read\n",
    "##### it into the notebook\n",
    "\n",
    "file_path = '..data/bbc-news-data.csv'\n",
    "\n",
    "\n",
    "bbc_data = pd.read_csv(file_path, sep='\\t')\n",
    "bbc_data"
   ]
  },
  {
   "cell_type": "markdown",
   "metadata": {},
   "source": [
    "## let's look at a sample of an article"
   ]
  },
  {
   "cell_type": "code",
   "execution_count": 5,
   "metadata": {},
   "outputs": [
    {
     "name": "stdout",
     "output_type": "stream",
     "text": [
      " Celtic's Neil Lennon admits Rangers could be considered \"slight favourites\" for the Old Firm CIS Cup clash, but insists his side can still win.  Lennon concedes Rangers are in good form at the moment, but they have failed to beat Celtic in their last seven meetings. \"Rangers are on the up and have been on a good run in recent weeks,\" he said. \"But it's a game we believe we're capable of winning if we play our best,\" he told the Evening Times. \"All the boys are looking forward to it because they are brilliant games to be involved in. \"Without playing at the top of our game, we have still been winning matches. \"At the minute, we are at the top of the league and still in with a chance of staying in Europe, so I don't think it is the crisis people have been trying to make out. \"Of course, it is a concern when you are losing goals, because we have been notorious for being a team that is hard to beat and keeping clean sheets, but hopefully we are over that wee run. \"Considering we lost Henrik Larsson at the end of last season, we have still been scoring a lot of goals, which is pleasing.\" \n"
     ]
    }
   ],
   "source": [
    "print(bbc_data['content'].sample(1).values[0])"
   ]
  },
  {
   "cell_type": "markdown",
   "metadata": {},
   "source": [
    "## which categories are available in the dataset? "
   ]
  },
  {
   "cell_type": "code",
   "execution_count": 6,
   "metadata": {},
   "outputs": [
    {
     "data": {
      "text/plain": [
       "category\n",
       "sport            511\n",
       "business         510\n",
       "politics         417\n",
       "tech             401\n",
       "entertainment    386\n",
       "Name: count, dtype: int64"
      ]
     },
     "execution_count": 6,
     "metadata": {},
     "output_type": "execute_result"
    }
   ],
   "source": [
    "bbc_data['category'].value_counts()"
   ]
  },
  {
   "cell_type": "code",
   "execution_count": 7,
   "metadata": {},
   "outputs": [
    {
     "data": {
      "text/plain": [
       "<Axes: xlabel='category'>"
      ]
     },
     "execution_count": 7,
     "metadata": {},
     "output_type": "execute_result"
    },
    {
     "data": {
      "image/png": "[encoded data removed]",
      "text/plain": [
       "<Figure size 640x480 with 1 Axes>"
      ]
     },
     "metadata": {},
     "output_type": "display_data"
    }
   ],
   "source": [
    "bbc_data['category'].value_counts().plot(kind='bar')"
   ]
  },
  {
   "cell_type": "markdown",
   "metadata": {},
   "source": [
    "# let's prepare the dataset for fine-tuning"
   ]
  },
  {
   "cell_type": "code",
   "execution_count": 8,
   "metadata": {},
   "outputs": [],
   "source": [
    "## we'll convert the labels from the BBC dataset to numbers (integers) for the model\n",
    "label_dict = {\n",
    "    'sport': 1,\n",
    "    'politics': 2,\n",
    "    'business': 3,\n",
    "    'tech': 4,\n",
    "    'entertainment': 5\n",
    "}"
   ]
  },
  {
   "cell_type": "code",
   "execution_count": 9,
   "metadata": {},
   "outputs": [],
   "source": [
    "# let's map the labels to the integers - we'll create a new column called 'labels'\n",
    "bbc_data['labels'] = bbc_data['category'].map(label_dict)"
   ]
  },
  {
   "cell_type": "code",
   "execution_count": 10,
   "metadata": {},
   "outputs": [
    {
     "data": {
      "text/plain": [
       "<Axes: >"
      ]
     },
     "execution_count": 10,
     "metadata": {},
     "output_type": "execute_result"
    },
    {
     "data": {
      "image/png": "[encoded data removed]",
      "text/plain": [
       "<Figure size 640x480 with 1 Axes>"
      ]
     },
     "metadata": {},
     "output_type": "display_data"
    }
   ],
   "source": [
    "bbc_data.labels.hist()"
   ]
  },
  {
   "cell_type": "markdown",
   "metadata": {},
   "source": []
  },
  {
   "cell_type": "code",
   "execution_count": 11,
   "metadata": {},
   "outputs": [],
   "source": [
    "# rename the columns to `label` and `text`\n",
    "bbc_data.rename(columns={'content': 'text'}, inplace=True)\n",
    "# convert the labels to categorical codes\n",
    "bbc_data['labels'] = pd.Categorical(bbc_data['labels']).codes"
   ]
  },
  {
   "cell_type": "markdown",
   "metadata": {},
   "source": [
    "## let's import the BERT model"
   ]
  },
  {
   "cell_type": "code",
   "execution_count": 12,
   "metadata": {},
   "outputs": [],
   "source": [
    "## we'll split the dataset into train/test sets\n",
    "from sklearn.model_selection import train_test_split\n",
    "\n",
    "train, test = train_test_split(bbc_data, test_size=.2)"
   ]
  },
  {
   "cell_type": "code",
   "execution_count": 13,
   "metadata": {},
   "outputs": [],
   "source": [
    "## we'll convert the pandas dataframe to a dataset using the Dataset library (https://huggingface.co/docs/datasets/en/index)\n",
    "## we'll create another train/eval split to use when training the model\n",
    "from datasets import Dataset\n",
    "dataset = Dataset.from_pandas(train[['text', 'labels']]).train_test_split(test_size=0.3)"
   ]
  },
  {
   "cell_type": "code",
   "execution_count": 14,
   "metadata": {},
   "outputs": [
    {
     "data": {
      "text/plain": [
       "DatasetDict({\n",
       "    train: Dataset({\n",
       "        features: ['text', 'labels', '__index_level_0__'],\n",
       "        num_rows: 1246\n",
       "    })\n",
       "    test: Dataset({\n",
       "        features: ['text', 'labels', '__index_level_0__'],\n",
       "        num_rows: 534\n",
       "    })\n",
       "})"
      ]
     },
     "execution_count": 14,
     "metadata": {},
     "output_type": "execute_result"
    }
   ],
   "source": [
    "dataset"
   ]
  },
  {
   "cell_type": "code",
   "execution_count": 15,
   "metadata": {},
   "outputs": [
    {
     "data": {
      "application/vnd.jupyter.widget-view+json": {
       "model_id": "d066c5368cd74b4eab79931a8fd163c1",
       "version_major": 2,
       "version_minor": 0
      },
      "text/plain": [
       "Map:   0%|          | 0/1246 [00:00<?, ? examples/s]"
      ]
     },
     "metadata": {},
     "output_type": "display_data"
    },
    {
     "data": {
      "application/vnd.jupyter.widget-view+json": {
       "model_id": "0ebf810f6fb44ea6a8a54851be1df7c4",
       "version_major": 2,
       "version_minor": 0
      },
      "text/plain": [
       "Map:   0%|          | 0/534 [00:00<?, ? examples/s]"
      ]
     },
     "metadata": {},
     "output_type": "display_data"
    }
   ],
   "source": [
    "## we'll import a tokenizer to tokenize the text data\n",
    "\n",
    "from transformers import AutoTokenizer\n",
    "tokenizer = AutoTokenizer.from_pretrained(\"google-bert/bert-base-cased\") ## we'll use the BERT tokenize\n",
    "\n",
    "def tokenize_function(examples):\n",
    "    return tokenizer(examples[\"text\"], padding=\"max_length\", truncation=True)\n",
    "\n",
    "tokenized_dataset = dataset.map(tokenize_function, batched=True)"
   ]
  },
  {
   "cell_type": "code",
   "execution_count": 16,
   "metadata": {},
   "outputs": [
    {
     "name": "stderr",
     "output_type": "stream",
     "text": [
      "Some weights of BertForSequenceClassification were not initialized from the model checkpoint at google-bert/bert-base-cased and are newly initialized: ['classifier.bias', 'classifier.weight']\n",
      "You should probably TRAIN this model on a down-stream task to be able to use it for predictions and inference.\n"
     ]
    }
   ],
   "source": [
    "## we'll import the BERT Model from HuggingFace  https://huggingface.co/models\n",
    "\n",
    "from transformers import AutoModelForSequenceClassification\n",
    "\n",
    "number_of_labels = int(bbc_data['labels'].nunique())\n",
    "\n",
    "model = AutoModelForSequenceClassification.from_pretrained(\"google-bert/bert-base-cased\",num_labels=number_of_labels, torch_dtype=\"auto\")  ## make sure the number of labels in your dataset matches"
   ]
  },
  {
   "cell_type": "code",
   "execution_count": 17,
   "metadata": {},
   "outputs": [],
   "source": [
    "### there are many parameters that you can tune using the huggingface Trainer API\n",
    "### We'll use the standard recommended method of evaluating accuracy. Other methods are available according to the task\n",
    "\n",
    "from transformers import TrainingArguments\n",
    "import evaluate\n",
    "\n",
    "training_args = TrainingArguments(output_dir=\"test_trainer\")\n",
    "metric = evaluate.load(\"accuracy\")\n",
    "\n",
    "def compute_metrics(eval_pred):\n",
    "    logits, labels = eval_pred\n",
    "    predictions = np.argmax(logits, axis=-1)\n",
    "    return metric.compute(predictions=predictions, references=labels)"
   ]
  },
  {
   "cell_type": "code",
   "execution_count": 18,
   "metadata": {},
   "outputs": [],
   "source": [
    "## we'll set the evaluation strategy to each epoch\n",
    "from transformers import TrainingArguments, Trainer\n",
    "training_args = TrainingArguments(output_dir=\"test_trainer\", eval_strategy=\"epoch\")"
   ]
  },
  {
   "cell_type": "code",
   "execution_count": 19,
   "metadata": {},
   "outputs": [],
   "source": [
    "\n",
    "## create the trainer object\n",
    "\n",
    "trainer = Trainer(\n",
    "    model=model,\n",
    "    args=training_args,\n",
    "    train_dataset=tokenized_dataset['train'],\n",
    "    eval_dataset=tokenized_dataset['test'],\n",
    "    compute_metrics=compute_metrics,\n",
    ")"
   ]
  },
  {
   "cell_type": "code",
   "execution_count": 20,
   "metadata": {},
   "outputs": [
    {
     "data": {
      "text/html": [
       "\n",
       "    <div>\n",
       "      \n",
       "      <progress value='468' max='468' style='width:300px; height:20px; vertical-align: middle;'></progress>\n",
       "      [468/468 02:38, Epoch 3/3]\n",
       "    </div>\n",
       "    <table border=\"1\" class=\"dataframe\">\n",
       "  <thead>\n",
       " <tr style=\"text-align: left;\">\n",
       "      <th>Epoch</th>\n",
       "      <th>Training Loss</th>\n",
       "      <th>Validation Loss</th>\n",
       "      <th>Accuracy</th>\n",
       "    </tr>\n",
       "  </thead>\n",
       "  <tbody>\n",
       "    <tr>\n",
       "      <td>1</td>\n",
       "      <td>No log</td>\n",
       "      <td>0.093816</td>\n",
       "      <td>0.975655</td>\n",
       "    </tr>\n",
       "    <tr>\n",
       "      <td>2</td>\n",
       "      <td>No log</td>\n",
       "      <td>0.130921</td>\n",
       "      <td>0.977528</td>\n",
       "    </tr>\n",
       "    <tr>\n",
       "      <td>3</td>\n",
       "      <td>No log</td>\n",
       "      <td>0.102021</td>\n",
       "      <td>0.981273</td>\n",
       "    </tr>\n",
       "  </tbody>\n",
       "</table><p>"
      ],
      "text/plain": [
       "<IPython.core.display.HTML object>"
      ]
     },
     "metadata": {},
     "output_type": "display_data"
    },
    {
     "data": {
      "text/plain": [
       "TrainOutput(global_step=468, training_loss=0.13142760187132746, metrics={'train_runtime': 159.6255, 'train_samples_per_second': 23.417, 'train_steps_per_second': 2.932, 'total_flos': 983535616530432.0, 'train_loss': 0.13142760187132746, 'epoch': 3.0})"
      ]
     },
     "execution_count": 20,
     "metadata": {},
     "output_type": "execute_result"
    }
   ],
   "source": [
    "trainer.train()"
   ]
  },
  {
   "cell_type": "markdown",
   "metadata": {},
   "source": [
    "## Let's test the model with the sample text that it had never seen "
   ]
  },
  {
   "cell_type": "code",
   "execution_count": 21,
   "metadata": {},
   "outputs": [
    {
     "name": "stderr",
     "output_type": "stream",
     "text": [
      "Device set to use cuda:0\n"
     ]
    }
   ],
   "source": [
    "from transformers import TextClassificationPipeline\n",
    "\n",
    "classifier = TextClassificationPipeline(tokenizer=tokenizer,\n",
    "                                        model=model,\n",
    "                                        max_length = 512)"
   ]
  },
  {
   "cell_type": "code",
   "execution_count": 22,
   "metadata": {},
   "outputs": [
    {
     "data": {
      "text/plain": [
       "' Thailand has become the first of the 10 southern Asian nations battered by giant waves at the weekend to cut its economic forecast.  Thailand\\'s economy is now expected to grow by 5.7% in 2005, rather than 6% as forecast before tsunamis hit six tourist provinces. The full economic costs of the disaster remain unclear. In part, this is because of its scale, and because delivering aid and recovering the dead remain priorities. But Indonesian, Indian and Hong Kong stock markets reached record highs on Wednesday, suggesting that investors do not fear a major economic impact.  The highs showed the gap in outlook between investors in large firms and individuals who have lost their livelihoods.  Investors seemed to feel that some of the worst-affected areas - such as Aceh in Indonesia - were so under-developed that the tragedy would little impact on Asia\\'s listed companies, according to analysts. \"Obviously with a lot of loss of life, a lot of time is needed to clean up the mess, bury the people and find the missing. But it\\'s not necessarily a really big thing in the economic sense,\" said ABN Amro chief Asian strategist Eddie Wong. India\\'s Bombay Stock Exchange inched slightly above its previous record close on Wednesday. Expectations of strong corporate earnings in 2005 drove the Indonesian stock exchange in Jakarta to a record high on Wednesday. In Hong Kong, the Hang Seng index may be benefiting in part from the potential for its listed property companies to gain from rebuilding contracts in the tsunami-affected regions of South East Asia. In Sri Lanka, some economists have said that as much as 1% of annual growth may be lost. Sri Lanka\\'s stock market has fallen about 5% since the weekend, but it is still 40% higher than at the start of 2004.  Thailand may lose 30bn baht (£398m; $768m) in earnings from tourism over the next three months, according to tourism minister Sontaya Kunplome.  In the affected provinces, he expects the loss of tourism revenue to be offset by government reconstruction spending. Thailand intends to spend a similar sum - around 30bn baht - on the rebuilding work. \"It will take until the fourth quarter of next year before tourist visitors in Phuket and five other provinces return to their normal level,\" said Naris Chaiyasoot, director general at the ministry\\'s fiscal policy office. In the Maldives the cost of reconstruction could wipe out economic growth, according to a government spokesman. \"Our nation is in peril here,\" said Ahmed Shaheed, the chief government spokesman. He estimated the economic cost of the disaster at hundreds of millions of dollars. The Maldives has gross domestic product of $660m. \"It won\\'t be surprising if the cost exceeds our GDP,\" he said. \"In the last few years, we made great progress in our standard of living - the United Nations recognised this. Now we see this can disappear in a few days, a few minutes.\" Shaheed noted that investment in a single tourist resort - the economic mainstay - could run to $40m. Between 10 and 12 of the 80-odd resorts have been severely damaged, and a similar number have suffered significant damage. However, many experts, including the World Bank, have pointed out that it is still difficult to assess the magnitude of the disaster and its likely economic impact. '"
      ]
     },
     "execution_count": 22,
     "metadata": {},
     "output_type": "execute_result"
    }
   ],
   "source": [
    "test.text.sample(1).values[0]"
   ]
  },
  {
   "cell_type": "code",
   "execution_count": 23,
   "metadata": {},
   "outputs": [],
   "source": [
    "text = ' Net browser Opera 8.0, due for official release at the end of next month, will be \"the most accessible browser on the market\", according to its authors.  The latest version of the net browser can be controlled by voice command and will read pages aloud. The voice features, based on IBM technology, are currently only available in the Windows version. Opera can also magnify text by up to 10 times and users can create \"style sheets\", its developers say. This will enable them to view pages with colours and fonts that they prefer. But the browser does not yet work well with screen reader software often used by blind people, so its accessibility features are more likely to appeal to those with some residual vision. \"Our mission was always to provide the best internet experience for everyone,\" said Opera spokeswoman, Berit Hanson. \"So we would obviously not want to exclude disabled computer users.\"  Another feature likely to appeal to people with low vision is the ability to make pages fit to the screen width, which eliminates the need for horizontal scrolling.  The company points out that this will also appeal to anyone using Opera with a handheld device. The company says that features like voice activation are not solely aimed at visually impaired people. \"Our idea was to take a first step in making human-computer interaction more natural,\" said Ms Hanson. \"People are not always in a situation where they can access a keyboard, so this makes the web a more hands-free experience.\" Unlike commercially available voice recognition software, Opera does not have to be \"trained\" to recognise an individual voice. Around 50 voice commands are available and users will have to wear a headset which incorporates a microphone. The voice recognition function is currently only available in English. Opera is free to download but a paid-for version comes without an ad banner in the top right hand corner and with extra support. Opera began life as a research project - a spin-off from Norwegian telecoms company Telenor. Its browser is used by an estimated 10 million people on a variety of operating systems and a number of different platforms. '"
   ]
  },
  {
   "cell_type": "code",
   "execution_count": 24,
   "metadata": {},
   "outputs": [
    {
     "name": "stderr",
     "output_type": "stream",
     "text": [
      "Truncation was not explicitly activated but `max_length` is provided a specific value, please use `truncation=True` to explicitly truncate examples to max length. Defaulting to 'longest_first' truncation strategy. If you encode pairs of sequences (GLUE-style) with the tokenizer you can select this strategy more precisely by providing a specific strategy to `truncation`.\n"
     ]
    },
    {
     "data": {
      "text/plain": [
       "'LABEL_3'"
      ]
     },
     "execution_count": 24,
     "metadata": {},
     "output_type": "execute_result"
    }
   ],
   "source": [
    "classifier(text)[0]['label']"
   ]
  },
  {
   "cell_type": "code",
   "execution_count": 25,
   "metadata": {},
   "outputs": [
    {
     "name": "stderr",
     "output_type": "stream",
     "text": [
      "You seem to be using the pipelines sequentially on GPU. In order to maximize efficiency please use a dataset\n"
     ]
    }
   ],
   "source": [
    "# we'll use the classifier to predict the labels for the test set\n",
    "\n",
    "validation = []\n",
    "\n",
    "for text in test.text:\n",
    "    validation.append(classifier(text)[0]['label'])"
   ]
  },
  {
   "cell_type": "code",
   "execution_count": 26,
   "metadata": {},
   "outputs": [],
   "source": [
    "# create a new column in the test dataset with the predicted labels\n",
    "test['predicted'] = validation"
   ]
  },
  {
   "cell_type": "code",
   "execution_count": 27,
   "metadata": {},
   "outputs": [],
   "source": [
    "# convert the predicted labels to integers\n",
    "test['predicted_labels_integer'] = test.predicted.str.split('_').str.get(1).astype(int)"
   ]
  },
  {
   "cell_type": "code",
   "execution_count": 28,
   "metadata": {},
   "outputs": [
    {
     "data": {
      "text/html": [
       "<div>\n",
       "<style scoped>\n",
       "    .dataframe tbody tr th:only-of-type {\n",
       "        vertical-align: middle;\n",
       "    }\n",
       "\n",
       "    .dataframe tbody tr th {\n",
       "        vertical-align: top;\n",
       "    }\n",
       "\n",
       "    .dataframe thead th {\n",
       "        text-align: right;\n",
       "    }\n",
       "</style>\n",
       "<table border=\"1\" class=\"dataframe\">\n",
       "  <thead>\n",
       "    <tr style=\"text-align: right;\">\n",
       "      <th></th>\n",
       "      <th>category</th>\n",
       "      <th>filename</th>\n",
       "      <th>title</th>\n",
       "      <th>text</th>\n",
       "      <th>labels</th>\n",
       "      <th>predicted</th>\n",
       "      <th>predicted_labels_integer</th>\n",
       "    </tr>\n",
       "  </thead>\n",
       "  <tbody>\n",
       "    <tr>\n",
       "      <th>1681</th>\n",
       "      <td>sport</td>\n",
       "      <td>369.txt</td>\n",
       "      <td>South Africa sweep top awards</td>\n",
       "      <td>South Africa's Schalk Burger was named player...</td>\n",
       "      <td>0</td>\n",
       "      <td>LABEL_0</td>\n",
       "      <td>0</td>\n",
       "    </tr>\n",
       "    <tr>\n",
       "      <th>702</th>\n",
       "      <td>entertainment</td>\n",
       "      <td>193.txt</td>\n",
       "      <td>CSI shows give 'unrealistic view'</td>\n",
       "      <td>People have unrealistic expectations of foren...</td>\n",
       "      <td>4</td>\n",
       "      <td>LABEL_4</td>\n",
       "      <td>4</td>\n",
       "    </tr>\n",
       "    <tr>\n",
       "      <th>880</th>\n",
       "      <td>entertainment</td>\n",
       "      <td>371.txt</td>\n",
       "      <td>Arnold congratulated on Oscar win</td>\n",
       "      <td>Oscar-winner Andrea Arnold has been congratul...</td>\n",
       "      <td>4</td>\n",
       "      <td>LABEL_4</td>\n",
       "      <td>4</td>\n",
       "    </tr>\n",
       "    <tr>\n",
       "      <th>1203</th>\n",
       "      <td>politics</td>\n",
       "      <td>308.txt</td>\n",
       "      <td>Tory 'stalking horse' Meyer dies</td>\n",
       "      <td>Sir Anthony Meyer, the Tory backbencher who c...</td>\n",
       "      <td>1</td>\n",
       "      <td>LABEL_1</td>\n",
       "      <td>1</td>\n",
       "    </tr>\n",
       "    <tr>\n",
       "      <th>1902</th>\n",
       "      <td>tech</td>\n",
       "      <td>079.txt</td>\n",
       "      <td>Software watching while you work</td>\n",
       "      <td>Software that can not only monitor every keys...</td>\n",
       "      <td>3</td>\n",
       "      <td>LABEL_3</td>\n",
       "      <td>3</td>\n",
       "    </tr>\n",
       "    <tr>\n",
       "      <th>...</th>\n",
       "      <td>...</td>\n",
       "      <td>...</td>\n",
       "      <td>...</td>\n",
       "      <td>...</td>\n",
       "      <td>...</td>\n",
       "      <td>...</td>\n",
       "      <td>...</td>\n",
       "    </tr>\n",
       "    <tr>\n",
       "      <th>493</th>\n",
       "      <td>business</td>\n",
       "      <td>494.txt</td>\n",
       "      <td>SEC to rethink post-Enron rules</td>\n",
       "      <td>The US stock market watchdog's chairman has s...</td>\n",
       "      <td>2</td>\n",
       "      <td>LABEL_2</td>\n",
       "      <td>2</td>\n",
       "    </tr>\n",
       "    <tr>\n",
       "      <th>1102</th>\n",
       "      <td>politics</td>\n",
       "      <td>207.txt</td>\n",
       "      <td>February poll claim 'speculation'</td>\n",
       "      <td>Reports that Tony Blair is planning a snap ge...</td>\n",
       "      <td>1</td>\n",
       "      <td>LABEL_1</td>\n",
       "      <td>1</td>\n",
       "    </tr>\n",
       "    <tr>\n",
       "      <th>807</th>\n",
       "      <td>entertainment</td>\n",
       "      <td>298.txt</td>\n",
       "      <td>Spider-Man creator wins profits</td>\n",
       "      <td>Spider-Man creator Stan Lee is to get a multi...</td>\n",
       "      <td>4</td>\n",
       "      <td>LABEL_4</td>\n",
       "      <td>4</td>\n",
       "    </tr>\n",
       "    <tr>\n",
       "      <th>515</th>\n",
       "      <td>entertainment</td>\n",
       "      <td>006.txt</td>\n",
       "      <td>Bennett play takes theatre prizes</td>\n",
       "      <td>The History Boys by Alan Bennett has been nam...</td>\n",
       "      <td>4</td>\n",
       "      <td>LABEL_4</td>\n",
       "      <td>4</td>\n",
       "    </tr>\n",
       "    <tr>\n",
       "      <th>1023</th>\n",
       "      <td>politics</td>\n",
       "      <td>128.txt</td>\n",
       "      <td>Brown shrugs off economy fears</td>\n",
       "      <td>Gordon Brown is to freeze petrol duty increas...</td>\n",
       "      <td>1</td>\n",
       "      <td>LABEL_1</td>\n",
       "      <td>1</td>\n",
       "    </tr>\n",
       "  </tbody>\n",
       "</table>\n",
       "<p>445 rows × 7 columns</p>\n",
       "</div>"
      ],
      "text/plain": [
       "           category filename                              title  \\\n",
       "1681          sport  369.txt      South Africa sweep top awards   \n",
       "702   entertainment  193.txt  CSI shows give 'unrealistic view'   \n",
       "880   entertainment  371.txt  Arnold congratulated on Oscar win   \n",
       "1203       politics  308.txt   Tory 'stalking horse' Meyer dies   \n",
       "1902           tech  079.txt   Software watching while you work   \n",
       "...             ...      ...                                ...   \n",
       "493        business  494.txt    SEC to rethink post-Enron rules   \n",
       "1102       politics  207.txt  February poll claim 'speculation'   \n",
       "807   entertainment  298.txt    Spider-Man creator wins profits   \n",
       "515   entertainment  006.txt  Bennett play takes theatre prizes   \n",
       "1023       politics  128.txt     Brown shrugs off economy fears   \n",
       "\n",
       "                                                   text  labels predicted  \\\n",
       "1681   South Africa's Schalk Burger was named player...       0   LABEL_0   \n",
       "702    People have unrealistic expectations of foren...       4   LABEL_4   \n",
       "880    Oscar-winner Andrea Arnold has been congratul...       4   LABEL_4   \n",
       "1203   Sir Anthony Meyer, the Tory backbencher who c...       1   LABEL_1   \n",
       "1902   Software that can not only monitor every keys...       3   LABEL_3   \n",
       "...                                                 ...     ...       ...   \n",
       "493    The US stock market watchdog's chairman has s...       2   LABEL_2   \n",
       "1102   Reports that Tony Blair is planning a snap ge...       1   LABEL_1   \n",
       "807    Spider-Man creator Stan Lee is to get a multi...       4   LABEL_4   \n",
       "515    The History Boys by Alan Bennett has been nam...       4   LABEL_4   \n",
       "1023   Gordon Brown is to freeze petrol duty increas...       1   LABEL_1   \n",
       "\n",
       "      predicted_labels_integer  \n",
       "1681                         0  \n",
       "702                          4  \n",
       "880                          4  \n",
       "1203                         1  \n",
       "1902                         3  \n",
       "...                        ...  \n",
       "493                          2  \n",
       "1102                         1  \n",
       "807                          4  \n",
       "515                          4  \n",
       "1023                         1  \n",
       "\n",
       "[445 rows x 7 columns]"
      ]
     },
     "execution_count": 28,
     "metadata": {},
     "output_type": "execute_result"
    }
   ],
   "source": [
    "test"
   ]
  },
  {
   "cell_type": "code",
   "execution_count": 29,
   "metadata": {},
   "outputs": [
    {
     "name": "stdout",
     "output_type": "stream",
     "text": [
      "              precision    recall  f1-score   support\n",
      "\n",
      "           0       1.00      1.00      1.00       109\n",
      "           1       0.97      0.94      0.96        68\n",
      "           2       0.97      0.97      0.97       114\n",
      "           3       0.97      0.97      0.97        77\n",
      "           4       0.97      1.00      0.99        77\n",
      "\n",
      "    accuracy                           0.98       445\n",
      "   macro avg       0.98      0.98      0.98       445\n",
      "weighted avg       0.98      0.98      0.98       445\n",
      "\n"
     ]
    }
   ],
   "source": [
    "from sklearn.metrics import classification_report\n",
    "print(classification_report(test.labels.values, test.predicted_labels_integer.values))"
   ]
  },
  {
   "cell_type": "code",
   "execution_count": 30,
   "metadata": {},
   "outputs": [
    {
     "data": {
      "text/plain": [
       "<sklearn.metrics._plot.confusion_matrix.ConfusionMatrixDisplay at 0x7167fffbbfd0>"
      ]
     },
     "execution_count": 30,
     "metadata": {},
     "output_type": "execute_result"
    },
    {
     "data": {
      "image/png": "[encoded data removed]",
      "text/plain": [
       "<Figure size 640x480 with 2 Axes>"
      ]
     },
     "metadata": {},
     "output_type": "display_data"
    }
   ],
   "source": [
    "from sklearn.metrics import confusion_matrix, ConfusionMatrixDisplay\n",
    "cm = confusion_matrix(test.labels.values, test.predicted_labels_integer.values)\n",
    "ConfusionMatrixDisplay(confusion_matrix=cm).plot()"
   ]
  },
  {
   "cell_type": "code",
   "execution_count": null,
   "metadata": {},
   "outputs": [],
   "source": []
  }
 ],
 "metadata": {
  "kernelspec": {
   "display_name": "bertopic",
   "language": "python",
   "name": "python3"
  },
  "language_info": {
   "codemirror_mode": {
    "name": "ipython",
    "version": 3
   },
   "file_extension": ".py",
   "mimetype": "text/x-python",
   "name": "python",
   "nbconvert_exporter": "python",
   "pygments_lexer": "ipython3",
   "version": "3.11.11"
  }
 },
 "nbformat": 4,
 "nbformat_minor": 2
}
